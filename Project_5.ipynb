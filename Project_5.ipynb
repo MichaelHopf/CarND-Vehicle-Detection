{
 "cells": [
  {
   "cell_type": "markdown",
   "metadata": {},
   "source": [
    "# Import Packages"
   ]
  },
  {
   "cell_type": "code",
   "execution_count": 1,
   "metadata": {
    "collapsed": true
   },
   "outputs": [],
   "source": [
    "import numpy as np\n",
    "import math\n",
    "import cv2\n",
    "import csv\n",
    "import matplotlib.image as mpimg\n",
    "import matplotlib.pyplot as plt\n",
    "%matplotlib inline\n",
    "\n",
    "from skimage.feature import hog\n",
    "import glob\n",
    "import time\n",
    "from sklearn.svm import LinearSVC\n",
    "from sklearn.preprocessing import StandardScaler\n",
    "from sklearn.model_selection import train_test_split\n",
    "from scipy.ndimage.measurements import label"
   ]
  },
  {
   "cell_type": "markdown",
   "metadata": {},
   "source": [
    "# Function from the lecture"
   ]
  },
  {
   "cell_type": "code",
   "execution_count": 97,
   "metadata": {
    "collapsed": true
   },
   "outputs": [],
   "source": [
    "def my_add_heat(heatmap, bbox_list, y):\n",
    "    # Iterate through list of bboxes\n",
    "    for i in range(len(bbox_list)):\n",
    "        box = bbox_list[i]\n",
    "        # Add += 1 for all pixels inside each bbox\n",
    "        # Assuming each \"box\" takes the form ((x1, y1), (x2, y2))\n",
    "#         print(int(y[i][0]))\n",
    "        #if math.isnan(y[i][0]) == 0 and int(y[i][0]) == 1:\n",
    "        if y[i][0]>0.9: \n",
    "            heatmap[box[0][1]:box[1][1], box[0][0]:box[1][0]] += 1\n",
    "\n",
    "    # Return updated heatmap\n",
    "    return heatmap# Iterate through list of bboxes\n",
    "    \n",
    "def apply_threshold(heatmap, threshold):\n",
    "    # Zero out pixels below the threshold\n",
    "    heatmap[heatmap <= threshold] = 0\n",
    "    # Return thresholded map\n",
    "    return heatmap\n",
    "\n",
    "def give_boxes(labels):\n",
    "    # Iterate through all detected cars\n",
    "    boxes = []\n",
    "    for car_number in range(1, labels[1]+1):\n",
    "        # Find pixels with each car_number label value\n",
    "        nonzero = (labels[0] == car_number).nonzero()\n",
    "        # Identify x and y values of those pixels\n",
    "        nonzeroy = np.array(nonzero[0])\n",
    "        nonzerox = np.array(nonzero[1])\n",
    "        # Define a bounding box based on min/max x and y\n",
    "        bbox = ((np.min(nonzerox), np.min(nonzeroy)), (np.max(nonzerox), np.max(nonzeroy)))\n",
    "        # Draw the box on the image\n",
    "        #cv2.rectangle(img, bbox[0], bbox[1], (0,0,255), 6)\n",
    "        boxes.append(bbox)\n",
    "    # Return the image\n",
    "    return boxes    \n",
    "\n",
    "def draw_labeled_bboxes(img, labels):\n",
    "    # Iterate through all detected cars\n",
    "    boxes = []\n",
    "    for car_number in range(1, labels[1]+1):\n",
    "        # Find pixels with each car_number label value\n",
    "        nonzero = (labels[0] == car_number).nonzero()\n",
    "        # Identify x and y values of those pixels\n",
    "        nonzeroy = np.array(nonzero[0])\n",
    "        nonzerox = np.array(nonzero[1])\n",
    "        # Define a bounding box based on min/max x and y\n",
    "        bbox = ((np.min(nonzerox), np.min(nonzeroy)), (np.max(nonzerox), np.max(nonzeroy)))\n",
    "        # Draw the box on the image\n",
    "        cv2.rectangle(img, bbox[0], bbox[1], (0,0,255), 6)\n",
    "        boxes.append(bbox)\n",
    "    # Return the image\n",
    "    return img, boxes\n",
    "\n",
    "# Define a function to draw bounding boxes\n",
    "def draw_boxes(img, bboxes, color=(0, 0, 255), thick=6):\n",
    "    # Make a copy of the image\n",
    "\n",
    "    imcopy = process_img_adv(np.copy(img), bboxes)\n",
    "\n",
    "#     imcopy = np.copy(img2)\n",
    "\n",
    "#     # Iterate through the bounding boxes\n",
    "#     for bbox in bboxes:\n",
    "#         # Draw a rectangle given bbox coordinates\n",
    "#         cv2.rectangle(imcopy, bbox[0], bbox[1], color, thick)\n",
    "#     # Return the image copy with boxes drawn\n",
    "    return imcopy"
   ]
  },
  {
   "cell_type": "markdown",
   "metadata": {},
   "source": [
    "# Sliding Window Function"
   ]
  },
  {
   "cell_type": "code",
   "execution_count": 10,
   "metadata": {
    "collapsed": true
   },
   "outputs": [],
   "source": [
    "# Define a function that takes an image,\n",
    "# start and stop positions in both x and y, \n",
    "# window size (x and y dimensions),  \n",
    "# and overlap fraction (for both x and y)\n",
    "def slide_window(img, x_start_stop=[600, None], y_start_stop=[None, None], \n",
    "                    xy_window=(64, 64), xy_overlap=(0.5, 0.5)):\n",
    "    # If x and/or y start/stop positions not defined, set to image size\n",
    "    if x_start_stop[0] == None:\n",
    "        x_start_stop[0] = 0\n",
    "    if x_start_stop[1] == None:\n",
    "        x_start_stop[1] = img.shape[1]\n",
    "    if y_start_stop[0] == None:\n",
    "        y_start_stop[0] = 0\n",
    "    if y_start_stop[1] == None:\n",
    "        y_start_stop[1] = img.shape[0]\n",
    "    # Compute the span of the region to be searched    \n",
    "    xspan = x_start_stop[1] - x_start_stop[0]\n",
    "    yspan = y_start_stop[1] - y_start_stop[0]\n",
    "    # Compute the number of pixels per step in x/y\n",
    "    nx_pix_per_step = np.int(xy_window[0]*(1 - xy_overlap[0]))\n",
    "    ny_pix_per_step = np.int(xy_window[1]*(1 - xy_overlap[1]))\n",
    "    # Compute the number of windows in x/y\n",
    "    nx_buffer = np.int(xy_window[0]*(xy_overlap[0]))\n",
    "    ny_buffer = np.int(xy_window[1]*(xy_overlap[1]))\n",
    "    nx_windows = np.int((xspan-nx_buffer)/nx_pix_per_step) \n",
    "    ny_windows = np.int((yspan-ny_buffer)/ny_pix_per_step) \n",
    "    # Initialize a list to append window positions to\n",
    "    window_list = []\n",
    "    # Loop through finding x and y window positions\n",
    "    # Note: you could vectorize this step, but in practice\n",
    "    # you'll be considering windows one by one with your\n",
    "    # classifier, so looping makes sense\n",
    "    for ys in range(ny_windows):\n",
    "        for xs in range(nx_windows):\n",
    "            # Calculate window position\n",
    "            startx = xs*nx_pix_per_step + x_start_stop[0]\n",
    "            endx = startx + xy_window[0]\n",
    "            starty = ys*ny_pix_per_step + y_start_stop[0]\n",
    "            endy = starty + xy_window[1]\n",
    "            \n",
    "            # Append window position to list\n",
    "            window_list.append(((startx, starty), (endx, endy)))\n",
    "    # Return the list of windows\n",
    "    return window_list\n"
   ]
  },
  {
   "cell_type": "code",
   "execution_count": 6,
   "metadata": {
    "scrolled": false
   },
   "outputs": [
    {
     "name": "stdout",
     "output_type": "stream",
     "text": [
      "There are 8792 car images in the dataset.\n",
      "There are 8968 not car images in the dataset\n",
      "0.694118\n"
     ]
    }
   ],
   "source": [
    "# Load Datasets\n",
    "car_names = []\n",
    "car_names += glob.glob('C:/Datasets/Vehicle_Detection/vehicles/GTI_MiddleClose/image*.png')\n",
    "car_names += glob.glob('C:/Datasets/Vehicle_Detection/vehicles/GTI_Far/image*.png')\n",
    "car_names += glob.glob('C:/Datasets/Vehicle_Detection/vehicles/GTI_Left/image*.png')\n",
    "car_names += glob.glob('C:/Datasets/Vehicle_Detection/vehicles/GTI_Right/image*.png')\n",
    "car_names += glob.glob('C:/Datasets/Vehicle_Detection/vehicles/KITTI_extracted/*.png')\n",
    "\n",
    "notcar_names = []\n",
    "notcar_names += glob.glob('C:/Datasets/Vehicle_Detection/non-vehicles/GTI/image*.png')\n",
    "notcar_names  += glob.glob('C:/Datasets/Vehicle_Detection/non-vehicles/Extras/extra*.png')\n",
    "\n",
    "print('There are {} car images in the dataset.'.format(len(car_names)))\n",
    "print('There are {} not car images in the dataset'.format(len(notcar_names)))\n",
    "\n",
    "cars = []\n",
    "for name in car_names:\n",
    "    car = mpimg.imread(name)\n",
    "#     car = np.uint8(car*255)\n",
    "    cars.append(car)\n",
    "notcars = []\n",
    "for name in notcar_names:\n",
    "    notcar = mpimg.imread(name)\n",
    "#     notcar = np.uint8(notcar*255)\n",
    "    notcars.append(notcar)\n",
    "\n",
    "print(np.max(cars[0]))\n"
   ]
  },
  {
   "cell_type": "markdown",
   "metadata": {},
   "source": [
    "# Prepare Data"
   ]
  },
  {
   "cell_type": "code",
   "execution_count": 12,
   "metadata": {
    "collapsed": true
   },
   "outputs": [],
   "source": [
    "from sklearn.model_selection import train_test_split\n",
    "\n",
    "# Define the labels vector\n",
    "y = np.hstack((np.ones(len(car_names)), np.zeros(len(notcar_names))))\n",
    "X = np.vstack((cars, notcars))\n",
    "\n",
    "# Split up data into randomized training and test sets\n",
    "rand_state = np.random.randint(0, 100)\n",
    "X_train, X_test, y_train, y_test = train_test_split(X, y, test_size=0.2, random_state=rand_state)"
   ]
  },
  {
   "cell_type": "markdown",
   "metadata": {},
   "source": [
    "# Train a CNN"
   ]
  },
  {
   "cell_type": "code",
   "execution_count": null,
   "metadata": {
    "collapsed": true,
    "scrolled": true
   },
   "outputs": [],
   "source": [
    "# Building and Training the model\n",
    "\n",
    "from keras.models import Sequential\n",
    "#from keras.layers import Flatten, Dense, Convolution2D\n",
    "from keras import *\n",
    "from keras.layers import Conv2D, AveragePooling2D, MaxPooling2D, Dropout, Lambda, Flatten, Dense, Reshape, Input, merge, normalization\n",
    "from keras.models import Model\n",
    "\n",
    "inp = Input(shape=(64,64,3))\n",
    "layer_1  = Lambda(lambda x: x - 0.5)(inp)\n",
    "layer_11 = MaxPooling2D()(layer_1)\n",
    "layer_2  = Conv2D(20, 3, 3, border_mode='same', activation='relu')(layer_11)\n",
    "layer_3  = Conv2D(5, 1, 1,  border_mode='same', activation='relu')(layer_11)\n",
    "layer_4  = Conv2D(15, 5, 5,border_mode='same', activation='relu')(layer_11)\n",
    "merge_1  = merge([layer_2, layer_3, layer_4], mode = 'concat', concat_axis = -1)\n",
    "max_pool = MaxPooling2D()(merge_1)\n",
    "max_pool  = normalization.BatchNormalization()(max_pool)\n",
    "layer_5  = Dropout(0.5)(max_pool)\n",
    "layer_6  = Conv2D(25,3,3, border_mode='same', activation='relu')(layer_5)\n",
    "layer_62 = MaxPooling2D()(layer_6)\n",
    "layer_62  = normalization.BatchNormalization()(layer_62)\n",
    "layer_7  = Flatten()(layer_62)\n",
    "layer_8  = Dense(50, activation='relu')(layer_7)\n",
    "layer_9  = Dropout(0.5)(layer_8)\n",
    "layer_10 = Dense(20, activation='relu')(layer_9)\n",
    "layer_11 = Dropout(0.5)(layer_10)\n",
    "outlayer = Dense(1, activation='sigmoid')(layer_11)\n",
    "\n",
    "model = model = Model(input=inp, output=outlayer)\n",
    "model.summary()\n",
    "\n",
    "model.compile(loss = 'binary_crossentropy', optimizer='adam', metrics=['binary_accuracy'])\n",
    "checkpointer = callbacks.ModelCheckpoint(filepath='C:/SDCND/CarND-Vehicle-Detection-Project-P5/best_model_so_far.hdf5', verbose=1, save_best_only=True)\n",
    "history_object = model.fit(X_train, y_train, validation_data=(X_test, y_test), batch_size = 128, shuffle = True, nb_epoch = 10, callbacks=[checkpointer])\n",
    "\n"
   ]
  },
  {
   "cell_type": "markdown",
   "metadata": {},
   "source": [
    "# My Pipeline"
   ]
  },
  {
   "cell_type": "code",
   "execution_count": 4,
   "metadata": {},
   "outputs": [
    {
     "name": "stderr",
     "output_type": "stream",
     "text": [
      "Using TensorFlow backend.\n"
     ]
    }
   ],
   "source": [
    "from keras.models import load_model\n",
    "\n",
    "\n",
    "model = load_model('./my_model_1.hdf5')\n",
    "model2= load_model('./my_model_2.hdf5')\n",
    "model4= load_model('./my_model_4.hdf5')\n",
    "model5= load_model('./my_model_5.hdf5')\n"
   ]
  },
  {
   "cell_type": "markdown",
   "metadata": {},
   "source": [
    "# The Pipe"
   ]
  },
  {
   "cell_type": "code",
   "execution_count": 12,
   "metadata": {
    "collapsed": true
   },
   "outputs": [],
   "source": [
    "from scipy.misc import imresize\n",
    "\n",
    "def pipeline(img):\n",
    "    #img = img.astype(np.float32)/255-0.5\n",
    "    y_dim, x_dim, depth = img.shape\n",
    "    #print('The max of img is {}'.format(np.max(img)))\n",
    "    outs = []\n",
    "    heatmap = np.zeros_like(img[:,:,0])\n",
    "    \n",
    "    sizes = [(90,50,500), (75,75,500), (150,75,500), (100,100,550), (200,100,600), (125,125,600),(150,150,660), (200,200,660)] #[(25,25,3), (50,50,3), (100,100,3), (125,125,3), (150,150,3)]\n",
    "    #sizes = [(150,150,3)]\n",
    "    #w_size = (100,100,3)\n",
    "    time1 = time.time()\n",
    "    n_windows = 0\n",
    "    for w_size in sizes:\n",
    "        window_list = slide_window(img, x_start_stop=[600, None], y_start_stop=[350, w_size[2]], \n",
    "                        xy_window=w_size[:2], xy_overlap=(0.6, 0.6))\n",
    "        n_windows += len(window_list)\n",
    "\n",
    "#         out = draw_boxes(img*255, window_list)\n",
    "#         outs.append(out)\n",
    "\n",
    "        pics = np.empty((64,64,3))\n",
    "\n",
    "        for window in window_list:\n",
    "            if len(pics.shape) < 4:\n",
    "                win = img[window[0][1]:window[1][1], window[0][0]:window[1][0]]\n",
    "                win = imresize(win, (64,64,3))/255\n",
    "                pics = np.stack((pics, win))\n",
    "            else:\n",
    "                win = img[window[0][1]:window[1][1], window[0][0]:window[1][0]]\n",
    "                win = imresize(win, (64,64,3))/255\n",
    "                win = np.expand_dims(win, axis=0)\n",
    "                pics = np.concatenate((pics, win), axis=0)\n",
    "\n",
    "        sol1 = model.predict(pics, batch_size=512)\n",
    "#         sol2 = model2.predict(pics, batch_size=512)\n",
    "#         sol4 = model4.predict(pics, batch_size=512)\n",
    "#         sol5 = model5.predict(pics, batch_size=512)\n",
    "#         sol = np.maximum(0, np.round(sol1)+np.round(sol2)+np.round(sol4)+np.round(sol5) -2)\n",
    "#         sol = np.minimum(1, sol)\n",
    "        sol = sol1\n",
    "        res = np.round(sol)  \n",
    "        heatmap = my_add_heat(heatmap, window_list, res)\n",
    "    time2 = time.time()\n",
    "    print('First net took {} many second to check {} many pictures.'.format(np.round(time2-time1,2), n_windows))\n",
    "    \n",
    "    return heatmap, sol, outs, res"
   ]
  },
  {
   "cell_type": "code",
   "execution_count": 51,
   "metadata": {},
   "outputs": [
    {
     "data": {
      "image/png": "[encoded data removed]",
      "text/plain": [
       "<matplotlib.figure.Figure at 0x1dfb05b8518>"
      ]
     },
     "metadata": {},
     "output_type": "display_data"
    }
   ],
   "source": [
    "for out in outs:\n",
    "    plt.figure()\n",
    "    plt.imshow(np.uint8(out))"
   ]
  },
  {
   "cell_type": "code",
   "execution_count": 99,
   "metadata": {},
   "outputs": [],
   "source": [
    "def process_img(img):   \n",
    "    global lab\n",
    "    global iteration\n",
    "    global car_centers\n",
    "    global history_boxes\n",
    "    \n",
    "    #img = process_img_adv(img)\n",
    "    \n",
    "    img = img.astype(np.float32)/255\n",
    "    heatmap, sol, outs, res = pipeline(img)\n",
    "    #print(np.max(heatmap))\n",
    "    heatmap = apply_threshold(heatmap, 6)\n",
    "\n",
    "    heatmaps.append(heatmap)\n",
    "    if iteration < 6: #6\n",
    "        iteration +=1\n",
    "        return np.uint8(img*255)\n",
    "    else:\n",
    "        H = np.sum(heatmaps, axis=0)\n",
    "        #print(np.max(H))\n",
    "        H = apply_threshold(H, 30)\n",
    "        heatmaps.pop(0)\n",
    "        labels = label(H)\n",
    "        lab.append(labels[1])\n",
    "        \n",
    "        boxes = give_boxes(labels) # in format (min(x),min(y); max(x),max(y))\n",
    "        print('currently {} many boxes'.format(len(boxes)))\n",
    "        \n",
    "        \n",
    "        # use belief\n",
    "        time1 = time.time()\n",
    "        accepted_boxes = []\n",
    "        car_centers_new = []\n",
    "        needed_belief = 10\n",
    "        for box in boxes:\n",
    "            ind = 0\n",
    "            box_accepted = 0\n",
    "            for car in car_centers: # (x,y,3) \n",
    "                if box[0][0] <= car[0] <= box[1][0] and box[0][1] <= car[1] <= box[1][1] and box[0][0] <= car[0]-10 <= box[1][0] and box[0][1] and box[0][0] <= car[0]+10 <= box[1][0] and box[0][1] and box[0][1] <= car[1]-10 <= box[1][1] and box[0][1] <= car[1]+10 <= box[1][1]:\n",
    "                    if car[2] >= needed_belief and box_accepted == 0:\n",
    "                        accepted_boxes.append(box)\n",
    "                        box_accepted = 1\n",
    "                    else:\n",
    "                        car[2] += 1\n",
    "                    car_centers_new.append(car)\n",
    "                    ind += 1\n",
    "            new_car = np.array([int(0.5*(box[0][0]+box[1][0])) , int(0.5*(box[0][1]+box[1][1])), 1])\n",
    "            car_centers_new.append(new_car)\n",
    "        \n",
    "        car_centers = car_centers_new\n",
    "        boxes = accepted_boxes\n",
    "        time2 = time.time()\n",
    "        print('After belief, still {} many boxes. It took {} many seconds.'.format(len(boxes), np.round(time2-time1,2)))\n",
    "        print('There are {} centers in the centers.'.format(len(car_centers)))\n",
    "        \n",
    "        \n",
    "        # Check the suggestions of the first neural net with an Ensemble of nets\n",
    "        final_boxes = []\n",
    "        margins = np.linspace(1,100,25)\n",
    "        factors = [2,2.5,3,3.5]\n",
    "        for box in boxes:\n",
    "            predicts = []\n",
    "            new_boxes = []\n",
    "            for margin in margins:\n",
    "                for factor in factors:\n",
    "                    predict, new_box = predict_margin(img, box, int(margin), factor)\n",
    "                    if np.round(predict) > 0.9:\n",
    "                        predicts.append(predict)\n",
    "                        new_boxes.append(new_box)\n",
    "            if len(new_boxes) > 0:\n",
    "                mean_box_list = np.mean(new_boxes[-4:], axis=0)\n",
    "                mean_box = ((int(mean_box_list[0][0]), int(mean_box_list[0][1])),(int(mean_box_list[1][0]), int(mean_box_list[1][1])))  \n",
    "                max_box = new_boxes[-1]\n",
    "                mean_box = np.mean([mean_box, max_box], axis=0)\n",
    "#                mean_box = new_boxes[-1]\n",
    "                final_boxes.append(mean_box)\n",
    "            else:                \n",
    "                print('Deleted Box!')\n",
    "        time3 = time.time()        \n",
    "        print('{} of {} boxes survived the Ensemble-Check! It took {} many seconds.'.format(len(final_boxes), len(boxes), np.round(time3-time2, 2)))\n",
    "        #draw_img, boxes = draw_labeled_bboxes(np.copy(np.uint8(img*255)), labels)\n",
    "        \n",
    "        \n",
    "        \n",
    "        if len(final_boxes) > 0:\n",
    "            \n",
    "            # combine boxes:\n",
    "            last_boxes = []\n",
    "            while len(final_boxes) > 0:\n",
    "                box1 = final_boxes[0]\n",
    "                merge = 0\n",
    "                for i in range(1,len(final_boxes)):\n",
    "                    box2 = final_boxes[i]\n",
    "                    #dist = np.absolute(box1[0][0]-box2[0][0]) + np.absolute(box1[0][1]-box2[0][1]) + np.absolute(box1[1][0]-box2[1][0]) + np.absolute(box1[1][1]-box2[1][1])\n",
    "                    #if dist<=80:\n",
    "                    if 0.8 * box2[0][0] <= box1[0][0] <= 1.2*box2[0][0] and 0.8 * box2[0][1] <= box1[0][1] <= 1.2*box2[0][1] and 0.8 * box2[1][0] <= box1[1][0] <= 1.2*box2[1][0] and 0.8 * box2[1][1] <= box1[1][1] <= 1.2*box2[1][1]: \n",
    "                        print('Combine Boxes!')\n",
    "                        merge = 1\n",
    "                        box_new = ((np.minimum(box1[0][0],box2[0][0]), np.minimum(box1[0][1],box2[0][1])),(np.maximum(box1[1][0],box2[1][0]), np.maximum(box1[1][1], box2[1][1])) )\n",
    "                        final_boxes.append(box_new)\n",
    "                        final_boxes.pop(0)\n",
    "                        final_boxes.pop(i-1)\n",
    "                        break\n",
    "                if merge == 0:\n",
    "                    last_boxes.append(box1)\n",
    "                    final_boxes.pop(0)\n",
    "                    \n",
    "            # smooth the result with the history\n",
    "            history_boxes.append(last_boxes)\n",
    "            if len(history_boxes) > 15:\n",
    "                history_boxes.pop(0)\n",
    "                \n",
    "            really_last_boxes = []\n",
    "            for box1 in last_boxes:\n",
    "                mean_boxes = [box1]\n",
    "                for i in range(len(history_boxes)-1):\n",
    "                    for box2 in history_boxes[i]:\n",
    "                        #dist = np.absolute(box1[0][0]-box2[0][0]) + np.absolute(box1[0][1]-box2[0][1]) + np.absolute(box1[1][0]-box2[1][0]) + np.absolute(box1[1][1]-box2[1][1])\n",
    "                        #if dist<=80:\n",
    "                        if 0.8 * box2[0][0] <= box1[0][0] <= 1.2*box2[0][0] and 0.8 * box2[0][1] <= box1[0][1] <= 1.2*box2[0][1] and 0.8 * box2[1][0] <= box1[1][0] <= 1.2*box2[1][0] and 0.8 * box2[1][1] <= box1[1][1] <= 1.2*box2[1][1]: \n",
    "                            mean_boxes.append(box2)\n",
    "                the_mean = np.mean(mean_boxes, axis=0)\n",
    "                really_last_boxes.append(((int(the_mean[0][0]), int(the_mean[0][1])),(int(the_mean[1][0]), int(the_mean[1][1]))))\n",
    "                \n",
    "            draw_img = draw_boxes(np.copy(np.uint8(img*255)), really_last_boxes)\n",
    "        else:\n",
    "            print('No final boxes!')\n",
    "            if len(history_boxes) > 0:\n",
    "                if len(history_boxes) == 1:\n",
    "                    print('Just one history box! It is {}.'.format(history_boxes[0]))\n",
    "                    mybox = history_boxes[0][0]\n",
    "                    draw_img = draw_boxes(np.copy(np.uint8(img*255)), [( (int(mybox[0][0]),int(mybox[0][1])),(int(mybox[1][0]), int(mybox[1][1])) )] )\n",
    "                else:\n",
    "                    print('More than one history box!')\n",
    "                    last_boxes = [history_boxes[i][j] for i in range(len(history_boxes)) for j in range(len(history_boxes[i]))]\n",
    "                    really_last_boxes = []\n",
    "                    while len(last_boxes) > 0:\n",
    "                        box1 = last_boxes[0]\n",
    "                        mean_boxes = []\n",
    "                        indices = []\n",
    "                        for i in range(len(last_boxes)):\n",
    "                            box2 = last_boxes[i]\n",
    "                            if 0.8 * box2[0][0] <= box1[0][0] <= 1.2*box2[0][0] and 0.8 * box2[0][1] <= box1[0][1] <= 1.2*box2[0][1] and 0.8 * box2[1][0] <= box1[1][0] <= 1.2*box2[1][0] and 0.8 * box2[1][1] <= box1[1][1] <= 1.2*box2[1][1]:  \n",
    "                                mean_boxes.append(box2)\n",
    "                                indices.append(i)\n",
    "                        the_mean = np.mean(mean_boxes, axis=0)\n",
    "                        really_last_boxes.append(((int(the_mean[0][0]), int(the_mean[0][1])),(int(the_mean[1][0]), int(the_mean[1][1]))))                    \n",
    "                        last_boxes = [i for j, i in enumerate(last_boxes) if j not in indices]\n",
    "                    print('We print the mean of the history boxes: {}'.format(really_last_boxes))\n",
    "                    draw_img = draw_boxes(np.copy(np.uint8(img*255)), really_last_boxes)\n",
    "            else:\n",
    "                draw_img = np.uint8(img*255)\n",
    "        \n",
    "        iteration += 1\n",
    "        return draw_img\n",
    "    \n",
    "def predict_margin(img, box, margin, factor):\n",
    "    coord_y1 = np.maximum(box[0][1]-margin-1,0)\n",
    "    coord_y2 = np.minimum(box[1][1]+margin, 719)\n",
    "    coord_x1 = np.maximum(int(box[0][0]-margin*factor*1.75)-1, 0)\n",
    "    coord_x2 = np.minimum(int(box[1][0]+margin*factor*0.5),1280)\n",
    "    win = img[coord_y1:coord_y2, coord_x1:coord_x2]\n",
    "    win = imresize(win, (64,64,3))/255\n",
    "    win = np.expand_dims(win, axis=0)\n",
    "    predict1 = model.predict(win)\n",
    "    predict2 = model2.predict(win)\n",
    "    predict4 = model4.predict(win)\n",
    "    predict5 = model5.predict(win)\n",
    "    predict = np.maximum(0,np.round(predict1)+np.round(predict2)+ np.round(predict4)+ np.round(predict5) -2)\n",
    "    predict = np.minimum(1, predict)\n",
    "    new_box = ((coord_x1, coord_y1), (coord_x2, coord_y2))\n",
    "    return predict, new_box"
   ]
  },
  {
   "cell_type": "markdown",
   "metadata": {},
   "source": [
    "# Creating the Video"
   ]
  },
  {
   "cell_type": "code",
   "execution_count": 8,
   "metadata": {
    "collapsed": true
   },
   "outputs": [],
   "source": [
    "# Import everything needed to edit/save/watch video clips\n",
    "from moviepy.editor import VideoFileClip\n",
    "from moviepy.editor import *\n",
    "from IPython.display import HTML"
   ]
  },
  {
   "cell_type": "code",
   "execution_count": 106,
   "metadata": {
    "scrolled": true
   },
   "outputs": [
    {
     "name": "stdout",
     "output_type": "stream",
     "text": [
      "First net took 0.58 many second to check 342 many pictures.\n",
      "[MoviePy] >>>> Building video ./Test_AWS_full_3.mp4\n",
      "[MoviePy] Writing video ./Test_AWS_full_3.mp4\n"
     ]
    },
    {
     "name": "stderr",
     "output_type": "stream",
     "text": [
      "\n",
      "  0%|          | 0/1261 [00:00<?, ?it/s]\u001b[A\n",
      "  0%|          | 1/1261 [00:00<12:37,  1.66it/s]"
     ]
    },
    {
     "name": "stdout",
     "output_type": "stream",
     "text": [
      "First net took 0.59 many second to check 342 many pictures.\n"
     ]
    },
    {
     "name": "stderr",
     "output_type": "stream",
     "text": [
      "\u001b[A\n",
      "  0%|          | 2/1261 [00:01<12:37,  1.66it/s]"
     ]
    },
    {
     "name": "stdout",
     "output_type": "stream",
     "text": [
      "First net took 0.58 many second to check 342 many pictures.\n"
     ]
    },
    {
     "name": "stderr",
     "output_type": "stream",
     "text": [
      "\u001b[A\n",
      "  0%|          | 3/1261 [00:01<12:36,  1.66it/s]"
     ]
    },
    {
     "name": "stdout",
     "output_type": "stream",
     "text": [
      "First net took 0.58 many second to check 342 many pictures.\n"
     ]
    },
    {
     "name": "stderr",
     "output_type": "stream",
     "text": [
      "\u001b[A\n",
      "  0%|          | 4/1261 [00:02<12:38,  1.66it/s]"
     ]
    },
    {
     "name": "stdout",
     "output_type": "stream",
     "text": [
      "First net took 0.59 many second to check 342 many pictures.\n"
     ]
    },
    {
     "name": "stderr",
     "output_type": "stream",
     "text": [
      "\u001b[A\n",
      "  0%|          | 5/1261 [00:03<12:33,  1.67it/s]"
     ]
    },
    {
     "name": "stdout",
     "output_type": "stream",
     "text": [
      "First net took 0.58 many second to check 342 many pictures.\n"
     ]
    },
    {
     "name": "stderr",
     "output_type": "stream",
     "text": [
      "\u001b[A\n",
      "  0%|          | 6/1261 [00:03<12:37,  1.66it/s]"
     ]
    },
    {
     "name": "stdout",
     "output_type": "stream",
     "text": [
      "First net took 0.58 many second to check 342 many pictures.\n",
      "currently 0 many boxes\n",
      "After belief, still 0 many boxes. It took 0.0 many seconds.\n",
      "There are 0 centers in the centers.\n",
      "0 of 0 boxes survived the Ensemble-Check! It took 0.0 many seconds.\n",
      "No final boxes!\n"
     ]
    },
    {
     "name": "stderr",
     "output_type": "stream",
     "text": [
      "\u001b[A\n",
      "  1%|          | 7/1261 [00:04<12:39,  1.65it/s]"
     ]
    },
    {
     "name": "stdout",
     "output_type": "stream",
     "text": [
      "First net took 0.58 many second to check 342 many pictures.\n",
      "currently 0 many boxes\n",
      "After belief, still 0 many boxes. It took 0.0 many seconds.\n",
      "There are 0 centers in the centers.\n",
      "0 of 0 boxes survived the Ensemble-Check! It took 0.0 many seconds.\n",
      "No final boxes!\n"
     ]
    },
    {
     "name": "stderr",
     "output_type": "stream",
     "text": [
      "\u001b[A\n",
      "  1%|          | 8/1261 [00:04<12:39,  1.65it/s]"
     ]
    },
    {
     "name": "stdout",
     "output_type": "stream",
     "text": [
      "First net took 0.58 many second to check 342 many pictures.\n",
      "currently 0 many boxes\n",
      "After belief, still 0 many boxes. It took 0.0 many seconds.\n",
      "There are 0 centers in the centers.\n",
      "0 of 0 boxes survived the Ensemble-Check! It took 0.0 many seconds.\n",
      "No final boxes!\n"
     ]
    },
    {
     "name": "stderr",
     "output_type": "stream",
     "text": [
      "\u001b[A\n",
      "  1%|          | 9/1261 [00:05<12:39,  1.65it/s]"
     ]
    },
    {
     "name": "stdout",
     "output_type": "stream",
     "text": [
      "First net took 0.58 many second to check 342 many pictures.\n",
      "currently 0 many boxes\n",
      "After belief, still 0 many boxes. It took 0.0 many seconds.\n",
      "There are 0 centers in the centers.\n",
      "0 of 0 boxes survived the Ensemble-Check! It took 0.0 many seconds.\n",
      "No final boxes!\n"
     ]
    },
    {
     "name": "stderr",
     "output_type": "stream",
     "text": [
      "\u001b[A\n",
      "  1%|          | 10/1261 [00:06<12:39,  1.65it/s]"
     ]
    },
    {
     "name": "stdout",
     "output_type": "stream",
     "text": [
      "First net took 0.58 many second to check 342 many pictures.\n",
      "currently 0 many boxes\n",
      "After belief, still 0 many boxes. It took 0.0 many seconds.\n",
      "There are 0 centers in the centers.\n",
      "0 of 0 boxes survived the Ensemble-Check! It took 0.0 many seconds.\n",
      "No final boxes!\n"
     ]
    },
    {
     "name": "stderr",
     "output_type": "stream",
     "text": [
      "\u001b[A\n",
      "  1%|          | 11/1261 [00:06<12:39,  1.65it/s]"
     ]
    },
    {
     "name": "stdout",
     "output_type": "stream",
     "text": [
      "First net took 0.58 many second to check 342 many pictures.\n",
      "currently 0 many boxes\n",
      "After belief, still 0 many boxes. It took 0.0 many seconds.\n",
      "There are 0 centers in the centers.\n",
      "0 of 0 boxes survived the Ensemble-Check! It took 0.0 many seconds.\n",
      "No final boxes!\n"
     ]
    },
    {
     "name": "stderr",
     "output_type": "stream",
     "text": [
      "\u001b[A\n",
      "  1%|          | 12/1261 [00:07<12:39,  1.65it/s]"
     ]
    },
    {
     "name": "stdout",
     "output_type": "stream",
     "text": [
      "First net took 0.58 many second to check 342 many pictures.\n",
      "currently 0 many boxes\n",
      "After belief, still 0 many boxes. It took 0.0 many seconds.\n",
      "There are 0 centers in the centers.\n",
      "0 of 0 boxes survived the Ensemble-Check! It took 0.0 many seconds.\n",
      "No final boxes!\n"
     ]
    },
    {
     "name": "stderr",
     "output_type": "stream",
     "text": [
      "\u001b[A\n",
      "  1%|          | 13/1261 [00:07<12:38,  1.64it/s]"
     ]
    },
    {
     "name": "stdout",
     "output_type": "stream",
     "text": [
      "First net took 0.58 many second to check 342 many pictures.\n",
      "currently 0 many boxes\n",
      "After belief, still 0 many boxes. It took 0.0 many seconds.\n",
      "There are 0 centers in the centers.\n",
      "0 of 0 boxes survived the Ensemble-Check! It took 0.0 many seconds.\n",
      "No final boxes!\n"
     ]
    },
    {
     "name": "stderr",
     "output_type": "stream",
     "text": [
      "\u001b[A\n",
      "  1%|          | 14/1261 [00:08<12:37,  1.65it/s]"
     ]
    },
    {
     "name": "stdout",
     "output_type": "stream",
     "text": [
      "First net took 0.58 many second to check 342 many pictures.\n",
      "currently 0 many boxes\n",
      "After belief, still 0 many boxes. It took 0.0 many seconds.\n",
      "There are 0 centers in the centers.\n",
      "0 of 0 boxes survived the Ensemble-Check! It took 0.0 many seconds.\n",
      "No final boxes!\n"
     ]
    },
    {
     "name": "stderr",
     "output_type": "stream",
     "text": [
      "\u001b[A\n",
      "  1%|          | 15/1261 [00:09<12:36,  1.65it/s]"
     ]
    },
    {
     "name": "stdout",
     "output_type": "stream",
     "text": [
      "First net took 0.58 many second to check 342 many pictures.\n",
      "currently 0 many boxes\n",
      "After belief, still 0 many boxes. It took 0.0 many seconds.\n",
      "There are 0 centers in the centers.\n",
      "0 of 0 boxes survived the Ensemble-Check! It took 0.0 many seconds.\n",
      "No final boxes!\n"
     ]
    },
    {
     "name": "stderr",
     "output_type": "stream",
     "text": [
      "\u001b[A\n",
      "  1%|▏         | 16/1261 [00:09<12:40,  1.64it/s]"
     ]
    },
    {
     "name": "stdout",
     "output_type": "stream",
     "text": [
      "First net took 0.59 many second to check 342 many pictures.\n",
      "currently 0 many boxes\n",
      "After belief, still 0 many boxes. It took 0.0 many seconds.\n",
      "There are 0 centers in the centers.\n",
      "0 of 0 boxes survived the Ensemble-Check! It took 0.0 many seconds.\n",
      "No final boxes!\n"
     ]
    },
    {
     "name": "stderr",
     "output_type": "stream",
     "text": [
      "\u001b[A\n",
      "  1%|▏         | 17/1261 [00:10<12:39,  1.64it/s]"
     ]
    },
    {
     "name": "stdout",
     "output_type": "stream",
     "text": [
      "First net took 0.58 many second to check 342 many pictures.\n",
      "currently 0 many boxes\n",
      "After belief, still 0 many boxes. It took 0.0 many seconds.\n",
      "There are 0 centers in the centers.\n",
      "0 of 0 boxes survived the Ensemble-Check! It took 0.0 many seconds.\n",
      "No final boxes!\n"
     ]
    },
    {
     "name": "stderr",
     "output_type": "stream",
     "text": [
      "\u001b[A\n",
      "  1%|▏         | 18/1261 [00:10<12:40,  1.64it/s]"
     ]
    },
    {
     "name": "stdout",
     "output_type": "stream",
     "text": [
      "First net took 0.58 many second to check 342 many pictures.\n",
      "currently 0 many boxes\n",
      "After belief, still 0 many boxes. It took 0.0 many seconds.\n",
      "There are 0 centers in the centers.\n",
      "0 of 0 boxes survived the Ensemble-Check! It took 0.0 many seconds.\n",
      "No final boxes!\n"
     ]
    },
    {
     "name": "stderr",
     "output_type": "stream",
     "text": [
      "\u001b[A\n",
      "  2%|▏         | 19/1261 [00:11<12:38,  1.64it/s]"
     ]
    },
    {
     "name": "stdout",
     "output_type": "stream",
     "text": [
      "First net took 0.58 many second to check 342 many pictures.\n",
      "currently 0 many boxes\n",
      "After belief, still 0 many boxes. It took 0.0 many seconds.\n",
      "There are 0 centers in the centers.\n",
      "0 of 0 boxes survived the Ensemble-Check! It took 0.0 many seconds.\n",
      "No final boxes!\n"
     ]
    },
    {
     "name": "stderr",
     "output_type": "stream",
     "text": [
      "\u001b[A\n",
      "  2%|▏         | 20/1261 [00:12<12:36,  1.64it/s]"
     ]
    },
    {
     "name": "stdout",
     "output_type": "stream",
     "text": [
      "First net took 0.58 many second to check 342 many pictures.\n",
      "currently 0 many boxes\n",
      "After belief, still 0 many boxes. It took 0.0 many seconds.\n",
      "There are 0 centers in the centers.\n",
      "0 of 0 boxes survived the Ensemble-Check! It took 0.0 many seconds.\n",
      "No final boxes!\n"
     ]
    },
    {
     "name": "stderr",
     "output_type": "stream",
     "text": [
      "\u001b[A\n",
      "  2%|▏         | 21/1261 [00:12<12:36,  1.64it/s]"
     ]
    },
    {
     "name": "stdout",
     "output_type": "stream",
     "text": [
      "First net took 0.58 many second to check 342 many pictures.\n",
      "currently 0 many boxes\n",
      "After belief, still 0 many boxes. It took 0.0 many seconds.\n",
      "There are 0 centers in the centers.\n",
      "0 of 0 boxes survived the Ensemble-Check! It took 0.0 many seconds.\n",
      "No final boxes!\n"
     ]
    },
    {
     "name": "stderr",
     "output_type": "stream",
     "text": [
      "\u001b[A\n",
      "  2%|▏         | 22/1261 [00:13<12:33,  1.64it/s]"
     ]
    },
    {
     "name": "stdout",
     "output_type": "stream",
     "text": [
      "First net took 0.57 many second to check 342 many pictures.\n",
      "currently 0 many boxes\n",
      "After belief, still 0 many boxes. It took 0.0 many seconds.\n",
      "There are 0 centers in the centers.\n",
      "0 of 0 boxes survived the Ensemble-Check! It took 0.0 many seconds.\n",
      "No final boxes!\n"
     ]
    },
    {
     "name": "stderr",
     "output_type": "stream",
     "text": [
      "\u001b[A\n",
      "  2%|▏         | 23/1261 [00:13<12:33,  1.64it/s]"
     ]
    },
    {
     "name": "stdout",
     "output_type": "stream",
     "text": [
      "First net took 0.58 many second to check 342 many pictures.\n",
      "currently 0 many boxes\n",
      "After belief, still 0 many boxes. It took 0.0 many seconds.\n",
      "There are 0 centers in the centers.\n",
      "0 of 0 boxes survived the Ensemble-Check! It took 0.0 many seconds.\n",
      "No final boxes!\n"
     ]
    },
    {
     "name": "stderr",
     "output_type": "stream",
     "text": [
      "\u001b[A\n",
      "  2%|▏         | 24/1261 [00:14<12:32,  1.64it/s]"
     ]
    },
    {
     "name": "stdout",
     "output_type": "stream",
     "text": [
      "First net took 0.58 many second to check 342 many pictures.\n",
      "currently 0 many boxes\n",
      "After belief, still 0 many boxes. It took 0.0 many seconds.\n",
      "There are 0 centers in the centers.\n",
      "0 of 0 boxes survived the Ensemble-Check! It took 0.0 many seconds.\n",
      "No final boxes!\n"
     ]
    },
    {
     "name": "stderr",
     "output_type": "stream",
     "text": [
      "\u001b[A\n",
      "  2%|▏         | 25/1261 [00:15<12:31,  1.65it/s]"
     ]
    },
    {
     "name": "stdout",
     "output_type": "stream",
     "text": [
      "First net took 0.58 many second to check 342 many pictures.\n",
      "currently 0 many boxes\n",
      "After belief, still 0 many boxes. It took 0.0 many seconds.\n",
      "There are 0 centers in the centers.\n",
      "0 of 0 boxes survived the Ensemble-Check! It took 0.0 many seconds.\n",
      "No final boxes!\n"
     ]
    },
    {
     "name": "stderr",
     "output_type": "stream",
     "text": [
      "\u001b[A\n",
      "  2%|▏         | 26/1261 [00:15<12:33,  1.64it/s]"
     ]
    },
    {
     "name": "stdout",
     "output_type": "stream",
     "text": [
      "First net took 0.58 many second to check 342 many pictures.\n",
      "currently 0 many boxes\n",
      "After belief, still 0 many boxes. It took 0.0 many seconds.\n",
      "There are 0 centers in the centers.\n",
      "0 of 0 boxes survived the Ensemble-Check! It took 0.0 many seconds.\n",
      "No final boxes!\n"
     ]
    },
    {
     "name": "stderr",
     "output_type": "stream",
     "text": [
      "\u001b[A\n",
      "  2%|▏         | 27/1261 [00:16<12:32,  1.64it/s]"
     ]
    },
    {
     "name": "stdout",
     "output_type": "stream",
     "text": [
      "First net took 0.58 many second to check 342 many pictures.\n",
      "currently 0 many boxes\n",
      "After belief, still 0 many boxes. It took 0.0 many seconds.\n",
      "There are 0 centers in the centers.\n",
      "0 of 0 boxes survived the Ensemble-Check! It took 0.0 many seconds.\n",
      "No final boxes!\n"
     ]
    },
    {
     "name": "stderr",
     "output_type": "stream",
     "text": [
      "\u001b[A\n",
      "  2%|▏         | 28/1261 [00:17<12:33,  1.64it/s]"
     ]
    },
    {
     "name": "stdout",
     "output_type": "stream",
     "text": [
      "First net took 0.58 many second to check 342 many pictures.\n",
      "currently 0 many boxes\n",
      "After belief, still 0 many boxes. It took 0.0 many seconds.\n",
      "There are 0 centers in the centers.\n",
      "0 of 0 boxes survived the Ensemble-Check! It took 0.0 many seconds.\n",
      "No final boxes!\n"
     ]
    },
    {
     "name": "stderr",
     "output_type": "stream",
     "text": [
      "\u001b[A\n",
      "  2%|▏         | 29/1261 [00:17<12:31,  1.64it/s]"
     ]
    },
    {
     "name": "stdout",
     "output_type": "stream",
     "text": [
      "First net took 0.58 many second to check 342 many pictures.\n",
      "currently 0 many boxes\n",
      "After belief, still 0 many boxes. It took 0.0 many seconds.\n",
      "There are 0 centers in the centers.\n",
      "0 of 0 boxes survived the Ensemble-Check! It took 0.0 many seconds.\n",
      "No final boxes!\n"
     ]
    },
    {
     "name": "stderr",
     "output_type": "stream",
     "text": [
      "\u001b[A\n",
      "  2%|▏         | 30/1261 [00:18<12:30,  1.64it/s]"
     ]
    },
    {
     "name": "stdout",
     "output_type": "stream",
     "text": [
      "First net took 0.58 many second to check 342 many pictures.\n",
      "currently 0 many boxes\n",
      "After belief, still 0 many boxes. It took 0.0 many seconds.\n",
      "There are 0 centers in the centers.\n",
      "0 of 0 boxes survived the Ensemble-Check! It took 0.0 many seconds.\n",
      "No final boxes!\n"
     ]
    },
    {
     "name": "stderr",
     "output_type": "stream",
     "text": [
      "\u001b[A\n",
      "  2%|▏         | 31/1261 [00:18<12:28,  1.64it/s]"
     ]
    },
    {
     "name": "stdout",
     "output_type": "stream",
     "text": [
      "First net took 0.58 many second to check 342 many pictures.\n",
      "currently 0 many boxes\n",
      "After belief, still 0 many boxes. It took 0.0 many seconds.\n",
      "There are 0 centers in the centers.\n",
      "0 of 0 boxes survived the Ensemble-Check! It took 0.0 many seconds.\n",
      "No final boxes!\n"
     ]
    },
    {
     "name": "stderr",
     "output_type": "stream",
     "text": [
      "\u001b[A\n",
      "  3%|▎         | 32/1261 [00:19<12:27,  1.64it/s]"
     ]
    },
    {
     "name": "stdout",
     "output_type": "stream",
     "text": [
      "First net took 0.58 many second to check 342 many pictures.\n",
      "currently 0 many boxes\n",
      "After belief, still 0 many boxes. It took 0.0 many seconds.\n",
      "There are 0 centers in the centers.\n",
      "0 of 0 boxes survived the Ensemble-Check! It took 0.0 many seconds.\n",
      "No final boxes!\n"
     ]
    },
    {
     "name": "stderr",
     "output_type": "stream",
     "text": [
      "\u001b[A\n",
      "  3%|▎         | 33/1261 [00:20<12:26,  1.65it/s]"
     ]
    },
    {
     "name": "stdout",
     "output_type": "stream",
     "text": [
      "First net took 0.58 many second to check 342 many pictures.\n",
      "currently 0 many boxes\n",
      "After belief, still 0 many boxes. It took 0.0 many seconds.\n",
      "There are 0 centers in the centers.\n",
      "0 of 0 boxes survived the Ensemble-Check! It took 0.0 many seconds.\n",
      "No final boxes!\n"
     ]
    },
    {
     "name": "stderr",
     "output_type": "stream",
     "text": [
      "\u001b[A\n",
      "  3%|▎         | 34/1261 [00:20<12:25,  1.65it/s]"
     ]
    },
    {
     "name": "stdout",
     "output_type": "stream",
     "text": [
      "First net took 0.58 many second to check 342 many pictures.\n",
      "currently 0 many boxes\n",
      "After belief, still 0 many boxes. It took 0.0 many seconds.\n",
      "There are 0 centers in the centers.\n",
      "0 of 0 boxes survived the Ensemble-Check! It took 0.0 many seconds.\n",
      "No final boxes!\n"
     ]
    },
    {
     "name": "stderr",
     "output_type": "stream",
     "text": [
      "\u001b[A\n",
      "  3%|▎         | 35/1261 [00:21<12:26,  1.64it/s]"
     ]
    },
    {
     "name": "stdout",
     "output_type": "stream",
     "text": [
      "First net took 0.58 many second to check 342 many pictures.\n",
      "currently 0 many boxes\n",
      "After belief, still 0 many boxes. It took 0.0 many seconds.\n",
      "There are 0 centers in the centers.\n",
      "0 of 0 boxes survived the Ensemble-Check! It took 0.0 many seconds.\n",
      "No final boxes!\n"
     ]
    },
    {
     "name": "stderr",
     "output_type": "stream",
     "text": [
      "\u001b[A\n",
      "  3%|▎         | 36/1261 [00:21<12:26,  1.64it/s]"
     ]
    },
    {
     "name": "stdout",
     "output_type": "stream",
     "text": [
      "First net took 0.58 many second to check 342 many pictures.\n",
      "currently 0 many boxes\n",
      "After belief, still 0 many boxes. It took 0.0 many seconds.\n",
      "There are 0 centers in the centers.\n",
      "0 of 0 boxes survived the Ensemble-Check! It took 0.0 many seconds.\n",
      "No final boxes!\n"
     ]
    },
    {
     "name": "stderr",
     "output_type": "stream",
     "text": [
      "\u001b[A\n",
      "  3%|▎         | 37/1261 [00:22<12:23,  1.65it/s]"
     ]
    },
    {
     "name": "stdout",
     "output_type": "stream",
     "text": [
      "First net took 0.57 many second to check 342 many pictures.\n",
      "currently 0 many boxes\n",
      "After belief, still 0 many boxes. It took 0.0 many seconds.\n",
      "There are 0 centers in the centers.\n",
      "0 of 0 boxes survived the Ensemble-Check! It took 0.0 many seconds.\n",
      "No final boxes!\n"
     ]
    },
    {
     "name": "stderr",
     "output_type": "stream",
     "text": [
      "\u001b[A\n",
      "  3%|▎         | 38/1261 [00:23<12:23,  1.64it/s]"
     ]
    },
    {
     "name": "stdout",
     "output_type": "stream",
     "text": [
      "First net took 0.58 many second to check 342 many pictures.\n",
      "currently 0 many boxes\n",
      "After belief, still 0 many boxes. It took 0.0 many seconds.\n",
      "There are 0 centers in the centers.\n",
      "0 of 0 boxes survived the Ensemble-Check! It took 0.0 many seconds.\n",
      "No final boxes!\n"
     ]
    },
    {
     "name": "stderr",
     "output_type": "stream",
     "text": [
      "\u001b[A\n",
      "  3%|▎         | 39/1261 [00:23<12:24,  1.64it/s]"
     ]
    },
    {
     "name": "stdout",
     "output_type": "stream",
     "text": [
      "First net took 0.58 many second to check 342 many pictures.\n",
      "currently 0 many boxes\n",
      "After belief, still 0 many boxes. It took 0.0 many seconds.\n",
      "There are 0 centers in the centers.\n",
      "0 of 0 boxes survived the Ensemble-Check! It took 0.0 many seconds.\n",
      "No final boxes!\n"
     ]
    },
    {
     "name": "stderr",
     "output_type": "stream",
     "text": [
      "\u001b[A\n",
      "  3%|▎         | 40/1261 [00:24<12:23,  1.64it/s]"
     ]
    },
    {
     "name": "stdout",
     "output_type": "stream",
     "text": [
      "First net took 0.58 many second to check 342 many pictures.\n",
      "currently 0 many boxes\n",
      "After belief, still 0 many boxes. It took 0.0 many seconds.\n",
      "There are 0 centers in the centers.\n",
      "0 of 0 boxes survived the Ensemble-Check! It took 0.0 many seconds.\n",
      "No final boxes!\n"
     ]
    },
    {
     "name": "stderr",
     "output_type": "stream",
     "text": [
      "\u001b[A\n",
      "  3%|▎         | 41/1261 [00:24<12:25,  1.64it/s]"
     ]
    },
    {
     "name": "stdout",
     "output_type": "stream",
     "text": [
      "First net took 0.58 many second to check 342 many pictures.\n",
      "currently 0 many boxes\n",
      "After belief, still 0 many boxes. It took 0.0 many seconds.\n",
      "There are 0 centers in the centers.\n",
      "0 of 0 boxes survived the Ensemble-Check! It took 0.0 many seconds.\n",
      "No final boxes!\n"
     ]
    },
    {
     "name": "stderr",
     "output_type": "stream",
     "text": [
      "\u001b[A\n",
      "  3%|▎         | 42/1261 [00:25<12:23,  1.64it/s]"
     ]
    },
    {
     "name": "stdout",
     "output_type": "stream",
     "text": [
      "First net took 0.58 many second to check 342 many pictures.\n",
      "currently 0 many boxes\n",
      "After belief, still 0 many boxes. It took 0.0 many seconds.\n",
      "There are 0 centers in the centers.\n",
      "0 of 0 boxes survived the Ensemble-Check! It took 0.0 many seconds.\n",
      "No final boxes!\n"
     ]
    },
    {
     "name": "stderr",
     "output_type": "stream",
     "text": [
      "\u001b[A\n",
      "  3%|▎         | 43/1261 [00:26<12:39,  1.60it/s]"
     ]
    },
    {
     "name": "stdout",
     "output_type": "stream",
     "text": [
      "First net took 0.63 many second to check 342 many pictures.\n",
      "currently 0 many boxes\n",
      "After belief, still 0 many boxes. It took 0.0 many seconds.\n",
      "There are 0 centers in the centers.\n",
      "0 of 0 boxes survived the Ensemble-Check! It took 0.0 many seconds.\n",
      "No final boxes!\n"
     ]
    },
    {
     "name": "stderr",
     "output_type": "stream",
     "text": [
      "\u001b[A\n",
      "  3%|▎         | 44/1261 [00:26<12:33,  1.62it/s]"
     ]
    },
    {
     "name": "stdout",
     "output_type": "stream",
     "text": [
      "First net took 0.58 many second to check 342 many pictures.\n",
      "currently 0 many boxes\n",
      "After belief, still 0 many boxes. It took 0.0 many seconds.\n",
      "There are 0 centers in the centers.\n",
      "0 of 0 boxes survived the Ensemble-Check! It took 0.0 many seconds.\n",
      "No final boxes!\n"
     ]
    },
    {
     "name": "stderr",
     "output_type": "stream",
     "text": [
      "\u001b[A\n",
      "  4%|▎         | 45/1261 [00:27<12:28,  1.62it/s]"
     ]
    },
    {
     "name": "stdout",
     "output_type": "stream",
     "text": [
      "First net took 0.58 many second to check 342 many pictures.\n",
      "currently 0 many boxes\n",
      "After belief, still 0 many boxes. It took 0.0 many seconds.\n",
      "There are 0 centers in the centers.\n",
      "0 of 0 boxes survived the Ensemble-Check! It took 0.0 many seconds.\n",
      "No final boxes!\n"
     ]
    },
    {
     "name": "stderr",
     "output_type": "stream",
     "text": [
      "\u001b[A\n",
      "  4%|▎         | 46/1261 [00:28<12:24,  1.63it/s]"
     ]
    },
    {
     "name": "stdout",
     "output_type": "stream",
     "text": [
      "First net took 0.58 many second to check 342 many pictures.\n",
      "currently 0 many boxes\n",
      "After belief, still 0 many boxes. It took 0.0 many seconds.\n",
      "There are 0 centers in the centers.\n",
      "0 of 0 boxes survived the Ensemble-Check! It took 0.0 many seconds.\n",
      "No final boxes!\n"
     ]
    },
    {
     "name": "stderr",
     "output_type": "stream",
     "text": [
      "\u001b[A\n",
      "  4%|▎         | 47/1261 [00:28<12:22,  1.64it/s]"
     ]
    },
    {
     "name": "stdout",
     "output_type": "stream",
     "text": [
      "First net took 0.58 many second to check 342 many pictures.\n",
      "currently 0 many boxes\n",
      "After belief, still 0 many boxes. It took 0.0 many seconds.\n",
      "There are 0 centers in the centers.\n",
      "0 of 0 boxes survived the Ensemble-Check! It took 0.0 many seconds.\n",
      "No final boxes!\n"
     ]
    },
    {
     "name": "stderr",
     "output_type": "stream",
     "text": [
      "\u001b[A\n",
      "  4%|▍         | 48/1261 [00:29<12:20,  1.64it/s]"
     ]
    },
    {
     "name": "stdout",
     "output_type": "stream",
     "text": [
      "First net took 0.58 many second to check 342 many pictures.\n",
      "currently 0 many boxes\n",
      "After belief, still 0 many boxes. It took 0.0 many seconds.\n",
      "There are 0 centers in the centers.\n",
      "0 of 0 boxes survived the Ensemble-Check! It took 0.0 many seconds.\n",
      "No final boxes!\n"
     ]
    },
    {
     "name": "stderr",
     "output_type": "stream",
     "text": [
      "\u001b[A\n",
      "  4%|▍         | 49/1261 [00:29<12:20,  1.64it/s]"
     ]
    },
    {
     "name": "stdout",
     "output_type": "stream",
     "text": [
      "First net took 0.58 many second to check 342 many pictures.\n",
      "currently 0 many boxes\n",
      "After belief, still 0 many boxes. It took 0.0 many seconds.\n",
      "There are 0 centers in the centers.\n",
      "0 of 0 boxes survived the Ensemble-Check! It took 0.0 many seconds.\n",
      "No final boxes!\n"
     ]
    },
    {
     "name": "stderr",
     "output_type": "stream",
     "text": [
      "\u001b[A\n",
      "  4%|▍         | 50/1261 [00:30<12:18,  1.64it/s]"
     ]
    },
    {
     "name": "stdout",
     "output_type": "stream",
     "text": [
      "First net took 0.58 many second to check 342 many pictures.\n",
      "currently 0 many boxes\n",
      "After belief, still 0 many boxes. It took 0.0 many seconds.\n",
      "There are 0 centers in the centers.\n",
      "0 of 0 boxes survived the Ensemble-Check! It took 0.0 many seconds.\n",
      "No final boxes!\n"
     ]
    },
    {
     "name": "stderr",
     "output_type": "stream",
     "text": [
      "\u001b[A\n",
      "  4%|▍         | 51/1261 [00:31<12:19,  1.64it/s]"
     ]
    },
    {
     "name": "stdout",
     "output_type": "stream",
     "text": [
      "First net took 0.58 many second to check 342 many pictures.\n",
      "currently 0 many boxes\n",
      "After belief, still 0 many boxes. It took 0.0 many seconds.\n",
      "There are 0 centers in the centers.\n",
      "0 of 0 boxes survived the Ensemble-Check! It took 0.0 many seconds.\n",
      "No final boxes!\n"
     ]
    },
    {
     "name": "stderr",
     "output_type": "stream",
     "text": [
      "\u001b[A\n",
      "  4%|▍         | 52/1261 [00:31<12:23,  1.63it/s]"
     ]
    },
    {
     "name": "stdout",
     "output_type": "stream",
     "text": [
      "First net took 0.59 many second to check 342 many pictures.\n",
      "currently 0 many boxes\n",
      "After belief, still 0 many boxes. It took 0.0 many seconds.\n",
      "There are 0 centers in the centers.\n",
      "0 of 0 boxes survived the Ensemble-Check! It took 0.0 many seconds.\n",
      "No final boxes!\n"
     ]
    },
    {
     "name": "stderr",
     "output_type": "stream",
     "text": [
      "\u001b[A\n",
      "  4%|▍         | 53/1261 [00:32<12:20,  1.63it/s]"
     ]
    },
    {
     "name": "stdout",
     "output_type": "stream",
     "text": [
      "First net took 0.58 many second to check 342 many pictures.\n",
      "currently 0 many boxes\n",
      "After belief, still 0 many boxes. It took 0.0 many seconds.\n",
      "There are 0 centers in the centers.\n",
      "0 of 0 boxes survived the Ensemble-Check! It took 0.0 many seconds.\n",
      "No final boxes!\n"
     ]
    },
    {
     "name": "stderr",
     "output_type": "stream",
     "text": [
      "\u001b[A\n",
      "  4%|▍         | 54/1261 [00:32<12:19,  1.63it/s]"
     ]
    },
    {
     "name": "stdout",
     "output_type": "stream",
     "text": [
      "First net took 0.58 many second to check 342 many pictures.\n",
      "currently 0 many boxes\n",
      "After belief, still 0 many boxes. It took 0.0 many seconds.\n",
      "There are 0 centers in the centers.\n",
      "0 of 0 boxes survived the Ensemble-Check! It took 0.0 many seconds.\n",
      "No final boxes!\n"
     ]
    },
    {
     "name": "stderr",
     "output_type": "stream",
     "text": [
      "\u001b[A\n",
      "  4%|▍         | 55/1261 [00:33<12:20,  1.63it/s]"
     ]
    },
    {
     "name": "stdout",
     "output_type": "stream",
     "text": [
      "First net took 0.59 many second to check 342 many pictures.\n",
      "currently 0 many boxes\n",
      "After belief, still 0 many boxes. It took 0.0 many seconds.\n",
      "There are 0 centers in the centers.\n",
      "0 of 0 boxes survived the Ensemble-Check! It took 0.0 many seconds.\n",
      "No final boxes!\n"
     ]
    },
    {
     "name": "stderr",
     "output_type": "stream",
     "text": [
      "\u001b[A\n",
      "  4%|▍         | 56/1261 [00:34<12:35,  1.60it/s]"
     ]
    },
    {
     "name": "stdout",
     "output_type": "stream",
     "text": [
      "First net took 0.63 many second to check 342 many pictures.\n",
      "currently 0 many boxes\n",
      "After belief, still 0 many boxes. It took 0.0 many seconds.\n",
      "There are 0 centers in the centers.\n",
      "0 of 0 boxes survived the Ensemble-Check! It took 0.0 many seconds.\n",
      "No final boxes!\n"
     ]
    },
    {
     "name": "stderr",
     "output_type": "stream",
     "text": [
      "\u001b[A\n",
      "  5%|▍         | 57/1261 [00:34<12:28,  1.61it/s]"
     ]
    },
    {
     "name": "stdout",
     "output_type": "stream",
     "text": [
      "First net took 0.58 many second to check 342 many pictures.\n",
      "currently 0 many boxes\n",
      "After belief, still 0 many boxes. It took 0.0 many seconds.\n",
      "There are 0 centers in the centers.\n",
      "0 of 0 boxes survived the Ensemble-Check! It took 0.0 many seconds.\n",
      "No final boxes!\n"
     ]
    },
    {
     "name": "stderr",
     "output_type": "stream",
     "text": [
      "\u001b[A\n",
      "  5%|▍         | 58/1261 [00:35<12:32,  1.60it/s]"
     ]
    },
    {
     "name": "stdout",
     "output_type": "stream",
     "text": [
      "First net took 0.6 many second to check 342 many pictures.\n",
      "currently 0 many boxes\n",
      "After belief, still 0 many boxes. It took 0.0 many seconds.\n",
      "There are 0 centers in the centers.\n",
      "0 of 0 boxes survived the Ensemble-Check! It took 0.0 many seconds.\n",
      "No final boxes!\n"
     ]
    },
    {
     "name": "stderr",
     "output_type": "stream",
     "text": [
      "\u001b[A\n",
      "  5%|▍         | 59/1261 [00:36<12:25,  1.61it/s]"
     ]
    },
    {
     "name": "stdout",
     "output_type": "stream",
     "text": [
      "First net took 0.58 many second to check 342 many pictures.\n",
      "currently 0 many boxes\n",
      "After belief, still 0 many boxes. It took 0.0 many seconds.\n",
      "There are 0 centers in the centers.\n",
      "0 of 0 boxes survived the Ensemble-Check! It took 0.0 many seconds.\n",
      "No final boxes!\n"
     ]
    },
    {
     "name": "stderr",
     "output_type": "stream",
     "text": [
      "\u001b[A\n",
      "  5%|▍         | 60/1261 [00:36<12:20,  1.62it/s]"
     ]
    },
    {
     "name": "stdout",
     "output_type": "stream",
     "text": [
      "First net took 0.58 many second to check 342 many pictures.\n",
      "currently 0 many boxes\n",
      "After belief, still 0 many boxes. It took 0.0 many seconds.\n",
      "There are 0 centers in the centers.\n",
      "0 of 0 boxes survived the Ensemble-Check! It took 0.0 many seconds.\n",
      "No final boxes!\n"
     ]
    },
    {
     "name": "stderr",
     "output_type": "stream",
     "text": [
      "\u001b[A\n",
      "  5%|▍         | 61/1261 [00:37<12:18,  1.62it/s]"
     ]
    },
    {
     "name": "stdout",
     "output_type": "stream",
     "text": [
      "First net took 0.58 many second to check 342 many pictures.\n",
      "currently 0 many boxes\n",
      "After belief, still 0 many boxes. It took 0.0 many seconds.\n",
      "There are 0 centers in the centers.\n",
      "0 of 0 boxes survived the Ensemble-Check! It took 0.0 many seconds.\n",
      "No final boxes!\n"
     ]
    },
    {
     "name": "stderr",
     "output_type": "stream",
     "text": [
      "\u001b[A\n",
      "  5%|▍         | 62/1261 [00:37<12:15,  1.63it/s]"
     ]
    },
    {
     "name": "stdout",
     "output_type": "stream",
     "text": [
      "First net took 0.58 many second to check 342 many pictures.\n",
      "currently 0 many boxes\n",
      "After belief, still 0 many boxes. It took 0.0 many seconds.\n",
      "There are 0 centers in the centers.\n",
      "0 of 0 boxes survived the Ensemble-Check! It took 0.0 many seconds.\n",
      "No final boxes!\n"
     ]
    },
    {
     "name": "stderr",
     "output_type": "stream",
     "text": [
      "\u001b[A\n",
      "  5%|▍         | 63/1261 [00:38<12:26,  1.60it/s]"
     ]
    },
    {
     "name": "stdout",
     "output_type": "stream",
     "text": [
      "First net took 0.62 many second to check 342 many pictures.\n",
      "currently 0 many boxes\n",
      "After belief, still 0 many boxes. It took 0.0 many seconds.\n",
      "There are 0 centers in the centers.\n",
      "0 of 0 boxes survived the Ensemble-Check! It took 0.0 many seconds.\n",
      "No final boxes!\n"
     ]
    },
    {
     "name": "stderr",
     "output_type": "stream",
     "text": [
      "\u001b[A\n",
      "  5%|▌         | 64/1261 [00:39<12:36,  1.58it/s]"
     ]
    },
    {
     "name": "stdout",
     "output_type": "stream",
     "text": [
      "First net took 0.62 many second to check 342 many pictures.\n",
      "currently 0 many boxes\n",
      "After belief, still 0 many boxes. It took 0.0 many seconds.\n",
      "There are 0 centers in the centers.\n",
      "0 of 0 boxes survived the Ensemble-Check! It took 0.0 many seconds.\n",
      "No final boxes!\n"
     ]
    },
    {
     "name": "stderr",
     "output_type": "stream",
     "text": [
      "\u001b[A\n",
      "  5%|▌         | 65/1261 [00:39<12:28,  1.60it/s]"
     ]
    },
    {
     "name": "stdout",
     "output_type": "stream",
     "text": [
      "First net took 0.58 many second to check 342 many pictures.\n",
      "currently 0 many boxes\n",
      "After belief, still 0 many boxes. It took 0.0 many seconds.\n",
      "There are 0 centers in the centers.\n",
      "0 of 0 boxes survived the Ensemble-Check! It took 0.0 many seconds.\n",
      "No final boxes!\n"
     ]
    },
    {
     "name": "stderr",
     "output_type": "stream",
     "text": [
      "\u001b[A\n",
      "  5%|▌         | 66/1261 [00:40<12:31,  1.59it/s]"
     ]
    },
    {
     "name": "stdout",
     "output_type": "stream",
     "text": [
      "First net took 0.61 many second to check 342 many pictures.\n",
      "currently 0 many boxes\n",
      "After belief, still 0 many boxes. It took 0.0 many seconds.\n",
      "There are 0 centers in the centers.\n",
      "0 of 0 boxes survived the Ensemble-Check! It took 0.0 many seconds.\n",
      "No final boxes!\n"
     ]
    },
    {
     "name": "stderr",
     "output_type": "stream",
     "text": [
      "\u001b[A\n",
      "  5%|▌         | 67/1261 [00:41<12:36,  1.58it/s]"
     ]
    },
    {
     "name": "stdout",
     "output_type": "stream",
     "text": [
      "First net took 0.62 many second to check 342 many pictures.\n",
      "currently 0 many boxes\n",
      "After belief, still 0 many boxes. It took 0.0 many seconds.\n",
      "There are 0 centers in the centers.\n",
      "0 of 0 boxes survived the Ensemble-Check! It took 0.0 many seconds.\n",
      "No final boxes!\n"
     ]
    },
    {
     "name": "stderr",
     "output_type": "stream",
     "text": [
      "\u001b[A\n",
      "  5%|▌         | 68/1261 [00:41<12:38,  1.57it/s]"
     ]
    },
    {
     "name": "stdout",
     "output_type": "stream",
     "text": [
      "First net took 0.61 many second to check 342 many pictures.\n",
      "currently 0 many boxes\n",
      "After belief, still 0 many boxes. It took 0.0 many seconds.\n",
      "There are 0 centers in the centers.\n",
      "0 of 0 boxes survived the Ensemble-Check! It took 0.0 many seconds.\n",
      "No final boxes!\n"
     ]
    },
    {
     "name": "stderr",
     "output_type": "stream",
     "text": [
      "\u001b[A\n",
      "  5%|▌         | 69/1261 [00:42<12:29,  1.59it/s]"
     ]
    },
    {
     "name": "stdout",
     "output_type": "stream",
     "text": [
      "First net took 0.58 many second to check 342 many pictures.\n",
      "currently 0 many boxes\n",
      "After belief, still 0 many boxes. It took 0.0 many seconds.\n",
      "There are 0 centers in the centers.\n",
      "0 of 0 boxes survived the Ensemble-Check! It took 0.0 many seconds.\n",
      "No final boxes!\n"
     ]
    },
    {
     "name": "stderr",
     "output_type": "stream",
     "text": [
      "\u001b[A\n",
      "  6%|▌         | 70/1261 [00:42<12:22,  1.60it/s]"
     ]
    },
    {
     "name": "stdout",
     "output_type": "stream",
     "text": [
      "First net took 0.58 many second to check 342 many pictures.\n",
      "currently 0 many boxes\n",
      "After belief, still 0 many boxes. It took 0.0 many seconds.\n",
      "There are 0 centers in the centers.\n",
      "0 of 0 boxes survived the Ensemble-Check! It took 0.0 many seconds.\n",
      "No final boxes!\n"
     ]
    },
    {
     "name": "stderr",
     "output_type": "stream",
     "text": [
      "\u001b[A\n",
      "  6%|▌         | 71/1261 [00:43<12:20,  1.61it/s]"
     ]
    },
    {
     "name": "stdout",
     "output_type": "stream",
     "text": [
      "First net took 0.59 many second to check 342 many pictures.\n",
      "currently 0 many boxes\n",
      "After belief, still 0 many boxes. It took 0.0 many seconds.\n",
      "There are 0 centers in the centers.\n",
      "0 of 0 boxes survived the Ensemble-Check! It took 0.0 many seconds.\n",
      "No final boxes!\n"
     ]
    },
    {
     "name": "stderr",
     "output_type": "stream",
     "text": [
      "\u001b[A\n",
      "  6%|▌         | 72/1261 [00:44<12:29,  1.59it/s]"
     ]
    },
    {
     "name": "stdout",
     "output_type": "stream",
     "text": [
      "First net took 0.62 many second to check 342 many pictures.\n",
      "currently 0 many boxes\n",
      "After belief, still 0 many boxes. It took 0.0 many seconds.\n",
      "There are 0 centers in the centers.\n",
      "0 of 0 boxes survived the Ensemble-Check! It took 0.0 many seconds.\n",
      "No final boxes!\n"
     ]
    },
    {
     "name": "stderr",
     "output_type": "stream",
     "text": [
      "\u001b[A\n",
      "  6%|▌         | 73/1261 [00:44<12:23,  1.60it/s]"
     ]
    },
    {
     "name": "stdout",
     "output_type": "stream",
     "text": [
      "First net took 0.58 many second to check 342 many pictures.\n",
      "currently 0 many boxes\n",
      "After belief, still 0 many boxes. It took 0.0 many seconds.\n",
      "There are 0 centers in the centers.\n",
      "0 of 0 boxes survived the Ensemble-Check! It took 0.0 many seconds.\n",
      "No final boxes!\n"
     ]
    },
    {
     "name": "stderr",
     "output_type": "stream",
     "text": [
      "\u001b[A\n",
      "  6%|▌         | 74/1261 [00:45<12:26,  1.59it/s]"
     ]
    },
    {
     "name": "stdout",
     "output_type": "stream",
     "text": [
      "First net took 0.6 many second to check 342 many pictures.\n",
      "currently 0 many boxes\n",
      "After belief, still 0 many boxes. It took 0.0 many seconds.\n",
      "There are 0 centers in the centers.\n",
      "0 of 0 boxes survived the Ensemble-Check! It took 0.0 many seconds.\n",
      "No final boxes!\n"
     ]
    },
    {
     "name": "stderr",
     "output_type": "stream",
     "text": [
      "\u001b[A\n",
      "  6%|▌         | 75/1261 [00:46<12:23,  1.60it/s]"
     ]
    },
    {
     "name": "stdout",
     "output_type": "stream",
     "text": [
      "First net took 0.59 many second to check 342 many pictures.\n",
      "currently 0 many boxes\n",
      "After belief, still 0 many boxes. It took 0.0 many seconds.\n",
      "There are 0 centers in the centers.\n",
      "0 of 0 boxes survived the Ensemble-Check! It took 0.0 many seconds.\n",
      "No final boxes!\n"
     ]
    },
    {
     "name": "stderr",
     "output_type": "stream",
     "text": [
      "\u001b[A\n",
      "  6%|▌         | 76/1261 [00:46<12:16,  1.61it/s]"
     ]
    },
    {
     "name": "stdout",
     "output_type": "stream",
     "text": [
      "First net took 0.58 many second to check 342 many pictures.\n",
      "currently 0 many boxes\n",
      "After belief, still 0 many boxes. It took 0.0 many seconds.\n",
      "There are 0 centers in the centers.\n",
      "0 of 0 boxes survived the Ensemble-Check! It took 0.0 many seconds.\n",
      "No final boxes!\n"
     ]
    },
    {
     "name": "stderr",
     "output_type": "stream",
     "text": [
      "\u001b[A\n",
      "  6%|▌         | 77/1261 [00:47<12:11,  1.62it/s]"
     ]
    },
    {
     "name": "stdout",
     "output_type": "stream",
     "text": [
      "First net took 0.58 many second to check 342 many pictures.\n",
      "currently 0 many boxes\n",
      "After belief, still 0 many boxes. It took 0.0 many seconds.\n",
      "There are 0 centers in the centers.\n",
      "0 of 0 boxes survived the Ensemble-Check! It took 0.0 many seconds.\n",
      "No final boxes!\n"
     ]
    },
    {
     "name": "stderr",
     "output_type": "stream",
     "text": [
      "\u001b[A\n",
      "  6%|▌         | 78/1261 [00:47<12:16,  1.61it/s]"
     ]
    },
    {
     "name": "stdout",
     "output_type": "stream",
     "text": [
      "First net took 0.6 many second to check 342 many pictures.\n",
      "currently 0 many boxes\n",
      "After belief, still 0 many boxes. It took 0.0 many seconds.\n",
      "There are 0 centers in the centers.\n",
      "0 of 0 boxes survived the Ensemble-Check! It took 0.0 many seconds.\n",
      "No final boxes!\n"
     ]
    },
    {
     "name": "stderr",
     "output_type": "stream",
     "text": [
      "\u001b[A\n",
      "  6%|▋         | 79/1261 [00:48<12:14,  1.61it/s]"
     ]
    },
    {
     "name": "stdout",
     "output_type": "stream",
     "text": [
      "First net took 0.59 many second to check 342 many pictures.\n",
      "currently 0 many boxes\n",
      "After belief, still 0 many boxes. It took 0.0 many seconds.\n",
      "There are 0 centers in the centers.\n",
      "0 of 0 boxes survived the Ensemble-Check! It took 0.0 many seconds.\n",
      "No final boxes!\n"
     ]
    },
    {
     "name": "stderr",
     "output_type": "stream",
     "text": [
      "\u001b[A\n",
      "  6%|▋         | 80/1261 [00:49<12:10,  1.62it/s]"
     ]
    },
    {
     "name": "stdout",
     "output_type": "stream",
     "text": [
      "First net took 0.58 many second to check 342 many pictures.\n",
      "currently 0 many boxes\n",
      "After belief, still 0 many boxes. It took 0.0 many seconds.\n",
      "There are 0 centers in the centers.\n",
      "0 of 0 boxes survived the Ensemble-Check! It took 0.0 many seconds.\n",
      "No final boxes!\n"
     ]
    },
    {
     "name": "stderr",
     "output_type": "stream",
     "text": [
      "\u001b[A\n",
      "  6%|▋         | 81/1261 [00:49<12:08,  1.62it/s]"
     ]
    },
    {
     "name": "stdout",
     "output_type": "stream",
     "text": [
      "First net took 0.58 many second to check 342 many pictures.\n",
      "currently 0 many boxes\n",
      "After belief, still 0 many boxes. It took 0.0 many seconds.\n",
      "There are 0 centers in the centers.\n",
      "0 of 0 boxes survived the Ensemble-Check! It took 0.0 many seconds.\n",
      "No final boxes!\n"
     ]
    },
    {
     "name": "stderr",
     "output_type": "stream",
     "text": [
      "\u001b[A\n",
      "  7%|▋         | 82/1261 [00:50<12:15,  1.60it/s]"
     ]
    },
    {
     "name": "stdout",
     "output_type": "stream",
     "text": [
      "First net took 0.61 many second to check 342 many pictures.\n",
      "currently 0 many boxes\n",
      "After belief, still 0 many boxes. It took 0.0 many seconds.\n",
      "There are 0 centers in the centers.\n",
      "0 of 0 boxes survived the Ensemble-Check! It took 0.0 many seconds.\n",
      "No final boxes!\n"
     ]
    },
    {
     "name": "stderr",
     "output_type": "stream",
     "text": [
      "\u001b[A\n",
      "  7%|▋         | 83/1261 [00:51<12:13,  1.60it/s]"
     ]
    },
    {
     "name": "stdout",
     "output_type": "stream",
     "text": [
      "First net took 0.59 many second to check 342 many pictures.\n",
      "currently 0 many boxes\n",
      "After belief, still 0 many boxes. It took 0.0 many seconds.\n",
      "There are 0 centers in the centers.\n",
      "0 of 0 boxes survived the Ensemble-Check! It took 0.0 many seconds.\n",
      "No final boxes!\n"
     ]
    },
    {
     "name": "stderr",
     "output_type": "stream",
     "text": [
      "\u001b[A\n",
      "  7%|▋         | 84/1261 [00:51<12:11,  1.61it/s]"
     ]
    },
    {
     "name": "stdout",
     "output_type": "stream",
     "text": [
      "First net took 0.59 many second to check 342 many pictures.\n",
      "currently 0 many boxes\n",
      "After belief, still 0 many boxes. It took 0.0 many seconds.\n",
      "There are 0 centers in the centers.\n",
      "0 of 0 boxes survived the Ensemble-Check! It took 0.0 many seconds.\n",
      "No final boxes!\n"
     ]
    },
    {
     "name": "stderr",
     "output_type": "stream",
     "text": [
      "\u001b[A\n",
      "  7%|▋         | 85/1261 [00:52<12:16,  1.60it/s]"
     ]
    },
    {
     "name": "stdout",
     "output_type": "stream",
     "text": [
      "First net took 0.6 many second to check 342 many pictures.\n",
      "currently 0 many boxes\n",
      "After belief, still 0 many boxes. It took 0.0 many seconds.\n",
      "There are 0 centers in the centers.\n",
      "0 of 0 boxes survived the Ensemble-Check! It took 0.0 many seconds.\n",
      "No final boxes!\n"
     ]
    },
    {
     "name": "stderr",
     "output_type": "stream",
     "text": [
      "\u001b[A\n",
      "  7%|▋         | 86/1261 [00:52<12:15,  1.60it/s]"
     ]
    },
    {
     "name": "stdout",
     "output_type": "stream",
     "text": [
      "First net took 0.59 many second to check 342 many pictures.\n",
      "currently 0 many boxes\n",
      "After belief, still 0 many boxes. It took 0.0 many seconds.\n",
      "There are 0 centers in the centers.\n",
      "0 of 0 boxes survived the Ensemble-Check! It took 0.0 many seconds.\n",
      "No final boxes!\n"
     ]
    },
    {
     "name": "stderr",
     "output_type": "stream",
     "text": [
      "\u001b[A\n",
      "  7%|▋         | 87/1261 [00:53<12:12,  1.60it/s]"
     ]
    },
    {
     "name": "stdout",
     "output_type": "stream",
     "text": [
      "First net took 0.59 many second to check 342 many pictures.\n",
      "currently 0 many boxes\n",
      "After belief, still 0 many boxes. It took 0.0 many seconds.\n",
      "There are 0 centers in the centers.\n",
      "0 of 0 boxes survived the Ensemble-Check! It took 0.0 many seconds.\n",
      "No final boxes!\n"
     ]
    },
    {
     "name": "stderr",
     "output_type": "stream",
     "text": [
      "\u001b[A\n",
      "  7%|▋         | 88/1261 [00:54<12:09,  1.61it/s]"
     ]
    },
    {
     "name": "stdout",
     "output_type": "stream",
     "text": [
      "First net took 0.59 many second to check 342 many pictures.\n",
      "currently 0 many boxes\n",
      "After belief, still 0 many boxes. It took 0.0 many seconds.\n",
      "There are 0 centers in the centers.\n",
      "0 of 0 boxes survived the Ensemble-Check! It took 0.0 many seconds.\n",
      "No final boxes!\n"
     ]
    },
    {
     "name": "stderr",
     "output_type": "stream",
     "text": [
      "\u001b[A\n",
      "  7%|▋         | 89/1261 [00:54<12:07,  1.61it/s]"
     ]
    },
    {
     "name": "stdout",
     "output_type": "stream",
     "text": [
      "First net took 0.59 many second to check 342 many pictures.\n",
      "currently 0 many boxes\n",
      "After belief, still 0 many boxes. It took 0.0 many seconds.\n",
      "There are 0 centers in the centers.\n",
      "0 of 0 boxes survived the Ensemble-Check! It took 0.0 many seconds.\n",
      "No final boxes!\n"
     ]
    },
    {
     "name": "stderr",
     "output_type": "stream",
     "text": [
      "\u001b[A\n",
      "  7%|▋         | 90/1261 [00:55<12:02,  1.62it/s]"
     ]
    },
    {
     "name": "stdout",
     "output_type": "stream",
     "text": [
      "First net took 0.58 many second to check 342 many pictures.\n",
      "currently 0 many boxes\n",
      "After belief, still 0 many boxes. It took 0.0 many seconds.\n",
      "There are 0 centers in the centers.\n",
      "0 of 0 boxes survived the Ensemble-Check! It took 0.0 many seconds.\n",
      "No final boxes!\n"
     ]
    },
    {
     "name": "stderr",
     "output_type": "stream",
     "text": [
      "\u001b[A\n",
      "  7%|▋         | 91/1261 [00:55<12:02,  1.62it/s]"
     ]
    },
    {
     "name": "stdout",
     "output_type": "stream",
     "text": [
      "First net took 0.59 many second to check 342 many pictures.\n",
      "currently 0 many boxes\n",
      "After belief, still 0 many boxes. It took 0.0 many seconds.\n",
      "There are 0 centers in the centers.\n",
      "0 of 0 boxes survived the Ensemble-Check! It took 0.0 many seconds.\n",
      "No final boxes!\n"
     ]
    },
    {
     "name": "stderr",
     "output_type": "stream",
     "text": [
      "\u001b[A\n",
      "  7%|▋         | 92/1261 [00:56<11:58,  1.63it/s]"
     ]
    },
    {
     "name": "stdout",
     "output_type": "stream",
     "text": [
      "First net took 0.58 many second to check 342 many pictures.\n",
      "currently 0 many boxes\n",
      "After belief, still 0 many boxes. It took 0.0 many seconds.\n",
      "There are 0 centers in the centers.\n",
      "0 of 0 boxes survived the Ensemble-Check! It took 0.0 many seconds.\n",
      "No final boxes!\n"
     ]
    },
    {
     "name": "stderr",
     "output_type": "stream",
     "text": [
      "\u001b[A\n",
      "  7%|▋         | 93/1261 [00:57<11:54,  1.63it/s]"
     ]
    },
    {
     "name": "stdout",
     "output_type": "stream",
     "text": [
      "First net took 0.58 many second to check 342 many pictures.\n",
      "currently 0 many boxes\n",
      "After belief, still 0 many boxes. It took 0.0 many seconds.\n",
      "There are 0 centers in the centers.\n",
      "0 of 0 boxes survived the Ensemble-Check! It took 0.0 many seconds.\n",
      "No final boxes!\n"
     ]
    },
    {
     "name": "stderr",
     "output_type": "stream",
     "text": [
      "\u001b[A\n",
      "  7%|▋         | 94/1261 [00:57<11:52,  1.64it/s]"
     ]
    },
    {
     "name": "stdout",
     "output_type": "stream",
     "text": [
      "First net took 0.58 many second to check 342 many pictures.\n",
      "currently 0 many boxes\n",
      "After belief, still 0 many boxes. It took 0.0 many seconds.\n",
      "There are 0 centers in the centers.\n",
      "0 of 0 boxes survived the Ensemble-Check! It took 0.0 many seconds.\n",
      "No final boxes!\n"
     ]
    },
    {
     "name": "stderr",
     "output_type": "stream",
     "text": [
      "\u001b[A\n",
      "  8%|▊         | 95/1261 [00:58<12:06,  1.61it/s]"
     ]
    },
    {
     "name": "stdout",
     "output_type": "stream",
     "text": [
      "First net took 0.62 many second to check 342 many pictures.\n",
      "currently 0 many boxes\n",
      "After belief, still 0 many boxes. It took 0.0 many seconds.\n",
      "There are 0 centers in the centers.\n",
      "0 of 0 boxes survived the Ensemble-Check! It took 0.0 many seconds.\n",
      "No final boxes!\n"
     ]
    },
    {
     "name": "stderr",
     "output_type": "stream",
     "text": [
      "\u001b[A\n",
      "  8%|▊         | 96/1261 [00:59<11:59,  1.62it/s]"
     ]
    },
    {
     "name": "stdout",
     "output_type": "stream",
     "text": [
      "First net took 0.58 many second to check 342 many pictures.\n",
      "currently 0 many boxes\n",
      "After belief, still 0 many boxes. It took 0.0 many seconds.\n",
      "There are 0 centers in the centers.\n",
      "0 of 0 boxes survived the Ensemble-Check! It took 0.0 many seconds.\n",
      "No final boxes!\n"
     ]
    },
    {
     "name": "stderr",
     "output_type": "stream",
     "text": [
      "\u001b[A\n",
      "  8%|▊         | 97/1261 [00:59<12:13,  1.59it/s]"
     ]
    },
    {
     "name": "stdout",
     "output_type": "stream",
     "text": [
      "First net took 0.63 many second to check 342 many pictures.\n",
      "currently 0 many boxes\n",
      "After belief, still 0 many boxes. It took 0.0 many seconds.\n",
      "There are 0 centers in the centers.\n",
      "0 of 0 boxes survived the Ensemble-Check! It took 0.0 many seconds.\n",
      "No final boxes!\n"
     ]
    },
    {
     "name": "stderr",
     "output_type": "stream",
     "text": [
      "\u001b[A\n",
      "  8%|▊         | 98/1261 [01:00<12:06,  1.60it/s]"
     ]
    },
    {
     "name": "stdout",
     "output_type": "stream",
     "text": [
      "First net took 0.58 many second to check 342 many pictures.\n",
      "currently 0 many boxes\n",
      "After belief, still 0 many boxes. It took 0.0 many seconds.\n",
      "There are 0 centers in the centers.\n",
      "0 of 0 boxes survived the Ensemble-Check! It took 0.0 many seconds.\n",
      "No final boxes!\n"
     ]
    },
    {
     "name": "stderr",
     "output_type": "stream",
     "text": [
      "\u001b[A\n",
      "  8%|▊         | 99/1261 [01:00<12:02,  1.61it/s]"
     ]
    },
    {
     "name": "stdout",
     "output_type": "stream",
     "text": [
      "First net took 0.59 many second to check 342 many pictures.\n",
      "currently 0 many boxes\n",
      "After belief, still 0 many boxes. It took 0.0 many seconds.\n",
      "There are 0 centers in the centers.\n",
      "0 of 0 boxes survived the Ensemble-Check! It took 0.0 many seconds.\n",
      "No final boxes!\n"
     ]
    },
    {
     "name": "stderr",
     "output_type": "stream",
     "text": [
      "\u001b[A\n",
      "  8%|▊         | 100/1261 [01:01<11:58,  1.62it/s]"
     ]
    },
    {
     "name": "stdout",
     "output_type": "stream",
     "text": [
      "First net took 0.58 many second to check 342 many pictures.\n",
      "currently 0 many boxes\n",
      "After belief, still 0 many boxes. It took 0.0 many seconds.\n",
      "There are 0 centers in the centers.\n",
      "0 of 0 boxes survived the Ensemble-Check! It took 0.0 many seconds.\n",
      "No final boxes!\n"
     ]
    },
    {
     "name": "stderr",
     "output_type": "stream",
     "text": [
      "\u001b[A\n",
      "  8%|▊         | 101/1261 [01:02<11:56,  1.62it/s]"
     ]
    },
    {
     "name": "stdout",
     "output_type": "stream",
     "text": [
      "First net took 0.58 many second to check 342 many pictures.\n",
      "currently 0 many boxes\n",
      "After belief, still 0 many boxes. It took 0.0 many seconds.\n",
      "There are 0 centers in the centers.\n",
      "0 of 0 boxes survived the Ensemble-Check! It took 0.0 many seconds.\n",
      "No final boxes!\n"
     ]
    },
    {
     "name": "stderr",
     "output_type": "stream",
     "text": [
      "\u001b[A\n",
      "  8%|▊         | 102/1261 [01:02<11:51,  1.63it/s]"
     ]
    },
    {
     "name": "stdout",
     "output_type": "stream",
     "text": [
      "First net took 0.58 many second to check 342 many pictures.\n",
      "currently 0 many boxes\n",
      "After belief, still 0 many boxes. It took 0.0 many seconds.\n",
      "There are 0 centers in the centers.\n",
      "0 of 0 boxes survived the Ensemble-Check! It took 0.0 many seconds.\n",
      "No final boxes!\n"
     ]
    },
    {
     "name": "stderr",
     "output_type": "stream",
     "text": [
      "\u001b[A\n",
      "  8%|▊         | 103/1261 [01:03<11:51,  1.63it/s]"
     ]
    },
    {
     "name": "stdout",
     "output_type": "stream",
     "text": [
      "First net took 0.59 many second to check 342 many pictures.\n",
      "currently 0 many boxes\n",
      "After belief, still 0 many boxes. It took 0.0 many seconds.\n",
      "There are 0 centers in the centers.\n",
      "0 of 0 boxes survived the Ensemble-Check! It took 0.0 many seconds.\n",
      "No final boxes!\n"
     ]
    },
    {
     "name": "stderr",
     "output_type": "stream",
     "text": [
      "\u001b[A\n",
      "  8%|▊         | 104/1261 [01:04<11:49,  1.63it/s]"
     ]
    },
    {
     "name": "stdout",
     "output_type": "stream",
     "text": [
      "First net took 0.58 many second to check 342 many pictures.\n",
      "currently 0 many boxes\n",
      "After belief, still 0 many boxes. It took 0.0 many seconds.\n",
      "There are 0 centers in the centers.\n",
      "0 of 0 boxes survived the Ensemble-Check! It took 0.0 many seconds.\n",
      "No final boxes!\n"
     ]
    },
    {
     "name": "stderr",
     "output_type": "stream",
     "text": [
      "\u001b[A\n",
      "  8%|▊         | 105/1261 [01:04<11:52,  1.62it/s]"
     ]
    },
    {
     "name": "stdout",
     "output_type": "stream",
     "text": [
      "First net took 0.59 many second to check 342 many pictures.\n",
      "currently 0 many boxes\n",
      "After belief, still 0 many boxes. It took 0.0 many seconds.\n",
      "There are 0 centers in the centers.\n",
      "0 of 0 boxes survived the Ensemble-Check! It took 0.0 many seconds.\n",
      "No final boxes!\n"
     ]
    },
    {
     "name": "stderr",
     "output_type": "stream",
     "text": [
      "\u001b[A\n",
      "  8%|▊         | 106/1261 [01:05<11:49,  1.63it/s]"
     ]
    },
    {
     "name": "stdout",
     "output_type": "stream",
     "text": [
      "First net took 0.58 many second to check 342 many pictures.\n",
      "currently 0 many boxes\n",
      "After belief, still 0 many boxes. It took 0.0 many seconds.\n",
      "There are 0 centers in the centers.\n",
      "0 of 0 boxes survived the Ensemble-Check! It took 0.0 many seconds.\n",
      "No final boxes!\n"
     ]
    },
    {
     "name": "stderr",
     "output_type": "stream",
     "text": [
      "\u001b[A\n",
      "  8%|▊         | 107/1261 [01:05<11:47,  1.63it/s]"
     ]
    },
    {
     "name": "stdout",
     "output_type": "stream",
     "text": [
      "First net took 0.58 many second to check 342 many pictures.\n",
      "currently 0 many boxes\n",
      "After belief, still 0 many boxes. It took 0.0 many seconds.\n",
      "There are 0 centers in the centers.\n",
      "0 of 0 boxes survived the Ensemble-Check! It took 0.0 many seconds.\n",
      "No final boxes!\n"
     ]
    },
    {
     "name": "stderr",
     "output_type": "stream",
     "text": [
      "\u001b[A\n",
      "  9%|▊         | 108/1261 [01:06<11:45,  1.63it/s]"
     ]
    },
    {
     "name": "stdout",
     "output_type": "stream",
     "text": [
      "First net took 0.58 many second to check 342 many pictures.\n",
      "currently 0 many boxes\n",
      "After belief, still 0 many boxes. It took 0.0 many seconds.\n",
      "There are 0 centers in the centers.\n",
      "0 of 0 boxes survived the Ensemble-Check! It took 0.0 many seconds.\n",
      "No final boxes!\n"
     ]
    },
    {
     "name": "stderr",
     "output_type": "stream",
     "text": [
      "\u001b[A\n",
      "  9%|▊         | 109/1261 [01:07<11:59,  1.60it/s]"
     ]
    },
    {
     "name": "stdout",
     "output_type": "stream",
     "text": [
      "First net took 0.62 many second to check 342 many pictures.\n",
      "currently 0 many boxes\n",
      "After belief, still 0 many boxes. It took 0.0 many seconds.\n",
      "There are 0 centers in the centers.\n",
      "0 of 0 boxes survived the Ensemble-Check! It took 0.0 many seconds.\n",
      "No final boxes!\n"
     ]
    },
    {
     "name": "stderr",
     "output_type": "stream",
     "text": [
      "\u001b[A\n",
      "  9%|▊         | 110/1261 [01:07<12:06,  1.58it/s]"
     ]
    },
    {
     "name": "stdout",
     "output_type": "stream",
     "text": [
      "First net took 0.62 many second to check 342 many pictures.\n",
      "currently 0 many boxes\n",
      "After belief, still 0 many boxes. It took 0.0 many seconds.\n",
      "There are 0 centers in the centers.\n",
      "0 of 0 boxes survived the Ensemble-Check! It took 0.0 many seconds.\n",
      "No final boxes!\n"
     ]
    },
    {
     "name": "stderr",
     "output_type": "stream",
     "text": [
      "\u001b[A\n",
      "  9%|▉         | 111/1261 [01:08<12:01,  1.59it/s]"
     ]
    },
    {
     "name": "stdout",
     "output_type": "stream",
     "text": [
      "First net took 0.59 many second to check 342 many pictures.\n",
      "currently 0 many boxes\n",
      "After belief, still 0 many boxes. It took 0.0 many seconds.\n",
      "There are 0 centers in the centers.\n",
      "0 of 0 boxes survived the Ensemble-Check! It took 0.0 many seconds.\n",
      "No final boxes!\n"
     ]
    },
    {
     "name": "stderr",
     "output_type": "stream",
     "text": [
      "\u001b[A\n",
      "  9%|▉         | 112/1261 [01:08<11:54,  1.61it/s]"
     ]
    },
    {
     "name": "stdout",
     "output_type": "stream",
     "text": [
      "First net took 0.58 many second to check 342 many pictures.\n",
      "currently 0 many boxes\n",
      "After belief, still 0 many boxes. It took 0.0 many seconds.\n",
      "There are 0 centers in the centers.\n",
      "0 of 0 boxes survived the Ensemble-Check! It took 0.0 many seconds.\n",
      "No final boxes!\n"
     ]
    },
    {
     "name": "stderr",
     "output_type": "stream",
     "text": [
      "\u001b[A\n",
      "  9%|▉         | 113/1261 [01:09<11:52,  1.61it/s]"
     ]
    },
    {
     "name": "stdout",
     "output_type": "stream",
     "text": [
      "First net took 0.58 many second to check 342 many pictures.\n",
      "currently 0 many boxes\n",
      "After belief, still 0 many boxes. It took 0.0 many seconds.\n",
      "There are 0 centers in the centers.\n",
      "0 of 0 boxes survived the Ensemble-Check! It took 0.0 many seconds.\n",
      "No final boxes!\n"
     ]
    },
    {
     "name": "stderr",
     "output_type": "stream",
     "text": [
      "\u001b[A\n",
      "  9%|▉         | 114/1261 [01:10<11:52,  1.61it/s]"
     ]
    },
    {
     "name": "stdout",
     "output_type": "stream",
     "text": [
      "First net took 0.59 many second to check 342 many pictures.\n",
      "currently 0 many boxes\n",
      "After belief, still 0 many boxes. It took 0.0 many seconds.\n",
      "There are 0 centers in the centers.\n",
      "0 of 0 boxes survived the Ensemble-Check! It took 0.0 many seconds.\n",
      "No final boxes!\n"
     ]
    },
    {
     "name": "stderr",
     "output_type": "stream",
     "text": [
      "\u001b[A\n",
      "  9%|▉         | 115/1261 [01:10<11:48,  1.62it/s]"
     ]
    },
    {
     "name": "stdout",
     "output_type": "stream",
     "text": [
      "First net took 0.58 many second to check 342 many pictures.\n",
      "currently 0 many boxes\n",
      "After belief, still 0 many boxes. It took 0.0 many seconds.\n",
      "There are 0 centers in the centers.\n",
      "0 of 0 boxes survived the Ensemble-Check! It took 0.0 many seconds.\n",
      "No final boxes!\n"
     ]
    },
    {
     "name": "stderr",
     "output_type": "stream",
     "text": [
      "\u001b[A\n",
      "  9%|▉         | 116/1261 [01:11<11:47,  1.62it/s]"
     ]
    },
    {
     "name": "stdout",
     "output_type": "stream",
     "text": [
      "First net took 0.58 many second to check 342 many pictures.\n",
      "currently 0 many boxes\n",
      "After belief, still 0 many boxes. It took 0.0 many seconds.\n",
      "There are 0 centers in the centers.\n",
      "0 of 0 boxes survived the Ensemble-Check! It took 0.0 many seconds.\n",
      "No final boxes!\n"
     ]
    },
    {
     "name": "stderr",
     "output_type": "stream",
     "text": [
      "\u001b[A\n",
      "  9%|▉         | 117/1261 [01:12<11:45,  1.62it/s]"
     ]
    },
    {
     "name": "stdout",
     "output_type": "stream",
     "text": [
      "First net took 0.58 many second to check 342 many pictures.\n",
      "currently 0 many boxes\n",
      "After belief, still 0 many boxes. It took 0.0 many seconds.\n",
      "There are 0 centers in the centers.\n",
      "0 of 0 boxes survived the Ensemble-Check! It took 0.0 many seconds.\n",
      "No final boxes!\n"
     ]
    },
    {
     "name": "stderr",
     "output_type": "stream",
     "text": [
      "\u001b[A\n",
      "  9%|▉         | 118/1261 [01:12<11:45,  1.62it/s]"
     ]
    },
    {
     "name": "stdout",
     "output_type": "stream",
     "text": [
      "First net took 0.59 many second to check 342 many pictures.\n",
      "currently 0 many boxes\n",
      "After belief, still 0 many boxes. It took 0.0 many seconds.\n",
      "There are 0 centers in the centers.\n",
      "0 of 0 boxes survived the Ensemble-Check! It took 0.0 many seconds.\n",
      "No final boxes!\n"
     ]
    },
    {
     "name": "stderr",
     "output_type": "stream",
     "text": [
      "\u001b[A\n",
      "  9%|▉         | 119/1261 [01:13<11:42,  1.63it/s]"
     ]
    },
    {
     "name": "stdout",
     "output_type": "stream",
     "text": [
      "First net took 0.58 many second to check 342 many pictures.\n",
      "currently 0 many boxes\n",
      "After belief, still 0 many boxes. It took 0.0 many seconds.\n",
      "There are 0 centers in the centers.\n",
      "0 of 0 boxes survived the Ensemble-Check! It took 0.0 many seconds.\n",
      "No final boxes!\n"
     ]
    },
    {
     "name": "stderr",
     "output_type": "stream",
     "text": [
      "\u001b[A\n",
      " 10%|▉         | 120/1261 [01:13<11:41,  1.63it/s]"
     ]
    },
    {
     "name": "stdout",
     "output_type": "stream",
     "text": [
      "First net took 0.58 many second to check 342 many pictures.\n",
      "currently 0 many boxes\n",
      "After belief, still 0 many boxes. It took 0.0 many seconds.\n",
      "There are 0 centers in the centers.\n",
      "0 of 0 boxes survived the Ensemble-Check! It took 0.0 many seconds.\n",
      "No final boxes!\n"
     ]
    },
    {
     "name": "stderr",
     "output_type": "stream",
     "text": [
      "\u001b[A\n",
      " 10%|▉         | 121/1261 [01:14<11:40,  1.63it/s]"
     ]
    },
    {
     "name": "stdout",
     "output_type": "stream",
     "text": [
      "First net took 0.58 many second to check 342 many pictures.\n",
      "currently 0 many boxes\n",
      "After belief, still 0 many boxes. It took 0.0 many seconds.\n",
      "There are 0 centers in the centers.\n",
      "0 of 0 boxes survived the Ensemble-Check! It took 0.0 many seconds.\n",
      "No final boxes!\n"
     ]
    },
    {
     "name": "stderr",
     "output_type": "stream",
     "text": [
      "\u001b[A\n",
      " 10%|▉         | 122/1261 [01:15<11:38,  1.63it/s]"
     ]
    },
    {
     "name": "stdout",
     "output_type": "stream",
     "text": [
      "First net took 0.58 many second to check 342 many pictures.\n",
      "currently 0 many boxes\n",
      "After belief, still 0 many boxes. It took 0.0 many seconds.\n",
      "There are 0 centers in the centers.\n",
      "0 of 0 boxes survived the Ensemble-Check! It took 0.0 many seconds.\n",
      "No final boxes!\n"
     ]
    },
    {
     "name": "stderr",
     "output_type": "stream",
     "text": [
      "\u001b[A\n",
      " 10%|▉         | 123/1261 [01:15<11:35,  1.64it/s]"
     ]
    },
    {
     "name": "stdout",
     "output_type": "stream",
     "text": [
      "First net took 0.58 many second to check 342 many pictures.\n",
      "currently 0 many boxes\n",
      "After belief, still 0 many boxes. It took 0.0 many seconds.\n",
      "There are 0 centers in the centers.\n",
      "0 of 0 boxes survived the Ensemble-Check! It took 0.0 many seconds.\n",
      "No final boxes!\n"
     ]
    },
    {
     "name": "stderr",
     "output_type": "stream",
     "text": [
      "\u001b[A\n",
      " 10%|▉         | 124/1261 [01:16<11:43,  1.62it/s]"
     ]
    },
    {
     "name": "stdout",
     "output_type": "stream",
     "text": [
      "First net took 0.61 many second to check 342 many pictures.\n",
      "currently 0 many boxes\n",
      "After belief, still 0 many boxes. It took 0.0 many seconds.\n",
      "There are 0 centers in the centers.\n",
      "0 of 0 boxes survived the Ensemble-Check! It took 0.0 many seconds.\n",
      "No final boxes!\n"
     ]
    },
    {
     "name": "stderr",
     "output_type": "stream",
     "text": [
      "\u001b[A\n",
      " 10%|▉         | 125/1261 [01:17<11:41,  1.62it/s]"
     ]
    },
    {
     "name": "stdout",
     "output_type": "stream",
     "text": [
      "First net took 0.58 many second to check 342 many pictures.\n",
      "currently 0 many boxes\n",
      "After belief, still 0 many boxes. It took 0.0 many seconds.\n",
      "There are 0 centers in the centers.\n",
      "0 of 0 boxes survived the Ensemble-Check! It took 0.0 many seconds.\n",
      "No final boxes!\n"
     ]
    },
    {
     "name": "stderr",
     "output_type": "stream",
     "text": [
      "\u001b[A\n",
      " 10%|▉         | 126/1261 [01:17<11:40,  1.62it/s]"
     ]
    },
    {
     "name": "stdout",
     "output_type": "stream",
     "text": [
      "First net took 0.59 many second to check 342 many pictures.\n",
      "currently 0 many boxes\n",
      "After belief, still 0 many boxes. It took 0.0 many seconds.\n",
      "There are 0 centers in the centers.\n",
      "0 of 0 boxes survived the Ensemble-Check! It took 0.0 many seconds.\n",
      "No final boxes!\n"
     ]
    },
    {
     "name": "stderr",
     "output_type": "stream",
     "text": [
      "\u001b[A\n",
      " 10%|█         | 127/1261 [01:18<11:36,  1.63it/s]"
     ]
    },
    {
     "name": "stdout",
     "output_type": "stream",
     "text": [
      "First net took 0.58 many second to check 342 many pictures.\n",
      "currently 0 many boxes\n",
      "After belief, still 0 many boxes. It took 0.0 many seconds.\n",
      "There are 0 centers in the centers.\n",
      "0 of 0 boxes survived the Ensemble-Check! It took 0.0 many seconds.\n",
      "No final boxes!\n"
     ]
    },
    {
     "name": "stderr",
     "output_type": "stream",
     "text": [
      "\u001b[A\n",
      " 10%|█         | 128/1261 [01:18<11:45,  1.61it/s]"
     ]
    },
    {
     "name": "stdout",
     "output_type": "stream",
     "text": [
      "First net took 0.61 many second to check 342 many pictures.\n",
      "currently 0 many boxes\n",
      "After belief, still 0 many boxes. It took 0.0 many seconds.\n",
      "There are 0 centers in the centers.\n",
      "0 of 0 boxes survived the Ensemble-Check! It took 0.0 many seconds.\n",
      "No final boxes!\n"
     ]
    },
    {
     "name": "stderr",
     "output_type": "stream",
     "text": [
      "\u001b[A\n",
      " 10%|█         | 129/1261 [01:19<11:41,  1.61it/s]"
     ]
    },
    {
     "name": "stdout",
     "output_type": "stream",
     "text": [
      "First net took 0.58 many second to check 342 many pictures.\n",
      "currently 0 many boxes\n",
      "After belief, still 0 many boxes. It took 0.0 many seconds.\n",
      "There are 0 centers in the centers.\n",
      "0 of 0 boxes survived the Ensemble-Check! It took 0.0 many seconds.\n",
      "No final boxes!\n"
     ]
    },
    {
     "name": "stderr",
     "output_type": "stream",
     "text": [
      "\u001b[A\n",
      " 10%|█         | 130/1261 [01:20<11:47,  1.60it/s]"
     ]
    },
    {
     "name": "stdout",
     "output_type": "stream",
     "text": [
      "First net took 0.61 many second to check 342 many pictures.\n",
      "currently 0 many boxes\n",
      "After belief, still 0 many boxes. It took 0.0 many seconds.\n",
      "There are 0 centers in the centers.\n",
      "0 of 0 boxes survived the Ensemble-Check! It took 0.0 many seconds.\n",
      "No final boxes!\n"
     ]
    },
    {
     "name": "stderr",
     "output_type": "stream",
     "text": [
      "\u001b[A\n",
      " 10%|█         | 131/1261 [01:20<11:45,  1.60it/s]"
     ]
    },
    {
     "name": "stdout",
     "output_type": "stream",
     "text": [
      "First net took 0.59 many second to check 342 many pictures.\n",
      "currently 0 many boxes\n",
      "After belief, still 0 many boxes. It took 0.0 many seconds.\n",
      "There are 0 centers in the centers.\n",
      "0 of 0 boxes survived the Ensemble-Check! It took 0.0 many seconds.\n",
      "No final boxes!\n"
     ]
    },
    {
     "name": "stderr",
     "output_type": "stream",
     "text": [
      "\u001b[A\n",
      " 10%|█         | 132/1261 [01:21<11:42,  1.61it/s]"
     ]
    },
    {
     "name": "stdout",
     "output_type": "stream",
     "text": [
      "First net took 0.59 many second to check 342 many pictures.\n",
      "currently 0 many boxes\n",
      "After belief, still 0 many boxes. It took 0.0 many seconds.\n",
      "There are 0 centers in the centers.\n",
      "0 of 0 boxes survived the Ensemble-Check! It took 0.0 many seconds.\n",
      "No final boxes!\n"
     ]
    },
    {
     "name": "stderr",
     "output_type": "stream",
     "text": [
      "\u001b[A\n",
      " 11%|█         | 133/1261 [01:21<11:39,  1.61it/s]"
     ]
    },
    {
     "name": "stdout",
     "output_type": "stream",
     "text": [
      "First net took 0.58 many second to check 342 many pictures.\n",
      "currently 0 many boxes\n",
      "After belief, still 0 many boxes. It took 0.0 many seconds.\n",
      "There are 0 centers in the centers.\n",
      "0 of 0 boxes survived the Ensemble-Check! It took 0.0 many seconds.\n",
      "No final boxes!\n"
     ]
    },
    {
     "name": "stderr",
     "output_type": "stream",
     "text": [
      "\u001b[A\n",
      " 11%|█         | 134/1261 [01:22<11:36,  1.62it/s]"
     ]
    },
    {
     "name": "stdout",
     "output_type": "stream",
     "text": [
      "First net took 0.58 many second to check 342 many pictures.\n",
      "currently 0 many boxes\n",
      "After belief, still 0 many boxes. It took 0.0 many seconds.\n",
      "There are 0 centers in the centers.\n",
      "0 of 0 boxes survived the Ensemble-Check! It took 0.0 many seconds.\n",
      "No final boxes!\n"
     ]
    },
    {
     "name": "stderr",
     "output_type": "stream",
     "text": [
      "\u001b[A\n",
      " 11%|█         | 135/1261 [01:23<11:33,  1.62it/s]"
     ]
    },
    {
     "name": "stdout",
     "output_type": "stream",
     "text": [
      "First net took 0.58 many second to check 342 many pictures.\n",
      "currently 0 many boxes\n",
      "After belief, still 0 many boxes. It took 0.0 many seconds.\n",
      "There are 0 centers in the centers.\n",
      "0 of 0 boxes survived the Ensemble-Check! It took 0.0 many seconds.\n",
      "No final boxes!\n"
     ]
    },
    {
     "name": "stderr",
     "output_type": "stream",
     "text": [
      "\u001b[A\n",
      " 11%|█         | 136/1261 [01:23<11:34,  1.62it/s]"
     ]
    },
    {
     "name": "stdout",
     "output_type": "stream",
     "text": [
      "First net took 0.59 many second to check 342 many pictures.\n",
      "currently 0 many boxes\n",
      "After belief, still 0 many boxes. It took 0.0 many seconds.\n",
      "There are 0 centers in the centers.\n",
      "0 of 0 boxes survived the Ensemble-Check! It took 0.0 many seconds.\n",
      "No final boxes!\n"
     ]
    },
    {
     "name": "stderr",
     "output_type": "stream",
     "text": [
      "\u001b[A\n",
      " 11%|█         | 137/1261 [01:24<11:30,  1.63it/s]"
     ]
    },
    {
     "name": "stdout",
     "output_type": "stream",
     "text": [
      "First net took 0.58 many second to check 342 many pictures.\n",
      "currently 0 many boxes\n",
      "After belief, still 0 many boxes. It took 0.0 many seconds.\n",
      "There are 0 centers in the centers.\n",
      "0 of 0 boxes survived the Ensemble-Check! It took 0.0 many seconds.\n",
      "No final boxes!\n"
     ]
    },
    {
     "name": "stderr",
     "output_type": "stream",
     "text": [
      "\u001b[A\n",
      " 11%|█         | 138/1261 [01:25<11:29,  1.63it/s]"
     ]
    },
    {
     "name": "stdout",
     "output_type": "stream",
     "text": [
      "First net took 0.58 many second to check 342 many pictures.\n",
      "currently 0 many boxes\n",
      "After belief, still 0 many boxes. It took 0.0 many seconds.\n",
      "There are 0 centers in the centers.\n",
      "0 of 0 boxes survived the Ensemble-Check! It took 0.0 many seconds.\n",
      "No final boxes!\n"
     ]
    },
    {
     "name": "stderr",
     "output_type": "stream",
     "text": [
      "\u001b[A\n",
      " 11%|█         | 139/1261 [01:25<11:28,  1.63it/s]"
     ]
    },
    {
     "name": "stdout",
     "output_type": "stream",
     "text": [
      "First net took 0.58 many second to check 342 many pictures.\n",
      "currently 0 many boxes\n",
      "After belief, still 0 many boxes. It took 0.0 many seconds.\n",
      "There are 0 centers in the centers.\n",
      "0 of 0 boxes survived the Ensemble-Check! It took 0.0 many seconds.\n",
      "No final boxes!\n"
     ]
    },
    {
     "name": "stderr",
     "output_type": "stream",
     "text": [
      "\u001b[A\n",
      " 11%|█         | 140/1261 [01:26<11:29,  1.63it/s]"
     ]
    },
    {
     "name": "stdout",
     "output_type": "stream",
     "text": [
      "First net took 0.59 many second to check 342 many pictures.\n",
      "currently 0 many boxes\n",
      "After belief, still 0 many boxes. It took 0.0 many seconds.\n",
      "There are 0 centers in the centers.\n",
      "0 of 0 boxes survived the Ensemble-Check! It took 0.0 many seconds.\n",
      "No final boxes!\n"
     ]
    },
    {
     "name": "stderr",
     "output_type": "stream",
     "text": [
      "\u001b[A\n",
      " 11%|█         | 141/1261 [01:26<11:31,  1.62it/s]"
     ]
    },
    {
     "name": "stdout",
     "output_type": "stream",
     "text": [
      "First net took 0.59 many second to check 342 many pictures.\n",
      "currently 0 many boxes\n",
      "After belief, still 0 many boxes. It took 0.0 many seconds.\n",
      "There are 0 centers in the centers.\n",
      "0 of 0 boxes survived the Ensemble-Check! It took 0.0 many seconds.\n",
      "No final boxes!\n"
     ]
    },
    {
     "name": "stderr",
     "output_type": "stream",
     "text": [
      "\u001b[A\n",
      " 11%|█▏        | 142/1261 [01:27<11:30,  1.62it/s]"
     ]
    },
    {
     "name": "stdout",
     "output_type": "stream",
     "text": [
      "First net took 0.58 many second to check 342 many pictures.\n",
      "currently 0 many boxes\n",
      "After belief, still 0 many boxes. It took 0.0 many seconds.\n",
      "There are 0 centers in the centers.\n",
      "0 of 0 boxes survived the Ensemble-Check! It took 0.0 many seconds.\n",
      "No final boxes!\n"
     ]
    },
    {
     "name": "stderr",
     "output_type": "stream",
     "text": [
      "\u001b[A\n",
      " 11%|█▏        | 143/1261 [01:28<11:27,  1.63it/s]"
     ]
    },
    {
     "name": "stdout",
     "output_type": "stream",
     "text": [
      "First net took 0.58 many second to check 342 many pictures.\n",
      "currently 0 many boxes\n",
      "After belief, still 0 many boxes. It took 0.0 many seconds.\n",
      "There are 0 centers in the centers.\n",
      "0 of 0 boxes survived the Ensemble-Check! It took 0.0 many seconds.\n",
      "No final boxes!\n"
     ]
    },
    {
     "name": "stderr",
     "output_type": "stream",
     "text": [
      "\u001b[A\n",
      " 11%|█▏        | 144/1261 [01:28<11:29,  1.62it/s]"
     ]
    },
    {
     "name": "stdout",
     "output_type": "stream",
     "text": [
      "First net took 0.59 many second to check 342 many pictures.\n",
      "currently 0 many boxes\n",
      "After belief, still 0 many boxes. It took 0.0 many seconds.\n",
      "There are 0 centers in the centers.\n",
      "0 of 0 boxes survived the Ensemble-Check! It took 0.0 many seconds.\n",
      "No final boxes!\n"
     ]
    },
    {
     "name": "stderr",
     "output_type": "stream",
     "text": [
      "\u001b[A\n",
      " 11%|█▏        | 145/1261 [01:29<11:26,  1.62it/s]"
     ]
    },
    {
     "name": "stdout",
     "output_type": "stream",
     "text": [
      "First net took 0.58 many second to check 342 many pictures.\n",
      "currently 0 many boxes\n",
      "After belief, still 0 many boxes. It took 0.0 many seconds.\n",
      "There are 0 centers in the centers.\n",
      "0 of 0 boxes survived the Ensemble-Check! It took 0.0 many seconds.\n",
      "No final boxes!\n"
     ]
    },
    {
     "name": "stderr",
     "output_type": "stream",
     "text": [
      "\u001b[A\n",
      " 12%|█▏        | 146/1261 [01:29<11:24,  1.63it/s]"
     ]
    },
    {
     "name": "stdout",
     "output_type": "stream",
     "text": [
      "First net took 0.58 many second to check 342 many pictures.\n",
      "currently 0 many boxes\n",
      "After belief, still 0 many boxes. It took 0.0 many seconds.\n",
      "There are 0 centers in the centers.\n",
      "0 of 0 boxes survived the Ensemble-Check! It took 0.0 many seconds.\n",
      "No final boxes!\n"
     ]
    },
    {
     "name": "stderr",
     "output_type": "stream",
     "text": [
      "\u001b[A\n",
      " 12%|█▏        | 147/1261 [01:30<11:30,  1.61it/s]"
     ]
    },
    {
     "name": "stdout",
     "output_type": "stream",
     "text": [
      "First net took 0.6 many second to check 342 many pictures.\n",
      "currently 0 many boxes\n",
      "After belief, still 0 many boxes. It took 0.0 many seconds.\n",
      "There are 0 centers in the centers.\n",
      "0 of 0 boxes survived the Ensemble-Check! It took 0.0 many seconds.\n",
      "No final boxes!\n"
     ]
    },
    {
     "name": "stderr",
     "output_type": "stream",
     "text": [
      "\u001b[A\n",
      " 12%|█▏        | 148/1261 [01:31<11:31,  1.61it/s]"
     ]
    },
    {
     "name": "stdout",
     "output_type": "stream",
     "text": [
      "First net took 0.59 many second to check 342 many pictures.\n",
      "currently 0 many boxes\n",
      "After belief, still 0 many boxes. It took 0.0 many seconds.\n",
      "There are 0 centers in the centers.\n",
      "0 of 0 boxes survived the Ensemble-Check! It took 0.0 many seconds.\n",
      "No final boxes!\n"
     ]
    },
    {
     "name": "stderr",
     "output_type": "stream",
     "text": [
      "\u001b[A\n",
      " 12%|█▏        | 149/1261 [01:31<11:27,  1.62it/s]"
     ]
    },
    {
     "name": "stdout",
     "output_type": "stream",
     "text": [
      "First net took 0.58 many second to check 342 many pictures.\n",
      "currently 0 many boxes\n",
      "After belief, still 0 many boxes. It took 0.0 many seconds.\n",
      "There are 0 centers in the centers.\n",
      "0 of 0 boxes survived the Ensemble-Check! It took 0.0 many seconds.\n",
      "No final boxes!\n"
     ]
    },
    {
     "name": "stderr",
     "output_type": "stream",
     "text": [
      "\u001b[A\n",
      " 12%|█▏        | 150/1261 [01:32<11:22,  1.63it/s]"
     ]
    },
    {
     "name": "stdout",
     "output_type": "stream",
     "text": [
      "First net took 0.58 many second to check 342 many pictures.\n",
      "currently 0 many boxes\n",
      "After belief, still 0 many boxes. It took 0.0 many seconds.\n",
      "There are 0 centers in the centers.\n",
      "0 of 0 boxes survived the Ensemble-Check! It took 0.0 many seconds.\n",
      "No final boxes!\n"
     ]
    },
    {
     "name": "stderr",
     "output_type": "stream",
     "text": [
      "\u001b[A\n",
      " 12%|█▏        | 151/1261 [01:33<11:19,  1.63it/s]"
     ]
    },
    {
     "name": "stdout",
     "output_type": "stream",
     "text": [
      "First net took 0.58 many second to check 342 many pictures.\n",
      "currently 0 many boxes\n",
      "After belief, still 0 many boxes. It took 0.0 many seconds.\n",
      "There are 0 centers in the centers.\n",
      "0 of 0 boxes survived the Ensemble-Check! It took 0.0 many seconds.\n",
      "No final boxes!\n"
     ]
    },
    {
     "name": "stderr",
     "output_type": "stream",
     "text": [
      "\u001b[A\n",
      " 12%|█▏        | 152/1261 [01:33<11:31,  1.60it/s]"
     ]
    },
    {
     "name": "stdout",
     "output_type": "stream",
     "text": [
      "First net took 0.62 many second to check 342 many pictures.\n",
      "currently 0 many boxes\n",
      "After belief, still 0 many boxes. It took 0.0 many seconds.\n",
      "There are 0 centers in the centers.\n",
      "0 of 0 boxes survived the Ensemble-Check! It took 0.0 many seconds.\n",
      "No final boxes!\n"
     ]
    },
    {
     "name": "stderr",
     "output_type": "stream",
     "text": [
      "\u001b[A\n",
      " 12%|█▏        | 153/1261 [01:34<11:37,  1.59it/s]"
     ]
    },
    {
     "name": "stdout",
     "output_type": "stream",
     "text": [
      "First net took 0.61 many second to check 342 many pictures.\n",
      "currently 0 many boxes\n",
      "After belief, still 0 many boxes. It took 0.0 many seconds.\n",
      "There are 0 centers in the centers.\n",
      "0 of 0 boxes survived the Ensemble-Check! It took 0.0 many seconds.\n",
      "No final boxes!\n"
     ]
    },
    {
     "name": "stderr",
     "output_type": "stream",
     "text": [
      "\u001b[A\n",
      " 12%|█▏        | 154/1261 [01:34<11:33,  1.60it/s]"
     ]
    },
    {
     "name": "stdout",
     "output_type": "stream",
     "text": [
      "First net took 0.59 many second to check 342 many pictures.\n",
      "currently 0 many boxes\n",
      "After belief, still 0 many boxes. It took 0.0 many seconds.\n",
      "There are 0 centers in the centers.\n",
      "0 of 0 boxes survived the Ensemble-Check! It took 0.0 many seconds.\n",
      "No final boxes!\n"
     ]
    },
    {
     "name": "stderr",
     "output_type": "stream",
     "text": [
      "\u001b[A\n",
      " 12%|█▏        | 155/1261 [01:35<11:28,  1.61it/s]"
     ]
    },
    {
     "name": "stdout",
     "output_type": "stream",
     "text": [
      "First net took 0.58 many second to check 342 many pictures.\n",
      "currently 0 many boxes\n",
      "After belief, still 0 many boxes. It took 0.0 many seconds.\n",
      "There are 0 centers in the centers.\n",
      "0 of 0 boxes survived the Ensemble-Check! It took 0.0 many seconds.\n",
      "No final boxes!\n"
     ]
    },
    {
     "name": "stderr",
     "output_type": "stream",
     "text": [
      "\u001b[A\n",
      " 12%|█▏        | 156/1261 [01:36<11:25,  1.61it/s]"
     ]
    },
    {
     "name": "stdout",
     "output_type": "stream",
     "text": [
      "First net took 0.59 many second to check 342 many pictures.\n",
      "currently 0 many boxes\n",
      "After belief, still 0 many boxes. It took 0.0 many seconds.\n",
      "There are 0 centers in the centers.\n",
      "0 of 0 boxes survived the Ensemble-Check! It took 0.0 many seconds.\n",
      "No final boxes!\n"
     ]
    },
    {
     "name": "stderr",
     "output_type": "stream",
     "text": [
      "\u001b[A\n",
      " 12%|█▏        | 157/1261 [01:36<11:20,  1.62it/s]"
     ]
    },
    {
     "name": "stdout",
     "output_type": "stream",
     "text": [
      "First net took 0.58 many second to check 342 many pictures.\n",
      "currently 0 many boxes\n",
      "After belief, still 0 many boxes. It took 0.0 many seconds.\n",
      "There are 0 centers in the centers.\n",
      "0 of 0 boxes survived the Ensemble-Check! It took 0.0 many seconds.\n",
      "No final boxes!\n"
     ]
    },
    {
     "name": "stderr",
     "output_type": "stream",
     "text": [
      "\u001b[A\n",
      " 13%|█▎        | 158/1261 [01:37<11:18,  1.62it/s]"
     ]
    },
    {
     "name": "stdout",
     "output_type": "stream",
     "text": [
      "First net took 0.58 many second to check 342 many pictures.\n",
      "currently 0 many boxes\n",
      "After belief, still 0 many boxes. It took 0.0 many seconds.\n",
      "There are 0 centers in the centers.\n",
      "0 of 0 boxes survived the Ensemble-Check! It took 0.0 many seconds.\n",
      "No final boxes!\n"
     ]
    },
    {
     "name": "stderr",
     "output_type": "stream",
     "text": [
      "\u001b[A\n",
      " 13%|█▎        | 159/1261 [01:38<11:18,  1.62it/s]"
     ]
    },
    {
     "name": "stdout",
     "output_type": "stream",
     "text": [
      "First net took 0.58 many second to check 342 many pictures.\n",
      "currently 0 many boxes\n",
      "After belief, still 0 many boxes. It took 0.0 many seconds.\n",
      "There are 0 centers in the centers.\n",
      "0 of 0 boxes survived the Ensemble-Check! It took 0.0 many seconds.\n",
      "No final boxes!\n"
     ]
    },
    {
     "name": "stderr",
     "output_type": "stream",
     "text": [
      "\u001b[A\n",
      " 13%|█▎        | 160/1261 [01:38<11:29,  1.60it/s]"
     ]
    },
    {
     "name": "stdout",
     "output_type": "stream",
     "text": [
      "First net took 0.62 many second to check 342 many pictures.\n",
      "currently 0 many boxes\n",
      "After belief, still 0 many boxes. It took 0.0 many seconds.\n",
      "There are 0 centers in the centers.\n",
      "0 of 0 boxes survived the Ensemble-Check! It took 0.0 many seconds.\n",
      "No final boxes!\n"
     ]
    },
    {
     "name": "stderr",
     "output_type": "stream",
     "text": [
      "\u001b[A\n",
      " 13%|█▎        | 161/1261 [01:39<11:24,  1.61it/s]"
     ]
    },
    {
     "name": "stdout",
     "output_type": "stream",
     "text": [
      "First net took 0.58 many second to check 342 many pictures.\n",
      "currently 0 many boxes\n",
      "After belief, still 0 many boxes. It took 0.0 many seconds.\n",
      "There are 0 centers in the centers.\n",
      "0 of 0 boxes survived the Ensemble-Check! It took 0.0 many seconds.\n",
      "No final boxes!\n"
     ]
    },
    {
     "name": "stderr",
     "output_type": "stream",
     "text": [
      "\u001b[A\n",
      " 13%|█▎        | 162/1261 [01:39<11:19,  1.62it/s]"
     ]
    },
    {
     "name": "stdout",
     "output_type": "stream",
     "text": [
      "First net took 0.58 many second to check 342 many pictures.\n",
      "currently 0 many boxes\n",
      "After belief, still 0 many boxes. It took 0.0 many seconds.\n",
      "There are 0 centers in the centers.\n",
      "0 of 0 boxes survived the Ensemble-Check! It took 0.0 many seconds.\n",
      "No final boxes!\n"
     ]
    },
    {
     "name": "stderr",
     "output_type": "stream",
     "text": [
      "\u001b[A\n",
      " 13%|█▎        | 163/1261 [01:40<11:25,  1.60it/s]"
     ]
    },
    {
     "name": "stdout",
     "output_type": "stream",
     "text": [
      "First net took 0.61 many second to check 342 many pictures.\n",
      "currently 0 many boxes\n",
      "After belief, still 0 many boxes. It took 0.0 many seconds.\n",
      "There are 0 centers in the centers.\n",
      "0 of 0 boxes survived the Ensemble-Check! It took 0.0 many seconds.\n",
      "No final boxes!\n"
     ]
    },
    {
     "name": "stderr",
     "output_type": "stream",
     "text": [
      "\u001b[A\n",
      " 13%|█▎        | 164/1261 [01:41<11:33,  1.58it/s]"
     ]
    },
    {
     "name": "stdout",
     "output_type": "stream",
     "text": [
      "First net took 0.62 many second to check 342 many pictures.\n",
      "currently 1 many boxes\n",
      "After belief, still 0 many boxes. It took 0.0 many seconds.\n",
      "There are 1 centers in the centers.\n",
      "0 of 0 boxes survived the Ensemble-Check! It took 0.0 many seconds.\n",
      "No final boxes!\n"
     ]
    },
    {
     "name": "stderr",
     "output_type": "stream",
     "text": [
      "\u001b[A\n",
      " 13%|█▎        | 165/1261 [01:41<11:26,  1.60it/s]"
     ]
    },
    {
     "name": "stdout",
     "output_type": "stream",
     "text": [
      "First net took 0.58 many second to check 342 many pictures.\n",
      "currently 1 many boxes\n",
      "After belief, still 0 many boxes. It took 0.0 many seconds.\n",
      "There are 1 centers in the centers.\n",
      "0 of 0 boxes survived the Ensemble-Check! It took 0.0 many seconds.\n",
      "No final boxes!\n"
     ]
    },
    {
     "name": "stderr",
     "output_type": "stream",
     "text": [
      "\u001b[A\n",
      " 13%|█▎        | 166/1261 [01:42<11:29,  1.59it/s]"
     ]
    },
    {
     "name": "stdout",
     "output_type": "stream",
     "text": [
      "First net took 0.6 many second to check 342 many pictures.\n",
      "currently 1 many boxes\n",
      "After belief, still 0 many boxes. It took 0.0 many seconds.\n",
      "There are 2 centers in the centers.\n",
      "0 of 0 boxes survived the Ensemble-Check! It took 0.0 many seconds.\n",
      "No final boxes!\n"
     ]
    },
    {
     "name": "stderr",
     "output_type": "stream",
     "text": [
      "\u001b[A\n",
      " 13%|█▎        | 167/1261 [01:43<11:22,  1.60it/s]"
     ]
    },
    {
     "name": "stdout",
     "output_type": "stream",
     "text": [
      "First net took 0.58 many second to check 342 many pictures.\n",
      "currently 1 many boxes\n",
      "After belief, still 0 many boxes. It took 0.0 many seconds.\n",
      "There are 3 centers in the centers.\n",
      "0 of 0 boxes survived the Ensemble-Check! It took 0.0 many seconds.\n",
      "No final boxes!\n"
     ]
    },
    {
     "name": "stderr",
     "output_type": "stream",
     "text": [
      "\u001b[A\n",
      " 13%|█▎        | 168/1261 [01:43<11:22,  1.60it/s]"
     ]
    },
    {
     "name": "stdout",
     "output_type": "stream",
     "text": [
      "First net took 0.59 many second to check 342 many pictures.\n",
      "currently 1 many boxes\n",
      "After belief, still 0 many boxes. It took 0.0 many seconds.\n",
      "There are 4 centers in the centers.\n",
      "0 of 0 boxes survived the Ensemble-Check! It took 0.0 many seconds.\n",
      "No final boxes!\n"
     ]
    },
    {
     "name": "stderr",
     "output_type": "stream",
     "text": [
      "\u001b[A\n",
      " 13%|█▎        | 169/1261 [01:44<11:20,  1.61it/s]"
     ]
    },
    {
     "name": "stdout",
     "output_type": "stream",
     "text": [
      "First net took 0.59 many second to check 342 many pictures.\n",
      "currently 1 many boxes\n",
      "After belief, still 0 many boxes. It took 0.0 many seconds.\n",
      "There are 5 centers in the centers.\n",
      "0 of 0 boxes survived the Ensemble-Check! It took 0.0 many seconds.\n",
      "No final boxes!\n"
     ]
    },
    {
     "name": "stderr",
     "output_type": "stream",
     "text": [
      "\u001b[A\n",
      " 13%|█▎        | 170/1261 [01:44<11:16,  1.61it/s]"
     ]
    },
    {
     "name": "stdout",
     "output_type": "stream",
     "text": [
      "First net took 0.58 many second to check 342 many pictures.\n",
      "currently 1 many boxes\n",
      "After belief, still 0 many boxes. It took 0.0 many seconds.\n",
      "There are 6 centers in the centers.\n",
      "0 of 0 boxes survived the Ensemble-Check! It took 0.0 many seconds.\n",
      "No final boxes!\n"
     ]
    },
    {
     "name": "stderr",
     "output_type": "stream",
     "text": [
      "\u001b[A\n",
      " 14%|█▎        | 171/1261 [01:45<11:21,  1.60it/s]"
     ]
    },
    {
     "name": "stdout",
     "output_type": "stream",
     "text": [
      "First net took 0.6 many second to check 342 many pictures.\n",
      "currently 2 many boxes\n",
      "After belief, still 0 many boxes. It took 0.0 many seconds.\n",
      "There are 8 centers in the centers.\n",
      "0 of 0 boxes survived the Ensemble-Check! It took 0.0 many seconds.\n",
      "No final boxes!\n"
     ]
    },
    {
     "name": "stderr",
     "output_type": "stream",
     "text": [
      "\u001b[A\n",
      " 14%|█▎        | 172/1261 [01:46<11:29,  1.58it/s]"
     ]
    },
    {
     "name": "stdout",
     "output_type": "stream",
     "text": [
      "First net took 0.62 many second to check 342 many pictures.\n",
      "currently 2 many boxes\n",
      "After belief, still 0 many boxes. It took 0.0 many seconds.\n",
      "There are 9 centers in the centers.\n",
      "0 of 0 boxes survived the Ensemble-Check! It took 0.0 many seconds.\n",
      "No final boxes!\n"
     ]
    },
    {
     "name": "stderr",
     "output_type": "stream",
     "text": [
      "\u001b[A\n",
      " 14%|█▎        | 173/1261 [01:46<11:22,  1.59it/s]"
     ]
    },
    {
     "name": "stdout",
     "output_type": "stream",
     "text": [
      "First net took 0.58 many second to check 342 many pictures.\n",
      "currently 2 many boxes\n",
      "After belief, still 0 many boxes. It took 0.0 many seconds.\n",
      "There are 10 centers in the centers.\n",
      "0 of 0 boxes survived the Ensemble-Check! It took 0.0 many seconds.\n",
      "No final boxes!\n"
     ]
    },
    {
     "name": "stderr",
     "output_type": "stream",
     "text": [
      "\u001b[A\n",
      " 14%|█▍        | 174/1261 [01:47<11:17,  1.60it/s]"
     ]
    },
    {
     "name": "stdout",
     "output_type": "stream",
     "text": [
      "First net took 0.58 many second to check 342 many pictures.\n",
      "currently 2 many boxes\n",
      "After belief, still 0 many boxes. It took 0.0 many seconds.\n",
      "There are 12 centers in the centers.\n",
      "0 of 0 boxes survived the Ensemble-Check! It took 0.0 many seconds.\n",
      "No final boxes!\n"
     ]
    },
    {
     "name": "stderr",
     "output_type": "stream",
     "text": [
      "\u001b[A\n",
      " 14%|█▍        | 175/1261 [01:48<11:21,  1.59it/s]"
     ]
    },
    {
     "name": "stdout",
     "output_type": "stream",
     "text": [
      "First net took 0.6 many second to check 342 many pictures.\n",
      "currently 2 many boxes\n",
      "After belief, still 0 many boxes. It took 0.0 many seconds.\n",
      "There are 14 centers in the centers.\n",
      "0 of 0 boxes survived the Ensemble-Check! It took 0.0 many seconds.\n",
      "No final boxes!\n"
     ]
    },
    {
     "name": "stderr",
     "output_type": "stream",
     "text": [
      "\u001b[A\n",
      " 14%|█▍        | 176/1261 [01:48<11:22,  1.59it/s]"
     ]
    },
    {
     "name": "stdout",
     "output_type": "stream",
     "text": [
      "First net took 0.6 many second to check 342 many pictures.\n",
      "currently 3 many boxes\n",
      "After belief, still 0 many boxes. It took 0.0 many seconds.\n",
      "There are 7 centers in the centers.\n",
      "0 of 0 boxes survived the Ensemble-Check! It took 0.0 many seconds.\n",
      "No final boxes!\n"
     ]
    },
    {
     "name": "stderr",
     "output_type": "stream",
     "text": [
      "\u001b[A\n",
      " 14%|█▍        | 177/1261 [01:49<11:21,  1.59it/s]"
     ]
    },
    {
     "name": "stdout",
     "output_type": "stream",
     "text": [
      "First net took 0.59 many second to check 342 many pictures.\n",
      "currently 3 many boxes\n",
      "After belief, still 0 many boxes. It took 0.0 many seconds.\n",
      "There are 9 centers in the centers.\n",
      "0 of 0 boxes survived the Ensemble-Check! It took 0.0 many seconds.\n",
      "No final boxes!\n"
     ]
    },
    {
     "name": "stderr",
     "output_type": "stream",
     "text": [
      "\u001b[A\n",
      " 14%|█▍        | 178/1261 [01:49<11:18,  1.60it/s]"
     ]
    },
    {
     "name": "stdout",
     "output_type": "stream",
     "text": [
      "First net took 0.59 many second to check 342 many pictures.\n",
      "currently 2 many boxes\n",
      "After belief, still 0 many boxes. It took 0.0 many seconds.\n",
      "There are 10 centers in the centers.\n",
      "0 of 0 boxes survived the Ensemble-Check! It took 0.0 many seconds.\n",
      "No final boxes!\n"
     ]
    },
    {
     "name": "stderr",
     "output_type": "stream",
     "text": [
      "\u001b[A\n",
      " 14%|█▍        | 179/1261 [01:50<11:15,  1.60it/s]"
     ]
    },
    {
     "name": "stdout",
     "output_type": "stream",
     "text": [
      "First net took 0.58 many second to check 342 many pictures.\n",
      "currently 2 many boxes\n",
      "After belief, still 0 many boxes. It took 0.0 many seconds.\n",
      "There are 12 centers in the centers.\n",
      "0 of 0 boxes survived the Ensemble-Check! It took 0.0 many seconds.\n",
      "No final boxes!\n"
     ]
    },
    {
     "name": "stderr",
     "output_type": "stream",
     "text": [
      "\u001b[A\n",
      " 14%|█▍        | 180/1261 [01:51<11:12,  1.61it/s]"
     ]
    },
    {
     "name": "stdout",
     "output_type": "stream",
     "text": [
      "First net took 0.58 many second to check 342 many pictures.\n",
      "currently 2 many boxes\n",
      "After belief, still 0 many boxes. It took 0.0 many seconds.\n",
      "There are 14 centers in the centers.\n",
      "0 of 0 boxes survived the Ensemble-Check! It took 0.0 many seconds.\n",
      "No final boxes!\n"
     ]
    },
    {
     "name": "stderr",
     "output_type": "stream",
     "text": [
      "\u001b[A\n",
      " 14%|█▍        | 181/1261 [01:51<11:11,  1.61it/s]"
     ]
    },
    {
     "name": "stdout",
     "output_type": "stream",
     "text": [
      "First net took 0.58 many second to check 342 many pictures.\n",
      "currently 2 many boxes\n",
      "After belief, still 0 many boxes. It took 0.0 many seconds.\n",
      "There are 16 centers in the centers.\n",
      "0 of 0 boxes survived the Ensemble-Check! It took 0.0 many seconds.\n",
      "No final boxes!\n"
     ]
    },
    {
     "name": "stderr",
     "output_type": "stream",
     "text": [
      "\u001b[A"
     ]
    },
    {
     "name": "stdout",
     "output_type": "stream",
     "text": [
      "First net took 0.58 many second to check 342 many pictures.\n",
      "currently 2 many boxes\n",
      "After belief, still 1 many boxes. It took 0.0 many seconds.\n",
      "There are 18 centers in the centers.\n",
      "1 of 1 boxes survived the Ensemble-Check! It took 0.96 many seconds.\n"
     ]
    },
    {
     "name": "stderr",
     "output_type": "stream",
     "text": [
      "\n",
      " 14%|█▍        | 182/1261 [01:54<19:49,  1.10s/it]\u001b[A"
     ]
    },
    {
     "name": "stdout",
     "output_type": "stream",
     "text": [
      "First net took 0.59 many second to check 342 many pictures.\n",
      "currently 2 many boxes\n",
      "After belief, still 1 many boxes. It took 0.0 many seconds.\n",
      "There are 20 centers in the centers.\n",
      "1 of 1 boxes survived the Ensemble-Check! It took 0.97 many seconds.\n"
     ]
    },
    {
     "name": "stderr",
     "output_type": "stream",
     "text": [
      "\n",
      " 15%|█▍        | 183/1261 [01:56<25:52,  1.44s/it]\u001b[A"
     ]
    },
    {
     "name": "stdout",
     "output_type": "stream",
     "text": [
      "First net took 0.59 many second to check 342 many pictures.\n",
      "currently 2 many boxes\n",
      "After belief, still 1 many boxes. It took 0.0 many seconds.\n",
      "There are 22 centers in the centers.\n",
      "1 of 1 boxes survived the Ensemble-Check! It took 0.96 many seconds.\n"
     ]
    },
    {
     "name": "stderr",
     "output_type": "stream",
     "text": [
      "\n",
      " 15%|█▍        | 184/1261 [01:58<29:59,  1.67s/it]\u001b[A"
     ]
    },
    {
     "name": "stdout",
     "output_type": "stream",
     "text": [
      "First net took 0.58 many second to check 342 many pictures.\n",
      "currently 2 many boxes\n",
      "After belief, still 1 many boxes. It took 0.0 many seconds.\n",
      "There are 24 centers in the centers.\n",
      "1 of 1 boxes survived the Ensemble-Check! It took 0.96 many seconds.\n"
     ]
    },
    {
     "name": "stderr",
     "output_type": "stream",
     "text": [
      "\n",
      " 15%|█▍        | 185/1261 [02:00<32:49,  1.83s/it]\u001b[A"
     ]
    },
    {
     "name": "stdout",
     "output_type": "stream",
     "text": [
      "First net took 0.58 many second to check 342 many pictures.\n",
      "currently 2 many boxes\n",
      "After belief, still 2 many boxes. It took 0.0 many seconds.\n",
      "There are 26 centers in the centers.\n",
      "Deleted Box!\n",
      "1 of 2 boxes survived the Ensemble-Check! It took 1.97 many seconds.\n"
     ]
    },
    {
     "name": "stderr",
     "output_type": "stream",
     "text": [
      "\n",
      " 15%|█▍        | 186/1261 [02:03<40:16,  2.25s/it]\u001b[A"
     ]
    },
    {
     "name": "stdout",
     "output_type": "stream",
     "text": [
      "First net took 0.58 many second to check 342 many pictures.\n",
      "currently 2 many boxes\n",
      "After belief, still 2 many boxes. It took 0.0 many seconds.\n",
      "There are 28 centers in the centers.\n",
      "Deleted Box!\n",
      "1 of 2 boxes survived the Ensemble-Check! It took 1.92 many seconds.\n"
     ]
    },
    {
     "name": "stderr",
     "output_type": "stream",
     "text": [
      "\n",
      " 15%|█▍        | 187/1261 [02:07<45:11,  2.52s/it]\u001b[A"
     ]
    },
    {
     "name": "stdout",
     "output_type": "stream",
     "text": [
      "First net took 0.59 many second to check 342 many pictures.\n",
      "currently 2 many boxes\n",
      "After belief, still 2 many boxes. It took 0.0 many seconds.\n",
      "There are 30 centers in the centers.\n",
      "Deleted Box!\n",
      "1 of 2 boxes survived the Ensemble-Check! It took 1.96 many seconds.\n"
     ]
    },
    {
     "name": "stderr",
     "output_type": "stream",
     "text": [
      "\n",
      " 15%|█▍        | 188/1261 [02:10<48:51,  2.73s/it]\u001b[A"
     ]
    },
    {
     "name": "stdout",
     "output_type": "stream",
     "text": [
      "First net took 0.61 many second to check 342 many pictures.\n",
      "currently 2 many boxes\n",
      "After belief, still 2 many boxes. It took 0.0 many seconds.\n",
      "There are 32 centers in the centers.\n",
      "Deleted Box!\n",
      "1 of 2 boxes survived the Ensemble-Check! It took 1.94 many seconds.\n"
     ]
    },
    {
     "name": "stderr",
     "output_type": "stream",
     "text": [
      "\n",
      " 15%|█▍        | 189/1261 [02:13<51:24,  2.88s/it]\u001b[A"
     ]
    },
    {
     "name": "stdout",
     "output_type": "stream",
     "text": [
      "First net took 0.58 many second to check 342 many pictures.\n",
      "currently 2 many boxes\n",
      "After belief, still 2 many boxes. It took 0.0 many seconds.\n",
      "There are 34 centers in the centers.\n",
      "Deleted Box!\n",
      "1 of 2 boxes survived the Ensemble-Check! It took 1.95 many seconds.\n"
     ]
    },
    {
     "name": "stderr",
     "output_type": "stream",
     "text": [
      "\n",
      " 15%|█▌        | 190/1261 [02:16<53:01,  2.97s/it]\u001b[A"
     ]
    },
    {
     "name": "stdout",
     "output_type": "stream",
     "text": [
      "First net took 0.58 many second to check 342 many pictures.\n",
      "currently 2 many boxes\n",
      "After belief, still 2 many boxes. It took 0.0 many seconds.\n",
      "There are 36 centers in the centers.\n",
      "Deleted Box!\n",
      "1 of 2 boxes survived the Ensemble-Check! It took 1.93 many seconds.\n"
     ]
    },
    {
     "name": "stderr",
     "output_type": "stream",
     "text": [
      "\n",
      " 15%|█▌        | 191/1261 [02:19<54:04,  3.03s/it]\u001b[A"
     ]
    },
    {
     "name": "stdout",
     "output_type": "stream",
     "text": [
      "First net took 0.59 many second to check 342 many pictures.\n",
      "currently 2 many boxes\n",
      "After belief, still 2 many boxes. It took 0.0 many seconds.\n",
      "There are 38 centers in the centers.\n",
      "Deleted Box!\n",
      "1 of 2 boxes survived the Ensemble-Check! It took 1.94 many seconds.\n"
     ]
    },
    {
     "name": "stderr",
     "output_type": "stream",
     "text": [
      "\n",
      " 15%|█▌        | 192/1261 [02:23<54:53,  3.08s/it]\u001b[A"
     ]
    },
    {
     "name": "stdout",
     "output_type": "stream",
     "text": [
      "First net took 0.59 many second to check 342 many pictures.\n",
      "currently 2 many boxes\n",
      "After belief, still 2 many boxes. It took 0.0 many seconds.\n",
      "There are 40 centers in the centers.\n",
      "Deleted Box!\n",
      "1 of 2 boxes survived the Ensemble-Check! It took 1.95 many seconds.\n"
     ]
    },
    {
     "name": "stderr",
     "output_type": "stream",
     "text": [
      "\n",
      " 15%|█▌        | 193/1261 [02:26<55:31,  3.12s/it]\u001b[A"
     ]
    },
    {
     "name": "stdout",
     "output_type": "stream",
     "text": [
      "First net took 0.6 many second to check 342 many pictures.\n",
      "currently 2 many boxes\n",
      "After belief, still 2 many boxes. It took 0.0 many seconds.\n",
      "There are 42 centers in the centers.\n",
      "Deleted Box!\n",
      "1 of 2 boxes survived the Ensemble-Check! It took 1.95 many seconds.\n"
     ]
    },
    {
     "name": "stderr",
     "output_type": "stream",
     "text": [
      "\n",
      " 15%|█▌        | 194/1261 [02:29<56:00,  3.15s/it]\u001b[A"
     ]
    },
    {
     "name": "stdout",
     "output_type": "stream",
     "text": [
      "First net took 0.58 many second to check 342 many pictures.\n",
      "currently 2 many boxes\n",
      "After belief, still 2 many boxes. It took 0.0 many seconds.\n",
      "There are 44 centers in the centers.\n",
      "Deleted Box!\n",
      "1 of 2 boxes survived the Ensemble-Check! It took 1.95 many seconds.\n"
     ]
    },
    {
     "name": "stderr",
     "output_type": "stream",
     "text": [
      "\n",
      " 15%|█▌        | 195/1261 [02:32<56:13,  3.17s/it]\u001b[A"
     ]
    },
    {
     "name": "stdout",
     "output_type": "stream",
     "text": [
      "First net took 0.59 many second to check 342 many pictures.\n",
      "currently 2 many boxes\n",
      "After belief, still 2 many boxes. It took 0.0 many seconds.\n",
      "There are 46 centers in the centers.\n",
      "Deleted Box!\n",
      "1 of 2 boxes survived the Ensemble-Check! It took 1.95 many seconds.\n"
     ]
    },
    {
     "name": "stderr",
     "output_type": "stream",
     "text": [
      "\n",
      " 16%|█▌        | 196/1261 [02:35<56:22,  3.18s/it]\u001b[A"
     ]
    },
    {
     "name": "stdout",
     "output_type": "stream",
     "text": [
      "First net took 0.58 many second to check 342 many pictures.\n",
      "currently 2 many boxes\n",
      "After belief, still 2 many boxes. It took 0.0 many seconds.\n",
      "There are 48 centers in the centers.\n",
      "Deleted Box!\n",
      "1 of 2 boxes survived the Ensemble-Check! It took 1.95 many seconds.\n"
     ]
    },
    {
     "name": "stderr",
     "output_type": "stream",
     "text": [
      "\n",
      " 16%|█▌        | 197/1261 [02:39<56:28,  3.18s/it]\u001b[A"
     ]
    },
    {
     "name": "stdout",
     "output_type": "stream",
     "text": [
      "First net took 0.61 many second to check 342 many pictures.\n",
      "currently 2 many boxes\n",
      "After belief, still 2 many boxes. It took 0.0 many seconds.\n",
      "There are 50 centers in the centers.\n",
      "Deleted Box!\n",
      "1 of 2 boxes survived the Ensemble-Check! It took 1.95 many seconds.\n"
     ]
    },
    {
     "name": "stderr",
     "output_type": "stream",
     "text": [
      "\n",
      " 16%|█▌        | 198/1261 [02:42<56:39,  3.20s/it]\u001b[A"
     ]
    },
    {
     "name": "stdout",
     "output_type": "stream",
     "text": [
      "First net took 0.58 many second to check 342 many pictures.\n",
      "currently 2 many boxes\n",
      "After belief, still 2 many boxes. It took 0.0 many seconds.\n",
      "There are 52 centers in the centers.\n",
      "Deleted Box!\n",
      "1 of 2 boxes survived the Ensemble-Check! It took 1.98 many seconds.\n"
     ]
    },
    {
     "name": "stderr",
     "output_type": "stream",
     "text": [
      "\n",
      " 16%|█▌        | 199/1261 [02:45<56:46,  3.21s/it]\u001b[A"
     ]
    },
    {
     "name": "stdout",
     "output_type": "stream",
     "text": [
      "First net took 0.6 many second to check 342 many pictures.\n",
      "currently 2 many boxes\n",
      "After belief, still 2 many boxes. It took 0.0 many seconds.\n",
      "There are 54 centers in the centers.\n",
      "Deleted Box!\n",
      "1 of 2 boxes survived the Ensemble-Check! It took 1.96 many seconds.\n"
     ]
    },
    {
     "name": "stderr",
     "output_type": "stream",
     "text": [
      "\n",
      " 16%|█▌        | 200/1261 [02:48<56:48,  3.21s/it]\u001b[A"
     ]
    },
    {
     "name": "stdout",
     "output_type": "stream",
     "text": [
      "First net took 0.58 many second to check 342 many pictures.\n",
      "currently 2 many boxes\n",
      "After belief, still 2 many boxes. It took 0.0 many seconds.\n",
      "There are 56 centers in the centers.\n",
      "Deleted Box!\n",
      "1 of 2 boxes survived the Ensemble-Check! It took 1.99 many seconds.\n"
     ]
    },
    {
     "name": "stderr",
     "output_type": "stream",
     "text": [
      "\n",
      " 16%|█▌        | 201/1261 [02:52<56:53,  3.22s/it]\u001b[A"
     ]
    },
    {
     "name": "stdout",
     "output_type": "stream",
     "text": [
      "First net took 0.59 many second to check 342 many pictures.\n",
      "currently 2 many boxes\n",
      "After belief, still 2 many boxes. It took 0.0 many seconds.\n",
      "There are 58 centers in the centers.\n",
      "Deleted Box!\n",
      "1 of 2 boxes survived the Ensemble-Check! It took 1.97 many seconds.\n"
     ]
    },
    {
     "name": "stderr",
     "output_type": "stream",
     "text": [
      "\n",
      " 16%|█▌        | 202/1261 [02:55<56:52,  3.22s/it]\u001b[A"
     ]
    },
    {
     "name": "stdout",
     "output_type": "stream",
     "text": [
      "First net took 0.58 many second to check 342 many pictures.\n",
      "currently 2 many boxes\n",
      "After belief, still 2 many boxes. It took 0.0 many seconds.\n",
      "There are 60 centers in the centers.\n",
      "Deleted Box!\n",
      "1 of 2 boxes survived the Ensemble-Check! It took 1.97 many seconds.\n"
     ]
    },
    {
     "name": "stderr",
     "output_type": "stream",
     "text": [
      "\n",
      " 16%|█▌        | 203/1261 [02:58<56:47,  3.22s/it]\u001b[A"
     ]
    },
    {
     "name": "stdout",
     "output_type": "stream",
     "text": [
      "First net took 0.58 many second to check 342 many pictures.\n",
      "currently 2 many boxes\n",
      "After belief, still 2 many boxes. It took 0.0 many seconds.\n",
      "There are 62 centers in the centers.\n",
      "Deleted Box!\n",
      "1 of 2 boxes survived the Ensemble-Check! It took 1.97 many seconds.\n"
     ]
    },
    {
     "name": "stderr",
     "output_type": "stream",
     "text": [
      "\n",
      " 16%|█▌        | 204/1261 [03:01<56:45,  3.22s/it]\u001b[A"
     ]
    },
    {
     "name": "stdout",
     "output_type": "stream",
     "text": [
      "First net took 0.58 many second to check 342 many pictures.\n",
      "currently 2 many boxes\n",
      "After belief, still 2 many boxes. It took 0.0 many seconds.\n",
      "There are 64 centers in the centers.\n",
      "Deleted Box!\n",
      "1 of 2 boxes survived the Ensemble-Check! It took 1.96 many seconds.\n"
     ]
    },
    {
     "name": "stderr",
     "output_type": "stream",
     "text": [
      "\n",
      " 16%|█▋        | 205/1261 [03:04<56:40,  3.22s/it]\u001b[A"
     ]
    },
    {
     "name": "stdout",
     "output_type": "stream",
     "text": [
      "First net took 0.58 many second to check 342 many pictures.\n",
      "currently 2 many boxes\n",
      "After belief, still 2 many boxes. It took 0.0 many seconds.\n",
      "There are 66 centers in the centers.\n",
      "Deleted Box!\n",
      "1 of 2 boxes survived the Ensemble-Check! It took 1.98 many seconds.\n"
     ]
    },
    {
     "name": "stderr",
     "output_type": "stream",
     "text": [
      "\n",
      " 16%|█▋        | 206/1261 [03:08<56:37,  3.22s/it]\u001b[A"
     ]
    },
    {
     "name": "stdout",
     "output_type": "stream",
     "text": [
      "First net took 0.58 many second to check 342 many pictures.\n",
      "currently 2 many boxes\n",
      "After belief, still 2 many boxes. It took 0.0 many seconds.\n",
      "There are 68 centers in the centers.\n",
      "Deleted Box!\n",
      "1 of 2 boxes survived the Ensemble-Check! It took 1.98 many seconds.\n"
     ]
    },
    {
     "name": "stderr",
     "output_type": "stream",
     "text": [
      "\n",
      " 16%|█▋        | 207/1261 [03:11<56:35,  3.22s/it]\u001b[A"
     ]
    },
    {
     "name": "stdout",
     "output_type": "stream",
     "text": [
      "First net took 0.58 many second to check 342 many pictures.\n",
      "currently 2 many boxes\n",
      "After belief, still 2 many boxes. It took 0.0 many seconds.\n",
      "There are 70 centers in the centers.\n",
      "Deleted Box!\n",
      "1 of 2 boxes survived the Ensemble-Check! It took 1.99 many seconds.\n"
     ]
    },
    {
     "name": "stderr",
     "output_type": "stream",
     "text": [
      "\n",
      " 16%|█▋        | 208/1261 [03:14<56:36,  3.23s/it]\u001b[A"
     ]
    },
    {
     "name": "stdout",
     "output_type": "stream",
     "text": [
      "First net took 0.58 many second to check 342 many pictures.\n",
      "currently 2 many boxes\n",
      "After belief, still 2 many boxes. It took 0.0 many seconds.\n",
      "There are 72 centers in the centers.\n",
      "Deleted Box!\n",
      "1 of 2 boxes survived the Ensemble-Check! It took 1.97 many seconds.\n"
     ]
    },
    {
     "name": "stderr",
     "output_type": "stream",
     "text": [
      "\n",
      " 17%|█▋        | 209/1261 [03:17<56:33,  3.23s/it]\u001b[A"
     ]
    },
    {
     "name": "stdout",
     "output_type": "stream",
     "text": [
      "First net took 0.58 many second to check 342 many pictures.\n",
      "currently 2 many boxes\n",
      "After belief, still 2 many boxes. It took 0.0 many seconds.\n",
      "There are 74 centers in the centers.\n",
      "Deleted Box!\n",
      "1 of 2 boxes survived the Ensemble-Check! It took 1.98 many seconds.\n"
     ]
    },
    {
     "name": "stderr",
     "output_type": "stream",
     "text": [
      "\n",
      " 17%|█▋        | 210/1261 [03:21<56:31,  3.23s/it]\u001b[A"
     ]
    },
    {
     "name": "stdout",
     "output_type": "stream",
     "text": [
      "First net took 0.58 many second to check 342 many pictures.\n",
      "currently 2 many boxes\n",
      "After belief, still 2 many boxes. It took 0.0 many seconds.\n",
      "There are 76 centers in the centers.\n",
      "Deleted Box!\n",
      "1 of 2 boxes survived the Ensemble-Check! It took 1.98 many seconds.\n"
     ]
    },
    {
     "name": "stderr",
     "output_type": "stream",
     "text": [
      "\n",
      " 17%|█▋        | 211/1261 [03:24<56:26,  3.23s/it]\u001b[A"
     ]
    },
    {
     "name": "stdout",
     "output_type": "stream",
     "text": [
      "First net took 0.59 many second to check 342 many pictures.\n",
      "currently 2 many boxes\n",
      "After belief, still 2 many boxes. It took 0.0 many seconds.\n",
      "There are 78 centers in the centers.\n",
      "Deleted Box!\n",
      "1 of 2 boxes survived the Ensemble-Check! It took 2.01 many seconds.\n"
     ]
    },
    {
     "name": "stderr",
     "output_type": "stream",
     "text": [
      "\n",
      " 17%|█▋        | 212/1261 [03:27<56:35,  3.24s/it]\u001b[A"
     ]
    },
    {
     "name": "stdout",
     "output_type": "stream",
     "text": [
      "First net took 0.61 many second to check 342 many pictures.\n",
      "currently 2 many boxes\n",
      "After belief, still 2 many boxes. It took 0.0 many seconds.\n",
      "There are 80 centers in the centers.\n",
      "Deleted Box!\n",
      "1 of 2 boxes survived the Ensemble-Check! It took 1.99 many seconds.\n"
     ]
    },
    {
     "name": "stderr",
     "output_type": "stream",
     "text": [
      "\n",
      " 17%|█▋        | 213/1261 [03:30<56:44,  3.25s/it]\u001b[A"
     ]
    },
    {
     "name": "stdout",
     "output_type": "stream",
     "text": [
      "First net took 0.58 many second to check 342 many pictures.\n",
      "currently 2 many boxes\n",
      "After belief, still 2 many boxes. It took 0.0 many seconds.\n",
      "There are 82 centers in the centers.\n",
      "Deleted Box!\n",
      "1 of 2 boxes survived the Ensemble-Check! It took 2.02 many seconds.\n"
     ]
    },
    {
     "name": "stderr",
     "output_type": "stream",
     "text": [
      "\n",
      " 17%|█▋        | 214/1261 [03:34<56:46,  3.25s/it]\u001b[A"
     ]
    },
    {
     "name": "stdout",
     "output_type": "stream",
     "text": [
      "First net took 0.58 many second to check 342 many pictures.\n",
      "currently 2 many boxes\n",
      "After belief, still 2 many boxes. It took 0.0 many seconds.\n",
      "There are 84 centers in the centers.\n",
      "Deleted Box!\n",
      "1 of 2 boxes survived the Ensemble-Check! It took 1.97 many seconds.\n"
     ]
    },
    {
     "name": "stderr",
     "output_type": "stream",
     "text": [
      "\n",
      " 17%|█▋        | 215/1261 [03:37<56:31,  3.24s/it]\u001b[A"
     ]
    },
    {
     "name": "stdout",
     "output_type": "stream",
     "text": [
      "First net took 0.58 many second to check 342 many pictures.\n",
      "currently 2 many boxes\n",
      "After belief, still 2 many boxes. It took 0.0 many seconds.\n",
      "There are 86 centers in the centers.\n",
      "Deleted Box!\n",
      "1 of 2 boxes survived the Ensemble-Check! It took 1.99 many seconds.\n"
     ]
    },
    {
     "name": "stderr",
     "output_type": "stream",
     "text": [
      "\n",
      " 17%|█▋        | 216/1261 [03:40<56:30,  3.24s/it]\u001b[A"
     ]
    },
    {
     "name": "stdout",
     "output_type": "stream",
     "text": [
      "First net took 0.58 many second to check 342 many pictures.\n",
      "currently 2 many boxes\n",
      "After belief, still 2 many boxes. It took 0.0 many seconds.\n",
      "There are 88 centers in the centers.\n",
      "Deleted Box!\n",
      "1 of 2 boxes survived the Ensemble-Check! It took 1.97 many seconds.\n"
     ]
    },
    {
     "name": "stderr",
     "output_type": "stream",
     "text": [
      "\n",
      " 17%|█▋        | 217/1261 [03:43<56:18,  3.24s/it]\u001b[A"
     ]
    },
    {
     "name": "stdout",
     "output_type": "stream",
     "text": [
      "First net took 0.58 many second to check 342 many pictures.\n",
      "currently 2 many boxes\n",
      "After belief, still 2 many boxes. It took 0.0 many seconds.\n",
      "There are 90 centers in the centers.\n",
      "Deleted Box!\n",
      "1 of 2 boxes survived the Ensemble-Check! It took 1.99 many seconds.\n"
     ]
    },
    {
     "name": "stderr",
     "output_type": "stream",
     "text": [
      "\n",
      " 17%|█▋        | 218/1261 [03:46<56:15,  3.24s/it]\u001b[A"
     ]
    },
    {
     "name": "stdout",
     "output_type": "stream",
     "text": [
      "First net took 0.58 many second to check 342 many pictures.\n",
      "currently 2 many boxes\n",
      "After belief, still 2 many boxes. It took 0.0 many seconds.\n",
      "There are 92 centers in the centers.\n",
      "Deleted Box!\n",
      "1 of 2 boxes survived the Ensemble-Check! It took 2.01 many seconds.\n"
     ]
    },
    {
     "name": "stderr",
     "output_type": "stream",
     "text": [
      "\n",
      " 17%|█▋        | 219/1261 [03:50<56:17,  3.24s/it]\u001b[A"
     ]
    },
    {
     "name": "stdout",
     "output_type": "stream",
     "text": [
      "First net took 0.61 many second to check 342 many pictures.\n",
      "currently 2 many boxes\n",
      "After belief, still 2 many boxes. It took 0.0 many seconds.\n",
      "There are 94 centers in the centers.\n",
      "Deleted Box!\n",
      "1 of 2 boxes survived the Ensemble-Check! It took 1.99 many seconds.\n"
     ]
    },
    {
     "name": "stderr",
     "output_type": "stream",
     "text": [
      "\n",
      " 17%|█▋        | 220/1261 [03:53<56:22,  3.25s/it]\u001b[A"
     ]
    },
    {
     "name": "stdout",
     "output_type": "stream",
     "text": [
      "First net took 0.58 many second to check 342 many pictures.\n",
      "currently 2 many boxes\n",
      "After belief, still 2 many boxes. It took 0.0 many seconds.\n",
      "There are 96 centers in the centers.\n",
      "Deleted Box!\n",
      "1 of 2 boxes survived the Ensemble-Check! It took 2.0 many seconds.\n"
     ]
    },
    {
     "name": "stderr",
     "output_type": "stream",
     "text": [
      "\n",
      " 18%|█▊        | 221/1261 [03:56<56:18,  3.25s/it]\u001b[A"
     ]
    },
    {
     "name": "stdout",
     "output_type": "stream",
     "text": [
      "First net took 0.58 many second to check 342 many pictures.\n",
      "currently 2 many boxes\n",
      "After belief, still 2 many boxes. It took 0.0 many seconds.\n",
      "There are 98 centers in the centers.\n",
      "Deleted Box!\n",
      "1 of 2 boxes survived the Ensemble-Check! It took 1.98 many seconds.\n"
     ]
    },
    {
     "name": "stderr",
     "output_type": "stream",
     "text": [
      "\n",
      " 18%|█▊        | 222/1261 [03:59<56:08,  3.24s/it]\u001b[A"
     ]
    },
    {
     "name": "stdout",
     "output_type": "stream",
     "text": [
      "First net took 0.58 many second to check 342 many pictures.\n",
      "currently 2 many boxes\n",
      "After belief, still 2 many boxes. It took 0.0 many seconds.\n",
      "There are 100 centers in the centers.\n",
      "Deleted Box!\n",
      "1 of 2 boxes survived the Ensemble-Check! It took 1.98 many seconds.\n"
     ]
    },
    {
     "name": "stderr",
     "output_type": "stream",
     "text": [
      "\n",
      " 18%|█▊        | 223/1261 [04:03<56:01,  3.24s/it]\u001b[A"
     ]
    },
    {
     "name": "stdout",
     "output_type": "stream",
     "text": [
      "First net took 0.59 many second to check 342 many pictures.\n",
      "currently 2 many boxes\n",
      "After belief, still 2 many boxes. It took 0.0 many seconds.\n",
      "There are 102 centers in the centers.\n",
      "Deleted Box!\n",
      "1 of 2 boxes survived the Ensemble-Check! It took 1.97 many seconds.\n"
     ]
    },
    {
     "name": "stderr",
     "output_type": "stream",
     "text": [
      "\n",
      " 18%|█▊        | 224/1261 [04:06<55:51,  3.23s/it]\u001b[A"
     ]
    },
    {
     "name": "stdout",
     "output_type": "stream",
     "text": [
      "First net took 0.59 many second to check 342 many pictures.\n",
      "currently 2 many boxes\n",
      "After belief, still 2 many boxes. It took 0.0 many seconds.\n",
      "There are 104 centers in the centers.\n",
      "Deleted Box!\n",
      "1 of 2 boxes survived the Ensemble-Check! It took 1.98 many seconds.\n"
     ]
    },
    {
     "name": "stderr",
     "output_type": "stream",
     "text": [
      "\n",
      " 18%|█▊        | 225/1261 [04:09<55:48,  3.23s/it]\u001b[A"
     ]
    },
    {
     "name": "stdout",
     "output_type": "stream",
     "text": [
      "First net took 0.58 many second to check 342 many pictures.\n",
      "currently 2 many boxes\n",
      "After belief, still 2 many boxes. It took 0.0 many seconds.\n",
      "There are 106 centers in the centers.\n",
      "Deleted Box!\n",
      "1 of 2 boxes survived the Ensemble-Check! It took 1.98 many seconds.\n"
     ]
    },
    {
     "name": "stderr",
     "output_type": "stream",
     "text": [
      "\n",
      " 18%|█▊        | 226/1261 [04:12<55:41,  3.23s/it]\u001b[A"
     ]
    },
    {
     "name": "stdout",
     "output_type": "stream",
     "text": [
      "First net took 0.58 many second to check 342 many pictures.\n",
      "currently 2 many boxes\n",
      "After belief, still 2 many boxes. It took 0.0 many seconds.\n",
      "There are 108 centers in the centers.\n",
      "Deleted Box!\n",
      "1 of 2 boxes survived the Ensemble-Check! It took 2.01 many seconds.\n"
     ]
    },
    {
     "name": "stderr",
     "output_type": "stream",
     "text": [
      "\n",
      " 18%|█▊        | 227/1261 [04:16<55:45,  3.24s/it]\u001b[A"
     ]
    },
    {
     "name": "stdout",
     "output_type": "stream",
     "text": [
      "First net took 0.59 many second to check 342 many pictures.\n",
      "currently 2 many boxes\n",
      "After belief, still 2 many boxes. It took 0.0 many seconds.\n",
      "There are 110 centers in the centers.\n",
      "Deleted Box!\n",
      "1 of 2 boxes survived the Ensemble-Check! It took 1.99 many seconds.\n"
     ]
    },
    {
     "name": "stderr",
     "output_type": "stream",
     "text": [
      "\n",
      " 18%|█▊        | 228/1261 [04:19<55:47,  3.24s/it]\u001b[A"
     ]
    },
    {
     "name": "stdout",
     "output_type": "stream",
     "text": [
      "First net took 0.59 many second to check 342 many pictures.\n",
      "currently 2 many boxes\n",
      "After belief, still 2 many boxes. It took 0.0 many seconds.\n",
      "There are 112 centers in the centers.\n",
      "Deleted Box!\n",
      "1 of 2 boxes survived the Ensemble-Check! It took 2.02 many seconds.\n"
     ]
    },
    {
     "name": "stderr",
     "output_type": "stream",
     "text": [
      "\n",
      " 18%|█▊        | 229/1261 [04:22<55:55,  3.25s/it]\u001b[A"
     ]
    },
    {
     "name": "stdout",
     "output_type": "stream",
     "text": [
      "First net took 0.6 many second to check 342 many pictures.\n",
      "currently 2 many boxes\n",
      "After belief, still 2 many boxes. It took 0.0 many seconds.\n",
      "There are 114 centers in the centers.\n",
      "Deleted Box!\n",
      "1 of 2 boxes survived the Ensemble-Check! It took 2.02 many seconds.\n"
     ]
    },
    {
     "name": "stderr",
     "output_type": "stream",
     "text": [
      "\n",
      " 18%|█▊        | 230/1261 [04:26<56:44,  3.30s/it]\u001b[A"
     ]
    },
    {
     "name": "stdout",
     "output_type": "stream",
     "text": [
      "First net took 0.58 many second to check 342 many pictures.\n",
      "currently 2 many boxes\n",
      "After belief, still 2 many boxes. It took 0.0 many seconds.\n",
      "There are 116 centers in the centers.\n",
      "Deleted Box!\n",
      "1 of 2 boxes survived the Ensemble-Check! It took 2.03 many seconds.\n"
     ]
    },
    {
     "name": "stderr",
     "output_type": "stream",
     "text": [
      "\n",
      " 18%|█▊        | 231/1261 [04:29<56:34,  3.30s/it]\u001b[A"
     ]
    },
    {
     "name": "stdout",
     "output_type": "stream",
     "text": [
      "First net took 0.6 many second to check 342 many pictures.\n",
      "currently 2 many boxes\n",
      "After belief, still 2 many boxes. It took 0.0 many seconds.\n",
      "There are 118 centers in the centers.\n",
      "Deleted Box!\n",
      "1 of 2 boxes survived the Ensemble-Check! It took 2.02 many seconds.\n"
     ]
    },
    {
     "name": "stderr",
     "output_type": "stream",
     "text": [
      "\n",
      " 18%|█▊        | 232/1261 [04:32<56:27,  3.29s/it]\u001b[A"
     ]
    },
    {
     "name": "stdout",
     "output_type": "stream",
     "text": [
      "First net took 0.58 many second to check 342 many pictures.\n",
      "currently 2 many boxes\n",
      "After belief, still 2 many boxes. It took 0.0 many seconds.\n",
      "There are 120 centers in the centers.\n",
      "Deleted Box!\n",
      "1 of 2 boxes survived the Ensemble-Check! It took 2.02 many seconds.\n"
     ]
    },
    {
     "name": "stderr",
     "output_type": "stream",
     "text": [
      "\n",
      " 18%|█▊        | 233/1261 [04:35<56:16,  3.28s/it]\u001b[A"
     ]
    },
    {
     "name": "stdout",
     "output_type": "stream",
     "text": [
      "First net took 0.58 many second to check 342 many pictures.\n",
      "currently 2 many boxes\n",
      "After belief, still 2 many boxes. It took 0.0 many seconds.\n",
      "There are 122 centers in the centers.\n",
      "Deleted Box!\n",
      "1 of 2 boxes survived the Ensemble-Check! It took 2.02 many seconds.\n"
     ]
    },
    {
     "name": "stderr",
     "output_type": "stream",
     "text": [
      "\n",
      " 19%|█▊        | 234/1261 [04:39<56:06,  3.28s/it]\u001b[A"
     ]
    },
    {
     "name": "stdout",
     "output_type": "stream",
     "text": [
      "First net took 0.58 many second to check 342 many pictures.\n",
      "currently 2 many boxes\n",
      "After belief, still 2 many boxes. It took 0.0 many seconds.\n",
      "There are 124 centers in the centers.\n",
      "Deleted Box!\n",
      "1 of 2 boxes survived the Ensemble-Check! It took 2.02 many seconds.\n"
     ]
    },
    {
     "name": "stderr",
     "output_type": "stream",
     "text": [
      "\n",
      " 19%|█▊        | 235/1261 [04:42<56:00,  3.28s/it]\u001b[A"
     ]
    },
    {
     "name": "stdout",
     "output_type": "stream",
     "text": [
      "First net took 0.59 many second to check 342 many pictures.\n",
      "currently 2 many boxes\n",
      "After belief, still 2 many boxes. It took 0.0 many seconds.\n",
      "There are 126 centers in the centers.\n",
      "Deleted Box!\n",
      "1 of 2 boxes survived the Ensemble-Check! It took 2.03 many seconds.\n"
     ]
    },
    {
     "name": "stderr",
     "output_type": "stream",
     "text": [
      "\n",
      " 19%|█▊        | 236/1261 [04:45<55:58,  3.28s/it]\u001b[A"
     ]
    },
    {
     "name": "stdout",
     "output_type": "stream",
     "text": [
      "First net took 0.57 many second to check 342 many pictures.\n",
      "currently 2 many boxes\n",
      "After belief, still 2 many boxes. It took 0.0 many seconds.\n",
      "There are 128 centers in the centers.\n",
      "Deleted Box!\n",
      "1 of 2 boxes survived the Ensemble-Check! It took 2.02 many seconds.\n"
     ]
    },
    {
     "name": "stderr",
     "output_type": "stream",
     "text": [
      "\n",
      " 19%|█▉        | 237/1261 [04:48<55:54,  3.28s/it]\u001b[A"
     ]
    },
    {
     "name": "stdout",
     "output_type": "stream",
     "text": [
      "First net took 0.59 many second to check 342 many pictures.\n",
      "currently 2 many boxes\n",
      "After belief, still 2 many boxes. It took 0.0 many seconds.\n",
      "There are 130 centers in the centers.\n",
      "Deleted Box!\n",
      "1 of 2 boxes survived the Ensemble-Check! It took 2.03 many seconds.\n"
     ]
    },
    {
     "name": "stderr",
     "output_type": "stream",
     "text": [
      "\n",
      " 19%|█▉        | 238/1261 [04:52<55:55,  3.28s/it]\u001b[A"
     ]
    },
    {
     "name": "stdout",
     "output_type": "stream",
     "text": [
      "First net took 0.58 many second to check 342 many pictures.\n",
      "currently 2 many boxes\n",
      "After belief, still 2 many boxes. It took 0.0 many seconds.\n",
      "There are 132 centers in the centers.\n",
      "Deleted Box!\n",
      "1 of 2 boxes survived the Ensemble-Check! It took 2.04 many seconds.\n"
     ]
    },
    {
     "name": "stderr",
     "output_type": "stream",
     "text": [
      "\n",
      " 19%|█▉        | 239/1261 [04:55<55:55,  3.28s/it]\u001b[A"
     ]
    },
    {
     "name": "stdout",
     "output_type": "stream",
     "text": [
      "First net took 0.59 many second to check 342 many pictures.\n",
      "currently 2 many boxes\n",
      "After belief, still 2 many boxes. It took 0.0 many seconds.\n",
      "There are 134 centers in the centers.\n",
      "Deleted Box!\n",
      "1 of 2 boxes survived the Ensemble-Check! It took 2.03 many seconds.\n"
     ]
    },
    {
     "name": "stderr",
     "output_type": "stream",
     "text": [
      "\n",
      " 19%|█▉        | 240/1261 [04:58<55:52,  3.28s/it]\u001b[A"
     ]
    },
    {
     "name": "stdout",
     "output_type": "stream",
     "text": [
      "First net took 0.58 many second to check 342 many pictures.\n",
      "currently 2 many boxes\n",
      "After belief, still 2 many boxes. It took 0.0 many seconds.\n",
      "There are 136 centers in the centers.\n",
      "Deleted Box!\n",
      "1 of 2 boxes survived the Ensemble-Check! It took 2.03 many seconds.\n"
     ]
    },
    {
     "name": "stderr",
     "output_type": "stream",
     "text": [
      "\n",
      " 19%|█▉        | 241/1261 [05:02<55:46,  3.28s/it]\u001b[A"
     ]
    },
    {
     "name": "stdout",
     "output_type": "stream",
     "text": [
      "First net took 0.58 many second to check 342 many pictures.\n",
      "currently 2 many boxes\n",
      "After belief, still 2 many boxes. It took 0.0 many seconds.\n",
      "There are 138 centers in the centers.\n",
      "Deleted Box!\n",
      "1 of 2 boxes survived the Ensemble-Check! It took 2.05 many seconds.\n"
     ]
    },
    {
     "name": "stderr",
     "output_type": "stream",
     "text": [
      "\n",
      " 19%|█▉        | 242/1261 [05:05<55:48,  3.29s/it]\u001b[A"
     ]
    },
    {
     "name": "stdout",
     "output_type": "stream",
     "text": [
      "First net took 0.61 many second to check 342 many pictures.\n",
      "currently 2 many boxes\n",
      "After belief, still 2 many boxes. It took 0.0 many seconds.\n",
      "There are 140 centers in the centers.\n",
      "Deleted Box!\n",
      "1 of 2 boxes survived the Ensemble-Check! It took 2.03 many seconds.\n"
     ]
    },
    {
     "name": "stderr",
     "output_type": "stream",
     "text": [
      "\n",
      " 19%|█▉        | 243/1261 [05:08<55:51,  3.29s/it]\u001b[A"
     ]
    },
    {
     "name": "stdout",
     "output_type": "stream",
     "text": [
      "First net took 0.58 many second to check 342 many pictures.\n",
      "currently 2 many boxes\n",
      "After belief, still 2 many boxes. It took 0.0 many seconds.\n",
      "There are 142 centers in the centers.\n",
      "Deleted Box!\n",
      "1 of 2 boxes survived the Ensemble-Check! It took 2.04 many seconds.\n"
     ]
    },
    {
     "name": "stderr",
     "output_type": "stream",
     "text": [
      "\n",
      " 19%|█▉        | 244/1261 [05:12<55:48,  3.29s/it]\u001b[A"
     ]
    },
    {
     "name": "stdout",
     "output_type": "stream",
     "text": [
      "First net took 0.61 many second to check 342 many pictures.\n",
      "currently 2 many boxes\n",
      "After belief, still 2 many boxes. It took 0.0 many seconds.\n",
      "There are 144 centers in the centers.\n",
      "Deleted Box!\n",
      "1 of 2 boxes survived the Ensemble-Check! It took 2.02 many seconds.\n"
     ]
    },
    {
     "name": "stderr",
     "output_type": "stream",
     "text": [
      "\n",
      " 19%|█▉        | 245/1261 [05:15<55:46,  3.29s/it]\u001b[A"
     ]
    },
    {
     "name": "stdout",
     "output_type": "stream",
     "text": [
      "First net took 0.58 many second to check 342 many pictures.\n",
      "currently 2 many boxes\n",
      "After belief, still 2 many boxes. It took 0.0 many seconds.\n",
      "There are 146 centers in the centers.\n",
      "Deleted Box!\n",
      "1 of 2 boxes survived the Ensemble-Check! It took 2.04 many seconds.\n"
     ]
    },
    {
     "name": "stderr",
     "output_type": "stream",
     "text": [
      "\n",
      " 20%|█▉        | 246/1261 [05:18<55:42,  3.29s/it]\u001b[A"
     ]
    },
    {
     "name": "stdout",
     "output_type": "stream",
     "text": [
      "First net took 0.58 many second to check 342 many pictures.\n",
      "currently 2 many boxes\n",
      "After belief, still 2 many boxes. It took 0.0 many seconds.\n",
      "There are 148 centers in the centers.\n",
      "Deleted Box!\n",
      "1 of 2 boxes survived the Ensemble-Check! It took 2.05 many seconds.\n"
     ]
    },
    {
     "name": "stderr",
     "output_type": "stream",
     "text": [
      "\n",
      " 20%|█▉        | 247/1261 [05:21<55:40,  3.29s/it]\u001b[A"
     ]
    },
    {
     "name": "stdout",
     "output_type": "stream",
     "text": [
      "First net took 0.59 many second to check 342 many pictures.\n",
      "currently 2 many boxes\n",
      "After belief, still 2 many boxes. It took 0.0 many seconds.\n",
      "There are 150 centers in the centers.\n",
      "Deleted Box!\n",
      "1 of 2 boxes survived the Ensemble-Check! It took 2.03 many seconds.\n"
     ]
    },
    {
     "name": "stderr",
     "output_type": "stream",
     "text": [
      "\n",
      " 20%|█▉        | 248/1261 [05:25<55:33,  3.29s/it]\u001b[A"
     ]
    },
    {
     "name": "stdout",
     "output_type": "stream",
     "text": [
      "First net took 0.59 many second to check 342 many pictures.\n",
      "currently 2 many boxes\n",
      "After belief, still 2 many boxes. It took 0.0 many seconds.\n",
      "There are 152 centers in the centers.\n",
      "Deleted Box!\n",
      "1 of 2 boxes survived the Ensemble-Check! It took 2.0 many seconds.\n"
     ]
    },
    {
     "name": "stderr",
     "output_type": "stream",
     "text": [
      "\n",
      " 20%|█▉        | 249/1261 [05:28<55:23,  3.28s/it]\u001b[A"
     ]
    },
    {
     "name": "stdout",
     "output_type": "stream",
     "text": [
      "First net took 0.58 many second to check 342 many pictures.\n",
      "currently 2 many boxes\n",
      "After belief, still 2 many boxes. It took 0.0 many seconds.\n",
      "There are 154 centers in the centers.\n",
      "Deleted Box!\n",
      "1 of 2 boxes survived the Ensemble-Check! It took 2.02 many seconds.\n"
     ]
    },
    {
     "name": "stderr",
     "output_type": "stream",
     "text": [
      "\n",
      " 20%|█▉        | 250/1261 [05:31<55:15,  3.28s/it]\u001b[A"
     ]
    },
    {
     "name": "stdout",
     "output_type": "stream",
     "text": [
      "First net took 0.58 many second to check 342 many pictures.\n",
      "currently 2 many boxes\n",
      "After belief, still 2 many boxes. It took 0.0 many seconds.\n",
      "There are 156 centers in the centers.\n",
      "Deleted Box!\n",
      "1 of 2 boxes survived the Ensemble-Check! It took 2.01 many seconds.\n"
     ]
    },
    {
     "name": "stderr",
     "output_type": "stream",
     "text": [
      "\n",
      " 20%|█▉        | 251/1261 [05:34<55:05,  3.27s/it]\u001b[A"
     ]
    },
    {
     "name": "stdout",
     "output_type": "stream",
     "text": [
      "First net took 0.59 many second to check 342 many pictures.\n",
      "currently 2 many boxes\n",
      "After belief, still 2 many boxes. It took 0.0 many seconds.\n",
      "There are 158 centers in the centers.\n",
      "Deleted Box!\n",
      "1 of 2 boxes survived the Ensemble-Check! It took 2.03 many seconds.\n"
     ]
    },
    {
     "name": "stderr",
     "output_type": "stream",
     "text": [
      "\n",
      " 20%|█▉        | 252/1261 [05:38<55:04,  3.28s/it]\u001b[A"
     ]
    },
    {
     "name": "stdout",
     "output_type": "stream",
     "text": [
      "First net took 0.59 many second to check 342 many pictures.\n",
      "currently 2 many boxes\n",
      "After belief, still 2 many boxes. It took 0.0 many seconds.\n",
      "There are 160 centers in the centers.\n",
      "Deleted Box!\n",
      "1 of 2 boxes survived the Ensemble-Check! It took 2.03 many seconds.\n"
     ]
    },
    {
     "name": "stderr",
     "output_type": "stream",
     "text": [
      "\n",
      " 20%|██        | 253/1261 [05:41<55:04,  3.28s/it]\u001b[A"
     ]
    },
    {
     "name": "stdout",
     "output_type": "stream",
     "text": [
      "First net took 0.58 many second to check 342 many pictures.\n",
      "currently 2 many boxes\n",
      "After belief, still 2 many boxes. It took 0.0 many seconds.\n",
      "There are 162 centers in the centers.\n",
      "Deleted Box!\n",
      "1 of 2 boxes survived the Ensemble-Check! It took 2.03 many seconds.\n"
     ]
    },
    {
     "name": "stderr",
     "output_type": "stream",
     "text": [
      "\n",
      " 20%|██        | 254/1261 [05:44<54:58,  3.28s/it]\u001b[A"
     ]
    },
    {
     "name": "stdout",
     "output_type": "stream",
     "text": [
      "First net took 0.58 many second to check 342 many pictures.\n",
      "currently 2 many boxes\n",
      "After belief, still 2 many boxes. It took 0.0 many seconds.\n",
      "There are 164 centers in the centers.\n",
      "Deleted Box!\n",
      "1 of 2 boxes survived the Ensemble-Check! It took 2.05 many seconds.\n"
     ]
    },
    {
     "name": "stderr",
     "output_type": "stream",
     "text": [
      "\n",
      " 20%|██        | 255/1261 [05:48<55:01,  3.28s/it]\u001b[A"
     ]
    },
    {
     "name": "stdout",
     "output_type": "stream",
     "text": [
      "First net took 0.59 many second to check 342 many pictures.\n",
      "currently 2 many boxes\n",
      "After belief, still 2 many boxes. It took 0.0 many seconds.\n",
      "There are 166 centers in the centers.\n",
      "Deleted Box!\n",
      "1 of 2 boxes survived the Ensemble-Check! It took 2.05 many seconds.\n"
     ]
    },
    {
     "name": "stderr",
     "output_type": "stream",
     "text": [
      "\n",
      " 20%|██        | 256/1261 [05:51<55:06,  3.29s/it]\u001b[A"
     ]
    },
    {
     "name": "stdout",
     "output_type": "stream",
     "text": [
      "First net took 0.59 many second to check 342 many pictures.\n",
      "currently 2 many boxes\n",
      "After belief, still 2 many boxes. It took 0.0 many seconds.\n",
      "There are 168 centers in the centers.\n",
      "Deleted Box!\n",
      "1 of 2 boxes survived the Ensemble-Check! It took 2.07 many seconds.\n"
     ]
    },
    {
     "name": "stderr",
     "output_type": "stream",
     "text": [
      "\n",
      " 20%|██        | 257/1261 [05:54<55:12,  3.30s/it]\u001b[A"
     ]
    },
    {
     "name": "stdout",
     "output_type": "stream",
     "text": [
      "First net took 0.58 many second to check 342 many pictures.\n",
      "currently 2 many boxes\n",
      "After belief, still 2 many boxes. It took 0.0 many seconds.\n",
      "There are 170 centers in the centers.\n",
      "Deleted Box!\n",
      "1 of 2 boxes survived the Ensemble-Check! It took 2.03 many seconds.\n"
     ]
    },
    {
     "name": "stderr",
     "output_type": "stream",
     "text": [
      "\n",
      " 20%|██        | 258/1261 [05:58<55:02,  3.29s/it]\u001b[A"
     ]
    },
    {
     "name": "stdout",
     "output_type": "stream",
     "text": [
      "First net took 0.58 many second to check 342 many pictures.\n",
      "currently 2 many boxes\n",
      "After belief, still 2 many boxes. It took 0.0 many seconds.\n",
      "There are 172 centers in the centers.\n",
      "Deleted Box!\n",
      "1 of 2 boxes survived the Ensemble-Check! It took 2.04 many seconds.\n"
     ]
    },
    {
     "name": "stderr",
     "output_type": "stream",
     "text": [
      "\n",
      " 21%|██        | 259/1261 [06:01<54:57,  3.29s/it]\u001b[A"
     ]
    },
    {
     "name": "stdout",
     "output_type": "stream",
     "text": [
      "First net took 0.59 many second to check 342 many pictures.\n",
      "currently 2 many boxes\n",
      "After belief, still 2 many boxes. It took 0.0 many seconds.\n",
      "There are 174 centers in the centers.\n",
      "Deleted Box!\n",
      "1 of 2 boxes survived the Ensemble-Check! It took 2.03 many seconds.\n"
     ]
    },
    {
     "name": "stderr",
     "output_type": "stream",
     "text": [
      "\n",
      " 21%|██        | 260/1261 [06:04<54:50,  3.29s/it]\u001b[A"
     ]
    },
    {
     "name": "stdout",
     "output_type": "stream",
     "text": [
      "First net took 0.58 many second to check 342 many pictures.\n",
      "currently 2 many boxes\n",
      "After belief, still 2 many boxes. It took 0.0 many seconds.\n",
      "There are 176 centers in the centers.\n",
      "Deleted Box!\n",
      "1 of 2 boxes survived the Ensemble-Check! It took 2.03 many seconds.\n"
     ]
    },
    {
     "name": "stderr",
     "output_type": "stream",
     "text": [
      "\n",
      " 21%|██        | 261/1261 [06:07<54:44,  3.28s/it]\u001b[A"
     ]
    },
    {
     "name": "stdout",
     "output_type": "stream",
     "text": [
      "First net took 0.61 many second to check 342 many pictures.\n",
      "currently 2 many boxes\n",
      "After belief, still 2 many boxes. It took 0.0 many seconds.\n",
      "There are 178 centers in the centers.\n",
      "Deleted Box!\n",
      "1 of 2 boxes survived the Ensemble-Check! It took 2.03 many seconds.\n"
     ]
    },
    {
     "name": "stderr",
     "output_type": "stream",
     "text": [
      "\n",
      " 21%|██        | 262/1261 [06:11<54:46,  3.29s/it]\u001b[A"
     ]
    },
    {
     "name": "stdout",
     "output_type": "stream",
     "text": [
      "First net took 0.58 many second to check 342 many pictures.\n",
      "currently 2 many boxes\n",
      "After belief, still 2 many boxes. It took 0.0 many seconds.\n",
      "There are 180 centers in the centers.\n",
      "Deleted Box!\n",
      "1 of 2 boxes survived the Ensemble-Check! It took 2.02 many seconds.\n"
     ]
    },
    {
     "name": "stderr",
     "output_type": "stream",
     "text": [
      "\n",
      " 21%|██        | 263/1261 [06:14<54:38,  3.28s/it]\u001b[A"
     ]
    },
    {
     "name": "stdout",
     "output_type": "stream",
     "text": [
      "First net took 0.6 many second to check 342 many pictures.\n",
      "currently 2 many boxes\n",
      "After belief, still 2 many boxes. It took 0.0 many seconds.\n",
      "There are 182 centers in the centers.\n",
      "Deleted Box!\n",
      "1 of 2 boxes survived the Ensemble-Check! It took 2.03 many seconds.\n"
     ]
    },
    {
     "name": "stderr",
     "output_type": "stream",
     "text": [
      "\n",
      " 21%|██        | 264/1261 [06:17<54:38,  3.29s/it]\u001b[A"
     ]
    },
    {
     "name": "stdout",
     "output_type": "stream",
     "text": [
      "First net took 0.58 many second to check 342 many pictures.\n",
      "currently 2 many boxes\n",
      "After belief, still 2 many boxes. It took 0.0 many seconds.\n",
      "There are 184 centers in the centers.\n",
      "Deleted Box!\n",
      "1 of 2 boxes survived the Ensemble-Check! It took 2.05 many seconds.\n"
     ]
    },
    {
     "name": "stderr",
     "output_type": "stream",
     "text": [
      "\n",
      " 21%|██        | 265/1261 [06:21<54:40,  3.29s/it]\u001b[A"
     ]
    },
    {
     "name": "stdout",
     "output_type": "stream",
     "text": [
      "First net took 0.59 many second to check 342 many pictures.\n",
      "currently 2 many boxes\n",
      "After belief, still 2 many boxes. It took 0.0 many seconds.\n",
      "There are 186 centers in the centers.\n",
      "Deleted Box!\n",
      "1 of 2 boxes survived the Ensemble-Check! It took 2.02 many seconds.\n"
     ]
    },
    {
     "name": "stderr",
     "output_type": "stream",
     "text": [
      "\n",
      " 21%|██        | 266/1261 [06:24<54:31,  3.29s/it]\u001b[A"
     ]
    },
    {
     "name": "stdout",
     "output_type": "stream",
     "text": [
      "First net took 0.58 many second to check 342 many pictures.\n",
      "currently 2 many boxes\n",
      "After belief, still 2 many boxes. It took 0.0 many seconds.\n",
      "There are 188 centers in the centers.\n",
      "Deleted Box!\n",
      "1 of 2 boxes survived the Ensemble-Check! It took 2.03 many seconds.\n"
     ]
    },
    {
     "name": "stderr",
     "output_type": "stream",
     "text": [
      "\n",
      " 21%|██        | 267/1261 [06:27<54:25,  3.28s/it]\u001b[A"
     ]
    },
    {
     "name": "stdout",
     "output_type": "stream",
     "text": [
      "First net took 0.59 many second to check 342 many pictures.\n",
      "currently 2 many boxes\n",
      "After belief, still 2 many boxes. It took 0.0 many seconds.\n",
      "There are 190 centers in the centers.\n",
      "Deleted Box!\n",
      "1 of 2 boxes survived the Ensemble-Check! It took 2.04 many seconds.\n"
     ]
    },
    {
     "name": "stderr",
     "output_type": "stream",
     "text": [
      "\n",
      " 21%|██▏       | 268/1261 [06:30<54:25,  3.29s/it]\u001b[A"
     ]
    },
    {
     "name": "stdout",
     "output_type": "stream",
     "text": [
      "First net took 0.58 many second to check 342 many pictures.\n",
      "currently 2 many boxes\n",
      "After belief, still 2 many boxes. It took 0.0 many seconds.\n",
      "There are 192 centers in the centers.\n",
      "Deleted Box!\n",
      "1 of 2 boxes survived the Ensemble-Check! It took 2.0 many seconds.\n"
     ]
    },
    {
     "name": "stderr",
     "output_type": "stream",
     "text": [
      "\n",
      " 21%|██▏       | 269/1261 [06:34<54:12,  3.28s/it]\u001b[A"
     ]
    },
    {
     "name": "stdout",
     "output_type": "stream",
     "text": [
      "First net took 0.6 many second to check 342 many pictures.\n",
      "currently 2 many boxes\n",
      "After belief, still 2 many boxes. It took 0.0 many seconds.\n",
      "There are 194 centers in the centers.\n",
      "Deleted Box!\n",
      "1 of 2 boxes survived the Ensemble-Check! It took 2.01 many seconds.\n"
     ]
    },
    {
     "name": "stderr",
     "output_type": "stream",
     "text": [
      "\n",
      " 21%|██▏       | 270/1261 [06:37<54:08,  3.28s/it]\u001b[A"
     ]
    },
    {
     "name": "stdout",
     "output_type": "stream",
     "text": [
      "First net took 0.58 many second to check 342 many pictures.\n",
      "currently 2 many boxes\n",
      "After belief, still 2 many boxes. It took 0.0 many seconds.\n",
      "There are 196 centers in the centers.\n",
      "Deleted Box!\n",
      "1 of 2 boxes survived the Ensemble-Check! It took 2.01 many seconds.\n"
     ]
    },
    {
     "name": "stderr",
     "output_type": "stream",
     "text": [
      "\n",
      " 21%|██▏       | 271/1261 [06:40<54:01,  3.27s/it]\u001b[A"
     ]
    },
    {
     "name": "stdout",
     "output_type": "stream",
     "text": [
      "First net took 0.62 many second to check 342 many pictures.\n",
      "currently 2 many boxes\n",
      "After belief, still 2 many boxes. It took 0.0 many seconds.\n",
      "There are 198 centers in the centers.\n",
      "Deleted Box!\n",
      "1 of 2 boxes survived the Ensemble-Check! It took 2.01 many seconds.\n"
     ]
    },
    {
     "name": "stderr",
     "output_type": "stream",
     "text": [
      "\n",
      " 22%|██▏       | 272/1261 [06:43<54:04,  3.28s/it]\u001b[A"
     ]
    },
    {
     "name": "stdout",
     "output_type": "stream",
     "text": [
      "First net took 0.59 many second to check 342 many pictures.\n",
      "currently 2 many boxes\n",
      "After belief, still 2 many boxes. It took 0.0 many seconds.\n",
      "There are 200 centers in the centers.\n",
      "Deleted Box!\n",
      "1 of 2 boxes survived the Ensemble-Check! It took 2.01 many seconds.\n"
     ]
    },
    {
     "name": "stderr",
     "output_type": "stream",
     "text": [
      "\n",
      " 22%|██▏       | 273/1261 [06:47<53:57,  3.28s/it]\u001b[A"
     ]
    },
    {
     "name": "stdout",
     "output_type": "stream",
     "text": [
      "First net took 0.61 many second to check 342 many pictures.\n",
      "currently 2 many boxes\n",
      "After belief, still 2 many boxes. It took 0.0 many seconds.\n",
      "There are 202 centers in the centers.\n",
      "Deleted Box!\n",
      "1 of 2 boxes survived the Ensemble-Check! It took 2.09 many seconds.\n"
     ]
    },
    {
     "name": "stderr",
     "output_type": "stream",
     "text": [
      "\n",
      " 22%|██▏       | 274/1261 [06:50<54:19,  3.30s/it]\u001b[A"
     ]
    },
    {
     "name": "stdout",
     "output_type": "stream",
     "text": [
      "First net took 0.58 many second to check 342 many pictures.\n",
      "currently 2 many boxes\n",
      "After belief, still 2 many boxes. It took 0.0 many seconds.\n",
      "There are 204 centers in the centers.\n",
      "Deleted Box!\n",
      "1 of 2 boxes survived the Ensemble-Check! It took 2.05 many seconds.\n"
     ]
    },
    {
     "name": "stderr",
     "output_type": "stream",
     "text": [
      "\n",
      " 22%|██▏       | 275/1261 [06:53<54:15,  3.30s/it]\u001b[A"
     ]
    },
    {
     "name": "stdout",
     "output_type": "stream",
     "text": [
      "First net took 0.58 many second to check 342 many pictures.\n",
      "currently 2 many boxes\n",
      "After belief, still 2 many boxes. It took 0.0 many seconds.\n",
      "There are 206 centers in the centers.\n",
      "Deleted Box!\n",
      "1 of 2 boxes survived the Ensemble-Check! It took 2.07 many seconds.\n"
     ]
    },
    {
     "name": "stderr",
     "output_type": "stream",
     "text": [
      "\n",
      " 22%|██▏       | 276/1261 [06:57<54:18,  3.31s/it]\u001b[A"
     ]
    },
    {
     "name": "stdout",
     "output_type": "stream",
     "text": [
      "First net took 0.58 many second to check 342 many pictures.\n",
      "currently 2 many boxes\n",
      "After belief, still 2 many boxes. It took 0.0 many seconds.\n",
      "There are 208 centers in the centers.\n",
      "Deleted Box!\n",
      "1 of 2 boxes survived the Ensemble-Check! It took 2.07 many seconds.\n"
     ]
    },
    {
     "name": "stderr",
     "output_type": "stream",
     "text": [
      "\n",
      " 22%|██▏       | 277/1261 [07:00<54:16,  3.31s/it]\u001b[A"
     ]
    },
    {
     "name": "stdout",
     "output_type": "stream",
     "text": [
      "First net took 0.58 many second to check 342 many pictures.\n",
      "currently 2 many boxes\n",
      "After belief, still 2 many boxes. It took 0.0 many seconds.\n",
      "There are 210 centers in the centers.\n",
      "Deleted Box!\n",
      "1 of 2 boxes survived the Ensemble-Check! It took 2.05 many seconds.\n"
     ]
    },
    {
     "name": "stderr",
     "output_type": "stream",
     "text": [
      "\n",
      " 22%|██▏       | 278/1261 [07:03<54:16,  3.31s/it]\u001b[A"
     ]
    },
    {
     "name": "stdout",
     "output_type": "stream",
     "text": [
      "First net took 0.58 many second to check 342 many pictures.\n",
      "currently 2 many boxes\n",
      "After belief, still 2 many boxes. It took 0.0 many seconds.\n",
      "There are 212 centers in the centers.\n",
      "Deleted Box!\n",
      "1 of 2 boxes survived the Ensemble-Check! It took 2.11 many seconds.\n"
     ]
    },
    {
     "name": "stderr",
     "output_type": "stream",
     "text": [
      "\n",
      " 22%|██▏       | 279/1261 [07:07<54:28,  3.33s/it]\u001b[A"
     ]
    },
    {
     "name": "stdout",
     "output_type": "stream",
     "text": [
      "First net took 0.59 many second to check 342 many pictures.\n",
      "currently 3 many boxes\n",
      "After belief, still 1 many boxes. It took 0.0 many seconds.\n",
      "There are 111 centers in the centers.\n",
      "1 of 1 boxes survived the Ensemble-Check! It took 1.03 many seconds.\n"
     ]
    },
    {
     "name": "stderr",
     "output_type": "stream",
     "text": [
      "\n",
      " 22%|██▏       | 280/1261 [07:09<49:21,  3.02s/it]\u001b[A"
     ]
    },
    {
     "name": "stdout",
     "output_type": "stream",
     "text": [
      "First net took 0.58 many second to check 342 many pictures.\n",
      "currently 3 many boxes\n",
      "After belief, still 1 many boxes. It took 0.0 many seconds.\n",
      "There are 113 centers in the centers.\n",
      "1 of 1 boxes survived the Ensemble-Check! It took 1.04 many seconds.\n"
     ]
    },
    {
     "name": "stderr",
     "output_type": "stream",
     "text": [
      "\n",
      " 22%|██▏       | 281/1261 [07:11<45:43,  2.80s/it]\u001b[A"
     ]
    },
    {
     "name": "stdout",
     "output_type": "stream",
     "text": [
      "First net took 0.58 many second to check 342 many pictures.\n",
      "currently 3 many boxes\n",
      "After belief, still 1 many boxes. It took 0.0 many seconds.\n",
      "There are 115 centers in the centers.\n",
      "1 of 1 boxes survived the Ensemble-Check! It took 1.04 many seconds.\n"
     ]
    },
    {
     "name": "stderr",
     "output_type": "stream",
     "text": [
      "\n",
      " 22%|██▏       | 282/1261 [07:14<43:10,  2.65s/it]\u001b[A"
     ]
    },
    {
     "name": "stdout",
     "output_type": "stream",
     "text": [
      "First net took 0.58 many second to check 342 many pictures.\n",
      "currently 3 many boxes\n",
      "After belief, still 1 many boxes. It took 0.0 many seconds.\n",
      "There are 117 centers in the centers.\n",
      "1 of 1 boxes survived the Ensemble-Check! It took 1.04 many seconds.\n"
     ]
    },
    {
     "name": "stderr",
     "output_type": "stream",
     "text": [
      "\n",
      " 22%|██▏       | 283/1261 [07:16<41:25,  2.54s/it]\u001b[A"
     ]
    },
    {
     "name": "stdout",
     "output_type": "stream",
     "text": [
      "First net took 0.6 many second to check 342 many pictures.\n",
      "currently 2 many boxes\n",
      "After belief, still 1 many boxes. It took 0.0 many seconds.\n",
      "There are 114 centers in the centers.\n",
      "1 of 1 boxes survived the Ensemble-Check! It took 1.05 many seconds.\n"
     ]
    },
    {
     "name": "stderr",
     "output_type": "stream",
     "text": [
      "\n",
      " 23%|██▎       | 284/1261 [07:18<40:16,  2.47s/it]\u001b[A"
     ]
    },
    {
     "name": "stdout",
     "output_type": "stream",
     "text": [
      "First net took 0.57 many second to check 342 many pictures.\n",
      "currently 2 many boxes\n",
      "After belief, still 1 many boxes. It took 0.0 many seconds.\n",
      "There are 115 centers in the centers.\n",
      "1 of 1 boxes survived the Ensemble-Check! It took 1.05 many seconds.\n"
     ]
    },
    {
     "name": "stderr",
     "output_type": "stream",
     "text": [
      "\n",
      " 23%|██▎       | 285/1261 [07:21<39:19,  2.42s/it]\u001b[A"
     ]
    },
    {
     "name": "stdout",
     "output_type": "stream",
     "text": [
      "First net took 0.58 many second to check 342 many pictures.\n",
      "currently 2 many boxes\n",
      "After belief, still 1 many boxes. It took 0.0 many seconds.\n",
      "There are 116 centers in the centers.\n",
      "1 of 1 boxes survived the Ensemble-Check! It took 1.03 many seconds.\n"
     ]
    },
    {
     "name": "stderr",
     "output_type": "stream",
     "text": [
      "\n",
      " 23%|██▎       | 286/1261 [07:23<38:37,  2.38s/it]\u001b[A"
     ]
    },
    {
     "name": "stdout",
     "output_type": "stream",
     "text": [
      "First net took 0.61 many second to check 342 many pictures.\n",
      "currently 2 many boxes\n",
      "After belief, still 1 many boxes. It took 0.0 many seconds.\n",
      "There are 117 centers in the centers.\n",
      "1 of 1 boxes survived the Ensemble-Check! It took 1.05 many seconds.\n"
     ]
    },
    {
     "name": "stderr",
     "output_type": "stream",
     "text": [
      "\n",
      " 23%|██▎       | 287/1261 [07:25<38:19,  2.36s/it]\u001b[A"
     ]
    },
    {
     "name": "stdout",
     "output_type": "stream",
     "text": [
      "First net took 0.6 many second to check 342 many pictures.\n",
      "currently 2 many boxes\n",
      "After belief, still 1 many boxes. It took 0.0 many seconds.\n",
      "There are 118 centers in the centers.\n",
      "1 of 1 boxes survived the Ensemble-Check! It took 1.04 many seconds.\n"
     ]
    },
    {
     "name": "stderr",
     "output_type": "stream",
     "text": [
      "\n",
      " 23%|██▎       | 288/1261 [07:27<38:01,  2.34s/it]\u001b[A"
     ]
    },
    {
     "name": "stdout",
     "output_type": "stream",
     "text": [
      "First net took 0.58 many second to check 342 many pictures.\n",
      "currently 2 many boxes\n",
      "After belief, still 1 many boxes. It took 0.0 many seconds.\n",
      "There are 119 centers in the centers.\n",
      "1 of 1 boxes survived the Ensemble-Check! It took 1.03 many seconds.\n"
     ]
    },
    {
     "name": "stderr",
     "output_type": "stream",
     "text": [
      "\n",
      " 23%|██▎       | 289/1261 [07:30<37:40,  2.33s/it]\u001b[A"
     ]
    },
    {
     "name": "stdout",
     "output_type": "stream",
     "text": [
      "First net took 0.58 many second to check 342 many pictures.\n",
      "currently 1 many boxes\n",
      "After belief, still 1 many boxes. It took 0.0 many seconds.\n",
      "There are 119 centers in the centers.\n",
      "1 of 1 boxes survived the Ensemble-Check! It took 1.05 many seconds.\n"
     ]
    },
    {
     "name": "stderr",
     "output_type": "stream",
     "text": [
      "\n",
      " 23%|██▎       | 290/1261 [07:32<37:32,  2.32s/it]\u001b[A"
     ]
    },
    {
     "name": "stdout",
     "output_type": "stream",
     "text": [
      "First net took 0.58 many second to check 342 many pictures.\n",
      "currently 1 many boxes\n",
      "After belief, still 1 many boxes. It took 0.0 many seconds.\n",
      "There are 120 centers in the centers.\n",
      "1 of 1 boxes survived the Ensemble-Check! It took 1.04 many seconds.\n"
     ]
    },
    {
     "name": "stderr",
     "output_type": "stream",
     "text": [
      "\n",
      " 23%|██▎       | 291/1261 [07:34<37:19,  2.31s/it]\u001b[A"
     ]
    },
    {
     "name": "stdout",
     "output_type": "stream",
     "text": [
      "First net took 0.58 many second to check 342 many pictures.\n",
      "currently 1 many boxes\n",
      "After belief, still 1 many boxes. It took 0.0 many seconds.\n",
      "There are 121 centers in the centers.\n",
      "1 of 1 boxes survived the Ensemble-Check! It took 1.04 many seconds.\n"
     ]
    },
    {
     "name": "stderr",
     "output_type": "stream",
     "text": [
      "\n",
      " 23%|██▎       | 292/1261 [07:37<37:48,  2.34s/it]\u001b[A"
     ]
    },
    {
     "name": "stdout",
     "output_type": "stream",
     "text": [
      "First net took 0.61 many second to check 342 many pictures.\n",
      "currently 1 many boxes\n",
      "After belief, still 1 many boxes. It took 0.0 many seconds.\n",
      "There are 122 centers in the centers.\n",
      "1 of 1 boxes survived the Ensemble-Check! It took 1.06 many seconds.\n"
     ]
    },
    {
     "name": "stderr",
     "output_type": "stream",
     "text": [
      "\n",
      " 23%|██▎       | 293/1261 [07:39<37:45,  2.34s/it]\u001b[A"
     ]
    },
    {
     "name": "stdout",
     "output_type": "stream",
     "text": [
      "First net took 0.58 many second to check 342 many pictures.\n",
      "currently 1 many boxes\n",
      "After belief, still 1 many boxes. It took 0.0 many seconds.\n",
      "There are 123 centers in the centers.\n",
      "1 of 1 boxes survived the Ensemble-Check! It took 1.05 many seconds.\n"
     ]
    },
    {
     "name": "stderr",
     "output_type": "stream",
     "text": [
      "\n",
      " 23%|██▎       | 294/1261 [07:41<37:26,  2.32s/it]\u001b[A"
     ]
    },
    {
     "name": "stdout",
     "output_type": "stream",
     "text": [
      "First net took 0.58 many second to check 342 many pictures.\n",
      "currently 1 many boxes\n",
      "After belief, still 1 many boxes. It took 0.0 many seconds.\n",
      "There are 124 centers in the centers.\n",
      "1 of 1 boxes survived the Ensemble-Check! It took 1.04 many seconds.\n"
     ]
    },
    {
     "name": "stderr",
     "output_type": "stream",
     "text": [
      "\n",
      " 23%|██▎       | 295/1261 [07:44<37:12,  2.31s/it]\u001b[A"
     ]
    },
    {
     "name": "stdout",
     "output_type": "stream",
     "text": [
      "First net took 0.58 many second to check 342 many pictures.\n",
      "currently 1 many boxes\n",
      "After belief, still 1 many boxes. It took 0.0 many seconds.\n",
      "There are 125 centers in the centers.\n",
      "1 of 1 boxes survived the Ensemble-Check! It took 1.05 many seconds.\n"
     ]
    },
    {
     "name": "stderr",
     "output_type": "stream",
     "text": [
      "\n",
      " 23%|██▎       | 296/1261 [07:46<37:05,  2.31s/it]\u001b[A"
     ]
    },
    {
     "name": "stdout",
     "output_type": "stream",
     "text": [
      "First net took 0.58 many second to check 342 many pictures.\n",
      "currently 1 many boxes\n",
      "After belief, still 1 many boxes. It took 0.0 many seconds.\n",
      "There are 126 centers in the centers.\n",
      "1 of 1 boxes survived the Ensemble-Check! It took 1.04 many seconds.\n"
     ]
    },
    {
     "name": "stderr",
     "output_type": "stream",
     "text": [
      "\n",
      " 24%|██▎       | 297/1261 [07:48<36:56,  2.30s/it]\u001b[A"
     ]
    },
    {
     "name": "stdout",
     "output_type": "stream",
     "text": [
      "First net took 0.58 many second to check 342 many pictures.\n",
      "currently 1 many boxes\n",
      "After belief, still 1 many boxes. It took 0.0 many seconds.\n",
      "There are 127 centers in the centers.\n",
      "1 of 1 boxes survived the Ensemble-Check! It took 1.04 many seconds.\n"
     ]
    },
    {
     "name": "stderr",
     "output_type": "stream",
     "text": [
      "\n",
      " 24%|██▎       | 298/1261 [07:51<36:54,  2.30s/it]\u001b[A"
     ]
    },
    {
     "name": "stdout",
     "output_type": "stream",
     "text": [
      "First net took 0.59 many second to check 342 many pictures.\n",
      "currently 1 many boxes\n",
      "After belief, still 1 many boxes. It took 0.0 many seconds.\n",
      "There are 128 centers in the centers.\n",
      "1 of 1 boxes survived the Ensemble-Check! It took 1.07 many seconds.\n"
     ]
    },
    {
     "name": "stderr",
     "output_type": "stream",
     "text": [
      "\n",
      " 24%|██▎       | 299/1261 [07:53<37:00,  2.31s/it]\u001b[A"
     ]
    },
    {
     "name": "stdout",
     "output_type": "stream",
     "text": [
      "First net took 0.58 many second to check 342 many pictures.\n",
      "currently 1 many boxes\n",
      "After belief, still 1 many boxes. It took 0.0 many seconds.\n",
      "There are 129 centers in the centers.\n",
      "1 of 1 boxes survived the Ensemble-Check! It took 1.05 many seconds.\n"
     ]
    },
    {
     "name": "stderr",
     "output_type": "stream",
     "text": [
      "\n",
      " 24%|██▍       | 300/1261 [07:55<36:53,  2.30s/it]\u001b[A"
     ]
    },
    {
     "name": "stdout",
     "output_type": "stream",
     "text": [
      "First net took 0.6 many second to check 342 many pictures.\n",
      "currently 1 many boxes\n",
      "After belief, still 1 many boxes. It took 0.0 many seconds.\n",
      "There are 130 centers in the centers.\n",
      "1 of 1 boxes survived the Ensemble-Check! It took 1.05 many seconds.\n"
     ]
    },
    {
     "name": "stderr",
     "output_type": "stream",
     "text": [
      "\n",
      " 24%|██▍       | 301/1261 [07:57<36:53,  2.31s/it]\u001b[A"
     ]
    },
    {
     "name": "stdout",
     "output_type": "stream",
     "text": [
      "First net took 0.59 many second to check 342 many pictures.\n",
      "currently 1 many boxes\n",
      "After belief, still 1 many boxes. It took 0.0 many seconds.\n",
      "There are 131 centers in the centers.\n",
      "1 of 1 boxes survived the Ensemble-Check! It took 1.06 many seconds.\n"
     ]
    },
    {
     "name": "stderr",
     "output_type": "stream",
     "text": [
      "\n",
      " 24%|██▍       | 302/1261 [08:00<36:52,  2.31s/it]\u001b[A"
     ]
    },
    {
     "name": "stdout",
     "output_type": "stream",
     "text": [
      "First net took 0.58 many second to check 342 many pictures.\n",
      "currently 1 many boxes\n",
      "After belief, still 1 many boxes. It took 0.0 many seconds.\n",
      "There are 132 centers in the centers.\n",
      "1 of 1 boxes survived the Ensemble-Check! It took 1.04 many seconds.\n"
     ]
    },
    {
     "name": "stderr",
     "output_type": "stream",
     "text": [
      "\n",
      " 24%|██▍       | 303/1261 [08:02<36:44,  2.30s/it]\u001b[A"
     ]
    },
    {
     "name": "stdout",
     "output_type": "stream",
     "text": [
      "First net took 0.58 many second to check 342 many pictures.\n",
      "currently 1 many boxes\n",
      "After belief, still 1 many boxes. It took 0.0 many seconds.\n",
      "There are 133 centers in the centers.\n",
      "1 of 1 boxes survived the Ensemble-Check! It took 1.05 many seconds.\n"
     ]
    },
    {
     "name": "stderr",
     "output_type": "stream",
     "text": [
      "\n",
      " 24%|██▍       | 304/1261 [08:04<36:43,  2.30s/it]\u001b[A"
     ]
    },
    {
     "name": "stdout",
     "output_type": "stream",
     "text": [
      "First net took 0.58 many second to check 342 many pictures.\n",
      "currently 1 many boxes\n",
      "After belief, still 1 many boxes. It took 0.0 many seconds.\n",
      "There are 134 centers in the centers.\n",
      "1 of 1 boxes survived the Ensemble-Check! It took 1.04 many seconds.\n"
     ]
    },
    {
     "name": "stderr",
     "output_type": "stream",
     "text": [
      "\n",
      " 24%|██▍       | 305/1261 [08:07<36:37,  2.30s/it]\u001b[A"
     ]
    },
    {
     "name": "stdout",
     "output_type": "stream",
     "text": [
      "First net took 0.59 many second to check 342 many pictures.\n",
      "currently 1 many boxes\n",
      "After belief, still 1 many boxes. It took 0.0 many seconds.\n",
      "There are 135 centers in the centers.\n",
      "1 of 1 boxes survived the Ensemble-Check! It took 1.04 many seconds.\n"
     ]
    },
    {
     "name": "stderr",
     "output_type": "stream",
     "text": [
      "\n",
      " 24%|██▍       | 306/1261 [08:09<36:33,  2.30s/it]\u001b[A"
     ]
    },
    {
     "name": "stdout",
     "output_type": "stream",
     "text": [
      "First net took 0.61 many second to check 342 many pictures.\n",
      "currently 1 many boxes\n",
      "After belief, still 1 many boxes. It took 0.0 many seconds.\n",
      "There are 136 centers in the centers.\n",
      "1 of 1 boxes survived the Ensemble-Check! It took 1.05 many seconds.\n"
     ]
    },
    {
     "name": "stderr",
     "output_type": "stream",
     "text": [
      "\n",
      " 24%|██▍       | 307/1261 [08:11<36:40,  2.31s/it]\u001b[A"
     ]
    },
    {
     "name": "stdout",
     "output_type": "stream",
     "text": [
      "First net took 0.59 many second to check 342 many pictures.\n",
      "currently 1 many boxes\n",
      "After belief, still 1 many boxes. It took 0.0 many seconds.\n",
      "There are 137 centers in the centers.\n",
      "1 of 1 boxes survived the Ensemble-Check! It took 1.04 many seconds.\n"
     ]
    },
    {
     "name": "stderr",
     "output_type": "stream",
     "text": [
      "\n",
      " 24%|██▍       | 308/1261 [08:14<36:35,  2.30s/it]\u001b[A"
     ]
    },
    {
     "name": "stdout",
     "output_type": "stream",
     "text": [
      "First net took 0.61 many second to check 342 many pictures.\n",
      "currently 1 many boxes\n",
      "After belief, still 1 many boxes. It took 0.0 many seconds.\n",
      "There are 138 centers in the centers.\n",
      "1 of 1 boxes survived the Ensemble-Check! It took 1.03 many seconds.\n"
     ]
    },
    {
     "name": "stderr",
     "output_type": "stream",
     "text": [
      "\n",
      " 25%|██▍       | 309/1261 [08:16<36:33,  2.30s/it]\u001b[A"
     ]
    },
    {
     "name": "stdout",
     "output_type": "stream",
     "text": [
      "First net took 0.59 many second to check 342 many pictures.\n",
      "currently 1 many boxes\n",
      "After belief, still 1 many boxes. It took 0.0 many seconds.\n",
      "There are 139 centers in the centers.\n",
      "1 of 1 boxes survived the Ensemble-Check! It took 1.03 many seconds.\n"
     ]
    },
    {
     "name": "stderr",
     "output_type": "stream",
     "text": [
      "\n",
      " 25%|██▍       | 310/1261 [08:18<36:24,  2.30s/it]\u001b[A"
     ]
    },
    {
     "name": "stdout",
     "output_type": "stream",
     "text": [
      "First net took 0.59 many second to check 342 many pictures.\n",
      "currently 1 many boxes\n",
      "After belief, still 1 many boxes. It took 0.0 many seconds.\n",
      "There are 140 centers in the centers.\n",
      "1 of 1 boxes survived the Ensemble-Check! It took 1.04 many seconds.\n"
     ]
    },
    {
     "name": "stderr",
     "output_type": "stream",
     "text": [
      "\n",
      " 25%|██▍       | 311/1261 [08:20<36:21,  2.30s/it]\u001b[A"
     ]
    },
    {
     "name": "stdout",
     "output_type": "stream",
     "text": [
      "First net took 0.6 many second to check 342 many pictures.\n",
      "currently 1 many boxes\n",
      "After belief, still 1 many boxes. It took 0.0 many seconds.\n",
      "There are 141 centers in the centers.\n",
      "1 of 1 boxes survived the Ensemble-Check! It took 1.03 many seconds.\n"
     ]
    },
    {
     "name": "stderr",
     "output_type": "stream",
     "text": [
      "\n",
      " 25%|██▍       | 312/1261 [08:23<36:19,  2.30s/it]\u001b[A"
     ]
    },
    {
     "name": "stdout",
     "output_type": "stream",
     "text": [
      "First net took 0.58 many second to check 342 many pictures.\n",
      "currently 1 many boxes\n",
      "After belief, still 1 many boxes. It took 0.0 many seconds.\n",
      "There are 142 centers in the centers.\n",
      "1 of 1 boxes survived the Ensemble-Check! It took 1.03 many seconds.\n"
     ]
    },
    {
     "name": "stderr",
     "output_type": "stream",
     "text": [
      "\n",
      " 25%|██▍       | 313/1261 [08:25<36:12,  2.29s/it]\u001b[A"
     ]
    },
    {
     "name": "stdout",
     "output_type": "stream",
     "text": [
      "First net took 0.59 many second to check 342 many pictures.\n",
      "currently 1 many boxes\n",
      "After belief, still 1 many boxes. It took 0.0 many seconds.\n",
      "There are 143 centers in the centers.\n",
      "1 of 1 boxes survived the Ensemble-Check! It took 1.07 many seconds.\n"
     ]
    },
    {
     "name": "stderr",
     "output_type": "stream",
     "text": [
      "\n",
      " 25%|██▍       | 314/1261 [08:27<36:23,  2.31s/it]\u001b[A"
     ]
    },
    {
     "name": "stdout",
     "output_type": "stream",
     "text": [
      "First net took 0.58 many second to check 342 many pictures.\n",
      "currently 1 many boxes\n",
      "After belief, still 1 many boxes. It took 0.0 many seconds.\n",
      "There are 144 centers in the centers.\n",
      "1 of 1 boxes survived the Ensemble-Check! It took 1.04 many seconds.\n"
     ]
    },
    {
     "name": "stderr",
     "output_type": "stream",
     "text": [
      "\n",
      " 25%|██▍       | 315/1261 [08:30<36:13,  2.30s/it]\u001b[A"
     ]
    },
    {
     "name": "stdout",
     "output_type": "stream",
     "text": [
      "First net took 0.58 many second to check 342 many pictures.\n",
      "currently 1 many boxes\n",
      "After belief, still 1 many boxes. It took 0.0 many seconds.\n",
      "There are 145 centers in the centers.\n",
      "1 of 1 boxes survived the Ensemble-Check! It took 1.03 many seconds.\n"
     ]
    },
    {
     "name": "stderr",
     "output_type": "stream",
     "text": [
      "\n",
      " 25%|██▌       | 316/1261 [08:32<36:05,  2.29s/it]\u001b[A"
     ]
    },
    {
     "name": "stdout",
     "output_type": "stream",
     "text": [
      "First net took 0.58 many second to check 342 many pictures.\n",
      "currently 1 many boxes\n",
      "After belief, still 1 many boxes. It took 0.0 many seconds.\n",
      "There are 146 centers in the centers.\n",
      "1 of 1 boxes survived the Ensemble-Check! It took 1.05 many seconds.\n"
     ]
    },
    {
     "name": "stderr",
     "output_type": "stream",
     "text": [
      "\n",
      " 25%|██▌       | 317/1261 [08:34<36:04,  2.29s/it]\u001b[A"
     ]
    },
    {
     "name": "stdout",
     "output_type": "stream",
     "text": [
      "First net took 0.64 many second to check 342 many pictures.\n",
      "currently 1 many boxes\n",
      "After belief, still 1 many boxes. It took 0.0 many seconds.\n",
      "There are 147 centers in the centers.\n",
      "1 of 1 boxes survived the Ensemble-Check! It took 1.03 many seconds.\n"
     ]
    },
    {
     "name": "stderr",
     "output_type": "stream",
     "text": [
      "\n",
      " 25%|██▌       | 318/1261 [08:37<36:12,  2.30s/it]\u001b[A"
     ]
    },
    {
     "name": "stdout",
     "output_type": "stream",
     "text": [
      "First net took 0.59 many second to check 342 many pictures.\n",
      "currently 1 many boxes\n",
      "After belief, still 1 many boxes. It took 0.0 many seconds.\n",
      "There are 148 centers in the centers.\n",
      "1 of 1 boxes survived the Ensemble-Check! It took 1.04 many seconds.\n"
     ]
    },
    {
     "name": "stderr",
     "output_type": "stream",
     "text": [
      "\n",
      " 25%|██▌       | 319/1261 [08:39<36:07,  2.30s/it]\u001b[A"
     ]
    },
    {
     "name": "stdout",
     "output_type": "stream",
     "text": [
      "First net took 0.58 many second to check 342 many pictures.\n",
      "currently 1 many boxes\n",
      "After belief, still 1 many boxes. It took 0.0 many seconds.\n",
      "There are 149 centers in the centers.\n",
      "1 of 1 boxes survived the Ensemble-Check! It took 1.06 many seconds.\n"
     ]
    },
    {
     "name": "stderr",
     "output_type": "stream",
     "text": [
      "\n",
      " 25%|██▌       | 320/1261 [08:41<36:06,  2.30s/it]\u001b[A"
     ]
    },
    {
     "name": "stdout",
     "output_type": "stream",
     "text": [
      "First net took 0.59 many second to check 342 many pictures.\n",
      "currently 1 many boxes\n",
      "After belief, still 1 many boxes. It took 0.0 many seconds.\n",
      "There are 150 centers in the centers.\n",
      "1 of 1 boxes survived the Ensemble-Check! It took 1.03 many seconds.\n"
     ]
    },
    {
     "name": "stderr",
     "output_type": "stream",
     "text": [
      "\n",
      " 25%|██▌       | 321/1261 [08:43<36:00,  2.30s/it]\u001b[A"
     ]
    },
    {
     "name": "stdout",
     "output_type": "stream",
     "text": [
      "First net took 0.59 many second to check 342 many pictures.\n",
      "currently 1 many boxes\n",
      "After belief, still 1 many boxes. It took 0.0 many seconds.\n",
      "There are 151 centers in the centers.\n",
      "1 of 1 boxes survived the Ensemble-Check! It took 1.03 many seconds.\n"
     ]
    },
    {
     "name": "stderr",
     "output_type": "stream",
     "text": [
      "\n",
      " 26%|██▌       | 322/1261 [08:46<35:50,  2.29s/it]\u001b[A"
     ]
    },
    {
     "name": "stdout",
     "output_type": "stream",
     "text": [
      "First net took 0.61 many second to check 342 many pictures.\n",
      "currently 1 many boxes\n",
      "After belief, still 1 many boxes. It took 0.0 many seconds.\n",
      "There are 152 centers in the centers.\n",
      "1 of 1 boxes survived the Ensemble-Check! It took 1.05 many seconds.\n"
     ]
    },
    {
     "name": "stderr",
     "output_type": "stream",
     "text": [
      "\n",
      " 26%|██▌       | 323/1261 [08:48<35:57,  2.30s/it]\u001b[A"
     ]
    },
    {
     "name": "stdout",
     "output_type": "stream",
     "text": [
      "First net took 0.58 many second to check 342 many pictures.\n",
      "currently 1 many boxes\n",
      "After belief, still 1 many boxes. It took 0.0 many seconds.\n",
      "There are 153 centers in the centers.\n",
      "1 of 1 boxes survived the Ensemble-Check! It took 1.03 many seconds.\n"
     ]
    },
    {
     "name": "stderr",
     "output_type": "stream",
     "text": [
      "\n",
      " 26%|██▌       | 324/1261 [08:50<35:48,  2.29s/it]\u001b[A"
     ]
    },
    {
     "name": "stdout",
     "output_type": "stream",
     "text": [
      "First net took 0.58 many second to check 342 many pictures.\n",
      "currently 1 many boxes\n",
      "After belief, still 1 many boxes. It took 0.0 many seconds.\n",
      "There are 151 centers in the centers.\n",
      "1 of 1 boxes survived the Ensemble-Check! It took 1.04 many seconds.\n"
     ]
    },
    {
     "name": "stderr",
     "output_type": "stream",
     "text": [
      "\n",
      " 26%|██▌       | 325/1261 [08:53<35:45,  2.29s/it]\u001b[A"
     ]
    },
    {
     "name": "stdout",
     "output_type": "stream",
     "text": [
      "First net took 0.59 many second to check 342 many pictures.\n",
      "currently 1 many boxes\n",
      "After belief, still 1 many boxes. It took 0.0 many seconds.\n",
      "There are 152 centers in the centers.\n",
      "1 of 1 boxes survived the Ensemble-Check! It took 1.04 many seconds.\n"
     ]
    },
    {
     "name": "stderr",
     "output_type": "stream",
     "text": [
      "\n",
      " 26%|██▌       | 326/1261 [08:55<35:43,  2.29s/it]\u001b[A"
     ]
    },
    {
     "name": "stdout",
     "output_type": "stream",
     "text": [
      "First net took 0.58 many second to check 342 many pictures.\n",
      "currently 1 many boxes\n",
      "After belief, still 1 many boxes. It took 0.0 many seconds.\n",
      "There are 153 centers in the centers.\n",
      "1 of 1 boxes survived the Ensemble-Check! It took 1.04 many seconds.\n"
     ]
    },
    {
     "name": "stderr",
     "output_type": "stream",
     "text": [
      "\n",
      " 26%|██▌       | 327/1261 [08:57<35:41,  2.29s/it]\u001b[A"
     ]
    },
    {
     "name": "stdout",
     "output_type": "stream",
     "text": [
      "First net took 0.59 many second to check 342 many pictures.\n",
      "currently 1 many boxes\n",
      "After belief, still 1 many boxes. It took 0.0 many seconds.\n",
      "There are 154 centers in the centers.\n",
      "1 of 1 boxes survived the Ensemble-Check! It took 1.04 many seconds.\n"
     ]
    },
    {
     "name": "stderr",
     "output_type": "stream",
     "text": [
      "\n",
      " 26%|██▌       | 328/1261 [08:59<35:38,  2.29s/it]\u001b[A"
     ]
    },
    {
     "name": "stdout",
     "output_type": "stream",
     "text": [
      "First net took 0.6 many second to check 342 many pictures.\n",
      "currently 1 many boxes\n",
      "After belief, still 1 many boxes. It took 0.0 many seconds.\n",
      "There are 155 centers in the centers.\n",
      "1 of 1 boxes survived the Ensemble-Check! It took 1.05 many seconds.\n"
     ]
    },
    {
     "name": "stderr",
     "output_type": "stream",
     "text": [
      "\n",
      " 26%|██▌       | 329/1261 [09:02<35:43,  2.30s/it]\u001b[A"
     ]
    },
    {
     "name": "stdout",
     "output_type": "stream",
     "text": [
      "First net took 0.63 many second to check 342 many pictures.\n",
      "currently 1 many boxes\n",
      "After belief, still 1 many boxes. It took 0.0 many seconds.\n",
      "There are 156 centers in the centers.\n",
      "1 of 1 boxes survived the Ensemble-Check! It took 1.04 many seconds.\n"
     ]
    },
    {
     "name": "stderr",
     "output_type": "stream",
     "text": [
      "\n",
      " 26%|██▌       | 330/1261 [09:04<35:50,  2.31s/it]\u001b[A"
     ]
    },
    {
     "name": "stdout",
     "output_type": "stream",
     "text": [
      "First net took 0.58 many second to check 342 many pictures.\n",
      "currently 1 many boxes\n",
      "After belief, still 1 many boxes. It took 0.0 many seconds.\n",
      "There are 157 centers in the centers.\n",
      "1 of 1 boxes survived the Ensemble-Check! It took 1.04 many seconds.\n"
     ]
    },
    {
     "name": "stderr",
     "output_type": "stream",
     "text": [
      "\n",
      " 26%|██▌       | 331/1261 [09:06<35:41,  2.30s/it]\u001b[A"
     ]
    },
    {
     "name": "stdout",
     "output_type": "stream",
     "text": [
      "First net took 0.58 many second to check 342 many pictures.\n",
      "currently 1 many boxes\n",
      "After belief, still 1 many boxes. It took 0.0 many seconds.\n",
      "There are 158 centers in the centers.\n",
      "1 of 1 boxes survived the Ensemble-Check! It took 1.05 many seconds.\n"
     ]
    },
    {
     "name": "stderr",
     "output_type": "stream",
     "text": [
      "\n",
      " 26%|██▋       | 332/1261 [09:09<35:39,  2.30s/it]\u001b[A"
     ]
    },
    {
     "name": "stdout",
     "output_type": "stream",
     "text": [
      "First net took 0.59 many second to check 342 many pictures.\n",
      "currently 1 many boxes\n",
      "After belief, still 1 many boxes. It took 0.0 many seconds.\n",
      "There are 153 centers in the centers.\n",
      "1 of 1 boxes survived the Ensemble-Check! It took 1.03 many seconds.\n"
     ]
    },
    {
     "name": "stderr",
     "output_type": "stream",
     "text": [
      "\n",
      " 26%|██▋       | 333/1261 [09:11<35:33,  2.30s/it]\u001b[A"
     ]
    },
    {
     "name": "stdout",
     "output_type": "stream",
     "text": [
      "First net took 0.59 many second to check 342 many pictures.\n",
      "currently 1 many boxes\n",
      "After belief, still 1 many boxes. It took 0.0 many seconds.\n",
      "There are 154 centers in the centers.\n",
      "1 of 1 boxes survived the Ensemble-Check! It took 1.03 many seconds.\n"
     ]
    },
    {
     "name": "stderr",
     "output_type": "stream",
     "text": [
      "\n",
      " 26%|██▋       | 334/1261 [09:13<35:26,  2.29s/it]\u001b[A"
     ]
    },
    {
     "name": "stdout",
     "output_type": "stream",
     "text": [
      "First net took 0.59 many second to check 342 many pictures.\n",
      "currently 1 many boxes\n",
      "After belief, still 1 many boxes. It took 0.0 many seconds.\n",
      "There are 155 centers in the centers.\n",
      "1 of 1 boxes survived the Ensemble-Check! It took 1.04 many seconds.\n"
     ]
    },
    {
     "name": "stderr",
     "output_type": "stream",
     "text": [
      "\n",
      " 27%|██▋       | 335/1261 [09:16<35:24,  2.29s/it]\u001b[A"
     ]
    },
    {
     "name": "stdout",
     "output_type": "stream",
     "text": [
      "First net took 0.6 many second to check 342 many pictures.\n",
      "currently 1 many boxes\n",
      "After belief, still 1 many boxes. It took 0.0 many seconds.\n",
      "There are 156 centers in the centers.\n",
      "1 of 1 boxes survived the Ensemble-Check! It took 1.01 many seconds.\n"
     ]
    },
    {
     "name": "stderr",
     "output_type": "stream",
     "text": [
      "\n",
      " 27%|██▋       | 336/1261 [09:18<35:20,  2.29s/it]\u001b[A"
     ]
    },
    {
     "name": "stdout",
     "output_type": "stream",
     "text": [
      "First net took 0.59 many second to check 342 many pictures.\n",
      "currently 1 many boxes\n",
      "After belief, still 1 many boxes. It took 0.0 many seconds.\n",
      "There are 157 centers in the centers.\n",
      "1 of 1 boxes survived the Ensemble-Check! It took 1.04 many seconds.\n"
     ]
    },
    {
     "name": "stderr",
     "output_type": "stream",
     "text": [
      "\n",
      " 27%|██▋       | 337/1261 [09:20<35:18,  2.29s/it]\u001b[A"
     ]
    },
    {
     "name": "stdout",
     "output_type": "stream",
     "text": [
      "First net took 0.59 many second to check 342 many pictures.\n",
      "currently 1 many boxes\n",
      "After belief, still 1 many boxes. It took 0.0 many seconds.\n",
      "There are 158 centers in the centers.\n",
      "1 of 1 boxes survived the Ensemble-Check! It took 1.05 many seconds.\n"
     ]
    },
    {
     "name": "stderr",
     "output_type": "stream",
     "text": [
      "\n",
      " 27%|██▋       | 338/1261 [09:22<35:17,  2.29s/it]\u001b[A"
     ]
    },
    {
     "name": "stdout",
     "output_type": "stream",
     "text": [
      "First net took 0.58 many second to check 342 many pictures.\n",
      "currently 1 many boxes\n",
      "After belief, still 1 many boxes. It took 0.0 many seconds.\n",
      "There are 159 centers in the centers.\n",
      "1 of 1 boxes survived the Ensemble-Check! It took 1.02 many seconds.\n"
     ]
    },
    {
     "name": "stderr",
     "output_type": "stream",
     "text": [
      "\n",
      " 27%|██▋       | 339/1261 [09:25<35:09,  2.29s/it]\u001b[A"
     ]
    },
    {
     "name": "stdout",
     "output_type": "stream",
     "text": [
      "First net took 0.58 many second to check 342 many pictures.\n",
      "currently 1 many boxes\n",
      "After belief, still 1 many boxes. It took 0.0 many seconds.\n",
      "There are 160 centers in the centers.\n",
      "1 of 1 boxes survived the Ensemble-Check! It took 1.02 many seconds.\n"
     ]
    },
    {
     "name": "stderr",
     "output_type": "stream",
     "text": [
      "\n",
      " 27%|██▋       | 340/1261 [09:27<35:01,  2.28s/it]\u001b[A"
     ]
    },
    {
     "name": "stdout",
     "output_type": "stream",
     "text": [
      "First net took 0.59 many second to check 342 many pictures.\n",
      "currently 1 many boxes\n",
      "After belief, still 1 many boxes. It took 0.0 many seconds.\n",
      "There are 143 centers in the centers.\n",
      "1 of 1 boxes survived the Ensemble-Check! It took 1.01 many seconds.\n"
     ]
    },
    {
     "name": "stderr",
     "output_type": "stream",
     "text": [
      "\n",
      " 27%|██▋       | 341/1261 [09:29<34:54,  2.28s/it]\u001b[A"
     ]
    },
    {
     "name": "stdout",
     "output_type": "stream",
     "text": [
      "First net took 0.59 many second to check 342 many pictures.\n",
      "currently 1 many boxes\n",
      "After belief, still 1 many boxes. It took 0.0 many seconds.\n",
      "There are 125 centers in the centers.\n",
      "1 of 1 boxes survived the Ensemble-Check! It took 1.01 many seconds.\n"
     ]
    },
    {
     "name": "stderr",
     "output_type": "stream",
     "text": [
      "\n",
      " 27%|██▋       | 342/1261 [09:32<34:49,  2.27s/it]\u001b[A"
     ]
    },
    {
     "name": "stdout",
     "output_type": "stream",
     "text": [
      "First net took 0.62 many second to check 342 many pictures.\n",
      "currently 1 many boxes\n",
      "After belief, still 1 many boxes. It took 0.0 many seconds.\n",
      "There are 126 centers in the centers.\n",
      "1 of 1 boxes survived the Ensemble-Check! It took 1.01 many seconds.\n"
     ]
    },
    {
     "name": "stderr",
     "output_type": "stream",
     "text": [
      "\n",
      " 27%|██▋       | 343/1261 [09:34<34:51,  2.28s/it]\u001b[A"
     ]
    },
    {
     "name": "stdout",
     "output_type": "stream",
     "text": [
      "First net took 0.58 many second to check 342 many pictures.\n",
      "currently 1 many boxes\n",
      "After belief, still 1 many boxes. It took 0.0 many seconds.\n",
      "There are 127 centers in the centers.\n",
      "1 of 1 boxes survived the Ensemble-Check! It took 1.02 many seconds.\n"
     ]
    },
    {
     "name": "stderr",
     "output_type": "stream",
     "text": [
      "\n",
      " 27%|██▋       | 344/1261 [09:36<34:50,  2.28s/it]\u001b[A"
     ]
    },
    {
     "name": "stdout",
     "output_type": "stream",
     "text": [
      "First net took 0.58 many second to check 342 many pictures.\n",
      "currently 1 many boxes\n",
      "After belief, still 1 many boxes. It took 0.0 many seconds.\n",
      "There are 128 centers in the centers.\n",
      "1 of 1 boxes survived the Ensemble-Check! It took 1.02 many seconds.\n"
     ]
    },
    {
     "name": "stderr",
     "output_type": "stream",
     "text": [
      "\n",
      " 27%|██▋       | 345/1261 [09:38<34:42,  2.27s/it]\u001b[A"
     ]
    },
    {
     "name": "stdout",
     "output_type": "stream",
     "text": [
      "First net took 0.59 many second to check 342 many pictures.\n",
      "currently 1 many boxes\n",
      "After belief, still 1 many boxes. It took 0.0 many seconds.\n",
      "There are 129 centers in the centers.\n",
      "1 of 1 boxes survived the Ensemble-Check! It took 1.01 many seconds.\n"
     ]
    },
    {
     "name": "stderr",
     "output_type": "stream",
     "text": [
      "\n",
      " 27%|██▋       | 346/1261 [09:41<34:36,  2.27s/it]\u001b[A"
     ]
    },
    {
     "name": "stdout",
     "output_type": "stream",
     "text": [
      "First net took 0.61 many second to check 342 many pictures.\n",
      "currently 1 many boxes\n",
      "After belief, still 1 many boxes. It took 0.0 many seconds.\n",
      "There are 130 centers in the centers.\n",
      "1 of 1 boxes survived the Ensemble-Check! It took 1.0 many seconds.\n"
     ]
    },
    {
     "name": "stderr",
     "output_type": "stream",
     "text": [
      "\n",
      " 28%|██▊       | 347/1261 [09:43<34:37,  2.27s/it]\u001b[A"
     ]
    },
    {
     "name": "stdout",
     "output_type": "stream",
     "text": [
      "First net took 0.59 many second to check 342 many pictures.\n",
      "currently 1 many boxes\n",
      "After belief, still 1 many boxes. It took 0.0 many seconds.\n",
      "There are 131 centers in the centers.\n",
      "1 of 1 boxes survived the Ensemble-Check! It took 1.01 many seconds.\n"
     ]
    },
    {
     "name": "stderr",
     "output_type": "stream",
     "text": [
      "\n",
      " 28%|██▊       | 348/1261 [09:45<34:32,  2.27s/it]\u001b[A"
     ]
    },
    {
     "name": "stdout",
     "output_type": "stream",
     "text": [
      "First net took 0.58 many second to check 342 many pictures.\n",
      "currently 1 many boxes\n",
      "After belief, still 1 many boxes. It took 0.0 many seconds.\n",
      "There are 132 centers in the centers.\n",
      "1 of 1 boxes survived the Ensemble-Check! It took 1.0 many seconds.\n"
     ]
    },
    {
     "name": "stderr",
     "output_type": "stream",
     "text": [
      "\n",
      " 28%|██▊       | 349/1261 [09:47<34:23,  2.26s/it]\u001b[A"
     ]
    },
    {
     "name": "stdout",
     "output_type": "stream",
     "text": [
      "First net took 0.59 many second to check 342 many pictures.\n",
      "currently 1 many boxes\n",
      "After belief, still 1 many boxes. It took 0.0 many seconds.\n",
      "There are 133 centers in the centers.\n",
      "1 of 1 boxes survived the Ensemble-Check! It took 1.01 many seconds.\n"
     ]
    },
    {
     "name": "stderr",
     "output_type": "stream",
     "text": [
      "\n",
      " 28%|██▊       | 350/1261 [09:50<34:22,  2.26s/it]\u001b[A"
     ]
    },
    {
     "name": "stdout",
     "output_type": "stream",
     "text": [
      "First net took 0.59 many second to check 342 many pictures.\n",
      "currently 1 many boxes\n",
      "After belief, still 1 many boxes. It took 0.0 many seconds.\n",
      "There are 134 centers in the centers.\n",
      "1 of 1 boxes survived the Ensemble-Check! It took 1.03 many seconds.\n"
     ]
    },
    {
     "name": "stderr",
     "output_type": "stream",
     "text": [
      "\n",
      " 28%|██▊       | 351/1261 [09:52<34:28,  2.27s/it]\u001b[A"
     ]
    },
    {
     "name": "stdout",
     "output_type": "stream",
     "text": [
      "First net took 0.58 many second to check 342 many pictures.\n",
      "currently 1 many boxes\n",
      "After belief, still 1 many boxes. It took 0.0 many seconds.\n",
      "There are 135 centers in the centers.\n",
      "1 of 1 boxes survived the Ensemble-Check! It took 1.01 many seconds.\n"
     ]
    },
    {
     "name": "stderr",
     "output_type": "stream",
     "text": [
      "\n",
      " 28%|██▊       | 352/1261 [09:54<34:57,  2.31s/it]\u001b[A"
     ]
    },
    {
     "name": "stdout",
     "output_type": "stream",
     "text": [
      "First net took 0.58 many second to check 342 many pictures.\n",
      "currently 1 many boxes\n",
      "After belief, still 1 many boxes. It took 0.0 many seconds.\n",
      "There are 136 centers in the centers.\n",
      "1 of 1 boxes survived the Ensemble-Check! It took 1.01 many seconds.\n"
     ]
    },
    {
     "name": "stderr",
     "output_type": "stream",
     "text": [
      "\n",
      " 28%|██▊       | 353/1261 [09:57<34:43,  2.29s/it]\u001b[A"
     ]
    },
    {
     "name": "stdout",
     "output_type": "stream",
     "text": [
      "First net took 0.59 many second to check 342 many pictures.\n",
      "currently 1 many boxes\n",
      "After belief, still 1 many boxes. It took 0.0 many seconds.\n",
      "There are 137 centers in the centers.\n",
      "1 of 1 boxes survived the Ensemble-Check! It took 1.03 many seconds.\n"
     ]
    },
    {
     "name": "stderr",
     "output_type": "stream",
     "text": [
      "\n",
      " 28%|██▊       | 354/1261 [09:59<34:38,  2.29s/it]\u001b[A"
     ]
    },
    {
     "name": "stdout",
     "output_type": "stream",
     "text": [
      "First net took 0.58 many second to check 342 many pictures.\n",
      "currently 1 many boxes\n",
      "After belief, still 1 many boxes. It took 0.0 many seconds.\n",
      "There are 138 centers in the centers.\n",
      "1 of 1 boxes survived the Ensemble-Check! It took 1.02 many seconds.\n"
     ]
    },
    {
     "name": "stderr",
     "output_type": "stream",
     "text": [
      "\n",
      " 28%|██▊       | 355/1261 [10:01<34:29,  2.28s/it]\u001b[A"
     ]
    },
    {
     "name": "stdout",
     "output_type": "stream",
     "text": [
      "First net took 0.59 many second to check 342 many pictures.\n",
      "currently 1 many boxes\n",
      "After belief, still 1 many boxes. It took 0.0 many seconds.\n",
      "There are 139 centers in the centers.\n",
      "1 of 1 boxes survived the Ensemble-Check! It took 1.03 many seconds.\n"
     ]
    },
    {
     "name": "stderr",
     "output_type": "stream",
     "text": [
      "\n",
      " 28%|██▊       | 356/1261 [10:03<34:25,  2.28s/it]\u001b[A"
     ]
    },
    {
     "name": "stdout",
     "output_type": "stream",
     "text": [
      "First net took 0.58 many second to check 342 many pictures.\n",
      "currently 1 many boxes\n",
      "After belief, still 1 many boxes. It took 0.0 many seconds.\n",
      "There are 140 centers in the centers.\n",
      "1 of 1 boxes survived the Ensemble-Check! It took 1.02 many seconds.\n"
     ]
    },
    {
     "name": "stderr",
     "output_type": "stream",
     "text": [
      "\n",
      " 28%|██▊       | 357/1261 [10:06<34:19,  2.28s/it]\u001b[A"
     ]
    },
    {
     "name": "stdout",
     "output_type": "stream",
     "text": [
      "First net took 0.58 many second to check 342 many pictures.\n",
      "currently 1 many boxes\n",
      "After belief, still 1 many boxes. It took 0.0 many seconds.\n",
      "There are 132 centers in the centers.\n",
      "1 of 1 boxes survived the Ensemble-Check! It took 1.02 many seconds.\n"
     ]
    },
    {
     "name": "stderr",
     "output_type": "stream",
     "text": [
      "\n",
      " 28%|██▊       | 358/1261 [10:08<34:13,  2.27s/it]\u001b[A"
     ]
    },
    {
     "name": "stdout",
     "output_type": "stream",
     "text": [
      "First net took 0.58 many second to check 342 many pictures.\n",
      "currently 1 many boxes\n",
      "After belief, still 1 many boxes. It took 0.0 many seconds.\n",
      "There are 133 centers in the centers.\n",
      "1 of 1 boxes survived the Ensemble-Check! It took 1.02 many seconds.\n"
     ]
    },
    {
     "name": "stderr",
     "output_type": "stream",
     "text": [
      "\n",
      " 28%|██▊       | 359/1261 [10:10<34:09,  2.27s/it]\u001b[A"
     ]
    },
    {
     "name": "stdout",
     "output_type": "stream",
     "text": [
      "First net took 0.58 many second to check 342 many pictures.\n",
      "currently 1 many boxes\n",
      "After belief, still 1 many boxes. It took 0.0 many seconds.\n",
      "There are 93 centers in the centers.\n",
      "1 of 1 boxes survived the Ensemble-Check! It took 1.01 many seconds.\n"
     ]
    },
    {
     "name": "stderr",
     "output_type": "stream",
     "text": [
      "\n",
      " 29%|██▊       | 360/1261 [10:12<34:03,  2.27s/it]\u001b[A"
     ]
    },
    {
     "name": "stdout",
     "output_type": "stream",
     "text": [
      "First net took 0.58 many second to check 342 many pictures.\n",
      "currently 1 many boxes\n",
      "After belief, still 1 many boxes. It took 0.0 many seconds.\n",
      "There are 94 centers in the centers.\n",
      "1 of 1 boxes survived the Ensemble-Check! It took 1.0 many seconds.\n"
     ]
    },
    {
     "name": "stderr",
     "output_type": "stream",
     "text": [
      "\n",
      " 29%|██▊       | 361/1261 [10:15<33:57,  2.26s/it]\u001b[A"
     ]
    },
    {
     "name": "stdout",
     "output_type": "stream",
     "text": [
      "First net took 0.59 many second to check 342 many pictures.\n",
      "currently 1 many boxes\n",
      "After belief, still 1 many boxes. It took 0.0 many seconds.\n",
      "There are 83 centers in the centers.\n",
      "1 of 1 boxes survived the Ensemble-Check! It took 1.01 many seconds.\n"
     ]
    },
    {
     "name": "stderr",
     "output_type": "stream",
     "text": [
      "\n",
      " 29%|██▊       | 362/1261 [10:17<33:54,  2.26s/it]\u001b[A"
     ]
    },
    {
     "name": "stdout",
     "output_type": "stream",
     "text": [
      "First net took 0.58 many second to check 342 many pictures.\n",
      "currently 1 many boxes\n",
      "After belief, still 1 many boxes. It took 0.0 many seconds.\n",
      "There are 84 centers in the centers.\n",
      "1 of 1 boxes survived the Ensemble-Check! It took 1.02 many seconds.\n"
     ]
    },
    {
     "name": "stderr",
     "output_type": "stream",
     "text": [
      "\n",
      " 29%|██▉       | 363/1261 [10:19<33:51,  2.26s/it]\u001b[A"
     ]
    },
    {
     "name": "stdout",
     "output_type": "stream",
     "text": [
      "First net took 0.58 many second to check 342 many pictures.\n",
      "currently 1 many boxes\n",
      "After belief, still 1 many boxes. It took 0.0 many seconds.\n",
      "There are 78 centers in the centers.\n",
      "1 of 1 boxes survived the Ensemble-Check! It took 1.0 many seconds.\n"
     ]
    },
    {
     "name": "stderr",
     "output_type": "stream",
     "text": [
      "\n",
      " 29%|██▉       | 364/1261 [10:22<33:46,  2.26s/it]\u001b[A"
     ]
    },
    {
     "name": "stdout",
     "output_type": "stream",
     "text": [
      "First net took 0.58 many second to check 342 many pictures.\n",
      "currently 1 many boxes\n",
      "After belief, still 1 many boxes. It took 0.0 many seconds.\n",
      "There are 79 centers in the centers.\n",
      "1 of 1 boxes survived the Ensemble-Check! It took 1.01 many seconds.\n"
     ]
    },
    {
     "name": "stderr",
     "output_type": "stream",
     "text": [
      "\n",
      " 29%|██▉       | 365/1261 [10:24<33:41,  2.26s/it]\u001b[A"
     ]
    },
    {
     "name": "stdout",
     "output_type": "stream",
     "text": [
      "First net took 0.59 many second to check 342 many pictures.\n",
      "currently 1 many boxes\n",
      "After belief, still 1 many boxes. It took 0.0 many seconds.\n",
      "There are 80 centers in the centers.\n",
      "1 of 1 boxes survived the Ensemble-Check! It took 1.01 many seconds.\n"
     ]
    },
    {
     "name": "stderr",
     "output_type": "stream",
     "text": [
      "\n",
      " 29%|██▉       | 366/1261 [10:26<33:40,  2.26s/it]\u001b[A"
     ]
    },
    {
     "name": "stdout",
     "output_type": "stream",
     "text": [
      "First net took 0.58 many second to check 342 many pictures.\n",
      "currently 1 many boxes\n",
      "After belief, still 1 many boxes. It took 0.0 many seconds.\n",
      "There are 79 centers in the centers.\n",
      "1 of 1 boxes survived the Ensemble-Check! It took 1.0 many seconds.\n"
     ]
    },
    {
     "name": "stderr",
     "output_type": "stream",
     "text": [
      "\n",
      " 29%|██▉       | 367/1261 [10:28<33:36,  2.26s/it]\u001b[A"
     ]
    },
    {
     "name": "stdout",
     "output_type": "stream",
     "text": [
      "First net took 0.58 many second to check 342 many pictures.\n",
      "currently 1 many boxes\n",
      "After belief, still 1 many boxes. It took 0.0 many seconds.\n",
      "There are 80 centers in the centers.\n",
      "1 of 1 boxes survived the Ensemble-Check! It took 1.0 many seconds.\n"
     ]
    },
    {
     "name": "stderr",
     "output_type": "stream",
     "text": [
      "\n",
      " 29%|██▉       | 368/1261 [10:31<33:34,  2.26s/it]\u001b[A"
     ]
    },
    {
     "name": "stdout",
     "output_type": "stream",
     "text": [
      "First net took 0.6 many second to check 342 many pictures.\n",
      "currently 1 many boxes\n",
      "After belief, still 1 many boxes. It took 0.0 many seconds.\n",
      "There are 81 centers in the centers.\n",
      "1 of 1 boxes survived the Ensemble-Check! It took 1.02 many seconds.\n"
     ]
    },
    {
     "name": "stderr",
     "output_type": "stream",
     "text": [
      "\n",
      " 29%|██▉       | 369/1261 [10:33<33:40,  2.26s/it]\u001b[A"
     ]
    },
    {
     "name": "stdout",
     "output_type": "stream",
     "text": [
      "First net took 0.6 many second to check 342 many pictures.\n",
      "currently 1 many boxes\n",
      "After belief, still 1 many boxes. It took 0.0 many seconds.\n",
      "There are 82 centers in the centers.\n",
      "1 of 1 boxes survived the Ensemble-Check! It took 1.0 many seconds.\n"
     ]
    },
    {
     "name": "stderr",
     "output_type": "stream",
     "text": [
      "\n",
      " 29%|██▉       | 370/1261 [10:35<33:38,  2.27s/it]\u001b[A"
     ]
    },
    {
     "name": "stdout",
     "output_type": "stream",
     "text": [
      "First net took 0.58 many second to check 342 many pictures.\n",
      "currently 1 many boxes\n",
      "After belief, still 1 many boxes. It took 0.0 many seconds.\n",
      "There are 83 centers in the centers.\n",
      "1 of 1 boxes survived the Ensemble-Check! It took 1.0 many seconds.\n"
     ]
    },
    {
     "name": "stderr",
     "output_type": "stream",
     "text": [
      "\n",
      " 29%|██▉       | 371/1261 [10:37<33:31,  2.26s/it]\u001b[A"
     ]
    },
    {
     "name": "stdout",
     "output_type": "stream",
     "text": [
      "First net took 0.58 many second to check 342 many pictures.\n",
      "currently 1 many boxes\n",
      "After belief, still 1 many boxes. It took 0.0 many seconds.\n",
      "There are 84 centers in the centers.\n",
      "1 of 1 boxes survived the Ensemble-Check! It took 1.03 many seconds.\n"
     ]
    },
    {
     "name": "stderr",
     "output_type": "stream",
     "text": [
      "\n",
      " 30%|██▉       | 372/1261 [10:40<33:33,  2.26s/it]\u001b[A"
     ]
    },
    {
     "name": "stdout",
     "output_type": "stream",
     "text": [
      "First net took 0.59 many second to check 342 many pictures.\n",
      "currently 1 many boxes\n",
      "After belief, still 1 many boxes. It took 0.0 many seconds.\n",
      "There are 85 centers in the centers.\n",
      "1 of 1 boxes survived the Ensemble-Check! It took 1.02 many seconds.\n"
     ]
    },
    {
     "name": "stderr",
     "output_type": "stream",
     "text": [
      "\n",
      " 30%|██▉       | 373/1261 [10:42<33:33,  2.27s/it]\u001b[A"
     ]
    },
    {
     "name": "stdout",
     "output_type": "stream",
     "text": [
      "First net took 0.59 many second to check 342 many pictures.\n",
      "currently 1 many boxes\n",
      "After belief, still 1 many boxes. It took 0.0 many seconds.\n",
      "There are 86 centers in the centers.\n",
      "1 of 1 boxes survived the Ensemble-Check! It took 1.01 many seconds.\n"
     ]
    },
    {
     "name": "stderr",
     "output_type": "stream",
     "text": [
      "\n",
      " 30%|██▉       | 374/1261 [10:44<33:31,  2.27s/it]\u001b[A"
     ]
    },
    {
     "name": "stdout",
     "output_type": "stream",
     "text": [
      "First net took 0.58 many second to check 342 many pictures.\n",
      "currently 1 many boxes\n",
      "After belief, still 1 many boxes. It took 0.0 many seconds.\n",
      "There are 87 centers in the centers.\n",
      "1 of 1 boxes survived the Ensemble-Check! It took 1.01 many seconds.\n"
     ]
    },
    {
     "name": "stderr",
     "output_type": "stream",
     "text": [
      "\n",
      " 30%|██▉       | 375/1261 [10:46<33:25,  2.26s/it]\u001b[A"
     ]
    },
    {
     "name": "stdout",
     "output_type": "stream",
     "text": [
      "First net took 0.58 many second to check 342 many pictures.\n",
      "currently 1 many boxes\n",
      "After belief, still 1 many boxes. It took 0.0 many seconds.\n",
      "There are 88 centers in the centers.\n",
      "1 of 1 boxes survived the Ensemble-Check! It took 1.01 many seconds.\n"
     ]
    },
    {
     "name": "stderr",
     "output_type": "stream",
     "text": [
      "\n",
      " 30%|██▉       | 376/1261 [10:49<33:20,  2.26s/it]\u001b[A"
     ]
    },
    {
     "name": "stdout",
     "output_type": "stream",
     "text": [
      "First net took 0.61 many second to check 342 many pictures.\n",
      "currently 1 many boxes\n",
      "After belief, still 1 many boxes. It took 0.0 many seconds.\n",
      "There are 83 centers in the centers.\n",
      "1 of 1 boxes survived the Ensemble-Check! It took 1.01 many seconds.\n"
     ]
    },
    {
     "name": "stderr",
     "output_type": "stream",
     "text": [
      "\n",
      " 30%|██▉       | 377/1261 [10:51<33:24,  2.27s/it]\u001b[A"
     ]
    },
    {
     "name": "stdout",
     "output_type": "stream",
     "text": [
      "First net took 0.59 many second to check 342 many pictures.\n",
      "currently 1 many boxes\n",
      "After belief, still 1 many boxes. It took 0.0 many seconds.\n",
      "There are 84 centers in the centers.\n",
      "1 of 1 boxes survived the Ensemble-Check! It took 1.0 many seconds.\n"
     ]
    },
    {
     "name": "stderr",
     "output_type": "stream",
     "text": [
      "\n",
      " 30%|██▉       | 378/1261 [10:53<33:20,  2.27s/it]\u001b[A"
     ]
    },
    {
     "name": "stdout",
     "output_type": "stream",
     "text": [
      "First net took 0.59 many second to check 342 many pictures.\n",
      "currently 1 many boxes\n",
      "After belief, still 1 many boxes. It took 0.0 many seconds.\n",
      "There are 47 centers in the centers.\n",
      "1 of 1 boxes survived the Ensemble-Check! It took 1.0 many seconds.\n"
     ]
    },
    {
     "name": "stderr",
     "output_type": "stream",
     "text": [
      "\n",
      " 30%|███       | 379/1261 [10:55<33:18,  2.27s/it]\u001b[A"
     ]
    },
    {
     "name": "stdout",
     "output_type": "stream",
     "text": [
      "First net took 0.59 many second to check 342 many pictures.\n",
      "currently 1 many boxes\n",
      "After belief, still 1 many boxes. It took 0.0 many seconds.\n",
      "There are 48 centers in the centers.\n",
      "1 of 1 boxes survived the Ensemble-Check! It took 0.99 many seconds.\n"
     ]
    },
    {
     "name": "stderr",
     "output_type": "stream",
     "text": [
      "\n",
      " 30%|███       | 380/1261 [10:58<33:09,  2.26s/it]\u001b[A"
     ]
    },
    {
     "name": "stdout",
     "output_type": "stream",
     "text": [
      "First net took 0.58 many second to check 342 many pictures.\n",
      "currently 1 many boxes\n",
      "After belief, still 1 many boxes. It took 0.0 many seconds.\n",
      "There are 49 centers in the centers.\n",
      "1 of 1 boxes survived the Ensemble-Check! It took 1.0 many seconds.\n"
     ]
    },
    {
     "name": "stderr",
     "output_type": "stream",
     "text": [
      "\n",
      " 30%|███       | 381/1261 [11:00<33:05,  2.26s/it]\u001b[A"
     ]
    },
    {
     "name": "stdout",
     "output_type": "stream",
     "text": [
      "First net took 0.59 many second to check 342 many pictures.\n",
      "currently 1 many boxes\n",
      "After belief, still 1 many boxes. It took 0.0 many seconds.\n",
      "There are 50 centers in the centers.\n",
      "1 of 1 boxes survived the Ensemble-Check! It took 1.01 many seconds.\n"
     ]
    },
    {
     "name": "stderr",
     "output_type": "stream",
     "text": [
      "\n",
      " 30%|███       | 382/1261 [11:02<33:07,  2.26s/it]\u001b[A"
     ]
    },
    {
     "name": "stdout",
     "output_type": "stream",
     "text": [
      "First net took 0.58 many second to check 342 many pictures.\n",
      "currently 1 many boxes\n",
      "After belief, still 1 many boxes. It took 0.0 many seconds.\n",
      "There are 51 centers in the centers.\n",
      "1 of 1 boxes survived the Ensemble-Check! It took 1.0 many seconds.\n"
     ]
    },
    {
     "name": "stderr",
     "output_type": "stream",
     "text": [
      "\n",
      " 30%|███       | 383/1261 [11:04<33:03,  2.26s/it]\u001b[A"
     ]
    },
    {
     "name": "stdout",
     "output_type": "stream",
     "text": [
      "First net took 0.6 many second to check 342 many pictures.\n",
      "currently 1 many boxes\n",
      "After belief, still 1 many boxes. It took 0.0 many seconds.\n",
      "There are 52 centers in the centers.\n",
      "1 of 1 boxes survived the Ensemble-Check! It took 1.0 many seconds.\n"
     ]
    },
    {
     "name": "stderr",
     "output_type": "stream",
     "text": [
      "\n",
      " 30%|███       | 384/1261 [11:07<33:03,  2.26s/it]\u001b[A"
     ]
    },
    {
     "name": "stdout",
     "output_type": "stream",
     "text": [
      "First net took 0.59 many second to check 342 many pictures.\n",
      "currently 1 many boxes\n",
      "After belief, still 1 many boxes. It took 0.0 many seconds.\n",
      "There are 44 centers in the centers.\n",
      "1 of 1 boxes survived the Ensemble-Check! It took 1.01 many seconds.\n"
     ]
    },
    {
     "name": "stderr",
     "output_type": "stream",
     "text": [
      "\n",
      " 31%|███       | 385/1261 [11:09<32:59,  2.26s/it]\u001b[A"
     ]
    },
    {
     "name": "stdout",
     "output_type": "stream",
     "text": [
      "First net took 0.59 many second to check 342 many pictures.\n",
      "currently 1 many boxes\n",
      "After belief, still 1 many boxes. It took 0.0 many seconds.\n",
      "There are 45 centers in the centers.\n",
      "1 of 1 boxes survived the Ensemble-Check! It took 1.0 many seconds.\n"
     ]
    },
    {
     "name": "stderr",
     "output_type": "stream",
     "text": [
      "\n",
      " 31%|███       | 386/1261 [11:11<32:57,  2.26s/it]\u001b[A"
     ]
    },
    {
     "name": "stdout",
     "output_type": "stream",
     "text": [
      "First net took 0.58 many second to check 342 many pictures.\n",
      "currently 1 many boxes\n",
      "After belief, still 1 many boxes. It took 0.0 many seconds.\n",
      "There are 46 centers in the centers.\n",
      "1 of 1 boxes survived the Ensemble-Check! It took 1.0 many seconds.\n"
     ]
    },
    {
     "name": "stderr",
     "output_type": "stream",
     "text": [
      "\n",
      " 31%|███       | 387/1261 [11:14<32:50,  2.25s/it]\u001b[A"
     ]
    },
    {
     "name": "stdout",
     "output_type": "stream",
     "text": [
      "First net took 0.59 many second to check 342 many pictures.\n",
      "currently 1 many boxes\n",
      "After belief, still 1 many boxes. It took 0.0 many seconds.\n",
      "There are 47 centers in the centers.\n",
      "1 of 1 boxes survived the Ensemble-Check! It took 1.01 many seconds.\n"
     ]
    },
    {
     "name": "stderr",
     "output_type": "stream",
     "text": [
      "\n",
      " 31%|███       | 388/1261 [11:16<32:49,  2.26s/it]\u001b[A"
     ]
    },
    {
     "name": "stdout",
     "output_type": "stream",
     "text": [
      "First net took 0.59 many second to check 342 many pictures.\n",
      "currently 1 many boxes\n",
      "After belief, still 1 many boxes. It took 0.0 many seconds.\n",
      "There are 48 centers in the centers.\n",
      "1 of 1 boxes survived the Ensemble-Check! It took 0.99 many seconds.\n"
     ]
    },
    {
     "name": "stderr",
     "output_type": "stream",
     "text": [
      "\n",
      " 31%|███       | 389/1261 [11:18<32:43,  2.25s/it]\u001b[A"
     ]
    },
    {
     "name": "stdout",
     "output_type": "stream",
     "text": [
      "First net took 0.59 many second to check 342 many pictures.\n",
      "currently 1 many boxes\n",
      "After belief, still 1 many boxes. It took 0.0 many seconds.\n",
      "There are 49 centers in the centers.\n",
      "1 of 1 boxes survived the Ensemble-Check! It took 0.99 many seconds.\n"
     ]
    },
    {
     "name": "stderr",
     "output_type": "stream",
     "text": [
      "\n",
      " 31%|███       | 390/1261 [11:20<32:38,  2.25s/it]\u001b[A"
     ]
    },
    {
     "name": "stdout",
     "output_type": "stream",
     "text": [
      "First net took 0.59 many second to check 342 many pictures.\n",
      "currently 1 many boxes\n",
      "After belief, still 1 many boxes. It took 0.0 many seconds.\n",
      "There are 44 centers in the centers.\n",
      "1 of 1 boxes survived the Ensemble-Check! It took 0.99 many seconds.\n"
     ]
    },
    {
     "name": "stderr",
     "output_type": "stream",
     "text": [
      "\n",
      " 31%|███       | 391/1261 [11:23<32:36,  2.25s/it]\u001b[A"
     ]
    },
    {
     "name": "stdout",
     "output_type": "stream",
     "text": [
      "First net took 0.58 many second to check 342 many pictures.\n",
      "currently 1 many boxes\n",
      "After belief, still 1 many boxes. It took 0.0 many seconds.\n",
      "There are 45 centers in the centers.\n",
      "1 of 1 boxes survived the Ensemble-Check! It took 0.98 many seconds.\n"
     ]
    },
    {
     "name": "stderr",
     "output_type": "stream",
     "text": [
      "\n",
      " 31%|███       | 392/1261 [11:25<32:29,  2.24s/it]\u001b[A"
     ]
    },
    {
     "name": "stdout",
     "output_type": "stream",
     "text": [
      "First net took 0.58 many second to check 342 many pictures.\n",
      "currently 1 many boxes\n",
      "After belief, still 1 many boxes. It took 0.0 many seconds.\n",
      "There are 46 centers in the centers.\n",
      "1 of 1 boxes survived the Ensemble-Check! It took 0.99 many seconds.\n"
     ]
    },
    {
     "name": "stderr",
     "output_type": "stream",
     "text": [
      "\n",
      " 31%|███       | 393/1261 [11:27<32:25,  2.24s/it]\u001b[A"
     ]
    },
    {
     "name": "stdout",
     "output_type": "stream",
     "text": [
      "First net took 0.59 many second to check 342 many pictures.\n",
      "currently 1 many boxes\n",
      "After belief, still 1 many boxes. It took 0.0 many seconds.\n",
      "There are 47 centers in the centers.\n",
      "1 of 1 boxes survived the Ensemble-Check! It took 1.0 many seconds.\n"
     ]
    },
    {
     "name": "stderr",
     "output_type": "stream",
     "text": [
      "\n",
      " 31%|███       | 394/1261 [11:29<32:28,  2.25s/it]\u001b[A"
     ]
    },
    {
     "name": "stdout",
     "output_type": "stream",
     "text": [
      "First net took 0.62 many second to check 342 many pictures.\n",
      "currently 1 many boxes\n",
      "After belief, still 1 many boxes. It took 0.0 many seconds.\n",
      "There are 48 centers in the centers.\n",
      "1 of 1 boxes survived the Ensemble-Check! It took 0.99 many seconds.\n"
     ]
    },
    {
     "name": "stderr",
     "output_type": "stream",
     "text": [
      "\n",
      " 31%|███▏      | 395/1261 [11:32<32:32,  2.25s/it]\u001b[A"
     ]
    },
    {
     "name": "stdout",
     "output_type": "stream",
     "text": [
      "First net took 0.58 many second to check 342 many pictures.\n",
      "currently 1 many boxes\n",
      "After belief, still 1 many boxes. It took 0.0 many seconds.\n",
      "There are 49 centers in the centers.\n",
      "1 of 1 boxes survived the Ensemble-Check! It took 0.99 many seconds.\n"
     ]
    },
    {
     "name": "stderr",
     "output_type": "stream",
     "text": [
      "\n",
      " 31%|███▏      | 396/1261 [11:34<32:25,  2.25s/it]\u001b[A"
     ]
    },
    {
     "name": "stdout",
     "output_type": "stream",
     "text": [
      "First net took 0.58 many second to check 342 many pictures.\n",
      "currently 1 many boxes\n",
      "After belief, still 1 many boxes. It took 0.0 many seconds.\n",
      "There are 50 centers in the centers.\n",
      "1 of 1 boxes survived the Ensemble-Check! It took 1.0 many seconds.\n"
     ]
    },
    {
     "name": "stderr",
     "output_type": "stream",
     "text": [
      "\n",
      " 31%|███▏      | 397/1261 [11:36<32:22,  2.25s/it]\u001b[A"
     ]
    },
    {
     "name": "stdout",
     "output_type": "stream",
     "text": [
      "First net took 0.59 many second to check 342 many pictures.\n",
      "currently 1 many boxes\n",
      "After belief, still 1 many boxes. It took 0.0 many seconds.\n",
      "There are 51 centers in the centers.\n",
      "1 of 1 boxes survived the Ensemble-Check! It took 0.99 many seconds.\n"
     ]
    },
    {
     "name": "stderr",
     "output_type": "stream",
     "text": [
      "\n",
      " 32%|███▏      | 398/1261 [11:38<32:20,  2.25s/it]\u001b[A"
     ]
    },
    {
     "name": "stdout",
     "output_type": "stream",
     "text": [
      "First net took 0.58 many second to check 342 many pictures.\n",
      "currently 1 many boxes\n",
      "After belief, still 1 many boxes. It took 0.0 many seconds.\n",
      "There are 52 centers in the centers.\n",
      "1 of 1 boxes survived the Ensemble-Check! It took 0.99 many seconds.\n"
     ]
    },
    {
     "name": "stderr",
     "output_type": "stream",
     "text": [
      "\n",
      " 32%|███▏      | 399/1261 [11:40<32:15,  2.24s/it]\u001b[A"
     ]
    },
    {
     "name": "stdout",
     "output_type": "stream",
     "text": [
      "First net took 0.59 many second to check 342 many pictures.\n",
      "currently 1 many boxes\n",
      "After belief, still 1 many boxes. It took 0.0 many seconds.\n",
      "There are 53 centers in the centers.\n",
      "1 of 1 boxes survived the Ensemble-Check! It took 1.01 many seconds.\n"
     ]
    },
    {
     "name": "stderr",
     "output_type": "stream",
     "text": [
      "\n",
      " 32%|███▏      | 400/1261 [11:43<32:17,  2.25s/it]\u001b[A"
     ]
    },
    {
     "name": "stdout",
     "output_type": "stream",
     "text": [
      "First net took 0.59 many second to check 342 many pictures.\n",
      "currently 1 many boxes\n",
      "After belief, still 1 many boxes. It took 0.0 many seconds.\n",
      "There are 54 centers in the centers.\n",
      "1 of 1 boxes survived the Ensemble-Check! It took 0.99 many seconds.\n"
     ]
    },
    {
     "name": "stderr",
     "output_type": "stream",
     "text": [
      "\n",
      " 32%|███▏      | 401/1261 [11:45<32:13,  2.25s/it]\u001b[A"
     ]
    },
    {
     "name": "stdout",
     "output_type": "stream",
     "text": [
      "First net took 0.62 many second to check 342 many pictures.\n",
      "currently 1 many boxes\n",
      "After belief, still 1 many boxes. It took 0.0 many seconds.\n",
      "There are 55 centers in the centers.\n",
      "1 of 1 boxes survived the Ensemble-Check! It took 1.0 many seconds.\n"
     ]
    },
    {
     "name": "stderr",
     "output_type": "stream",
     "text": [
      "\n",
      " 32%|███▏      | 402/1261 [11:47<32:19,  2.26s/it]\u001b[A"
     ]
    },
    {
     "name": "stdout",
     "output_type": "stream",
     "text": [
      "First net took 0.61 many second to check 342 many pictures.\n",
      "currently 1 many boxes\n",
      "After belief, still 1 many boxes. It took 0.0 many seconds.\n",
      "There are 56 centers in the centers.\n",
      "1 of 1 boxes survived the Ensemble-Check! It took 1.0 many seconds.\n"
     ]
    },
    {
     "name": "stderr",
     "output_type": "stream",
     "text": [
      "\n",
      " 32%|███▏      | 403/1261 [11:50<32:23,  2.27s/it]\u001b[A"
     ]
    },
    {
     "name": "stdout",
     "output_type": "stream",
     "text": [
      "First net took 0.58 many second to check 342 many pictures.\n",
      "currently 1 many boxes\n",
      "After belief, still 1 many boxes. It took 0.0 many seconds.\n",
      "There are 57 centers in the centers.\n",
      "1 of 1 boxes survived the Ensemble-Check! It took 1.0 many seconds.\n"
     ]
    },
    {
     "name": "stderr",
     "output_type": "stream",
     "text": [
      "\n",
      " 32%|███▏      | 404/1261 [11:52<32:17,  2.26s/it]\u001b[A"
     ]
    },
    {
     "name": "stdout",
     "output_type": "stream",
     "text": [
      "First net took 0.58 many second to check 342 many pictures.\n",
      "currently 1 many boxes\n",
      "After belief, still 1 many boxes. It took 0.0 many seconds.\n",
      "There are 50 centers in the centers.\n",
      "1 of 1 boxes survived the Ensemble-Check! It took 1.0 many seconds.\n"
     ]
    },
    {
     "name": "stderr",
     "output_type": "stream",
     "text": [
      "\n",
      " 32%|███▏      | 405/1261 [11:54<32:08,  2.25s/it]\u001b[A"
     ]
    },
    {
     "name": "stdout",
     "output_type": "stream",
     "text": [
      "First net took 0.59 many second to check 342 many pictures.\n",
      "currently 1 many boxes\n",
      "After belief, still 1 many boxes. It took 0.0 many seconds.\n",
      "There are 51 centers in the centers.\n",
      "1 of 1 boxes survived the Ensemble-Check! It took 1.0 many seconds.\n"
     ]
    },
    {
     "name": "stderr",
     "output_type": "stream",
     "text": [
      "\n",
      " 32%|███▏      | 406/1261 [11:56<32:07,  2.25s/it]\u001b[A"
     ]
    },
    {
     "name": "stdout",
     "output_type": "stream",
     "text": [
      "First net took 0.62 many second to check 342 many pictures.\n",
      "currently 1 many boxes\n",
      "After belief, still 1 many boxes. It took 0.0 many seconds.\n",
      "There are 48 centers in the centers.\n",
      "1 of 1 boxes survived the Ensemble-Check! It took 1.01 many seconds.\n"
     ]
    },
    {
     "name": "stderr",
     "output_type": "stream",
     "text": [
      "\n",
      " 32%|███▏      | 407/1261 [11:59<32:15,  2.27s/it]\u001b[A"
     ]
    },
    {
     "name": "stdout",
     "output_type": "stream",
     "text": [
      "First net took 0.58 many second to check 342 many pictures.\n",
      "currently 1 many boxes\n",
      "After belief, still 1 many boxes. It took 0.0 many seconds.\n",
      "There are 49 centers in the centers.\n",
      "1 of 1 boxes survived the Ensemble-Check! It took 0.99 many seconds.\n"
     ]
    },
    {
     "name": "stderr",
     "output_type": "stream",
     "text": [
      "\n",
      " 32%|███▏      | 408/1261 [12:01<32:07,  2.26s/it]\u001b[A"
     ]
    },
    {
     "name": "stdout",
     "output_type": "stream",
     "text": [
      "First net took 0.61 many second to check 342 many pictures.\n",
      "currently 1 many boxes\n",
      "After belief, still 1 many boxes. It took 0.0 many seconds.\n",
      "There are 50 centers in the centers.\n",
      "1 of 1 boxes survived the Ensemble-Check! It took 0.99 many seconds.\n"
     ]
    },
    {
     "name": "stderr",
     "output_type": "stream",
     "text": [
      "\n",
      " 32%|███▏      | 409/1261 [12:03<32:07,  2.26s/it]\u001b[A"
     ]
    },
    {
     "name": "stdout",
     "output_type": "stream",
     "text": [
      "First net took 0.59 many second to check 342 many pictures.\n",
      "currently 1 many boxes\n",
      "After belief, still 1 many boxes. It took 0.0 many seconds.\n",
      "There are 51 centers in the centers.\n",
      "1 of 1 boxes survived the Ensemble-Check! It took 0.99 many seconds.\n"
     ]
    },
    {
     "name": "stderr",
     "output_type": "stream",
     "text": [
      "\n",
      " 33%|███▎      | 410/1261 [12:05<32:01,  2.26s/it]\u001b[A"
     ]
    },
    {
     "name": "stdout",
     "output_type": "stream",
     "text": [
      "First net took 0.58 many second to check 342 many pictures.\n",
      "currently 1 many boxes\n",
      "After belief, still 1 many boxes. It took 0.0 many seconds.\n",
      "There are 48 centers in the centers.\n",
      "1 of 1 boxes survived the Ensemble-Check! It took 0.99 many seconds.\n"
     ]
    },
    {
     "name": "stderr",
     "output_type": "stream",
     "text": [
      "\n",
      " 33%|███▎      | 411/1261 [12:08<31:54,  2.25s/it]\u001b[A"
     ]
    },
    {
     "name": "stdout",
     "output_type": "stream",
     "text": [
      "First net took 0.58 many second to check 342 many pictures.\n",
      "currently 1 many boxes\n",
      "After belief, still 1 many boxes. It took 0.0 many seconds.\n",
      "There are 49 centers in the centers.\n",
      "1 of 1 boxes survived the Ensemble-Check! It took 0.99 many seconds.\n"
     ]
    },
    {
     "name": "stderr",
     "output_type": "stream",
     "text": [
      "\n",
      " 33%|███▎      | 412/1261 [12:10<31:50,  2.25s/it]\u001b[A"
     ]
    },
    {
     "name": "stdout",
     "output_type": "stream",
     "text": [
      "First net took 0.59 many second to check 342 many pictures.\n",
      "currently 1 many boxes\n",
      "After belief, still 1 many boxes. It took 0.0 many seconds.\n",
      "There are 50 centers in the centers.\n",
      "1 of 1 boxes survived the Ensemble-Check! It took 1.0 many seconds.\n"
     ]
    },
    {
     "name": "stderr",
     "output_type": "stream",
     "text": [
      "\n",
      " 33%|███▎      | 413/1261 [12:12<31:49,  2.25s/it]\u001b[A"
     ]
    },
    {
     "name": "stdout",
     "output_type": "stream",
     "text": [
      "First net took 0.59 many second to check 342 many pictures.\n",
      "currently 1 many boxes\n",
      "After belief, still 1 many boxes. It took 0.0 many seconds.\n",
      "There are 51 centers in the centers.\n",
      "1 of 1 boxes survived the Ensemble-Check! It took 1.0 many seconds.\n"
     ]
    },
    {
     "name": "stderr",
     "output_type": "stream",
     "text": [
      "\n",
      " 33%|███▎      | 414/1261 [12:14<31:46,  2.25s/it]\u001b[A"
     ]
    },
    {
     "name": "stdout",
     "output_type": "stream",
     "text": [
      "First net took 0.58 many second to check 342 many pictures.\n",
      "currently 1 many boxes\n",
      "After belief, still 1 many boxes. It took 0.0 many seconds.\n",
      "There are 52 centers in the centers.\n",
      "1 of 1 boxes survived the Ensemble-Check! It took 0.99 many seconds.\n"
     ]
    },
    {
     "name": "stderr",
     "output_type": "stream",
     "text": [
      "\n",
      " 33%|███▎      | 415/1261 [12:17<31:39,  2.25s/it]\u001b[A"
     ]
    },
    {
     "name": "stdout",
     "output_type": "stream",
     "text": [
      "First net took 0.61 many second to check 342 many pictures.\n",
      "currently 1 many boxes\n",
      "After belief, still 1 many boxes. It took 0.0 many seconds.\n",
      "There are 53 centers in the centers.\n",
      "1 of 1 boxes survived the Ensemble-Check! It took 1.0 many seconds.\n"
     ]
    },
    {
     "name": "stderr",
     "output_type": "stream",
     "text": [
      "\n",
      " 33%|███▎      | 416/1261 [12:19<32:16,  2.29s/it]\u001b[A"
     ]
    },
    {
     "name": "stdout",
     "output_type": "stream",
     "text": [
      "First net took 0.58 many second to check 342 many pictures.\n",
      "currently 1 many boxes\n",
      "After belief, still 1 many boxes. It took 0.0 many seconds.\n",
      "There are 54 centers in the centers.\n",
      "1 of 1 boxes survived the Ensemble-Check! It took 1.0 many seconds.\n"
     ]
    },
    {
     "name": "stderr",
     "output_type": "stream",
     "text": [
      "\n",
      " 33%|███▎      | 417/1261 [12:21<32:02,  2.28s/it]\u001b[A"
     ]
    },
    {
     "name": "stdout",
     "output_type": "stream",
     "text": [
      "First net took 0.6 many second to check 342 many pictures.\n",
      "currently 1 many boxes\n",
      "After belief, still 1 many boxes. It took 0.0 many seconds.\n",
      "There are 55 centers in the centers.\n",
      "1 of 1 boxes survived the Ensemble-Check! It took 1.01 many seconds.\n"
     ]
    },
    {
     "name": "stderr",
     "output_type": "stream",
     "text": [
      "\n",
      " 33%|███▎      | 418/1261 [12:23<31:58,  2.28s/it]\u001b[A"
     ]
    },
    {
     "name": "stdout",
     "output_type": "stream",
     "text": [
      "First net took 0.59 many second to check 342 many pictures.\n",
      "currently 1 many boxes\n",
      "After belief, still 1 many boxes. It took 0.0 many seconds.\n",
      "There are 56 centers in the centers.\n",
      "1 of 1 boxes survived the Ensemble-Check! It took 1.02 many seconds.\n"
     ]
    },
    {
     "name": "stderr",
     "output_type": "stream",
     "text": [
      "\n",
      " 33%|███▎      | 419/1261 [12:26<31:54,  2.27s/it]\u001b[A"
     ]
    },
    {
     "name": "stdout",
     "output_type": "stream",
     "text": [
      "First net took 0.58 many second to check 342 many pictures.\n",
      "currently 1 many boxes\n",
      "After belief, still 1 many boxes. It took 0.0 many seconds.\n",
      "There are 57 centers in the centers.\n",
      "1 of 1 boxes survived the Ensemble-Check! It took 0.99 many seconds.\n"
     ]
    },
    {
     "name": "stderr",
     "output_type": "stream",
     "text": [
      "\n",
      " 33%|███▎      | 420/1261 [12:28<31:40,  2.26s/it]\u001b[A"
     ]
    },
    {
     "name": "stdout",
     "output_type": "stream",
     "text": [
      "First net took 0.59 many second to check 342 many pictures.\n",
      "currently 1 many boxes\n",
      "After belief, still 1 many boxes. It took 0.0 many seconds.\n",
      "There are 58 centers in the centers.\n",
      "1 of 1 boxes survived the Ensemble-Check! It took 0.99 many seconds.\n"
     ]
    },
    {
     "name": "stderr",
     "output_type": "stream",
     "text": [
      "\n",
      " 33%|███▎      | 421/1261 [12:30<31:33,  2.25s/it]\u001b[A"
     ]
    },
    {
     "name": "stdout",
     "output_type": "stream",
     "text": [
      "First net took 0.63 many second to check 342 many pictures.\n",
      "currently 1 many boxes\n",
      "After belief, still 1 many boxes. It took 0.0 many seconds.\n",
      "There are 59 centers in the centers.\n",
      "1 of 1 boxes survived the Ensemble-Check! It took 1.0 many seconds.\n"
     ]
    },
    {
     "name": "stderr",
     "output_type": "stream",
     "text": [
      "\n",
      " 33%|███▎      | 422/1261 [12:33<31:44,  2.27s/it]\u001b[A"
     ]
    },
    {
     "name": "stdout",
     "output_type": "stream",
     "text": [
      "First net took 0.58 many second to check 342 many pictures.\n",
      "currently 1 many boxes\n",
      "After belief, still 1 many boxes. It took 0.0 many seconds.\n",
      "There are 45 centers in the centers.\n",
      "1 of 1 boxes survived the Ensemble-Check! It took 0.99 many seconds.\n"
     ]
    },
    {
     "name": "stderr",
     "output_type": "stream",
     "text": [
      "\n",
      " 34%|███▎      | 423/1261 [12:35<31:33,  2.26s/it]\u001b[A"
     ]
    },
    {
     "name": "stdout",
     "output_type": "stream",
     "text": [
      "First net took 0.61 many second to check 342 many pictures.\n",
      "currently 1 many boxes\n",
      "After belief, still 1 many boxes. It took 0.0 many seconds.\n",
      "There are 46 centers in the centers.\n",
      "1 of 1 boxes survived the Ensemble-Check! It took 0.98 many seconds.\n"
     ]
    },
    {
     "name": "stderr",
     "output_type": "stream",
     "text": [
      "\n",
      " 34%|███▎      | 424/1261 [12:37<31:31,  2.26s/it]\u001b[A"
     ]
    },
    {
     "name": "stdout",
     "output_type": "stream",
     "text": [
      "First net took 0.58 many second to check 342 many pictures.\n",
      "currently 1 many boxes\n",
      "After belief, still 1 many boxes. It took 0.0 many seconds.\n",
      "There are 47 centers in the centers.\n",
      "1 of 1 boxes survived the Ensemble-Check! It took 0.99 many seconds.\n"
     ]
    },
    {
     "name": "stderr",
     "output_type": "stream",
     "text": [
      "\n",
      " 34%|███▎      | 425/1261 [12:39<31:27,  2.26s/it]\u001b[A"
     ]
    },
    {
     "name": "stdout",
     "output_type": "stream",
     "text": [
      "First net took 0.63 many second to check 342 many pictures.\n",
      "currently 1 many boxes\n",
      "After belief, still 1 many boxes. It took 0.0 many seconds.\n",
      "There are 48 centers in the centers.\n",
      "1 of 1 boxes survived the Ensemble-Check! It took 0.98 many seconds.\n"
     ]
    },
    {
     "name": "stderr",
     "output_type": "stream",
     "text": [
      "\n",
      " 34%|███▍      | 426/1261 [12:42<31:30,  2.26s/it]\u001b[A"
     ]
    },
    {
     "name": "stdout",
     "output_type": "stream",
     "text": [
      "First net took 0.58 many second to check 342 many pictures.\n",
      "currently 1 many boxes\n",
      "After belief, still 1 many boxes. It took 0.0 many seconds.\n",
      "There are 49 centers in the centers.\n",
      "1 of 1 boxes survived the Ensemble-Check! It took 0.99 many seconds.\n"
     ]
    },
    {
     "name": "stderr",
     "output_type": "stream",
     "text": [
      "\n",
      " 34%|███▍      | 427/1261 [12:44<31:20,  2.26s/it]\u001b[A"
     ]
    },
    {
     "name": "stdout",
     "output_type": "stream",
     "text": [
      "First net took 0.59 many second to check 342 many pictures.\n",
      "currently 1 many boxes\n",
      "After belief, still 1 many boxes. It took 0.0 many seconds.\n",
      "There are 50 centers in the centers.\n",
      "1 of 1 boxes survived the Ensemble-Check! It took 1.0 many seconds.\n"
     ]
    },
    {
     "name": "stderr",
     "output_type": "stream",
     "text": [
      "\n",
      " 34%|███▍      | 428/1261 [12:46<31:21,  2.26s/it]\u001b[A"
     ]
    },
    {
     "name": "stdout",
     "output_type": "stream",
     "text": [
      "First net took 0.58 many second to check 342 many pictures.\n",
      "currently 1 many boxes\n",
      "After belief, still 1 many boxes. It took 0.0 many seconds.\n",
      "There are 51 centers in the centers.\n",
      "1 of 1 boxes survived the Ensemble-Check! It took 0.99 many seconds.\n"
     ]
    },
    {
     "name": "stderr",
     "output_type": "stream",
     "text": [
      "\n",
      " 34%|███▍      | 429/1261 [12:48<31:14,  2.25s/it]\u001b[A"
     ]
    },
    {
     "name": "stdout",
     "output_type": "stream",
     "text": [
      "First net took 0.59 many second to check 342 many pictures.\n",
      "currently 1 many boxes\n",
      "After belief, still 1 many boxes. It took 0.0 many seconds.\n",
      "There are 52 centers in the centers.\n",
      "1 of 1 boxes survived the Ensemble-Check! It took 0.99 many seconds.\n"
     ]
    },
    {
     "name": "stderr",
     "output_type": "stream",
     "text": [
      "\n",
      " 34%|███▍      | 430/1261 [12:51<31:09,  2.25s/it]\u001b[A"
     ]
    },
    {
     "name": "stdout",
     "output_type": "stream",
     "text": [
      "First net took 0.58 many second to check 342 many pictures.\n",
      "currently 1 many boxes\n",
      "After belief, still 1 many boxes. It took 0.0 many seconds.\n",
      "There are 53 centers in the centers.\n",
      "1 of 1 boxes survived the Ensemble-Check! It took 1.03 many seconds.\n"
     ]
    },
    {
     "name": "stderr",
     "output_type": "stream",
     "text": [
      "\n",
      " 34%|███▍      | 431/1261 [12:53<31:13,  2.26s/it]\u001b[A"
     ]
    },
    {
     "name": "stdout",
     "output_type": "stream",
     "text": [
      "First net took 0.59 many second to check 342 many pictures.\n",
      "currently 1 many boxes\n",
      "After belief, still 1 many boxes. It took 0.0 many seconds.\n",
      "There are 54 centers in the centers.\n",
      "1 of 1 boxes survived the Ensemble-Check! It took 0.98 many seconds.\n"
     ]
    },
    {
     "name": "stderr",
     "output_type": "stream",
     "text": [
      "\n",
      " 34%|███▍      | 432/1261 [12:55<31:05,  2.25s/it]\u001b[A"
     ]
    },
    {
     "name": "stdout",
     "output_type": "stream",
     "text": [
      "First net took 0.58 many second to check 342 many pictures.\n",
      "currently 1 many boxes\n",
      "After belief, still 1 many boxes. It took 0.0 many seconds.\n",
      "There are 55 centers in the centers.\n",
      "1 of 1 boxes survived the Ensemble-Check! It took 0.99 many seconds.\n"
     ]
    },
    {
     "name": "stderr",
     "output_type": "stream",
     "text": [
      "\n",
      " 34%|███▍      | 433/1261 [12:57<31:00,  2.25s/it]\u001b[A"
     ]
    },
    {
     "name": "stdout",
     "output_type": "stream",
     "text": [
      "First net took 0.59 many second to check 342 many pictures.\n",
      "currently 1 many boxes\n",
      "After belief, still 1 many boxes. It took 0.0 many seconds.\n",
      "There are 56 centers in the centers.\n",
      "1 of 1 boxes survived the Ensemble-Check! It took 1.01 many seconds.\n"
     ]
    },
    {
     "name": "stderr",
     "output_type": "stream",
     "text": [
      "\n",
      " 34%|███▍      | 434/1261 [13:00<31:01,  2.25s/it]\u001b[A"
     ]
    },
    {
     "name": "stdout",
     "output_type": "stream",
     "text": [
      "First net took 0.58 many second to check 342 many pictures.\n",
      "currently 1 many boxes\n",
      "After belief, still 1 many boxes. It took 0.0 many seconds.\n",
      "There are 57 centers in the centers.\n",
      "1 of 1 boxes survived the Ensemble-Check! It took 1.0 many seconds.\n"
     ]
    },
    {
     "name": "stderr",
     "output_type": "stream",
     "text": [
      "\n",
      " 34%|███▍      | 435/1261 [13:02<30:56,  2.25s/it]\u001b[A"
     ]
    },
    {
     "name": "stdout",
     "output_type": "stream",
     "text": [
      "First net took 0.59 many second to check 342 many pictures.\n",
      "currently 1 many boxes\n",
      "After belief, still 1 many boxes. It took 0.0 many seconds.\n",
      "There are 58 centers in the centers.\n",
      "1 of 1 boxes survived the Ensemble-Check! It took 0.99 many seconds.\n"
     ]
    },
    {
     "name": "stderr",
     "output_type": "stream",
     "text": [
      "\n",
      " 35%|███▍      | 436/1261 [13:04<30:56,  2.25s/it]\u001b[A"
     ]
    },
    {
     "name": "stdout",
     "output_type": "stream",
     "text": [
      "First net took 0.59 many second to check 342 many pictures.\n",
      "currently 1 many boxes\n",
      "After belief, still 1 many boxes. It took 0.0 many seconds.\n",
      "There are 59 centers in the centers.\n",
      "1 of 1 boxes survived the Ensemble-Check! It took 0.99 many seconds.\n"
     ]
    },
    {
     "name": "stderr",
     "output_type": "stream",
     "text": [
      "\n",
      " 35%|███▍      | 437/1261 [13:06<30:54,  2.25s/it]\u001b[A"
     ]
    },
    {
     "name": "stdout",
     "output_type": "stream",
     "text": [
      "First net took 0.59 many second to check 342 many pictures.\n",
      "currently 1 many boxes\n",
      "After belief, still 1 many boxes. It took 0.0 many seconds.\n",
      "There are 60 centers in the centers.\n",
      "1 of 1 boxes survived the Ensemble-Check! It took 0.99 many seconds.\n"
     ]
    },
    {
     "name": "stderr",
     "output_type": "stream",
     "text": [
      "\n",
      " 35%|███▍      | 438/1261 [13:09<30:55,  2.25s/it]\u001b[A"
     ]
    },
    {
     "name": "stdout",
     "output_type": "stream",
     "text": [
      "First net took 0.58 many second to check 342 many pictures.\n",
      "currently 1 many boxes\n",
      "After belief, still 1 many boxes. It took 0.0 many seconds.\n",
      "There are 61 centers in the centers.\n",
      "1 of 1 boxes survived the Ensemble-Check! It took 1.01 many seconds.\n"
     ]
    },
    {
     "name": "stderr",
     "output_type": "stream",
     "text": [
      "\n",
      " 35%|███▍      | 439/1261 [13:11<30:57,  2.26s/it]\u001b[A"
     ]
    },
    {
     "name": "stdout",
     "output_type": "stream",
     "text": [
      "First net took 0.59 many second to check 342 many pictures.\n",
      "currently 1 many boxes\n",
      "After belief, still 1 many boxes. It took 0.0 many seconds.\n",
      "There are 62 centers in the centers.\n",
      "1 of 1 boxes survived the Ensemble-Check! It took 0.99 many seconds.\n"
     ]
    },
    {
     "name": "stderr",
     "output_type": "stream",
     "text": [
      "\n",
      " 35%|███▍      | 440/1261 [13:13<30:52,  2.26s/it]\u001b[A"
     ]
    },
    {
     "name": "stdout",
     "output_type": "stream",
     "text": [
      "First net took 0.58 many second to check 342 many pictures.\n",
      "currently 1 many boxes\n",
      "After belief, still 1 many boxes. It took 0.0 many seconds.\n",
      "There are 39 centers in the centers.\n",
      "1 of 1 boxes survived the Ensemble-Check! It took 0.99 many seconds.\n"
     ]
    },
    {
     "name": "stderr",
     "output_type": "stream",
     "text": [
      "\n",
      " 35%|███▍      | 441/1261 [13:15<30:45,  2.25s/it]\u001b[A"
     ]
    },
    {
     "name": "stdout",
     "output_type": "stream",
     "text": [
      "First net took 0.59 many second to check 342 many pictures.\n",
      "currently 1 many boxes\n",
      "After belief, still 1 many boxes. It took 0.0 many seconds.\n",
      "There are 40 centers in the centers.\n",
      "1 of 1 boxes survived the Ensemble-Check! It took 1.0 many seconds.\n"
     ]
    },
    {
     "name": "stderr",
     "output_type": "stream",
     "text": [
      "\n",
      " 35%|███▌      | 442/1261 [13:18<30:45,  2.25s/it]\u001b[A"
     ]
    },
    {
     "name": "stdout",
     "output_type": "stream",
     "text": [
      "First net took 0.59 many second to check 342 many pictures.\n",
      "currently 1 many boxes\n",
      "After belief, still 1 many boxes. It took 0.0 many seconds.\n",
      "There are 41 centers in the centers.\n",
      "1 of 1 boxes survived the Ensemble-Check! It took 1.0 many seconds.\n"
     ]
    },
    {
     "name": "stderr",
     "output_type": "stream",
     "text": [
      "\n",
      " 35%|███▌      | 443/1261 [13:20<30:44,  2.25s/it]\u001b[A"
     ]
    },
    {
     "name": "stdout",
     "output_type": "stream",
     "text": [
      "First net took 0.58 many second to check 342 many pictures.\n",
      "currently 1 many boxes\n",
      "After belief, still 1 many boxes. It took 0.0 many seconds.\n",
      "There are 42 centers in the centers.\n",
      "1 of 1 boxes survived the Ensemble-Check! It took 1.0 many seconds.\n"
     ]
    },
    {
     "name": "stderr",
     "output_type": "stream",
     "text": [
      "\n",
      " 35%|███▌      | 444/1261 [13:22<30:39,  2.25s/it]\u001b[A"
     ]
    },
    {
     "name": "stdout",
     "output_type": "stream",
     "text": [
      "First net took 0.58 many second to check 342 many pictures.\n",
      "currently 1 many boxes\n",
      "After belief, still 1 many boxes. It took 0.0 many seconds.\n",
      "There are 43 centers in the centers.\n",
      "1 of 1 boxes survived the Ensemble-Check! It took 1.0 many seconds.\n"
     ]
    },
    {
     "name": "stderr",
     "output_type": "stream",
     "text": [
      "\n",
      " 35%|███▌      | 445/1261 [13:24<30:35,  2.25s/it]\u001b[A"
     ]
    },
    {
     "name": "stdout",
     "output_type": "stream",
     "text": [
      "First net took 0.59 many second to check 342 many pictures.\n",
      "currently 1 many boxes\n",
      "After belief, still 1 many boxes. It took 0.0 many seconds.\n",
      "There are 44 centers in the centers.\n",
      "1 of 1 boxes survived the Ensemble-Check! It took 0.99 many seconds.\n"
     ]
    },
    {
     "name": "stderr",
     "output_type": "stream",
     "text": [
      "\n",
      " 35%|███▌      | 446/1261 [13:27<30:35,  2.25s/it]\u001b[A"
     ]
    },
    {
     "name": "stdout",
     "output_type": "stream",
     "text": [
      "First net took 0.58 many second to check 342 many pictures.\n",
      "currently 1 many boxes\n",
      "After belief, still 1 many boxes. It took 0.0 many seconds.\n",
      "There are 45 centers in the centers.\n",
      "1 of 1 boxes survived the Ensemble-Check! It took 1.0 many seconds.\n"
     ]
    },
    {
     "name": "stderr",
     "output_type": "stream",
     "text": [
      "\n",
      " 35%|███▌      | 447/1261 [13:29<30:33,  2.25s/it]\u001b[A"
     ]
    },
    {
     "name": "stdout",
     "output_type": "stream",
     "text": [
      "First net took 0.58 many second to check 342 many pictures.\n",
      "currently 1 many boxes\n",
      "After belief, still 1 many boxes. It took 0.0 many seconds.\n",
      "There are 45 centers in the centers.\n",
      "1 of 1 boxes survived the Ensemble-Check! It took 0.98 many seconds.\n"
     ]
    },
    {
     "name": "stderr",
     "output_type": "stream",
     "text": [
      "\n",
      " 36%|███▌      | 448/1261 [13:31<30:27,  2.25s/it]\u001b[A"
     ]
    },
    {
     "name": "stdout",
     "output_type": "stream",
     "text": [
      "First net took 0.59 many second to check 342 many pictures.\n",
      "currently 1 many boxes\n",
      "After belief, still 1 many boxes. It took 0.0 many seconds.\n",
      "There are 46 centers in the centers.\n",
      "1 of 1 boxes survived the Ensemble-Check! It took 0.98 many seconds.\n"
     ]
    },
    {
     "name": "stderr",
     "output_type": "stream",
     "text": [
      "\n",
      " 36%|███▌      | 449/1261 [13:33<30:21,  2.24s/it]\u001b[A"
     ]
    },
    {
     "name": "stdout",
     "output_type": "stream",
     "text": [
      "First net took 0.59 many second to check 342 many pictures.\n",
      "currently 1 many boxes\n",
      "After belief, still 1 many boxes. It took 0.0 many seconds.\n",
      "There are 47 centers in the centers.\n",
      "1 of 1 boxes survived the Ensemble-Check! It took 1.01 many seconds.\n"
     ]
    },
    {
     "name": "stderr",
     "output_type": "stream",
     "text": [
      "\n",
      " 36%|███▌      | 450/1261 [13:36<30:26,  2.25s/it]\u001b[A"
     ]
    },
    {
     "name": "stdout",
     "output_type": "stream",
     "text": [
      "First net took 0.58 many second to check 342 many pictures.\n",
      "currently 1 many boxes\n",
      "After belief, still 1 many boxes. It took 0.0 many seconds.\n",
      "There are 48 centers in the centers.\n",
      "1 of 1 boxes survived the Ensemble-Check! It took 0.98 many seconds.\n"
     ]
    },
    {
     "name": "stderr",
     "output_type": "stream",
     "text": [
      "\n",
      " 36%|███▌      | 451/1261 [13:38<30:19,  2.25s/it]\u001b[A"
     ]
    },
    {
     "name": "stdout",
     "output_type": "stream",
     "text": [
      "First net took 0.59 many second to check 342 many pictures.\n",
      "currently 1 many boxes\n",
      "After belief, still 1 many boxes. It took 0.0 many seconds.\n",
      "There are 49 centers in the centers.\n",
      "1 of 1 boxes survived the Ensemble-Check! It took 0.97 many seconds.\n"
     ]
    },
    {
     "name": "stderr",
     "output_type": "stream",
     "text": [
      "\n",
      " 36%|███▌      | 452/1261 [13:40<30:11,  2.24s/it]\u001b[A"
     ]
    },
    {
     "name": "stdout",
     "output_type": "stream",
     "text": [
      "First net took 0.58 many second to check 342 many pictures.\n",
      "currently 1 many boxes\n",
      "After belief, still 1 many boxes. It took 0.0 many seconds.\n",
      "There are 50 centers in the centers.\n",
      "1 of 1 boxes survived the Ensemble-Check! It took 0.99 many seconds.\n"
     ]
    },
    {
     "name": "stderr",
     "output_type": "stream",
     "text": [
      "\n",
      " 36%|███▌      | 453/1261 [13:42<30:07,  2.24s/it]\u001b[A"
     ]
    },
    {
     "name": "stdout",
     "output_type": "stream",
     "text": [
      "First net took 0.59 many second to check 342 many pictures.\n",
      "currently 1 many boxes\n",
      "After belief, still 1 many boxes. It took 0.0 many seconds.\n",
      "There are 51 centers in the centers.\n",
      "1 of 1 boxes survived the Ensemble-Check! It took 0.99 many seconds.\n"
     ]
    },
    {
     "name": "stderr",
     "output_type": "stream",
     "text": [
      "\n",
      " 36%|███▌      | 454/1261 [13:45<30:08,  2.24s/it]\u001b[A"
     ]
    },
    {
     "name": "stdout",
     "output_type": "stream",
     "text": [
      "First net took 0.58 many second to check 342 many pictures.\n",
      "currently 1 many boxes\n",
      "After belief, still 1 many boxes. It took 0.0 many seconds.\n",
      "There are 52 centers in the centers.\n",
      "1 of 1 boxes survived the Ensemble-Check! It took 0.99 many seconds.\n"
     ]
    },
    {
     "name": "stderr",
     "output_type": "stream",
     "text": [
      "\n",
      " 36%|███▌      | 455/1261 [13:47<30:05,  2.24s/it]\u001b[A"
     ]
    },
    {
     "name": "stdout",
     "output_type": "stream",
     "text": [
      "First net took 0.58 many second to check 342 many pictures.\n",
      "currently 1 many boxes\n",
      "After belief, still 1 many boxes. It took 0.0 many seconds.\n",
      "There are 53 centers in the centers.\n",
      "1 of 1 boxes survived the Ensemble-Check! It took 1.0 many seconds.\n"
     ]
    },
    {
     "name": "stderr",
     "output_type": "stream",
     "text": [
      "\n",
      " 36%|███▌      | 456/1261 [13:49<30:05,  2.24s/it]\u001b[A"
     ]
    },
    {
     "name": "stdout",
     "output_type": "stream",
     "text": [
      "First net took 0.6 many second to check 342 many pictures.\n",
      "currently 1 many boxes\n",
      "After belief, still 1 many boxes. It took 0.0 many seconds.\n",
      "There are 54 centers in the centers.\n",
      "1 of 1 boxes survived the Ensemble-Check! It took 1.0 many seconds.\n"
     ]
    },
    {
     "name": "stderr",
     "output_type": "stream",
     "text": [
      "\n",
      " 36%|███▌      | 457/1261 [13:51<30:06,  2.25s/it]\u001b[A"
     ]
    },
    {
     "name": "stdout",
     "output_type": "stream",
     "text": [
      "First net took 0.59 many second to check 342 many pictures.\n",
      "currently 1 many boxes\n",
      "After belief, still 1 many boxes. It took 0.0 many seconds.\n",
      "There are 55 centers in the centers.\n",
      "1 of 1 boxes survived the Ensemble-Check! It took 1.02 many seconds.\n"
     ]
    },
    {
     "name": "stderr",
     "output_type": "stream",
     "text": [
      "\n",
      " 36%|███▋      | 458/1261 [13:54<30:10,  2.25s/it]\u001b[A"
     ]
    },
    {
     "name": "stdout",
     "output_type": "stream",
     "text": [
      "First net took 0.58 many second to check 342 many pictures.\n",
      "currently 1 many boxes\n",
      "After belief, still 1 many boxes. It took 0.0 many seconds.\n",
      "There are 56 centers in the centers.\n",
      "1 of 1 boxes survived the Ensemble-Check! It took 1.01 many seconds.\n"
     ]
    },
    {
     "name": "stderr",
     "output_type": "stream",
     "text": [
      "\n",
      " 36%|███▋      | 459/1261 [13:56<30:10,  2.26s/it]\u001b[A"
     ]
    },
    {
     "name": "stdout",
     "output_type": "stream",
     "text": [
      "First net took 0.59 many second to check 342 many pictures.\n",
      "currently 1 many boxes\n",
      "After belief, still 1 many boxes. It took 0.0 many seconds.\n",
      "There are 57 centers in the centers.\n",
      "1 of 1 boxes survived the Ensemble-Check! It took 0.99 many seconds.\n"
     ]
    },
    {
     "name": "stderr",
     "output_type": "stream",
     "text": [
      "\n",
      " 36%|███▋      | 460/1261 [13:58<30:06,  2.26s/it]\u001b[A"
     ]
    },
    {
     "name": "stdout",
     "output_type": "stream",
     "text": [
      "First net took 0.58 many second to check 342 many pictures.\n",
      "currently 1 many boxes\n",
      "After belief, still 1 many boxes. It took 0.0 many seconds.\n",
      "There are 58 centers in the centers.\n",
      "1 of 1 boxes survived the Ensemble-Check! It took 0.99 many seconds.\n"
     ]
    },
    {
     "name": "stderr",
     "output_type": "stream",
     "text": [
      "\n",
      " 37%|███▋      | 461/1261 [14:00<29:58,  2.25s/it]\u001b[A"
     ]
    },
    {
     "name": "stdout",
     "output_type": "stream",
     "text": [
      "First net took 0.62 many second to check 342 many pictures.\n",
      "currently 1 many boxes\n",
      "After belief, still 1 many boxes. It took 0.0 many seconds.\n",
      "There are 59 centers in the centers.\n",
      "1 of 1 boxes survived the Ensemble-Check! It took 1.01 many seconds.\n"
     ]
    },
    {
     "name": "stderr",
     "output_type": "stream",
     "text": [
      "\n",
      " 37%|███▋      | 462/1261 [14:03<30:06,  2.26s/it]\u001b[A"
     ]
    },
    {
     "name": "stdout",
     "output_type": "stream",
     "text": [
      "First net took 0.59 many second to check 342 many pictures.\n",
      "currently 1 many boxes\n",
      "After belief, still 1 many boxes. It took 0.0 many seconds.\n",
      "There are 60 centers in the centers.\n",
      "1 of 1 boxes survived the Ensemble-Check! It took 1.0 many seconds.\n"
     ]
    },
    {
     "name": "stderr",
     "output_type": "stream",
     "text": [
      "\n",
      " 37%|███▋      | 463/1261 [14:05<30:02,  2.26s/it]\u001b[A"
     ]
    },
    {
     "name": "stdout",
     "output_type": "stream",
     "text": [
      "First net took 0.58 many second to check 342 many pictures.\n",
      "currently 1 many boxes\n",
      "After belief, still 1 many boxes. It took 0.0 many seconds.\n",
      "There are 61 centers in the centers.\n",
      "1 of 1 boxes survived the Ensemble-Check! It took 0.99 many seconds.\n"
     ]
    },
    {
     "name": "stderr",
     "output_type": "stream",
     "text": [
      "\n",
      " 37%|███▋      | 464/1261 [14:07<29:54,  2.25s/it]\u001b[A"
     ]
    },
    {
     "name": "stdout",
     "output_type": "stream",
     "text": [
      "First net took 0.6 many second to check 342 many pictures.\n",
      "currently 1 many boxes\n",
      "After belief, still 1 many boxes. It took 0.0 many seconds.\n",
      "There are 62 centers in the centers.\n",
      "1 of 1 boxes survived the Ensemble-Check! It took 0.99 many seconds.\n"
     ]
    },
    {
     "name": "stderr",
     "output_type": "stream",
     "text": [
      "\n",
      " 37%|███▋      | 465/1261 [14:09<29:55,  2.26s/it]\u001b[A"
     ]
    },
    {
     "name": "stdout",
     "output_type": "stream",
     "text": [
      "First net took 0.6 many second to check 342 many pictures.\n",
      "currently 1 many boxes\n",
      "After belief, still 1 many boxes. It took 0.0 many seconds.\n",
      "There are 63 centers in the centers.\n",
      "1 of 1 boxes survived the Ensemble-Check! It took 1.0 many seconds.\n"
     ]
    },
    {
     "name": "stderr",
     "output_type": "stream",
     "text": [
      "\n",
      " 37%|███▋      | 466/1261 [14:12<29:57,  2.26s/it]\u001b[A"
     ]
    },
    {
     "name": "stdout",
     "output_type": "stream",
     "text": [
      "First net took 0.58 many second to check 342 many pictures.\n",
      "currently 1 many boxes\n",
      "After belief, still 1 many boxes. It took 0.0 many seconds.\n",
      "There are 64 centers in the centers.\n",
      "1 of 1 boxes survived the Ensemble-Check! It took 0.99 many seconds.\n"
     ]
    },
    {
     "name": "stderr",
     "output_type": "stream",
     "text": [
      "\n",
      " 37%|███▋      | 467/1261 [14:14<29:52,  2.26s/it]\u001b[A"
     ]
    },
    {
     "name": "stdout",
     "output_type": "stream",
     "text": [
      "First net took 0.59 many second to check 342 many pictures.\n",
      "currently 1 many boxes\n",
      "After belief, still 1 many boxes. It took 0.0 many seconds.\n",
      "There are 65 centers in the centers.\n",
      "1 of 1 boxes survived the Ensemble-Check! It took 0.99 many seconds.\n"
     ]
    },
    {
     "name": "stderr",
     "output_type": "stream",
     "text": [
      "\n",
      " 37%|███▋      | 468/1261 [14:16<29:46,  2.25s/it]\u001b[A"
     ]
    },
    {
     "name": "stdout",
     "output_type": "stream",
     "text": [
      "First net took 0.58 many second to check 342 many pictures.\n",
      "currently 2 many boxes\n",
      "After belief, still 1 many boxes. It took 0.0 many seconds.\n",
      "There are 67 centers in the centers.\n",
      "1 of 1 boxes survived the Ensemble-Check! It took 1.0 many seconds.\n"
     ]
    },
    {
     "name": "stderr",
     "output_type": "stream",
     "text": [
      "\n",
      " 37%|███▋      | 469/1261 [14:18<29:44,  2.25s/it]\u001b[A"
     ]
    },
    {
     "name": "stdout",
     "output_type": "stream",
     "text": [
      "First net took 0.59 many second to check 342 many pictures.\n",
      "currently 2 many boxes\n",
      "After belief, still 1 many boxes. It took 0.0 many seconds.\n",
      "There are 68 centers in the centers.\n",
      "1 of 1 boxes survived the Ensemble-Check! It took 1.0 many seconds.\n"
     ]
    },
    {
     "name": "stderr",
     "output_type": "stream",
     "text": [
      "\n",
      " 37%|███▋      | 470/1261 [14:21<29:43,  2.25s/it]\u001b[A"
     ]
    },
    {
     "name": "stdout",
     "output_type": "stream",
     "text": [
      "First net took 0.59 many second to check 342 many pictures.\n",
      "currently 3 many boxes\n",
      "After belief, still 1 many boxes. It took 0.0 many seconds.\n",
      "There are 70 centers in the centers.\n",
      "1 of 1 boxes survived the Ensemble-Check! It took 1.0 many seconds.\n"
     ]
    },
    {
     "name": "stderr",
     "output_type": "stream",
     "text": [
      "\n",
      " 37%|███▋      | 471/1261 [14:23<29:42,  2.26s/it]\u001b[A"
     ]
    },
    {
     "name": "stdout",
     "output_type": "stream",
     "text": [
      "First net took 0.58 many second to check 342 many pictures.\n",
      "currently 2 many boxes\n",
      "After belief, still 1 many boxes. It took 0.0 many seconds.\n",
      "There are 70 centers in the centers.\n",
      "1 of 1 boxes survived the Ensemble-Check! It took 1.0 many seconds.\n"
     ]
    },
    {
     "name": "stderr",
     "output_type": "stream",
     "text": [
      "\n",
      " 37%|███▋      | 472/1261 [14:25<29:39,  2.26s/it]\u001b[A"
     ]
    },
    {
     "name": "stdout",
     "output_type": "stream",
     "text": [
      "First net took 0.59 many second to check 342 many pictures.\n",
      "currently 3 many boxes\n",
      "After belief, still 1 many boxes. It took 0.0 many seconds.\n",
      "There are 72 centers in the centers.\n",
      "1 of 1 boxes survived the Ensemble-Check! It took 1.0 many seconds.\n"
     ]
    },
    {
     "name": "stderr",
     "output_type": "stream",
     "text": [
      "\n",
      " 38%|███▊      | 473/1261 [14:27<29:38,  2.26s/it]\u001b[A"
     ]
    },
    {
     "name": "stdout",
     "output_type": "stream",
     "text": [
      "First net took 0.59 many second to check 342 many pictures.\n",
      "currently 3 many boxes\n",
      "After belief, still 1 many boxes. It took 0.0 many seconds.\n",
      "There are 73 centers in the centers.\n",
      "1 of 1 boxes survived the Ensemble-Check! It took 0.99 many seconds.\n"
     ]
    },
    {
     "name": "stderr",
     "output_type": "stream",
     "text": [
      "\n",
      " 38%|███▊      | 474/1261 [14:30<29:35,  2.26s/it]\u001b[A"
     ]
    },
    {
     "name": "stdout",
     "output_type": "stream",
     "text": [
      "First net took 0.58 many second to check 342 many pictures.\n",
      "currently 3 many boxes\n",
      "After belief, still 1 many boxes. It took 0.0 many seconds.\n",
      "There are 74 centers in the centers.\n",
      "1 of 1 boxes survived the Ensemble-Check! It took 1.0 many seconds.\n"
     ]
    },
    {
     "name": "stderr",
     "output_type": "stream",
     "text": [
      "\n",
      " 38%|███▊      | 475/1261 [14:32<29:35,  2.26s/it]\u001b[A"
     ]
    },
    {
     "name": "stdout",
     "output_type": "stream",
     "text": [
      "First net took 0.59 many second to check 342 many pictures.\n",
      "currently 2 many boxes\n",
      "After belief, still 1 many boxes. It took 0.0 many seconds.\n",
      "There are 74 centers in the centers.\n",
      "1 of 1 boxes survived the Ensemble-Check! It took 0.99 many seconds.\n"
     ]
    },
    {
     "name": "stderr",
     "output_type": "stream",
     "text": [
      "\n",
      " 38%|███▊      | 476/1261 [14:34<29:31,  2.26s/it]\u001b[A"
     ]
    },
    {
     "name": "stdout",
     "output_type": "stream",
     "text": [
      "First net took 0.58 many second to check 342 many pictures.\n",
      "currently 1 many boxes\n",
      "After belief, still 1 many boxes. It took 0.0 many seconds.\n",
      "There are 74 centers in the centers.\n",
      "1 of 1 boxes survived the Ensemble-Check! It took 0.99 many seconds.\n"
     ]
    },
    {
     "name": "stderr",
     "output_type": "stream",
     "text": [
      "\n",
      " 38%|███▊      | 477/1261 [14:36<29:24,  2.25s/it]\u001b[A"
     ]
    },
    {
     "name": "stdout",
     "output_type": "stream",
     "text": [
      "First net took 0.59 many second to check 342 many pictures.\n",
      "currently 1 many boxes\n",
      "After belief, still 1 many boxes. It took 0.0 many seconds.\n",
      "There are 75 centers in the centers.\n",
      "1 of 1 boxes survived the Ensemble-Check! It took 1.01 many seconds.\n"
     ]
    },
    {
     "name": "stderr",
     "output_type": "stream",
     "text": [
      "\n",
      " 38%|███▊      | 478/1261 [14:39<29:56,  2.29s/it]\u001b[A"
     ]
    },
    {
     "name": "stdout",
     "output_type": "stream",
     "text": [
      "First net took 0.59 many second to check 342 many pictures.\n",
      "currently 1 many boxes\n",
      "After belief, still 1 many boxes. It took 0.0 many seconds.\n",
      "There are 76 centers in the centers.\n",
      "1 of 1 boxes survived the Ensemble-Check! It took 0.98 many seconds.\n"
     ]
    },
    {
     "name": "stderr",
     "output_type": "stream",
     "text": [
      "\n",
      " 38%|███▊      | 479/1261 [14:41<29:39,  2.28s/it]\u001b[A"
     ]
    },
    {
     "name": "stdout",
     "output_type": "stream",
     "text": [
      "First net took 0.6 many second to check 342 many pictures.\n",
      "currently 1 many boxes\n",
      "After belief, still 1 many boxes. It took 0.0 many seconds.\n",
      "There are 77 centers in the centers.\n",
      "1 of 1 boxes survived the Ensemble-Check! It took 0.98 many seconds.\n"
     ]
    },
    {
     "name": "stderr",
     "output_type": "stream",
     "text": [
      "\n",
      " 38%|███▊      | 480/1261 [14:43<29:32,  2.27s/it]\u001b[A"
     ]
    },
    {
     "name": "stdout",
     "output_type": "stream",
     "text": [
      "First net took 0.59 many second to check 342 many pictures.\n",
      "currently 1 many boxes\n",
      "After belief, still 1 many boxes. It took 0.0 many seconds.\n",
      "There are 78 centers in the centers.\n",
      "1 of 1 boxes survived the Ensemble-Check! It took 1.0 many seconds.\n"
     ]
    },
    {
     "name": "stderr",
     "output_type": "stream",
     "text": [
      "\n",
      " 38%|███▊      | 481/1261 [14:46<29:27,  2.27s/it]\u001b[A"
     ]
    },
    {
     "name": "stdout",
     "output_type": "stream",
     "text": [
      "First net took 0.59 many second to check 342 many pictures.\n",
      "currently 1 many boxes\n",
      "After belief, still 1 many boxes. It took 0.0 many seconds.\n",
      "There are 79 centers in the centers.\n",
      "1 of 1 boxes survived the Ensemble-Check! It took 0.98 many seconds.\n"
     ]
    },
    {
     "name": "stderr",
     "output_type": "stream",
     "text": [
      "\n",
      " 38%|███▊      | 482/1261 [14:48<29:18,  2.26s/it]\u001b[A"
     ]
    },
    {
     "name": "stdout",
     "output_type": "stream",
     "text": [
      "First net took 0.58 many second to check 342 many pictures.\n",
      "currently 1 many boxes\n",
      "After belief, still 1 many boxes. It took 0.0 many seconds.\n",
      "There are 80 centers in the centers.\n",
      "1 of 1 boxes survived the Ensemble-Check! It took 0.98 many seconds.\n"
     ]
    },
    {
     "name": "stderr",
     "output_type": "stream",
     "text": [
      "\n",
      " 38%|███▊      | 483/1261 [14:50<29:09,  2.25s/it]\u001b[A"
     ]
    },
    {
     "name": "stdout",
     "output_type": "stream",
     "text": [
      "First net took 0.58 many second to check 342 many pictures.\n",
      "currently 1 many boxes\n",
      "After belief, still 1 many boxes. It took 0.0 many seconds.\n",
      "There are 81 centers in the centers.\n",
      "1 of 1 boxes survived the Ensemble-Check! It took 0.98 many seconds.\n"
     ]
    },
    {
     "name": "stderr",
     "output_type": "stream",
     "text": [
      "\n",
      " 38%|███▊      | 484/1261 [14:52<29:03,  2.24s/it]\u001b[A"
     ]
    },
    {
     "name": "stdout",
     "output_type": "stream",
     "text": [
      "First net took 0.58 many second to check 342 many pictures.\n",
      "currently 1 many boxes\n",
      "After belief, still 1 many boxes. It took 0.0 many seconds.\n",
      "There are 82 centers in the centers.\n",
      "1 of 1 boxes survived the Ensemble-Check! It took 0.98 many seconds.\n"
     ]
    },
    {
     "name": "stderr",
     "output_type": "stream",
     "text": [
      "\n",
      " 38%|███▊      | 485/1261 [14:54<28:57,  2.24s/it]\u001b[A"
     ]
    },
    {
     "name": "stdout",
     "output_type": "stream",
     "text": [
      "First net took 0.59 many second to check 342 many pictures.\n",
      "currently 1 many boxes\n",
      "After belief, still 1 many boxes. It took 0.0 many seconds.\n",
      "There are 83 centers in the centers.\n",
      "1 of 1 boxes survived the Ensemble-Check! It took 0.98 many seconds.\n"
     ]
    },
    {
     "name": "stderr",
     "output_type": "stream",
     "text": [
      "\n",
      " 39%|███▊      | 486/1261 [14:57<28:54,  2.24s/it]\u001b[A"
     ]
    },
    {
     "name": "stdout",
     "output_type": "stream",
     "text": [
      "First net took 0.58 many second to check 342 many pictures.\n",
      "currently 1 many boxes\n",
      "After belief, still 1 many boxes. It took 0.0 many seconds.\n",
      "There are 84 centers in the centers.\n",
      "1 of 1 boxes survived the Ensemble-Check! It took 0.99 many seconds.\n"
     ]
    },
    {
     "name": "stderr",
     "output_type": "stream",
     "text": [
      "\n",
      " 39%|███▊      | 487/1261 [14:59<28:51,  2.24s/it]\u001b[A"
     ]
    },
    {
     "name": "stdout",
     "output_type": "stream",
     "text": [
      "First net took 0.59 many second to check 342 many pictures.\n",
      "currently 1 many boxes\n",
      "After belief, still 1 many boxes. It took 0.0 many seconds.\n",
      "There are 85 centers in the centers.\n",
      "1 of 1 boxes survived the Ensemble-Check! It took 0.99 many seconds.\n"
     ]
    },
    {
     "name": "stderr",
     "output_type": "stream",
     "text": [
      "\n",
      " 39%|███▊      | 488/1261 [15:01<28:52,  2.24s/it]\u001b[A"
     ]
    },
    {
     "name": "stdout",
     "output_type": "stream",
     "text": [
      "First net took 0.58 many second to check 342 many pictures.\n",
      "currently 1 many boxes\n",
      "After belief, still 1 many boxes. It took 0.0 many seconds.\n",
      "There are 86 centers in the centers.\n",
      "1 of 1 boxes survived the Ensemble-Check! It took 1.0 many seconds.\n"
     ]
    },
    {
     "name": "stderr",
     "output_type": "stream",
     "text": [
      "\n",
      " 39%|███▉      | 489/1261 [15:03<28:52,  2.24s/it]\u001b[A"
     ]
    },
    {
     "name": "stdout",
     "output_type": "stream",
     "text": [
      "First net took 0.58 many second to check 342 many pictures.\n",
      "currently 1 many boxes\n",
      "After belief, still 1 many boxes. It took 0.0 many seconds.\n",
      "There are 87 centers in the centers.\n",
      "1 of 1 boxes survived the Ensemble-Check! It took 1.0 many seconds.\n"
     ]
    },
    {
     "name": "stderr",
     "output_type": "stream",
     "text": [
      "\n",
      " 39%|███▉      | 490/1261 [15:06<28:50,  2.24s/it]\u001b[A"
     ]
    },
    {
     "name": "stdout",
     "output_type": "stream",
     "text": [
      "First net took 0.58 many second to check 342 many pictures.\n",
      "currently 1 many boxes\n",
      "After belief, still 1 many boxes. It took 0.0 many seconds.\n",
      "There are 88 centers in the centers.\n",
      "1 of 1 boxes survived the Ensemble-Check! It took 1.0 many seconds.\n"
     ]
    },
    {
     "name": "stderr",
     "output_type": "stream",
     "text": [
      "\n",
      " 39%|███▉      | 491/1261 [15:08<28:48,  2.24s/it]\u001b[A"
     ]
    },
    {
     "name": "stdout",
     "output_type": "stream",
     "text": [
      "First net took 0.58 many second to check 342 many pictures.\n",
      "currently 1 many boxes\n",
      "After belief, still 1 many boxes. It took 0.0 many seconds.\n",
      "There are 89 centers in the centers.\n",
      "1 of 1 boxes survived the Ensemble-Check! It took 0.99 many seconds.\n"
     ]
    },
    {
     "name": "stderr",
     "output_type": "stream",
     "text": [
      "\n",
      " 39%|███▉      | 492/1261 [15:10<28:43,  2.24s/it]\u001b[A"
     ]
    },
    {
     "name": "stdout",
     "output_type": "stream",
     "text": [
      "First net took 0.58 many second to check 342 many pictures.\n",
      "currently 1 many boxes\n",
      "After belief, still 1 many boxes. It took 0.0 many seconds.\n",
      "There are 90 centers in the centers.\n",
      "1 of 1 boxes survived the Ensemble-Check! It took 0.99 many seconds.\n"
     ]
    },
    {
     "name": "stderr",
     "output_type": "stream",
     "text": [
      "\n",
      " 39%|███▉      | 493/1261 [15:12<28:43,  2.24s/it]\u001b[A"
     ]
    },
    {
     "name": "stdout",
     "output_type": "stream",
     "text": [
      "First net took 0.63 many second to check 342 many pictures.\n",
      "currently 1 many boxes\n",
      "After belief, still 1 many boxes. It took 0.0 many seconds.\n",
      "There are 91 centers in the centers.\n",
      "1 of 1 boxes survived the Ensemble-Check! It took 0.99 many seconds.\n"
     ]
    },
    {
     "name": "stderr",
     "output_type": "stream",
     "text": [
      "\n",
      " 39%|███▉      | 494/1261 [15:15<28:52,  2.26s/it]\u001b[A"
     ]
    },
    {
     "name": "stdout",
     "output_type": "stream",
     "text": [
      "First net took 0.58 many second to check 342 many pictures.\n",
      "currently 1 many boxes\n",
      "After belief, still 1 many boxes. It took 0.0 many seconds.\n",
      "There are 92 centers in the centers.\n",
      "1 of 1 boxes survived the Ensemble-Check! It took 0.98 many seconds.\n"
     ]
    },
    {
     "name": "stderr",
     "output_type": "stream",
     "text": [
      "\n",
      " 39%|███▉      | 495/1261 [15:17<28:42,  2.25s/it]\u001b[A"
     ]
    },
    {
     "name": "stdout",
     "output_type": "stream",
     "text": [
      "First net took 0.58 many second to check 342 many pictures.\n",
      "currently 1 many boxes\n",
      "After belief, still 1 many boxes. It took 0.0 many seconds.\n",
      "There are 93 centers in the centers.\n",
      "1 of 1 boxes survived the Ensemble-Check! It took 0.97 many seconds.\n"
     ]
    },
    {
     "name": "stderr",
     "output_type": "stream",
     "text": [
      "\n",
      " 39%|███▉      | 496/1261 [15:19<28:33,  2.24s/it]\u001b[A"
     ]
    },
    {
     "name": "stdout",
     "output_type": "stream",
     "text": [
      "First net took 0.58 many second to check 342 many pictures.\n",
      "currently 1 many boxes\n",
      "After belief, still 1 many boxes. It took 0.0 many seconds.\n",
      "There are 94 centers in the centers.\n",
      "1 of 1 boxes survived the Ensemble-Check! It took 0.97 many seconds.\n"
     ]
    },
    {
     "name": "stderr",
     "output_type": "stream",
     "text": [
      "\n",
      " 39%|███▉      | 497/1261 [15:21<28:26,  2.23s/it]\u001b[A"
     ]
    },
    {
     "name": "stdout",
     "output_type": "stream",
     "text": [
      "First net took 0.59 many second to check 342 many pictures.\n",
      "currently 1 many boxes\n",
      "After belief, still 1 many boxes. It took 0.0 many seconds.\n",
      "There are 76 centers in the centers.\n",
      "1 of 1 boxes survived the Ensemble-Check! It took 0.97 many seconds.\n"
     ]
    },
    {
     "name": "stderr",
     "output_type": "stream",
     "text": [
      "\n",
      " 39%|███▉      | 498/1261 [15:24<28:21,  2.23s/it]\u001b[A"
     ]
    },
    {
     "name": "stdout",
     "output_type": "stream",
     "text": [
      "First net took 0.58 many second to check 342 many pictures.\n",
      "currently 1 many boxes\n",
      "After belief, still 1 many boxes. It took 0.0 many seconds.\n",
      "There are 77 centers in the centers.\n",
      "1 of 1 boxes survived the Ensemble-Check! It took 0.96 many seconds.\n"
     ]
    },
    {
     "name": "stderr",
     "output_type": "stream",
     "text": [
      "\n",
      " 40%|███▉      | 499/1261 [15:26<28:13,  2.22s/it]\u001b[A"
     ]
    },
    {
     "name": "stdout",
     "output_type": "stream",
     "text": [
      "First net took 0.59 many second to check 342 many pictures.\n",
      "currently 1 many boxes\n",
      "After belief, still 1 many boxes. It took 0.0 many seconds.\n",
      "There are 78 centers in the centers.\n",
      "1 of 1 boxes survived the Ensemble-Check! It took 0.98 many seconds.\n"
     ]
    },
    {
     "name": "stderr",
     "output_type": "stream",
     "text": [
      "\n",
      " 40%|███▉      | 500/1261 [15:28<28:15,  2.23s/it]\u001b[A"
     ]
    },
    {
     "name": "stdout",
     "output_type": "stream",
     "text": [
      "First net took 0.6 many second to check 342 many pictures.\n",
      "currently 1 many boxes\n",
      "After belief, still 1 many boxes. It took 0.0 many seconds.\n",
      "There are 79 centers in the centers.\n",
      "1 of 1 boxes survived the Ensemble-Check! It took 0.97 many seconds.\n"
     ]
    },
    {
     "name": "stderr",
     "output_type": "stream",
     "text": [
      "\n",
      " 40%|███▉      | 501/1261 [15:30<28:19,  2.24s/it]\u001b[A"
     ]
    },
    {
     "name": "stdout",
     "output_type": "stream",
     "text": [
      "First net took 0.59 many second to check 342 many pictures.\n",
      "currently 1 many boxes\n",
      "After belief, still 1 many boxes. It took 0.0 many seconds.\n",
      "There are 80 centers in the centers.\n",
      "1 of 1 boxes survived the Ensemble-Check! It took 0.97 many seconds.\n"
     ]
    },
    {
     "name": "stderr",
     "output_type": "stream",
     "text": [
      "\n",
      " 40%|███▉      | 502/1261 [15:32<28:13,  2.23s/it]\u001b[A"
     ]
    },
    {
     "name": "stdout",
     "output_type": "stream",
     "text": [
      "First net took 0.58 many second to check 342 many pictures.\n",
      "currently 1 many boxes\n",
      "After belief, still 1 many boxes. It took 0.0 many seconds.\n",
      "There are 81 centers in the centers.\n",
      "1 of 1 boxes survived the Ensemble-Check! It took 0.98 many seconds.\n"
     ]
    },
    {
     "name": "stderr",
     "output_type": "stream",
     "text": [
      "\n",
      " 40%|███▉      | 503/1261 [15:35<28:11,  2.23s/it]\u001b[A"
     ]
    },
    {
     "name": "stdout",
     "output_type": "stream",
     "text": [
      "First net took 0.58 many second to check 342 many pictures.\n",
      "currently 1 many boxes\n",
      "After belief, still 1 many boxes. It took 0.0 many seconds.\n",
      "There are 82 centers in the centers.\n",
      "1 of 1 boxes survived the Ensemble-Check! It took 0.96 many seconds.\n"
     ]
    },
    {
     "name": "stderr",
     "output_type": "stream",
     "text": [
      "\n",
      " 40%|███▉      | 504/1261 [15:37<28:05,  2.23s/it]\u001b[A"
     ]
    },
    {
     "name": "stdout",
     "output_type": "stream",
     "text": [
      "First net took 0.58 many second to check 342 many pictures.\n",
      "currently 1 many boxes\n",
      "After belief, still 1 many boxes. It took 0.0 many seconds.\n",
      "There are 83 centers in the centers.\n",
      "1 of 1 boxes survived the Ensemble-Check! It took 0.97 many seconds.\n"
     ]
    },
    {
     "name": "stderr",
     "output_type": "stream",
     "text": [
      "\n",
      " 40%|████      | 505/1261 [15:39<28:00,  2.22s/it]\u001b[A"
     ]
    },
    {
     "name": "stdout",
     "output_type": "stream",
     "text": [
      "First net took 0.62 many second to check 342 many pictures.\n",
      "currently 1 many boxes\n",
      "After belief, still 1 many boxes. It took 0.0 many seconds.\n",
      "There are 84 centers in the centers.\n",
      "1 of 1 boxes survived the Ensemble-Check! It took 0.99 many seconds.\n"
     ]
    },
    {
     "name": "stderr",
     "output_type": "stream",
     "text": [
      "\n",
      " 40%|████      | 506/1261 [15:41<28:10,  2.24s/it]\u001b[A"
     ]
    },
    {
     "name": "stdout",
     "output_type": "stream",
     "text": [
      "First net took 0.58 many second to check 342 many pictures.\n",
      "currently 1 many boxes\n",
      "After belief, still 1 many boxes. It took 0.0 many seconds.\n",
      "There are 85 centers in the centers.\n",
      "1 of 1 boxes survived the Ensemble-Check! It took 0.98 many seconds.\n"
     ]
    },
    {
     "name": "stderr",
     "output_type": "stream",
     "text": [
      "\n",
      " 40%|████      | 507/1261 [15:44<28:05,  2.24s/it]\u001b[A"
     ]
    },
    {
     "name": "stdout",
     "output_type": "stream",
     "text": [
      "First net took 0.58 many second to check 342 many pictures.\n",
      "currently 1 many boxes\n",
      "After belief, still 1 many boxes. It took 0.0 many seconds.\n",
      "There are 86 centers in the centers.\n",
      "1 of 1 boxes survived the Ensemble-Check! It took 0.97 many seconds.\n"
     ]
    },
    {
     "name": "stderr",
     "output_type": "stream",
     "text": [
      "\n",
      " 40%|████      | 508/1261 [15:46<27:59,  2.23s/it]\u001b[A"
     ]
    },
    {
     "name": "stdout",
     "output_type": "stream",
     "text": [
      "First net took 0.59 many second to check 342 many pictures.\n",
      "currently 1 many boxes\n",
      "After belief, still 1 many boxes. It took 0.0 many seconds.\n",
      "There are 87 centers in the centers.\n",
      "1 of 1 boxes survived the Ensemble-Check! It took 0.97 many seconds.\n"
     ]
    },
    {
     "name": "stderr",
     "output_type": "stream",
     "text": [
      "\n",
      " 40%|████      | 509/1261 [15:48<27:56,  2.23s/it]\u001b[A"
     ]
    },
    {
     "name": "stdout",
     "output_type": "stream",
     "text": [
      "First net took 0.62 many second to check 342 many pictures.\n",
      "currently 1 many boxes\n",
      "After belief, still 1 many boxes. It took 0.0 many seconds.\n",
      "There are 63 centers in the centers.\n",
      "1 of 1 boxes survived the Ensemble-Check! It took 0.96 many seconds.\n"
     ]
    },
    {
     "name": "stderr",
     "output_type": "stream",
     "text": [
      "\n",
      " 40%|████      | 510/1261 [15:50<27:58,  2.23s/it]\u001b[A"
     ]
    },
    {
     "name": "stdout",
     "output_type": "stream",
     "text": [
      "First net took 0.59 many second to check 342 many pictures.\n",
      "currently 1 many boxes\n",
      "After belief, still 1 many boxes. It took 0.0 many seconds.\n",
      "There are 45 centers in the centers.\n",
      "1 of 1 boxes survived the Ensemble-Check! It took 0.96 many seconds.\n"
     ]
    },
    {
     "name": "stderr",
     "output_type": "stream",
     "text": [
      "\n",
      " 41%|████      | 511/1261 [15:53<27:52,  2.23s/it]\u001b[A"
     ]
    },
    {
     "name": "stdout",
     "output_type": "stream",
     "text": [
      "First net took 0.58 many second to check 342 many pictures.\n",
      "currently 1 many boxes\n",
      "After belief, still 1 many boxes. It took 0.0 many seconds.\n",
      "There are 46 centers in the centers.\n",
      "1 of 1 boxes survived the Ensemble-Check! It took 0.98 many seconds.\n"
     ]
    },
    {
     "name": "stderr",
     "output_type": "stream",
     "text": [
      "\n",
      " 41%|████      | 512/1261 [15:55<27:49,  2.23s/it]\u001b[A"
     ]
    },
    {
     "name": "stdout",
     "output_type": "stream",
     "text": [
      "First net took 0.59 many second to check 342 many pictures.\n",
      "currently 1 many boxes\n",
      "After belief, still 1 many boxes. It took 0.0 many seconds.\n",
      "There are 47 centers in the centers.\n",
      "1 of 1 boxes survived the Ensemble-Check! It took 0.96 many seconds.\n"
     ]
    },
    {
     "name": "stderr",
     "output_type": "stream",
     "text": [
      "\n",
      " 41%|████      | 513/1261 [15:57<27:46,  2.23s/it]\u001b[A"
     ]
    },
    {
     "name": "stdout",
     "output_type": "stream",
     "text": [
      "First net took 0.58 many second to check 342 many pictures.\n",
      "currently 1 many boxes\n",
      "After belief, still 1 many boxes. It took 0.0 many seconds.\n",
      "There are 48 centers in the centers.\n",
      "1 of 1 boxes survived the Ensemble-Check! It took 0.96 many seconds.\n"
     ]
    },
    {
     "name": "stderr",
     "output_type": "stream",
     "text": [
      "\n",
      " 41%|████      | 514/1261 [15:59<27:41,  2.22s/it]\u001b[A"
     ]
    },
    {
     "name": "stdout",
     "output_type": "stream",
     "text": [
      "First net took 0.58 many second to check 342 many pictures.\n",
      "currently 1 many boxes\n",
      "After belief, still 1 many boxes. It took 0.0 many seconds.\n",
      "There are 49 centers in the centers.\n",
      "1 of 1 boxes survived the Ensemble-Check! It took 0.97 many seconds.\n"
     ]
    },
    {
     "name": "stderr",
     "output_type": "stream",
     "text": [
      "\n",
      " 41%|████      | 515/1261 [16:01<27:45,  2.23s/it]\u001b[A"
     ]
    },
    {
     "name": "stdout",
     "output_type": "stream",
     "text": [
      "First net took 0.59 many second to check 342 many pictures.\n",
      "currently 1 many boxes\n",
      "After belief, still 1 many boxes. It took 0.0 many seconds.\n",
      "There are 50 centers in the centers.\n",
      "1 of 1 boxes survived the Ensemble-Check! It took 0.96 many seconds.\n"
     ]
    },
    {
     "name": "stderr",
     "output_type": "stream",
     "text": [
      "\n",
      " 41%|████      | 516/1261 [16:04<27:41,  2.23s/it]\u001b[A"
     ]
    },
    {
     "name": "stdout",
     "output_type": "stream",
     "text": [
      "First net took 0.58 many second to check 342 many pictures.\n",
      "currently 1 many boxes\n",
      "After belief, still 1 many boxes. It took 0.0 many seconds.\n",
      "There are 51 centers in the centers.\n",
      "1 of 1 boxes survived the Ensemble-Check! It took 0.96 many seconds.\n"
     ]
    },
    {
     "name": "stderr",
     "output_type": "stream",
     "text": [
      "\n",
      " 41%|████      | 517/1261 [16:06<27:34,  2.22s/it]\u001b[A"
     ]
    },
    {
     "name": "stdout",
     "output_type": "stream",
     "text": [
      "First net took 0.62 many second to check 342 many pictures.\n",
      "currently 1 many boxes\n",
      "After belief, still 1 many boxes. It took 0.0 many seconds.\n",
      "There are 52 centers in the centers.\n",
      "1 of 1 boxes survived the Ensemble-Check! It took 0.97 many seconds.\n"
     ]
    },
    {
     "name": "stderr",
     "output_type": "stream",
     "text": [
      "\n",
      " 41%|████      | 518/1261 [16:08<27:39,  2.23s/it]\u001b[A"
     ]
    },
    {
     "name": "stdout",
     "output_type": "stream",
     "text": [
      "First net took 0.59 many second to check 342 many pictures.\n",
      "currently 1 many boxes\n",
      "After belief, still 1 many boxes. It took 0.0 many seconds.\n",
      "There are 53 centers in the centers.\n",
      "1 of 1 boxes survived the Ensemble-Check! It took 0.96 many seconds.\n"
     ]
    },
    {
     "name": "stderr",
     "output_type": "stream",
     "text": [
      "\n",
      " 41%|████      | 519/1261 [16:10<27:34,  2.23s/it]\u001b[A"
     ]
    },
    {
     "name": "stdout",
     "output_type": "stream",
     "text": [
      "First net took 0.59 many second to check 342 many pictures.\n",
      "currently 1 many boxes\n",
      "After belief, still 1 many boxes. It took 0.0 many seconds.\n",
      "There are 54 centers in the centers.\n",
      "1 of 1 boxes survived the Ensemble-Check! It took 0.97 many seconds.\n"
     ]
    },
    {
     "name": "stderr",
     "output_type": "stream",
     "text": [
      "\n",
      " 41%|████      | 520/1261 [16:13<27:29,  2.23s/it]\u001b[A"
     ]
    },
    {
     "name": "stdout",
     "output_type": "stream",
     "text": [
      "First net took 0.6 many second to check 342 many pictures.\n",
      "currently 1 many boxes\n",
      "After belief, still 1 many boxes. It took 0.0 many seconds.\n",
      "There are 55 centers in the centers.\n",
      "1 of 1 boxes survived the Ensemble-Check! It took 0.98 many seconds.\n"
     ]
    },
    {
     "name": "stderr",
     "output_type": "stream",
     "text": [
      "\n",
      " 41%|████▏     | 521/1261 [16:15<27:34,  2.24s/it]\u001b[A"
     ]
    },
    {
     "name": "stdout",
     "output_type": "stream",
     "text": [
      "First net took 0.58 many second to check 342 many pictures.\n",
      "currently 1 many boxes\n",
      "After belief, still 1 many boxes. It took 0.0 many seconds.\n",
      "There are 56 centers in the centers.\n",
      "1 of 1 boxes survived the Ensemble-Check! It took 0.97 many seconds.\n"
     ]
    },
    {
     "name": "stderr",
     "output_type": "stream",
     "text": [
      "\n",
      " 41%|████▏     | 522/1261 [16:17<27:27,  2.23s/it]\u001b[A"
     ]
    },
    {
     "name": "stdout",
     "output_type": "stream",
     "text": [
      "First net took 0.58 many second to check 342 many pictures.\n",
      "currently 1 many boxes\n",
      "After belief, still 1 many boxes. It took 0.0 many seconds.\n",
      "There are 57 centers in the centers.\n",
      "1 of 1 boxes survived the Ensemble-Check! It took 0.96 many seconds.\n"
     ]
    },
    {
     "name": "stderr",
     "output_type": "stream",
     "text": [
      "\n",
      " 41%|████▏     | 523/1261 [16:19<27:21,  2.22s/it]\u001b[A"
     ]
    },
    {
     "name": "stdout",
     "output_type": "stream",
     "text": [
      "First net took 0.59 many second to check 342 many pictures.\n",
      "currently 1 many boxes\n",
      "After belief, still 1 many boxes. It took 0.0 many seconds.\n",
      "There are 58 centers in the centers.\n",
      "1 of 1 boxes survived the Ensemble-Check! It took 0.96 many seconds.\n"
     ]
    },
    {
     "name": "stderr",
     "output_type": "stream",
     "text": [
      "\n",
      " 42%|████▏     | 524/1261 [16:22<27:16,  2.22s/it]\u001b[A"
     ]
    },
    {
     "name": "stdout",
     "output_type": "stream",
     "text": [
      "First net took 0.58 many second to check 342 many pictures.\n",
      "currently 1 many boxes\n",
      "After belief, still 1 many boxes. It took 0.0 many seconds.\n",
      "There are 59 centers in the centers.\n",
      "1 of 1 boxes survived the Ensemble-Check! It took 0.97 many seconds.\n"
     ]
    },
    {
     "name": "stderr",
     "output_type": "stream",
     "text": [
      "\n",
      " 42%|████▏     | 525/1261 [16:24<27:12,  2.22s/it]\u001b[A"
     ]
    },
    {
     "name": "stdout",
     "output_type": "stream",
     "text": [
      "First net took 0.62 many second to check 342 many pictures.\n",
      "currently 1 many boxes\n",
      "After belief, still 1 many boxes. It took 0.0 many seconds.\n",
      "There are 60 centers in the centers.\n",
      "1 of 1 boxes survived the Ensemble-Check! It took 0.97 many seconds.\n"
     ]
    },
    {
     "name": "stderr",
     "output_type": "stream",
     "text": [
      "\n",
      " 42%|████▏     | 526/1261 [16:26<27:19,  2.23s/it]\u001b[A"
     ]
    },
    {
     "name": "stdout",
     "output_type": "stream",
     "text": [
      "First net took 0.58 many second to check 342 many pictures.\n",
      "currently 1 many boxes\n",
      "After belief, still 1 many boxes. It took 0.0 many seconds.\n",
      "There are 61 centers in the centers.\n",
      "1 of 1 boxes survived the Ensemble-Check! It took 0.96 many seconds.\n"
     ]
    },
    {
     "name": "stderr",
     "output_type": "stream",
     "text": [
      "\n",
      " 42%|████▏     | 527/1261 [16:28<27:12,  2.22s/it]\u001b[A"
     ]
    },
    {
     "name": "stdout",
     "output_type": "stream",
     "text": [
      "First net took 0.58 many second to check 342 many pictures.\n",
      "currently 1 many boxes\n",
      "After belief, still 1 many boxes. It took 0.0 many seconds.\n",
      "There are 62 centers in the centers.\n",
      "1 of 1 boxes survived the Ensemble-Check! It took 0.97 many seconds.\n"
     ]
    },
    {
     "name": "stderr",
     "output_type": "stream",
     "text": [
      "\n",
      " 42%|████▏     | 528/1261 [16:30<27:10,  2.22s/it]\u001b[A"
     ]
    },
    {
     "name": "stdout",
     "output_type": "stream",
     "text": [
      "First net took 0.58 many second to check 342 many pictures.\n",
      "currently 1 many boxes\n",
      "After belief, still 1 many boxes. It took 0.0 many seconds.\n",
      "There are 63 centers in the centers.\n",
      "1 of 1 boxes survived the Ensemble-Check! It took 0.96 many seconds.\n"
     ]
    },
    {
     "name": "stderr",
     "output_type": "stream",
     "text": [
      "\n",
      " 42%|████▏     | 529/1261 [16:33<27:04,  2.22s/it]\u001b[A"
     ]
    },
    {
     "name": "stdout",
     "output_type": "stream",
     "text": [
      "First net took 0.59 many second to check 342 many pictures.\n",
      "currently 1 many boxes\n",
      "After belief, still 1 many boxes. It took 0.0 many seconds.\n",
      "There are 64 centers in the centers.\n",
      "1 of 1 boxes survived the Ensemble-Check! It took 0.96 many seconds.\n"
     ]
    },
    {
     "name": "stderr",
     "output_type": "stream",
     "text": [
      "\n",
      " 42%|████▏     | 530/1261 [16:35<27:03,  2.22s/it]\u001b[A"
     ]
    },
    {
     "name": "stdout",
     "output_type": "stream",
     "text": [
      "First net took 0.58 many second to check 342 many pictures.\n",
      "currently 1 many boxes\n",
      "After belief, still 1 many boxes. It took 0.0 many seconds.\n",
      "There are 65 centers in the centers.\n",
      "1 of 1 boxes survived the Ensemble-Check! It took 0.97 many seconds.\n"
     ]
    },
    {
     "name": "stderr",
     "output_type": "stream",
     "text": [
      "\n",
      " 42%|████▏     | 531/1261 [16:37<27:01,  2.22s/it]\u001b[A"
     ]
    },
    {
     "name": "stdout",
     "output_type": "stream",
     "text": [
      "First net took 0.59 many second to check 342 many pictures.\n",
      "currently 1 many boxes\n",
      "After belief, still 1 many boxes. It took 0.0 many seconds.\n",
      "There are 66 centers in the centers.\n",
      "1 of 1 boxes survived the Ensemble-Check! It took 0.97 many seconds.\n"
     ]
    },
    {
     "name": "stderr",
     "output_type": "stream",
     "text": [
      "\n",
      " 42%|████▏     | 532/1261 [16:39<27:00,  2.22s/it]\u001b[A"
     ]
    },
    {
     "name": "stdout",
     "output_type": "stream",
     "text": [
      "First net took 0.61 many second to check 342 many pictures.\n",
      "currently 1 many boxes\n",
      "After belief, still 1 many boxes. It took 0.0 many seconds.\n",
      "There are 67 centers in the centers.\n",
      "1 of 1 boxes survived the Ensemble-Check! It took 0.98 many seconds.\n"
     ]
    },
    {
     "name": "stderr",
     "output_type": "stream",
     "text": [
      "\n",
      " 42%|████▏     | 533/1261 [16:42<27:18,  2.25s/it]\u001b[A"
     ]
    },
    {
     "name": "stdout",
     "output_type": "stream",
     "text": [
      "First net took 0.59 many second to check 342 many pictures.\n",
      "currently 1 many boxes\n",
      "After belief, still 1 many boxes. It took 0.0 many seconds.\n",
      "There are 68 centers in the centers.\n",
      "1 of 1 boxes survived the Ensemble-Check! It took 0.97 many seconds.\n"
     ]
    },
    {
     "name": "stderr",
     "output_type": "stream",
     "text": [
      "\n",
      " 42%|████▏     | 534/1261 [16:44<27:26,  2.27s/it]\u001b[A"
     ]
    },
    {
     "name": "stdout",
     "output_type": "stream",
     "text": [
      "First net took 0.58 many second to check 342 many pictures.\n",
      "currently 1 many boxes\n",
      "After belief, still 1 many boxes. It took 0.0 many seconds.\n",
      "There are 69 centers in the centers.\n",
      "1 of 1 boxes survived the Ensemble-Check! It took 0.96 many seconds.\n"
     ]
    },
    {
     "name": "stderr",
     "output_type": "stream",
     "text": [
      "\n",
      " 42%|████▏     | 535/1261 [16:46<27:26,  2.27s/it]\u001b[A"
     ]
    },
    {
     "name": "stdout",
     "output_type": "stream",
     "text": [
      "First net took 0.59 many second to check 342 many pictures.\n",
      "currently 1 many boxes\n",
      "After belief, still 1 many boxes. It took 0.0 many seconds.\n",
      "There are 70 centers in the centers.\n",
      "1 of 1 boxes survived the Ensemble-Check! It took 0.96 many seconds.\n"
     ]
    },
    {
     "name": "stderr",
     "output_type": "stream",
     "text": [
      "\n",
      " 43%|████▎     | 536/1261 [16:48<27:25,  2.27s/it]\u001b[A"
     ]
    },
    {
     "name": "stdout",
     "output_type": "stream",
     "text": [
      "First net took 0.58 many second to check 342 many pictures.\n",
      "currently 1 many boxes\n",
      "After belief, still 1 many boxes. It took 0.0 many seconds.\n",
      "There are 71 centers in the centers.\n",
      "1 of 1 boxes survived the Ensemble-Check! It took 0.99 many seconds.\n"
     ]
    },
    {
     "name": "stderr",
     "output_type": "stream",
     "text": [
      "\n",
      " 43%|████▎     | 537/1261 [16:51<27:28,  2.28s/it]\u001b[A"
     ]
    },
    {
     "name": "stdout",
     "output_type": "stream",
     "text": [
      "First net took 0.59 many second to check 342 many pictures.\n",
      "currently 1 many boxes\n",
      "After belief, still 1 many boxes. It took 0.0 many seconds.\n",
      "There are 72 centers in the centers.\n",
      "1 of 1 boxes survived the Ensemble-Check! It took 0.97 many seconds.\n"
     ]
    },
    {
     "name": "stderr",
     "output_type": "stream",
     "text": [
      "\n",
      " 43%|████▎     | 538/1261 [16:53<27:57,  2.32s/it]\u001b[A"
     ]
    },
    {
     "name": "stdout",
     "output_type": "stream",
     "text": [
      "First net took 0.59 many second to check 342 many pictures.\n",
      "currently 1 many boxes\n",
      "After belief, still 1 many boxes. It took 0.0 many seconds.\n",
      "There are 73 centers in the centers.\n",
      "1 of 1 boxes survived the Ensemble-Check! It took 0.96 many seconds.\n"
     ]
    },
    {
     "name": "stderr",
     "output_type": "stream",
     "text": [
      "\n",
      " 43%|████▎     | 539/1261 [16:55<27:46,  2.31s/it]\u001b[A"
     ]
    },
    {
     "name": "stdout",
     "output_type": "stream",
     "text": [
      "First net took 0.6 many second to check 342 many pictures.\n",
      "currently 1 many boxes\n",
      "After belief, still 1 many boxes. It took 0.0 many seconds.\n",
      "There are 55 centers in the centers.\n",
      "1 of 1 boxes survived the Ensemble-Check! It took 0.95 many seconds.\n"
     ]
    },
    {
     "name": "stderr",
     "output_type": "stream",
     "text": [
      "\n",
      " 43%|████▎     | 540/1261 [16:58<27:37,  2.30s/it]\u001b[A"
     ]
    },
    {
     "name": "stdout",
     "output_type": "stream",
     "text": [
      "First net took 0.59 many second to check 342 many pictures.\n",
      "currently 1 many boxes\n",
      "After belief, still 1 many boxes. It took 0.0 many seconds.\n",
      "There are 56 centers in the centers.\n",
      "1 of 1 boxes survived the Ensemble-Check! It took 0.95 many seconds.\n"
     ]
    },
    {
     "name": "stderr",
     "output_type": "stream",
     "text": [
      "\n",
      " 43%|████▎     | 541/1261 [17:00<27:27,  2.29s/it]\u001b[A"
     ]
    },
    {
     "name": "stdout",
     "output_type": "stream",
     "text": [
      "First net took 0.62 many second to check 342 many pictures.\n",
      "currently 1 many boxes\n",
      "After belief, still 1 many boxes. It took 0.0 many seconds.\n",
      "There are 57 centers in the centers.\n",
      "1 of 1 boxes survived the Ensemble-Check! It took 0.95 many seconds.\n"
     ]
    },
    {
     "name": "stderr",
     "output_type": "stream",
     "text": [
      "\n",
      " 43%|████▎     | 542/1261 [17:02<27:26,  2.29s/it]\u001b[A"
     ]
    },
    {
     "name": "stdout",
     "output_type": "stream",
     "text": [
      "First net took 0.62 many second to check 342 many pictures.\n",
      "currently 1 many boxes\n",
      "After belief, still 1 many boxes. It took 0.0 many seconds.\n",
      "There are 58 centers in the centers.\n",
      "1 of 1 boxes survived the Ensemble-Check! It took 0.95 many seconds.\n"
     ]
    },
    {
     "name": "stderr",
     "output_type": "stream",
     "text": [
      "\n",
      " 43%|████▎     | 543/1261 [17:05<27:27,  2.29s/it]\u001b[A"
     ]
    },
    {
     "name": "stdout",
     "output_type": "stream",
     "text": [
      "First net took 0.59 many second to check 342 many pictures.\n",
      "currently 1 many boxes\n",
      "After belief, still 1 many boxes. It took 0.0 many seconds.\n",
      "There are 59 centers in the centers.\n",
      "1 of 1 boxes survived the Ensemble-Check! It took 0.95 many seconds.\n"
     ]
    },
    {
     "name": "stderr",
     "output_type": "stream",
     "text": [
      "\n",
      " 43%|████▎     | 544/1261 [17:07<27:17,  2.28s/it]\u001b[A"
     ]
    },
    {
     "name": "stdout",
     "output_type": "stream",
     "text": [
      "First net took 0.58 many second to check 342 many pictures.\n",
      "currently 1 many boxes\n",
      "After belief, still 1 many boxes. It took 0.0 many seconds.\n",
      "There are 60 centers in the centers.\n",
      "1 of 1 boxes survived the Ensemble-Check! It took 0.96 many seconds.\n"
     ]
    },
    {
     "name": "stderr",
     "output_type": "stream",
     "text": [
      "\n",
      " 43%|████▎     | 545/1261 [17:09<27:12,  2.28s/it]\u001b[A"
     ]
    },
    {
     "name": "stdout",
     "output_type": "stream",
     "text": [
      "First net took 0.58 many second to check 342 many pictures.\n",
      "currently 1 many boxes\n",
      "After belief, still 1 many boxes. It took 0.0 many seconds.\n",
      "There are 61 centers in the centers.\n",
      "1 of 1 boxes survived the Ensemble-Check! It took 0.97 many seconds.\n"
     ]
    },
    {
     "name": "stderr",
     "output_type": "stream",
     "text": [
      "\n",
      " 43%|████▎     | 546/1261 [17:11<27:10,  2.28s/it]\u001b[A"
     ]
    },
    {
     "name": "stdout",
     "output_type": "stream",
     "text": [
      "First net took 0.6 many second to check 342 many pictures.\n",
      "currently 1 many boxes\n",
      "After belief, still 1 many boxes. It took 0.0 many seconds.\n",
      "There are 62 centers in the centers.\n",
      "1 of 1 boxes survived the Ensemble-Check! It took 0.97 many seconds.\n"
     ]
    },
    {
     "name": "stderr",
     "output_type": "stream",
     "text": [
      "\n",
      " 43%|████▎     | 547/1261 [17:14<27:11,  2.28s/it]\u001b[A"
     ]
    },
    {
     "name": "stdout",
     "output_type": "stream",
     "text": [
      "First net took 0.61 many second to check 342 many pictures.\n",
      "currently 1 many boxes\n",
      "After belief, still 1 many boxes. It took 0.0 many seconds.\n",
      "There are 63 centers in the centers.\n",
      "1 of 1 boxes survived the Ensemble-Check! It took 0.97 many seconds.\n"
     ]
    },
    {
     "name": "stderr",
     "output_type": "stream",
     "text": [
      "\n",
      " 43%|████▎     | 548/1261 [17:16<27:13,  2.29s/it]\u001b[A"
     ]
    },
    {
     "name": "stdout",
     "output_type": "stream",
     "text": [
      "First net took 0.59 many second to check 342 many pictures.\n",
      "currently 1 many boxes\n",
      "After belief, still 1 many boxes. It took 0.0 many seconds.\n",
      "There are 64 centers in the centers.\n",
      "1 of 1 boxes survived the Ensemble-Check! It took 0.97 many seconds.\n"
     ]
    },
    {
     "name": "stderr",
     "output_type": "stream",
     "text": [
      "\n",
      " 44%|████▎     | 549/1261 [17:18<27:09,  2.29s/it]\u001b[A"
     ]
    },
    {
     "name": "stdout",
     "output_type": "stream",
     "text": [
      "First net took 0.59 many second to check 342 many pictures.\n",
      "currently 1 many boxes\n",
      "After belief, still 1 many boxes. It took 0.0 many seconds.\n",
      "There are 65 centers in the centers.\n",
      "1 of 1 boxes survived the Ensemble-Check! It took 0.98 many seconds.\n"
     ]
    },
    {
     "name": "stderr",
     "output_type": "stream",
     "text": [
      "\n",
      " 44%|████▎     | 550/1261 [17:21<27:07,  2.29s/it]\u001b[A"
     ]
    },
    {
     "name": "stdout",
     "output_type": "stream",
     "text": [
      "First net took 0.59 many second to check 342 many pictures.\n",
      "currently 1 many boxes\n",
      "After belief, still 1 many boxes. It took 0.0 many seconds.\n",
      "There are 66 centers in the centers.\n",
      "1 of 1 boxes survived the Ensemble-Check! It took 0.96 many seconds.\n"
     ]
    },
    {
     "name": "stderr",
     "output_type": "stream",
     "text": [
      "\n",
      " 44%|████▎     | 551/1261 [17:23<27:03,  2.29s/it]\u001b[A"
     ]
    },
    {
     "name": "stdout",
     "output_type": "stream",
     "text": [
      "First net took 0.59 many second to check 342 many pictures.\n",
      "currently 1 many boxes\n",
      "After belief, still 1 many boxes. It took 0.0 many seconds.\n",
      "There are 67 centers in the centers.\n",
      "1 of 1 boxes survived the Ensemble-Check! It took 0.94 many seconds.\n"
     ]
    },
    {
     "name": "stderr",
     "output_type": "stream",
     "text": [
      "\n",
      " 44%|████▍     | 552/1261 [17:25<26:55,  2.28s/it]\u001b[A"
     ]
    },
    {
     "name": "stdout",
     "output_type": "stream",
     "text": [
      "First net took 0.58 many second to check 342 many pictures.\n",
      "currently 1 many boxes\n",
      "After belief, still 1 many boxes. It took 0.0 many seconds.\n",
      "There are 68 centers in the centers.\n",
      "1 of 1 boxes survived the Ensemble-Check! It took 0.95 many seconds.\n"
     ]
    },
    {
     "name": "stderr",
     "output_type": "stream",
     "text": [
      "\n",
      " 44%|████▍     | 553/1261 [17:27<26:50,  2.27s/it]\u001b[A"
     ]
    },
    {
     "name": "stdout",
     "output_type": "stream",
     "text": [
      "First net took 0.58 many second to check 342 many pictures.\n",
      "currently 1 many boxes\n",
      "After belief, still 0 many boxes. It took 0.0 many seconds.\n",
      "There are 1 centers in the centers.\n",
      "0 of 0 boxes survived the Ensemble-Check! It took 0.0 many seconds.\n",
      "No final boxes!\n",
      "More than one history box!\n",
      "We print the mean of the history boxes: [((891, 392), (1027, 486))]\n"
     ]
    },
    {
     "name": "stderr",
     "output_type": "stream",
     "text": [
      "\n",
      " 44%|████▍     | 554/1261 [17:29<23:26,  1.99s/it]\u001b[A"
     ]
    },
    {
     "name": "stdout",
     "output_type": "stream",
     "text": [
      "First net took 0.58 many second to check 342 many pictures.\n",
      "currently 0 many boxes\n",
      "After belief, still 0 many boxes. It took 0.0 many seconds.\n",
      "There are 0 centers in the centers.\n",
      "0 of 0 boxes survived the Ensemble-Check! It took 0.0 many seconds.\n",
      "No final boxes!\n",
      "More than one history box!\n",
      "We print the mean of the history boxes: [((891, 392), (1027, 486))]\n"
     ]
    },
    {
     "name": "stderr",
     "output_type": "stream",
     "text": [
      "\n",
      " 44%|████▍     | 555/1261 [17:30<21:01,  1.79s/it]\u001b[A"
     ]
    },
    {
     "name": "stdout",
     "output_type": "stream",
     "text": [
      "First net took 0.6 many second to check 342 many pictures.\n",
      "currently 0 many boxes\n",
      "After belief, still 0 many boxes. It took 0.0 many seconds.\n",
      "There are 0 centers in the centers.\n",
      "0 of 0 boxes survived the Ensemble-Check! It took 0.0 many seconds.\n",
      "No final boxes!\n",
      "More than one history box!\n",
      "We print the mean of the history boxes: [((891, 392), (1027, 486))]\n"
     ]
    },
    {
     "name": "stderr",
     "output_type": "stream",
     "text": [
      "\n",
      " 44%|████▍     | 556/1261 [17:31<19:21,  1.65s/it]\u001b[A"
     ]
    },
    {
     "name": "stdout",
     "output_type": "stream",
     "text": [
      "First net took 0.63 many second to check 342 many pictures.\n",
      "currently 0 many boxes\n",
      "After belief, still 0 many boxes. It took 0.0 many seconds.\n",
      "There are 0 centers in the centers.\n",
      "0 of 0 boxes survived the Ensemble-Check! It took 0.0 many seconds.\n",
      "No final boxes!\n",
      "More than one history box!\n",
      "We print the mean of the history boxes: [((891, 392), (1027, 486))]\n"
     ]
    },
    {
     "name": "stderr",
     "output_type": "stream",
     "text": [
      "\n",
      " 44%|████▍     | 557/1261 [17:33<18:17,  1.56s/it]\u001b[A"
     ]
    },
    {
     "name": "stdout",
     "output_type": "stream",
     "text": [
      "First net took 0.59 many second to check 342 many pictures.\n",
      "currently 0 many boxes\n",
      "After belief, still 0 many boxes. It took 0.0 many seconds.\n",
      "There are 0 centers in the centers.\n",
      "0 of 0 boxes survived the Ensemble-Check! It took 0.0 many seconds.\n",
      "No final boxes!\n",
      "More than one history box!\n",
      "We print the mean of the history boxes: [((891, 392), (1027, 486))]\n"
     ]
    },
    {
     "name": "stderr",
     "output_type": "stream",
     "text": [
      "\n",
      " 44%|████▍     | 558/1261 [17:34<17:23,  1.48s/it]\u001b[A"
     ]
    },
    {
     "name": "stdout",
     "output_type": "stream",
     "text": [
      "First net took 0.58 many second to check 342 many pictures.\n",
      "currently 0 many boxes\n",
      "After belief, still 0 many boxes. It took 0.0 many seconds.\n",
      "There are 0 centers in the centers.\n",
      "0 of 0 boxes survived the Ensemble-Check! It took 0.0 many seconds.\n",
      "No final boxes!\n",
      "More than one history box!\n",
      "We print the mean of the history boxes: [((891, 392), (1027, 486))]\n"
     ]
    },
    {
     "name": "stderr",
     "output_type": "stream",
     "text": [
      "\n",
      " 44%|████▍     | 559/1261 [17:35<16:43,  1.43s/it]\u001b[A"
     ]
    },
    {
     "name": "stdout",
     "output_type": "stream",
     "text": [
      "First net took 0.6 many second to check 342 many pictures.\n",
      "currently 0 many boxes\n",
      "After belief, still 0 many boxes. It took 0.0 many seconds.\n",
      "There are 0 centers in the centers.\n",
      "0 of 0 boxes survived the Ensemble-Check! It took 0.0 many seconds.\n",
      "No final boxes!\n",
      "More than one history box!\n",
      "We print the mean of the history boxes: [((891, 392), (1027, 486))]\n"
     ]
    },
    {
     "name": "stderr",
     "output_type": "stream",
     "text": [
      "\n",
      " 44%|████▍     | 560/1261 [17:37<16:19,  1.40s/it]\u001b[A"
     ]
    },
    {
     "name": "stdout",
     "output_type": "stream",
     "text": [
      "First net took 0.62 many second to check 342 many pictures.\n",
      "currently 0 many boxes\n",
      "After belief, still 0 many boxes. It took 0.0 many seconds.\n",
      "There are 0 centers in the centers.\n",
      "0 of 0 boxes survived the Ensemble-Check! It took 0.0 many seconds.\n",
      "No final boxes!\n",
      "More than one history box!\n",
      "We print the mean of the history boxes: [((891, 392), (1027, 486))]\n"
     ]
    },
    {
     "name": "stderr",
     "output_type": "stream",
     "text": [
      "\n",
      " 44%|████▍     | 561/1261 [17:38<16:07,  1.38s/it]\u001b[A"
     ]
    },
    {
     "name": "stdout",
     "output_type": "stream",
     "text": [
      "First net took 0.58 many second to check 342 many pictures.\n",
      "currently 0 many boxes\n",
      "After belief, still 0 many boxes. It took 0.0 many seconds.\n",
      "There are 0 centers in the centers.\n",
      "0 of 0 boxes survived the Ensemble-Check! It took 0.0 many seconds.\n",
      "No final boxes!\n",
      "More than one history box!\n",
      "We print the mean of the history boxes: [((891, 392), (1027, 486))]\n"
     ]
    },
    {
     "name": "stderr",
     "output_type": "stream",
     "text": [
      "\n",
      " 45%|████▍     | 562/1261 [17:39<15:51,  1.36s/it]\u001b[A"
     ]
    },
    {
     "name": "stdout",
     "output_type": "stream",
     "text": [
      "First net took 0.58 many second to check 342 many pictures.\n",
      "currently 0 many boxes\n",
      "After belief, still 0 many boxes. It took 0.0 many seconds.\n",
      "There are 0 centers in the centers.\n",
      "0 of 0 boxes survived the Ensemble-Check! It took 0.0 many seconds.\n",
      "No final boxes!\n",
      "More than one history box!\n",
      "We print the mean of the history boxes: [((891, 392), (1027, 486))]\n"
     ]
    },
    {
     "name": "stderr",
     "output_type": "stream",
     "text": [
      "\n",
      " 45%|████▍     | 563/1261 [17:41<15:38,  1.35s/it]\u001b[A"
     ]
    },
    {
     "name": "stdout",
     "output_type": "stream",
     "text": [
      "First net took 0.59 many second to check 342 many pictures.\n",
      "currently 0 many boxes\n",
      "After belief, still 0 many boxes. It took 0.0 many seconds.\n",
      "There are 0 centers in the centers.\n",
      "0 of 0 boxes survived the Ensemble-Check! It took 0.0 many seconds.\n",
      "No final boxes!\n",
      "More than one history box!\n",
      "We print the mean of the history boxes: [((891, 392), (1027, 486))]\n"
     ]
    },
    {
     "name": "stderr",
     "output_type": "stream",
     "text": [
      "\n",
      " 45%|████▍     | 564/1261 [17:42<15:29,  1.33s/it]\u001b[A"
     ]
    },
    {
     "name": "stdout",
     "output_type": "stream",
     "text": [
      "First net took 0.59 many second to check 342 many pictures.\n",
      "currently 0 many boxes\n",
      "After belief, still 0 many boxes. It took 0.0 many seconds.\n",
      "There are 0 centers in the centers.\n",
      "0 of 0 boxes survived the Ensemble-Check! It took 0.0 many seconds.\n",
      "No final boxes!\n",
      "More than one history box!\n",
      "We print the mean of the history boxes: [((891, 392), (1027, 486))]\n"
     ]
    },
    {
     "name": "stderr",
     "output_type": "stream",
     "text": [
      "\n",
      " 45%|████▍     | 565/1261 [17:43<15:23,  1.33s/it]\u001b[A"
     ]
    },
    {
     "name": "stdout",
     "output_type": "stream",
     "text": [
      "First net took 0.58 many second to check 342 many pictures.\n",
      "currently 0 many boxes\n",
      "After belief, still 0 many boxes. It took 0.0 many seconds.\n",
      "There are 0 centers in the centers.\n",
      "0 of 0 boxes survived the Ensemble-Check! It took 0.0 many seconds.\n",
      "No final boxes!\n",
      "More than one history box!\n",
      "We print the mean of the history boxes: [((891, 392), (1027, 486))]\n"
     ]
    },
    {
     "name": "stderr",
     "output_type": "stream",
     "text": [
      "\n",
      " 45%|████▍     | 566/1261 [17:45<15:19,  1.32s/it]\u001b[A"
     ]
    },
    {
     "name": "stdout",
     "output_type": "stream",
     "text": [
      "First net took 0.58 many second to check 342 many pictures.\n",
      "currently 0 many boxes\n",
      "After belief, still 0 many boxes. It took 0.0 many seconds.\n",
      "There are 0 centers in the centers.\n",
      "0 of 0 boxes survived the Ensemble-Check! It took 0.0 many seconds.\n",
      "No final boxes!\n",
      "More than one history box!\n",
      "We print the mean of the history boxes: [((891, 392), (1027, 486))]\n"
     ]
    },
    {
     "name": "stderr",
     "output_type": "stream",
     "text": [
      "\n",
      " 45%|████▍     | 567/1261 [17:46<15:12,  1.31s/it]\u001b[A"
     ]
    },
    {
     "name": "stdout",
     "output_type": "stream",
     "text": [
      "First net took 0.59 many second to check 342 many pictures.\n",
      "currently 2 many boxes\n",
      "After belief, still 0 many boxes. It took 0.0 many seconds.\n",
      "There are 2 centers in the centers.\n",
      "0 of 0 boxes survived the Ensemble-Check! It took 0.0 many seconds.\n",
      "No final boxes!\n",
      "More than one history box!\n",
      "We print the mean of the history boxes: [((891, 392), (1027, 486))]\n"
     ]
    },
    {
     "name": "stderr",
     "output_type": "stream",
     "text": [
      "\n",
      " 45%|████▌     | 568/1261 [17:47<15:12,  1.32s/it]\u001b[A"
     ]
    },
    {
     "name": "stdout",
     "output_type": "stream",
     "text": [
      "First net took 0.58 many second to check 342 many pictures.\n",
      "currently 2 many boxes\n",
      "After belief, still 0 many boxes. It took 0.0 many seconds.\n",
      "There are 3 centers in the centers.\n",
      "0 of 0 boxes survived the Ensemble-Check! It took 0.0 many seconds.\n",
      "No final boxes!\n",
      "More than one history box!\n",
      "We print the mean of the history boxes: [((891, 392), (1027, 486))]\n"
     ]
    },
    {
     "name": "stderr",
     "output_type": "stream",
     "text": [
      "\n",
      " 45%|████▌     | 569/1261 [17:48<15:09,  1.31s/it]\u001b[A"
     ]
    },
    {
     "name": "stdout",
     "output_type": "stream",
     "text": [
      "First net took 0.58 many second to check 342 many pictures.\n",
      "currently 2 many boxes\n",
      "After belief, still 0 many boxes. It took 0.0 many seconds.\n",
      "There are 4 centers in the centers.\n",
      "0 of 0 boxes survived the Ensemble-Check! It took 0.0 many seconds.\n",
      "No final boxes!\n",
      "More than one history box!\n",
      "We print the mean of the history boxes: [((891, 392), (1027, 486))]\n"
     ]
    },
    {
     "name": "stderr",
     "output_type": "stream",
     "text": [
      "\n",
      " 45%|████▌     | 570/1261 [17:50<15:03,  1.31s/it]\u001b[A"
     ]
    },
    {
     "name": "stdout",
     "output_type": "stream",
     "text": [
      "First net took 0.58 many second to check 342 many pictures.\n",
      "currently 2 many boxes\n",
      "After belief, still 0 many boxes. It took 0.0 many seconds.\n",
      "There are 6 centers in the centers.\n",
      "0 of 0 boxes survived the Ensemble-Check! It took 0.0 many seconds.\n",
      "No final boxes!\n",
      "More than one history box!\n",
      "We print the mean of the history boxes: [((891, 392), (1027, 486))]\n"
     ]
    },
    {
     "name": "stderr",
     "output_type": "stream",
     "text": [
      "\n",
      " 45%|████▌     | 571/1261 [17:51<15:03,  1.31s/it]\u001b[A"
     ]
    },
    {
     "name": "stdout",
     "output_type": "stream",
     "text": [
      "First net took 0.63 many second to check 342 many pictures.\n",
      "currently 2 many boxes\n",
      "After belief, still 0 many boxes. It took 0.0 many seconds.\n",
      "There are 8 centers in the centers.\n",
      "0 of 0 boxes survived the Ensemble-Check! It took 0.0 many seconds.\n",
      "No final boxes!\n",
      "More than one history box!\n",
      "We print the mean of the history boxes: [((891, 392), (1027, 486))]\n"
     ]
    },
    {
     "name": "stderr",
     "output_type": "stream",
     "text": [
      "\n",
      " 45%|████▌     | 572/1261 [17:52<15:09,  1.32s/it]\u001b[A"
     ]
    },
    {
     "name": "stdout",
     "output_type": "stream",
     "text": [
      "First net took 0.62 many second to check 342 many pictures.\n",
      "currently 3 many boxes\n",
      "After belief, still 0 many boxes. It took 0.0 many seconds.\n",
      "There are 3 centers in the centers.\n",
      "0 of 0 boxes survived the Ensemble-Check! It took 0.0 many seconds.\n",
      "No final boxes!\n",
      "More than one history box!\n",
      "We print the mean of the history boxes: [((891, 392), (1027, 486))]\n"
     ]
    },
    {
     "name": "stderr",
     "output_type": "stream",
     "text": [
      "\n",
      " 45%|████▌     | 573/1261 [17:54<15:12,  1.33s/it]\u001b[A"
     ]
    },
    {
     "name": "stdout",
     "output_type": "stream",
     "text": [
      "First net took 0.59 many second to check 342 many pictures.\n",
      "currently 1 many boxes\n",
      "After belief, still 0 many boxes. It took 0.0 many seconds.\n",
      "There are 1 centers in the centers.\n",
      "0 of 0 boxes survived the Ensemble-Check! It took 0.0 many seconds.\n",
      "No final boxes!\n",
      "More than one history box!\n",
      "We print the mean of the history boxes: [((891, 392), (1027, 486))]\n"
     ]
    },
    {
     "name": "stderr",
     "output_type": "stream",
     "text": [
      "\n",
      " 46%|████▌     | 574/1261 [17:55<15:06,  1.32s/it]\u001b[A"
     ]
    },
    {
     "name": "stdout",
     "output_type": "stream",
     "text": [
      "First net took 0.59 many second to check 342 many pictures.\n",
      "currently 1 many boxes\n",
      "After belief, still 0 many boxes. It took 0.0 many seconds.\n",
      "There are 1 centers in the centers.\n",
      "0 of 0 boxes survived the Ensemble-Check! It took 0.0 many seconds.\n",
      "No final boxes!\n",
      "More than one history box!\n",
      "We print the mean of the history boxes: [((891, 392), (1027, 486))]\n"
     ]
    },
    {
     "name": "stderr",
     "output_type": "stream",
     "text": [
      "\n",
      " 46%|████▌     | 575/1261 [17:56<15:01,  1.31s/it]\u001b[A"
     ]
    },
    {
     "name": "stdout",
     "output_type": "stream",
     "text": [
      "First net took 0.6 many second to check 342 many pictures.\n",
      "currently 1 many boxes\n",
      "After belief, still 0 many boxes. It took 0.0 many seconds.\n",
      "There are 1 centers in the centers.\n",
      "0 of 0 boxes survived the Ensemble-Check! It took 0.0 many seconds.\n",
      "No final boxes!\n",
      "More than one history box!\n",
      "We print the mean of the history boxes: [((891, 392), (1027, 486))]\n"
     ]
    },
    {
     "name": "stderr",
     "output_type": "stream",
     "text": [
      "\n",
      " 46%|████▌     | 576/1261 [17:58<15:01,  1.32s/it]\u001b[A"
     ]
    },
    {
     "name": "stdout",
     "output_type": "stream",
     "text": [
      "First net took 0.58 many second to check 342 many pictures.\n",
      "currently 0 many boxes\n",
      "After belief, still 0 many boxes. It took 0.0 many seconds.\n",
      "There are 0 centers in the centers.\n",
      "0 of 0 boxes survived the Ensemble-Check! It took 0.0 many seconds.\n",
      "No final boxes!\n",
      "More than one history box!\n",
      "We print the mean of the history boxes: [((891, 392), (1027, 486))]\n"
     ]
    },
    {
     "name": "stderr",
     "output_type": "stream",
     "text": [
      "\n",
      " 46%|████▌     | 577/1261 [17:59<14:56,  1.31s/it]\u001b[A"
     ]
    },
    {
     "name": "stdout",
     "output_type": "stream",
     "text": [
      "First net took 0.58 many second to check 342 many pictures.\n",
      "currently 0 many boxes\n",
      "After belief, still 0 many boxes. It took 0.0 many seconds.\n",
      "There are 0 centers in the centers.\n",
      "0 of 0 boxes survived the Ensemble-Check! It took 0.0 many seconds.\n",
      "No final boxes!\n",
      "More than one history box!\n",
      "We print the mean of the history boxes: [((891, 392), (1027, 486))]\n"
     ]
    },
    {
     "name": "stderr",
     "output_type": "stream",
     "text": [
      "\n",
      " 46%|████▌     | 578/1261 [18:00<14:55,  1.31s/it]\u001b[A"
     ]
    },
    {
     "name": "stdout",
     "output_type": "stream",
     "text": [
      "First net took 0.58 many second to check 342 many pictures.\n",
      "currently 0 many boxes\n",
      "After belief, still 0 many boxes. It took 0.0 many seconds.\n",
      "There are 0 centers in the centers.\n",
      "0 of 0 boxes survived the Ensemble-Check! It took 0.0 many seconds.\n",
      "No final boxes!\n",
      "More than one history box!\n",
      "We print the mean of the history boxes: [((891, 392), (1027, 486))]\n"
     ]
    },
    {
     "name": "stderr",
     "output_type": "stream",
     "text": [
      "\n",
      " 46%|████▌     | 579/1261 [18:02<14:53,  1.31s/it]\u001b[A"
     ]
    },
    {
     "name": "stdout",
     "output_type": "stream",
     "text": [
      "First net took 0.6 many second to check 342 many pictures.\n",
      "currently 0 many boxes\n",
      "After belief, still 0 many boxes. It took 0.0 many seconds.\n",
      "There are 0 centers in the centers.\n",
      "0 of 0 boxes survived the Ensemble-Check! It took 0.0 many seconds.\n",
      "No final boxes!\n",
      "More than one history box!\n",
      "We print the mean of the history boxes: [((891, 392), (1027, 486))]\n"
     ]
    },
    {
     "name": "stderr",
     "output_type": "stream",
     "text": [
      "\n",
      " 46%|████▌     | 580/1261 [18:03<14:52,  1.31s/it]\u001b[A"
     ]
    },
    {
     "name": "stdout",
     "output_type": "stream",
     "text": [
      "First net took 0.59 many second to check 342 many pictures.\n",
      "currently 0 many boxes\n",
      "After belief, still 0 many boxes. It took 0.0 many seconds.\n",
      "There are 0 centers in the centers.\n",
      "0 of 0 boxes survived the Ensemble-Check! It took 0.0 many seconds.\n",
      "No final boxes!\n",
      "More than one history box!\n",
      "We print the mean of the history boxes: [((891, 392), (1027, 486))]\n"
     ]
    },
    {
     "name": "stderr",
     "output_type": "stream",
     "text": [
      "\n",
      " 46%|████▌     | 581/1261 [18:04<14:49,  1.31s/it]\u001b[A"
     ]
    },
    {
     "name": "stdout",
     "output_type": "stream",
     "text": [
      "First net took 0.58 many second to check 342 many pictures.\n",
      "currently 1 many boxes\n",
      "After belief, still 0 many boxes. It took 0.0 many seconds.\n",
      "There are 1 centers in the centers.\n",
      "0 of 0 boxes survived the Ensemble-Check! It took 0.0 many seconds.\n",
      "No final boxes!\n",
      "More than one history box!\n",
      "We print the mean of the history boxes: [((891, 392), (1027, 486))]\n"
     ]
    },
    {
     "name": "stderr",
     "output_type": "stream",
     "text": [
      "\n",
      " 46%|████▌     | 582/1261 [18:05<14:45,  1.30s/it]\u001b[A"
     ]
    },
    {
     "name": "stdout",
     "output_type": "stream",
     "text": [
      "First net took 0.61 many second to check 342 many pictures.\n",
      "currently 1 many boxes\n",
      "After belief, still 0 many boxes. It took 0.0 many seconds.\n",
      "There are 1 centers in the centers.\n",
      "0 of 0 boxes survived the Ensemble-Check! It took 0.0 many seconds.\n",
      "No final boxes!\n",
      "More than one history box!\n",
      "We print the mean of the history boxes: [((891, 392), (1027, 486))]\n"
     ]
    },
    {
     "name": "stderr",
     "output_type": "stream",
     "text": [
      "\n",
      " 46%|████▌     | 583/1261 [18:07<14:49,  1.31s/it]\u001b[A"
     ]
    },
    {
     "name": "stdout",
     "output_type": "stream",
     "text": [
      "First net took 0.6 many second to check 342 many pictures.\n",
      "currently 1 many boxes\n",
      "After belief, still 0 many boxes. It took 0.0 many seconds.\n",
      "There are 1 centers in the centers.\n",
      "0 of 0 boxes survived the Ensemble-Check! It took 0.0 many seconds.\n",
      "No final boxes!\n",
      "More than one history box!\n",
      "We print the mean of the history boxes: [((891, 392), (1027, 486))]\n"
     ]
    },
    {
     "name": "stderr",
     "output_type": "stream",
     "text": [
      "\n",
      " 46%|████▋     | 584/1261 [18:08<14:49,  1.31s/it]\u001b[A"
     ]
    },
    {
     "name": "stdout",
     "output_type": "stream",
     "text": [
      "First net took 0.57 many second to check 342 many pictures.\n",
      "currently 1 many boxes\n",
      "After belief, still 0 many boxes. It took 0.0 many seconds.\n",
      "There are 1 centers in the centers.\n",
      "0 of 0 boxes survived the Ensemble-Check! It took 0.0 many seconds.\n",
      "No final boxes!\n",
      "More than one history box!\n",
      "We print the mean of the history boxes: [((891, 392), (1027, 486))]\n"
     ]
    },
    {
     "name": "stderr",
     "output_type": "stream",
     "text": [
      "\n",
      " 46%|████▋     | 585/1261 [18:09<14:42,  1.31s/it]\u001b[A"
     ]
    },
    {
     "name": "stdout",
     "output_type": "stream",
     "text": [
      "First net took 0.58 many second to check 342 many pictures.\n",
      "currently 1 many boxes\n",
      "After belief, still 0 many boxes. It took 0.0 many seconds.\n",
      "There are 1 centers in the centers.\n",
      "0 of 0 boxes survived the Ensemble-Check! It took 0.0 many seconds.\n",
      "No final boxes!\n",
      "More than one history box!\n",
      "We print the mean of the history boxes: [((891, 392), (1027, 486))]\n"
     ]
    },
    {
     "name": "stderr",
     "output_type": "stream",
     "text": [
      "\n",
      " 46%|████▋     | 586/1261 [18:11<14:39,  1.30s/it]\u001b[A"
     ]
    },
    {
     "name": "stdout",
     "output_type": "stream",
     "text": [
      "First net took 0.58 many second to check 342 many pictures.\n",
      "currently 1 many boxes\n",
      "After belief, still 0 many boxes. It took 0.0 many seconds.\n",
      "There are 1 centers in the centers.\n",
      "0 of 0 boxes survived the Ensemble-Check! It took 0.0 many seconds.\n",
      "No final boxes!\n",
      "More than one history box!\n",
      "We print the mean of the history boxes: [((891, 392), (1027, 486))]\n"
     ]
    },
    {
     "name": "stderr",
     "output_type": "stream",
     "text": [
      "\n",
      " 47%|████▋     | 587/1261 [18:12<14:36,  1.30s/it]\u001b[A"
     ]
    },
    {
     "name": "stdout",
     "output_type": "stream",
     "text": [
      "First net took 0.59 many second to check 342 many pictures.\n",
      "currently 0 many boxes\n",
      "After belief, still 0 many boxes. It took 0.0 many seconds.\n",
      "There are 0 centers in the centers.\n",
      "0 of 0 boxes survived the Ensemble-Check! It took 0.0 many seconds.\n",
      "No final boxes!\n",
      "More than one history box!\n",
      "We print the mean of the history boxes: [((891, 392), (1027, 486))]\n"
     ]
    },
    {
     "name": "stderr",
     "output_type": "stream",
     "text": [
      "\n",
      " 47%|████▋     | 588/1261 [18:13<14:36,  1.30s/it]\u001b[A"
     ]
    },
    {
     "name": "stdout",
     "output_type": "stream",
     "text": [
      "First net took 0.58 many second to check 342 many pictures.\n",
      "currently 1 many boxes\n",
      "After belief, still 0 many boxes. It took 0.0 many seconds.\n",
      "There are 1 centers in the centers.\n",
      "0 of 0 boxes survived the Ensemble-Check! It took 0.0 many seconds.\n",
      "No final boxes!\n",
      "More than one history box!\n",
      "We print the mean of the history boxes: [((891, 392), (1027, 486))]\n"
     ]
    },
    {
     "name": "stderr",
     "output_type": "stream",
     "text": [
      "\n",
      " 47%|████▋     | 589/1261 [18:15<14:34,  1.30s/it]\u001b[A"
     ]
    },
    {
     "name": "stdout",
     "output_type": "stream",
     "text": [
      "First net took 0.58 many second to check 342 many pictures.\n",
      "currently 1 many boxes\n",
      "After belief, still 0 many boxes. It took 0.0 many seconds.\n",
      "There are 1 centers in the centers.\n",
      "0 of 0 boxes survived the Ensemble-Check! It took 0.0 many seconds.\n",
      "No final boxes!\n",
      "More than one history box!\n",
      "We print the mean of the history boxes: [((891, 392), (1027, 486))]\n"
     ]
    },
    {
     "name": "stderr",
     "output_type": "stream",
     "text": [
      "\n",
      " 47%|████▋     | 590/1261 [18:16<14:32,  1.30s/it]\u001b[A"
     ]
    },
    {
     "name": "stdout",
     "output_type": "stream",
     "text": [
      "First net took 0.58 many second to check 342 many pictures.\n",
      "currently 0 many boxes\n",
      "After belief, still 0 many boxes. It took 0.0 many seconds.\n",
      "There are 0 centers in the centers.\n",
      "0 of 0 boxes survived the Ensemble-Check! It took 0.0 many seconds.\n",
      "No final boxes!\n",
      "More than one history box!\n",
      "We print the mean of the history boxes: [((891, 392), (1027, 486))]\n"
     ]
    },
    {
     "name": "stderr",
     "output_type": "stream",
     "text": [
      "\n",
      " 47%|████▋     | 591/1261 [18:17<14:30,  1.30s/it]\u001b[A"
     ]
    },
    {
     "name": "stdout",
     "output_type": "stream",
     "text": [
      "First net took 0.59 many second to check 342 many pictures.\n",
      "currently 0 many boxes\n",
      "After belief, still 0 many boxes. It took 0.0 many seconds.\n",
      "There are 0 centers in the centers.\n",
      "0 of 0 boxes survived the Ensemble-Check! It took 0.0 many seconds.\n",
      "No final boxes!\n",
      "More than one history box!\n",
      "We print the mean of the history boxes: [((891, 392), (1027, 486))]\n"
     ]
    },
    {
     "name": "stderr",
     "output_type": "stream",
     "text": [
      "\n",
      " 47%|████▋     | 592/1261 [18:19<14:30,  1.30s/it]\u001b[A"
     ]
    },
    {
     "name": "stdout",
     "output_type": "stream",
     "text": [
      "First net took 0.62 many second to check 342 many pictures.\n",
      "currently 0 many boxes\n",
      "After belief, still 0 many boxes. It took 0.0 many seconds.\n",
      "There are 0 centers in the centers.\n",
      "0 of 0 boxes survived the Ensemble-Check! It took 0.0 many seconds.\n",
      "No final boxes!\n",
      "More than one history box!\n",
      "We print the mean of the history boxes: [((891, 392), (1027, 486))]\n"
     ]
    },
    {
     "name": "stderr",
     "output_type": "stream",
     "text": [
      "\n",
      " 47%|████▋     | 593/1261 [18:20<14:36,  1.31s/it]\u001b[A"
     ]
    },
    {
     "name": "stdout",
     "output_type": "stream",
     "text": [
      "First net took 0.58 many second to check 342 many pictures.\n",
      "currently 0 many boxes\n",
      "After belief, still 0 many boxes. It took 0.0 many seconds.\n",
      "There are 0 centers in the centers.\n",
      "0 of 0 boxes survived the Ensemble-Check! It took 0.0 many seconds.\n",
      "No final boxes!\n",
      "More than one history box!\n",
      "We print the mean of the history boxes: [((891, 392), (1027, 486))]\n"
     ]
    },
    {
     "name": "stderr",
     "output_type": "stream",
     "text": [
      "\n",
      " 47%|████▋     | 594/1261 [18:21<14:33,  1.31s/it]\u001b[A"
     ]
    },
    {
     "name": "stdout",
     "output_type": "stream",
     "text": [
      "First net took 0.58 many second to check 342 many pictures.\n",
      "currently 0 many boxes\n",
      "After belief, still 0 many boxes. It took 0.0 many seconds.\n",
      "There are 0 centers in the centers.\n",
      "0 of 0 boxes survived the Ensemble-Check! It took 0.0 many seconds.\n",
      "No final boxes!\n",
      "More than one history box!\n",
      "We print the mean of the history boxes: [((891, 392), (1027, 486))]\n"
     ]
    },
    {
     "name": "stderr",
     "output_type": "stream",
     "text": [
      "\n",
      " 47%|████▋     | 595/1261 [18:22<14:28,  1.30s/it]\u001b[A"
     ]
    },
    {
     "name": "stdout",
     "output_type": "stream",
     "text": [
      "First net took 0.6 many second to check 342 many pictures.\n",
      "currently 0 many boxes\n",
      "After belief, still 0 many boxes. It took 0.0 many seconds.\n",
      "There are 0 centers in the centers.\n",
      "0 of 0 boxes survived the Ensemble-Check! It took 0.0 many seconds.\n",
      "No final boxes!\n",
      "More than one history box!\n",
      "We print the mean of the history boxes: [((891, 392), (1027, 486))]\n"
     ]
    },
    {
     "name": "stderr",
     "output_type": "stream",
     "text": [
      "\n",
      " 47%|████▋     | 596/1261 [18:24<14:30,  1.31s/it]\u001b[A"
     ]
    },
    {
     "name": "stdout",
     "output_type": "stream",
     "text": [
      "First net took 0.58 many second to check 342 many pictures.\n",
      "currently 2 many boxes\n",
      "After belief, still 0 many boxes. It took 0.0 many seconds.\n",
      "There are 2 centers in the centers.\n",
      "0 of 0 boxes survived the Ensemble-Check! It took 0.0 many seconds.\n",
      "No final boxes!\n",
      "More than one history box!\n",
      "We print the mean of the history boxes: [((891, 392), (1027, 486))]\n"
     ]
    },
    {
     "name": "stderr",
     "output_type": "stream",
     "text": [
      "\n",
      " 47%|████▋     | 597/1261 [18:25<14:27,  1.31s/it]\u001b[A"
     ]
    },
    {
     "name": "stdout",
     "output_type": "stream",
     "text": [
      "First net took 0.58 many second to check 342 many pictures.\n",
      "currently 1 many boxes\n",
      "After belief, still 0 many boxes. It took 0.0 many seconds.\n",
      "There are 1 centers in the centers.\n",
      "0 of 0 boxes survived the Ensemble-Check! It took 0.0 many seconds.\n",
      "No final boxes!\n",
      "More than one history box!\n",
      "We print the mean of the history boxes: [((891, 392), (1027, 486))]\n"
     ]
    },
    {
     "name": "stderr",
     "output_type": "stream",
     "text": [
      "\n",
      " 47%|████▋     | 598/1261 [18:26<14:26,  1.31s/it]\u001b[A"
     ]
    },
    {
     "name": "stdout",
     "output_type": "stream",
     "text": [
      "First net took 0.58 many second to check 342 many pictures.\n",
      "currently 1 many boxes\n",
      "After belief, still 0 many boxes. It took 0.0 many seconds.\n",
      "There are 1 centers in the centers.\n",
      "0 of 0 boxes survived the Ensemble-Check! It took 0.0 many seconds.\n",
      "No final boxes!\n",
      "More than one history box!\n",
      "We print the mean of the history boxes: [((891, 392), (1027, 486))]\n"
     ]
    },
    {
     "name": "stderr",
     "output_type": "stream",
     "text": [
      "\n",
      " 48%|████▊     | 599/1261 [18:28<14:24,  1.31s/it]\u001b[A"
     ]
    },
    {
     "name": "stdout",
     "output_type": "stream",
     "text": [
      "First net took 0.59 many second to check 342 many pictures.\n",
      "currently 2 many boxes\n",
      "After belief, still 0 many boxes. It took 0.0 many seconds.\n",
      "There are 2 centers in the centers.\n",
      "0 of 0 boxes survived the Ensemble-Check! It took 0.0 many seconds.\n",
      "No final boxes!\n",
      "More than one history box!\n",
      "We print the mean of the history boxes: [((891, 392), (1027, 486))]\n"
     ]
    },
    {
     "name": "stderr",
     "output_type": "stream",
     "text": [
      "\n",
      " 48%|████▊     | 600/1261 [18:29<14:23,  1.31s/it]\u001b[A"
     ]
    },
    {
     "name": "stdout",
     "output_type": "stream",
     "text": [
      "First net took 0.59 many second to check 342 many pictures.\n",
      "currently 2 many boxes\n",
      "After belief, still 0 many boxes. It took 0.0 many seconds.\n",
      "There are 2 centers in the centers.\n",
      "0 of 0 boxes survived the Ensemble-Check! It took 0.0 many seconds.\n",
      "No final boxes!\n",
      "More than one history box!\n",
      "We print the mean of the history boxes: [((891, 392), (1027, 486))]\n"
     ]
    },
    {
     "name": "stderr",
     "output_type": "stream",
     "text": [
      "\n",
      " 48%|████▊     | 601/1261 [18:30<14:22,  1.31s/it]\u001b[A"
     ]
    },
    {
     "name": "stdout",
     "output_type": "stream",
     "text": [
      "First net took 0.58 many second to check 342 many pictures.\n",
      "currently 2 many boxes\n",
      "After belief, still 0 many boxes. It took 0.0 many seconds.\n",
      "There are 2 centers in the centers.\n",
      "0 of 0 boxes survived the Ensemble-Check! It took 0.0 many seconds.\n",
      "No final boxes!\n",
      "More than one history box!\n",
      "We print the mean of the history boxes: [((891, 392), (1027, 486))]\n"
     ]
    },
    {
     "name": "stderr",
     "output_type": "stream",
     "text": [
      "\n",
      " 48%|████▊     | 602/1261 [18:32<14:19,  1.30s/it]\u001b[A"
     ]
    },
    {
     "name": "stdout",
     "output_type": "stream",
     "text": [
      "First net took 0.58 many second to check 342 many pictures.\n",
      "currently 0 many boxes\n",
      "After belief, still 0 many boxes. It took 0.0 many seconds.\n",
      "There are 0 centers in the centers.\n",
      "0 of 0 boxes survived the Ensemble-Check! It took 0.0 many seconds.\n",
      "No final boxes!\n",
      "More than one history box!\n",
      "We print the mean of the history boxes: [((891, 392), (1027, 486))]\n"
     ]
    },
    {
     "name": "stderr",
     "output_type": "stream",
     "text": [
      "\n",
      " 48%|████▊     | 603/1261 [18:33<14:15,  1.30s/it]\u001b[A"
     ]
    },
    {
     "name": "stdout",
     "output_type": "stream",
     "text": [
      "First net took 0.59 many second to check 342 many pictures.\n",
      "currently 0 many boxes\n",
      "After belief, still 0 many boxes. It took 0.0 many seconds.\n",
      "There are 0 centers in the centers.\n",
      "0 of 0 boxes survived the Ensemble-Check! It took 0.0 many seconds.\n",
      "No final boxes!\n",
      "More than one history box!\n",
      "We print the mean of the history boxes: [((891, 392), (1027, 486))]\n"
     ]
    },
    {
     "name": "stderr",
     "output_type": "stream",
     "text": [
      "\n",
      " 48%|████▊     | 604/1261 [18:34<14:15,  1.30s/it]\u001b[A"
     ]
    },
    {
     "name": "stdout",
     "output_type": "stream",
     "text": [
      "First net took 0.58 many second to check 342 many pictures.\n",
      "currently 0 many boxes\n",
      "After belief, still 0 many boxes. It took 0.0 many seconds.\n",
      "There are 0 centers in the centers.\n",
      "0 of 0 boxes survived the Ensemble-Check! It took 0.0 many seconds.\n",
      "No final boxes!\n",
      "More than one history box!\n",
      "We print the mean of the history boxes: [((891, 392), (1027, 486))]\n"
     ]
    },
    {
     "name": "stderr",
     "output_type": "stream",
     "text": [
      "\n",
      " 48%|████▊     | 605/1261 [18:36<14:16,  1.31s/it]\u001b[A"
     ]
    },
    {
     "name": "stdout",
     "output_type": "stream",
     "text": [
      "First net took 0.58 many second to check 342 many pictures.\n",
      "currently 1 many boxes\n",
      "After belief, still 0 many boxes. It took 0.0 many seconds.\n",
      "There are 1 centers in the centers.\n",
      "0 of 0 boxes survived the Ensemble-Check! It took 0.0 many seconds.\n",
      "No final boxes!\n",
      "More than one history box!\n",
      "We print the mean of the history boxes: [((891, 392), (1027, 486))]\n"
     ]
    },
    {
     "name": "stderr",
     "output_type": "stream",
     "text": [
      "\n",
      " 48%|████▊     | 606/1261 [18:37<14:15,  1.31s/it]\u001b[A"
     ]
    },
    {
     "name": "stdout",
     "output_type": "stream",
     "text": [
      "First net took 0.58 many second to check 342 many pictures.\n",
      "currently 1 many boxes\n",
      "After belief, still 0 many boxes. It took 0.0 many seconds.\n",
      "There are 1 centers in the centers.\n",
      "0 of 0 boxes survived the Ensemble-Check! It took 0.0 many seconds.\n",
      "No final boxes!\n",
      "More than one history box!\n",
      "We print the mean of the history boxes: [((891, 392), (1027, 486))]\n"
     ]
    },
    {
     "name": "stderr",
     "output_type": "stream",
     "text": [
      "\n",
      " 48%|████▊     | 607/1261 [18:38<14:13,  1.30s/it]\u001b[A"
     ]
    },
    {
     "name": "stdout",
     "output_type": "stream",
     "text": [
      "First net took 0.61 many second to check 342 many pictures.\n",
      "currently 1 many boxes\n",
      "After belief, still 0 many boxes. It took 0.0 many seconds.\n",
      "There are 1 centers in the centers.\n",
      "0 of 0 boxes survived the Ensemble-Check! It took 0.0 many seconds.\n",
      "No final boxes!\n",
      "More than one history box!\n",
      "We print the mean of the history boxes: [((891, 392), (1027, 486))]\n"
     ]
    },
    {
     "name": "stderr",
     "output_type": "stream",
     "text": [
      "\n",
      " 48%|████▊     | 608/1261 [18:39<14:17,  1.31s/it]\u001b[A"
     ]
    },
    {
     "name": "stdout",
     "output_type": "stream",
     "text": [
      "First net took 0.62 many second to check 342 many pictures.\n",
      "currently 3 many boxes\n",
      "After belief, still 0 many boxes. It took 0.0 many seconds.\n",
      "There are 4 centers in the centers.\n",
      "0 of 0 boxes survived the Ensemble-Check! It took 0.0 many seconds.\n",
      "No final boxes!\n",
      "More than one history box!\n",
      "We print the mean of the history boxes: [((891, 392), (1027, 486))]\n"
     ]
    },
    {
     "name": "stderr",
     "output_type": "stream",
     "text": [
      "\n",
      " 48%|████▊     | 609/1261 [18:41<14:24,  1.33s/it]\u001b[A"
     ]
    },
    {
     "name": "stdout",
     "output_type": "stream",
     "text": [
      "First net took 0.58 many second to check 342 many pictures.\n",
      "currently 2 many boxes\n",
      "After belief, still 0 many boxes. It took 0.0 many seconds.\n",
      "There are 4 centers in the centers.\n",
      "0 of 0 boxes survived the Ensemble-Check! It took 0.0 many seconds.\n",
      "No final boxes!\n",
      "More than one history box!\n",
      "We print the mean of the history boxes: [((891, 392), (1027, 486))]\n"
     ]
    },
    {
     "name": "stderr",
     "output_type": "stream",
     "text": [
      "\n",
      " 48%|████▊     | 610/1261 [18:42<14:20,  1.32s/it]\u001b[A"
     ]
    },
    {
     "name": "stdout",
     "output_type": "stream",
     "text": [
      "First net took 0.58 many second to check 342 many pictures.\n",
      "currently 2 many boxes\n",
      "After belief, still 0 many boxes. It took 0.0 many seconds.\n",
      "There are 2 centers in the centers.\n",
      "0 of 0 boxes survived the Ensemble-Check! It took 0.0 many seconds.\n",
      "No final boxes!\n",
      "More than one history box!\n",
      "We print the mean of the history boxes: [((891, 392), (1027, 486))]\n"
     ]
    },
    {
     "name": "stderr",
     "output_type": "stream",
     "text": [
      "\n",
      " 48%|████▊     | 611/1261 [18:43<14:17,  1.32s/it]\u001b[A"
     ]
    },
    {
     "name": "stdout",
     "output_type": "stream",
     "text": [
      "First net took 0.6 many second to check 342 many pictures.\n",
      "currently 4 many boxes\n",
      "After belief, still 0 many boxes. It took 0.0 many seconds.\n",
      "There are 5 centers in the centers.\n",
      "0 of 0 boxes survived the Ensemble-Check! It took 0.0 many seconds.\n",
      "No final boxes!\n",
      "More than one history box!\n",
      "We print the mean of the history boxes: [((891, 392), (1027, 486))]\n"
     ]
    },
    {
     "name": "stderr",
     "output_type": "stream",
     "text": [
      "\n",
      " 49%|████▊     | 612/1261 [18:45<14:19,  1.32s/it]\u001b[A"
     ]
    },
    {
     "name": "stdout",
     "output_type": "stream",
     "text": [
      "First net took 0.58 many second to check 342 many pictures.\n",
      "currently 4 many boxes\n",
      "After belief, still 0 many boxes. It took 0.0 many seconds.\n",
      "There are 7 centers in the centers.\n",
      "0 of 0 boxes survived the Ensemble-Check! It took 0.0 many seconds.\n",
      "No final boxes!\n",
      "More than one history box!\n",
      "We print the mean of the history boxes: [((891, 392), (1027, 486))]\n"
     ]
    },
    {
     "name": "stderr",
     "output_type": "stream",
     "text": [
      "\n",
      " 49%|████▊     | 613/1261 [18:46<14:18,  1.33s/it]\u001b[A"
     ]
    },
    {
     "name": "stdout",
     "output_type": "stream",
     "text": [
      "First net took 0.58 many second to check 342 many pictures.\n",
      "currently 4 many boxes\n",
      "After belief, still 0 many boxes. It took 0.0 many seconds.\n",
      "There are 9 centers in the centers.\n",
      "0 of 0 boxes survived the Ensemble-Check! It took 0.0 many seconds.\n",
      "No final boxes!\n",
      "More than one history box!\n",
      "We print the mean of the history boxes: [((891, 392), (1027, 486))]\n"
     ]
    },
    {
     "name": "stderr",
     "output_type": "stream",
     "text": [
      "\n",
      " 49%|████▊     | 614/1261 [18:47<14:16,  1.32s/it]\u001b[A"
     ]
    },
    {
     "name": "stdout",
     "output_type": "stream",
     "text": [
      "First net took 0.58 many second to check 342 many pictures.\n",
      "currently 3 many boxes\n",
      "After belief, still 0 many boxes. It took 0.0 many seconds.\n",
      "There are 10 centers in the centers.\n",
      "0 of 0 boxes survived the Ensemble-Check! It took 0.0 many seconds.\n",
      "No final boxes!\n",
      "More than one history box!\n",
      "We print the mean of the history boxes: [((891, 392), (1027, 486))]\n"
     ]
    },
    {
     "name": "stderr",
     "output_type": "stream",
     "text": [
      "\n",
      " 49%|████▉     | 615/1261 [18:49<14:13,  1.32s/it]\u001b[A"
     ]
    },
    {
     "name": "stdout",
     "output_type": "stream",
     "text": [
      "First net took 0.61 many second to check 342 many pictures.\n",
      "currently 3 many boxes\n",
      "After belief, still 0 many boxes. It took 0.0 many seconds.\n",
      "There are 11 centers in the centers.\n",
      "0 of 0 boxes survived the Ensemble-Check! It took 0.0 many seconds.\n",
      "No final boxes!\n",
      "More than one history box!\n",
      "We print the mean of the history boxes: [((891, 392), (1027, 486))]\n"
     ]
    },
    {
     "name": "stderr",
     "output_type": "stream",
     "text": [
      "\n",
      " 49%|████▉     | 616/1261 [18:50<14:03,  1.31s/it]\u001b[A"
     ]
    },
    {
     "name": "stdout",
     "output_type": "stream",
     "text": [
      "First net took 0.58 many second to check 342 many pictures.\n",
      "currently 3 many boxes\n",
      "After belief, still 0 many boxes. It took 0.0 many seconds.\n",
      "There are 13 centers in the centers.\n",
      "0 of 0 boxes survived the Ensemble-Check! It took 0.0 many seconds.\n",
      "No final boxes!\n",
      "More than one history box!\n",
      "We print the mean of the history boxes: [((891, 392), (1027, 486))]\n"
     ]
    },
    {
     "name": "stderr",
     "output_type": "stream",
     "text": [
      "\n",
      " 49%|████▉     | 617/1261 [18:51<13:52,  1.29s/it]\u001b[A"
     ]
    },
    {
     "name": "stdout",
     "output_type": "stream",
     "text": [
      "First net took 0.61 many second to check 342 many pictures.\n",
      "currently 3 many boxes\n",
      "After belief, still 0 many boxes. It took 0.0 many seconds.\n",
      "There are 15 centers in the centers.\n",
      "0 of 0 boxes survived the Ensemble-Check! It took 0.0 many seconds.\n",
      "No final boxes!\n",
      "More than one history box!\n",
      "We print the mean of the history boxes: [((891, 392), (1027, 486))]\n"
     ]
    },
    {
     "name": "stderr",
     "output_type": "stream",
     "text": [
      "\n",
      " 49%|████▉     | 618/1261 [18:53<13:50,  1.29s/it]\u001b[A"
     ]
    },
    {
     "name": "stdout",
     "output_type": "stream",
     "text": [
      "First net took 0.58 many second to check 342 many pictures.\n",
      "currently 3 many boxes\n",
      "After belief, still 0 many boxes. It took 0.0 many seconds.\n",
      "There are 14 centers in the centers.\n",
      "0 of 0 boxes survived the Ensemble-Check! It took 0.0 many seconds.\n",
      "No final boxes!\n",
      "More than one history box!\n",
      "We print the mean of the history boxes: [((891, 392), (1027, 486))]\n"
     ]
    },
    {
     "name": "stderr",
     "output_type": "stream",
     "text": [
      "\n",
      " 49%|████▉     | 619/1261 [18:54<13:43,  1.28s/it]\u001b[A"
     ]
    },
    {
     "name": "stdout",
     "output_type": "stream",
     "text": [
      "First net took 0.6 many second to check 342 many pictures.\n",
      "currently 3 many boxes\n",
      "After belief, still 0 many boxes. It took 0.0 many seconds.\n",
      "There are 15 centers in the centers.\n",
      "0 of 0 boxes survived the Ensemble-Check! It took 0.0 many seconds.\n",
      "No final boxes!\n",
      "More than one history box!\n",
      "We print the mean of the history boxes: [((891, 392), (1027, 486))]\n"
     ]
    },
    {
     "name": "stderr",
     "output_type": "stream",
     "text": [
      "\n",
      " 49%|████▉     | 620/1261 [18:55<13:40,  1.28s/it]\u001b[A"
     ]
    },
    {
     "name": "stdout",
     "output_type": "stream",
     "text": [
      "First net took 0.58 many second to check 342 many pictures.\n",
      "currently 2 many boxes\n",
      "After belief, still 1 many boxes. It took 0.0 many seconds.\n",
      "There are 15 centers in the centers.\n",
      "Deleted Box!\n",
      "0 of 1 boxes survived the Ensemble-Check! It took 0.96 many seconds.\n",
      "No final boxes!\n",
      "More than one history box!\n",
      "We print the mean of the history boxes: [((891, 392), (1027, 486))]\n"
     ]
    },
    {
     "name": "stderr",
     "output_type": "stream",
     "text": [
      "\n",
      " 49%|████▉     | 621/1261 [18:57<16:40,  1.56s/it]\u001b[A"
     ]
    },
    {
     "name": "stdout",
     "output_type": "stream",
     "text": [
      "First net took 0.58 many second to check 342 many pictures.\n",
      "currently 3 many boxes\n",
      "After belief, still 0 many boxes. It took 0.0 many seconds.\n",
      "There are 3 centers in the centers.\n",
      "0 of 0 boxes survived the Ensemble-Check! It took 0.0 many seconds.\n",
      "No final boxes!\n",
      "More than one history box!\n",
      "We print the mean of the history boxes: [((891, 392), (1027, 486))]\n"
     ]
    },
    {
     "name": "stderr",
     "output_type": "stream",
     "text": [
      "\n",
      " 49%|████▉     | 622/1261 [18:59<15:41,  1.47s/it]\u001b[A"
     ]
    },
    {
     "name": "stdout",
     "output_type": "stream",
     "text": [
      "First net took 0.58 many second to check 342 many pictures.\n",
      "currently 2 many boxes\n",
      "After belief, still 0 many boxes. It took 0.0 many seconds.\n",
      "There are 3 centers in the centers.\n",
      "0 of 0 boxes survived the Ensemble-Check! It took 0.0 many seconds.\n",
      "No final boxes!\n",
      "More than one history box!\n",
      "We print the mean of the history boxes: [((891, 392), (1027, 486))]\n"
     ]
    },
    {
     "name": "stderr",
     "output_type": "stream",
     "text": [
      "\n",
      " 49%|████▉     | 623/1261 [19:00<14:57,  1.41s/it]\u001b[A"
     ]
    },
    {
     "name": "stdout",
     "output_type": "stream",
     "text": [
      "First net took 0.6 many second to check 342 many pictures.\n",
      "currently 3 many boxes\n",
      "After belief, still 0 many boxes. It took 0.0 many seconds.\n",
      "There are 5 centers in the centers.\n",
      "0 of 0 boxes survived the Ensemble-Check! It took 0.0 many seconds.\n",
      "No final boxes!\n",
      "More than one history box!\n",
      "We print the mean of the history boxes: [((891, 392), (1027, 486))]\n"
     ]
    },
    {
     "name": "stderr",
     "output_type": "stream",
     "text": [
      "\n",
      " 49%|████▉     | 624/1261 [19:01<14:32,  1.37s/it]\u001b[A"
     ]
    },
    {
     "name": "stdout",
     "output_type": "stream",
     "text": [
      "First net took 0.58 many second to check 342 many pictures.\n",
      "currently 3 many boxes\n",
      "After belief, still 0 many boxes. It took 0.0 many seconds.\n",
      "There are 6 centers in the centers.\n",
      "0 of 0 boxes survived the Ensemble-Check! It took 0.0 many seconds.\n",
      "No final boxes!\n",
      "More than one history box!\n",
      "We print the mean of the history boxes: [((891, 392), (1027, 486))]\n"
     ]
    },
    {
     "name": "stderr",
     "output_type": "stream",
     "text": [
      "\n",
      " 50%|████▉     | 625/1261 [19:02<14:09,  1.34s/it]\u001b[A"
     ]
    },
    {
     "name": "stdout",
     "output_type": "stream",
     "text": [
      "First net took 0.59 many second to check 342 many pictures.\n",
      "currently 3 many boxes\n",
      "After belief, still 0 many boxes. It took 0.0 many seconds.\n",
      "There are 7 centers in the centers.\n",
      "0 of 0 boxes survived the Ensemble-Check! It took 0.0 many seconds.\n",
      "No final boxes!\n",
      "More than one history box!\n",
      "We print the mean of the history boxes: [((891, 392), (1027, 486))]\n"
     ]
    },
    {
     "name": "stderr",
     "output_type": "stream",
     "text": [
      "\n",
      " 50%|████▉     | 626/1261 [19:04<13:52,  1.31s/it]\u001b[A"
     ]
    },
    {
     "name": "stdout",
     "output_type": "stream",
     "text": [
      "First net took 0.58 many second to check 342 many pictures.\n",
      "currently 3 many boxes\n",
      "After belief, still 0 many boxes. It took 0.0 many seconds.\n",
      "There are 8 centers in the centers.\n",
      "0 of 0 boxes survived the Ensemble-Check! It took 0.0 many seconds.\n",
      "No final boxes!\n",
      "More than one history box!\n",
      "We print the mean of the history boxes: [((891, 392), (1027, 486))]\n"
     ]
    },
    {
     "name": "stderr",
     "output_type": "stream",
     "text": [
      "\n",
      " 50%|████▉     | 627/1261 [19:05<13:38,  1.29s/it]\u001b[A"
     ]
    },
    {
     "name": "stdout",
     "output_type": "stream",
     "text": [
      "First net took 0.6 many second to check 342 many pictures.\n",
      "currently 3 many boxes\n",
      "After belief, still 0 many boxes. It took 0.0 many seconds.\n",
      "There are 10 centers in the centers.\n",
      "0 of 0 boxes survived the Ensemble-Check! It took 0.0 many seconds.\n",
      "No final boxes!\n",
      "More than one history box!\n",
      "We print the mean of the history boxes: [((891, 392), (1027, 486))]\n"
     ]
    },
    {
     "name": "stderr",
     "output_type": "stream",
     "text": [
      "\n",
      " 50%|████▉     | 628/1261 [19:06<13:56,  1.32s/it]\u001b[A"
     ]
    },
    {
     "name": "stdout",
     "output_type": "stream",
     "text": [
      "First net took 0.58 many second to check 342 many pictures.\n",
      "currently 3 many boxes\n",
      "After belief, still 0 many boxes. It took 0.0 many seconds.\n",
      "There are 12 centers in the centers.\n",
      "0 of 0 boxes survived the Ensemble-Check! It took 0.0 many seconds.\n",
      "No final boxes!\n",
      "More than one history box!\n",
      "We print the mean of the history boxes: [((891, 392), (1027, 486))]\n"
     ]
    },
    {
     "name": "stderr",
     "output_type": "stream",
     "text": [
      "\n",
      " 50%|████▉     | 629/1261 [19:08<13:42,  1.30s/it]\u001b[A"
     ]
    },
    {
     "name": "stdout",
     "output_type": "stream",
     "text": [
      "First net took 0.58 many second to check 342 many pictures.\n",
      "currently 3 many boxes\n",
      "After belief, still 0 many boxes. It took 0.0 many seconds.\n",
      "There are 3 centers in the centers.\n",
      "0 of 0 boxes survived the Ensemble-Check! It took 0.0 many seconds.\n",
      "No final boxes!\n",
      "More than one history box!\n",
      "We print the mean of the history boxes: [((891, 392), (1027, 486))]\n"
     ]
    },
    {
     "name": "stderr",
     "output_type": "stream",
     "text": [
      "\n",
      " 50%|████▉     | 630/1261 [19:09<13:31,  1.29s/it]\u001b[A"
     ]
    },
    {
     "name": "stdout",
     "output_type": "stream",
     "text": [
      "First net took 0.58 many second to check 342 many pictures.\n",
      "currently 3 many boxes\n",
      "After belief, still 0 many boxes. It took 0.0 many seconds.\n",
      "There are 3 centers in the centers.\n",
      "0 of 0 boxes survived the Ensemble-Check! It took 0.0 many seconds.\n",
      "No final boxes!\n",
      "More than one history box!\n",
      "We print the mean of the history boxes: [((891, 392), (1027, 486))]\n"
     ]
    },
    {
     "name": "stderr",
     "output_type": "stream",
     "text": [
      "\n",
      " 50%|█████     | 631/1261 [19:10<13:25,  1.28s/it]\u001b[A"
     ]
    },
    {
     "name": "stdout",
     "output_type": "stream",
     "text": [
      "First net took 0.59 many second to check 342 many pictures.\n",
      "currently 1 many boxes\n",
      "After belief, still 0 many boxes. It took 0.0 many seconds.\n",
      "There are 1 centers in the centers.\n",
      "0 of 0 boxes survived the Ensemble-Check! It took 0.0 many seconds.\n",
      "No final boxes!\n",
      "More than one history box!\n",
      "We print the mean of the history boxes: [((891, 392), (1027, 486))]\n"
     ]
    },
    {
     "name": "stderr",
     "output_type": "stream",
     "text": [
      "\n",
      " 50%|█████     | 632/1261 [19:11<13:21,  1.27s/it]\u001b[A"
     ]
    },
    {
     "name": "stdout",
     "output_type": "stream",
     "text": [
      "First net took 0.58 many second to check 342 many pictures.\n",
      "currently 0 many boxes\n",
      "After belief, still 0 many boxes. It took 0.0 many seconds.\n",
      "There are 0 centers in the centers.\n",
      "0 of 0 boxes survived the Ensemble-Check! It took 0.0 many seconds.\n",
      "No final boxes!\n",
      "More than one history box!\n",
      "We print the mean of the history boxes: [((891, 392), (1027, 486))]\n"
     ]
    },
    {
     "name": "stderr",
     "output_type": "stream",
     "text": [
      "\n",
      " 50%|█████     | 633/1261 [19:13<13:15,  1.27s/it]\u001b[A"
     ]
    },
    {
     "name": "stdout",
     "output_type": "stream",
     "text": [
      "First net took 0.58 many second to check 342 many pictures.\n",
      "currently 0 many boxes\n",
      "After belief, still 0 many boxes. It took 0.0 many seconds.\n",
      "There are 0 centers in the centers.\n",
      "0 of 0 boxes survived the Ensemble-Check! It took 0.0 many seconds.\n",
      "No final boxes!\n",
      "More than one history box!\n",
      "We print the mean of the history boxes: [((891, 392), (1027, 486))]\n"
     ]
    },
    {
     "name": "stderr",
     "output_type": "stream",
     "text": [
      "\n",
      " 50%|█████     | 634/1261 [19:14<13:10,  1.26s/it]\u001b[A"
     ]
    },
    {
     "name": "stdout",
     "output_type": "stream",
     "text": [
      "First net took 0.58 many second to check 342 many pictures.\n",
      "currently 0 many boxes\n",
      "After belief, still 0 many boxes. It took 0.0 many seconds.\n",
      "There are 0 centers in the centers.\n",
      "0 of 0 boxes survived the Ensemble-Check! It took 0.0 many seconds.\n",
      "No final boxes!\n",
      "More than one history box!\n",
      "We print the mean of the history boxes: [((891, 392), (1027, 486))]\n"
     ]
    },
    {
     "name": "stderr",
     "output_type": "stream",
     "text": [
      "\n",
      " 50%|█████     | 635/1261 [19:15<13:06,  1.26s/it]\u001b[A"
     ]
    },
    {
     "name": "stdout",
     "output_type": "stream",
     "text": [
      "First net took 0.59 many second to check 342 many pictures.\n",
      "currently 0 many boxes\n",
      "After belief, still 0 many boxes. It took 0.0 many seconds.\n",
      "There are 0 centers in the centers.\n",
      "0 of 0 boxes survived the Ensemble-Check! It took 0.0 many seconds.\n",
      "No final boxes!\n",
      "More than one history box!\n",
      "We print the mean of the history boxes: [((891, 392), (1027, 486))]\n"
     ]
    },
    {
     "name": "stderr",
     "output_type": "stream",
     "text": [
      "\n",
      " 50%|█████     | 636/1261 [19:16<13:05,  1.26s/it]\u001b[A"
     ]
    },
    {
     "name": "stdout",
     "output_type": "stream",
     "text": [
      "First net took 0.58 many second to check 342 many pictures.\n",
      "currently 0 many boxes\n",
      "After belief, still 0 many boxes. It took 0.0 many seconds.\n",
      "There are 0 centers in the centers.\n",
      "0 of 0 boxes survived the Ensemble-Check! It took 0.0 many seconds.\n",
      "No final boxes!\n",
      "More than one history box!\n",
      "We print the mean of the history boxes: [((891, 392), (1027, 486))]\n"
     ]
    },
    {
     "name": "stderr",
     "output_type": "stream",
     "text": [
      "\n",
      " 51%|█████     | 637/1261 [19:18<13:07,  1.26s/it]\u001b[A"
     ]
    },
    {
     "name": "stdout",
     "output_type": "stream",
     "text": [
      "First net took 0.58 many second to check 342 many pictures.\n",
      "currently 0 many boxes\n",
      "After belief, still 0 many boxes. It took 0.0 many seconds.\n",
      "There are 0 centers in the centers.\n",
      "0 of 0 boxes survived the Ensemble-Check! It took 0.0 many seconds.\n",
      "No final boxes!\n",
      "More than one history box!\n",
      "We print the mean of the history boxes: [((891, 392), (1027, 486))]\n"
     ]
    },
    {
     "name": "stderr",
     "output_type": "stream",
     "text": [
      "\n",
      " 51%|█████     | 638/1261 [19:19<13:02,  1.26s/it]\u001b[A"
     ]
    },
    {
     "name": "stdout",
     "output_type": "stream",
     "text": [
      "First net took 0.58 many second to check 342 many pictures.\n",
      "currently 0 many boxes\n",
      "After belief, still 0 many boxes. It took 0.0 many seconds.\n",
      "There are 0 centers in the centers.\n",
      "0 of 0 boxes survived the Ensemble-Check! It took 0.0 many seconds.\n",
      "No final boxes!\n",
      "More than one history box!\n",
      "We print the mean of the history boxes: [((891, 392), (1027, 486))]\n"
     ]
    },
    {
     "name": "stderr",
     "output_type": "stream",
     "text": [
      "\n",
      " 51%|█████     | 639/1261 [19:20<12:58,  1.25s/it]\u001b[A"
     ]
    },
    {
     "name": "stdout",
     "output_type": "stream",
     "text": [
      "First net took 0.59 many second to check 342 many pictures.\n",
      "currently 0 many boxes\n",
      "After belief, still 0 many boxes. It took 0.0 many seconds.\n",
      "There are 0 centers in the centers.\n",
      "0 of 0 boxes survived the Ensemble-Check! It took 0.0 many seconds.\n",
      "No final boxes!\n",
      "More than one history box!\n",
      "We print the mean of the history boxes: [((891, 392), (1027, 486))]\n"
     ]
    },
    {
     "name": "stderr",
     "output_type": "stream",
     "text": [
      "\n",
      " 51%|█████     | 640/1261 [19:21<12:58,  1.25s/it]\u001b[A"
     ]
    },
    {
     "name": "stdout",
     "output_type": "stream",
     "text": [
      "First net took 0.58 many second to check 342 many pictures.\n",
      "currently 0 many boxes\n",
      "After belief, still 0 many boxes. It took 0.0 many seconds.\n",
      "There are 0 centers in the centers.\n",
      "0 of 0 boxes survived the Ensemble-Check! It took 0.0 many seconds.\n",
      "No final boxes!\n",
      "More than one history box!\n",
      "We print the mean of the history boxes: [((891, 392), (1027, 486))]\n"
     ]
    },
    {
     "name": "stderr",
     "output_type": "stream",
     "text": [
      "\n",
      " 51%|█████     | 641/1261 [19:23<12:55,  1.25s/it]\u001b[A"
     ]
    },
    {
     "name": "stdout",
     "output_type": "stream",
     "text": [
      "First net took 0.57 many second to check 342 many pictures.\n",
      "currently 0 many boxes\n",
      "After belief, still 0 many boxes. It took 0.0 many seconds.\n",
      "There are 0 centers in the centers.\n",
      "0 of 0 boxes survived the Ensemble-Check! It took 0.0 many seconds.\n",
      "No final boxes!\n",
      "More than one history box!\n",
      "We print the mean of the history boxes: [((891, 392), (1027, 486))]\n"
     ]
    },
    {
     "name": "stderr",
     "output_type": "stream",
     "text": [
      "\n",
      " 51%|█████     | 642/1261 [19:24<12:51,  1.25s/it]\u001b[A"
     ]
    },
    {
     "name": "stdout",
     "output_type": "stream",
     "text": [
      "First net took 0.59 many second to check 342 many pictures.\n",
      "currently 0 many boxes\n",
      "After belief, still 0 many boxes. It took 0.0 many seconds.\n",
      "There are 0 centers in the centers.\n",
      "0 of 0 boxes survived the Ensemble-Check! It took 0.0 many seconds.\n",
      "No final boxes!\n",
      "More than one history box!\n",
      "We print the mean of the history boxes: [((891, 392), (1027, 486))]\n"
     ]
    },
    {
     "name": "stderr",
     "output_type": "stream",
     "text": [
      "\n",
      " 51%|█████     | 643/1261 [19:25<12:51,  1.25s/it]\u001b[A"
     ]
    },
    {
     "name": "stdout",
     "output_type": "stream",
     "text": [
      "First net took 0.59 many second to check 342 many pictures.\n",
      "currently 0 many boxes\n",
      "After belief, still 0 many boxes. It took 0.0 many seconds.\n",
      "There are 0 centers in the centers.\n",
      "0 of 0 boxes survived the Ensemble-Check! It took 0.0 many seconds.\n",
      "No final boxes!\n",
      "More than one history box!\n",
      "We print the mean of the history boxes: [((891, 392), (1027, 486))]\n"
     ]
    },
    {
     "name": "stderr",
     "output_type": "stream",
     "text": [
      "\n",
      " 51%|█████     | 644/1261 [19:26<12:52,  1.25s/it]\u001b[A"
     ]
    },
    {
     "name": "stdout",
     "output_type": "stream",
     "text": [
      "First net took 0.58 many second to check 342 many pictures.\n",
      "currently 0 many boxes\n",
      "After belief, still 0 many boxes. It took 0.0 many seconds.\n",
      "There are 0 centers in the centers.\n",
      "0 of 0 boxes survived the Ensemble-Check! It took 0.0 many seconds.\n",
      "No final boxes!\n",
      "More than one history box!\n",
      "We print the mean of the history boxes: [((891, 392), (1027, 486))]\n"
     ]
    },
    {
     "name": "stderr",
     "output_type": "stream",
     "text": [
      "\n",
      " 51%|█████     | 645/1261 [19:28<12:49,  1.25s/it]\u001b[A"
     ]
    },
    {
     "name": "stdout",
     "output_type": "stream",
     "text": [
      "First net took 0.58 many second to check 342 many pictures.\n",
      "currently 0 many boxes\n",
      "After belief, still 0 many boxes. It took 0.0 many seconds.\n",
      "There are 0 centers in the centers.\n",
      "0 of 0 boxes survived the Ensemble-Check! It took 0.0 many seconds.\n",
      "No final boxes!\n",
      "More than one history box!\n",
      "We print the mean of the history boxes: [((891, 392), (1027, 486))]\n"
     ]
    },
    {
     "name": "stderr",
     "output_type": "stream",
     "text": [
      "\n",
      " 51%|█████     | 646/1261 [19:29<12:47,  1.25s/it]\u001b[A"
     ]
    },
    {
     "name": "stdout",
     "output_type": "stream",
     "text": [
      "First net took 0.58 many second to check 342 many pictures.\n",
      "currently 0 many boxes\n",
      "After belief, still 0 many boxes. It took 0.0 many seconds.\n",
      "There are 0 centers in the centers.\n",
      "0 of 0 boxes survived the Ensemble-Check! It took 0.0 many seconds.\n",
      "No final boxes!\n",
      "More than one history box!\n",
      "We print the mean of the history boxes: [((891, 392), (1027, 486))]\n"
     ]
    },
    {
     "name": "stderr",
     "output_type": "stream",
     "text": [
      "\n",
      " 51%|█████▏    | 647/1261 [19:30<12:46,  1.25s/it]\u001b[A"
     ]
    },
    {
     "name": "stdout",
     "output_type": "stream",
     "text": [
      "First net took 0.59 many second to check 342 many pictures.\n",
      "currently 0 many boxes\n",
      "After belief, still 0 many boxes. It took 0.0 many seconds.\n",
      "There are 0 centers in the centers.\n",
      "0 of 0 boxes survived the Ensemble-Check! It took 0.0 many seconds.\n",
      "No final boxes!\n",
      "More than one history box!\n",
      "We print the mean of the history boxes: [((891, 392), (1027, 486))]\n"
     ]
    },
    {
     "name": "stderr",
     "output_type": "stream",
     "text": [
      "\n",
      " 51%|█████▏    | 648/1261 [19:31<12:48,  1.25s/it]\u001b[A"
     ]
    },
    {
     "name": "stdout",
     "output_type": "stream",
     "text": [
      "First net took 0.59 many second to check 342 many pictures.\n",
      "currently 0 many boxes\n",
      "After belief, still 0 many boxes. It took 0.0 many seconds.\n",
      "There are 0 centers in the centers.\n",
      "0 of 0 boxes survived the Ensemble-Check! It took 0.0 many seconds.\n",
      "No final boxes!\n",
      "More than one history box!\n",
      "We print the mean of the history boxes: [((891, 392), (1027, 486))]\n"
     ]
    },
    {
     "name": "stderr",
     "output_type": "stream",
     "text": [
      "\n",
      " 51%|█████▏    | 649/1261 [19:33<12:47,  1.25s/it]\u001b[A"
     ]
    },
    {
     "name": "stdout",
     "output_type": "stream",
     "text": [
      "First net took 0.58 many second to check 342 many pictures.\n",
      "currently 0 many boxes\n",
      "After belief, still 0 many boxes. It took 0.0 many seconds.\n",
      "There are 0 centers in the centers.\n",
      "0 of 0 boxes survived the Ensemble-Check! It took 0.0 many seconds.\n",
      "No final boxes!\n",
      "More than one history box!\n",
      "We print the mean of the history boxes: [((891, 392), (1027, 486))]\n"
     ]
    },
    {
     "name": "stderr",
     "output_type": "stream",
     "text": [
      "\n",
      " 52%|█████▏    | 650/1261 [19:34<12:44,  1.25s/it]\u001b[A"
     ]
    },
    {
     "name": "stdout",
     "output_type": "stream",
     "text": [
      "First net took 0.58 many second to check 342 many pictures.\n",
      "currently 0 many boxes\n",
      "After belief, still 0 many boxes. It took 0.0 many seconds.\n",
      "There are 0 centers in the centers.\n",
      "0 of 0 boxes survived the Ensemble-Check! It took 0.0 many seconds.\n",
      "No final boxes!\n",
      "More than one history box!\n",
      "We print the mean of the history boxes: [((891, 392), (1027, 486))]\n"
     ]
    },
    {
     "name": "stderr",
     "output_type": "stream",
     "text": [
      "\n",
      " 52%|█████▏    | 651/1261 [19:35<12:41,  1.25s/it]\u001b[A"
     ]
    },
    {
     "name": "stdout",
     "output_type": "stream",
     "text": [
      "First net took 0.6 many second to check 342 many pictures.\n",
      "currently 0 many boxes\n",
      "After belief, still 0 many boxes. It took 0.0 many seconds.\n",
      "There are 0 centers in the centers.\n",
      "0 of 0 boxes survived the Ensemble-Check! It took 0.0 many seconds.\n",
      "No final boxes!\n",
      "More than one history box!\n",
      "We print the mean of the history boxes: [((891, 392), (1027, 486))]\n"
     ]
    },
    {
     "name": "stderr",
     "output_type": "stream",
     "text": [
      "\n",
      " 52%|█████▏    | 652/1261 [19:36<12:43,  1.25s/it]\u001b[A"
     ]
    },
    {
     "name": "stdout",
     "output_type": "stream",
     "text": [
      "First net took 0.58 many second to check 342 many pictures.\n",
      "currently 0 many boxes\n",
      "After belief, still 0 many boxes. It took 0.0 many seconds.\n",
      "There are 0 centers in the centers.\n",
      "0 of 0 boxes survived the Ensemble-Check! It took 0.0 many seconds.\n",
      "No final boxes!\n",
      "More than one history box!\n",
      "We print the mean of the history boxes: [((891, 392), (1027, 486))]\n"
     ]
    },
    {
     "name": "stderr",
     "output_type": "stream",
     "text": [
      "\n",
      " 52%|█████▏    | 653/1261 [19:38<12:40,  1.25s/it]\u001b[A"
     ]
    },
    {
     "name": "stdout",
     "output_type": "stream",
     "text": [
      "First net took 0.58 many second to check 342 many pictures.\n",
      "currently 0 many boxes\n",
      "After belief, still 0 many boxes. It took 0.0 many seconds.\n",
      "There are 0 centers in the centers.\n",
      "0 of 0 boxes survived the Ensemble-Check! It took 0.0 many seconds.\n",
      "No final boxes!\n",
      "More than one history box!\n",
      "We print the mean of the history boxes: [((891, 392), (1027, 486))]\n"
     ]
    },
    {
     "name": "stderr",
     "output_type": "stream",
     "text": [
      "\n",
      " 52%|█████▏    | 654/1261 [19:39<12:38,  1.25s/it]\u001b[A"
     ]
    },
    {
     "name": "stdout",
     "output_type": "stream",
     "text": [
      "First net took 0.58 many second to check 342 many pictures.\n",
      "currently 0 many boxes\n",
      "After belief, still 0 many boxes. It took 0.0 many seconds.\n",
      "There are 0 centers in the centers.\n",
      "0 of 0 boxes survived the Ensemble-Check! It took 0.0 many seconds.\n",
      "No final boxes!\n",
      "More than one history box!\n",
      "We print the mean of the history boxes: [((891, 392), (1027, 486))]\n"
     ]
    },
    {
     "name": "stderr",
     "output_type": "stream",
     "text": [
      "\n",
      " 52%|█████▏    | 655/1261 [19:40<12:36,  1.25s/it]\u001b[A"
     ]
    },
    {
     "name": "stdout",
     "output_type": "stream",
     "text": [
      "First net took 0.59 many second to check 342 many pictures.\n",
      "currently 0 many boxes\n",
      "After belief, still 0 many boxes. It took 0.0 many seconds.\n",
      "There are 0 centers in the centers.\n",
      "0 of 0 boxes survived the Ensemble-Check! It took 0.0 many seconds.\n",
      "No final boxes!\n",
      "More than one history box!\n",
      "We print the mean of the history boxes: [((891, 392), (1027, 486))]\n"
     ]
    },
    {
     "name": "stderr",
     "output_type": "stream",
     "text": [
      "\n",
      " 52%|█████▏    | 656/1261 [19:41<12:37,  1.25s/it]\u001b[A"
     ]
    },
    {
     "name": "stdout",
     "output_type": "stream",
     "text": [
      "First net took 0.58 many second to check 342 many pictures.\n",
      "currently 0 many boxes\n",
      "After belief, still 0 many boxes. It took 0.0 many seconds.\n",
      "There are 0 centers in the centers.\n",
      "0 of 0 boxes survived the Ensemble-Check! It took 0.0 many seconds.\n",
      "No final boxes!\n",
      "More than one history box!\n",
      "We print the mean of the history boxes: [((891, 392), (1027, 486))]\n"
     ]
    },
    {
     "name": "stderr",
     "output_type": "stream",
     "text": [
      "\n",
      " 52%|█████▏    | 657/1261 [19:43<12:34,  1.25s/it]\u001b[A"
     ]
    },
    {
     "name": "stdout",
     "output_type": "stream",
     "text": [
      "First net took 0.58 many second to check 342 many pictures.\n",
      "currently 0 many boxes\n",
      "After belief, still 0 many boxes. It took 0.0 many seconds.\n",
      "There are 0 centers in the centers.\n",
      "0 of 0 boxes survived the Ensemble-Check! It took 0.0 many seconds.\n",
      "No final boxes!\n",
      "More than one history box!\n",
      "We print the mean of the history boxes: [((891, 392), (1027, 486))]\n"
     ]
    },
    {
     "name": "stderr",
     "output_type": "stream",
     "text": [
      "\n",
      " 52%|█████▏    | 658/1261 [19:44<12:32,  1.25s/it]\u001b[A"
     ]
    },
    {
     "name": "stdout",
     "output_type": "stream",
     "text": [
      "First net took 0.59 many second to check 342 many pictures.\n",
      "currently 0 many boxes\n",
      "After belief, still 0 many boxes. It took 0.0 many seconds.\n",
      "There are 0 centers in the centers.\n",
      "0 of 0 boxes survived the Ensemble-Check! It took 0.0 many seconds.\n",
      "No final boxes!\n",
      "More than one history box!\n",
      "We print the mean of the history boxes: [((891, 392), (1027, 486))]\n"
     ]
    },
    {
     "name": "stderr",
     "output_type": "stream",
     "text": [
      "\n",
      " 52%|█████▏    | 659/1261 [19:45<12:33,  1.25s/it]\u001b[A"
     ]
    },
    {
     "name": "stdout",
     "output_type": "stream",
     "text": [
      "First net took 0.59 many second to check 342 many pictures.\n",
      "currently 0 many boxes\n",
      "After belief, still 0 many boxes. It took 0.0 many seconds.\n",
      "There are 0 centers in the centers.\n",
      "0 of 0 boxes survived the Ensemble-Check! It took 0.0 many seconds.\n",
      "No final boxes!\n",
      "More than one history box!\n",
      "We print the mean of the history boxes: [((891, 392), (1027, 486))]\n"
     ]
    },
    {
     "name": "stderr",
     "output_type": "stream",
     "text": [
      "\n",
      " 52%|█████▏    | 660/1261 [19:46<12:32,  1.25s/it]\u001b[A"
     ]
    },
    {
     "name": "stdout",
     "output_type": "stream",
     "text": [
      "First net took 0.58 many second to check 342 many pictures.\n",
      "currently 0 many boxes\n",
      "After belief, still 0 many boxes. It took 0.0 many seconds.\n",
      "There are 0 centers in the centers.\n",
      "0 of 0 boxes survived the Ensemble-Check! It took 0.0 many seconds.\n",
      "No final boxes!\n",
      "More than one history box!\n",
      "We print the mean of the history boxes: [((891, 392), (1027, 486))]\n"
     ]
    },
    {
     "name": "stderr",
     "output_type": "stream",
     "text": [
      "\n",
      " 52%|█████▏    | 661/1261 [19:48<12:31,  1.25s/it]\u001b[A"
     ]
    },
    {
     "name": "stdout",
     "output_type": "stream",
     "text": [
      "First net took 0.58 many second to check 342 many pictures.\n",
      "currently 0 many boxes\n",
      "After belief, still 0 many boxes. It took 0.0 many seconds.\n",
      "There are 0 centers in the centers.\n",
      "0 of 0 boxes survived the Ensemble-Check! It took 0.0 many seconds.\n",
      "No final boxes!\n",
      "More than one history box!\n",
      "We print the mean of the history boxes: [((891, 392), (1027, 486))]\n"
     ]
    },
    {
     "name": "stderr",
     "output_type": "stream",
     "text": [
      "\n",
      " 52%|█████▏    | 662/1261 [19:49<12:30,  1.25s/it]\u001b[A"
     ]
    },
    {
     "name": "stdout",
     "output_type": "stream",
     "text": [
      "First net took 0.58 many second to check 342 many pictures.\n",
      "currently 0 many boxes\n",
      "After belief, still 0 many boxes. It took 0.0 many seconds.\n",
      "There are 0 centers in the centers.\n",
      "0 of 0 boxes survived the Ensemble-Check! It took 0.0 many seconds.\n",
      "No final boxes!\n",
      "More than one history box!\n",
      "We print the mean of the history boxes: [((891, 392), (1027, 486))]\n"
     ]
    },
    {
     "name": "stderr",
     "output_type": "stream",
     "text": [
      "\n",
      " 53%|█████▎    | 663/1261 [19:50<12:27,  1.25s/it]\u001b[A"
     ]
    },
    {
     "name": "stdout",
     "output_type": "stream",
     "text": [
      "First net took 0.59 many second to check 342 many pictures.\n",
      "currently 0 many boxes\n",
      "After belief, still 0 many boxes. It took 0.0 many seconds.\n",
      "There are 0 centers in the centers.\n",
      "0 of 0 boxes survived the Ensemble-Check! It took 0.0 many seconds.\n",
      "No final boxes!\n",
      "More than one history box!\n",
      "We print the mean of the history boxes: [((891, 392), (1027, 486))]\n"
     ]
    },
    {
     "name": "stderr",
     "output_type": "stream",
     "text": [
      "\n",
      " 53%|█████▎    | 664/1261 [19:51<12:26,  1.25s/it]\u001b[A"
     ]
    },
    {
     "name": "stdout",
     "output_type": "stream",
     "text": [
      "First net took 0.63 many second to check 342 many pictures.\n",
      "currently 0 many boxes\n",
      "After belief, still 0 many boxes. It took 0.0 many seconds.\n",
      "There are 0 centers in the centers.\n",
      "0 of 0 boxes survived the Ensemble-Check! It took 0.0 many seconds.\n",
      "No final boxes!\n",
      "More than one history box!\n",
      "We print the mean of the history boxes: [((891, 392), (1027, 486))]\n"
     ]
    },
    {
     "name": "stderr",
     "output_type": "stream",
     "text": [
      "\n",
      " 53%|█████▎    | 665/1261 [19:53<12:33,  1.26s/it]\u001b[A"
     ]
    },
    {
     "name": "stdout",
     "output_type": "stream",
     "text": [
      "First net took 0.61 many second to check 342 many pictures.\n",
      "currently 0 many boxes\n",
      "After belief, still 0 many boxes. It took 0.0 many seconds.\n",
      "There are 0 centers in the centers.\n",
      "0 of 0 boxes survived the Ensemble-Check! It took 0.0 many seconds.\n",
      "No final boxes!\n",
      "More than one history box!\n",
      "We print the mean of the history boxes: [((891, 392), (1027, 486))]\n"
     ]
    },
    {
     "name": "stderr",
     "output_type": "stream",
     "text": [
      "\n",
      " 53%|█████▎    | 666/1261 [19:54<12:34,  1.27s/it]\u001b[A"
     ]
    },
    {
     "name": "stdout",
     "output_type": "stream",
     "text": [
      "First net took 0.58 many second to check 342 many pictures.\n",
      "currently 0 many boxes\n",
      "After belief, still 0 many boxes. It took 0.0 many seconds.\n",
      "There are 0 centers in the centers.\n",
      "0 of 0 boxes survived the Ensemble-Check! It took 0.0 many seconds.\n",
      "No final boxes!\n",
      "More than one history box!\n",
      "We print the mean of the history boxes: [((891, 392), (1027, 486))]\n"
     ]
    },
    {
     "name": "stderr",
     "output_type": "stream",
     "text": [
      "\n",
      " 53%|█████▎    | 667/1261 [19:55<12:28,  1.26s/it]\u001b[A"
     ]
    },
    {
     "name": "stdout",
     "output_type": "stream",
     "text": [
      "First net took 0.59 many second to check 342 many pictures.\n",
      "currently 0 many boxes\n",
      "After belief, still 0 many boxes. It took 0.0 many seconds.\n",
      "There are 0 centers in the centers.\n",
      "0 of 0 boxes survived the Ensemble-Check! It took 0.0 many seconds.\n",
      "No final boxes!\n",
      "More than one history box!\n",
      "We print the mean of the history boxes: [((891, 392), (1027, 486))]\n"
     ]
    },
    {
     "name": "stderr",
     "output_type": "stream",
     "text": [
      "\n",
      " 53%|█████▎    | 668/1261 [19:56<12:26,  1.26s/it]\u001b[A"
     ]
    },
    {
     "name": "stdout",
     "output_type": "stream",
     "text": [
      "First net took 0.59 many second to check 342 many pictures.\n",
      "currently 0 many boxes\n",
      "After belief, still 0 many boxes. It took 0.0 many seconds.\n",
      "There are 0 centers in the centers.\n",
      "0 of 0 boxes survived the Ensemble-Check! It took 0.0 many seconds.\n",
      "No final boxes!\n",
      "More than one history box!\n",
      "We print the mean of the history boxes: [((891, 392), (1027, 486))]\n"
     ]
    },
    {
     "name": "stderr",
     "output_type": "stream",
     "text": [
      "\n",
      " 53%|█████▎    | 669/1261 [19:58<12:24,  1.26s/it]\u001b[A"
     ]
    },
    {
     "name": "stdout",
     "output_type": "stream",
     "text": [
      "First net took 0.58 many second to check 342 many pictures.\n",
      "currently 0 many boxes\n",
      "After belief, still 0 many boxes. It took 0.0 many seconds.\n",
      "There are 0 centers in the centers.\n",
      "0 of 0 boxes survived the Ensemble-Check! It took 0.0 many seconds.\n",
      "No final boxes!\n",
      "More than one history box!\n",
      "We print the mean of the history boxes: [((891, 392), (1027, 486))]\n"
     ]
    },
    {
     "name": "stderr",
     "output_type": "stream",
     "text": [
      "\n",
      " 53%|█████▎    | 670/1261 [19:59<12:19,  1.25s/it]\u001b[A"
     ]
    },
    {
     "name": "stdout",
     "output_type": "stream",
     "text": [
      "First net took 0.59 many second to check 342 many pictures.\n",
      "currently 0 many boxes\n",
      "After belief, still 0 many boxes. It took 0.0 many seconds.\n",
      "There are 0 centers in the centers.\n",
      "0 of 0 boxes survived the Ensemble-Check! It took 0.0 many seconds.\n",
      "No final boxes!\n",
      "More than one history box!\n",
      "We print the mean of the history boxes: [((891, 392), (1027, 486))]\n"
     ]
    },
    {
     "name": "stderr",
     "output_type": "stream",
     "text": [
      "\n",
      " 53%|█████▎    | 671/1261 [20:00<12:17,  1.25s/it]\u001b[A"
     ]
    },
    {
     "name": "stdout",
     "output_type": "stream",
     "text": [
      "First net took 0.59 many second to check 342 many pictures.\n",
      "currently 0 many boxes\n",
      "After belief, still 0 many boxes. It took 0.0 many seconds.\n",
      "There are 0 centers in the centers.\n",
      "0 of 0 boxes survived the Ensemble-Check! It took 0.0 many seconds.\n",
      "No final boxes!\n",
      "More than one history box!\n",
      "We print the mean of the history boxes: [((891, 392), (1027, 486))]\n"
     ]
    },
    {
     "name": "stderr",
     "output_type": "stream",
     "text": [
      "\n",
      " 53%|█████▎    | 672/1261 [20:01<12:18,  1.25s/it]\u001b[A"
     ]
    },
    {
     "name": "stdout",
     "output_type": "stream",
     "text": [
      "First net took 0.58 many second to check 342 many pictures.\n",
      "currently 0 many boxes\n",
      "After belief, still 0 many boxes. It took 0.0 many seconds.\n",
      "There are 0 centers in the centers.\n",
      "0 of 0 boxes survived the Ensemble-Check! It took 0.0 many seconds.\n",
      "No final boxes!\n",
      "More than one history box!\n",
      "We print the mean of the history boxes: [((891, 392), (1027, 486))]\n"
     ]
    },
    {
     "name": "stderr",
     "output_type": "stream",
     "text": [
      "\n",
      " 53%|█████▎    | 673/1261 [20:03<12:15,  1.25s/it]\u001b[A"
     ]
    },
    {
     "name": "stdout",
     "output_type": "stream",
     "text": [
      "First net took 0.58 many second to check 342 many pictures.\n",
      "currently 0 many boxes\n",
      "After belief, still 0 many boxes. It took 0.0 many seconds.\n",
      "There are 0 centers in the centers.\n",
      "0 of 0 boxes survived the Ensemble-Check! It took 0.0 many seconds.\n",
      "No final boxes!\n",
      "More than one history box!\n",
      "We print the mean of the history boxes: [((891, 392), (1027, 486))]\n"
     ]
    },
    {
     "name": "stderr",
     "output_type": "stream",
     "text": [
      "\n",
      " 53%|█████▎    | 674/1261 [20:04<12:14,  1.25s/it]\u001b[A"
     ]
    },
    {
     "name": "stdout",
     "output_type": "stream",
     "text": [
      "First net took 0.58 many second to check 342 many pictures.\n",
      "currently 0 many boxes\n",
      "After belief, still 0 many boxes. It took 0.0 many seconds.\n",
      "There are 0 centers in the centers.\n",
      "0 of 0 boxes survived the Ensemble-Check! It took 0.0 many seconds.\n",
      "No final boxes!\n",
      "More than one history box!\n",
      "We print the mean of the history boxes: [((891, 392), (1027, 486))]\n"
     ]
    },
    {
     "name": "stderr",
     "output_type": "stream",
     "text": [
      "\n",
      " 54%|█████▎    | 675/1261 [20:05<12:12,  1.25s/it]\u001b[A"
     ]
    },
    {
     "name": "stdout",
     "output_type": "stream",
     "text": [
      "First net took 0.63 many second to check 342 many pictures.\n",
      "currently 0 many boxes\n",
      "After belief, still 0 many boxes. It took 0.0 many seconds.\n",
      "There are 0 centers in the centers.\n",
      "0 of 0 boxes survived the Ensemble-Check! It took 0.0 many seconds.\n",
      "No final boxes!\n",
      "More than one history box!\n",
      "We print the mean of the history boxes: [((891, 392), (1027, 486))]\n"
     ]
    },
    {
     "name": "stderr",
     "output_type": "stream",
     "text": [
      "\n",
      " 54%|█████▎    | 676/1261 [20:06<12:19,  1.26s/it]\u001b[A"
     ]
    },
    {
     "name": "stdout",
     "output_type": "stream",
     "text": [
      "First net took 0.58 many second to check 342 many pictures.\n",
      "currently 0 many boxes\n",
      "After belief, still 0 many boxes. It took 0.0 many seconds.\n",
      "There are 0 centers in the centers.\n",
      "0 of 0 boxes survived the Ensemble-Check! It took 0.0 many seconds.\n",
      "No final boxes!\n",
      "More than one history box!\n",
      "We print the mean of the history boxes: [((891, 392), (1027, 486))]\n"
     ]
    },
    {
     "name": "stderr",
     "output_type": "stream",
     "text": [
      "\n",
      " 54%|█████▎    | 677/1261 [20:08<12:15,  1.26s/it]\u001b[A"
     ]
    },
    {
     "name": "stdout",
     "output_type": "stream",
     "text": [
      "First net took 0.58 many second to check 342 many pictures.\n",
      "currently 0 many boxes\n",
      "After belief, still 0 many boxes. It took 0.0 many seconds.\n",
      "There are 0 centers in the centers.\n",
      "0 of 0 boxes survived the Ensemble-Check! It took 0.0 many seconds.\n",
      "No final boxes!\n",
      "More than one history box!\n",
      "We print the mean of the history boxes: [((891, 392), (1027, 486))]\n"
     ]
    },
    {
     "name": "stderr",
     "output_type": "stream",
     "text": [
      "\n",
      " 54%|█████▍    | 678/1261 [20:09<12:12,  1.26s/it]\u001b[A"
     ]
    },
    {
     "name": "stdout",
     "output_type": "stream",
     "text": [
      "First net took 0.58 many second to check 342 many pictures.\n",
      "currently 0 many boxes\n",
      "After belief, still 0 many boxes. It took 0.0 many seconds.\n",
      "There are 0 centers in the centers.\n",
      "0 of 0 boxes survived the Ensemble-Check! It took 0.0 many seconds.\n",
      "No final boxes!\n",
      "More than one history box!\n",
      "We print the mean of the history boxes: [((891, 392), (1027, 486))]\n"
     ]
    },
    {
     "name": "stderr",
     "output_type": "stream",
     "text": [
      "\n",
      " 54%|█████▍    | 679/1261 [20:10<12:09,  1.25s/it]\u001b[A"
     ]
    },
    {
     "name": "stdout",
     "output_type": "stream",
     "text": [
      "First net took 0.59 many second to check 342 many pictures.\n",
      "currently 0 many boxes\n",
      "After belief, still 0 many boxes. It took 0.0 many seconds.\n",
      "There are 0 centers in the centers.\n",
      "0 of 0 boxes survived the Ensemble-Check! It took 0.0 many seconds.\n",
      "No final boxes!\n",
      "More than one history box!\n",
      "We print the mean of the history boxes: [((891, 392), (1027, 486))]\n"
     ]
    },
    {
     "name": "stderr",
     "output_type": "stream",
     "text": [
      "\n",
      " 54%|█████▍    | 680/1261 [20:11<12:08,  1.25s/it]\u001b[A"
     ]
    },
    {
     "name": "stdout",
     "output_type": "stream",
     "text": [
      "First net took 0.58 many second to check 342 many pictures.\n",
      "currently 0 many boxes\n",
      "After belief, still 0 many boxes. It took 0.0 many seconds.\n",
      "There are 0 centers in the centers.\n",
      "0 of 0 boxes survived the Ensemble-Check! It took 0.0 many seconds.\n",
      "No final boxes!\n",
      "More than one history box!\n",
      "We print the mean of the history boxes: [((891, 392), (1027, 486))]\n"
     ]
    },
    {
     "name": "stderr",
     "output_type": "stream",
     "text": [
      "\n",
      " 54%|█████▍    | 681/1261 [20:13<12:06,  1.25s/it]\u001b[A"
     ]
    },
    {
     "name": "stdout",
     "output_type": "stream",
     "text": [
      "First net took 0.59 many second to check 342 many pictures.\n",
      "currently 0 many boxes\n",
      "After belief, still 0 many boxes. It took 0.0 many seconds.\n",
      "There are 0 centers in the centers.\n",
      "0 of 0 boxes survived the Ensemble-Check! It took 0.0 many seconds.\n",
      "No final boxes!\n",
      "More than one history box!\n",
      "We print the mean of the history boxes: [((891, 392), (1027, 486))]\n"
     ]
    },
    {
     "name": "stderr",
     "output_type": "stream",
     "text": [
      "\n",
      " 54%|█████▍    | 682/1261 [20:14<12:06,  1.25s/it]\u001b[A"
     ]
    },
    {
     "name": "stdout",
     "output_type": "stream",
     "text": [
      "First net took 0.59 many second to check 342 many pictures.\n",
      "currently 0 many boxes\n",
      "After belief, still 0 many boxes. It took 0.0 many seconds.\n",
      "There are 0 centers in the centers.\n",
      "0 of 0 boxes survived the Ensemble-Check! It took 0.0 many seconds.\n",
      "No final boxes!\n",
      "More than one history box!\n",
      "We print the mean of the history boxes: [((891, 392), (1027, 486))]\n"
     ]
    },
    {
     "name": "stderr",
     "output_type": "stream",
     "text": [
      "\n",
      " 54%|█████▍    | 683/1261 [20:15<12:05,  1.25s/it]\u001b[A"
     ]
    },
    {
     "name": "stdout",
     "output_type": "stream",
     "text": [
      "First net took 0.62 many second to check 342 many pictures.\n",
      "currently 0 many boxes\n",
      "After belief, still 0 many boxes. It took 0.0 many seconds.\n",
      "There are 0 centers in the centers.\n",
      "0 of 0 boxes survived the Ensemble-Check! It took 0.0 many seconds.\n",
      "No final boxes!\n",
      "More than one history box!\n",
      "We print the mean of the history boxes: [((891, 392), (1027, 486))]\n"
     ]
    },
    {
     "name": "stderr",
     "output_type": "stream",
     "text": [
      "\n",
      " 54%|█████▍    | 684/1261 [20:16<12:08,  1.26s/it]\u001b[A"
     ]
    },
    {
     "name": "stdout",
     "output_type": "stream",
     "text": [
      "First net took 0.58 many second to check 342 many pictures.\n",
      "currently 0 many boxes\n",
      "After belief, still 0 many boxes. It took 0.0 many seconds.\n",
      "There are 0 centers in the centers.\n",
      "0 of 0 boxes survived the Ensemble-Check! It took 0.0 many seconds.\n",
      "No final boxes!\n",
      "More than one history box!\n",
      "We print the mean of the history boxes: [((891, 392), (1027, 486))]\n"
     ]
    },
    {
     "name": "stderr",
     "output_type": "stream",
     "text": [
      "\n",
      " 54%|█████▍    | 685/1261 [20:18<12:05,  1.26s/it]\u001b[A"
     ]
    },
    {
     "name": "stdout",
     "output_type": "stream",
     "text": [
      "First net took 0.58 many second to check 342 many pictures.\n",
      "currently 0 many boxes\n",
      "After belief, still 0 many boxes. It took 0.0 many seconds.\n",
      "There are 0 centers in the centers.\n",
      "0 of 0 boxes survived the Ensemble-Check! It took 0.0 many seconds.\n",
      "No final boxes!\n",
      "More than one history box!\n",
      "We print the mean of the history boxes: [((891, 392), (1027, 486))]\n"
     ]
    },
    {
     "name": "stderr",
     "output_type": "stream",
     "text": [
      "\n",
      " 54%|█████▍    | 686/1261 [20:19<12:02,  1.26s/it]\u001b[A"
     ]
    },
    {
     "name": "stdout",
     "output_type": "stream",
     "text": [
      "First net took 0.58 many second to check 342 many pictures.\n",
      "currently 0 many boxes\n",
      "After belief, still 0 many boxes. It took 0.0 many seconds.\n",
      "There are 0 centers in the centers.\n",
      "0 of 0 boxes survived the Ensemble-Check! It took 0.0 many seconds.\n",
      "No final boxes!\n",
      "More than one history box!\n",
      "We print the mean of the history boxes: [((891, 392), (1027, 486))]\n"
     ]
    },
    {
     "name": "stderr",
     "output_type": "stream",
     "text": [
      "\n",
      " 54%|█████▍    | 687/1261 [20:20<11:58,  1.25s/it]\u001b[A"
     ]
    },
    {
     "name": "stdout",
     "output_type": "stream",
     "text": [
      "First net took 0.59 many second to check 342 many pictures.\n",
      "currently 0 many boxes\n",
      "After belief, still 0 many boxes. It took 0.0 many seconds.\n",
      "There are 0 centers in the centers.\n",
      "0 of 0 boxes survived the Ensemble-Check! It took 0.0 many seconds.\n",
      "No final boxes!\n",
      "More than one history box!\n",
      "We print the mean of the history boxes: [((891, 392), (1027, 486))]\n"
     ]
    },
    {
     "name": "stderr",
     "output_type": "stream",
     "text": [
      "\n",
      " 55%|█████▍    | 688/1261 [20:21<11:56,  1.25s/it]\u001b[A"
     ]
    },
    {
     "name": "stdout",
     "output_type": "stream",
     "text": [
      "First net took 0.58 many second to check 342 many pictures.\n",
      "currently 0 many boxes\n",
      "After belief, still 0 many boxes. It took 0.0 many seconds.\n",
      "There are 0 centers in the centers.\n",
      "0 of 0 boxes survived the Ensemble-Check! It took 0.0 many seconds.\n",
      "No final boxes!\n",
      "More than one history box!\n",
      "We print the mean of the history boxes: [((891, 392), (1027, 486))]\n"
     ]
    },
    {
     "name": "stderr",
     "output_type": "stream",
     "text": [
      "\n",
      " 55%|█████▍    | 689/1261 [20:23<11:54,  1.25s/it]\u001b[A"
     ]
    },
    {
     "name": "stdout",
     "output_type": "stream",
     "text": [
      "First net took 0.58 many second to check 342 many pictures.\n",
      "currently 0 many boxes\n",
      "After belief, still 0 many boxes. It took 0.0 many seconds.\n",
      "There are 0 centers in the centers.\n",
      "0 of 0 boxes survived the Ensemble-Check! It took 0.0 many seconds.\n",
      "No final boxes!\n",
      "More than one history box!\n",
      "We print the mean of the history boxes: [((891, 392), (1027, 486))]\n"
     ]
    },
    {
     "name": "stderr",
     "output_type": "stream",
     "text": [
      "\n",
      " 55%|█████▍    | 690/1261 [20:24<12:13,  1.28s/it]\u001b[A"
     ]
    },
    {
     "name": "stdout",
     "output_type": "stream",
     "text": [
      "First net took 0.58 many second to check 342 many pictures.\n",
      "currently 0 many boxes\n",
      "After belief, still 0 many boxes. It took 0.0 many seconds.\n",
      "There are 0 centers in the centers.\n",
      "0 of 0 boxes survived the Ensemble-Check! It took 0.0 many seconds.\n",
      "No final boxes!\n",
      "More than one history box!\n",
      "We print the mean of the history boxes: [((891, 392), (1027, 486))]\n"
     ]
    },
    {
     "name": "stderr",
     "output_type": "stream",
     "text": [
      "\n",
      " 55%|█████▍    | 691/1261 [20:25<12:05,  1.27s/it]\u001b[A"
     ]
    },
    {
     "name": "stdout",
     "output_type": "stream",
     "text": [
      "First net took 0.58 many second to check 342 many pictures.\n",
      "currently 0 many boxes\n",
      "After belief, still 0 many boxes. It took 0.0 many seconds.\n",
      "There are 0 centers in the centers.\n",
      "0 of 0 boxes survived the Ensemble-Check! It took 0.0 many seconds.\n",
      "No final boxes!\n",
      "More than one history box!\n",
      "We print the mean of the history boxes: [((891, 392), (1027, 486))]\n"
     ]
    },
    {
     "name": "stderr",
     "output_type": "stream",
     "text": [
      "\n",
      " 55%|█████▍    | 692/1261 [20:27<12:01,  1.27s/it]\u001b[A"
     ]
    },
    {
     "name": "stdout",
     "output_type": "stream",
     "text": [
      "First net took 0.58 many second to check 342 many pictures.\n",
      "currently 0 many boxes\n",
      "After belief, still 0 many boxes. It took 0.0 many seconds.\n",
      "There are 0 centers in the centers.\n",
      "0 of 0 boxes survived the Ensemble-Check! It took 0.0 many seconds.\n",
      "No final boxes!\n",
      "More than one history box!\n",
      "We print the mean of the history boxes: [((891, 392), (1027, 486))]\n"
     ]
    },
    {
     "name": "stderr",
     "output_type": "stream",
     "text": [
      "\n",
      " 55%|█████▍    | 693/1261 [20:28<11:57,  1.26s/it]\u001b[A"
     ]
    },
    {
     "name": "stdout",
     "output_type": "stream",
     "text": [
      "First net took 0.59 many second to check 342 many pictures.\n",
      "currently 0 many boxes\n",
      "After belief, still 0 many boxes. It took 0.0 many seconds.\n",
      "There are 0 centers in the centers.\n",
      "0 of 0 boxes survived the Ensemble-Check! It took 0.0 many seconds.\n",
      "No final boxes!\n",
      "More than one history box!\n",
      "We print the mean of the history boxes: [((891, 392), (1027, 486))]\n"
     ]
    },
    {
     "name": "stderr",
     "output_type": "stream",
     "text": [
      "\n",
      " 55%|█████▌    | 694/1261 [20:29<11:54,  1.26s/it]\u001b[A"
     ]
    },
    {
     "name": "stdout",
     "output_type": "stream",
     "text": [
      "First net took 0.59 many second to check 342 many pictures.\n",
      "currently 0 many boxes\n",
      "After belief, still 0 many boxes. It took 0.0 many seconds.\n",
      "There are 0 centers in the centers.\n",
      "0 of 0 boxes survived the Ensemble-Check! It took 0.0 many seconds.\n",
      "No final boxes!\n",
      "More than one history box!\n",
      "We print the mean of the history boxes: [((891, 392), (1027, 486))]\n"
     ]
    },
    {
     "name": "stderr",
     "output_type": "stream",
     "text": [
      "\n",
      " 55%|█████▌    | 695/1261 [20:30<11:51,  1.26s/it]\u001b[A"
     ]
    },
    {
     "name": "stdout",
     "output_type": "stream",
     "text": [
      "First net took 0.58 many second to check 342 many pictures.\n",
      "currently 0 many boxes\n",
      "After belief, still 0 many boxes. It took 0.0 many seconds.\n",
      "There are 0 centers in the centers.\n",
      "0 of 0 boxes survived the Ensemble-Check! It took 0.0 many seconds.\n",
      "No final boxes!\n",
      "More than one history box!\n",
      "We print the mean of the history boxes: [((891, 392), (1027, 486))]\n"
     ]
    },
    {
     "name": "stderr",
     "output_type": "stream",
     "text": [
      "\n",
      " 55%|█████▌    | 696/1261 [20:32<11:48,  1.25s/it]\u001b[A"
     ]
    },
    {
     "name": "stdout",
     "output_type": "stream",
     "text": [
      "First net took 0.58 many second to check 342 many pictures.\n",
      "currently 0 many boxes\n",
      "After belief, still 0 many boxes. It took 0.0 many seconds.\n",
      "There are 0 centers in the centers.\n",
      "0 of 0 boxes survived the Ensemble-Check! It took 0.0 many seconds.\n",
      "No final boxes!\n",
      "More than one history box!\n",
      "We print the mean of the history boxes: [((891, 392), (1027, 486))]\n"
     ]
    },
    {
     "name": "stderr",
     "output_type": "stream",
     "text": [
      "\n",
      " 55%|█████▌    | 697/1261 [20:33<11:46,  1.25s/it]\u001b[A"
     ]
    },
    {
     "name": "stdout",
     "output_type": "stream",
     "text": [
      "First net took 0.58 many second to check 342 many pictures.\n",
      "currently 0 many boxes\n",
      "After belief, still 0 many boxes. It took 0.0 many seconds.\n",
      "There are 0 centers in the centers.\n",
      "0 of 0 boxes survived the Ensemble-Check! It took 0.0 many seconds.\n",
      "No final boxes!\n",
      "More than one history box!\n",
      "We print the mean of the history boxes: [((891, 392), (1027, 486))]\n"
     ]
    },
    {
     "name": "stderr",
     "output_type": "stream",
     "text": [
      "\n",
      " 55%|█████▌    | 698/1261 [20:34<11:43,  1.25s/it]\u001b[A"
     ]
    },
    {
     "name": "stdout",
     "output_type": "stream",
     "text": [
      "First net took 0.63 many second to check 342 many pictures.\n",
      "currently 0 many boxes\n",
      "After belief, still 0 many boxes. It took 0.0 many seconds.\n",
      "There are 0 centers in the centers.\n",
      "0 of 0 boxes survived the Ensemble-Check! It took 0.0 many seconds.\n",
      "No final boxes!\n",
      "More than one history box!\n",
      "We print the mean of the history boxes: [((891, 392), (1027, 486))]\n"
     ]
    },
    {
     "name": "stderr",
     "output_type": "stream",
     "text": [
      "\n",
      " 55%|█████▌    | 699/1261 [20:35<11:50,  1.26s/it]\u001b[A"
     ]
    },
    {
     "name": "stdout",
     "output_type": "stream",
     "text": [
      "First net took 0.58 many second to check 342 many pictures.\n",
      "currently 0 many boxes\n",
      "After belief, still 0 many boxes. It took 0.0 many seconds.\n",
      "There are 0 centers in the centers.\n",
      "0 of 0 boxes survived the Ensemble-Check! It took 0.0 many seconds.\n",
      "No final boxes!\n",
      "More than one history box!\n",
      "We print the mean of the history boxes: [((891, 392), (1027, 486))]\n"
     ]
    },
    {
     "name": "stderr",
     "output_type": "stream",
     "text": [
      "\n",
      " 56%|█████▌    | 700/1261 [20:37<11:45,  1.26s/it]\u001b[A"
     ]
    },
    {
     "name": "stdout",
     "output_type": "stream",
     "text": [
      "First net took 0.58 many second to check 342 many pictures.\n",
      "currently 0 many boxes\n",
      "After belief, still 0 many boxes. It took 0.0 many seconds.\n",
      "There are 0 centers in the centers.\n",
      "0 of 0 boxes survived the Ensemble-Check! It took 0.0 many seconds.\n",
      "No final boxes!\n",
      "More than one history box!\n",
      "We print the mean of the history boxes: [((891, 392), (1027, 486))]\n"
     ]
    },
    {
     "name": "stderr",
     "output_type": "stream",
     "text": [
      "\n",
      " 56%|█████▌    | 701/1261 [20:38<11:41,  1.25s/it]\u001b[A"
     ]
    },
    {
     "name": "stdout",
     "output_type": "stream",
     "text": [
      "First net took 0.58 many second to check 342 many pictures.\n",
      "currently 0 many boxes\n",
      "After belief, still 0 many boxes. It took 0.0 many seconds.\n",
      "There are 0 centers in the centers.\n",
      "0 of 0 boxes survived the Ensemble-Check! It took 0.0 many seconds.\n",
      "No final boxes!\n",
      "More than one history box!\n",
      "We print the mean of the history boxes: [((891, 392), (1027, 486))]\n"
     ]
    },
    {
     "name": "stderr",
     "output_type": "stream",
     "text": [
      "\n",
      " 56%|█████▌    | 702/1261 [20:39<11:38,  1.25s/it]\u001b[A"
     ]
    },
    {
     "name": "stdout",
     "output_type": "stream",
     "text": [
      "First net took 0.58 many second to check 342 many pictures.\n",
      "currently 0 many boxes\n",
      "After belief, still 0 many boxes. It took 0.0 many seconds.\n",
      "There are 0 centers in the centers.\n",
      "0 of 0 boxes survived the Ensemble-Check! It took 0.0 many seconds.\n",
      "No final boxes!\n",
      "More than one history box!\n",
      "We print the mean of the history boxes: [((891, 392), (1027, 486))]\n"
     ]
    },
    {
     "name": "stderr",
     "output_type": "stream",
     "text": [
      "\n",
      " 56%|█████▌    | 703/1261 [20:40<11:36,  1.25s/it]\u001b[A"
     ]
    },
    {
     "name": "stdout",
     "output_type": "stream",
     "text": [
      "First net took 0.59 many second to check 342 many pictures.\n",
      "currently 0 many boxes\n",
      "After belief, still 0 many boxes. It took 0.0 many seconds.\n",
      "There are 0 centers in the centers.\n",
      "0 of 0 boxes survived the Ensemble-Check! It took 0.0 many seconds.\n",
      "No final boxes!\n",
      "More than one history box!\n",
      "We print the mean of the history boxes: [((891, 392), (1027, 486))]\n"
     ]
    },
    {
     "name": "stderr",
     "output_type": "stream",
     "text": [
      "\n",
      " 56%|█████▌    | 704/1261 [20:42<11:35,  1.25s/it]\u001b[A"
     ]
    },
    {
     "name": "stdout",
     "output_type": "stream",
     "text": [
      "First net took 0.58 many second to check 342 many pictures.\n",
      "currently 0 many boxes\n",
      "After belief, still 0 many boxes. It took 0.0 many seconds.\n",
      "There are 0 centers in the centers.\n",
      "0 of 0 boxes survived the Ensemble-Check! It took 0.0 many seconds.\n",
      "No final boxes!\n",
      "More than one history box!\n",
      "We print the mean of the history boxes: [((891, 392), (1027, 486))]\n"
     ]
    },
    {
     "name": "stderr",
     "output_type": "stream",
     "text": [
      "\n",
      " 56%|█████▌    | 705/1261 [20:43<11:33,  1.25s/it]\u001b[A"
     ]
    },
    {
     "name": "stdout",
     "output_type": "stream",
     "text": [
      "First net took 0.59 many second to check 342 many pictures.\n",
      "currently 1 many boxes\n",
      "After belief, still 0 many boxes. It took 0.0 many seconds.\n",
      "There are 1 centers in the centers.\n",
      "0 of 0 boxes survived the Ensemble-Check! It took 0.0 many seconds.\n",
      "No final boxes!\n",
      "More than one history box!\n",
      "We print the mean of the history boxes: [((891, 392), (1027, 486))]\n"
     ]
    },
    {
     "name": "stderr",
     "output_type": "stream",
     "text": [
      "\n",
      " 56%|█████▌    | 706/1261 [20:44<11:33,  1.25s/it]\u001b[A"
     ]
    },
    {
     "name": "stdout",
     "output_type": "stream",
     "text": [
      "First net took 0.58 many second to check 342 many pictures.\n",
      "currently 1 many boxes\n",
      "After belief, still 0 many boxes. It took 0.0 many seconds.\n",
      "There are 1 centers in the centers.\n",
      "0 of 0 boxes survived the Ensemble-Check! It took 0.0 many seconds.\n",
      "No final boxes!\n",
      "More than one history box!\n",
      "We print the mean of the history boxes: [((891, 392), (1027, 486))]\n"
     ]
    },
    {
     "name": "stderr",
     "output_type": "stream",
     "text": [
      "\n",
      " 56%|█████▌    | 707/1261 [20:45<11:33,  1.25s/it]\u001b[A"
     ]
    },
    {
     "name": "stdout",
     "output_type": "stream",
     "text": [
      "First net took 0.58 many second to check 342 many pictures.\n",
      "currently 3 many boxes\n",
      "After belief, still 0 many boxes. It took 0.0 many seconds.\n",
      "There are 3 centers in the centers.\n",
      "0 of 0 boxes survived the Ensemble-Check! It took 0.0 many seconds.\n",
      "No final boxes!\n",
      "More than one history box!\n",
      "We print the mean of the history boxes: [((891, 392), (1027, 486))]\n"
     ]
    },
    {
     "name": "stderr",
     "output_type": "stream",
     "text": [
      "\n",
      " 56%|█████▌    | 708/1261 [20:47<11:32,  1.25s/it]\u001b[A"
     ]
    },
    {
     "name": "stdout",
     "output_type": "stream",
     "text": [
      "First net took 0.58 many second to check 342 many pictures.\n",
      "currently 3 many boxes\n",
      "After belief, still 0 many boxes. It took 0.0 many seconds.\n",
      "There are 3 centers in the centers.\n",
      "0 of 0 boxes survived the Ensemble-Check! It took 0.0 many seconds.\n",
      "No final boxes!\n",
      "More than one history box!\n",
      "We print the mean of the history boxes: [((891, 392), (1027, 486))]\n"
     ]
    },
    {
     "name": "stderr",
     "output_type": "stream",
     "text": [
      "\n",
      " 56%|█████▌    | 709/1261 [20:48<11:31,  1.25s/it]\u001b[A"
     ]
    },
    {
     "name": "stdout",
     "output_type": "stream",
     "text": [
      "First net took 0.58 many second to check 342 many pictures.\n",
      "currently 2 many boxes\n",
      "After belief, still 0 many boxes. It took 0.0 many seconds.\n",
      "There are 3 centers in the centers.\n",
      "0 of 0 boxes survived the Ensemble-Check! It took 0.0 many seconds.\n",
      "No final boxes!\n",
      "More than one history box!\n",
      "We print the mean of the history boxes: [((891, 392), (1027, 486))]\n"
     ]
    },
    {
     "name": "stderr",
     "output_type": "stream",
     "text": [
      "\n",
      " 56%|█████▋    | 710/1261 [20:49<11:31,  1.26s/it]\u001b[A"
     ]
    },
    {
     "name": "stdout",
     "output_type": "stream",
     "text": [
      "First net took 0.63 many second to check 342 many pictures.\n",
      "currently 2 many boxes\n",
      "After belief, still 0 many boxes. It took 0.0 many seconds.\n",
      "There are 4 centers in the centers.\n",
      "0 of 0 boxes survived the Ensemble-Check! It took 0.0 many seconds.\n",
      "No final boxes!\n",
      "More than one history box!\n",
      "We print the mean of the history boxes: [((891, 392), (1027, 486))]\n"
     ]
    },
    {
     "name": "stderr",
     "output_type": "stream",
     "text": [
      "\n",
      " 56%|█████▋    | 711/1261 [20:50<11:37,  1.27s/it]\u001b[A"
     ]
    },
    {
     "name": "stdout",
     "output_type": "stream",
     "text": [
      "First net took 0.59 many second to check 342 many pictures.\n",
      "currently 3 many boxes\n",
      "After belief, still 0 many boxes. It took 0.0 many seconds.\n",
      "There are 6 centers in the centers.\n",
      "0 of 0 boxes survived the Ensemble-Check! It took 0.0 many seconds.\n",
      "No final boxes!\n",
      "More than one history box!\n",
      "We print the mean of the history boxes: [((891, 392), (1027, 486))]\n"
     ]
    },
    {
     "name": "stderr",
     "output_type": "stream",
     "text": [
      "\n",
      " 56%|█████▋    | 712/1261 [20:52<11:35,  1.27s/it]\u001b[A"
     ]
    },
    {
     "name": "stdout",
     "output_type": "stream",
     "text": [
      "First net took 0.59 many second to check 342 many pictures.\n",
      "currently 3 many boxes\n",
      "After belief, still 0 many boxes. It took 0.0 many seconds.\n",
      "There are 7 centers in the centers.\n",
      "0 of 0 boxes survived the Ensemble-Check! It took 0.0 many seconds.\n",
      "No final boxes!\n",
      "More than one history box!\n",
      "We print the mean of the history boxes: [((891, 392), (1027, 486))]\n"
     ]
    },
    {
     "name": "stderr",
     "output_type": "stream",
     "text": [
      "\n",
      " 57%|█████▋    | 713/1261 [20:53<11:32,  1.26s/it]\u001b[A"
     ]
    },
    {
     "name": "stdout",
     "output_type": "stream",
     "text": [
      "First net took 0.58 many second to check 342 many pictures.\n",
      "currently 3 many boxes\n",
      "After belief, still 0 many boxes. It took 0.0 many seconds.\n",
      "There are 8 centers in the centers.\n",
      "0 of 0 boxes survived the Ensemble-Check! It took 0.0 many seconds.\n",
      "No final boxes!\n",
      "More than one history box!\n",
      "We print the mean of the history boxes: [((891, 392), (1027, 486))]\n"
     ]
    },
    {
     "name": "stderr",
     "output_type": "stream",
     "text": [
      "\n",
      " 57%|█████▋    | 714/1261 [20:54<11:29,  1.26s/it]\u001b[A"
     ]
    },
    {
     "name": "stdout",
     "output_type": "stream",
     "text": [
      "First net took 0.58 many second to check 342 many pictures.\n",
      "currently 3 many boxes\n",
      "After belief, still 0 many boxes. It took 0.0 many seconds.\n",
      "There are 9 centers in the centers.\n",
      "0 of 0 boxes survived the Ensemble-Check! It took 0.0 many seconds.\n",
      "No final boxes!\n",
      "More than one history box!\n",
      "We print the mean of the history boxes: [((891, 392), (1027, 486))]\n"
     ]
    },
    {
     "name": "stderr",
     "output_type": "stream",
     "text": [
      "\n",
      " 57%|█████▋    | 715/1261 [20:55<11:28,  1.26s/it]\u001b[A"
     ]
    },
    {
     "name": "stdout",
     "output_type": "stream",
     "text": [
      "First net took 0.59 many second to check 342 many pictures.\n",
      "currently 3 many boxes\n",
      "After belief, still 0 many boxes. It took 0.0 many seconds.\n",
      "There are 10 centers in the centers.\n",
      "0 of 0 boxes survived the Ensemble-Check! It took 0.0 many seconds.\n",
      "No final boxes!\n",
      "More than one history box!\n",
      "We print the mean of the history boxes: [((891, 392), (1027, 486))]\n"
     ]
    },
    {
     "name": "stderr",
     "output_type": "stream",
     "text": [
      "\n",
      " 57%|█████▋    | 716/1261 [20:57<11:27,  1.26s/it]\u001b[A"
     ]
    },
    {
     "name": "stdout",
     "output_type": "stream",
     "text": [
      "First net took 0.59 many second to check 342 many pictures.\n",
      "currently 3 many boxes\n",
      "After belief, still 0 many boxes. It took 0.0 many seconds.\n",
      "There are 11 centers in the centers.\n",
      "0 of 0 boxes survived the Ensemble-Check! It took 0.0 many seconds.\n",
      "No final boxes!\n",
      "More than one history box!\n",
      "We print the mean of the history boxes: [((891, 392), (1027, 486))]\n"
     ]
    },
    {
     "name": "stderr",
     "output_type": "stream",
     "text": [
      "\n",
      " 57%|█████▋    | 717/1261 [20:58<11:27,  1.26s/it]\u001b[A"
     ]
    },
    {
     "name": "stdout",
     "output_type": "stream",
     "text": [
      "First net took 0.58 many second to check 342 many pictures.\n",
      "currently 3 many boxes\n",
      "After belief, still 0 many boxes. It took 0.0 many seconds.\n",
      "There are 12 centers in the centers.\n",
      "0 of 0 boxes survived the Ensemble-Check! It took 0.0 many seconds.\n",
      "No final boxes!\n",
      "More than one history box!\n",
      "We print the mean of the history boxes: [((891, 392), (1027, 486))]\n"
     ]
    },
    {
     "name": "stderr",
     "output_type": "stream",
     "text": [
      "\n",
      " 57%|█████▋    | 718/1261 [20:59<11:23,  1.26s/it]\u001b[A"
     ]
    },
    {
     "name": "stdout",
     "output_type": "stream",
     "text": [
      "First net took 0.59 many second to check 342 many pictures.\n",
      "currently 3 many boxes\n",
      "After belief, still 1 many boxes. It took 0.0 many seconds.\n",
      "There are 13 centers in the centers.\n",
      "1 of 1 boxes survived the Ensemble-Check! It took 1.0 many seconds.\n"
     ]
    },
    {
     "name": "stderr",
     "output_type": "stream",
     "text": [
      "\n",
      " 57%|█████▋    | 719/1261 [21:01<14:06,  1.56s/it]\u001b[A"
     ]
    },
    {
     "name": "stdout",
     "output_type": "stream",
     "text": [
      "First net took 0.58 many second to check 342 many pictures.\n",
      "currently 3 many boxes\n",
      "After belief, still 1 many boxes. It took 0.0 many seconds.\n",
      "There are 14 centers in the centers.\n",
      "1 of 1 boxes survived the Ensemble-Check! It took 1.01 many seconds.\n"
     ]
    },
    {
     "name": "stderr",
     "output_type": "stream",
     "text": [
      "\n",
      " 57%|█████▋    | 720/1261 [21:04<15:58,  1.77s/it]\u001b[A"
     ]
    },
    {
     "name": "stdout",
     "output_type": "stream",
     "text": [
      "First net took 0.58 many second to check 342 many pictures.\n",
      "currently 3 many boxes\n",
      "After belief, still 1 many boxes. It took 0.0 many seconds.\n",
      "There are 16 centers in the centers.\n",
      "1 of 1 boxes survived the Ensemble-Check! It took 1.0 many seconds.\n"
     ]
    },
    {
     "name": "stderr",
     "output_type": "stream",
     "text": [
      "\n",
      " 57%|█████▋    | 721/1261 [21:06<17:15,  1.92s/it]\u001b[A"
     ]
    },
    {
     "name": "stdout",
     "output_type": "stream",
     "text": [
      "First net took 0.59 many second to check 342 many pictures.\n",
      "currently 3 many boxes\n",
      "After belief, still 1 many boxes. It took 0.0 many seconds.\n",
      "There are 18 centers in the centers.\n",
      "1 of 1 boxes survived the Ensemble-Check! It took 1.01 many seconds.\n"
     ]
    },
    {
     "name": "stderr",
     "output_type": "stream",
     "text": [
      "\n",
      " 57%|█████▋    | 722/1261 [21:08<18:09,  2.02s/it]\u001b[A"
     ]
    },
    {
     "name": "stdout",
     "output_type": "stream",
     "text": [
      "First net took 0.59 many second to check 342 many pictures.\n",
      "currently 3 many boxes\n",
      "After belief, still 1 many boxes. It took 0.0 many seconds.\n",
      "There are 20 centers in the centers.\n",
      "1 of 1 boxes survived the Ensemble-Check! It took 1.02 many seconds.\n"
     ]
    },
    {
     "name": "stderr",
     "output_type": "stream",
     "text": [
      "\n",
      " 57%|█████▋    | 723/1261 [21:11<18:48,  2.10s/it]\u001b[A"
     ]
    },
    {
     "name": "stdout",
     "output_type": "stream",
     "text": [
      "First net took 0.61 many second to check 342 many pictures.\n",
      "currently 3 many boxes\n",
      "After belief, still 1 many boxes. It took 0.0 many seconds.\n",
      "There are 22 centers in the centers.\n",
      "1 of 1 boxes survived the Ensemble-Check! It took 1.01 many seconds.\n"
     ]
    },
    {
     "name": "stderr",
     "output_type": "stream",
     "text": [
      "\n",
      " 57%|█████▋    | 724/1261 [21:13<19:17,  2.15s/it]\u001b[A"
     ]
    },
    {
     "name": "stdout",
     "output_type": "stream",
     "text": [
      "First net took 0.58 many second to check 342 many pictures.\n",
      "currently 3 many boxes\n",
      "After belief, still 1 many boxes. It took 0.0 many seconds.\n",
      "There are 24 centers in the centers.\n",
      "1 of 1 boxes survived the Ensemble-Check! It took 1.02 many seconds.\n"
     ]
    },
    {
     "name": "stderr",
     "output_type": "stream",
     "text": [
      "\n",
      " 57%|█████▋    | 725/1261 [21:15<19:34,  2.19s/it]\u001b[A"
     ]
    },
    {
     "name": "stdout",
     "output_type": "stream",
     "text": [
      "First net took 0.61 many second to check 342 many pictures.\n",
      "currently 2 many boxes\n",
      "After belief, still 1 many boxes. It took 0.0 many seconds.\n",
      "There are 25 centers in the centers.\n",
      "1 of 1 boxes survived the Ensemble-Check! It took 1.03 many seconds.\n"
     ]
    },
    {
     "name": "stderr",
     "output_type": "stream",
     "text": [
      "\n",
      " 58%|█████▊    | 726/1261 [21:17<19:51,  2.23s/it]\u001b[A"
     ]
    },
    {
     "name": "stdout",
     "output_type": "stream",
     "text": [
      "First net took 0.62 many second to check 342 many pictures.\n",
      "currently 2 many boxes\n",
      "After belief, still 1 many boxes. It took 0.0 many seconds.\n",
      "There are 27 centers in the centers.\n",
      "1 of 1 boxes survived the Ensemble-Check! It took 1.02 many seconds.\n"
     ]
    },
    {
     "name": "stderr",
     "output_type": "stream",
     "text": [
      "\n",
      " 58%|█████▊    | 727/1261 [21:20<20:02,  2.25s/it]\u001b[A"
     ]
    },
    {
     "name": "stdout",
     "output_type": "stream",
     "text": [
      "First net took 0.59 many second to check 342 many pictures.\n",
      "currently 2 many boxes\n",
      "After belief, still 1 many boxes. It took 0.0 many seconds.\n",
      "There are 29 centers in the centers.\n",
      "1 of 1 boxes survived the Ensemble-Check! It took 1.03 many seconds.\n"
     ]
    },
    {
     "name": "stderr",
     "output_type": "stream",
     "text": [
      "\n",
      " 58%|█████▊    | 728/1261 [21:22<20:05,  2.26s/it]\u001b[A"
     ]
    },
    {
     "name": "stdout",
     "output_type": "stream",
     "text": [
      "First net took 0.6 many second to check 342 many pictures.\n",
      "currently 2 many boxes\n",
      "After belief, still 1 many boxes. It took 0.0 many seconds.\n",
      "There are 31 centers in the centers.\n",
      "1 of 1 boxes survived the Ensemble-Check! It took 1.04 many seconds.\n"
     ]
    },
    {
     "name": "stderr",
     "output_type": "stream",
     "text": [
      "\n",
      " 58%|█████▊    | 729/1261 [21:24<20:12,  2.28s/it]\u001b[A"
     ]
    },
    {
     "name": "stdout",
     "output_type": "stream",
     "text": [
      "First net took 0.58 many second to check 342 many pictures.\n",
      "currently 2 many boxes\n",
      "After belief, still 2 many boxes. It took 0.0 many seconds.\n",
      "There are 33 centers in the centers.\n",
      "Deleted Box!\n",
      "1 of 2 boxes survived the Ensemble-Check! It took 1.97 many seconds.\n"
     ]
    },
    {
     "name": "stderr",
     "output_type": "stream",
     "text": [
      "\n",
      " 58%|█████▊    | 730/1261 [21:28<22:38,  2.56s/it]\u001b[A"
     ]
    },
    {
     "name": "stdout",
     "output_type": "stream",
     "text": [
      "First net took 0.59 many second to check 342 many pictures.\n",
      "currently 2 many boxes\n",
      "After belief, still 2 many boxes. It took 0.0 many seconds.\n",
      "There are 35 centers in the centers.\n",
      "Deleted Box!\n",
      "1 of 2 boxes survived the Ensemble-Check! It took 2.03 many seconds.\n"
     ]
    },
    {
     "name": "stderr",
     "output_type": "stream",
     "text": [
      "\n",
      " 58%|█████▊    | 731/1261 [21:31<24:32,  2.78s/it]\u001b[A"
     ]
    },
    {
     "name": "stdout",
     "output_type": "stream",
     "text": [
      "First net took 0.61 many second to check 342 many pictures.\n",
      "currently 2 many boxes\n",
      "After belief, still 2 many boxes. It took 0.0 many seconds.\n",
      "There are 37 centers in the centers.\n",
      "Deleted Box!\n",
      "1 of 2 boxes survived the Ensemble-Check! It took 2.04 many seconds.\n"
     ]
    },
    {
     "name": "stderr",
     "output_type": "stream",
     "text": [
      "\n",
      " 58%|█████▊    | 732/1261 [21:34<25:55,  2.94s/it]\u001b[A"
     ]
    },
    {
     "name": "stdout",
     "output_type": "stream",
     "text": [
      "First net took 0.58 many second to check 342 many pictures.\n",
      "currently 2 many boxes\n",
      "After belief, still 2 many boxes. It took 0.0 many seconds.\n",
      "There are 39 centers in the centers.\n",
      "Deleted Box!\n",
      "1 of 2 boxes survived the Ensemble-Check! It took 2.06 many seconds.\n"
     ]
    },
    {
     "name": "stderr",
     "output_type": "stream",
     "text": [
      "\n",
      " 58%|█████▊    | 733/1261 [21:37<26:53,  3.06s/it]\u001b[A"
     ]
    },
    {
     "name": "stdout",
     "output_type": "stream",
     "text": [
      "First net took 0.59 many second to check 342 many pictures.\n",
      "currently 2 many boxes\n",
      "After belief, still 2 many boxes. It took 0.0 many seconds.\n",
      "There are 41 centers in the centers.\n",
      "Deleted Box!\n",
      "1 of 2 boxes survived the Ensemble-Check! It took 2.07 many seconds.\n"
     ]
    },
    {
     "name": "stderr",
     "output_type": "stream",
     "text": [
      "\n",
      " 58%|█████▊    | 734/1261 [21:41<27:33,  3.14s/it]\u001b[A"
     ]
    },
    {
     "name": "stdout",
     "output_type": "stream",
     "text": [
      "First net took 0.58 many second to check 342 many pictures.\n",
      "currently 2 many boxes\n",
      "After belief, still 2 many boxes. It took 0.0 many seconds.\n",
      "There are 43 centers in the centers.\n",
      "Deleted Box!\n",
      "1 of 2 boxes survived the Ensemble-Check! It took 2.08 many seconds.\n"
     ]
    },
    {
     "name": "stderr",
     "output_type": "stream",
     "text": [
      "\n",
      " 58%|█████▊    | 735/1261 [21:44<28:00,  3.20s/it]\u001b[A"
     ]
    },
    {
     "name": "stdout",
     "output_type": "stream",
     "text": [
      "First net took 0.58 many second to check 342 many pictures.\n",
      "currently 2 many boxes\n",
      "After belief, still 2 many boxes. It took 0.0 many seconds.\n",
      "There are 45 centers in the centers.\n",
      "Deleted Box!\n",
      "1 of 2 boxes survived the Ensemble-Check! It took 2.08 many seconds.\n"
     ]
    },
    {
     "name": "stderr",
     "output_type": "stream",
     "text": [
      "\n",
      " 58%|█████▊    | 736/1261 [21:47<28:19,  3.24s/it]\u001b[A"
     ]
    },
    {
     "name": "stdout",
     "output_type": "stream",
     "text": [
      "First net took 0.58 many second to check 342 many pictures.\n",
      "currently 2 many boxes\n",
      "After belief, still 2 many boxes. It took 0.0 many seconds.\n",
      "There are 47 centers in the centers.\n",
      "Deleted Box!\n",
      "1 of 2 boxes survived the Ensemble-Check! It took 2.06 many seconds.\n"
     ]
    },
    {
     "name": "stderr",
     "output_type": "stream",
     "text": [
      "\n",
      " 58%|█████▊    | 737/1261 [21:51<28:28,  3.26s/it]\u001b[A"
     ]
    },
    {
     "name": "stdout",
     "output_type": "stream",
     "text": [
      "First net took 0.59 many second to check 342 many pictures.\n",
      "currently 2 many boxes\n",
      "After belief, still 2 many boxes. It took 0.0 many seconds.\n",
      "There are 49 centers in the centers.\n",
      "Deleted Box!\n",
      "1 of 2 boxes survived the Ensemble-Check! It took 2.1 many seconds.\n"
     ]
    },
    {
     "name": "stderr",
     "output_type": "stream",
     "text": [
      "\n",
      " 59%|█████▊    | 738/1261 [21:54<28:39,  3.29s/it]\u001b[A"
     ]
    },
    {
     "name": "stdout",
     "output_type": "stream",
     "text": [
      "First net took 0.59 many second to check 342 many pictures.\n",
      "currently 2 many boxes\n",
      "After belief, still 2 many boxes. It took 0.0 many seconds.\n",
      "There are 51 centers in the centers.\n",
      "Deleted Box!\n",
      "1 of 2 boxes survived the Ensemble-Check! It took 2.09 many seconds.\n"
     ]
    },
    {
     "name": "stderr",
     "output_type": "stream",
     "text": [
      "\n",
      " 59%|█████▊    | 739/1261 [21:58<28:45,  3.31s/it]\u001b[A"
     ]
    },
    {
     "name": "stdout",
     "output_type": "stream",
     "text": [
      "First net took 0.58 many second to check 342 many pictures.\n",
      "currently 2 many boxes\n",
      "After belief, still 2 many boxes. It took 0.0 many seconds.\n",
      "There are 53 centers in the centers.\n",
      "Deleted Box!\n",
      "1 of 2 boxes survived the Ensemble-Check! It took 2.11 many seconds.\n"
     ]
    },
    {
     "name": "stderr",
     "output_type": "stream",
     "text": [
      "\n",
      " 59%|█████▊    | 740/1261 [22:01<28:50,  3.32s/it]\u001b[A"
     ]
    },
    {
     "name": "stdout",
     "output_type": "stream",
     "text": [
      "First net took 0.59 many second to check 342 many pictures.\n",
      "currently 2 many boxes\n",
      "After belief, still 2 many boxes. It took 0.0 many seconds.\n",
      "There are 55 centers in the centers.\n",
      "Deleted Box!\n",
      "1 of 2 boxes survived the Ensemble-Check! It took 2.1 many seconds.\n"
     ]
    },
    {
     "name": "stderr",
     "output_type": "stream",
     "text": [
      "\n",
      " 59%|█████▉    | 741/1261 [22:04<28:54,  3.33s/it]\u001b[A"
     ]
    },
    {
     "name": "stdout",
     "output_type": "stream",
     "text": [
      "First net took 0.6 many second to check 342 many pictures.\n",
      "currently 2 many boxes\n",
      "After belief, still 2 many boxes. It took 0.0 many seconds.\n",
      "There are 57 centers in the centers.\n",
      "Deleted Box!\n",
      "1 of 2 boxes survived the Ensemble-Check! It took 2.11 many seconds.\n"
     ]
    },
    {
     "name": "stderr",
     "output_type": "stream",
     "text": [
      "\n",
      " 59%|█████▉    | 742/1261 [22:08<28:59,  3.35s/it]\u001b[A"
     ]
    },
    {
     "name": "stdout",
     "output_type": "stream",
     "text": [
      "First net took 0.59 many second to check 342 many pictures.\n",
      "currently 2 many boxes\n",
      "After belief, still 2 many boxes. It took 0.0 many seconds.\n",
      "There are 59 centers in the centers.\n",
      "Deleted Box!\n",
      "1 of 2 boxes survived the Ensemble-Check! It took 2.1 many seconds.\n"
     ]
    },
    {
     "name": "stderr",
     "output_type": "stream",
     "text": [
      "\n",
      " 59%|█████▉    | 743/1261 [22:11<28:56,  3.35s/it]\u001b[A"
     ]
    },
    {
     "name": "stdout",
     "output_type": "stream",
     "text": [
      "First net took 0.58 many second to check 342 many pictures.\n",
      "currently 3 many boxes\n",
      "After belief, still 2 many boxes. It took 0.0 many seconds.\n",
      "There are 62 centers in the centers.\n",
      "Deleted Box!\n",
      "1 of 2 boxes survived the Ensemble-Check! It took 2.12 many seconds.\n"
     ]
    },
    {
     "name": "stderr",
     "output_type": "stream",
     "text": [
      "\n",
      " 59%|█████▉    | 744/1261 [22:14<28:57,  3.36s/it]\u001b[A"
     ]
    },
    {
     "name": "stdout",
     "output_type": "stream",
     "text": [
      "First net took 0.58 many second to check 342 many pictures.\n",
      "currently 4 many boxes\n",
      "After belief, still 2 many boxes. It took 0.0 many seconds.\n",
      "There are 65 centers in the centers.\n",
      "Deleted Box!\n",
      "1 of 2 boxes survived the Ensemble-Check! It took 2.1 many seconds.\n"
     ]
    },
    {
     "name": "stderr",
     "output_type": "stream",
     "text": [
      "\n",
      " 59%|█████▉    | 745/1261 [22:18<28:52,  3.36s/it]\u001b[A"
     ]
    },
    {
     "name": "stdout",
     "output_type": "stream",
     "text": [
      "First net took 0.58 many second to check 342 many pictures.\n",
      "currently 4 many boxes\n",
      "After belief, still 2 many boxes. It took 0.0 many seconds.\n",
      "There are 67 centers in the centers.\n",
      "Deleted Box!\n",
      "1 of 2 boxes survived the Ensemble-Check! It took 2.12 many seconds.\n"
     ]
    },
    {
     "name": "stderr",
     "output_type": "stream",
     "text": [
      "\n",
      " 59%|█████▉    | 746/1261 [22:21<28:52,  3.36s/it]\u001b[A"
     ]
    },
    {
     "name": "stdout",
     "output_type": "stream",
     "text": [
      "First net took 0.58 many second to check 342 many pictures.\n",
      "currently 3 many boxes\n",
      "After belief, still 2 many boxes. It took 0.0 many seconds.\n",
      "There are 68 centers in the centers.\n",
      "Deleted Box!\n",
      "1 of 2 boxes survived the Ensemble-Check! It took 2.14 many seconds.\n"
     ]
    },
    {
     "name": "stderr",
     "output_type": "stream",
     "text": [
      "\n",
      " 59%|█████▉    | 747/1261 [22:24<28:53,  3.37s/it]\u001b[A"
     ]
    },
    {
     "name": "stdout",
     "output_type": "stream",
     "text": [
      "First net took 0.58 many second to check 342 many pictures.\n",
      "currently 3 many boxes\n",
      "After belief, still 2 many boxes. It took 0.0 many seconds.\n",
      "There are 70 centers in the centers.\n",
      "Deleted Box!\n",
      "1 of 2 boxes survived the Ensemble-Check! It took 2.14 many seconds.\n"
     ]
    },
    {
     "name": "stderr",
     "output_type": "stream",
     "text": [
      "\n",
      " 59%|█████▉    | 748/1261 [22:28<28:53,  3.38s/it]\u001b[A"
     ]
    },
    {
     "name": "stdout",
     "output_type": "stream",
     "text": [
      "First net took 0.59 many second to check 342 many pictures.\n",
      "currently 2 many boxes\n",
      "After belief, still 2 many boxes. It took 0.0 many seconds.\n",
      "There are 71 centers in the centers.\n",
      "Deleted Box!\n",
      "1 of 2 boxes survived the Ensemble-Check! It took 2.12 many seconds.\n"
     ]
    },
    {
     "name": "stderr",
     "output_type": "stream",
     "text": [
      "\n",
      " 59%|█████▉    | 749/1261 [22:31<28:51,  3.38s/it]\u001b[A"
     ]
    },
    {
     "name": "stdout",
     "output_type": "stream",
     "text": [
      "First net took 0.58 many second to check 342 many pictures.\n",
      "currently 2 many boxes\n",
      "After belief, still 2 many boxes. It took 0.0 many seconds.\n",
      "There are 73 centers in the centers.\n",
      "Deleted Box!\n",
      "1 of 2 boxes survived the Ensemble-Check! It took 2.13 many seconds.\n"
     ]
    },
    {
     "name": "stderr",
     "output_type": "stream",
     "text": [
      "\n",
      " 59%|█████▉    | 750/1261 [22:35<29:06,  3.42s/it]\u001b[A"
     ]
    },
    {
     "name": "stdout",
     "output_type": "stream",
     "text": [
      "First net took 0.59 many second to check 342 many pictures.\n",
      "currently 2 many boxes\n",
      "After belief, still 2 many boxes. It took 0.0 many seconds.\n",
      "There are 75 centers in the centers.\n",
      "Deleted Box!\n",
      "1 of 2 boxes survived the Ensemble-Check! It took 2.11 many seconds.\n"
     ]
    },
    {
     "name": "stderr",
     "output_type": "stream",
     "text": [
      "\n",
      " 60%|█████▉    | 751/1261 [22:38<28:55,  3.40s/it]\u001b[A"
     ]
    },
    {
     "name": "stdout",
     "output_type": "stream",
     "text": [
      "First net took 0.59 many second to check 342 many pictures.\n",
      "currently 2 many boxes\n",
      "After belief, still 2 many boxes. It took 0.0 many seconds.\n",
      "There are 77 centers in the centers.\n",
      "Deleted Box!\n",
      "1 of 2 boxes survived the Ensemble-Check! It took 2.13 many seconds.\n"
     ]
    },
    {
     "name": "stderr",
     "output_type": "stream",
     "text": [
      "\n",
      " 60%|█████▉    | 752/1261 [22:42<28:49,  3.40s/it]\u001b[A"
     ]
    },
    {
     "name": "stdout",
     "output_type": "stream",
     "text": [
      "First net took 0.61 many second to check 342 many pictures.\n",
      "currently 2 many boxes\n",
      "After belief, still 2 many boxes. It took 0.0 many seconds.\n",
      "There are 79 centers in the centers.\n",
      "Deleted Box!\n",
      "1 of 2 boxes survived the Ensemble-Check! It took 2.13 many seconds.\n"
     ]
    },
    {
     "name": "stderr",
     "output_type": "stream",
     "text": [
      "\n",
      " 60%|█████▉    | 753/1261 [22:45<28:47,  3.40s/it]\u001b[A"
     ]
    },
    {
     "name": "stdout",
     "output_type": "stream",
     "text": [
      "First net took 0.58 many second to check 342 many pictures.\n",
      "currently 2 many boxes\n",
      "After belief, still 2 many boxes. It took 0.0 many seconds.\n",
      "There are 81 centers in the centers.\n",
      "Deleted Box!\n",
      "1 of 2 boxes survived the Ensemble-Check! It took 2.1 many seconds.\n"
     ]
    },
    {
     "name": "stderr",
     "output_type": "stream",
     "text": [
      "\n",
      " 60%|█████▉    | 754/1261 [22:48<28:36,  3.39s/it]\u001b[A"
     ]
    },
    {
     "name": "stdout",
     "output_type": "stream",
     "text": [
      "First net took 0.62 many second to check 342 many pictures.\n",
      "currently 2 many boxes\n",
      "After belief, still 2 many boxes. It took 0.0 many seconds.\n",
      "There are 83 centers in the centers.\n",
      "Deleted Box!\n",
      "1 of 2 boxes survived the Ensemble-Check! It took 2.11 many seconds.\n"
     ]
    },
    {
     "name": "stderr",
     "output_type": "stream",
     "text": [
      "\n",
      " 60%|█████▉    | 755/1261 [22:52<28:36,  3.39s/it]\u001b[A"
     ]
    },
    {
     "name": "stdout",
     "output_type": "stream",
     "text": [
      "First net took 0.6 many second to check 342 many pictures.\n",
      "currently 3 many boxes\n",
      "After belief, still 2 many boxes. It took 0.0 many seconds.\n",
      "There are 61 centers in the centers.\n",
      "Deleted Box!\n",
      "1 of 2 boxes survived the Ensemble-Check! It took 2.08 many seconds.\n"
     ]
    },
    {
     "name": "stderr",
     "output_type": "stream",
     "text": [
      "\n",
      " 60%|█████▉    | 756/1261 [22:55<28:26,  3.38s/it]\u001b[A"
     ]
    },
    {
     "name": "stdout",
     "output_type": "stream",
     "text": [
      "First net took 0.59 many second to check 342 many pictures.\n",
      "currently 3 many boxes\n",
      "After belief, still 1 many boxes. It took 0.0 many seconds.\n",
      "There are 51 centers in the centers.\n",
      "1 of 1 boxes survived the Ensemble-Check! It took 1.11 many seconds.\n"
     ]
    },
    {
     "name": "stderr",
     "output_type": "stream",
     "text": [
      "\n",
      " 60%|██████    | 757/1261 [22:57<25:50,  3.08s/it]\u001b[A"
     ]
    },
    {
     "name": "stdout",
     "output_type": "stream",
     "text": [
      "First net took 0.59 many second to check 342 many pictures.\n",
      "currently 3 many boxes\n",
      "After belief, still 1 many boxes. It took 0.0 many seconds.\n",
      "There are 52 centers in the centers.\n",
      "1 of 1 boxes survived the Ensemble-Check! It took 1.12 many seconds.\n"
     ]
    },
    {
     "name": "stderr",
     "output_type": "stream",
     "text": [
      "\n",
      " 60%|██████    | 758/1261 [23:00<24:02,  2.87s/it]\u001b[A"
     ]
    },
    {
     "name": "stdout",
     "output_type": "stream",
     "text": [
      "First net took 0.59 many second to check 342 many pictures.\n",
      "currently 1 many boxes\n",
      "After belief, still 1 many boxes. It took 0.0 many seconds.\n",
      "There are 51 centers in the centers.\n",
      "1 of 1 boxes survived the Ensemble-Check! It took 1.15 many seconds.\n"
     ]
    },
    {
     "name": "stderr",
     "output_type": "stream",
     "text": [
      "\n",
      " 60%|██████    | 759/1261 [23:02<22:50,  2.73s/it]\u001b[A"
     ]
    },
    {
     "name": "stdout",
     "output_type": "stream",
     "text": [
      "First net took 0.58 many second to check 342 many pictures.\n",
      "currently 1 many boxes\n",
      "After belief, still 1 many boxes. It took 0.0 many seconds.\n",
      "There are 52 centers in the centers.\n",
      "1 of 1 boxes survived the Ensemble-Check! It took 1.13 many seconds.\n"
     ]
    },
    {
     "name": "stderr",
     "output_type": "stream",
     "text": [
      "\n",
      " 60%|██████    | 760/1261 [23:05<21:54,  2.62s/it]\u001b[A"
     ]
    },
    {
     "name": "stdout",
     "output_type": "stream",
     "text": [
      "First net took 0.59 many second to check 342 many pictures.\n",
      "currently 1 many boxes\n",
      "After belief, still 1 many boxes. It took 0.0 many seconds.\n",
      "There are 53 centers in the centers.\n",
      "1 of 1 boxes survived the Ensemble-Check! It took 1.13 many seconds.\n"
     ]
    },
    {
     "name": "stderr",
     "output_type": "stream",
     "text": [
      "\n",
      " 60%|██████    | 761/1261 [23:07<21:15,  2.55s/it]\u001b[A"
     ]
    },
    {
     "name": "stdout",
     "output_type": "stream",
     "text": [
      "First net took 0.58 many second to check 342 many pictures.\n",
      "currently 1 many boxes\n",
      "After belief, still 1 many boxes. It took 0.0 many seconds.\n",
      "There are 54 centers in the centers.\n",
      "1 of 1 boxes survived the Ensemble-Check! It took 1.13 many seconds.\n"
     ]
    },
    {
     "name": "stderr",
     "output_type": "stream",
     "text": [
      "\n",
      " 60%|██████    | 762/1261 [23:09<20:46,  2.50s/it]\u001b[A"
     ]
    },
    {
     "name": "stdout",
     "output_type": "stream",
     "text": [
      "First net took 0.59 many second to check 342 many pictures.\n",
      "currently 1 many boxes\n",
      "After belief, still 1 many boxes. It took 0.0 many seconds.\n",
      "There are 55 centers in the centers.\n",
      "1 of 1 boxes survived the Ensemble-Check! It took 1.13 many seconds.\n"
     ]
    },
    {
     "name": "stderr",
     "output_type": "stream",
     "text": [
      "\n",
      " 61%|██████    | 763/1261 [23:12<20:27,  2.47s/it]\u001b[A"
     ]
    },
    {
     "name": "stdout",
     "output_type": "stream",
     "text": [
      "First net took 0.58 many second to check 342 many pictures.\n",
      "currently 1 many boxes\n",
      "After belief, still 1 many boxes. It took 0.0 many seconds.\n",
      "There are 56 centers in the centers.\n",
      "1 of 1 boxes survived the Ensemble-Check! It took 1.13 many seconds.\n"
     ]
    },
    {
     "name": "stderr",
     "output_type": "stream",
     "text": [
      "\n",
      " 61%|██████    | 764/1261 [23:14<20:11,  2.44s/it]\u001b[A"
     ]
    },
    {
     "name": "stdout",
     "output_type": "stream",
     "text": [
      "First net took 0.57 many second to check 342 many pictures.\n",
      "currently 2 many boxes\n",
      "After belief, still 1 many boxes. It took 0.0 many seconds.\n",
      "There are 58 centers in the centers.\n",
      "1 of 1 boxes survived the Ensemble-Check! It took 1.12 many seconds.\n"
     ]
    },
    {
     "name": "stderr",
     "output_type": "stream",
     "text": [
      "\n",
      " 61%|██████    | 765/1261 [23:16<19:59,  2.42s/it]\u001b[A"
     ]
    },
    {
     "name": "stdout",
     "output_type": "stream",
     "text": [
      "First net took 0.58 many second to check 342 many pictures.\n",
      "currently 1 many boxes\n",
      "After belief, still 1 many boxes. It took 0.0 many seconds.\n",
      "There are 58 centers in the centers.\n",
      "1 of 1 boxes survived the Ensemble-Check! It took 1.14 many seconds.\n"
     ]
    },
    {
     "name": "stderr",
     "output_type": "stream",
     "text": [
      "\n",
      " 61%|██████    | 766/1261 [23:19<19:52,  2.41s/it]\u001b[A"
     ]
    },
    {
     "name": "stdout",
     "output_type": "stream",
     "text": [
      "First net took 0.59 many second to check 342 many pictures.\n",
      "currently 1 many boxes\n",
      "After belief, still 1 many boxes. It took 0.0 many seconds.\n",
      "There are 59 centers in the centers.\n",
      "1 of 1 boxes survived the Ensemble-Check! It took 1.15 many seconds.\n"
     ]
    },
    {
     "name": "stderr",
     "output_type": "stream",
     "text": [
      "\n",
      " 61%|██████    | 767/1261 [23:21<19:50,  2.41s/it]\u001b[A"
     ]
    },
    {
     "name": "stdout",
     "output_type": "stream",
     "text": [
      "First net took 0.62 many second to check 342 many pictures.\n",
      "currently 1 many boxes\n",
      "After belief, still 1 many boxes. It took 0.0 many seconds.\n",
      "There are 60 centers in the centers.\n",
      "1 of 1 boxes survived the Ensemble-Check! It took 1.16 many seconds.\n"
     ]
    },
    {
     "name": "stderr",
     "output_type": "stream",
     "text": [
      "\n",
      " 61%|██████    | 768/1261 [23:24<19:53,  2.42s/it]\u001b[A"
     ]
    },
    {
     "name": "stdout",
     "output_type": "stream",
     "text": [
      "First net took 0.58 many second to check 342 many pictures.\n",
      "currently 1 many boxes\n",
      "After belief, still 1 many boxes. It took 0.0 many seconds.\n",
      "There are 61 centers in the centers.\n",
      "1 of 1 boxes survived the Ensemble-Check! It took 1.15 many seconds.\n"
     ]
    },
    {
     "name": "stderr",
     "output_type": "stream",
     "text": [
      "\n",
      " 61%|██████    | 769/1261 [23:26<19:47,  2.41s/it]\u001b[A"
     ]
    },
    {
     "name": "stdout",
     "output_type": "stream",
     "text": [
      "First net took 0.58 many second to check 342 many pictures.\n",
      "currently 1 many boxes\n",
      "After belief, still 1 many boxes. It took 0.0 many seconds.\n",
      "There are 62 centers in the centers.\n",
      "1 of 1 boxes survived the Ensemble-Check! It took 1.14 many seconds.\n"
     ]
    },
    {
     "name": "stderr",
     "output_type": "stream",
     "text": [
      "\n",
      " 61%|██████    | 770/1261 [23:28<19:40,  2.40s/it]\u001b[A"
     ]
    },
    {
     "name": "stdout",
     "output_type": "stream",
     "text": [
      "First net took 0.59 many second to check 342 many pictures.\n",
      "currently 1 many boxes\n",
      "After belief, still 1 many boxes. It took 0.0 many seconds.\n",
      "There are 63 centers in the centers.\n",
      "1 of 1 boxes survived the Ensemble-Check! It took 1.16 many seconds.\n"
     ]
    },
    {
     "name": "stderr",
     "output_type": "stream",
     "text": [
      "\n",
      " 61%|██████    | 771/1261 [23:31<19:39,  2.41s/it]\u001b[A"
     ]
    },
    {
     "name": "stdout",
     "output_type": "stream",
     "text": [
      "First net took 0.58 many second to check 342 many pictures.\n",
      "currently 1 many boxes\n",
      "After belief, still 1 many boxes. It took 0.0 many seconds.\n",
      "There are 64 centers in the centers.\n",
      "1 of 1 boxes survived the Ensemble-Check! It took 1.14 many seconds.\n"
     ]
    },
    {
     "name": "stderr",
     "output_type": "stream",
     "text": [
      "\n",
      " 61%|██████    | 772/1261 [23:33<19:33,  2.40s/it]\u001b[A"
     ]
    },
    {
     "name": "stdout",
     "output_type": "stream",
     "text": [
      "First net took 0.58 many second to check 342 many pictures.\n",
      "currently 1 many boxes\n",
      "After belief, still 1 many boxes. It took 0.0 many seconds.\n",
      "There are 65 centers in the centers.\n",
      "1 of 1 boxes survived the Ensemble-Check! It took 1.14 many seconds.\n"
     ]
    },
    {
     "name": "stderr",
     "output_type": "stream",
     "text": [
      "\n",
      " 61%|██████▏   | 773/1261 [23:36<19:29,  2.40s/it]\u001b[A"
     ]
    },
    {
     "name": "stdout",
     "output_type": "stream",
     "text": [
      "First net took 0.59 many second to check 342 many pictures.\n",
      "currently 1 many boxes\n",
      "After belief, still 1 many boxes. It took 0.0 many seconds.\n",
      "There are 66 centers in the centers.\n",
      "1 of 1 boxes survived the Ensemble-Check! It took 1.15 many seconds.\n"
     ]
    },
    {
     "name": "stderr",
     "output_type": "stream",
     "text": [
      "\n",
      " 61%|██████▏   | 774/1261 [23:38<19:28,  2.40s/it]\u001b[A"
     ]
    },
    {
     "name": "stdout",
     "output_type": "stream",
     "text": [
      "First net took 0.59 many second to check 342 many pictures.\n",
      "currently 1 many boxes\n",
      "After belief, still 1 many boxes. It took 0.0 many seconds.\n",
      "There are 67 centers in the centers.\n",
      "1 of 1 boxes survived the Ensemble-Check! It took 1.14 many seconds.\n"
     ]
    },
    {
     "name": "stderr",
     "output_type": "stream",
     "text": [
      "\n",
      " 61%|██████▏   | 775/1261 [23:40<19:24,  2.40s/it]\u001b[A"
     ]
    },
    {
     "name": "stdout",
     "output_type": "stream",
     "text": [
      "First net took 0.58 many second to check 342 many pictures.\n",
      "currently 1 many boxes\n",
      "After belief, still 1 many boxes. It took 0.0 many seconds.\n",
      "There are 68 centers in the centers.\n",
      "1 of 1 boxes survived the Ensemble-Check! It took 1.13 many seconds.\n"
     ]
    },
    {
     "name": "stderr",
     "output_type": "stream",
     "text": [
      "\n",
      " 62%|██████▏   | 776/1261 [23:43<19:19,  2.39s/it]\u001b[A"
     ]
    },
    {
     "name": "stdout",
     "output_type": "stream",
     "text": [
      "First net took 0.58 many second to check 342 many pictures.\n",
      "currently 1 many boxes\n",
      "After belief, still 1 many boxes. It took 0.0 many seconds.\n",
      "There are 69 centers in the centers.\n",
      "1 of 1 boxes survived the Ensemble-Check! It took 1.17 many seconds.\n"
     ]
    },
    {
     "name": "stderr",
     "output_type": "stream",
     "text": [
      "\n",
      " 62%|██████▏   | 777/1261 [23:45<19:20,  2.40s/it]\u001b[A"
     ]
    },
    {
     "name": "stdout",
     "output_type": "stream",
     "text": [
      "First net took 0.58 many second to check 342 many pictures.\n",
      "currently 1 many boxes\n",
      "After belief, still 1 many boxes. It took 0.0 many seconds.\n",
      "There are 70 centers in the centers.\n",
      "1 of 1 boxes survived the Ensemble-Check! It took 1.15 many seconds.\n"
     ]
    },
    {
     "name": "stderr",
     "output_type": "stream",
     "text": [
      "\n",
      " 62%|██████▏   | 778/1261 [23:48<19:18,  2.40s/it]\u001b[A"
     ]
    },
    {
     "name": "stdout",
     "output_type": "stream",
     "text": [
      "First net took 0.59 many second to check 342 many pictures.\n",
      "currently 1 many boxes\n",
      "After belief, still 1 many boxes. It took 0.0 many seconds.\n",
      "There are 71 centers in the centers.\n",
      "1 of 1 boxes survived the Ensemble-Check! It took 1.13 many seconds.\n"
     ]
    },
    {
     "name": "stderr",
     "output_type": "stream",
     "text": [
      "\n",
      " 62%|██████▏   | 779/1261 [23:50<19:14,  2.39s/it]\u001b[A"
     ]
    },
    {
     "name": "stdout",
     "output_type": "stream",
     "text": [
      "First net took 0.58 many second to check 342 many pictures.\n",
      "currently 1 many boxes\n",
      "After belief, still 1 many boxes. It took 0.0 many seconds.\n",
      "There are 72 centers in the centers.\n",
      "1 of 1 boxes survived the Ensemble-Check! It took 1.15 many seconds.\n"
     ]
    },
    {
     "name": "stderr",
     "output_type": "stream",
     "text": [
      "\n",
      " 62%|██████▏   | 780/1261 [23:52<19:12,  2.40s/it]\u001b[A"
     ]
    },
    {
     "name": "stdout",
     "output_type": "stream",
     "text": [
      "First net took 0.58 many second to check 342 many pictures.\n",
      "currently 1 many boxes\n",
      "After belief, still 1 many boxes. It took 0.0 many seconds.\n",
      "There are 73 centers in the centers.\n",
      "1 of 1 boxes survived the Ensemble-Check! It took 1.13 many seconds.\n"
     ]
    },
    {
     "name": "stderr",
     "output_type": "stream",
     "text": [
      "\n",
      " 62%|██████▏   | 781/1261 [23:55<19:07,  2.39s/it]\u001b[A"
     ]
    },
    {
     "name": "stdout",
     "output_type": "stream",
     "text": [
      "First net took 0.58 many second to check 342 many pictures.\n",
      "currently 1 many boxes\n",
      "After belief, still 1 many boxes. It took 0.0 many seconds.\n",
      "There are 74 centers in the centers.\n",
      "1 of 1 boxes survived the Ensemble-Check! It took 1.13 many seconds.\n"
     ]
    },
    {
     "name": "stderr",
     "output_type": "stream",
     "text": [
      "\n",
      " 62%|██████▏   | 782/1261 [23:57<19:04,  2.39s/it]\u001b[A"
     ]
    },
    {
     "name": "stdout",
     "output_type": "stream",
     "text": [
      "First net took 0.59 many second to check 342 many pictures.\n",
      "currently 1 many boxes\n",
      "After belief, still 1 many boxes. It took 0.0 many seconds.\n",
      "There are 75 centers in the centers.\n",
      "1 of 1 boxes survived the Ensemble-Check! It took 1.14 many seconds.\n"
     ]
    },
    {
     "name": "stderr",
     "output_type": "stream",
     "text": [
      "\n",
      " 62%|██████▏   | 783/1261 [24:00<19:02,  2.39s/it]\u001b[A"
     ]
    },
    {
     "name": "stdout",
     "output_type": "stream",
     "text": [
      "First net took 0.58 many second to check 342 many pictures.\n",
      "currently 1 many boxes\n",
      "After belief, still 1 many boxes. It took 0.0 many seconds.\n",
      "There are 76 centers in the centers.\n",
      "1 of 1 boxes survived the Ensemble-Check! It took 1.13 many seconds.\n"
     ]
    },
    {
     "name": "stderr",
     "output_type": "stream",
     "text": [
      "\n",
      " 62%|██████▏   | 784/1261 [24:02<18:56,  2.38s/it]\u001b[A"
     ]
    },
    {
     "name": "stdout",
     "output_type": "stream",
     "text": [
      "First net took 0.58 many second to check 342 many pictures.\n",
      "currently 1 many boxes\n",
      "After belief, still 1 many boxes. It took 0.0 many seconds.\n",
      "There are 77 centers in the centers.\n",
      "1 of 1 boxes survived the Ensemble-Check! It took 1.13 many seconds.\n"
     ]
    },
    {
     "name": "stderr",
     "output_type": "stream",
     "text": [
      "\n",
      " 62%|██████▏   | 785/1261 [24:04<18:53,  2.38s/it]\u001b[A"
     ]
    },
    {
     "name": "stdout",
     "output_type": "stream",
     "text": [
      "First net took 0.58 many second to check 342 many pictures.\n",
      "currently 1 many boxes\n",
      "After belief, still 1 many boxes. It took 0.0 many seconds.\n",
      "There are 78 centers in the centers.\n",
      "1 of 1 boxes survived the Ensemble-Check! It took 1.13 many seconds.\n"
     ]
    },
    {
     "name": "stderr",
     "output_type": "stream",
     "text": [
      "\n",
      " 62%|██████▏   | 786/1261 [24:07<18:50,  2.38s/it]\u001b[A"
     ]
    },
    {
     "name": "stdout",
     "output_type": "stream",
     "text": [
      "First net took 0.58 many second to check 342 many pictures.\n",
      "currently 1 many boxes\n",
      "After belief, still 1 many boxes. It took 0.0 many seconds.\n",
      "There are 79 centers in the centers.\n",
      "1 of 1 boxes survived the Ensemble-Check! It took 1.14 many seconds.\n"
     ]
    },
    {
     "name": "stderr",
     "output_type": "stream",
     "text": [
      "\n",
      " 62%|██████▏   | 787/1261 [24:09<18:49,  2.38s/it]\u001b[A"
     ]
    },
    {
     "name": "stdout",
     "output_type": "stream",
     "text": [
      "First net took 0.58 many second to check 342 many pictures.\n",
      "currently 1 many boxes\n",
      "After belief, still 1 many boxes. It took 0.0 many seconds.\n",
      "There are 80 centers in the centers.\n",
      "1 of 1 boxes survived the Ensemble-Check! It took 1.15 many seconds.\n"
     ]
    },
    {
     "name": "stderr",
     "output_type": "stream",
     "text": [
      "\n",
      " 62%|██████▏   | 788/1261 [24:12<18:49,  2.39s/it]\u001b[A"
     ]
    },
    {
     "name": "stdout",
     "output_type": "stream",
     "text": [
      "First net took 0.58 many second to check 342 many pictures.\n",
      "currently 1 many boxes\n",
      "After belief, still 1 many boxes. It took 0.0 many seconds.\n",
      "There are 81 centers in the centers.\n",
      "1 of 1 boxes survived the Ensemble-Check! It took 1.14 many seconds.\n"
     ]
    },
    {
     "name": "stderr",
     "output_type": "stream",
     "text": [
      "\n",
      " 63%|██████▎   | 789/1261 [24:14<18:47,  2.39s/it]\u001b[A"
     ]
    },
    {
     "name": "stdout",
     "output_type": "stream",
     "text": [
      "First net took 0.58 many second to check 342 many pictures.\n",
      "currently 1 many boxes\n",
      "After belief, still 1 many boxes. It took 0.0 many seconds.\n",
      "There are 82 centers in the centers.\n",
      "1 of 1 boxes survived the Ensemble-Check! It took 1.13 many seconds.\n"
     ]
    },
    {
     "name": "stderr",
     "output_type": "stream",
     "text": [
      "\n",
      " 63%|██████▎   | 790/1261 [24:16<18:44,  2.39s/it]\u001b[A"
     ]
    },
    {
     "name": "stdout",
     "output_type": "stream",
     "text": [
      "First net took 0.62 many second to check 342 many pictures.\n",
      "currently 1 many boxes\n",
      "After belief, still 1 many boxes. It took 0.0 many seconds.\n",
      "There are 80 centers in the centers.\n",
      "1 of 1 boxes survived the Ensemble-Check! It took 1.13 many seconds.\n"
     ]
    },
    {
     "name": "stderr",
     "output_type": "stream",
     "text": [
      "\n",
      " 63%|██████▎   | 791/1261 [24:19<18:46,  2.40s/it]\u001b[A"
     ]
    },
    {
     "name": "stdout",
     "output_type": "stream",
     "text": [
      "First net took 0.62 many second to check 342 many pictures.\n",
      "currently 1 many boxes\n",
      "After belief, still 1 many boxes. It took 0.0 many seconds.\n",
      "There are 81 centers in the centers.\n",
      "1 of 1 boxes survived the Ensemble-Check! It took 1.13 many seconds.\n"
     ]
    },
    {
     "name": "stderr",
     "output_type": "stream",
     "text": [
      "\n",
      " 63%|██████▎   | 792/1261 [24:21<18:46,  2.40s/it]\u001b[A"
     ]
    },
    {
     "name": "stdout",
     "output_type": "stream",
     "text": [
      "First net took 0.61 many second to check 342 many pictures.\n",
      "currently 1 many boxes\n",
      "After belief, still 1 many boxes. It took 0.0 many seconds.\n",
      "There are 82 centers in the centers.\n",
      "1 of 1 boxes survived the Ensemble-Check! It took 1.12 many seconds.\n"
     ]
    },
    {
     "name": "stderr",
     "output_type": "stream",
     "text": [
      "\n",
      " 63%|██████▎   | 793/1261 [24:24<18:43,  2.40s/it]\u001b[A"
     ]
    },
    {
     "name": "stdout",
     "output_type": "stream",
     "text": [
      "First net took 0.6 many second to check 342 many pictures.\n",
      "currently 1 many boxes\n",
      "After belief, still 1 many boxes. It took 0.0 many seconds.\n",
      "There are 83 centers in the centers.\n",
      "1 of 1 boxes survived the Ensemble-Check! It took 1.13 many seconds.\n"
     ]
    },
    {
     "name": "stderr",
     "output_type": "stream",
     "text": [
      "\n",
      " 63%|██████▎   | 794/1261 [24:26<18:40,  2.40s/it]\u001b[A"
     ]
    },
    {
     "name": "stdout",
     "output_type": "stream",
     "text": [
      "First net took 0.59 many second to check 342 many pictures.\n",
      "currently 1 many boxes\n",
      "After belief, still 1 many boxes. It took 0.0 many seconds.\n",
      "There are 84 centers in the centers.\n",
      "1 of 1 boxes survived the Ensemble-Check! It took 1.1 many seconds.\n"
     ]
    },
    {
     "name": "stderr",
     "output_type": "stream",
     "text": [
      "\n",
      " 63%|██████▎   | 795/1261 [24:28<18:32,  2.39s/it]\u001b[A"
     ]
    },
    {
     "name": "stdout",
     "output_type": "stream",
     "text": [
      "First net took 0.58 many second to check 342 many pictures.\n",
      "currently 1 many boxes\n",
      "After belief, still 1 many boxes. It took 0.0 many seconds.\n",
      "There are 85 centers in the centers.\n",
      "1 of 1 boxes survived the Ensemble-Check! It took 1.1 many seconds.\n"
     ]
    },
    {
     "name": "stderr",
     "output_type": "stream",
     "text": [
      "\n",
      " 63%|██████▎   | 796/1261 [24:31<18:25,  2.38s/it]\u001b[A"
     ]
    },
    {
     "name": "stdout",
     "output_type": "stream",
     "text": [
      "First net took 0.58 many second to check 342 many pictures.\n",
      "currently 1 many boxes\n",
      "After belief, still 1 many boxes. It took 0.0 many seconds.\n",
      "There are 86 centers in the centers.\n",
      "1 of 1 boxes survived the Ensemble-Check! It took 1.11 many seconds.\n"
     ]
    },
    {
     "name": "stderr",
     "output_type": "stream",
     "text": [
      "\n",
      " 63%|██████▎   | 797/1261 [24:33<18:20,  2.37s/it]\u001b[A"
     ]
    },
    {
     "name": "stdout",
     "output_type": "stream",
     "text": [
      "First net took 0.59 many second to check 342 many pictures.\n",
      "currently 1 many boxes\n",
      "After belief, still 1 many boxes. It took 0.0 many seconds.\n",
      "There are 87 centers in the centers.\n",
      "1 of 1 boxes survived the Ensemble-Check! It took 1.1 many seconds.\n"
     ]
    },
    {
     "name": "stderr",
     "output_type": "stream",
     "text": [
      "\n",
      " 63%|██████▎   | 798/1261 [24:35<18:16,  2.37s/it]\u001b[A"
     ]
    },
    {
     "name": "stdout",
     "output_type": "stream",
     "text": [
      "First net took 0.58 many second to check 342 many pictures.\n",
      "currently 1 many boxes\n",
      "After belief, still 1 many boxes. It took 0.0 many seconds.\n",
      "There are 88 centers in the centers.\n",
      "1 of 1 boxes survived the Ensemble-Check! It took 1.1 many seconds.\n"
     ]
    },
    {
     "name": "stderr",
     "output_type": "stream",
     "text": [
      "\n",
      " 63%|██████▎   | 799/1261 [24:38<18:10,  2.36s/it]\u001b[A"
     ]
    },
    {
     "name": "stdout",
     "output_type": "stream",
     "text": [
      "First net took 0.58 many second to check 342 many pictures.\n",
      "currently 1 many boxes\n",
      "After belief, still 1 many boxes. It took 0.0 many seconds.\n",
      "There are 89 centers in the centers.\n",
      "1 of 1 boxes survived the Ensemble-Check! It took 1.11 many seconds.\n"
     ]
    },
    {
     "name": "stderr",
     "output_type": "stream",
     "text": [
      "\n",
      " 63%|██████▎   | 800/1261 [24:40<18:08,  2.36s/it]\u001b[A"
     ]
    },
    {
     "name": "stdout",
     "output_type": "stream",
     "text": [
      "First net took 0.58 many second to check 342 many pictures.\n",
      "currently 1 many boxes\n",
      "After belief, still 1 many boxes. It took 0.0 many seconds.\n",
      "There are 90 centers in the centers.\n",
      "1 of 1 boxes survived the Ensemble-Check! It took 1.09 many seconds.\n"
     ]
    },
    {
     "name": "stderr",
     "output_type": "stream",
     "text": [
      "\n",
      " 64%|██████▎   | 801/1261 [24:42<18:02,  2.35s/it]\u001b[A"
     ]
    },
    {
     "name": "stdout",
     "output_type": "stream",
     "text": [
      "First net took 0.59 many second to check 342 many pictures.\n",
      "currently 1 many boxes\n",
      "After belief, still 1 many boxes. It took 0.0 many seconds.\n",
      "There are 88 centers in the centers.\n",
      "1 of 1 boxes survived the Ensemble-Check! It took 1.1 many seconds.\n"
     ]
    },
    {
     "name": "stderr",
     "output_type": "stream",
     "text": [
      "\n",
      " 64%|██████▎   | 802/1261 [24:45<18:00,  2.35s/it]\u001b[A"
     ]
    },
    {
     "name": "stdout",
     "output_type": "stream",
     "text": [
      "First net took 0.59 many second to check 342 many pictures.\n",
      "currently 1 many boxes\n",
      "After belief, still 1 many boxes. It took 0.0 many seconds.\n",
      "There are 81 centers in the centers.\n",
      "1 of 1 boxes survived the Ensemble-Check! It took 1.14 many seconds.\n"
     ]
    },
    {
     "name": "stderr",
     "output_type": "stream",
     "text": [
      "\n",
      " 64%|██████▎   | 803/1261 [24:47<18:04,  2.37s/it]\u001b[A"
     ]
    },
    {
     "name": "stdout",
     "output_type": "stream",
     "text": [
      "First net took 0.58 many second to check 342 many pictures.\n",
      "currently 1 many boxes\n",
      "After belief, still 1 many boxes. It took 0.0 many seconds.\n",
      "There are 73 centers in the centers.\n",
      "1 of 1 boxes survived the Ensemble-Check! It took 1.09 many seconds.\n"
     ]
    },
    {
     "name": "stderr",
     "output_type": "stream",
     "text": [
      "\n",
      " 64%|██████▍   | 804/1261 [24:49<17:58,  2.36s/it]\u001b[A"
     ]
    },
    {
     "name": "stdout",
     "output_type": "stream",
     "text": [
      "First net took 0.58 many second to check 342 many pictures.\n",
      "currently 1 many boxes\n",
      "After belief, still 1 many boxes. It took 0.0 many seconds.\n",
      "There are 74 centers in the centers.\n",
      "1 of 1 boxes survived the Ensemble-Check! It took 1.1 many seconds.\n"
     ]
    },
    {
     "name": "stderr",
     "output_type": "stream",
     "text": [
      "\n",
      " 64%|██████▍   | 805/1261 [24:52<17:53,  2.36s/it]\u001b[A"
     ]
    },
    {
     "name": "stdout",
     "output_type": "stream",
     "text": [
      "First net took 0.62 many second to check 342 many pictures.\n",
      "currently 1 many boxes\n",
      "After belief, still 1 many boxes. It took 0.0 many seconds.\n",
      "There are 71 centers in the centers.\n",
      "1 of 1 boxes survived the Ensemble-Check! It took 1.12 many seconds.\n"
     ]
    },
    {
     "name": "stderr",
     "output_type": "stream",
     "text": [
      "\n",
      " 64%|██████▍   | 806/1261 [24:54<17:58,  2.37s/it]\u001b[A"
     ]
    },
    {
     "name": "stdout",
     "output_type": "stream",
     "text": [
      "First net took 0.59 many second to check 342 many pictures.\n",
      "currently 1 many boxes\n",
      "After belief, still 1 many boxes. It took 0.0 many seconds.\n",
      "There are 72 centers in the centers.\n",
      "1 of 1 boxes survived the Ensemble-Check! It took 1.15 many seconds.\n"
     ]
    },
    {
     "name": "stderr",
     "output_type": "stream",
     "text": [
      "\n",
      " 64%|██████▍   | 807/1261 [24:57<18:01,  2.38s/it]\u001b[A"
     ]
    },
    {
     "name": "stdout",
     "output_type": "stream",
     "text": [
      "First net took 0.68 many second to check 342 many pictures.\n",
      "currently 1 many boxes\n",
      "After belief, still 1 many boxes. It took 0.0 many seconds.\n",
      "There are 73 centers in the centers.\n",
      "1 of 1 boxes survived the Ensemble-Check! It took 1.18 many seconds.\n"
     ]
    },
    {
     "name": "stderr",
     "output_type": "stream",
     "text": [
      "\n",
      " 64%|██████▍   | 808/1261 [24:59<18:19,  2.43s/it]\u001b[A"
     ]
    },
    {
     "name": "stdout",
     "output_type": "stream",
     "text": [
      "First net took 0.59 many second to check 342 many pictures.\n",
      "currently 1 many boxes\n",
      "After belief, still 1 many boxes. It took 0.0 many seconds.\n",
      "There are 74 centers in the centers.\n",
      "1 of 1 boxes survived the Ensemble-Check! It took 1.12 many seconds.\n"
     ]
    },
    {
     "name": "stderr",
     "output_type": "stream",
     "text": [
      "\n",
      " 64%|██████▍   | 809/1261 [25:02<18:10,  2.41s/it]\u001b[A"
     ]
    },
    {
     "name": "stdout",
     "output_type": "stream",
     "text": [
      "First net took 0.61 many second to check 342 many pictures.\n",
      "currently 1 many boxes\n",
      "After belief, still 1 many boxes. It took 0.0 many seconds.\n",
      "There are 75 centers in the centers.\n",
      "1 of 1 boxes survived the Ensemble-Check! It took 1.11 many seconds.\n"
     ]
    },
    {
     "name": "stderr",
     "output_type": "stream",
     "text": [
      "\n",
      " 64%|██████▍   | 810/1261 [25:04<18:05,  2.41s/it]\u001b[A"
     ]
    },
    {
     "name": "stdout",
     "output_type": "stream",
     "text": [
      "First net took 0.58 many second to check 342 many pictures.\n",
      "currently 1 many boxes\n",
      "After belief, still 1 many boxes. It took 0.0 many seconds.\n",
      "There are 76 centers in the centers.\n",
      "1 of 1 boxes survived the Ensemble-Check! It took 1.12 many seconds.\n"
     ]
    },
    {
     "name": "stderr",
     "output_type": "stream",
     "text": [
      "\n",
      " 64%|██████▍   | 811/1261 [25:06<17:57,  2.39s/it]\u001b[A"
     ]
    },
    {
     "name": "stdout",
     "output_type": "stream",
     "text": [
      "First net took 0.58 many second to check 342 many pictures.\n",
      "currently 1 many boxes\n",
      "After belief, still 1 many boxes. It took 0.0 many seconds.\n",
      "There are 77 centers in the centers.\n",
      "1 of 1 boxes survived the Ensemble-Check! It took 1.1 many seconds.\n"
     ]
    },
    {
     "name": "stderr",
     "output_type": "stream",
     "text": [
      "\n",
      " 64%|██████▍   | 812/1261 [25:09<17:48,  2.38s/it]\u001b[A"
     ]
    },
    {
     "name": "stdout",
     "output_type": "stream",
     "text": [
      "First net took 0.58 many second to check 342 many pictures.\n",
      "currently 1 many boxes\n",
      "After belief, still 1 many boxes. It took 0.0 many seconds.\n",
      "There are 74 centers in the centers.\n",
      "1 of 1 boxes survived the Ensemble-Check! It took 1.08 many seconds.\n"
     ]
    },
    {
     "name": "stderr",
     "output_type": "stream",
     "text": [
      "\n",
      " 64%|██████▍   | 813/1261 [25:11<17:39,  2.36s/it]\u001b[A"
     ]
    },
    {
     "name": "stdout",
     "output_type": "stream",
     "text": [
      "First net took 0.58 many second to check 342 many pictures.\n",
      "currently 1 many boxes\n",
      "After belief, still 1 many boxes. It took 0.0 many seconds.\n",
      "There are 75 centers in the centers.\n",
      "1 of 1 boxes survived the Ensemble-Check! It took 1.08 many seconds.\n"
     ]
    },
    {
     "name": "stderr",
     "output_type": "stream",
     "text": [
      "\n",
      " 65%|██████▍   | 814/1261 [25:13<17:50,  2.39s/it]\u001b[A"
     ]
    },
    {
     "name": "stdout",
     "output_type": "stream",
     "text": [
      "First net took 0.58 many second to check 342 many pictures.\n",
      "currently 1 many boxes\n",
      "After belief, still 1 many boxes. It took 0.0 many seconds.\n",
      "There are 76 centers in the centers.\n",
      "1 of 1 boxes survived the Ensemble-Check! It took 1.1 many seconds.\n"
     ]
    },
    {
     "name": "stderr",
     "output_type": "stream",
     "text": [
      "\n",
      " 65%|██████▍   | 815/1261 [25:16<17:42,  2.38s/it]\u001b[A"
     ]
    },
    {
     "name": "stdout",
     "output_type": "stream",
     "text": [
      "First net took 0.58 many second to check 342 many pictures.\n",
      "currently 1 many boxes\n",
      "After belief, still 1 many boxes. It took 0.0 many seconds.\n",
      "There are 77 centers in the centers.\n",
      "1 of 1 boxes survived the Ensemble-Check! It took 1.12 many seconds.\n"
     ]
    },
    {
     "name": "stderr",
     "output_type": "stream",
     "text": [
      "\n",
      " 65%|██████▍   | 816/1261 [25:18<17:37,  2.38s/it]\u001b[A"
     ]
    },
    {
     "name": "stdout",
     "output_type": "stream",
     "text": [
      "First net took 0.58 many second to check 342 many pictures.\n",
      "currently 1 many boxes\n",
      "After belief, still 1 many boxes. It took 0.0 many seconds.\n",
      "There are 78 centers in the centers.\n",
      "1 of 1 boxes survived the Ensemble-Check! It took 1.09 many seconds.\n"
     ]
    },
    {
     "name": "stderr",
     "output_type": "stream",
     "text": [
      "\n",
      " 65%|██████▍   | 817/1261 [25:20<17:28,  2.36s/it]\u001b[A"
     ]
    },
    {
     "name": "stdout",
     "output_type": "stream",
     "text": [
      "First net took 0.62 many second to check 342 many pictures.\n",
      "currently 1 many boxes\n",
      "After belief, still 1 many boxes. It took 0.0 many seconds.\n",
      "There are 79 centers in the centers.\n",
      "1 of 1 boxes survived the Ensemble-Check! It took 1.09 many seconds.\n"
     ]
    },
    {
     "name": "stderr",
     "output_type": "stream",
     "text": [
      "\n",
      " 65%|██████▍   | 818/1261 [25:23<17:28,  2.37s/it]\u001b[A"
     ]
    },
    {
     "name": "stdout",
     "output_type": "stream",
     "text": [
      "First net took 0.58 many second to check 342 many pictures.\n",
      "currently 1 many boxes\n",
      "After belief, still 1 many boxes. It took 0.0 many seconds.\n",
      "There are 54 centers in the centers.\n",
      "1 of 1 boxes survived the Ensemble-Check! It took 1.07 many seconds.\n"
     ]
    },
    {
     "name": "stderr",
     "output_type": "stream",
     "text": [
      "\n",
      " 65%|██████▍   | 819/1261 [25:25<17:19,  2.35s/it]\u001b[A"
     ]
    },
    {
     "name": "stdout",
     "output_type": "stream",
     "text": [
      "First net took 0.58 many second to check 342 many pictures.\n",
      "currently 1 many boxes\n",
      "After belief, still 1 many boxes. It took 0.0 many seconds.\n",
      "There are 55 centers in the centers.\n",
      "1 of 1 boxes survived the Ensemble-Check! It took 1.07 many seconds.\n"
     ]
    },
    {
     "name": "stderr",
     "output_type": "stream",
     "text": [
      "\n",
      " 65%|██████▌   | 820/1261 [25:28<17:11,  2.34s/it]\u001b[A"
     ]
    },
    {
     "name": "stdout",
     "output_type": "stream",
     "text": [
      "First net took 0.58 many second to check 342 many pictures.\n",
      "currently 1 many boxes\n",
      "After belief, still 1 many boxes. It took 0.0 many seconds.\n",
      "There are 55 centers in the centers.\n",
      "1 of 1 boxes survived the Ensemble-Check! It took 1.08 many seconds.\n"
     ]
    },
    {
     "name": "stderr",
     "output_type": "stream",
     "text": [
      "\n",
      " 65%|██████▌   | 821/1261 [25:30<17:08,  2.34s/it]\u001b[A"
     ]
    },
    {
     "name": "stdout",
     "output_type": "stream",
     "text": [
      "First net took 0.62 many second to check 342 many pictures.\n",
      "currently 1 many boxes\n",
      "After belief, still 1 many boxes. It took 0.0 many seconds.\n",
      "There are 56 centers in the centers.\n",
      "1 of 1 boxes survived the Ensemble-Check! It took 1.07 many seconds.\n"
     ]
    },
    {
     "name": "stderr",
     "output_type": "stream",
     "text": [
      "\n",
      " 65%|██████▌   | 822/1261 [25:32<17:07,  2.34s/it]\u001b[A"
     ]
    },
    {
     "name": "stdout",
     "output_type": "stream",
     "text": [
      "First net took 0.58 many second to check 342 many pictures.\n",
      "currently 1 many boxes\n",
      "After belief, still 1 many boxes. It took 0.0 many seconds.\n",
      "There are 57 centers in the centers.\n",
      "1 of 1 boxes survived the Ensemble-Check! It took 1.07 many seconds.\n"
     ]
    },
    {
     "name": "stderr",
     "output_type": "stream",
     "text": [
      "\n",
      " 65%|██████▌   | 823/1261 [25:34<17:01,  2.33s/it]\u001b[A"
     ]
    },
    {
     "name": "stdout",
     "output_type": "stream",
     "text": [
      "First net took 0.59 many second to check 342 many pictures.\n",
      "currently 1 many boxes\n",
      "After belief, still 1 many boxes. It took 0.0 many seconds.\n",
      "There are 58 centers in the centers.\n",
      "1 of 1 boxes survived the Ensemble-Check! It took 1.1 many seconds.\n"
     ]
    },
    {
     "name": "stderr",
     "output_type": "stream",
     "text": [
      "\n",
      " 65%|██████▌   | 824/1261 [25:37<17:01,  2.34s/it]\u001b[A"
     ]
    },
    {
     "name": "stdout",
     "output_type": "stream",
     "text": [
      "First net took 0.57 many second to check 342 many pictures.\n",
      "currently 1 many boxes\n",
      "After belief, still 1 many boxes. It took 0.0 many seconds.\n",
      "There are 59 centers in the centers.\n",
      "1 of 1 boxes survived the Ensemble-Check! It took 1.08 many seconds.\n"
     ]
    },
    {
     "name": "stderr",
     "output_type": "stream",
     "text": [
      "\n",
      " 65%|██████▌   | 825/1261 [25:39<16:58,  2.33s/it]\u001b[A"
     ]
    },
    {
     "name": "stdout",
     "output_type": "stream",
     "text": [
      "First net took 0.59 many second to check 342 many pictures.\n",
      "currently 1 many boxes\n",
      "After belief, still 1 many boxes. It took 0.0 many seconds.\n",
      "There are 60 centers in the centers.\n",
      "1 of 1 boxes survived the Ensemble-Check! It took 1.09 many seconds.\n"
     ]
    },
    {
     "name": "stderr",
     "output_type": "stream",
     "text": [
      "\n",
      " 66%|██████▌   | 826/1261 [25:42<16:56,  2.34s/it]\u001b[A"
     ]
    },
    {
     "name": "stdout",
     "output_type": "stream",
     "text": [
      "First net took 0.58 many second to check 342 many pictures.\n",
      "currently 1 many boxes\n",
      "After belief, still 1 many boxes. It took 0.0 many seconds.\n",
      "There are 61 centers in the centers.\n",
      "1 of 1 boxes survived the Ensemble-Check! It took 1.12 many seconds.\n"
     ]
    },
    {
     "name": "stderr",
     "output_type": "stream",
     "text": [
      "\n",
      " 66%|██████▌   | 827/1261 [25:44<16:57,  2.35s/it]\u001b[A"
     ]
    },
    {
     "name": "stdout",
     "output_type": "stream",
     "text": [
      "First net took 0.58 many second to check 342 many pictures.\n",
      "currently 1 many boxes\n",
      "After belief, still 1 many boxes. It took 0.0 many seconds.\n",
      "There are 62 centers in the centers.\n",
      "1 of 1 boxes survived the Ensemble-Check! It took 1.1 many seconds.\n"
     ]
    },
    {
     "name": "stderr",
     "output_type": "stream",
     "text": [
      "\n",
      " 66%|██████▌   | 828/1261 [25:46<16:56,  2.35s/it]\u001b[A"
     ]
    },
    {
     "name": "stdout",
     "output_type": "stream",
     "text": [
      "First net took 0.58 many second to check 342 many pictures.\n",
      "currently 1 many boxes\n",
      "After belief, still 1 many boxes. It took 0.0 many seconds.\n",
      "There are 63 centers in the centers.\n",
      "1 of 1 boxes survived the Ensemble-Check! It took 1.1 many seconds.\n"
     ]
    },
    {
     "name": "stderr",
     "output_type": "stream",
     "text": [
      "\n",
      " 66%|██████▌   | 829/1261 [25:49<16:55,  2.35s/it]\u001b[A"
     ]
    },
    {
     "name": "stdout",
     "output_type": "stream",
     "text": [
      "First net took 0.59 many second to check 342 many pictures.\n",
      "currently 1 many boxes\n",
      "After belief, still 1 many boxes. It took 0.0 many seconds.\n",
      "There are 64 centers in the centers.\n",
      "1 of 1 boxes survived the Ensemble-Check! It took 1.12 many seconds.\n"
     ]
    },
    {
     "name": "stderr",
     "output_type": "stream",
     "text": [
      "\n",
      " 66%|██████▌   | 830/1261 [25:51<16:57,  2.36s/it]\u001b[A"
     ]
    },
    {
     "name": "stdout",
     "output_type": "stream",
     "text": [
      "First net took 0.58 many second to check 342 many pictures.\n",
      "currently 1 many boxes\n",
      "After belief, still 1 many boxes. It took 0.0 many seconds.\n",
      "There are 62 centers in the centers.\n",
      "1 of 1 boxes survived the Ensemble-Check! It took 1.09 many seconds.\n"
     ]
    },
    {
     "name": "stderr",
     "output_type": "stream",
     "text": [
      "\n",
      " 66%|██████▌   | 831/1261 [25:53<16:51,  2.35s/it]\u001b[A"
     ]
    },
    {
     "name": "stdout",
     "output_type": "stream",
     "text": [
      "First net took 0.58 many second to check 342 many pictures.\n",
      "currently 1 many boxes\n",
      "After belief, still 1 many boxes. It took 0.0 many seconds.\n",
      "There are 63 centers in the centers.\n",
      "1 of 1 boxes survived the Ensemble-Check! It took 1.08 many seconds.\n"
     ]
    },
    {
     "name": "stderr",
     "output_type": "stream",
     "text": [
      "\n",
      " 66%|██████▌   | 832/1261 [25:56<16:45,  2.34s/it]\u001b[A"
     ]
    },
    {
     "name": "stdout",
     "output_type": "stream",
     "text": [
      "First net took 0.58 many second to check 342 many pictures.\n",
      "currently 1 many boxes\n",
      "After belief, still 1 many boxes. It took 0.0 many seconds.\n",
      "There are 64 centers in the centers.\n",
      "1 of 1 boxes survived the Ensemble-Check! It took 1.09 many seconds.\n"
     ]
    },
    {
     "name": "stderr",
     "output_type": "stream",
     "text": [
      "\n",
      " 66%|██████▌   | 833/1261 [25:58<16:41,  2.34s/it]\u001b[A"
     ]
    },
    {
     "name": "stdout",
     "output_type": "stream",
     "text": [
      "First net took 0.59 many second to check 342 many pictures.\n",
      "currently 1 many boxes\n",
      "After belief, still 1 many boxes. It took 0.0 many seconds.\n",
      "There are 65 centers in the centers.\n",
      "1 of 1 boxes survived the Ensemble-Check! It took 1.09 many seconds.\n"
     ]
    },
    {
     "name": "stderr",
     "output_type": "stream",
     "text": [
      "\n",
      " 66%|██████▌   | 834/1261 [26:00<16:39,  2.34s/it]\u001b[A"
     ]
    },
    {
     "name": "stdout",
     "output_type": "stream",
     "text": [
      "First net took 0.58 many second to check 342 many pictures.\n",
      "currently 1 many boxes\n",
      "After belief, still 1 many boxes. It took 0.0 many seconds.\n",
      "There are 66 centers in the centers.\n",
      "1 of 1 boxes survived the Ensemble-Check! It took 1.09 many seconds.\n"
     ]
    },
    {
     "name": "stderr",
     "output_type": "stream",
     "text": [
      "\n",
      " 66%|██████▌   | 835/1261 [26:03<16:36,  2.34s/it]\u001b[A"
     ]
    },
    {
     "name": "stdout",
     "output_type": "stream",
     "text": [
      "First net took 0.59 many second to check 342 many pictures.\n",
      "currently 1 many boxes\n",
      "After belief, still 1 many boxes. It took 0.0 many seconds.\n",
      "There are 67 centers in the centers.\n",
      "1 of 1 boxes survived the Ensemble-Check! It took 1.09 many seconds.\n"
     ]
    },
    {
     "name": "stderr",
     "output_type": "stream",
     "text": [
      "\n",
      " 66%|██████▋   | 836/1261 [26:05<16:35,  2.34s/it]\u001b[A"
     ]
    },
    {
     "name": "stdout",
     "output_type": "stream",
     "text": [
      "First net took 0.57 many second to check 342 many pictures.\n",
      "currently 1 many boxes\n",
      "After belief, still 1 many boxes. It took 0.0 many seconds.\n",
      "There are 68 centers in the centers.\n",
      "1 of 1 boxes survived the Ensemble-Check! It took 1.08 many seconds.\n"
     ]
    },
    {
     "name": "stderr",
     "output_type": "stream",
     "text": [
      "\n",
      " 66%|██████▋   | 837/1261 [26:07<16:30,  2.34s/it]\u001b[A"
     ]
    },
    {
     "name": "stdout",
     "output_type": "stream",
     "text": [
      "First net took 0.58 many second to check 342 many pictures.\n",
      "currently 1 many boxes\n",
      "After belief, still 1 many boxes. It took 0.0 many seconds.\n",
      "There are 69 centers in the centers.\n",
      "1 of 1 boxes survived the Ensemble-Check! It took 1.08 many seconds.\n"
     ]
    },
    {
     "name": "stderr",
     "output_type": "stream",
     "text": [
      "\n",
      " 66%|██████▋   | 838/1261 [26:10<16:27,  2.33s/it]\u001b[A"
     ]
    },
    {
     "name": "stdout",
     "output_type": "stream",
     "text": [
      "First net took 0.59 many second to check 342 many pictures.\n",
      "currently 1 many boxes\n",
      "After belief, still 1 many boxes. It took 0.0 many seconds.\n",
      "There are 70 centers in the centers.\n",
      "1 of 1 boxes survived the Ensemble-Check! It took 1.1 many seconds.\n"
     ]
    },
    {
     "name": "stderr",
     "output_type": "stream",
     "text": [
      "\n",
      " 67%|██████▋   | 839/1261 [26:12<16:27,  2.34s/it]\u001b[A"
     ]
    },
    {
     "name": "stdout",
     "output_type": "stream",
     "text": [
      "First net took 0.6 many second to check 342 many pictures.\n",
      "currently 1 many boxes\n",
      "After belief, still 1 many boxes. It took 0.0 many seconds.\n",
      "There are 71 centers in the centers.\n",
      "1 of 1 boxes survived the Ensemble-Check! It took 1.09 many seconds.\n"
     ]
    },
    {
     "name": "stderr",
     "output_type": "stream",
     "text": [
      "\n",
      " 67%|██████▋   | 840/1261 [26:14<16:27,  2.35s/it]\u001b[A"
     ]
    },
    {
     "name": "stdout",
     "output_type": "stream",
     "text": [
      "First net took 0.58 many second to check 342 many pictures.\n",
      "currently 1 many boxes\n",
      "After belief, still 1 many boxes. It took 0.0 many seconds.\n",
      "There are 72 centers in the centers.\n",
      "1 of 1 boxes survived the Ensemble-Check! It took 1.1 many seconds.\n"
     ]
    },
    {
     "name": "stderr",
     "output_type": "stream",
     "text": [
      "\n",
      " 67%|██████▋   | 841/1261 [26:17<16:26,  2.35s/it]\u001b[A"
     ]
    },
    {
     "name": "stdout",
     "output_type": "stream",
     "text": [
      "First net took 0.59 many second to check 342 many pictures.\n",
      "currently 1 many boxes\n",
      "After belief, still 1 many boxes. It took 0.0 many seconds.\n",
      "There are 73 centers in the centers.\n",
      "1 of 1 boxes survived the Ensemble-Check! It took 1.1 many seconds.\n"
     ]
    },
    {
     "name": "stderr",
     "output_type": "stream",
     "text": [
      "\n",
      " 67%|██████▋   | 842/1261 [26:19<16:25,  2.35s/it]\u001b[A"
     ]
    },
    {
     "name": "stdout",
     "output_type": "stream",
     "text": [
      "First net took 0.58 many second to check 342 many pictures.\n",
      "currently 1 many boxes\n",
      "After belief, still 1 many boxes. It took 0.0 many seconds.\n",
      "There are 74 centers in the centers.\n",
      "1 of 1 boxes survived the Ensemble-Check! It took 1.09 many seconds.\n"
     ]
    },
    {
     "name": "stderr",
     "output_type": "stream",
     "text": [
      "\n",
      " 67%|██████▋   | 843/1261 [26:21<16:22,  2.35s/it]\u001b[A"
     ]
    },
    {
     "name": "stdout",
     "output_type": "stream",
     "text": [
      "First net took 0.58 many second to check 342 many pictures.\n",
      "currently 1 many boxes\n",
      "After belief, still 1 many boxes. It took 0.0 many seconds.\n",
      "There are 75 centers in the centers.\n",
      "1 of 1 boxes survived the Ensemble-Check! It took 1.09 many seconds.\n"
     ]
    },
    {
     "name": "stderr",
     "output_type": "stream",
     "text": [
      "\n",
      " 67%|██████▋   | 844/1261 [26:24<16:18,  2.35s/it]\u001b[A"
     ]
    },
    {
     "name": "stdout",
     "output_type": "stream",
     "text": [
      "First net took 0.58 many second to check 342 many pictures.\n",
      "currently 1 many boxes\n",
      "After belief, still 1 many boxes. It took 0.0 many seconds.\n",
      "There are 76 centers in the centers.\n",
      "1 of 1 boxes survived the Ensemble-Check! It took 1.11 many seconds.\n"
     ]
    },
    {
     "name": "stderr",
     "output_type": "stream",
     "text": [
      "\n",
      " 67%|██████▋   | 845/1261 [26:26<16:18,  2.35s/it]\u001b[A"
     ]
    },
    {
     "name": "stdout",
     "output_type": "stream",
     "text": [
      "First net took 0.58 many second to check 342 many pictures.\n",
      "currently 1 many boxes\n",
      "After belief, still 1 many boxes. It took 0.0 many seconds.\n",
      "There are 77 centers in the centers.\n",
      "1 of 1 boxes survived the Ensemble-Check! It took 1.09 many seconds.\n"
     ]
    },
    {
     "name": "stderr",
     "output_type": "stream",
     "text": [
      "\n",
      " 67%|██████▋   | 846/1261 [26:28<16:14,  2.35s/it]\u001b[A"
     ]
    },
    {
     "name": "stdout",
     "output_type": "stream",
     "text": [
      "First net took 0.58 many second to check 342 many pictures.\n",
      "currently 1 many boxes\n",
      "After belief, still 1 many boxes. It took 0.0 many seconds.\n",
      "There are 78 centers in the centers.\n",
      "1 of 1 boxes survived the Ensemble-Check! It took 1.09 many seconds.\n"
     ]
    },
    {
     "name": "stderr",
     "output_type": "stream",
     "text": [
      "\n",
      " 67%|██████▋   | 847/1261 [26:31<16:10,  2.34s/it]\u001b[A"
     ]
    },
    {
     "name": "stdout",
     "output_type": "stream",
     "text": [
      "First net took 0.58 many second to check 342 many pictures.\n",
      "currently 1 many boxes\n",
      "After belief, still 1 many boxes. It took 0.0 many seconds.\n",
      "There are 79 centers in the centers.\n",
      "1 of 1 boxes survived the Ensemble-Check! It took 1.1 many seconds.\n"
     ]
    },
    {
     "name": "stderr",
     "output_type": "stream",
     "text": [
      "\n",
      " 67%|██████▋   | 848/1261 [26:33<16:08,  2.35s/it]\u001b[A"
     ]
    },
    {
     "name": "stdout",
     "output_type": "stream",
     "text": [
      "First net took 0.58 many second to check 342 many pictures.\n",
      "currently 1 many boxes\n",
      "After belief, still 1 many boxes. It took 0.0 many seconds.\n",
      "There are 80 centers in the centers.\n",
      "1 of 1 boxes survived the Ensemble-Check! It took 1.1 many seconds.\n"
     ]
    },
    {
     "name": "stderr",
     "output_type": "stream",
     "text": [
      "\n",
      " 67%|██████▋   | 849/1261 [26:35<16:06,  2.35s/it]\u001b[A"
     ]
    },
    {
     "name": "stdout",
     "output_type": "stream",
     "text": [
      "First net took 0.58 many second to check 342 many pictures.\n",
      "currently 1 many boxes\n",
      "After belief, still 1 many boxes. It took 0.0 many seconds.\n",
      "There are 81 centers in the centers.\n",
      "1 of 1 boxes survived the Ensemble-Check! It took 1.11 many seconds.\n"
     ]
    },
    {
     "name": "stderr",
     "output_type": "stream",
     "text": [
      "\n",
      " 67%|██████▋   | 850/1261 [26:38<16:05,  2.35s/it]\u001b[A"
     ]
    },
    {
     "name": "stdout",
     "output_type": "stream",
     "text": [
      "First net took 0.58 many second to check 342 many pictures.\n",
      "currently 1 many boxes\n",
      "After belief, still 1 many boxes. It took 0.0 many seconds.\n",
      "There are 78 centers in the centers.\n",
      "1 of 1 boxes survived the Ensemble-Check! It took 1.1 many seconds.\n"
     ]
    },
    {
     "name": "stderr",
     "output_type": "stream",
     "text": [
      "\n",
      " 67%|██████▋   | 851/1261 [26:40<16:03,  2.35s/it]\u001b[A"
     ]
    },
    {
     "name": "stdout",
     "output_type": "stream",
     "text": [
      "First net took 0.58 many second to check 342 many pictures.\n",
      "currently 1 many boxes\n",
      "After belief, still 1 many boxes. It took 0.0 many seconds.\n",
      "There are 79 centers in the centers.\n",
      "1 of 1 boxes survived the Ensemble-Check! It took 1.09 many seconds.\n"
     ]
    },
    {
     "name": "stderr",
     "output_type": "stream",
     "text": [
      "\n",
      " 68%|██████▊   | 852/1261 [26:43<15:58,  2.34s/it]\u001b[A"
     ]
    },
    {
     "name": "stdout",
     "output_type": "stream",
     "text": [
      "First net took 0.58 many second to check 342 many pictures.\n",
      "currently 1 many boxes\n",
      "After belief, still 1 many boxes. It took 0.0 many seconds.\n",
      "There are 80 centers in the centers.\n",
      "1 of 1 boxes survived the Ensemble-Check! It took 1.1 many seconds.\n"
     ]
    },
    {
     "name": "stderr",
     "output_type": "stream",
     "text": [
      "\n",
      " 68%|██████▊   | 853/1261 [26:45<15:57,  2.35s/it]\u001b[A"
     ]
    },
    {
     "name": "stdout",
     "output_type": "stream",
     "text": [
      "First net took 0.63 many second to check 342 many pictures.\n",
      "currently 1 many boxes\n",
      "After belief, still 1 many boxes. It took 0.0 many seconds.\n",
      "There are 81 centers in the centers.\n",
      "1 of 1 boxes survived the Ensemble-Check! It took 1.11 many seconds.\n"
     ]
    },
    {
     "name": "stderr",
     "output_type": "stream",
     "text": [
      "\n",
      " 68%|██████▊   | 854/1261 [26:47<16:02,  2.36s/it]\u001b[A"
     ]
    },
    {
     "name": "stdout",
     "output_type": "stream",
     "text": [
      "First net took 0.58 many second to check 342 many pictures.\n",
      "currently 1 many boxes\n",
      "After belief, still 1 many boxes. It took 0.0 many seconds.\n",
      "There are 82 centers in the centers.\n",
      "1 of 1 boxes survived the Ensemble-Check! It took 1.09 many seconds.\n"
     ]
    },
    {
     "name": "stderr",
     "output_type": "stream",
     "text": [
      "\n",
      " 68%|██████▊   | 855/1261 [26:50<15:56,  2.36s/it]\u001b[A"
     ]
    },
    {
     "name": "stdout",
     "output_type": "stream",
     "text": [
      "First net took 0.6 many second to check 342 many pictures.\n",
      "currently 1 many boxes\n",
      "After belief, still 1 many boxes. It took 0.0 many seconds.\n",
      "There are 83 centers in the centers.\n",
      "1 of 1 boxes survived the Ensemble-Check! It took 1.1 many seconds.\n"
     ]
    },
    {
     "name": "stderr",
     "output_type": "stream",
     "text": [
      "\n",
      " 68%|██████▊   | 856/1261 [26:52<15:56,  2.36s/it]\u001b[A"
     ]
    },
    {
     "name": "stdout",
     "output_type": "stream",
     "text": [
      "First net took 0.58 many second to check 342 many pictures.\n",
      "currently 1 many boxes\n",
      "After belief, still 1 many boxes. It took 0.0 many seconds.\n",
      "There are 84 centers in the centers.\n",
      "1 of 1 boxes survived the Ensemble-Check! It took 1.12 many seconds.\n"
     ]
    },
    {
     "name": "stderr",
     "output_type": "stream",
     "text": [
      "\n",
      " 68%|██████▊   | 857/1261 [26:54<15:54,  2.36s/it]\u001b[A"
     ]
    },
    {
     "name": "stdout",
     "output_type": "stream",
     "text": [
      "First net took 0.58 many second to check 342 many pictures.\n",
      "currently 1 many boxes\n",
      "After belief, still 1 many boxes. It took 0.0 many seconds.\n",
      "There are 85 centers in the centers.\n",
      "1 of 1 boxes survived the Ensemble-Check! It took 1.12 many seconds.\n"
     ]
    },
    {
     "name": "stderr",
     "output_type": "stream",
     "text": [
      "\n",
      " 68%|██████▊   | 858/1261 [26:57<15:53,  2.37s/it]\u001b[A"
     ]
    },
    {
     "name": "stdout",
     "output_type": "stream",
     "text": [
      "First net took 0.58 many second to check 342 many pictures.\n",
      "currently 1 many boxes\n",
      "After belief, still 1 many boxes. It took 0.0 many seconds.\n",
      "There are 86 centers in the centers.\n",
      "1 of 1 boxes survived the Ensemble-Check! It took 1.11 many seconds.\n"
     ]
    },
    {
     "name": "stderr",
     "output_type": "stream",
     "text": [
      "\n",
      " 68%|██████▊   | 859/1261 [26:59<15:49,  2.36s/it]\u001b[A"
     ]
    },
    {
     "name": "stdout",
     "output_type": "stream",
     "text": [
      "First net took 0.59 many second to check 342 many pictures.\n",
      "currently 1 many boxes\n",
      "After belief, still 1 many boxes. It took 0.0 many seconds.\n",
      "There are 87 centers in the centers.\n",
      "1 of 1 boxes survived the Ensemble-Check! It took 1.11 many seconds.\n"
     ]
    },
    {
     "name": "stderr",
     "output_type": "stream",
     "text": [
      "\n",
      " 68%|██████▊   | 860/1261 [27:01<15:49,  2.37s/it]\u001b[A"
     ]
    },
    {
     "name": "stdout",
     "output_type": "stream",
     "text": [
      "First net took 0.59 many second to check 342 many pictures.\n",
      "currently 1 many boxes\n",
      "After belief, still 1 many boxes. It took 0.0 many seconds.\n",
      "There are 88 centers in the centers.\n",
      "1 of 1 boxes survived the Ensemble-Check! It took 1.09 many seconds.\n"
     ]
    },
    {
     "name": "stderr",
     "output_type": "stream",
     "text": [
      "\n",
      " 68%|██████▊   | 861/1261 [27:04<15:44,  2.36s/it]\u001b[A"
     ]
    },
    {
     "name": "stdout",
     "output_type": "stream",
     "text": [
      "First net took 0.62 many second to check 342 many pictures.\n",
      "currently 1 many boxes\n",
      "After belief, still 1 many boxes. It took 0.0 many seconds.\n",
      "There are 72 centers in the centers.\n",
      "1 of 1 boxes survived the Ensemble-Check! It took 1.09 many seconds.\n"
     ]
    },
    {
     "name": "stderr",
     "output_type": "stream",
     "text": [
      "\n",
      " 68%|██████▊   | 862/1261 [27:06<15:44,  2.37s/it]\u001b[A"
     ]
    },
    {
     "name": "stdout",
     "output_type": "stream",
     "text": [
      "First net took 0.58 many second to check 342 many pictures.\n",
      "currently 1 many boxes\n",
      "After belief, still 1 many boxes. It took 0.0 many seconds.\n",
      "There are 73 centers in the centers.\n",
      "1 of 1 boxes survived the Ensemble-Check! It took 1.09 many seconds.\n"
     ]
    },
    {
     "name": "stderr",
     "output_type": "stream",
     "text": [
      "\n",
      " 68%|██████▊   | 863/1261 [27:09<15:38,  2.36s/it]\u001b[A"
     ]
    },
    {
     "name": "stdout",
     "output_type": "stream",
     "text": [
      "First net took 0.61 many second to check 342 many pictures.\n",
      "currently 1 many boxes\n",
      "After belief, still 1 many boxes. It took 0.0 many seconds.\n",
      "There are 74 centers in the centers.\n",
      "1 of 1 boxes survived the Ensemble-Check! It took 1.09 many seconds.\n"
     ]
    },
    {
     "name": "stderr",
     "output_type": "stream",
     "text": [
      "\n",
      " 69%|██████▊   | 864/1261 [27:11<15:37,  2.36s/it]\u001b[A"
     ]
    },
    {
     "name": "stdout",
     "output_type": "stream",
     "text": [
      "First net took 0.58 many second to check 342 many pictures.\n",
      "currently 1 many boxes\n",
      "After belief, still 1 many boxes. It took 0.0 many seconds.\n",
      "There are 75 centers in the centers.\n",
      "1 of 1 boxes survived the Ensemble-Check! It took 1.08 many seconds.\n"
     ]
    },
    {
     "name": "stderr",
     "output_type": "stream",
     "text": [
      "\n",
      " 69%|██████▊   | 865/1261 [27:13<15:31,  2.35s/it]\u001b[A"
     ]
    },
    {
     "name": "stdout",
     "output_type": "stream",
     "text": [
      "First net took 0.62 many second to check 342 many pictures.\n",
      "currently 1 many boxes\n",
      "After belief, still 1 many boxes. It took 0.0 many seconds.\n",
      "There are 76 centers in the centers.\n",
      "1 of 1 boxes survived the Ensemble-Check! It took 1.09 many seconds.\n"
     ]
    },
    {
     "name": "stderr",
     "output_type": "stream",
     "text": [
      "\n",
      " 69%|██████▊   | 866/1261 [27:16<15:31,  2.36s/it]\u001b[A"
     ]
    },
    {
     "name": "stdout",
     "output_type": "stream",
     "text": [
      "First net took 0.57 many second to check 342 many pictures.\n",
      "currently 1 many boxes\n",
      "After belief, still 1 many boxes. It took 0.0 many seconds.\n",
      "There are 77 centers in the centers.\n",
      "1 of 1 boxes survived the Ensemble-Check! It took 1.09 many seconds.\n"
     ]
    },
    {
     "name": "stderr",
     "output_type": "stream",
     "text": [
      "\n",
      " 69%|██████▉   | 867/1261 [27:18<15:25,  2.35s/it]\u001b[A"
     ]
    },
    {
     "name": "stdout",
     "output_type": "stream",
     "text": [
      "First net took 0.58 many second to check 342 many pictures.\n",
      "currently 1 many boxes\n",
      "After belief, still 1 many boxes. It took 0.0 many seconds.\n",
      "There are 78 centers in the centers.\n",
      "1 of 1 boxes survived the Ensemble-Check! It took 1.1 many seconds.\n"
     ]
    },
    {
     "name": "stderr",
     "output_type": "stream",
     "text": [
      "\n",
      " 69%|██████▉   | 868/1261 [27:20<15:22,  2.35s/it]\u001b[A"
     ]
    },
    {
     "name": "stdout",
     "output_type": "stream",
     "text": [
      "First net took 0.58 many second to check 342 many pictures.\n",
      "currently 1 many boxes\n",
      "After belief, still 1 many boxes. It took 0.0 many seconds.\n",
      "There are 79 centers in the centers.\n",
      "1 of 1 boxes survived the Ensemble-Check! It took 1.11 many seconds.\n"
     ]
    },
    {
     "name": "stderr",
     "output_type": "stream",
     "text": [
      "\n",
      " 69%|██████▉   | 869/1261 [27:23<15:21,  2.35s/it]\u001b[A"
     ]
    },
    {
     "name": "stdout",
     "output_type": "stream",
     "text": [
      "First net took 0.59 many second to check 342 many pictures.\n",
      "currently 1 many boxes\n",
      "After belief, still 1 many boxes. It took 0.0 many seconds.\n",
      "There are 80 centers in the centers.\n",
      "1 of 1 boxes survived the Ensemble-Check! It took 1.11 many seconds.\n"
     ]
    },
    {
     "name": "stderr",
     "output_type": "stream",
     "text": [
      "\n",
      " 69%|██████▉   | 870/1261 [27:25<15:20,  2.35s/it]\u001b[A"
     ]
    },
    {
     "name": "stdout",
     "output_type": "stream",
     "text": [
      "First net took 0.58 many second to check 342 many pictures.\n",
      "currently 1 many boxes\n",
      "After belief, still 1 many boxes. It took 0.0 many seconds.\n",
      "There are 81 centers in the centers.\n",
      "1 of 1 boxes survived the Ensemble-Check! It took 1.1 many seconds.\n"
     ]
    },
    {
     "name": "stderr",
     "output_type": "stream",
     "text": [
      "\n",
      " 69%|██████▉   | 871/1261 [27:27<15:17,  2.35s/it]\u001b[A"
     ]
    },
    {
     "name": "stdout",
     "output_type": "stream",
     "text": [
      "First net took 0.59 many second to check 342 many pictures.\n",
      "currently 1 many boxes\n",
      "After belief, still 1 many boxes. It took 0.0 many seconds.\n",
      "There are 82 centers in the centers.\n",
      "1 of 1 boxes survived the Ensemble-Check! It took 1.11 many seconds.\n"
     ]
    },
    {
     "name": "stderr",
     "output_type": "stream",
     "text": [
      "\n",
      " 69%|██████▉   | 872/1261 [27:30<15:15,  2.35s/it]\u001b[A"
     ]
    },
    {
     "name": "stdout",
     "output_type": "stream",
     "text": [
      "First net took 0.58 many second to check 342 many pictures.\n",
      "currently 1 many boxes\n",
      "After belief, still 1 many boxes. It took 0.0 many seconds.\n",
      "There are 83 centers in the centers.\n",
      "1 of 1 boxes survived the Ensemble-Check! It took 1.12 many seconds.\n"
     ]
    },
    {
     "name": "stderr",
     "output_type": "stream",
     "text": [
      "\n",
      " 69%|██████▉   | 873/1261 [27:32<15:14,  2.36s/it]\u001b[A"
     ]
    },
    {
     "name": "stdout",
     "output_type": "stream",
     "text": [
      "First net took 0.58 many second to check 342 many pictures.\n",
      "currently 1 many boxes\n",
      "After belief, still 1 many boxes. It took 0.0 many seconds.\n",
      "There are 84 centers in the centers.\n",
      "1 of 1 boxes survived the Ensemble-Check! It took 1.12 many seconds.\n"
     ]
    },
    {
     "name": "stderr",
     "output_type": "stream",
     "text": [
      "\n",
      " 69%|██████▉   | 874/1261 [27:34<15:13,  2.36s/it]\u001b[A"
     ]
    },
    {
     "name": "stdout",
     "output_type": "stream",
     "text": [
      "First net took 0.58 many second to check 342 many pictures.\n",
      "currently 1 many boxes\n",
      "After belief, still 1 many boxes. It took 0.0 many seconds.\n",
      "There are 85 centers in the centers.\n",
      "1 of 1 boxes survived the Ensemble-Check! It took 1.14 many seconds.\n"
     ]
    },
    {
     "name": "stderr",
     "output_type": "stream",
     "text": [
      "\n",
      " 69%|██████▉   | 875/1261 [27:37<15:29,  2.41s/it]\u001b[A"
     ]
    },
    {
     "name": "stdout",
     "output_type": "stream",
     "text": [
      "First net took 0.58 many second to check 342 many pictures.\n",
      "currently 1 many boxes\n",
      "After belief, still 1 many boxes. It took 0.0 many seconds.\n",
      "There are 86 centers in the centers.\n",
      "1 of 1 boxes survived the Ensemble-Check! It took 1.11 many seconds.\n"
     ]
    },
    {
     "name": "stderr",
     "output_type": "stream",
     "text": [
      "\n",
      " 69%|██████▉   | 876/1261 [27:39<15:21,  2.39s/it]\u001b[A"
     ]
    },
    {
     "name": "stdout",
     "output_type": "stream",
     "text": [
      "First net took 0.58 many second to check 342 many pictures.\n",
      "currently 1 many boxes\n",
      "After belief, still 1 many boxes. It took 0.0 many seconds.\n",
      "There are 87 centers in the centers.\n",
      "1 of 1 boxes survived the Ensemble-Check! It took 1.12 many seconds.\n"
     ]
    },
    {
     "name": "stderr",
     "output_type": "stream",
     "text": [
      "\n",
      " 70%|██████▉   | 877/1261 [27:42<15:16,  2.39s/it]\u001b[A"
     ]
    },
    {
     "name": "stdout",
     "output_type": "stream",
     "text": [
      "First net took 0.6 many second to check 342 many pictures.\n",
      "currently 1 many boxes\n",
      "After belief, still 1 many boxes. It took 0.0 many seconds.\n",
      "There are 88 centers in the centers.\n",
      "1 of 1 boxes survived the Ensemble-Check! It took 1.11 many seconds.\n"
     ]
    },
    {
     "name": "stderr",
     "output_type": "stream",
     "text": [
      "\n",
      " 70%|██████▉   | 878/1261 [27:44<15:13,  2.39s/it]\u001b[A"
     ]
    },
    {
     "name": "stdout",
     "output_type": "stream",
     "text": [
      "First net took 0.58 many second to check 342 many pictures.\n",
      "currently 1 many boxes\n",
      "After belief, still 1 many boxes. It took 0.0 many seconds.\n",
      "There are 89 centers in the centers.\n",
      "1 of 1 boxes survived the Ensemble-Check! It took 1.11 many seconds.\n"
     ]
    },
    {
     "name": "stderr",
     "output_type": "stream",
     "text": [
      "\n",
      " 70%|██████▉   | 879/1261 [27:46<15:07,  2.38s/it]\u001b[A"
     ]
    },
    {
     "name": "stdout",
     "output_type": "stream",
     "text": [
      "First net took 0.58 many second to check 342 many pictures.\n",
      "currently 1 many boxes\n",
      "After belief, still 1 many boxes. It took 0.0 many seconds.\n",
      "There are 90 centers in the centers.\n",
      "1 of 1 boxes survived the Ensemble-Check! It took 1.13 many seconds.\n"
     ]
    },
    {
     "name": "stderr",
     "output_type": "stream",
     "text": [
      "\n",
      " 70%|██████▉   | 880/1261 [27:49<15:05,  2.38s/it]\u001b[A"
     ]
    },
    {
     "name": "stdout",
     "output_type": "stream",
     "text": [
      "First net took 0.61 many second to check 342 many pictures.\n",
      "currently 1 many boxes\n",
      "After belief, still 1 many boxes. It took 0.0 many seconds.\n",
      "There are 91 centers in the centers.\n",
      "1 of 1 boxes survived the Ensemble-Check! It took 1.11 many seconds.\n"
     ]
    },
    {
     "name": "stderr",
     "output_type": "stream",
     "text": [
      "\n",
      " 70%|██████▉   | 881/1261 [27:51<15:05,  2.38s/it]\u001b[A"
     ]
    },
    {
     "name": "stdout",
     "output_type": "stream",
     "text": [
      "First net took 0.6 many second to check 342 many pictures.\n",
      "currently 1 many boxes\n",
      "After belief, still 1 many boxes. It took 0.0 many seconds.\n",
      "There are 92 centers in the centers.\n",
      "1 of 1 boxes survived the Ensemble-Check! It took 1.12 many seconds.\n"
     ]
    },
    {
     "name": "stderr",
     "output_type": "stream",
     "text": [
      "\n",
      " 70%|██████▉   | 882/1261 [27:54<15:03,  2.38s/it]\u001b[A"
     ]
    },
    {
     "name": "stdout",
     "output_type": "stream",
     "text": [
      "First net took 0.59 many second to check 342 many pictures.\n",
      "currently 1 many boxes\n",
      "After belief, still 1 many boxes. It took 0.0 many seconds.\n",
      "There are 93 centers in the centers.\n",
      "1 of 1 boxes survived the Ensemble-Check! It took 1.14 many seconds.\n"
     ]
    },
    {
     "name": "stderr",
     "output_type": "stream",
     "text": [
      "\n",
      " 70%|███████   | 883/1261 [27:56<15:02,  2.39s/it]\u001b[A"
     ]
    },
    {
     "name": "stdout",
     "output_type": "stream",
     "text": [
      "First net took 0.58 many second to check 342 many pictures.\n",
      "currently 1 many boxes\n",
      "After belief, still 1 many boxes. It took 0.0 many seconds.\n",
      "There are 94 centers in the centers.\n",
      "1 of 1 boxes survived the Ensemble-Check! It took 1.12 many seconds.\n"
     ]
    },
    {
     "name": "stderr",
     "output_type": "stream",
     "text": [
      "\n",
      " 70%|███████   | 884/1261 [27:58<14:58,  2.38s/it]\u001b[A"
     ]
    },
    {
     "name": "stdout",
     "output_type": "stream",
     "text": [
      "First net took 0.6 many second to check 342 many pictures.\n",
      "currently 1 many boxes\n",
      "After belief, still 1 many boxes. It took 0.0 many seconds.\n",
      "There are 95 centers in the centers.\n",
      "1 of 1 boxes survived the Ensemble-Check! It took 1.12 many seconds.\n"
     ]
    },
    {
     "name": "stderr",
     "output_type": "stream",
     "text": [
      "\n",
      " 70%|███████   | 885/1261 [28:01<14:56,  2.38s/it]\u001b[A"
     ]
    },
    {
     "name": "stdout",
     "output_type": "stream",
     "text": [
      "First net took 0.59 many second to check 342 many pictures.\n",
      "currently 1 many boxes\n",
      "After belief, still 1 many boxes. It took 0.0 many seconds.\n",
      "There are 96 centers in the centers.\n",
      "1 of 1 boxes survived the Ensemble-Check! It took 1.12 many seconds.\n"
     ]
    },
    {
     "name": "stderr",
     "output_type": "stream",
     "text": [
      "\n",
      " 70%|███████   | 886/1261 [28:03<14:53,  2.38s/it]\u001b[A"
     ]
    },
    {
     "name": "stdout",
     "output_type": "stream",
     "text": [
      "First net took 0.61 many second to check 342 many pictures.\n",
      "currently 1 many boxes\n",
      "After belief, still 1 many boxes. It took 0.0 many seconds.\n",
      "There are 97 centers in the centers.\n",
      "1 of 1 boxes survived the Ensemble-Check! It took 1.11 many seconds.\n"
     ]
    },
    {
     "name": "stderr",
     "output_type": "stream",
     "text": [
      "\n",
      " 70%|███████   | 887/1261 [28:05<14:52,  2.39s/it]\u001b[A"
     ]
    },
    {
     "name": "stdout",
     "output_type": "stream",
     "text": [
      "First net took 0.58 many second to check 342 many pictures.\n",
      "currently 1 many boxes\n",
      "After belief, still 1 many boxes. It took 0.0 many seconds.\n",
      "There are 98 centers in the centers.\n",
      "1 of 1 boxes survived the Ensemble-Check! It took 1.1 many seconds.\n"
     ]
    },
    {
     "name": "stderr",
     "output_type": "stream",
     "text": [
      "\n",
      " 70%|███████   | 888/1261 [28:08<14:46,  2.38s/it]\u001b[A"
     ]
    },
    {
     "name": "stdout",
     "output_type": "stream",
     "text": [
      "First net took 0.58 many second to check 342 many pictures.\n",
      "currently 1 many boxes\n",
      "After belief, still 1 many boxes. It took 0.0 many seconds.\n",
      "There are 99 centers in the centers.\n",
      "1 of 1 boxes survived the Ensemble-Check! It took 1.14 many seconds.\n"
     ]
    },
    {
     "name": "stderr",
     "output_type": "stream",
     "text": [
      "\n",
      " 70%|███████   | 889/1261 [28:10<14:45,  2.38s/it]\u001b[A"
     ]
    },
    {
     "name": "stdout",
     "output_type": "stream",
     "text": [
      "First net took 0.59 many second to check 342 many pictures.\n",
      "currently 1 many boxes\n",
      "After belief, still 1 many boxes. It took 0.0 many seconds.\n",
      "There are 100 centers in the centers.\n",
      "1 of 1 boxes survived the Ensemble-Check! It took 1.12 many seconds.\n"
     ]
    },
    {
     "name": "stderr",
     "output_type": "stream",
     "text": [
      "\n",
      " 71%|███████   | 890/1261 [28:13<14:42,  2.38s/it]\u001b[A"
     ]
    },
    {
     "name": "stdout",
     "output_type": "stream",
     "text": [
      "First net took 0.58 many second to check 342 many pictures.\n",
      "currently 1 many boxes\n",
      "After belief, still 1 many boxes. It took 0.0 many seconds.\n",
      "There are 101 centers in the centers.\n",
      "1 of 1 boxes survived the Ensemble-Check! It took 1.13 many seconds.\n"
     ]
    },
    {
     "name": "stderr",
     "output_type": "stream",
     "text": [
      "\n",
      " 71%|███████   | 891/1261 [28:15<14:39,  2.38s/it]\u001b[A"
     ]
    },
    {
     "name": "stdout",
     "output_type": "stream",
     "text": [
      "First net took 0.58 many second to check 342 many pictures.\n",
      "currently 1 many boxes\n",
      "After belief, still 1 many boxes. It took 0.0 many seconds.\n",
      "There are 102 centers in the centers.\n",
      "1 of 1 boxes survived the Ensemble-Check! It took 1.15 many seconds.\n"
     ]
    },
    {
     "name": "stderr",
     "output_type": "stream",
     "text": [
      "\n",
      " 71%|███████   | 892/1261 [28:17<14:38,  2.38s/it]\u001b[A"
     ]
    },
    {
     "name": "stdout",
     "output_type": "stream",
     "text": [
      "First net took 0.59 many second to check 342 many pictures.\n",
      "currently 1 many boxes\n",
      "After belief, still 1 many boxes. It took 0.0 many seconds.\n",
      "There are 103 centers in the centers.\n",
      "1 of 1 boxes survived the Ensemble-Check! It took 1.14 many seconds.\n"
     ]
    },
    {
     "name": "stderr",
     "output_type": "stream",
     "text": [
      "\n",
      " 71%|███████   | 893/1261 [28:20<14:37,  2.38s/it]\u001b[A"
     ]
    },
    {
     "name": "stdout",
     "output_type": "stream",
     "text": [
      "First net took 0.59 many second to check 342 many pictures.\n",
      "currently 1 many boxes\n",
      "After belief, still 1 many boxes. It took 0.0 many seconds.\n",
      "There are 104 centers in the centers.\n",
      "1 of 1 boxes survived the Ensemble-Check! It took 1.13 many seconds.\n"
     ]
    },
    {
     "name": "stderr",
     "output_type": "stream",
     "text": [
      "\n",
      " 71%|███████   | 894/1261 [28:22<14:34,  2.38s/it]\u001b[A"
     ]
    },
    {
     "name": "stdout",
     "output_type": "stream",
     "text": [
      "First net took 0.58 many second to check 342 many pictures.\n",
      "currently 1 many boxes\n",
      "After belief, still 1 many boxes. It took 0.0 many seconds.\n",
      "There are 105 centers in the centers.\n",
      "1 of 1 boxes survived the Ensemble-Check! It took 1.13 many seconds.\n"
     ]
    },
    {
     "name": "stderr",
     "output_type": "stream",
     "text": [
      "\n",
      " 71%|███████   | 895/1261 [28:25<14:32,  2.38s/it]\u001b[A"
     ]
    },
    {
     "name": "stdout",
     "output_type": "stream",
     "text": [
      "First net took 0.59 many second to check 342 many pictures.\n",
      "currently 1 many boxes\n",
      "After belief, still 1 many boxes. It took 0.0 many seconds.\n",
      "There are 106 centers in the centers.\n",
      "1 of 1 boxes survived the Ensemble-Check! It took 1.12 many seconds.\n"
     ]
    },
    {
     "name": "stderr",
     "output_type": "stream",
     "text": [
      "\n",
      " 71%|███████   | 896/1261 [28:27<14:28,  2.38s/it]\u001b[A"
     ]
    },
    {
     "name": "stdout",
     "output_type": "stream",
     "text": [
      "First net took 0.58 many second to check 342 many pictures.\n",
      "currently 1 many boxes\n",
      "After belief, still 1 many boxes. It took 0.0 many seconds.\n",
      "There are 107 centers in the centers.\n",
      "1 of 1 boxes survived the Ensemble-Check! It took 1.12 many seconds.\n"
     ]
    },
    {
     "name": "stderr",
     "output_type": "stream",
     "text": [
      "\n",
      " 71%|███████   | 897/1261 [28:29<14:24,  2.38s/it]\u001b[A"
     ]
    },
    {
     "name": "stdout",
     "output_type": "stream",
     "text": [
      "First net took 0.59 many second to check 342 many pictures.\n",
      "currently 1 many boxes\n",
      "After belief, still 1 many boxes. It took 0.0 many seconds.\n",
      "There are 108 centers in the centers.\n",
      "1 of 1 boxes survived the Ensemble-Check! It took 1.15 many seconds.\n"
     ]
    },
    {
     "name": "stderr",
     "output_type": "stream",
     "text": [
      "\n",
      " 71%|███████   | 898/1261 [28:32<14:25,  2.38s/it]\u001b[A"
     ]
    },
    {
     "name": "stdout",
     "output_type": "stream",
     "text": [
      "First net took 0.58 many second to check 342 many pictures.\n",
      "currently 1 many boxes\n",
      "After belief, still 1 many boxes. It took 0.0 many seconds.\n",
      "There are 109 centers in the centers.\n",
      "1 of 1 boxes survived the Ensemble-Check! It took 1.13 many seconds.\n"
     ]
    },
    {
     "name": "stderr",
     "output_type": "stream",
     "text": [
      "\n",
      " 71%|███████▏  | 899/1261 [28:34<14:21,  2.38s/it]\u001b[A"
     ]
    },
    {
     "name": "stdout",
     "output_type": "stream",
     "text": [
      "First net took 0.58 many second to check 342 many pictures.\n",
      "currently 1 many boxes\n",
      "After belief, still 1 many boxes. It took 0.0 many seconds.\n",
      "There are 110 centers in the centers.\n",
      "1 of 1 boxes survived the Ensemble-Check! It took 1.14 many seconds.\n"
     ]
    },
    {
     "name": "stderr",
     "output_type": "stream",
     "text": [
      "\n",
      " 71%|███████▏  | 900/1261 [28:36<14:19,  2.38s/it]\u001b[A"
     ]
    },
    {
     "name": "stdout",
     "output_type": "stream",
     "text": [
      "First net took 0.58 many second to check 342 many pictures.\n",
      "currently 1 many boxes\n",
      "After belief, still 1 many boxes. It took 0.0 many seconds.\n",
      "There are 111 centers in the centers.\n",
      "1 of 1 boxes survived the Ensemble-Check! It took 1.16 many seconds.\n"
     ]
    },
    {
     "name": "stderr",
     "output_type": "stream",
     "text": [
      "\n",
      " 71%|███████▏  | 901/1261 [28:39<14:21,  2.39s/it]\u001b[A"
     ]
    },
    {
     "name": "stdout",
     "output_type": "stream",
     "text": [
      "First net took 0.59 many second to check 342 many pictures.\n",
      "currently 1 many boxes\n",
      "After belief, still 1 many boxes. It took 0.0 many seconds.\n",
      "There are 112 centers in the centers.\n",
      "1 of 1 boxes survived the Ensemble-Check! It took 1.15 many seconds.\n"
     ]
    },
    {
     "name": "stderr",
     "output_type": "stream",
     "text": [
      "\n",
      " 72%|███████▏  | 902/1261 [28:41<14:19,  2.39s/it]\u001b[A"
     ]
    },
    {
     "name": "stdout",
     "output_type": "stream",
     "text": [
      "First net took 0.59 many second to check 342 many pictures.\n",
      "currently 1 many boxes\n",
      "After belief, still 1 many boxes. It took 0.0 many seconds.\n",
      "There are 113 centers in the centers.\n",
      "1 of 1 boxes survived the Ensemble-Check! It took 1.13 many seconds.\n"
     ]
    },
    {
     "name": "stderr",
     "output_type": "stream",
     "text": [
      "\n",
      " 72%|███████▏  | 903/1261 [28:44<14:16,  2.39s/it]\u001b[A"
     ]
    },
    {
     "name": "stdout",
     "output_type": "stream",
     "text": [
      "First net took 0.59 many second to check 342 many pictures.\n",
      "currently 1 many boxes\n",
      "After belief, still 1 many boxes. It took 0.0 many seconds.\n",
      "There are 114 centers in the centers.\n",
      "1 of 1 boxes survived the Ensemble-Check! It took 1.13 many seconds.\n"
     ]
    },
    {
     "name": "stderr",
     "output_type": "stream",
     "text": [
      "\n",
      " 72%|███████▏  | 904/1261 [28:46<14:12,  2.39s/it]\u001b[A"
     ]
    },
    {
     "name": "stdout",
     "output_type": "stream",
     "text": [
      "First net took 0.58 many second to check 342 many pictures.\n",
      "currently 1 many boxes\n",
      "After belief, still 1 many boxes. It took 0.0 many seconds.\n",
      "There are 115 centers in the centers.\n",
      "1 of 1 boxes survived the Ensemble-Check! It took 1.11 many seconds.\n"
     ]
    },
    {
     "name": "stderr",
     "output_type": "stream",
     "text": [
      "\n",
      " 72%|███████▏  | 905/1261 [28:48<14:08,  2.38s/it]\u001b[A"
     ]
    },
    {
     "name": "stdout",
     "output_type": "stream",
     "text": [
      "First net took 0.58 many second to check 342 many pictures.\n",
      "currently 1 many boxes\n",
      "After belief, still 1 many boxes. It took 0.0 many seconds.\n",
      "There are 116 centers in the centers.\n",
      "1 of 1 boxes survived the Ensemble-Check! It took 1.1 many seconds.\n"
     ]
    },
    {
     "name": "stderr",
     "output_type": "stream",
     "text": [
      "\n",
      " 72%|███████▏  | 906/1261 [28:51<14:03,  2.38s/it]\u001b[A"
     ]
    },
    {
     "name": "stdout",
     "output_type": "stream",
     "text": [
      "First net took 0.58 many second to check 342 many pictures.\n",
      "currently 1 many boxes\n",
      "After belief, still 1 many boxes. It took 0.0 many seconds.\n",
      "There are 117 centers in the centers.\n",
      "1 of 1 boxes survived the Ensemble-Check! It took 1.14 many seconds.\n"
     ]
    },
    {
     "name": "stderr",
     "output_type": "stream",
     "text": [
      "\n",
      " 72%|███████▏  | 907/1261 [28:53<14:02,  2.38s/it]\u001b[A"
     ]
    },
    {
     "name": "stdout",
     "output_type": "stream",
     "text": [
      "First net took 0.58 many second to check 342 many pictures.\n",
      "currently 1 many boxes\n",
      "After belief, still 1 many boxes. It took 0.0 many seconds.\n",
      "There are 118 centers in the centers.\n",
      "1 of 1 boxes survived the Ensemble-Check! It took 1.1 many seconds.\n"
     ]
    },
    {
     "name": "stderr",
     "output_type": "stream",
     "text": [
      "\n",
      " 72%|███████▏  | 908/1261 [28:55<13:57,  2.37s/it]\u001b[A"
     ]
    },
    {
     "name": "stdout",
     "output_type": "stream",
     "text": [
      "First net took 0.58 many second to check 342 many pictures.\n",
      "currently 1 many boxes\n",
      "After belief, still 1 many boxes. It took 0.0 many seconds.\n",
      "There are 119 centers in the centers.\n",
      "1 of 1 boxes survived the Ensemble-Check! It took 1.1 many seconds.\n"
     ]
    },
    {
     "name": "stderr",
     "output_type": "stream",
     "text": [
      "\n",
      " 72%|███████▏  | 909/1261 [28:58<13:51,  2.36s/it]\u001b[A"
     ]
    },
    {
     "name": "stdout",
     "output_type": "stream",
     "text": [
      "First net took 0.59 many second to check 342 many pictures.\n",
      "currently 1 many boxes\n",
      "After belief, still 1 many boxes. It took 0.0 many seconds.\n",
      "There are 120 centers in the centers.\n",
      "1 of 1 boxes survived the Ensemble-Check! It took 1.14 many seconds.\n"
     ]
    },
    {
     "name": "stderr",
     "output_type": "stream",
     "text": [
      "\n",
      " 72%|███████▏  | 910/1261 [29:00<13:52,  2.37s/it]\u001b[A"
     ]
    },
    {
     "name": "stdout",
     "output_type": "stream",
     "text": [
      "First net took 0.58 many second to check 342 many pictures.\n",
      "currently 1 many boxes\n",
      "After belief, still 1 many boxes. It took 0.0 many seconds.\n",
      "There are 121 centers in the centers.\n",
      "1 of 1 boxes survived the Ensemble-Check! It took 1.11 many seconds.\n"
     ]
    },
    {
     "name": "stderr",
     "output_type": "stream",
     "text": [
      "\n",
      " 72%|███████▏  | 911/1261 [29:03<13:49,  2.37s/it]\u001b[A"
     ]
    },
    {
     "name": "stdout",
     "output_type": "stream",
     "text": [
      "First net took 0.57 many second to check 342 many pictures.\n",
      "currently 1 many boxes\n",
      "After belief, still 1 many boxes. It took 0.0 many seconds.\n",
      "There are 122 centers in the centers.\n",
      "1 of 1 boxes survived the Ensemble-Check! It took 1.12 many seconds.\n"
     ]
    },
    {
     "name": "stderr",
     "output_type": "stream",
     "text": [
      "\n",
      " 72%|███████▏  | 912/1261 [29:05<13:45,  2.37s/it]\u001b[A"
     ]
    },
    {
     "name": "stdout",
     "output_type": "stream",
     "text": [
      "First net took 0.58 many second to check 342 many pictures.\n",
      "currently 1 many boxes\n",
      "After belief, still 1 many boxes. It took 0.0 many seconds.\n",
      "There are 123 centers in the centers.\n",
      "1 of 1 boxes survived the Ensemble-Check! It took 1.13 many seconds.\n"
     ]
    },
    {
     "name": "stderr",
     "output_type": "stream",
     "text": [
      "\n",
      " 72%|███████▏  | 913/1261 [29:07<13:44,  2.37s/it]\u001b[A"
     ]
    },
    {
     "name": "stdout",
     "output_type": "stream",
     "text": [
      "First net took 0.59 many second to check 342 many pictures.\n",
      "currently 1 many boxes\n",
      "After belief, still 1 many boxes. It took 0.0 many seconds.\n",
      "There are 124 centers in the centers.\n",
      "1 of 1 boxes survived the Ensemble-Check! It took 1.12 many seconds.\n"
     ]
    },
    {
     "name": "stderr",
     "output_type": "stream",
     "text": [
      "\n",
      " 72%|███████▏  | 914/1261 [29:10<13:42,  2.37s/it]\u001b[A"
     ]
    },
    {
     "name": "stdout",
     "output_type": "stream",
     "text": [
      "First net took 0.58 many second to check 342 many pictures.\n",
      "currently 1 many boxes\n",
      "After belief, still 1 many boxes. It took 0.0 many seconds.\n",
      "There are 125 centers in the centers.\n",
      "1 of 1 boxes survived the Ensemble-Check! It took 1.11 many seconds.\n"
     ]
    },
    {
     "name": "stderr",
     "output_type": "stream",
     "text": [
      "\n",
      " 73%|███████▎  | 915/1261 [29:12<13:38,  2.37s/it]\u001b[A"
     ]
    },
    {
     "name": "stdout",
     "output_type": "stream",
     "text": [
      "First net took 0.58 many second to check 342 many pictures.\n",
      "currently 1 many boxes\n",
      "After belief, still 1 many boxes. It took 0.0 many seconds.\n",
      "There are 126 centers in the centers.\n",
      "1 of 1 boxes survived the Ensemble-Check! It took 1.13 many seconds.\n"
     ]
    },
    {
     "name": "stderr",
     "output_type": "stream",
     "text": [
      "\n",
      " 73%|███████▎  | 916/1261 [29:14<13:37,  2.37s/it]\u001b[A"
     ]
    },
    {
     "name": "stdout",
     "output_type": "stream",
     "text": [
      "First net took 0.58 many second to check 342 many pictures.\n",
      "currently 1 many boxes\n",
      "After belief, still 1 many boxes. It took 0.0 many seconds.\n",
      "There are 127 centers in the centers.\n",
      "1 of 1 boxes survived the Ensemble-Check! It took 1.12 many seconds.\n"
     ]
    },
    {
     "name": "stderr",
     "output_type": "stream",
     "text": [
      "\n",
      " 73%|███████▎  | 917/1261 [29:17<13:35,  2.37s/it]\u001b[A"
     ]
    },
    {
     "name": "stdout",
     "output_type": "stream",
     "text": [
      "First net took 0.59 many second to check 342 many pictures.\n",
      "currently 1 many boxes\n",
      "After belief, still 1 many boxes. It took 0.0 many seconds.\n",
      "There are 128 centers in the centers.\n",
      "1 of 1 boxes survived the Ensemble-Check! It took 1.13 many seconds.\n"
     ]
    },
    {
     "name": "stderr",
     "output_type": "stream",
     "text": [
      "\n",
      " 73%|███████▎  | 918/1261 [29:19<13:34,  2.37s/it]\u001b[A"
     ]
    },
    {
     "name": "stdout",
     "output_type": "stream",
     "text": [
      "First net took 0.59 many second to check 342 many pictures.\n",
      "currently 1 many boxes\n",
      "After belief, still 1 many boxes. It took 0.0 many seconds.\n",
      "There are 129 centers in the centers.\n",
      "1 of 1 boxes survived the Ensemble-Check! It took 1.13 many seconds.\n"
     ]
    },
    {
     "name": "stderr",
     "output_type": "stream",
     "text": [
      "\n",
      " 73%|███████▎  | 919/1261 [29:22<13:32,  2.38s/it]\u001b[A"
     ]
    },
    {
     "name": "stdout",
     "output_type": "stream",
     "text": [
      "First net took 0.6 many second to check 342 many pictures.\n",
      "currently 1 many boxes\n",
      "After belief, still 1 many boxes. It took 0.0 many seconds.\n",
      "There are 130 centers in the centers.\n",
      "1 of 1 boxes survived the Ensemble-Check! It took 1.12 many seconds.\n"
     ]
    },
    {
     "name": "stderr",
     "output_type": "stream",
     "text": [
      "\n",
      " 73%|███████▎  | 920/1261 [29:24<13:32,  2.38s/it]\u001b[A"
     ]
    },
    {
     "name": "stdout",
     "output_type": "stream",
     "text": [
      "First net took 0.58 many second to check 342 many pictures.\n",
      "currently 1 many boxes\n",
      "After belief, still 1 many boxes. It took 0.0 many seconds.\n",
      "There are 131 centers in the centers.\n",
      "1 of 1 boxes survived the Ensemble-Check! It took 1.15 many seconds.\n"
     ]
    },
    {
     "name": "stderr",
     "output_type": "stream",
     "text": [
      "\n",
      " 73%|███████▎  | 921/1261 [29:26<13:31,  2.39s/it]\u001b[A"
     ]
    },
    {
     "name": "stdout",
     "output_type": "stream",
     "text": [
      "First net took 0.58 many second to check 342 many pictures.\n",
      "currently 1 many boxes\n",
      "After belief, still 1 many boxes. It took 0.0 many seconds.\n",
      "There are 132 centers in the centers.\n",
      "1 of 1 boxes survived the Ensemble-Check! It took 1.14 many seconds.\n"
     ]
    },
    {
     "name": "stderr",
     "output_type": "stream",
     "text": [
      "\n",
      " 73%|███████▎  | 922/1261 [29:29<13:28,  2.39s/it]\u001b[A"
     ]
    },
    {
     "name": "stdout",
     "output_type": "stream",
     "text": [
      "First net took 0.58 many second to check 342 many pictures.\n",
      "currently 1 many boxes\n",
      "After belief, still 1 many boxes. It took 0.0 many seconds.\n",
      "There are 133 centers in the centers.\n",
      "1 of 1 boxes survived the Ensemble-Check! It took 1.14 many seconds.\n"
     ]
    },
    {
     "name": "stderr",
     "output_type": "stream",
     "text": [
      "\n",
      " 73%|███████▎  | 923/1261 [29:31<13:26,  2.39s/it]\u001b[A"
     ]
    },
    {
     "name": "stdout",
     "output_type": "stream",
     "text": [
      "First net took 0.58 many second to check 342 many pictures.\n",
      "currently 1 many boxes\n",
      "After belief, still 1 many boxes. It took 0.0 many seconds.\n",
      "There are 134 centers in the centers.\n",
      "1 of 1 boxes survived the Ensemble-Check! It took 1.15 many seconds.\n"
     ]
    },
    {
     "name": "stderr",
     "output_type": "stream",
     "text": [
      "\n",
      " 73%|███████▎  | 924/1261 [29:34<13:25,  2.39s/it]\u001b[A"
     ]
    },
    {
     "name": "stdout",
     "output_type": "stream",
     "text": [
      "First net took 0.58 many second to check 342 many pictures.\n",
      "currently 3 many boxes\n",
      "After belief, still 1 many boxes. It took 0.0 many seconds.\n",
      "There are 137 centers in the centers.\n",
      "1 of 1 boxes survived the Ensemble-Check! It took 1.14 many seconds.\n"
     ]
    },
    {
     "name": "stderr",
     "output_type": "stream",
     "text": [
      "\n",
      " 73%|███████▎  | 925/1261 [29:36<13:22,  2.39s/it]\u001b[A"
     ]
    },
    {
     "name": "stdout",
     "output_type": "stream",
     "text": [
      "First net took 0.59 many second to check 342 many pictures.\n",
      "currently 1 many boxes\n",
      "After belief, still 1 many boxes. It took 0.0 many seconds.\n",
      "There are 136 centers in the centers.\n",
      "1 of 1 boxes survived the Ensemble-Check! It took 1.16 many seconds.\n"
     ]
    },
    {
     "name": "stderr",
     "output_type": "stream",
     "text": [
      "\n",
      " 73%|███████▎  | 926/1261 [29:38<13:22,  2.39s/it]\u001b[A"
     ]
    },
    {
     "name": "stdout",
     "output_type": "stream",
     "text": [
      "First net took 0.58 many second to check 342 many pictures.\n",
      "currently 1 many boxes\n",
      "After belief, still 1 many boxes. It took 0.0 many seconds.\n",
      "There are 137 centers in the centers.\n",
      "1 of 1 boxes survived the Ensemble-Check! It took 1.17 many seconds.\n"
     ]
    },
    {
     "name": "stderr",
     "output_type": "stream",
     "text": [
      "\n",
      " 74%|███████▎  | 927/1261 [29:41<13:23,  2.40s/it]\u001b[A"
     ]
    },
    {
     "name": "stdout",
     "output_type": "stream",
     "text": [
      "First net took 0.61 many second to check 342 many pictures.\n",
      "currently 1 many boxes\n",
      "After belief, still 1 many boxes. It took 0.0 many seconds.\n",
      "There are 138 centers in the centers.\n",
      "1 of 1 boxes survived the Ensemble-Check! It took 1.16 many seconds.\n"
     ]
    },
    {
     "name": "stderr",
     "output_type": "stream",
     "text": [
      "\n",
      " 74%|███████▎  | 928/1261 [29:43<13:23,  2.41s/it]\u001b[A"
     ]
    },
    {
     "name": "stdout",
     "output_type": "stream",
     "text": [
      "First net took 0.58 many second to check 342 many pictures.\n",
      "currently 1 many boxes\n",
      "After belief, still 1 many boxes. It took 0.0 many seconds.\n",
      "There are 139 centers in the centers.\n",
      "1 of 1 boxes survived the Ensemble-Check! It took 1.14 many seconds.\n"
     ]
    },
    {
     "name": "stderr",
     "output_type": "stream",
     "text": [
      "\n",
      " 74%|███████▎  | 929/1261 [29:46<13:19,  2.41s/it]\u001b[A"
     ]
    },
    {
     "name": "stdout",
     "output_type": "stream",
     "text": [
      "First net took 0.58 many second to check 342 many pictures.\n",
      "currently 1 many boxes\n",
      "After belief, still 1 many boxes. It took 0.0 many seconds.\n",
      "There are 140 centers in the centers.\n",
      "1 of 1 boxes survived the Ensemble-Check! It took 1.14 many seconds.\n"
     ]
    },
    {
     "name": "stderr",
     "output_type": "stream",
     "text": [
      "\n",
      " 74%|███████▍  | 930/1261 [29:48<13:15,  2.40s/it]\u001b[A"
     ]
    },
    {
     "name": "stdout",
     "output_type": "stream",
     "text": [
      "First net took 0.58 many second to check 342 many pictures.\n",
      "currently 1 many boxes\n",
      "After belief, still 1 many boxes. It took 0.0 many seconds.\n",
      "There are 141 centers in the centers.\n",
      "1 of 1 boxes survived the Ensemble-Check! It took 1.14 many seconds.\n"
     ]
    },
    {
     "name": "stderr",
     "output_type": "stream",
     "text": [
      "\n",
      " 74%|███████▍  | 931/1261 [29:50<13:11,  2.40s/it]\u001b[A"
     ]
    },
    {
     "name": "stdout",
     "output_type": "stream",
     "text": [
      "First net took 0.58 many second to check 342 many pictures.\n",
      "currently 1 many boxes\n",
      "After belief, still 1 many boxes. It took 0.0 many seconds.\n",
      "There are 142 centers in the centers.\n",
      "1 of 1 boxes survived the Ensemble-Check! It took 1.14 many seconds.\n"
     ]
    },
    {
     "name": "stderr",
     "output_type": "stream",
     "text": [
      "\n",
      " 74%|███████▍  | 932/1261 [29:53<13:08,  2.40s/it]\u001b[A"
     ]
    },
    {
     "name": "stdout",
     "output_type": "stream",
     "text": [
      "First net took 0.58 many second to check 342 many pictures.\n",
      "currently 1 many boxes\n",
      "After belief, still 1 many boxes. It took 0.0 many seconds.\n",
      "There are 143 centers in the centers.\n",
      "1 of 1 boxes survived the Ensemble-Check! It took 1.15 many seconds.\n"
     ]
    },
    {
     "name": "stderr",
     "output_type": "stream",
     "text": [
      "\n",
      " 74%|███████▍  | 933/1261 [29:55<13:07,  2.40s/it]\u001b[A"
     ]
    },
    {
     "name": "stdout",
     "output_type": "stream",
     "text": [
      "First net took 0.59 many second to check 342 many pictures.\n",
      "currently 2 many boxes\n",
      "After belief, still 1 many boxes. It took 0.0 many seconds.\n",
      "There are 145 centers in the centers.\n",
      "1 of 1 boxes survived the Ensemble-Check! It took 1.13 many seconds.\n"
     ]
    },
    {
     "name": "stderr",
     "output_type": "stream",
     "text": [
      "\n",
      " 74%|███████▍  | 934/1261 [29:58<13:04,  2.40s/it]\u001b[A"
     ]
    },
    {
     "name": "stdout",
     "output_type": "stream",
     "text": [
      "First net took 0.58 many second to check 342 many pictures.\n",
      "currently 1 many boxes\n",
      "After belief, still 1 many boxes. It took 0.0 many seconds.\n",
      "There are 145 centers in the centers.\n",
      "1 of 1 boxes survived the Ensemble-Check! It took 1.15 many seconds.\n"
     ]
    },
    {
     "name": "stderr",
     "output_type": "stream",
     "text": [
      "\n",
      " 74%|███████▍  | 935/1261 [30:00<13:14,  2.44s/it]\u001b[A"
     ]
    },
    {
     "name": "stdout",
     "output_type": "stream",
     "text": [
      "First net took 0.58 many second to check 342 many pictures.\n",
      "currently 1 many boxes\n",
      "After belief, still 1 many boxes. It took 0.0 many seconds.\n",
      "There are 146 centers in the centers.\n",
      "1 of 1 boxes survived the Ensemble-Check! It took 1.16 many seconds.\n"
     ]
    },
    {
     "name": "stderr",
     "output_type": "stream",
     "text": [
      "\n",
      " 74%|███████▍  | 936/1261 [30:02<13:08,  2.43s/it]\u001b[A"
     ]
    },
    {
     "name": "stdout",
     "output_type": "stream",
     "text": [
      "First net took 0.58 many second to check 342 many pictures.\n",
      "currently 1 many boxes\n",
      "After belief, still 1 many boxes. It took 0.0 many seconds.\n",
      "There are 147 centers in the centers.\n",
      "1 of 1 boxes survived the Ensemble-Check! It took 1.16 many seconds.\n"
     ]
    },
    {
     "name": "stderr",
     "output_type": "stream",
     "text": [
      "\n",
      " 74%|███████▍  | 937/1261 [30:05<13:03,  2.42s/it]\u001b[A"
     ]
    },
    {
     "name": "stdout",
     "output_type": "stream",
     "text": [
      "First net took 0.58 many second to check 342 many pictures.\n",
      "currently 1 many boxes\n",
      "After belief, still 1 many boxes. It took 0.0 many seconds.\n",
      "There are 148 centers in the centers.\n",
      "1 of 1 boxes survived the Ensemble-Check! It took 1.17 many seconds.\n"
     ]
    },
    {
     "name": "stderr",
     "output_type": "stream",
     "text": [
      "\n",
      " 74%|███████▍  | 938/1261 [30:07<13:00,  2.42s/it]\u001b[A"
     ]
    },
    {
     "name": "stdout",
     "output_type": "stream",
     "text": [
      "First net took 0.61 many second to check 342 many pictures.\n",
      "currently 1 many boxes\n",
      "After belief, still 1 many boxes. It took 0.0 many seconds.\n",
      "There are 149 centers in the centers.\n",
      "1 of 1 boxes survived the Ensemble-Check! It took 1.15 many seconds.\n"
     ]
    },
    {
     "name": "stderr",
     "output_type": "stream",
     "text": [
      "\n",
      " 74%|███████▍  | 939/1261 [30:10<12:59,  2.42s/it]\u001b[A"
     ]
    },
    {
     "name": "stdout",
     "output_type": "stream",
     "text": [
      "First net took 0.58 many second to check 342 many pictures.\n",
      "currently 1 many boxes\n",
      "After belief, still 1 many boxes. It took 0.0 many seconds.\n",
      "There are 150 centers in the centers.\n",
      "1 of 1 boxes survived the Ensemble-Check! It took 1.14 many seconds.\n"
     ]
    },
    {
     "name": "stderr",
     "output_type": "stream",
     "text": [
      "\n",
      " 75%|███████▍  | 940/1261 [30:12<12:54,  2.41s/it]\u001b[A"
     ]
    },
    {
     "name": "stdout",
     "output_type": "stream",
     "text": [
      "First net took 0.58 many second to check 342 many pictures.\n",
      "currently 1 many boxes\n",
      "After belief, still 1 many boxes. It took 0.0 many seconds.\n",
      "There are 151 centers in the centers.\n",
      "1 of 1 boxes survived the Ensemble-Check! It took 1.14 many seconds.\n"
     ]
    },
    {
     "name": "stderr",
     "output_type": "stream",
     "text": [
      "\n",
      " 75%|███████▍  | 941/1261 [30:15<12:50,  2.41s/it]\u001b[A"
     ]
    },
    {
     "name": "stdout",
     "output_type": "stream",
     "text": [
      "First net took 0.59 many second to check 342 many pictures.\n",
      "currently 1 many boxes\n",
      "After belief, still 1 many boxes. It took 0.0 many seconds.\n",
      "There are 152 centers in the centers.\n",
      "1 of 1 boxes survived the Ensemble-Check! It took 1.15 many seconds.\n"
     ]
    },
    {
     "name": "stderr",
     "output_type": "stream",
     "text": [
      "\n",
      " 75%|███████▍  | 942/1261 [30:17<12:47,  2.41s/it]\u001b[A"
     ]
    },
    {
     "name": "stdout",
     "output_type": "stream",
     "text": [
      "First net took 0.58 many second to check 342 many pictures.\n",
      "currently 1 many boxes\n",
      "After belief, still 1 many boxes. It took 0.0 many seconds.\n",
      "There are 153 centers in the centers.\n",
      "1 of 1 boxes survived the Ensemble-Check! It took 1.15 many seconds.\n"
     ]
    },
    {
     "name": "stderr",
     "output_type": "stream",
     "text": [
      "\n",
      " 75%|███████▍  | 943/1261 [30:19<12:44,  2.40s/it]\u001b[A"
     ]
    },
    {
     "name": "stdout",
     "output_type": "stream",
     "text": [
      "First net took 0.58 many second to check 342 many pictures.\n",
      "currently 1 many boxes\n",
      "After belief, still 1 many boxes. It took 0.0 many seconds.\n",
      "There are 154 centers in the centers.\n",
      "1 of 1 boxes survived the Ensemble-Check! It took 1.15 many seconds.\n"
     ]
    },
    {
     "name": "stderr",
     "output_type": "stream",
     "text": [
      "\n",
      " 75%|███████▍  | 944/1261 [30:22<12:42,  2.40s/it]\u001b[A"
     ]
    },
    {
     "name": "stdout",
     "output_type": "stream",
     "text": [
      "First net took 0.58 many second to check 342 many pictures.\n",
      "currently 1 many boxes\n",
      "After belief, still 1 many boxes. It took 0.0 many seconds.\n",
      "There are 155 centers in the centers.\n",
      "1 of 1 boxes survived the Ensemble-Check! It took 1.16 many seconds.\n"
     ]
    },
    {
     "name": "stderr",
     "output_type": "stream",
     "text": [
      "\n",
      " 75%|███████▍  | 945/1261 [30:24<12:40,  2.41s/it]\u001b[A"
     ]
    },
    {
     "name": "stdout",
     "output_type": "stream",
     "text": [
      "First net took 0.59 many second to check 342 many pictures.\n",
      "currently 1 many boxes\n",
      "After belief, still 1 many boxes. It took 0.0 many seconds.\n",
      "There are 156 centers in the centers.\n",
      "1 of 1 boxes survived the Ensemble-Check! It took 1.14 many seconds.\n"
     ]
    },
    {
     "name": "stderr",
     "output_type": "stream",
     "text": [
      "\n",
      " 75%|███████▌  | 946/1261 [30:27<12:36,  2.40s/it]\u001b[A"
     ]
    },
    {
     "name": "stdout",
     "output_type": "stream",
     "text": [
      "First net took 0.62 many second to check 342 many pictures.\n",
      "currently 1 many boxes\n",
      "After belief, still 1 many boxes. It took 0.0 many seconds.\n",
      "There are 157 centers in the centers.\n",
      "1 of 1 boxes survived the Ensemble-Check! It took 1.13 many seconds.\n"
     ]
    },
    {
     "name": "stderr",
     "output_type": "stream",
     "text": [
      "\n",
      " 75%|███████▌  | 947/1261 [30:29<12:35,  2.41s/it]\u001b[A"
     ]
    },
    {
     "name": "stdout",
     "output_type": "stream",
     "text": [
      "First net took 0.6 many second to check 342 many pictures.\n",
      "currently 1 many boxes\n",
      "After belief, still 1 many boxes. It took 0.0 many seconds.\n",
      "There are 158 centers in the centers.\n",
      "1 of 1 boxes survived the Ensemble-Check! It took 1.17 many seconds.\n"
     ]
    },
    {
     "name": "stderr",
     "output_type": "stream",
     "text": [
      "\n",
      " 75%|███████▌  | 948/1261 [30:31<12:37,  2.42s/it]\u001b[A"
     ]
    },
    {
     "name": "stdout",
     "output_type": "stream",
     "text": [
      "First net took 0.58 many second to check 342 many pictures.\n",
      "currently 1 many boxes\n",
      "After belief, still 1 many boxes. It took 0.0 many seconds.\n",
      "There are 159 centers in the centers.\n",
      "1 of 1 boxes survived the Ensemble-Check! It took 1.18 many seconds.\n"
     ]
    },
    {
     "name": "stderr",
     "output_type": "stream",
     "text": [
      "\n",
      " 75%|███████▌  | 949/1261 [30:34<12:34,  2.42s/it]\u001b[A"
     ]
    },
    {
     "name": "stdout",
     "output_type": "stream",
     "text": [
      "First net took 0.6 many second to check 342 many pictures.\n",
      "currently 1 many boxes\n",
      "After belief, still 1 many boxes. It took 0.0 many seconds.\n",
      "There are 160 centers in the centers.\n",
      "1 of 1 boxes survived the Ensemble-Check! It took 1.17 many seconds.\n"
     ]
    },
    {
     "name": "stderr",
     "output_type": "stream",
     "text": [
      "\n",
      " 75%|███████▌  | 950/1261 [30:36<12:34,  2.42s/it]\u001b[A"
     ]
    },
    {
     "name": "stdout",
     "output_type": "stream",
     "text": [
      "First net took 0.58 many second to check 342 many pictures.\n",
      "currently 1 many boxes\n",
      "After belief, still 1 many boxes. It took 0.0 many seconds.\n",
      "There are 161 centers in the centers.\n",
      "1 of 1 boxes survived the Ensemble-Check! It took 1.17 many seconds.\n"
     ]
    },
    {
     "name": "stderr",
     "output_type": "stream",
     "text": [
      "\n",
      " 75%|███████▌  | 951/1261 [30:39<12:31,  2.42s/it]\u001b[A"
     ]
    },
    {
     "name": "stdout",
     "output_type": "stream",
     "text": [
      "First net took 0.58 many second to check 342 many pictures.\n",
      "currently 1 many boxes\n",
      "After belief, still 1 many boxes. It took 0.0 many seconds.\n",
      "There are 162 centers in the centers.\n",
      "1 of 1 boxes survived the Ensemble-Check! It took 1.16 many seconds.\n"
     ]
    },
    {
     "name": "stderr",
     "output_type": "stream",
     "text": [
      "\n",
      " 75%|███████▌  | 952/1261 [30:41<12:28,  2.42s/it]\u001b[A"
     ]
    },
    {
     "name": "stdout",
     "output_type": "stream",
     "text": [
      "First net took 0.58 many second to check 342 many pictures.\n",
      "currently 1 many boxes\n",
      "After belief, still 1 many boxes. It took 0.0 many seconds.\n",
      "There are 163 centers in the centers.\n",
      "1 of 1 boxes survived the Ensemble-Check! It took 1.17 many seconds.\n"
     ]
    },
    {
     "name": "stderr",
     "output_type": "stream",
     "text": [
      "\n",
      " 76%|███████▌  | 953/1261 [30:44<12:25,  2.42s/it]\u001b[A"
     ]
    },
    {
     "name": "stdout",
     "output_type": "stream",
     "text": [
      "First net took 0.62 many second to check 342 many pictures.\n",
      "currently 1 many boxes\n",
      "After belief, still 1 many boxes. It took 0.0 many seconds.\n",
      "There are 164 centers in the centers.\n",
      "1 of 1 boxes survived the Ensemble-Check! It took 1.18 many seconds.\n"
     ]
    },
    {
     "name": "stderr",
     "output_type": "stream",
     "text": [
      "\n",
      " 76%|███████▌  | 954/1261 [30:46<12:29,  2.44s/it]\u001b[A"
     ]
    },
    {
     "name": "stdout",
     "output_type": "stream",
     "text": [
      "First net took 0.58 many second to check 342 many pictures.\n",
      "currently 1 many boxes\n",
      "After belief, still 1 many boxes. It took 0.0 many seconds.\n",
      "There are 165 centers in the centers.\n",
      "1 of 1 boxes survived the Ensemble-Check! It took 1.18 many seconds.\n"
     ]
    },
    {
     "name": "stderr",
     "output_type": "stream",
     "text": [
      "\n",
      " 76%|███████▌  | 955/1261 [30:48<12:25,  2.44s/it]\u001b[A"
     ]
    },
    {
     "name": "stdout",
     "output_type": "stream",
     "text": [
      "First net took 0.58 many second to check 342 many pictures.\n",
      "currently 1 many boxes\n",
      "After belief, still 1 many boxes. It took 0.0 many seconds.\n",
      "There are 166 centers in the centers.\n",
      "1 of 1 boxes survived the Ensemble-Check! It took 1.16 many seconds.\n"
     ]
    },
    {
     "name": "stderr",
     "output_type": "stream",
     "text": [
      "\n",
      " 76%|███████▌  | 956/1261 [30:51<12:21,  2.43s/it]\u001b[A"
     ]
    },
    {
     "name": "stdout",
     "output_type": "stream",
     "text": [
      "First net took 0.58 many second to check 342 many pictures.\n",
      "currently 1 many boxes\n",
      "After belief, still 1 many boxes. It took 0.0 many seconds.\n",
      "There are 167 centers in the centers.\n",
      "1 of 1 boxes survived the Ensemble-Check! It took 1.17 many seconds.\n"
     ]
    },
    {
     "name": "stderr",
     "output_type": "stream",
     "text": [
      "\n",
      " 76%|███████▌  | 957/1261 [30:53<12:17,  2.42s/it]\u001b[A"
     ]
    },
    {
     "name": "stdout",
     "output_type": "stream",
     "text": [
      "First net took 0.6 many second to check 342 many pictures.\n",
      "currently 1 many boxes\n",
      "After belief, still 1 many boxes. It took 0.0 many seconds.\n",
      "There are 168 centers in the centers.\n",
      "1 of 1 boxes survived the Ensemble-Check! It took 1.17 many seconds.\n"
     ]
    },
    {
     "name": "stderr",
     "output_type": "stream",
     "text": [
      "\n",
      " 76%|███████▌  | 958/1261 [30:56<12:16,  2.43s/it]\u001b[A"
     ]
    },
    {
     "name": "stdout",
     "output_type": "stream",
     "text": [
      "First net took 0.58 many second to check 342 many pictures.\n",
      "currently 1 many boxes\n",
      "After belief, still 1 many boxes. It took 0.0 many seconds.\n",
      "There are 169 centers in the centers.\n",
      "1 of 1 boxes survived the Ensemble-Check! It took 1.18 many seconds.\n"
     ]
    },
    {
     "name": "stderr",
     "output_type": "stream",
     "text": [
      "\n",
      " 76%|███████▌  | 959/1261 [30:58<12:13,  2.43s/it]\u001b[A"
     ]
    },
    {
     "name": "stdout",
     "output_type": "stream",
     "text": [
      "First net took 0.58 many second to check 342 many pictures.\n",
      "currently 1 many boxes\n",
      "After belief, still 1 many boxes. It took 0.0 many seconds.\n",
      "There are 170 centers in the centers.\n",
      "1 of 1 boxes survived the Ensemble-Check! It took 1.15 many seconds.\n"
     ]
    },
    {
     "name": "stderr",
     "output_type": "stream",
     "text": [
      "\n",
      " 76%|███████▌  | 960/1261 [31:00<12:07,  2.42s/it]\u001b[A"
     ]
    },
    {
     "name": "stdout",
     "output_type": "stream",
     "text": [
      "First net took 0.58 many second to check 342 many pictures.\n",
      "currently 1 many boxes\n",
      "After belief, still 1 many boxes. It took 0.0 many seconds.\n",
      "There are 171 centers in the centers.\n",
      "1 of 1 boxes survived the Ensemble-Check! It took 1.16 many seconds.\n"
     ]
    },
    {
     "name": "stderr",
     "output_type": "stream",
     "text": [
      "\n",
      " 76%|███████▌  | 961/1261 [31:03<12:03,  2.41s/it]\u001b[A"
     ]
    },
    {
     "name": "stdout",
     "output_type": "stream",
     "text": [
      "First net took 0.62 many second to check 342 many pictures.\n",
      "currently 1 many boxes\n",
      "After belief, still 1 many boxes. It took 0.0 many seconds.\n",
      "There are 172 centers in the centers.\n",
      "1 of 1 boxes survived the Ensemble-Check! It took 1.18 many seconds.\n"
     ]
    },
    {
     "name": "stderr",
     "output_type": "stream",
     "text": [
      "\n",
      " 76%|███████▋  | 962/1261 [31:05<12:06,  2.43s/it]\u001b[A"
     ]
    },
    {
     "name": "stdout",
     "output_type": "stream",
     "text": [
      "First net took 0.61 many second to check 342 many pictures.\n",
      "currently 1 many boxes\n",
      "After belief, still 1 many boxes. It took 0.0 many seconds.\n",
      "There are 173 centers in the centers.\n",
      "1 of 1 boxes survived the Ensemble-Check! It took 1.15 many seconds.\n"
     ]
    },
    {
     "name": "stderr",
     "output_type": "stream",
     "text": [
      "\n",
      " 76%|███████▋  | 963/1261 [31:08<12:03,  2.43s/it]\u001b[A"
     ]
    },
    {
     "name": "stdout",
     "output_type": "stream",
     "text": [
      "First net took 0.58 many second to check 342 many pictures.\n",
      "currently 1 many boxes\n",
      "After belief, still 1 many boxes. It took 0.0 many seconds.\n",
      "There are 174 centers in the centers.\n",
      "1 of 1 boxes survived the Ensemble-Check! It took 1.13 many seconds.\n"
     ]
    },
    {
     "name": "stderr",
     "output_type": "stream",
     "text": [
      "\n",
      " 76%|███████▋  | 964/1261 [31:10<11:56,  2.41s/it]\u001b[A"
     ]
    },
    {
     "name": "stdout",
     "output_type": "stream",
     "text": [
      "First net took 0.61 many second to check 342 many pictures.\n",
      "currently 1 many boxes\n",
      "After belief, still 1 many boxes. It took 0.0 many seconds.\n",
      "There are 175 centers in the centers.\n",
      "1 of 1 boxes survived the Ensemble-Check! It took 1.11 many seconds.\n"
     ]
    },
    {
     "name": "stderr",
     "output_type": "stream",
     "text": [
      "\n",
      " 77%|███████▋  | 965/1261 [31:13<11:52,  2.41s/it]\u001b[A"
     ]
    },
    {
     "name": "stdout",
     "output_type": "stream",
     "text": [
      "First net took 0.59 many second to check 342 many pictures.\n",
      "currently 1 many boxes\n",
      "After belief, still 1 many boxes. It took 0.0 many seconds.\n",
      "There are 176 centers in the centers.\n",
      "1 of 1 boxes survived the Ensemble-Check! It took 1.1 many seconds.\n"
     ]
    },
    {
     "name": "stderr",
     "output_type": "stream",
     "text": [
      "\n",
      " 77%|███████▋  | 966/1261 [31:15<11:45,  2.39s/it]\u001b[A"
     ]
    },
    {
     "name": "stdout",
     "output_type": "stream",
     "text": [
      "First net took 0.58 many second to check 342 many pictures.\n",
      "currently 1 many boxes\n",
      "After belief, still 1 many boxes. It took 0.0 many seconds.\n",
      "There are 177 centers in the centers.\n",
      "1 of 1 boxes survived the Ensemble-Check! It took 1.1 many seconds.\n"
     ]
    },
    {
     "name": "stderr",
     "output_type": "stream",
     "text": [
      "\n",
      " 77%|███████▋  | 967/1261 [31:17<11:39,  2.38s/it]\u001b[A"
     ]
    },
    {
     "name": "stdout",
     "output_type": "stream",
     "text": [
      "First net took 0.58 many second to check 342 many pictures.\n",
      "currently 1 many boxes\n",
      "After belief, still 1 many boxes. It took 0.0 many seconds.\n",
      "There are 178 centers in the centers.\n",
      "1 of 1 boxes survived the Ensemble-Check! It took 1.11 many seconds.\n"
     ]
    },
    {
     "name": "stderr",
     "output_type": "stream",
     "text": [
      "\n",
      " 77%|███████▋  | 968/1261 [31:20<11:36,  2.38s/it]\u001b[A"
     ]
    },
    {
     "name": "stdout",
     "output_type": "stream",
     "text": [
      "First net took 0.58 many second to check 342 many pictures.\n",
      "currently 2 many boxes\n",
      "After belief, still 1 many boxes. It took 0.0 many seconds.\n",
      "There are 180 centers in the centers.\n",
      "1 of 1 boxes survived the Ensemble-Check! It took 1.13 many seconds.\n"
     ]
    },
    {
     "name": "stderr",
     "output_type": "stream",
     "text": [
      "\n",
      " 77%|███████▋  | 969/1261 [31:22<11:34,  2.38s/it]\u001b[A"
     ]
    },
    {
     "name": "stdout",
     "output_type": "stream",
     "text": [
      "First net took 0.59 many second to check 342 many pictures.\n",
      "currently 2 many boxes\n",
      "After belief, still 1 many boxes. It took 0.0 many seconds.\n",
      "There are 181 centers in the centers.\n",
      "1 of 1 boxes survived the Ensemble-Check! It took 1.14 many seconds.\n"
     ]
    },
    {
     "name": "stderr",
     "output_type": "stream",
     "text": [
      "\n",
      " 77%|███████▋  | 970/1261 [31:24<11:34,  2.39s/it]\u001b[A"
     ]
    },
    {
     "name": "stdout",
     "output_type": "stream",
     "text": [
      "First net took 0.58 many second to check 342 many pictures.\n",
      "currently 3 many boxes\n",
      "After belief, still 1 many boxes. It took 0.0 many seconds.\n",
      "There are 184 centers in the centers.\n",
      "1 of 1 boxes survived the Ensemble-Check! It took 1.15 many seconds.\n"
     ]
    },
    {
     "name": "stderr",
     "output_type": "stream",
     "text": [
      "\n",
      " 77%|███████▋  | 971/1261 [31:27<11:32,  2.39s/it]\u001b[A"
     ]
    },
    {
     "name": "stdout",
     "output_type": "stream",
     "text": [
      "First net took 0.57 many second to check 342 many pictures.\n",
      "currently 3 many boxes\n",
      "After belief, still 1 many boxes. It took 0.0 many seconds.\n",
      "There are 186 centers in the centers.\n",
      "1 of 1 boxes survived the Ensemble-Check! It took 1.14 many seconds.\n"
     ]
    },
    {
     "name": "stderr",
     "output_type": "stream",
     "text": [
      "\n",
      " 77%|███████▋  | 972/1261 [31:29<11:29,  2.39s/it]\u001b[A"
     ]
    },
    {
     "name": "stdout",
     "output_type": "stream",
     "text": [
      "First net took 0.58 many second to check 342 many pictures.\n",
      "currently 2 many boxes\n",
      "After belief, still 1 many boxes. It took 0.0 many seconds.\n",
      "There are 187 centers in the centers.\n",
      "1 of 1 boxes survived the Ensemble-Check! It took 1.1 many seconds.\n"
     ]
    },
    {
     "name": "stderr",
     "output_type": "stream",
     "text": [
      "\n",
      " 77%|███████▋  | 973/1261 [31:32<11:24,  2.38s/it]\u001b[A"
     ]
    },
    {
     "name": "stdout",
     "output_type": "stream",
     "text": [
      "First net took 0.59 many second to check 342 many pictures.\n",
      "currently 3 many boxes\n",
      "After belief, still 1 many boxes. It took 0.0 many seconds.\n",
      "There are 190 centers in the centers.\n",
      "1 of 1 boxes survived the Ensemble-Check! It took 1.15 many seconds.\n"
     ]
    },
    {
     "name": "stderr",
     "output_type": "stream",
     "text": [
      "\n",
      " 77%|███████▋  | 974/1261 [31:34<11:25,  2.39s/it]\u001b[A"
     ]
    },
    {
     "name": "stdout",
     "output_type": "stream",
     "text": [
      "First net took 0.61 many second to check 342 many pictures.\n",
      "currently 2 many boxes\n",
      "After belief, still 1 many boxes. It took 0.0 many seconds.\n",
      "There are 191 centers in the centers.\n",
      "1 of 1 boxes survived the Ensemble-Check! It took 1.15 many seconds.\n"
     ]
    },
    {
     "name": "stderr",
     "output_type": "stream",
     "text": [
      "\n",
      " 77%|███████▋  | 975/1261 [31:36<11:26,  2.40s/it]\u001b[A"
     ]
    },
    {
     "name": "stdout",
     "output_type": "stream",
     "text": [
      "First net took 0.58 many second to check 342 many pictures.\n",
      "currently 2 many boxes\n",
      "After belief, still 1 many boxes. It took 0.0 many seconds.\n",
      "There are 193 centers in the centers.\n",
      "1 of 1 boxes survived the Ensemble-Check! It took 1.11 many seconds.\n"
     ]
    },
    {
     "name": "stderr",
     "output_type": "stream",
     "text": [
      "\n",
      " 77%|███████▋  | 976/1261 [31:39<11:20,  2.39s/it]\u001b[A"
     ]
    },
    {
     "name": "stdout",
     "output_type": "stream",
     "text": [
      "First net took 0.59 many second to check 342 many pictures.\n",
      "currently 2 many boxes\n",
      "After belief, still 1 many boxes. It took 0.0 many seconds.\n",
      "There are 195 centers in the centers.\n",
      "1 of 1 boxes survived the Ensemble-Check! It took 1.11 many seconds.\n"
     ]
    },
    {
     "name": "stderr",
     "output_type": "stream",
     "text": [
      "\n",
      " 77%|███████▋  | 977/1261 [31:41<11:22,  2.40s/it]\u001b[A"
     ]
    },
    {
     "name": "stdout",
     "output_type": "stream",
     "text": [
      "First net took 0.59 many second to check 342 many pictures.\n",
      "currently 2 many boxes\n",
      "After belief, still 1 many boxes. It took 0.0 many seconds.\n",
      "There are 197 centers in the centers.\n",
      "1 of 1 boxes survived the Ensemble-Check! It took 1.11 many seconds.\n"
     ]
    },
    {
     "name": "stderr",
     "output_type": "stream",
     "text": [
      "\n",
      " 78%|███████▊  | 978/1261 [31:44<11:21,  2.41s/it]\u001b[A"
     ]
    },
    {
     "name": "stdout",
     "output_type": "stream",
     "text": [
      "First net took 0.59 many second to check 342 many pictures.\n",
      "currently 3 many boxes\n",
      "After belief, still 1 many boxes. It took 0.0 many seconds.\n",
      "There are 191 centers in the centers.\n",
      "1 of 1 boxes survived the Ensemble-Check! It took 1.17 many seconds.\n"
     ]
    },
    {
     "name": "stderr",
     "output_type": "stream",
     "text": [
      "\n",
      " 78%|███████▊  | 979/1261 [31:46<11:26,  2.43s/it]\u001b[A"
     ]
    },
    {
     "name": "stdout",
     "output_type": "stream",
     "text": [
      "First net took 0.58 many second to check 342 many pictures.\n",
      "currently 4 many boxes\n",
      "After belief, still 2 many boxes. It took 0.0 many seconds.\n",
      "There are 164 centers in the centers.\n",
      "2 of 2 boxes survived the Ensemble-Check! It took 2.11 many seconds.\n",
      "Combine Boxes!\n"
     ]
    },
    {
     "name": "stderr",
     "output_type": "stream",
     "text": [
      "\n",
      " 78%|███████▊  | 980/1261 [31:50<12:47,  2.73s/it]\u001b[A"
     ]
    },
    {
     "name": "stdout",
     "output_type": "stream",
     "text": [
      "First net took 0.58 many second to check 342 many pictures.\n",
      "currently 4 many boxes\n",
      "After belief, still 2 many boxes. It took 0.0 many seconds.\n",
      "There are 166 centers in the centers.\n",
      "2 of 2 boxes survived the Ensemble-Check! It took 2.1 many seconds.\n",
      "Combine Boxes!\n"
     ]
    },
    {
     "name": "stderr",
     "output_type": "stream",
     "text": [
      "\n",
      " 78%|███████▊  | 981/1261 [31:53<13:42,  2.94s/it]\u001b[A"
     ]
    },
    {
     "name": "stdout",
     "output_type": "stream",
     "text": [
      "First net took 0.59 many second to check 342 many pictures.\n",
      "currently 6 many boxes\n",
      "After belief, still 2 many boxes. It took 0.0 many seconds.\n",
      "There are 170 centers in the centers.\n",
      "2 of 2 boxes survived the Ensemble-Check! It took 2.1 many seconds.\n",
      "Combine Boxes!\n"
     ]
    },
    {
     "name": "stderr",
     "output_type": "stream",
     "text": [
      "\n",
      " 78%|███████▊  | 982/1261 [31:56<14:20,  3.08s/it]\u001b[A"
     ]
    },
    {
     "name": "stdout",
     "output_type": "stream",
     "text": [
      "First net took 0.58 many second to check 342 many pictures.\n",
      "currently 6 many boxes\n",
      "After belief, still 2 many boxes. It took 0.0 many seconds.\n",
      "There are 173 centers in the centers.\n",
      "2 of 2 boxes survived the Ensemble-Check! It took 2.09 many seconds.\n",
      "Combine Boxes!\n"
     ]
    },
    {
     "name": "stderr",
     "output_type": "stream",
     "text": [
      "\n",
      " 78%|███████▊  | 983/1261 [32:00<14:44,  3.18s/it]\u001b[A"
     ]
    },
    {
     "name": "stdout",
     "output_type": "stream",
     "text": [
      "First net took 0.58 many second to check 342 many pictures.\n",
      "currently 5 many boxes\n",
      "After belief, still 2 many boxes. It took 0.0 many seconds.\n",
      "There are 175 centers in the centers.\n",
      "2 of 2 boxes survived the Ensemble-Check! It took 2.1 many seconds.\n",
      "Combine Boxes!\n"
     ]
    },
    {
     "name": "stderr",
     "output_type": "stream",
     "text": [
      "\n",
      " 78%|███████▊  | 984/1261 [32:03<15:01,  3.25s/it]\u001b[A"
     ]
    },
    {
     "name": "stdout",
     "output_type": "stream",
     "text": [
      "First net took 0.58 many second to check 342 many pictures.\n",
      "currently 5 many boxes\n",
      "After belief, still 2 many boxes. It took 0.0 many seconds.\n",
      "There are 167 centers in the centers.\n",
      "2 of 2 boxes survived the Ensemble-Check! It took 2.08 many seconds.\n",
      "Combine Boxes!\n"
     ]
    },
    {
     "name": "stderr",
     "output_type": "stream",
     "text": [
      "\n",
      " 78%|███████▊  | 985/1261 [32:07<15:09,  3.30s/it]\u001b[A"
     ]
    },
    {
     "name": "stdout",
     "output_type": "stream",
     "text": [
      "First net took 0.61 many second to check 342 many pictures.\n",
      "currently 5 many boxes\n",
      "After belief, still 2 many boxes. It took 0.0 many seconds.\n",
      "There are 170 centers in the centers.\n",
      "2 of 2 boxes survived the Ensemble-Check! It took 2.1 many seconds.\n",
      "Combine Boxes!\n"
     ]
    },
    {
     "name": "stderr",
     "output_type": "stream",
     "text": [
      "\n",
      " 78%|███████▊  | 986/1261 [32:10<15:18,  3.34s/it]\u001b[A"
     ]
    },
    {
     "name": "stdout",
     "output_type": "stream",
     "text": [
      "First net took 0.58 many second to check 342 many pictures.\n",
      "currently 5 many boxes\n",
      "After belief, still 2 many boxes. It took 0.0 many seconds.\n",
      "There are 173 centers in the centers.\n",
      "2 of 2 boxes survived the Ensemble-Check! It took 2.13 many seconds.\n",
      "Combine Boxes!\n"
     ]
    },
    {
     "name": "stderr",
     "output_type": "stream",
     "text": [
      "\n",
      " 78%|███████▊  | 987/1261 [32:14<15:24,  3.37s/it]\u001b[A"
     ]
    },
    {
     "name": "stdout",
     "output_type": "stream",
     "text": [
      "First net took 0.59 many second to check 342 many pictures.\n",
      "currently 5 many boxes\n",
      "After belief, still 2 many boxes. It took 0.0 many seconds.\n",
      "There are 176 centers in the centers.\n",
      "2 of 2 boxes survived the Ensemble-Check! It took 2.1 many seconds.\n",
      "Combine Boxes!\n"
     ]
    },
    {
     "name": "stderr",
     "output_type": "stream",
     "text": [
      "\n",
      " 78%|███████▊  | 988/1261 [32:17<15:24,  3.39s/it]\u001b[A"
     ]
    },
    {
     "name": "stdout",
     "output_type": "stream",
     "text": [
      "First net took 0.58 many second to check 342 many pictures.\n",
      "currently 5 many boxes\n",
      "After belief, still 2 many boxes. It took 0.0 many seconds.\n",
      "There are 179 centers in the centers.\n",
      "2 of 2 boxes survived the Ensemble-Check! It took 2.09 many seconds.\n",
      "Combine Boxes!\n"
     ]
    },
    {
     "name": "stderr",
     "output_type": "stream",
     "text": [
      "\n",
      " 78%|███████▊  | 989/1261 [32:20<15:22,  3.39s/it]\u001b[A"
     ]
    },
    {
     "name": "stdout",
     "output_type": "stream",
     "text": [
      "First net took 0.59 many second to check 342 many pictures.\n",
      "currently 5 many boxes\n",
      "After belief, still 2 many boxes. It took 0.0 many seconds.\n",
      "There are 178 centers in the centers.\n",
      "2 of 2 boxes survived the Ensemble-Check! It took 2.1 many seconds.\n",
      "Combine Boxes!\n"
     ]
    },
    {
     "name": "stderr",
     "output_type": "stream",
     "text": [
      "\n",
      " 79%|███████▊  | 990/1261 [32:24<15:21,  3.40s/it]\u001b[A"
     ]
    },
    {
     "name": "stdout",
     "output_type": "stream",
     "text": [
      "First net took 0.58 many second to check 342 many pictures.\n",
      "currently 5 many boxes\n",
      "After belief, still 2 many boxes. It took 0.0 many seconds.\n",
      "There are 181 centers in the centers.\n",
      "2 of 2 boxes survived the Ensemble-Check! It took 2.08 many seconds.\n",
      "Combine Boxes!\n"
     ]
    },
    {
     "name": "stderr",
     "output_type": "stream",
     "text": [
      "\n",
      " 79%|███████▊  | 991/1261 [32:27<15:18,  3.40s/it]\u001b[A"
     ]
    },
    {
     "name": "stdout",
     "output_type": "stream",
     "text": [
      "First net took 0.58 many second to check 342 many pictures.\n",
      "currently 5 many boxes\n",
      "After belief, still 3 many boxes. It took 0.0 many seconds.\n",
      "There are 184 centers in the centers.\n",
      "Deleted Box!\n",
      "2 of 3 boxes survived the Ensemble-Check! It took 3.12 many seconds.\n",
      "Combine Boxes!\n"
     ]
    },
    {
     "name": "stderr",
     "output_type": "stream",
     "text": [
      "\n",
      " 79%|███████▊  | 992/1261 [32:32<16:39,  3.71s/it]\u001b[A"
     ]
    },
    {
     "name": "stdout",
     "output_type": "stream",
     "text": [
      "First net took 0.58 many second to check 342 many pictures.\n",
      "currently 5 many boxes\n",
      "After belief, still 3 many boxes. It took 0.0 many seconds.\n",
      "There are 187 centers in the centers.\n",
      "Deleted Box!\n",
      "2 of 3 boxes survived the Ensemble-Check! It took 3.12 many seconds.\n",
      "Combine Boxes!\n"
     ]
    },
    {
     "name": "stderr",
     "output_type": "stream",
     "text": [
      "\n",
      " 79%|███████▊  | 993/1261 [32:36<17:33,  3.93s/it]\u001b[A"
     ]
    },
    {
     "name": "stdout",
     "output_type": "stream",
     "text": [
      "First net took 0.59 many second to check 342 many pictures.\n",
      "currently 5 many boxes\n",
      "After belief, still 3 many boxes. It took 0.0 many seconds.\n",
      "There are 148 centers in the centers.\n",
      "Deleted Box!\n",
      "2 of 3 boxes survived the Ensemble-Check! It took 3.08 many seconds.\n",
      "Combine Boxes!\n"
     ]
    },
    {
     "name": "stderr",
     "output_type": "stream",
     "text": [
      "\n",
      " 79%|███████▉  | 994/1261 [32:40<18:07,  4.07s/it]\u001b[A"
     ]
    },
    {
     "name": "stdout",
     "output_type": "stream",
     "text": [
      "First net took 0.58 many second to check 342 many pictures.\n",
      "currently 5 many boxes\n",
      "After belief, still 3 many boxes. It took 0.0 many seconds.\n",
      "There are 151 centers in the centers.\n",
      "Deleted Box!\n",
      "2 of 3 boxes survived the Ensemble-Check! It took 3.11 many seconds.\n",
      "Combine Boxes!\n"
     ]
    },
    {
     "name": "stderr",
     "output_type": "stream",
     "text": [
      "\n",
      " 79%|███████▉  | 995/1261 [32:45<18:31,  4.18s/it]\u001b[A"
     ]
    },
    {
     "name": "stdout",
     "output_type": "stream",
     "text": [
      "First net took 0.59 many second to check 342 many pictures.\n",
      "currently 5 many boxes\n",
      "After belief, still 3 many boxes. It took 0.0 many seconds.\n",
      "There are 154 centers in the centers.\n",
      "Deleted Box!\n",
      "2 of 3 boxes survived the Ensemble-Check! It took 3.08 many seconds.\n",
      "Combine Boxes!\n"
     ]
    },
    {
     "name": "stderr",
     "output_type": "stream",
     "text": [
      "\n",
      " 79%|███████▉  | 996/1261 [32:49<18:45,  4.25s/it]\u001b[A"
     ]
    },
    {
     "name": "stdout",
     "output_type": "stream",
     "text": [
      "First net took 0.58 many second to check 342 many pictures.\n",
      "currently 5 many boxes\n",
      "After belief, still 3 many boxes. It took 0.0 many seconds.\n",
      "There are 157 centers in the centers.\n",
      "Deleted Box!\n",
      "2 of 3 boxes survived the Ensemble-Check! It took 3.09 many seconds.\n",
      "Combine Boxes!\n"
     ]
    },
    {
     "name": "stderr",
     "output_type": "stream",
     "text": [
      "\n",
      " 79%|███████▉  | 997/1261 [32:54<18:55,  4.30s/it]\u001b[A"
     ]
    },
    {
     "name": "stdout",
     "output_type": "stream",
     "text": [
      "First net took 0.62 many second to check 342 many pictures.\n",
      "currently 3 many boxes\n",
      "After belief, still 3 many boxes. It took 0.0 many seconds.\n",
      "There are 158 centers in the centers.\n",
      "Deleted Box!\n",
      "2 of 3 boxes survived the Ensemble-Check! It took 3.11 many seconds.\n",
      "Combine Boxes!\n"
     ]
    },
    {
     "name": "stderr",
     "output_type": "stream",
     "text": [
      "\n",
      " 79%|███████▉  | 998/1261 [32:58<19:03,  4.35s/it]\u001b[A"
     ]
    },
    {
     "name": "stdout",
     "output_type": "stream",
     "text": [
      "First net took 0.58 many second to check 342 many pictures.\n",
      "currently 3 many boxes\n",
      "After belief, still 3 many boxes. It took 0.0 many seconds.\n",
      "There are 61 centers in the centers.\n",
      "Deleted Box!\n",
      "2 of 3 boxes survived the Ensemble-Check! It took 3.1 many seconds.\n"
     ]
    },
    {
     "name": "stderr",
     "output_type": "stream",
     "text": [
      "\n",
      " 79%|███████▉  | 999/1261 [33:03<19:03,  4.36s/it]\u001b[A"
     ]
    },
    {
     "name": "stdout",
     "output_type": "stream",
     "text": [
      "First net took 0.58 many second to check 342 many pictures.\n",
      "currently 3 many boxes\n",
      "After belief, still 3 many boxes. It took 0.0 many seconds.\n",
      "There are 64 centers in the centers.\n",
      "Deleted Box!\n",
      "2 of 3 boxes survived the Ensemble-Check! It took 3.09 many seconds.\n"
     ]
    },
    {
     "name": "stderr",
     "output_type": "stream",
     "text": [
      "\n",
      " 79%|███████▉  | 1000/1261 [33:07<19:00,  4.37s/it]\u001b[A"
     ]
    },
    {
     "name": "stdout",
     "output_type": "stream",
     "text": [
      "First net took 0.61 many second to check 342 many pictures.\n",
      "currently 5 many boxes\n",
      "After belief, still 3 many boxes. It took 0.0 many seconds.\n",
      "There are 69 centers in the centers.\n",
      "Deleted Box!\n",
      "2 of 3 boxes survived the Ensemble-Check! It took 3.09 many seconds.\n",
      "Combine Boxes!\n"
     ]
    },
    {
     "name": "stderr",
     "output_type": "stream",
     "text": [
      "\n",
      " 79%|███████▉  | 1001/1261 [33:11<19:00,  4.39s/it]\u001b[A"
     ]
    },
    {
     "name": "stdout",
     "output_type": "stream",
     "text": [
      "First net took 0.59 many second to check 342 many pictures.\n",
      "currently 3 many boxes\n",
      "After belief, still 3 many boxes. It took 0.0 many seconds.\n",
      "There are 70 centers in the centers.\n",
      "Deleted Box!\n",
      "2 of 3 boxes survived the Ensemble-Check! It took 3.05 many seconds.\n",
      "Combine Boxes!\n"
     ]
    },
    {
     "name": "stderr",
     "output_type": "stream",
     "text": [
      "\n",
      " 79%|███████▉  | 1002/1261 [33:16<18:53,  4.38s/it]\u001b[A"
     ]
    },
    {
     "name": "stdout",
     "output_type": "stream",
     "text": [
      "First net took 0.58 many second to check 342 many pictures.\n",
      "currently 4 many boxes\n",
      "After belief, still 3 many boxes. It took 0.0 many seconds.\n",
      "There are 74 centers in the centers.\n",
      "Deleted Box!\n",
      "2 of 3 boxes survived the Ensemble-Check! It took 3.07 many seconds.\n",
      "Combine Boxes!\n"
     ]
    },
    {
     "name": "stderr",
     "output_type": "stream",
     "text": [
      "\n",
      " 80%|███████▉  | 1003/1261 [33:20<18:48,  4.37s/it]\u001b[A"
     ]
    },
    {
     "name": "stdout",
     "output_type": "stream",
     "text": [
      "First net took 0.58 many second to check 342 many pictures.\n",
      "currently 4 many boxes\n",
      "After belief, still 3 many boxes. It took 0.0 many seconds.\n",
      "There are 77 centers in the centers.\n",
      "Deleted Box!\n",
      "2 of 3 boxes survived the Ensemble-Check! It took 3.05 many seconds.\n",
      "Combine Boxes!\n"
     ]
    },
    {
     "name": "stderr",
     "output_type": "stream",
     "text": [
      "\n",
      " 80%|███████▉  | 1004/1261 [33:25<18:52,  4.41s/it]\u001b[A"
     ]
    },
    {
     "name": "stdout",
     "output_type": "stream",
     "text": [
      "First net took 0.58 many second to check 342 many pictures.\n",
      "currently 4 many boxes\n",
      "After belief, still 3 many boxes. It took 0.0 many seconds.\n",
      "There are 80 centers in the centers.\n",
      "Deleted Box!\n",
      "2 of 3 boxes survived the Ensemble-Check! It took 3.05 many seconds.\n",
      "Combine Boxes!\n"
     ]
    },
    {
     "name": "stderr",
     "output_type": "stream",
     "text": [
      "\n",
      " 80%|███████▉  | 1005/1261 [33:29<18:43,  4.39s/it]\u001b[A"
     ]
    },
    {
     "name": "stdout",
     "output_type": "stream",
     "text": [
      "First net took 0.59 many second to check 342 many pictures.\n",
      "currently 4 many boxes\n",
      "After belief, still 3 many boxes. It took 0.0 many seconds.\n",
      "There are 83 centers in the centers.\n",
      "Deleted Box!\n",
      "2 of 3 boxes survived the Ensemble-Check! It took 3.07 many seconds.\n",
      "Combine Boxes!\n"
     ]
    },
    {
     "name": "stderr",
     "output_type": "stream",
     "text": [
      "\n",
      " 80%|███████▉  | 1006/1261 [33:33<18:39,  4.39s/it]\u001b[A"
     ]
    },
    {
     "name": "stdout",
     "output_type": "stream",
     "text": [
      "First net took 0.58 many second to check 342 many pictures.\n",
      "currently 4 many boxes\n",
      "After belief, still 3 many boxes. It took 0.0 many seconds.\n",
      "There are 86 centers in the centers.\n",
      "Deleted Box!\n",
      "2 of 3 boxes survived the Ensemble-Check! It took 3.07 many seconds.\n",
      "Combine Boxes!\n"
     ]
    },
    {
     "name": "stderr",
     "output_type": "stream",
     "text": [
      "\n",
      " 80%|███████▉  | 1007/1261 [33:38<18:34,  4.39s/it]\u001b[A"
     ]
    },
    {
     "name": "stdout",
     "output_type": "stream",
     "text": [
      "First net took 0.62 many second to check 342 many pictures.\n",
      "currently 4 many boxes\n",
      "After belief, still 3 many boxes. It took 0.0 many seconds.\n",
      "There are 89 centers in the centers.\n",
      "Deleted Box!\n",
      "2 of 3 boxes survived the Ensemble-Check! It took 3.07 many seconds.\n",
      "Combine Boxes!\n"
     ]
    },
    {
     "name": "stderr",
     "output_type": "stream",
     "text": [
      "\n",
      " 80%|███████▉  | 1008/1261 [33:42<18:33,  4.40s/it]\u001b[A"
     ]
    },
    {
     "name": "stdout",
     "output_type": "stream",
     "text": [
      "First net took 0.58 many second to check 342 many pictures.\n",
      "currently 5 many boxes\n",
      "After belief, still 3 many boxes. It took 0.0 many seconds.\n",
      "There are 93 centers in the centers.\n",
      "Deleted Box!\n",
      "2 of 3 boxes survived the Ensemble-Check! It took 3.07 many seconds.\n",
      "Combine Boxes!\n"
     ]
    },
    {
     "name": "stderr",
     "output_type": "stream",
     "text": [
      "\n",
      " 80%|████████  | 1009/1261 [33:47<18:27,  4.39s/it]\u001b[A"
     ]
    },
    {
     "name": "stdout",
     "output_type": "stream",
     "text": [
      "First net took 0.6 many second to check 342 many pictures.\n",
      "currently 5 many boxes\n",
      "After belief, still 3 many boxes. It took 0.0 many seconds.\n",
      "There are 96 centers in the centers.\n",
      "Deleted Box!\n",
      "2 of 3 boxes survived the Ensemble-Check! It took 3.04 many seconds.\n"
     ]
    },
    {
     "name": "stderr",
     "output_type": "stream",
     "text": [
      "\n",
      " 80%|████████  | 1010/1261 [33:51<18:21,  4.39s/it]\u001b[A"
     ]
    },
    {
     "name": "stdout",
     "output_type": "stream",
     "text": [
      "First net took 0.59 many second to check 342 many pictures.\n",
      "currently 5 many boxes\n",
      "After belief, still 3 many boxes. It took 0.0 many seconds.\n",
      "There are 99 centers in the centers.\n",
      "Deleted Box!\n",
      "2 of 3 boxes survived the Ensemble-Check! It took 3.05 many seconds.\n"
     ]
    },
    {
     "name": "stderr",
     "output_type": "stream",
     "text": [
      "\n",
      " 80%|████████  | 1011/1261 [33:55<18:14,  4.38s/it]\u001b[A"
     ]
    },
    {
     "name": "stdout",
     "output_type": "stream",
     "text": [
      "First net took 0.59 many second to check 342 many pictures.\n",
      "currently 3 many boxes\n",
      "After belief, still 3 many boxes. It took 0.0 many seconds.\n",
      "There are 100 centers in the centers.\n",
      "Deleted Box!\n",
      "2 of 3 boxes survived the Ensemble-Check! It took 3.04 many seconds.\n"
     ]
    },
    {
     "name": "stderr",
     "output_type": "stream",
     "text": [
      "\n",
      " 80%|████████  | 1012/1261 [34:00<18:07,  4.37s/it]\u001b[A"
     ]
    },
    {
     "name": "stdout",
     "output_type": "stream",
     "text": [
      "First net took 0.58 many second to check 342 many pictures.\n",
      "currently 3 many boxes\n",
      "After belief, still 3 many boxes. It took 0.0 many seconds.\n",
      "There are 100 centers in the centers.\n",
      "Deleted Box!\n",
      "2 of 3 boxes survived the Ensemble-Check! It took 3.05 many seconds.\n"
     ]
    },
    {
     "name": "stderr",
     "output_type": "stream",
     "text": [
      "\n",
      " 80%|████████  | 1013/1261 [34:04<18:01,  4.36s/it]\u001b[A"
     ]
    },
    {
     "name": "stdout",
     "output_type": "stream",
     "text": [
      "First net took 0.6 many second to check 342 many pictures.\n",
      "currently 3 many boxes\n",
      "After belief, still 3 many boxes. It took 0.0 many seconds.\n",
      "There are 103 centers in the centers.\n",
      "Deleted Box!\n",
      "2 of 3 boxes survived the Ensemble-Check! It took 3.08 many seconds.\n"
     ]
    },
    {
     "name": "stderr",
     "output_type": "stream",
     "text": [
      "\n",
      " 80%|████████  | 1014/1261 [34:08<17:59,  4.37s/it]\u001b[A"
     ]
    },
    {
     "name": "stdout",
     "output_type": "stream",
     "text": [
      "First net took 0.58 many second to check 342 many pictures.\n",
      "currently 4 many boxes\n",
      "After belief, still 3 many boxes. It took 0.0 many seconds.\n",
      "There are 107 centers in the centers.\n",
      "Deleted Box!\n",
      "2 of 3 boxes survived the Ensemble-Check! It took 3.06 many seconds.\n"
     ]
    },
    {
     "name": "stderr",
     "output_type": "stream",
     "text": [
      "\n",
      " 80%|████████  | 1015/1261 [34:13<17:54,  4.37s/it]\u001b[A"
     ]
    },
    {
     "name": "stdout",
     "output_type": "stream",
     "text": [
      "First net took 0.6 many second to check 342 many pictures.\n",
      "currently 3 many boxes\n",
      "After belief, still 3 many boxes. It took 0.0 many seconds.\n",
      "There are 109 centers in the centers.\n",
      "Deleted Box!\n",
      "2 of 3 boxes survived the Ensemble-Check! It took 3.09 many seconds.\n"
     ]
    },
    {
     "name": "stderr",
     "output_type": "stream",
     "text": [
      "\n",
      " 81%|████████  | 1016/1261 [34:17<17:54,  4.39s/it]\u001b[A"
     ]
    },
    {
     "name": "stdout",
     "output_type": "stream",
     "text": [
      "First net took 0.58 many second to check 342 many pictures.\n",
      "currently 3 many boxes\n",
      "After belief, still 3 many boxes. It took 0.0 many seconds.\n",
      "There are 112 centers in the centers.\n",
      "Deleted Box!\n",
      "2 of 3 boxes survived the Ensemble-Check! It took 3.07 many seconds.\n"
     ]
    },
    {
     "name": "stderr",
     "output_type": "stream",
     "text": [
      "\n",
      " 81%|████████  | 1017/1261 [34:21<17:49,  4.38s/it]\u001b[A"
     ]
    },
    {
     "name": "stdout",
     "output_type": "stream",
     "text": [
      "First net took 0.6 many second to check 342 many pictures.\n",
      "currently 4 many boxes\n",
      "After belief, still 3 many boxes. It took 0.0 many seconds.\n",
      "There are 116 centers in the centers.\n",
      "Deleted Box!\n",
      "2 of 3 boxes survived the Ensemble-Check! It took 3.01 many seconds.\n"
     ]
    },
    {
     "name": "stderr",
     "output_type": "stream",
     "text": [
      "\n",
      " 81%|████████  | 1018/1261 [34:26<17:40,  4.37s/it]\u001b[A"
     ]
    },
    {
     "name": "stdout",
     "output_type": "stream",
     "text": [
      "First net took 0.58 many second to check 342 many pictures.\n",
      "currently 4 many boxes\n",
      "After belief, still 3 many boxes. It took 0.0 many seconds.\n",
      "There are 119 centers in the centers.\n",
      "Deleted Box!\n",
      "2 of 3 boxes survived the Ensemble-Check! It took 3.05 many seconds.\n"
     ]
    },
    {
     "name": "stderr",
     "output_type": "stream",
     "text": [
      "\n",
      " 81%|████████  | 1019/1261 [34:30<17:35,  4.36s/it]\u001b[A"
     ]
    },
    {
     "name": "stdout",
     "output_type": "stream",
     "text": [
      "First net took 0.57 many second to check 342 many pictures.\n",
      "currently 4 many boxes\n",
      "After belief, still 3 many boxes. It took 0.0 many seconds.\n",
      "There are 122 centers in the centers.\n",
      "Deleted Box!\n",
      "2 of 3 boxes survived the Ensemble-Check! It took 3.02 many seconds.\n"
     ]
    },
    {
     "name": "stderr",
     "output_type": "stream",
     "text": [
      "\n",
      " 81%|████████  | 1020/1261 [34:34<17:28,  4.35s/it]\u001b[A"
     ]
    },
    {
     "name": "stdout",
     "output_type": "stream",
     "text": [
      "First net took 0.58 many second to check 342 many pictures.\n",
      "currently 5 many boxes\n",
      "After belief, still 3 many boxes. It took 0.0 many seconds.\n",
      "There are 126 centers in the centers.\n",
      "Deleted Box!\n",
      "2 of 3 boxes survived the Ensemble-Check! It took 2.99 many seconds.\n"
     ]
    },
    {
     "name": "stderr",
     "output_type": "stream",
     "text": [
      "\n",
      " 81%|████████  | 1021/1261 [34:39<17:20,  4.34s/it]\u001b[A"
     ]
    },
    {
     "name": "stdout",
     "output_type": "stream",
     "text": [
      "First net took 0.59 many second to check 342 many pictures.\n",
      "currently 5 many boxes\n",
      "After belief, still 3 many boxes. It took 0.0 many seconds.\n",
      "There are 129 centers in the centers.\n",
      "Deleted Box!\n",
      "2 of 3 boxes survived the Ensemble-Check! It took 3.01 many seconds.\n"
     ]
    },
    {
     "name": "stderr",
     "output_type": "stream",
     "text": [
      "\n",
      " 81%|████████  | 1022/1261 [34:43<17:16,  4.34s/it]\u001b[A"
     ]
    },
    {
     "name": "stdout",
     "output_type": "stream",
     "text": [
      "First net took 0.58 many second to check 342 many pictures.\n",
      "currently 5 many boxes\n",
      "After belief, still 3 many boxes. It took 0.0 many seconds.\n",
      "There are 132 centers in the centers.\n",
      "Deleted Box!\n",
      "2 of 3 boxes survived the Ensemble-Check! It took 3.01 many seconds.\n"
     ]
    },
    {
     "name": "stderr",
     "output_type": "stream",
     "text": [
      "\n",
      " 81%|████████  | 1023/1261 [34:47<17:11,  4.33s/it]\u001b[A"
     ]
    },
    {
     "name": "stdout",
     "output_type": "stream",
     "text": [
      "First net took 0.58 many second to check 342 many pictures.\n",
      "currently 6 many boxes\n",
      "After belief, still 3 many boxes. It took 0.0 many seconds.\n",
      "There are 136 centers in the centers.\n",
      "Deleted Box!\n",
      "2 of 3 boxes survived the Ensemble-Check! It took 3.02 many seconds.\n"
     ]
    },
    {
     "name": "stderr",
     "output_type": "stream",
     "text": [
      "\n",
      " 81%|████████  | 1024/1261 [34:52<17:07,  4.34s/it]\u001b[A"
     ]
    },
    {
     "name": "stdout",
     "output_type": "stream",
     "text": [
      "First net took 0.58 many second to check 342 many pictures.\n",
      "currently 5 many boxes\n",
      "After belief, still 3 many boxes. It took 0.0 many seconds.\n",
      "There are 139 centers in the centers.\n",
      "Deleted Box!\n",
      "2 of 3 boxes survived the Ensemble-Check! It took 2.99 many seconds.\n"
     ]
    },
    {
     "name": "stderr",
     "output_type": "stream",
     "text": [
      "\n",
      " 81%|████████▏ | 1025/1261 [34:56<17:00,  4.32s/it]\u001b[A"
     ]
    },
    {
     "name": "stdout",
     "output_type": "stream",
     "text": [
      "First net took 0.6 many second to check 342 many pictures.\n",
      "currently 5 many boxes\n",
      "After belief, still 3 many boxes. It took 0.0 many seconds.\n",
      "There are 142 centers in the centers.\n",
      "Deleted Box!\n",
      "2 of 3 boxes survived the Ensemble-Check! It took 3.01 many seconds.\n"
     ]
    },
    {
     "name": "stderr",
     "output_type": "stream",
     "text": [
      "\n",
      " 81%|████████▏ | 1026/1261 [35:00<16:57,  4.33s/it]\u001b[A"
     ]
    },
    {
     "name": "stdout",
     "output_type": "stream",
     "text": [
      "First net took 0.58 many second to check 342 many pictures.\n",
      "currently 5 many boxes\n",
      "After belief, still 3 many boxes. It took 0.0 many seconds.\n",
      "There are 145 centers in the centers.\n",
      "Deleted Box!\n",
      "2 of 3 boxes survived the Ensemble-Check! It took 3.0 many seconds.\n"
     ]
    },
    {
     "name": "stderr",
     "output_type": "stream",
     "text": [
      "\n",
      " 81%|████████▏ | 1027/1261 [35:05<16:52,  4.33s/it]\u001b[A"
     ]
    },
    {
     "name": "stdout",
     "output_type": "stream",
     "text": [
      "First net took 0.58 many second to check 342 many pictures.\n",
      "currently 5 many boxes\n",
      "After belief, still 3 many boxes. It took 0.0 many seconds.\n",
      "There are 148 centers in the centers.\n",
      "Deleted Box!\n",
      "2 of 3 boxes survived the Ensemble-Check! It took 2.99 many seconds.\n"
     ]
    },
    {
     "name": "stderr",
     "output_type": "stream",
     "text": [
      "\n",
      " 82%|████████▏ | 1028/1261 [35:09<16:46,  4.32s/it]\u001b[A"
     ]
    },
    {
     "name": "stdout",
     "output_type": "stream",
     "text": [
      "First net took 0.58 many second to check 342 many pictures.\n",
      "currently 8 many boxes\n",
      "After belief, still 3 many boxes. It took 0.0 many seconds.\n",
      "There are 153 centers in the centers.\n",
      "Deleted Box!\n",
      "2 of 3 boxes survived the Ensemble-Check! It took 2.99 many seconds.\n"
     ]
    },
    {
     "name": "stderr",
     "output_type": "stream",
     "text": [
      "\n",
      " 82%|████████▏ | 1029/1261 [35:13<16:42,  4.32s/it]\u001b[A"
     ]
    },
    {
     "name": "stdout",
     "output_type": "stream",
     "text": [
      "First net took 0.6 many second to check 342 many pictures.\n",
      "currently 8 many boxes\n",
      "After belief, still 3 many boxes. It took 0.0 many seconds.\n",
      "There are 156 centers in the centers.\n",
      "Deleted Box!\n",
      "2 of 3 boxes survived the Ensemble-Check! It took 3.02 many seconds.\n"
     ]
    },
    {
     "name": "stderr",
     "output_type": "stream",
     "text": [
      "\n",
      " 82%|████████▏ | 1030/1261 [35:18<16:40,  4.33s/it]\u001b[A"
     ]
    },
    {
     "name": "stdout",
     "output_type": "stream",
     "text": [
      "First net took 0.59 many second to check 342 many pictures.\n",
      "currently 6 many boxes\n",
      "After belief, still 3 many boxes. It took 0.0 many seconds.\n",
      "There are 158 centers in the centers.\n",
      "Deleted Box!\n",
      "2 of 3 boxes survived the Ensemble-Check! It took 3.02 many seconds.\n"
     ]
    },
    {
     "name": "stderr",
     "output_type": "stream",
     "text": [
      "\n",
      " 82%|████████▏ | 1031/1261 [35:22<16:37,  4.34s/it]\u001b[A"
     ]
    },
    {
     "name": "stdout",
     "output_type": "stream",
     "text": [
      "First net took 0.58 many second to check 342 many pictures.\n",
      "currently 5 many boxes\n",
      "After belief, still 3 many boxes. It took 0.0 many seconds.\n",
      "There are 161 centers in the centers.\n",
      "Deleted Box!\n",
      "2 of 3 boxes survived the Ensemble-Check! It took 3.03 many seconds.\n"
     ]
    },
    {
     "name": "stderr",
     "output_type": "stream",
     "text": [
      "\n",
      " 82%|████████▏ | 1032/1261 [35:26<16:33,  4.34s/it]\u001b[A"
     ]
    },
    {
     "name": "stdout",
     "output_type": "stream",
     "text": [
      "First net took 0.61 many second to check 342 many pictures.\n",
      "currently 5 many boxes\n",
      "After belief, still 3 many boxes. It took 0.0 many seconds.\n",
      "There are 165 centers in the centers.\n",
      "Deleted Box!\n",
      "2 of 3 boxes survived the Ensemble-Check! It took 3.04 many seconds.\n"
     ]
    },
    {
     "name": "stderr",
     "output_type": "stream",
     "text": [
      "\n",
      " 82%|████████▏ | 1033/1261 [35:31<16:33,  4.36s/it]\u001b[A"
     ]
    },
    {
     "name": "stdout",
     "output_type": "stream",
     "text": [
      "First net took 0.6 many second to check 342 many pictures.\n",
      "currently 5 many boxes\n",
      "After belief, still 3 many boxes. It took 0.0 many seconds.\n",
      "There are 169 centers in the centers.\n",
      "Deleted Box!\n",
      "2 of 3 boxes survived the Ensemble-Check! It took 3.06 many seconds.\n"
     ]
    },
    {
     "name": "stderr",
     "output_type": "stream",
     "text": [
      "\n",
      " 82%|████████▏ | 1034/1261 [35:35<16:32,  4.37s/it]\u001b[A"
     ]
    },
    {
     "name": "stdout",
     "output_type": "stream",
     "text": [
      "First net took 0.58 many second to check 342 many pictures.\n",
      "currently 6 many boxes\n",
      "After belief, still 3 many boxes. It took 0.0 many seconds.\n",
      "There are 174 centers in the centers.\n",
      "Deleted Box!\n",
      "2 of 3 boxes survived the Ensemble-Check! It took 3.06 many seconds.\n",
      "Combine Boxes!\n"
     ]
    },
    {
     "name": "stderr",
     "output_type": "stream",
     "text": [
      "\n",
      " 82%|████████▏ | 1035/1261 [35:40<16:29,  4.38s/it]\u001b[A"
     ]
    },
    {
     "name": "stdout",
     "output_type": "stream",
     "text": [
      "First net took 0.58 many second to check 342 many pictures.\n",
      "currently 5 many boxes\n",
      "After belief, still 3 many boxes. It took 0.0 many seconds.\n",
      "There are 177 centers in the centers.\n",
      "Deleted Box!\n",
      "2 of 3 boxes survived the Ensemble-Check! It took 3.05 many seconds.\n"
     ]
    },
    {
     "name": "stderr",
     "output_type": "stream",
     "text": [
      "\n",
      " 82%|████████▏ | 1036/1261 [35:44<16:24,  4.38s/it]\u001b[A"
     ]
    },
    {
     "name": "stdout",
     "output_type": "stream",
     "text": [
      "First net took 0.58 many second to check 342 many pictures.\n",
      "currently 5 many boxes\n",
      "After belief, still 3 many boxes. It took 0.0 many seconds.\n",
      "There are 181 centers in the centers.\n",
      "Deleted Box!\n",
      "2 of 3 boxes survived the Ensemble-Check! It took 3.07 many seconds.\n"
     ]
    },
    {
     "name": "stderr",
     "output_type": "stream",
     "text": [
      "\n",
      " 82%|████████▏ | 1037/1261 [35:48<16:20,  4.38s/it]\u001b[A"
     ]
    },
    {
     "name": "stdout",
     "output_type": "stream",
     "text": [
      "First net took 0.59 many second to check 342 many pictures.\n",
      "currently 5 many boxes\n",
      "After belief, still 3 many boxes. It took 0.0 many seconds.\n",
      "There are 185 centers in the centers.\n",
      "Deleted Box!\n",
      "2 of 3 boxes survived the Ensemble-Check! It took 3.08 many seconds.\n"
     ]
    },
    {
     "name": "stderr",
     "output_type": "stream",
     "text": [
      "\n",
      " 82%|████████▏ | 1038/1261 [35:53<16:19,  4.39s/it]\u001b[A"
     ]
    },
    {
     "name": "stdout",
     "output_type": "stream",
     "text": [
      "First net took 0.59 many second to check 342 many pictures.\n",
      "currently 5 many boxes\n",
      "After belief, still 3 many boxes. It took 0.0 many seconds.\n",
      "There are 180 centers in the centers.\n",
      "Deleted Box!\n",
      "2 of 3 boxes survived the Ensemble-Check! It took 3.08 many seconds.\n"
     ]
    },
    {
     "name": "stderr",
     "output_type": "stream",
     "text": [
      "\n",
      " 82%|████████▏ | 1039/1261 [35:57<16:16,  4.40s/it]\u001b[A"
     ]
    },
    {
     "name": "stdout",
     "output_type": "stream",
     "text": [
      "First net took 0.59 many second to check 342 many pictures.\n",
      "currently 4 many boxes\n",
      "After belief, still 3 many boxes. It took 0.0 many seconds.\n",
      "There are 182 centers in the centers.\n",
      "Deleted Box!\n",
      "2 of 3 boxes survived the Ensemble-Check! It took 3.12 many seconds.\n"
     ]
    },
    {
     "name": "stderr",
     "output_type": "stream",
     "text": [
      "\n",
      " 82%|████████▏ | 1040/1261 [36:02<16:14,  4.41s/it]\u001b[A"
     ]
    },
    {
     "name": "stdout",
     "output_type": "stream",
     "text": [
      "First net took 0.58 many second to check 342 many pictures.\n",
      "currently 4 many boxes\n",
      "After belief, still 3 many boxes. It took 0.0 many seconds.\n",
      "There are 185 centers in the centers.\n",
      "Deleted Box!\n",
      "2 of 3 boxes survived the Ensemble-Check! It took 3.06 many seconds.\n"
     ]
    },
    {
     "name": "stderr",
     "output_type": "stream",
     "text": [
      "\n",
      " 83%|████████▎ | 1041/1261 [36:06<16:07,  4.40s/it]\u001b[A"
     ]
    },
    {
     "name": "stdout",
     "output_type": "stream",
     "text": [
      "First net took 0.6 many second to check 342 many pictures.\n",
      "currently 4 many boxes\n",
      "After belief, still 3 many boxes. It took 0.0 many seconds.\n",
      "There are 189 centers in the centers.\n",
      "3 of 3 boxes survived the Ensemble-Check! It took 3.06 many seconds.\n"
     ]
    },
    {
     "name": "stderr",
     "output_type": "stream",
     "text": [
      "\n",
      " 83%|████████▎ | 1042/1261 [36:10<16:02,  4.39s/it]\u001b[A"
     ]
    },
    {
     "name": "stdout",
     "output_type": "stream",
     "text": [
      "First net took 0.63 many second to check 342 many pictures.\n",
      "currently 4 many boxes\n",
      "After belief, still 3 many boxes. It took 0.0 many seconds.\n",
      "There are 175 centers in the centers.\n",
      "3 of 3 boxes survived the Ensemble-Check! It took 3.09 many seconds.\n"
     ]
    },
    {
     "name": "stderr",
     "output_type": "stream",
     "text": [
      "\n",
      " 83%|████████▎ | 1043/1261 [36:15<16:00,  4.41s/it]\u001b[A"
     ]
    },
    {
     "name": "stdout",
     "output_type": "stream",
     "text": [
      "First net took 0.58 many second to check 342 many pictures.\n",
      "currently 4 many boxes\n",
      "After belief, still 3 many boxes. It took 0.0 many seconds.\n",
      "There are 178 centers in the centers.\n",
      "3 of 3 boxes survived the Ensemble-Check! It took 3.06 many seconds.\n"
     ]
    },
    {
     "name": "stderr",
     "output_type": "stream",
     "text": [
      "\n",
      " 83%|████████▎ | 1044/1261 [36:19<15:54,  4.40s/it]\u001b[A"
     ]
    },
    {
     "name": "stdout",
     "output_type": "stream",
     "text": [
      "First net took 0.58 many second to check 342 many pictures.\n",
      "currently 5 many boxes\n",
      "After belief, still 3 many boxes. It took 0.0 many seconds.\n",
      "There are 180 centers in the centers.\n",
      "Deleted Box!\n",
      "2 of 3 boxes survived the Ensemble-Check! It took 2.98 many seconds.\n"
     ]
    },
    {
     "name": "stderr",
     "output_type": "stream",
     "text": [
      "\n",
      " 83%|████████▎ | 1045/1261 [36:24<15:43,  4.37s/it]\u001b[A"
     ]
    },
    {
     "name": "stdout",
     "output_type": "stream",
     "text": [
      "First net took 0.58 many second to check 342 many pictures.\n",
      "currently 5 many boxes\n",
      "After belief, still 3 many boxes. It took 0.0 many seconds.\n",
      "There are 183 centers in the centers.\n",
      "3 of 3 boxes survived the Ensemble-Check! It took 3.03 many seconds.\n"
     ]
    },
    {
     "name": "stderr",
     "output_type": "stream",
     "text": [
      "\n",
      " 83%|████████▎ | 1046/1261 [36:28<15:36,  4.36s/it]\u001b[A"
     ]
    },
    {
     "name": "stdout",
     "output_type": "stream",
     "text": [
      "First net took 0.57 many second to check 342 many pictures.\n",
      "currently 5 many boxes\n",
      "After belief, still 3 many boxes. It took 0.0 many seconds.\n",
      "There are 186 centers in the centers.\n",
      "Deleted Box!\n",
      "2 of 3 boxes survived the Ensemble-Check! It took 3.01 many seconds.\n"
     ]
    },
    {
     "name": "stderr",
     "output_type": "stream",
     "text": [
      "\n",
      " 83%|████████▎ | 1047/1261 [36:32<15:29,  4.34s/it]\u001b[A"
     ]
    },
    {
     "name": "stdout",
     "output_type": "stream",
     "text": [
      "First net took 0.58 many second to check 342 many pictures.\n",
      "currently 6 many boxes\n",
      "After belief, still 3 many boxes. It took 0.0 many seconds.\n",
      "There are 190 centers in the centers.\n",
      "Deleted Box!\n",
      "2 of 3 boxes survived the Ensemble-Check! It took 3.03 many seconds.\n",
      "Combine Boxes!\n"
     ]
    },
    {
     "name": "stderr",
     "output_type": "stream",
     "text": [
      "\n",
      " 83%|████████▎ | 1048/1261 [36:36<15:24,  4.34s/it]\u001b[A"
     ]
    },
    {
     "name": "stdout",
     "output_type": "stream",
     "text": [
      "First net took 0.58 many second to check 342 many pictures.\n",
      "currently 6 many boxes\n",
      "After belief, still 3 many boxes. It took 0.0 many seconds.\n",
      "There are 193 centers in the centers.\n",
      "Deleted Box!\n",
      "2 of 3 boxes survived the Ensemble-Check! It took 3.03 many seconds.\n",
      "Combine Boxes!\n"
     ]
    },
    {
     "name": "stderr",
     "output_type": "stream",
     "text": [
      "\n",
      " 83%|████████▎ | 1049/1261 [36:41<15:20,  4.34s/it]\u001b[A"
     ]
    },
    {
     "name": "stdout",
     "output_type": "stream",
     "text": [
      "First net took 0.61 many second to check 342 many pictures.\n",
      "currently 6 many boxes\n",
      "After belief, still 3 many boxes. It took 0.0 many seconds.\n",
      "There are 196 centers in the centers.\n",
      "Deleted Box!\n",
      "2 of 3 boxes survived the Ensemble-Check! It took 3.01 many seconds.\n"
     ]
    },
    {
     "name": "stderr",
     "output_type": "stream",
     "text": [
      "\n",
      " 83%|████████▎ | 1050/1261 [36:45<15:18,  4.35s/it]\u001b[A"
     ]
    },
    {
     "name": "stdout",
     "output_type": "stream",
     "text": [
      "First net took 0.58 many second to check 342 many pictures.\n",
      "currently 6 many boxes\n",
      "After belief, still 3 many boxes. It took 0.0 many seconds.\n",
      "There are 199 centers in the centers.\n",
      "Deleted Box!\n",
      "2 of 3 boxes survived the Ensemble-Check! It took 3.03 many seconds.\n",
      "Combine Boxes!\n"
     ]
    },
    {
     "name": "stderr",
     "output_type": "stream",
     "text": [
      "\n",
      " 83%|████████▎ | 1051/1261 [36:50<15:14,  4.35s/it]\u001b[A"
     ]
    },
    {
     "name": "stdout",
     "output_type": "stream",
     "text": [
      "First net took 0.61 many second to check 342 many pictures.\n",
      "currently 5 many boxes\n",
      "After belief, still 3 many boxes. It took 0.0 many seconds.\n",
      "There are 201 centers in the centers.\n",
      "Deleted Box!\n",
      "2 of 3 boxes survived the Ensemble-Check! It took 3.0 many seconds.\n"
     ]
    },
    {
     "name": "stderr",
     "output_type": "stream",
     "text": [
      "\n",
      " 83%|████████▎ | 1052/1261 [36:54<15:06,  4.34s/it]\u001b[A"
     ]
    },
    {
     "name": "stdout",
     "output_type": "stream",
     "text": [
      "First net took 0.58 many second to check 342 many pictures.\n",
      "currently 5 many boxes\n",
      "After belief, still 3 many boxes. It took 0.0 many seconds.\n",
      "There are 204 centers in the centers.\n",
      "Deleted Box!\n",
      "2 of 3 boxes survived the Ensemble-Check! It took 3.01 many seconds.\n"
     ]
    },
    {
     "name": "stderr",
     "output_type": "stream",
     "text": [
      "\n",
      " 84%|████████▎ | 1053/1261 [36:58<14:57,  4.31s/it]\u001b[A"
     ]
    },
    {
     "name": "stdout",
     "output_type": "stream",
     "text": [
      "First net took 0.58 many second to check 342 many pictures.\n",
      "currently 6 many boxes\n",
      "After belief, still 3 many boxes. It took 0.0 many seconds.\n",
      "There are 208 centers in the centers.\n",
      "Deleted Box!\n",
      "2 of 3 boxes survived the Ensemble-Check! It took 3.02 many seconds.\n"
     ]
    },
    {
     "name": "stderr",
     "output_type": "stream",
     "text": [
      "\n",
      " 84%|████████▎ | 1054/1261 [37:02<14:51,  4.31s/it]\u001b[A"
     ]
    },
    {
     "name": "stdout",
     "output_type": "stream",
     "text": [
      "First net took 0.58 many second to check 342 many pictures.\n",
      "currently 5 many boxes\n",
      "After belief, still 3 many boxes. It took 0.0 many seconds.\n",
      "There are 194 centers in the centers.\n",
      "Deleted Box!\n",
      "2 of 3 boxes survived the Ensemble-Check! It took 3.0 many seconds.\n",
      "Combine Boxes!\n"
     ]
    },
    {
     "name": "stderr",
     "output_type": "stream",
     "text": [
      "\n",
      " 84%|████████▎ | 1055/1261 [37:07<14:44,  4.29s/it]\u001b[A"
     ]
    },
    {
     "name": "stdout",
     "output_type": "stream",
     "text": [
      "First net took 0.6 many second to check 342 many pictures.\n",
      "currently 5 many boxes\n",
      "After belief, still 3 many boxes. It took 0.0 many seconds.\n",
      "There are 197 centers in the centers.\n",
      "Deleted Box!\n",
      "2 of 3 boxes survived the Ensemble-Check! It took 3.05 many seconds.\n"
     ]
    },
    {
     "name": "stderr",
     "output_type": "stream",
     "text": [
      "\n",
      " 84%|████████▎ | 1056/1261 [37:11<14:42,  4.30s/it]\u001b[A"
     ]
    },
    {
     "name": "stdout",
     "output_type": "stream",
     "text": [
      "First net took 0.58 many second to check 342 many pictures.\n",
      "currently 5 many boxes\n",
      "After belief, still 3 many boxes. It took 0.0 many seconds.\n",
      "There are 200 centers in the centers.\n",
      "Deleted Box!\n",
      "2 of 3 boxes survived the Ensemble-Check! It took 3.01 many seconds.\n",
      "Combine Boxes!\n"
     ]
    },
    {
     "name": "stderr",
     "output_type": "stream",
     "text": [
      "\n",
      " 84%|████████▍ | 1057/1261 [37:15<14:36,  4.30s/it]\u001b[A"
     ]
    },
    {
     "name": "stdout",
     "output_type": "stream",
     "text": [
      "First net took 0.62 many second to check 342 many pictures.\n",
      "currently 5 many boxes\n",
      "After belief, still 3 many boxes. It took 0.0 many seconds.\n",
      "There are 203 centers in the centers.\n",
      "Deleted Box!\n",
      "2 of 3 boxes survived the Ensemble-Check! It took 3.0 many seconds.\n"
     ]
    },
    {
     "name": "stderr",
     "output_type": "stream",
     "text": [
      "\n",
      " 84%|████████▍ | 1058/1261 [37:20<14:32,  4.30s/it]\u001b[A"
     ]
    },
    {
     "name": "stdout",
     "output_type": "stream",
     "text": [
      "First net took 0.58 many second to check 342 many pictures.\n",
      "currently 5 many boxes\n",
      "After belief, still 3 many boxes. It took 0.0 many seconds.\n",
      "There are 206 centers in the centers.\n",
      "Deleted Box!\n",
      "2 of 3 boxes survived the Ensemble-Check! It took 3.03 many seconds.\n"
     ]
    },
    {
     "name": "stderr",
     "output_type": "stream",
     "text": [
      "\n",
      " 84%|████████▍ | 1059/1261 [37:24<14:27,  4.29s/it]\u001b[A"
     ]
    },
    {
     "name": "stdout",
     "output_type": "stream",
     "text": [
      "First net took 0.59 many second to check 342 many pictures.\n",
      "currently 5 many boxes\n",
      "After belief, still 3 many boxes. It took 0.0 many seconds.\n",
      "There are 209 centers in the centers.\n",
      "Deleted Box!\n",
      "2 of 3 boxes survived the Ensemble-Check! It took 3.01 many seconds.\n"
     ]
    },
    {
     "name": "stderr",
     "output_type": "stream",
     "text": [
      "\n",
      " 84%|████████▍ | 1060/1261 [37:28<14:22,  4.29s/it]\u001b[A"
     ]
    },
    {
     "name": "stdout",
     "output_type": "stream",
     "text": [
      "First net took 0.58 many second to check 342 many pictures.\n",
      "currently 5 many boxes\n",
      "After belief, still 3 many boxes. It took 0.0 many seconds.\n",
      "There are 212 centers in the centers.\n",
      "Deleted Box!\n",
      "2 of 3 boxes survived the Ensemble-Check! It took 3.01 many seconds.\n"
     ]
    },
    {
     "name": "stderr",
     "output_type": "stream",
     "text": [
      "\n",
      " 84%|████████▍ | 1061/1261 [37:32<14:16,  4.28s/it]\u001b[A"
     ]
    },
    {
     "name": "stdout",
     "output_type": "stream",
     "text": [
      "First net took 0.57 many second to check 342 many pictures.\n",
      "currently 4 many boxes\n",
      "After belief, still 3 many boxes. It took 0.0 many seconds.\n",
      "There are 214 centers in the centers.\n",
      "Deleted Box!\n",
      "2 of 3 boxes survived the Ensemble-Check! It took 3.02 many seconds.\n"
     ]
    },
    {
     "name": "stderr",
     "output_type": "stream",
     "text": [
      "\n",
      " 84%|████████▍ | 1062/1261 [37:37<14:11,  4.28s/it]\u001b[A"
     ]
    },
    {
     "name": "stdout",
     "output_type": "stream",
     "text": [
      "First net took 0.63 many second to check 342 many pictures.\n",
      "currently 4 many boxes\n",
      "After belief, still 3 many boxes. It took 0.0 many seconds.\n",
      "There are 217 centers in the centers.\n",
      "Deleted Box!\n",
      "2 of 3 boxes survived the Ensemble-Check! It took 2.99 many seconds.\n"
     ]
    },
    {
     "name": "stderr",
     "output_type": "stream",
     "text": [
      "\n",
      " 84%|████████▍ | 1063/1261 [37:41<14:07,  4.28s/it]\u001b[A"
     ]
    },
    {
     "name": "stdout",
     "output_type": "stream",
     "text": [
      "First net took 0.6 many second to check 342 many pictures.\n",
      "currently 4 many boxes\n",
      "After belief, still 3 many boxes. It took 0.0 many seconds.\n",
      "There are 220 centers in the centers.\n",
      "Deleted Box!\n",
      "2 of 3 boxes survived the Ensemble-Check! It took 3.0 many seconds.\n"
     ]
    },
    {
     "name": "stderr",
     "output_type": "stream",
     "text": [
      "\n",
      " 84%|████████▍ | 1064/1261 [37:45<14:03,  4.28s/it]\u001b[A"
     ]
    },
    {
     "name": "stdout",
     "output_type": "stream",
     "text": [
      "First net took 0.63 many second to check 342 many pictures.\n",
      "currently 5 many boxes\n",
      "After belief, still 3 many boxes. It took 0.0 many seconds.\n",
      "There are 224 centers in the centers.\n",
      "Deleted Box!\n",
      "2 of 3 boxes survived the Ensemble-Check! It took 3.0 many seconds.\n"
     ]
    },
    {
     "name": "stderr",
     "output_type": "stream",
     "text": [
      "\n",
      " 84%|████████▍ | 1065/1261 [37:50<14:00,  4.29s/it]\u001b[A"
     ]
    },
    {
     "name": "stdout",
     "output_type": "stream",
     "text": [
      "First net took 0.62 many second to check 342 many pictures.\n",
      "currently 4 many boxes\n",
      "After belief, still 3 many boxes. It took 0.0 many seconds.\n",
      "There are 226 centers in the centers.\n",
      "Deleted Box!\n",
      "2 of 3 boxes survived the Ensemble-Check! It took 3.05 many seconds.\n"
     ]
    },
    {
     "name": "stderr",
     "output_type": "stream",
     "text": [
      "\n",
      " 85%|████████▍ | 1066/1261 [37:54<13:59,  4.30s/it]\u001b[A"
     ]
    },
    {
     "name": "stdout",
     "output_type": "stream",
     "text": [
      "First net took 0.59 many second to check 342 many pictures.\n",
      "currently 5 many boxes\n",
      "After belief, still 3 many boxes. It took 0.0 many seconds.\n",
      "There are 230 centers in the centers.\n",
      "Deleted Box!\n",
      "2 of 3 boxes survived the Ensemble-Check! It took 3.02 many seconds.\n"
     ]
    },
    {
     "name": "stderr",
     "output_type": "stream",
     "text": [
      "\n",
      " 85%|████████▍ | 1067/1261 [37:58<13:53,  4.30s/it]\u001b[A"
     ]
    },
    {
     "name": "stdout",
     "output_type": "stream",
     "text": [
      "First net took 0.63 many second to check 342 many pictures.\n",
      "currently 5 many boxes\n",
      "After belief, still 3 many boxes. It took 0.0 many seconds.\n",
      "There are 233 centers in the centers.\n",
      "Deleted Box!\n",
      "2 of 3 boxes survived the Ensemble-Check! It took 3.0 many seconds.\n"
     ]
    },
    {
     "name": "stderr",
     "output_type": "stream",
     "text": [
      "\n",
      " 85%|████████▍ | 1068/1261 [38:02<13:50,  4.30s/it]\u001b[A"
     ]
    },
    {
     "name": "stdout",
     "output_type": "stream",
     "text": [
      "First net took 0.59 many second to check 342 many pictures.\n",
      "currently 5 many boxes\n",
      "After belief, still 3 many boxes. It took 0.0 many seconds.\n",
      "There are 236 centers in the centers.\n",
      "Deleted Box!\n",
      "2 of 3 boxes survived the Ensemble-Check! It took 3.02 many seconds.\n"
     ]
    },
    {
     "name": "stderr",
     "output_type": "stream",
     "text": [
      "\n",
      " 85%|████████▍ | 1069/1261 [38:07<13:45,  4.30s/it]\u001b[A"
     ]
    },
    {
     "name": "stdout",
     "output_type": "stream",
     "text": [
      "First net took 0.58 many second to check 342 many pictures.\n",
      "currently 5 many boxes\n",
      "After belief, still 3 many boxes. It took 0.0 many seconds.\n",
      "There are 239 centers in the centers.\n",
      "Deleted Box!\n",
      "2 of 3 boxes survived the Ensemble-Check! It took 2.99 many seconds.\n"
     ]
    },
    {
     "name": "stderr",
     "output_type": "stream",
     "text": [
      "\n",
      " 85%|████████▍ | 1070/1261 [38:11<13:38,  4.28s/it]\u001b[A"
     ]
    },
    {
     "name": "stdout",
     "output_type": "stream",
     "text": [
      "First net took 0.58 many second to check 342 many pictures.\n",
      "currently 4 many boxes\n",
      "After belief, still 3 many boxes. It took 0.0 many seconds.\n",
      "There are 241 centers in the centers.\n",
      "Deleted Box!\n",
      "2 of 3 boxes survived the Ensemble-Check! It took 3.02 many seconds.\n"
     ]
    },
    {
     "name": "stderr",
     "output_type": "stream",
     "text": [
      "\n",
      " 85%|████████▍ | 1071/1261 [38:15<13:32,  4.28s/it]\u001b[A"
     ]
    },
    {
     "name": "stdout",
     "output_type": "stream",
     "text": [
      "First net took 0.59 many second to check 342 many pictures.\n",
      "currently 5 many boxes\n",
      "After belief, still 3 many boxes. It took 0.0 many seconds.\n",
      "There are 245 centers in the centers.\n",
      "Deleted Box!\n",
      "2 of 3 boxes survived the Ensemble-Check! It took 3.01 many seconds.\n"
     ]
    },
    {
     "name": "stderr",
     "output_type": "stream",
     "text": [
      "\n",
      " 85%|████████▌ | 1072/1261 [38:20<13:29,  4.28s/it]\u001b[A"
     ]
    },
    {
     "name": "stdout",
     "output_type": "stream",
     "text": [
      "First net took 0.59 many second to check 342 many pictures.\n",
      "currently 4 many boxes\n",
      "After belief, still 3 many boxes. It took 0.0 many seconds.\n",
      "There are 247 centers in the centers.\n",
      "Deleted Box!\n",
      "2 of 3 boxes survived the Ensemble-Check! It took 3.0 many seconds.\n"
     ]
    },
    {
     "name": "stderr",
     "output_type": "stream",
     "text": [
      "\n",
      " 85%|████████▌ | 1073/1261 [38:24<13:23,  4.28s/it]\u001b[A"
     ]
    },
    {
     "name": "stdout",
     "output_type": "stream",
     "text": [
      "First net took 0.58 many second to check 342 many pictures.\n",
      "currently 5 many boxes\n",
      "After belief, still 3 many boxes. It took 0.0 many seconds.\n",
      "There are 251 centers in the centers.\n",
      "Deleted Box!\n",
      "2 of 3 boxes survived the Ensemble-Check! It took 3.02 many seconds.\n"
     ]
    },
    {
     "name": "stderr",
     "output_type": "stream",
     "text": [
      "\n",
      " 85%|████████▌ | 1074/1261 [38:28<13:20,  4.28s/it]\u001b[A"
     ]
    },
    {
     "name": "stdout",
     "output_type": "stream",
     "text": [
      "First net took 0.58 many second to check 342 many pictures.\n",
      "currently 5 many boxes\n",
      "After belief, still 3 many boxes. It took 0.0 many seconds.\n",
      "There are 254 centers in the centers.\n",
      "Deleted Box!\n",
      "2 of 3 boxes survived the Ensemble-Check! It took 2.97 many seconds.\n"
     ]
    },
    {
     "name": "stderr",
     "output_type": "stream",
     "text": [
      "\n",
      " 85%|████████▌ | 1075/1261 [38:32<13:13,  4.27s/it]\u001b[A"
     ]
    },
    {
     "name": "stdout",
     "output_type": "stream",
     "text": [
      "First net took 0.6 many second to check 342 many pictures.\n",
      "currently 6 many boxes\n",
      "After belief, still 3 many boxes. It took 0.0 many seconds.\n",
      "There are 258 centers in the centers.\n",
      "Deleted Box!\n",
      "2 of 3 boxes survived the Ensemble-Check! It took 2.97 many seconds.\n"
     ]
    },
    {
     "name": "stderr",
     "output_type": "stream",
     "text": [
      "\n",
      " 85%|████████▌ | 1076/1261 [38:37<13:08,  4.26s/it]\u001b[A"
     ]
    },
    {
     "name": "stdout",
     "output_type": "stream",
     "text": [
      "First net took 0.59 many second to check 342 many pictures.\n",
      "currently 5 many boxes\n",
      "After belief, still 3 many boxes. It took 0.0 many seconds.\n",
      "There are 260 centers in the centers.\n",
      "Deleted Box!\n",
      "2 of 3 boxes survived the Ensemble-Check! It took 2.98 many seconds.\n"
     ]
    },
    {
     "name": "stderr",
     "output_type": "stream",
     "text": [
      "\n",
      " 85%|████████▌ | 1077/1261 [38:41<13:02,  4.25s/it]\u001b[A"
     ]
    },
    {
     "name": "stdout",
     "output_type": "stream",
     "text": [
      "First net took 0.58 many second to check 342 many pictures.\n",
      "currently 5 many boxes\n",
      "After belief, still 3 many boxes. It took 0.0 many seconds.\n",
      "There are 263 centers in the centers.\n",
      "Deleted Box!\n",
      "2 of 3 boxes survived the Ensemble-Check! It took 2.97 many seconds.\n"
     ]
    },
    {
     "name": "stderr",
     "output_type": "stream",
     "text": [
      "\n",
      " 85%|████████▌ | 1078/1261 [38:45<12:56,  4.24s/it]\u001b[A"
     ]
    },
    {
     "name": "stdout",
     "output_type": "stream",
     "text": [
      "First net took 0.58 many second to check 342 many pictures.\n",
      "currently 5 many boxes\n",
      "After belief, still 3 many boxes. It took 0.0 many seconds.\n",
      "There are 266 centers in the centers.\n",
      "Deleted Box!\n",
      "2 of 3 boxes survived the Ensemble-Check! It took 2.98 many seconds.\n"
     ]
    },
    {
     "name": "stderr",
     "output_type": "stream",
     "text": [
      "\n",
      " 86%|████████▌ | 1079/1261 [38:49<12:51,  4.24s/it]\u001b[A"
     ]
    },
    {
     "name": "stdout",
     "output_type": "stream",
     "text": [
      "First net took 0.63 many second to check 342 many pictures.\n",
      "currently 5 many boxes\n",
      "After belief, still 3 many boxes. It took 0.0 many seconds.\n",
      "There are 270 centers in the centers.\n",
      "Deleted Box!\n",
      "2 of 3 boxes survived the Ensemble-Check! It took 2.99 many seconds.\n"
     ]
    },
    {
     "name": "stderr",
     "output_type": "stream",
     "text": [
      "\n",
      " 86%|████████▌ | 1080/1261 [38:54<12:50,  4.26s/it]\u001b[A"
     ]
    },
    {
     "name": "stdout",
     "output_type": "stream",
     "text": [
      "First net took 0.59 many second to check 342 many pictures.\n",
      "currently 6 many boxes\n",
      "After belief, still 3 many boxes. It took 0.0 many seconds.\n",
      "There are 273 centers in the centers.\n",
      "Deleted Box!\n",
      "2 of 3 boxes survived the Ensemble-Check! It took 2.99 many seconds.\n"
     ]
    },
    {
     "name": "stderr",
     "output_type": "stream",
     "text": [
      "\n",
      " 86%|████████▌ | 1081/1261 [38:58<12:46,  4.26s/it]\u001b[A"
     ]
    },
    {
     "name": "stdout",
     "output_type": "stream",
     "text": [
      "First net took 0.59 many second to check 342 many pictures.\n",
      "currently 6 many boxes\n",
      "After belief, still 3 many boxes. It took 0.0 many seconds.\n",
      "There are 276 centers in the centers.\n",
      "Deleted Box!\n",
      "2 of 3 boxes survived the Ensemble-Check! It took 2.98 many seconds.\n"
     ]
    },
    {
     "name": "stderr",
     "output_type": "stream",
     "text": [
      "\n",
      " 86%|████████▌ | 1082/1261 [39:02<12:48,  4.29s/it]\u001b[A"
     ]
    },
    {
     "name": "stdout",
     "output_type": "stream",
     "text": [
      "First net took 0.58 many second to check 342 many pictures.\n",
      "currently 4 many boxes\n",
      "After belief, still 3 many boxes. It took 0.0 many seconds.\n",
      "There are 277 centers in the centers.\n",
      "Deleted Box!\n",
      "2 of 3 boxes survived the Ensemble-Check! It took 2.96 many seconds.\n"
     ]
    },
    {
     "name": "stderr",
     "output_type": "stream",
     "text": [
      "\n",
      " 86%|████████▌ | 1083/1261 [39:06<12:40,  4.27s/it]\u001b[A"
     ]
    },
    {
     "name": "stdout",
     "output_type": "stream",
     "text": [
      "First net took 0.6 many second to check 342 many pictures.\n",
      "currently 3 many boxes\n",
      "After belief, still 3 many boxes. It took 0.0 many seconds.\n",
      "There are 279 centers in the centers.\n",
      "Deleted Box!\n",
      "2 of 3 boxes survived the Ensemble-Check! It took 2.98 many seconds.\n"
     ]
    },
    {
     "name": "stderr",
     "output_type": "stream",
     "text": [
      "\n",
      " 86%|████████▌ | 1084/1261 [39:11<12:35,  4.27s/it]\u001b[A"
     ]
    },
    {
     "name": "stdout",
     "output_type": "stream",
     "text": [
      "First net took 0.59 many second to check 342 many pictures.\n",
      "currently 3 many boxes\n",
      "After belief, still 3 many boxes. It took 0.0 many seconds.\n",
      "There are 282 centers in the centers.\n",
      "Deleted Box!\n",
      "2 of 3 boxes survived the Ensemble-Check! It took 2.96 many seconds.\n"
     ]
    },
    {
     "name": "stderr",
     "output_type": "stream",
     "text": [
      "\n",
      " 86%|████████▌ | 1085/1261 [39:15<12:28,  4.25s/it]\u001b[A"
     ]
    },
    {
     "name": "stdout",
     "output_type": "stream",
     "text": [
      "First net took 0.58 many second to check 342 many pictures.\n",
      "currently 3 many boxes\n",
      "After belief, still 3 many boxes. It took 0.0 many seconds.\n",
      "There are 285 centers in the centers.\n",
      "Deleted Box!\n",
      "2 of 3 boxes survived the Ensemble-Check! It took 2.97 many seconds.\n"
     ]
    },
    {
     "name": "stderr",
     "output_type": "stream",
     "text": [
      "\n",
      " 86%|████████▌ | 1086/1261 [39:19<12:22,  4.24s/it]\u001b[A"
     ]
    },
    {
     "name": "stdout",
     "output_type": "stream",
     "text": [
      "First net took 0.58 many second to check 342 many pictures.\n",
      "currently 3 many boxes\n",
      "After belief, still 3 many boxes. It took 0.0 many seconds.\n",
      "There are 288 centers in the centers.\n",
      "Deleted Box!\n",
      "2 of 3 boxes survived the Ensemble-Check! It took 3.01 many seconds.\n"
     ]
    },
    {
     "name": "stderr",
     "output_type": "stream",
     "text": [
      "\n",
      " 86%|████████▌ | 1087/1261 [39:23<12:19,  4.25s/it]\u001b[A"
     ]
    },
    {
     "name": "stdout",
     "output_type": "stream",
     "text": [
      "First net took 0.63 many second to check 342 many pictures.\n",
      "currently 6 many boxes\n",
      "After belief, still 3 many boxes. It took 0.0 many seconds.\n",
      "There are 294 centers in the centers.\n",
      "Deleted Box!\n",
      "2 of 3 boxes survived the Ensemble-Check! It took 2.97 many seconds.\n"
     ]
    },
    {
     "name": "stderr",
     "output_type": "stream",
     "text": [
      "\n",
      " 86%|████████▋ | 1088/1261 [39:28<12:16,  4.26s/it]\u001b[A"
     ]
    },
    {
     "name": "stdout",
     "output_type": "stream",
     "text": [
      "First net took 0.59 many second to check 342 many pictures.\n",
      "currently 6 many boxes\n",
      "After belief, still 3 many boxes. It took 0.0 many seconds.\n",
      "There are 286 centers in the centers.\n",
      "Deleted Box!\n",
      "2 of 3 boxes survived the Ensemble-Check! It took 2.99 many seconds.\n"
     ]
    },
    {
     "name": "stderr",
     "output_type": "stream",
     "text": [
      "\n",
      " 86%|████████▋ | 1089/1261 [39:32<12:12,  4.26s/it]\u001b[A"
     ]
    },
    {
     "name": "stdout",
     "output_type": "stream",
     "text": [
      "First net took 0.58 many second to check 342 many pictures.\n",
      "currently 6 many boxes\n",
      "After belief, still 3 many boxes. It took 0.0 many seconds.\n",
      "There are 289 centers in the centers.\n",
      "Deleted Box!\n",
      "2 of 3 boxes survived the Ensemble-Check! It took 2.97 many seconds.\n"
     ]
    },
    {
     "name": "stderr",
     "output_type": "stream",
     "text": [
      "\n",
      " 86%|████████▋ | 1090/1261 [39:36<12:06,  4.25s/it]\u001b[A"
     ]
    },
    {
     "name": "stdout",
     "output_type": "stream",
     "text": [
      "First net took 0.58 many second to check 342 many pictures.\n",
      "currently 7 many boxes\n",
      "After belief, still 3 many boxes. It took 0.0 many seconds.\n",
      "There are 293 centers in the centers.\n",
      "Deleted Box!\n",
      "2 of 3 boxes survived the Ensemble-Check! It took 2.97 many seconds.\n"
     ]
    },
    {
     "name": "stderr",
     "output_type": "stream",
     "text": [
      "\n",
      " 87%|████████▋ | 1091/1261 [39:40<12:01,  4.25s/it]\u001b[A"
     ]
    },
    {
     "name": "stdout",
     "output_type": "stream",
     "text": [
      "First net took 0.62 many second to check 342 many pictures.\n",
      "currently 6 many boxes\n",
      "After belief, still 3 many boxes. It took 0.0 many seconds.\n",
      "There are 253 centers in the centers.\n",
      "Deleted Box!\n",
      "2 of 3 boxes survived the Ensemble-Check! It took 2.95 many seconds.\n"
     ]
    },
    {
     "name": "stderr",
     "output_type": "stream",
     "text": [
      "\n",
      " 87%|████████▋ | 1092/1261 [39:45<11:57,  4.25s/it]\u001b[A"
     ]
    },
    {
     "name": "stdout",
     "output_type": "stream",
     "text": [
      "First net took 0.58 many second to check 342 many pictures.\n",
      "currently 5 many boxes\n",
      "After belief, still 3 many boxes. It took 0.0 many seconds.\n",
      "There are 254 centers in the centers.\n",
      "Deleted Box!\n",
      "2 of 3 boxes survived the Ensemble-Check! It took 2.93 many seconds.\n"
     ]
    },
    {
     "name": "stderr",
     "output_type": "stream",
     "text": [
      "\n",
      " 87%|████████▋ | 1093/1261 [39:49<11:50,  4.23s/it]\u001b[A"
     ]
    },
    {
     "name": "stdout",
     "output_type": "stream",
     "text": [
      "First net took 0.59 many second to check 342 many pictures.\n",
      "currently 5 many boxes\n",
      "After belief, still 2 many boxes. It took 0.0 many seconds.\n",
      "There are 235 centers in the centers.\n",
      "Deleted Box!\n",
      "1 of 2 boxes survived the Ensemble-Check! It took 2.02 many seconds.\n"
     ]
    },
    {
     "name": "stderr",
     "output_type": "stream",
     "text": [
      "\n",
      " 87%|████████▋ | 1094/1261 [39:52<10:59,  3.95s/it]\u001b[A"
     ]
    },
    {
     "name": "stdout",
     "output_type": "stream",
     "text": [
      "First net took 0.58 many second to check 342 many pictures.\n",
      "currently 5 many boxes\n",
      "After belief, still 2 many boxes. It took 0.0 many seconds.\n",
      "There are 238 centers in the centers.\n",
      "Deleted Box!\n",
      "1 of 2 boxes survived the Ensemble-Check! It took 2.01 many seconds.\n"
     ]
    },
    {
     "name": "stderr",
     "output_type": "stream",
     "text": [
      "\n",
      " 87%|████████▋ | 1095/1261 [39:55<10:20,  3.74s/it]\u001b[A"
     ]
    },
    {
     "name": "stdout",
     "output_type": "stream",
     "text": [
      "First net took 0.6 many second to check 342 many pictures.\n",
      "currently 3 many boxes\n",
      "After belief, still 2 many boxes. It took 0.0 many seconds.\n",
      "There are 239 centers in the centers.\n",
      "Deleted Box!\n",
      "1 of 2 boxes survived the Ensemble-Check! It took 2.04 many seconds.\n"
     ]
    },
    {
     "name": "stderr",
     "output_type": "stream",
     "text": [
      "\n",
      " 87%|████████▋ | 1096/1261 [39:59<09:55,  3.61s/it]\u001b[A"
     ]
    },
    {
     "name": "stdout",
     "output_type": "stream",
     "text": [
      "First net took 0.63 many second to check 342 many pictures.\n",
      "currently 3 many boxes\n",
      "After belief, still 2 many boxes. It took 0.0 many seconds.\n",
      "There are 242 centers in the centers.\n",
      "Deleted Box!\n",
      "1 of 2 boxes survived the Ensemble-Check! It took 2.01 many seconds.\n"
     ]
    },
    {
     "name": "stderr",
     "output_type": "stream",
     "text": [
      "\n",
      " 87%|████████▋ | 1097/1261 [40:02<09:37,  3.52s/it]\u001b[A"
     ]
    },
    {
     "name": "stdout",
     "output_type": "stream",
     "text": [
      "First net took 0.58 many second to check 342 many pictures.\n",
      "currently 2 many boxes\n",
      "After belief, still 2 many boxes. It took 0.0 many seconds.\n",
      "There are 236 centers in the centers.\n",
      "Deleted Box!\n",
      "1 of 2 boxes survived the Ensemble-Check! It took 2.02 many seconds.\n"
     ]
    },
    {
     "name": "stderr",
     "output_type": "stream",
     "text": [
      "\n",
      " 87%|████████▋ | 1098/1261 [40:05<09:21,  3.44s/it]\u001b[A"
     ]
    },
    {
     "name": "stdout",
     "output_type": "stream",
     "text": [
      "First net took 0.58 many second to check 342 many pictures.\n",
      "currently 2 many boxes\n",
      "After belief, still 2 many boxes. It took 0.0 many seconds.\n",
      "There are 238 centers in the centers.\n",
      "Deleted Box!\n",
      "1 of 2 boxes survived the Ensemble-Check! It took 2.01 many seconds.\n"
     ]
    },
    {
     "name": "stderr",
     "output_type": "stream",
     "text": [
      "\n",
      " 87%|████████▋ | 1099/1261 [40:09<09:08,  3.39s/it]\u001b[A"
     ]
    },
    {
     "name": "stdout",
     "output_type": "stream",
     "text": [
      "First net took 0.59 many second to check 342 many pictures.\n",
      "currently 2 many boxes\n",
      "After belief, still 2 many boxes. It took 0.0 many seconds.\n",
      "There are 240 centers in the centers.\n",
      "Deleted Box!\n",
      "1 of 2 boxes survived the Ensemble-Check! It took 2.05 many seconds.\n"
     ]
    },
    {
     "name": "stderr",
     "output_type": "stream",
     "text": [
      "\n",
      " 87%|████████▋ | 1100/1261 [40:12<09:01,  3.37s/it]\u001b[A"
     ]
    },
    {
     "name": "stdout",
     "output_type": "stream",
     "text": [
      "First net took 0.62 many second to check 342 many pictures.\n",
      "currently 3 many boxes\n",
      "After belief, still 2 many boxes. It took 0.0 many seconds.\n",
      "There are 243 centers in the centers.\n",
      "Deleted Box!\n",
      "1 of 2 boxes survived the Ensemble-Check! It took 2.01 many seconds.\n"
     ]
    },
    {
     "name": "stderr",
     "output_type": "stream",
     "text": [
      "\n",
      " 87%|████████▋ | 1101/1261 [40:15<08:55,  3.35s/it]\u001b[A"
     ]
    },
    {
     "name": "stdout",
     "output_type": "stream",
     "text": [
      "First net took 0.58 many second to check 342 many pictures.\n",
      "currently 4 many boxes\n",
      "After belief, still 2 many boxes. It took 0.0 many seconds.\n",
      "There are 246 centers in the centers.\n",
      "Deleted Box!\n",
      "1 of 2 boxes survived the Ensemble-Check! It took 2.03 many seconds.\n"
     ]
    },
    {
     "name": "stderr",
     "output_type": "stream",
     "text": [
      "\n",
      " 87%|████████▋ | 1102/1261 [40:18<08:49,  3.33s/it]\u001b[A"
     ]
    },
    {
     "name": "stdout",
     "output_type": "stream",
     "text": [
      "First net took 0.58 many second to check 342 many pictures.\n",
      "currently 4 many boxes\n",
      "After belief, still 2 many boxes. It took 0.0 many seconds.\n",
      "There are 248 centers in the centers.\n",
      "Deleted Box!\n",
      "1 of 2 boxes survived the Ensemble-Check! It took 2.01 many seconds.\n"
     ]
    },
    {
     "name": "stderr",
     "output_type": "stream",
     "text": [
      "\n",
      " 87%|████████▋ | 1103/1261 [40:22<08:43,  3.31s/it]\u001b[A"
     ]
    },
    {
     "name": "stdout",
     "output_type": "stream",
     "text": [
      "First net took 0.59 many second to check 342 many pictures.\n",
      "currently 4 many boxes\n",
      "After belief, still 2 many boxes. It took 0.0 many seconds.\n",
      "There are 250 centers in the centers.\n",
      "Deleted Box!\n",
      "1 of 2 boxes survived the Ensemble-Check! It took 2.04 many seconds.\n"
     ]
    },
    {
     "name": "stderr",
     "output_type": "stream",
     "text": [
      "\n",
      " 88%|████████▊ | 1104/1261 [40:25<08:39,  3.31s/it]\u001b[A"
     ]
    },
    {
     "name": "stdout",
     "output_type": "stream",
     "text": [
      "First net took 0.61 many second to check 342 many pictures.\n",
      "currently 4 many boxes\n",
      "After belief, still 2 many boxes. It took 0.0 many seconds.\n",
      "There are 252 centers in the centers.\n",
      "Deleted Box!\n",
      "1 of 2 boxes survived the Ensemble-Check! It took 2.04 many seconds.\n"
     ]
    },
    {
     "name": "stderr",
     "output_type": "stream",
     "text": [
      "\n",
      " 88%|████████▊ | 1105/1261 [40:28<08:36,  3.31s/it]\u001b[A"
     ]
    },
    {
     "name": "stdout",
     "output_type": "stream",
     "text": [
      "First net took 0.59 many second to check 342 many pictures.\n",
      "currently 4 many boxes\n",
      "After belief, still 2 many boxes. It took 0.0 many seconds.\n",
      "There are 254 centers in the centers.\n",
      "Deleted Box!\n",
      "1 of 2 boxes survived the Ensemble-Check! It took 2.02 many seconds.\n"
     ]
    },
    {
     "name": "stderr",
     "output_type": "stream",
     "text": [
      "\n",
      " 88%|████████▊ | 1106/1261 [40:32<08:32,  3.30s/it]\u001b[A"
     ]
    },
    {
     "name": "stdout",
     "output_type": "stream",
     "text": [
      "First net took 0.58 many second to check 342 many pictures.\n",
      "currently 5 many boxes\n",
      "After belief, still 2 many boxes. It took 0.0 many seconds.\n",
      "There are 257 centers in the centers.\n",
      "Deleted Box!\n",
      "1 of 2 boxes survived the Ensemble-Check! It took 2.03 many seconds.\n"
     ]
    },
    {
     "name": "stderr",
     "output_type": "stream",
     "text": [
      "\n",
      " 88%|████████▊ | 1107/1261 [40:35<08:27,  3.30s/it]\u001b[A"
     ]
    },
    {
     "name": "stdout",
     "output_type": "stream",
     "text": [
      "First net took 0.59 many second to check 342 many pictures.\n",
      "currently 5 many boxes\n",
      "After belief, still 2 many boxes. It took 0.0 many seconds.\n",
      "There are 259 centers in the centers.\n",
      "Deleted Box!\n",
      "1 of 2 boxes survived the Ensemble-Check! It took 2.02 many seconds.\n"
     ]
    },
    {
     "name": "stderr",
     "output_type": "stream",
     "text": [
      "\n",
      " 88%|████████▊ | 1108/1261 [40:38<08:24,  3.29s/it]\u001b[A"
     ]
    },
    {
     "name": "stdout",
     "output_type": "stream",
     "text": [
      "First net took 0.58 many second to check 342 many pictures.\n",
      "currently 5 many boxes\n",
      "After belief, still 2 many boxes. It took 0.0 many seconds.\n",
      "There are 261 centers in the centers.\n",
      "Deleted Box!\n",
      "1 of 2 boxes survived the Ensemble-Check! It took 2.05 many seconds.\n"
     ]
    },
    {
     "name": "stderr",
     "output_type": "stream",
     "text": [
      "\n",
      " 88%|████████▊ | 1109/1261 [40:42<08:21,  3.30s/it]\u001b[A"
     ]
    },
    {
     "name": "stdout",
     "output_type": "stream",
     "text": [
      "First net took 0.58 many second to check 342 many pictures.\n",
      "currently 5 many boxes\n",
      "After belief, still 2 many boxes. It took 0.0 many seconds.\n",
      "There are 263 centers in the centers.\n",
      "Deleted Box!\n",
      "1 of 2 boxes survived the Ensemble-Check! It took 2.07 many seconds.\n"
     ]
    },
    {
     "name": "stderr",
     "output_type": "stream",
     "text": [
      "\n",
      " 88%|████████▊ | 1110/1261 [40:45<08:19,  3.31s/it]\u001b[A"
     ]
    },
    {
     "name": "stdout",
     "output_type": "stream",
     "text": [
      "First net took 0.6 many second to check 342 many pictures.\n",
      "currently 4 many boxes\n",
      "After belief, still 2 many boxes. It took 0.0 many seconds.\n",
      "There are 264 centers in the centers.\n",
      "Deleted Box!\n",
      "1 of 2 boxes survived the Ensemble-Check! It took 2.03 many seconds.\n"
     ]
    },
    {
     "name": "stderr",
     "output_type": "stream",
     "text": [
      "\n",
      " 88%|████████▊ | 1111/1261 [40:48<08:16,  3.31s/it]\u001b[A"
     ]
    },
    {
     "name": "stdout",
     "output_type": "stream",
     "text": [
      "First net took 0.62 many second to check 342 many pictures.\n",
      "currently 3 many boxes\n",
      "After belief, still 2 many boxes. It took 0.0 many seconds.\n",
      "There are 266 centers in the centers.\n",
      "Deleted Box!\n",
      "1 of 2 boxes survived the Ensemble-Check! It took 2.03 many seconds.\n"
     ]
    },
    {
     "name": "stderr",
     "output_type": "stream",
     "text": [
      "\n",
      " 88%|████████▊ | 1112/1261 [40:51<08:13,  3.31s/it]\u001b[A"
     ]
    },
    {
     "name": "stdout",
     "output_type": "stream",
     "text": [
      "First net took 0.58 many second to check 342 many pictures.\n",
      "currently 3 many boxes\n",
      "After belief, still 2 many boxes. It took 0.0 many seconds.\n",
      "There are 269 centers in the centers.\n",
      "Deleted Box!\n",
      "1 of 2 boxes survived the Ensemble-Check! It took 2.04 many seconds.\n"
     ]
    },
    {
     "name": "stderr",
     "output_type": "stream",
     "text": [
      "\n",
      " 88%|████████▊ | 1113/1261 [40:55<08:10,  3.31s/it]\u001b[A"
     ]
    },
    {
     "name": "stdout",
     "output_type": "stream",
     "text": [
      "First net took 0.58 many second to check 342 many pictures.\n",
      "currently 4 many boxes\n",
      "After belief, still 2 many boxes. It took 0.0 many seconds.\n",
      "There are 270 centers in the centers.\n",
      "Deleted Box!\n",
      "1 of 2 boxes survived the Ensemble-Check! It took 2.02 many seconds.\n"
     ]
    },
    {
     "name": "stderr",
     "output_type": "stream",
     "text": [
      "\n",
      " 88%|████████▊ | 1114/1261 [40:58<08:05,  3.30s/it]\u001b[A"
     ]
    },
    {
     "name": "stdout",
     "output_type": "stream",
     "text": [
      "First net took 0.58 many second to check 342 many pictures.\n",
      "currently 4 many boxes\n",
      "After belief, still 2 many boxes. It took 0.0 many seconds.\n",
      "There are 273 centers in the centers.\n",
      "Deleted Box!\n",
      "1 of 2 boxes survived the Ensemble-Check! It took 2.03 many seconds.\n"
     ]
    },
    {
     "name": "stderr",
     "output_type": "stream",
     "text": [
      "\n",
      " 88%|████████▊ | 1115/1261 [41:01<08:01,  3.30s/it]\u001b[A"
     ]
    },
    {
     "name": "stdout",
     "output_type": "stream",
     "text": [
      "First net took 0.59 many second to check 342 many pictures.\n",
      "currently 4 many boxes\n",
      "After belief, still 2 many boxes. It took 0.0 many seconds.\n",
      "There are 274 centers in the centers.\n",
      "Deleted Box!\n",
      "1 of 2 boxes survived the Ensemble-Check! It took 2.0 many seconds.\n"
     ]
    },
    {
     "name": "stderr",
     "output_type": "stream",
     "text": [
      "\n",
      " 89%|████████▊ | 1116/1261 [41:05<07:56,  3.29s/it]\u001b[A"
     ]
    },
    {
     "name": "stdout",
     "output_type": "stream",
     "text": [
      "First net took 0.58 many second to check 342 many pictures.\n",
      "currently 4 many boxes\n",
      "After belief, still 2 many boxes. It took 0.0 many seconds.\n",
      "There are 276 centers in the centers.\n",
      "Deleted Box!\n",
      "1 of 2 boxes survived the Ensemble-Check! It took 2.0 many seconds.\n"
     ]
    },
    {
     "name": "stderr",
     "output_type": "stream",
     "text": [
      "\n",
      " 89%|████████▊ | 1117/1261 [41:08<07:51,  3.28s/it]\u001b[A"
     ]
    },
    {
     "name": "stdout",
     "output_type": "stream",
     "text": [
      "First net took 0.58 many second to check 342 many pictures.\n",
      "currently 3 many boxes\n",
      "After belief, still 2 many boxes. It took 0.0 many seconds.\n",
      "There are 277 centers in the centers.\n",
      "Deleted Box!\n",
      "1 of 2 boxes survived the Ensemble-Check! It took 1.98 many seconds.\n"
     ]
    },
    {
     "name": "stderr",
     "output_type": "stream",
     "text": [
      "\n",
      " 89%|████████▊ | 1118/1261 [41:11<07:47,  3.27s/it]\u001b[A"
     ]
    },
    {
     "name": "stdout",
     "output_type": "stream",
     "text": [
      "First net took 0.61 many second to check 342 many pictures.\n",
      "currently 2 many boxes\n",
      "After belief, still 2 many boxes. It took 0.0 many seconds.\n",
      "There are 278 centers in the centers.\n",
      "Deleted Box!\n",
      "1 of 2 boxes survived the Ensemble-Check! It took 1.98 many seconds.\n"
     ]
    },
    {
     "name": "stderr",
     "output_type": "stream",
     "text": [
      "\n",
      " 89%|████████▊ | 1119/1261 [41:14<07:43,  3.27s/it]\u001b[A"
     ]
    },
    {
     "name": "stdout",
     "output_type": "stream",
     "text": [
      "First net took 0.59 many second to check 342 many pictures.\n",
      "currently 2 many boxes\n",
      "After belief, still 2 many boxes. It took 0.0 many seconds.\n",
      "There are 280 centers in the centers.\n",
      "Deleted Box!\n",
      "1 of 2 boxes survived the Ensemble-Check! It took 1.97 many seconds.\n"
     ]
    },
    {
     "name": "stderr",
     "output_type": "stream",
     "text": [
      "\n",
      " 89%|████████▉ | 1120/1261 [41:18<07:38,  3.25s/it]\u001b[A"
     ]
    },
    {
     "name": "stdout",
     "output_type": "stream",
     "text": [
      "First net took 0.58 many second to check 342 many pictures.\n",
      "currently 2 many boxes\n",
      "After belief, still 2 many boxes. It took 0.0 many seconds.\n",
      "There are 282 centers in the centers.\n",
      "Deleted Box!\n",
      "1 of 2 boxes survived the Ensemble-Check! It took 1.99 many seconds.\n"
     ]
    },
    {
     "name": "stderr",
     "output_type": "stream",
     "text": [
      "\n",
      " 89%|████████▉ | 1121/1261 [41:21<07:35,  3.25s/it]\u001b[A"
     ]
    },
    {
     "name": "stdout",
     "output_type": "stream",
     "text": [
      "First net took 0.6 many second to check 342 many pictures.\n",
      "currently 2 many boxes\n",
      "After belief, still 2 many boxes. It took 0.0 many seconds.\n",
      "There are 284 centers in the centers.\n",
      "Deleted Box!\n",
      "1 of 2 boxes survived the Ensemble-Check! It took 1.99 many seconds.\n"
     ]
    },
    {
     "name": "stderr",
     "output_type": "stream",
     "text": [
      "\n",
      " 89%|████████▉ | 1122/1261 [41:24<07:32,  3.25s/it]\u001b[A"
     ]
    },
    {
     "name": "stdout",
     "output_type": "stream",
     "text": [
      "First net took 0.58 many second to check 342 many pictures.\n",
      "currently 2 many boxes\n",
      "After belief, still 2 many boxes. It took 0.0 many seconds.\n",
      "There are 286 centers in the centers.\n",
      "Deleted Box!\n",
      "1 of 2 boxes survived the Ensemble-Check! It took 2.02 many seconds.\n"
     ]
    },
    {
     "name": "stderr",
     "output_type": "stream",
     "text": [
      "\n",
      " 89%|████████▉ | 1123/1261 [41:27<07:29,  3.26s/it]\u001b[A"
     ]
    },
    {
     "name": "stdout",
     "output_type": "stream",
     "text": [
      "First net took 0.59 many second to check 342 many pictures.\n",
      "currently 2 many boxes\n",
      "After belief, still 2 many boxes. It took 0.0 many seconds.\n",
      "There are 288 centers in the centers.\n",
      "Deleted Box!\n",
      "1 of 2 boxes survived the Ensemble-Check! It took 2.02 many seconds.\n"
     ]
    },
    {
     "name": "stderr",
     "output_type": "stream",
     "text": [
      "\n",
      " 89%|████████▉ | 1124/1261 [41:31<07:27,  3.27s/it]\u001b[A"
     ]
    },
    {
     "name": "stdout",
     "output_type": "stream",
     "text": [
      "First net took 0.57 many second to check 342 many pictures.\n",
      "currently 3 many boxes\n",
      "After belief, still 2 many boxes. It took 0.0 many seconds.\n",
      "There are 291 centers in the centers.\n",
      "Deleted Box!\n",
      "1 of 2 boxes survived the Ensemble-Check! It took 2.02 many seconds.\n"
     ]
    },
    {
     "name": "stderr",
     "output_type": "stream",
     "text": [
      "\n",
      " 89%|████████▉ | 1125/1261 [41:34<07:24,  3.27s/it]\u001b[A"
     ]
    },
    {
     "name": "stdout",
     "output_type": "stream",
     "text": [
      "First net took 0.58 many second to check 342 many pictures.\n",
      "currently 3 many boxes\n",
      "After belief, still 2 many boxes. It took 0.0 many seconds.\n",
      "There are 293 centers in the centers.\n",
      "Deleted Box!\n",
      "1 of 2 boxes survived the Ensemble-Check! It took 2.01 many seconds.\n"
     ]
    },
    {
     "name": "stderr",
     "output_type": "stream",
     "text": [
      "\n",
      " 89%|████████▉ | 1126/1261 [41:37<07:20,  3.26s/it]\u001b[A"
     ]
    },
    {
     "name": "stdout",
     "output_type": "stream",
     "text": [
      "First net took 0.58 many second to check 342 many pictures.\n",
      "currently 3 many boxes\n",
      "After belief, still 2 many boxes. It took 0.0 many seconds.\n",
      "There are 295 centers in the centers.\n",
      "Deleted Box!\n",
      "1 of 2 boxes survived the Ensemble-Check! It took 2.01 many seconds.\n"
     ]
    },
    {
     "name": "stderr",
     "output_type": "stream",
     "text": [
      "\n",
      " 89%|████████▉ | 1127/1261 [41:40<07:17,  3.26s/it]\u001b[A"
     ]
    },
    {
     "name": "stdout",
     "output_type": "stream",
     "text": [
      "First net took 0.59 many second to check 342 many pictures.\n",
      "currently 3 many boxes\n",
      "After belief, still 2 many boxes. It took 0.0 many seconds.\n",
      "There are 297 centers in the centers.\n",
      "Deleted Box!\n",
      "1 of 2 boxes survived the Ensemble-Check! It took 2.0 many seconds.\n"
     ]
    },
    {
     "name": "stderr",
     "output_type": "stream",
     "text": [
      "\n",
      " 89%|████████▉ | 1128/1261 [41:44<07:13,  3.26s/it]\u001b[A"
     ]
    },
    {
     "name": "stdout",
     "output_type": "stream",
     "text": [
      "First net took 0.58 many second to check 342 many pictures.\n",
      "currently 3 many boxes\n",
      "After belief, still 2 many boxes. It took 0.0 many seconds.\n",
      "There are 299 centers in the centers.\n",
      "Deleted Box!\n",
      "1 of 2 boxes survived the Ensemble-Check! It took 1.99 many seconds.\n"
     ]
    },
    {
     "name": "stderr",
     "output_type": "stream",
     "text": [
      "\n",
      " 90%|████████▉ | 1129/1261 [41:47<07:10,  3.26s/it]\u001b[A"
     ]
    },
    {
     "name": "stdout",
     "output_type": "stream",
     "text": [
      "First net took 0.58 many second to check 342 many pictures.\n",
      "currently 3 many boxes\n",
      "After belief, still 2 many boxes. It took 0.0 many seconds.\n",
      "There are 301 centers in the centers.\n",
      "Deleted Box!\n",
      "1 of 2 boxes survived the Ensemble-Check! It took 2.0 many seconds.\n"
     ]
    },
    {
     "name": "stderr",
     "output_type": "stream",
     "text": [
      "\n",
      " 90%|████████▉ | 1130/1261 [41:50<07:07,  3.26s/it]\u001b[A"
     ]
    },
    {
     "name": "stdout",
     "output_type": "stream",
     "text": [
      "First net took 0.58 many second to check 342 many pictures.\n",
      "currently 2 many boxes\n",
      "After belief, still 2 many boxes. It took 0.0 many seconds.\n",
      "There are 302 centers in the centers.\n",
      "Deleted Box!\n",
      "1 of 2 boxes survived the Ensemble-Check! It took 2.01 many seconds.\n"
     ]
    },
    {
     "name": "stderr",
     "output_type": "stream",
     "text": [
      "\n",
      " 90%|████████▉ | 1131/1261 [41:54<07:03,  3.26s/it]\u001b[A"
     ]
    },
    {
     "name": "stdout",
     "output_type": "stream",
     "text": [
      "First net took 0.62 many second to check 342 many pictures.\n",
      "currently 2 many boxes\n",
      "After belief, still 2 many boxes. It took 0.0 many seconds.\n",
      "There are 274 centers in the centers.\n",
      "Deleted Box!\n",
      "1 of 2 boxes survived the Ensemble-Check! It took 1.99 many seconds.\n"
     ]
    },
    {
     "name": "stderr",
     "output_type": "stream",
     "text": [
      "\n",
      " 90%|████████▉ | 1132/1261 [41:57<07:01,  3.27s/it]\u001b[A"
     ]
    },
    {
     "name": "stdout",
     "output_type": "stream",
     "text": [
      "First net took 0.58 many second to check 342 many pictures.\n",
      "currently 2 many boxes\n",
      "After belief, still 2 many boxes. It took 0.0 many seconds.\n",
      "There are 276 centers in the centers.\n",
      "Deleted Box!\n",
      "1 of 2 boxes survived the Ensemble-Check! It took 1.95 many seconds.\n"
     ]
    },
    {
     "name": "stderr",
     "output_type": "stream",
     "text": [
      "\n",
      " 90%|████████▉ | 1133/1261 [42:00<06:55,  3.25s/it]\u001b[A"
     ]
    },
    {
     "name": "stdout",
     "output_type": "stream",
     "text": [
      "First net took 0.58 many second to check 342 many pictures.\n",
      "currently 2 many boxes\n",
      "After belief, still 2 many boxes. It took 0.0 many seconds.\n",
      "There are 278 centers in the centers.\n",
      "Deleted Box!\n",
      "1 of 2 boxes survived the Ensemble-Check! It took 1.97 many seconds.\n"
     ]
    },
    {
     "name": "stderr",
     "output_type": "stream",
     "text": [
      "\n",
      " 90%|████████▉ | 1134/1261 [42:03<06:51,  3.24s/it]\u001b[A"
     ]
    },
    {
     "name": "stdout",
     "output_type": "stream",
     "text": [
      "First net took 0.58 many second to check 342 many pictures.\n",
      "currently 2 many boxes\n",
      "After belief, still 2 many boxes. It took 0.0 many seconds.\n",
      "There are 280 centers in the centers.\n",
      "Deleted Box!\n",
      "1 of 2 boxes survived the Ensemble-Check! It took 1.96 many seconds.\n"
     ]
    },
    {
     "name": "stderr",
     "output_type": "stream",
     "text": [
      "\n",
      " 90%|█████████ | 1135/1261 [42:06<06:47,  3.23s/it]\u001b[A"
     ]
    },
    {
     "name": "stdout",
     "output_type": "stream",
     "text": [
      "First net took 0.59 many second to check 342 many pictures.\n",
      "currently 2 many boxes\n",
      "After belief, still 1 many boxes. It took 0.0 many seconds.\n",
      "There are 158 centers in the centers.\n",
      "1 of 1 boxes survived the Ensemble-Check! It took 0.98 many seconds.\n"
     ]
    },
    {
     "name": "stderr",
     "output_type": "stream",
     "text": [
      "\n",
      " 90%|█████████ | 1136/1261 [42:09<06:06,  2.93s/it]\u001b[A"
     ]
    },
    {
     "name": "stdout",
     "output_type": "stream",
     "text": [
      "First net took 0.58 many second to check 342 many pictures.\n",
      "currently 2 many boxes\n",
      "After belief, still 1 many boxes. It took 0.0 many seconds.\n",
      "There are 144 centers in the centers.\n",
      "1 of 1 boxes survived the Ensemble-Check! It took 1.0 many seconds.\n"
     ]
    },
    {
     "name": "stderr",
     "output_type": "stream",
     "text": [
      "\n",
      " 90%|█████████ | 1137/1261 [42:11<05:38,  2.73s/it]\u001b[A"
     ]
    },
    {
     "name": "stdout",
     "output_type": "stream",
     "text": [
      "First net took 0.59 many second to check 342 many pictures.\n",
      "currently 1 many boxes\n",
      "After belief, still 1 many boxes. It took 0.0 many seconds.\n",
      "There are 144 centers in the centers.\n",
      "1 of 1 boxes survived the Ensemble-Check! It took 0.98 many seconds.\n"
     ]
    },
    {
     "name": "stderr",
     "output_type": "stream",
     "text": [
      "\n",
      " 90%|█████████ | 1138/1261 [42:13<05:17,  2.58s/it]\u001b[A"
     ]
    },
    {
     "name": "stdout",
     "output_type": "stream",
     "text": [
      "First net took 0.58 many second to check 342 many pictures.\n",
      "currently 1 many boxes\n",
      "After belief, still 1 many boxes. It took 0.0 many seconds.\n",
      "There are 145 centers in the centers.\n",
      "1 of 1 boxes survived the Ensemble-Check! It took 0.98 many seconds.\n"
     ]
    },
    {
     "name": "stderr",
     "output_type": "stream",
     "text": [
      "\n",
      " 90%|█████████ | 1139/1261 [42:15<05:01,  2.47s/it]\u001b[A"
     ]
    },
    {
     "name": "stdout",
     "output_type": "stream",
     "text": [
      "First net took 0.62 many second to check 342 many pictures.\n",
      "currently 1 many boxes\n",
      "After belief, still 1 many boxes. It took 0.0 many seconds.\n",
      "There are 133 centers in the centers.\n",
      "1 of 1 boxes survived the Ensemble-Check! It took 0.99 many seconds.\n"
     ]
    },
    {
     "name": "stderr",
     "output_type": "stream",
     "text": [
      "\n",
      " 90%|█████████ | 1140/1261 [42:18<04:51,  2.41s/it]\u001b[A"
     ]
    },
    {
     "name": "stdout",
     "output_type": "stream",
     "text": [
      "First net took 0.58 many second to check 342 many pictures.\n",
      "currently 1 many boxes\n",
      "After belief, still 1 many boxes. It took 0.0 many seconds.\n",
      "There are 134 centers in the centers.\n",
      "1 of 1 boxes survived the Ensemble-Check! It took 0.97 many seconds.\n"
     ]
    },
    {
     "name": "stderr",
     "output_type": "stream",
     "text": [
      "\n",
      " 90%|█████████ | 1141/1261 [42:20<04:42,  2.35s/it]\u001b[A"
     ]
    },
    {
     "name": "stdout",
     "output_type": "stream",
     "text": [
      "First net took 0.61 many second to check 342 many pictures.\n",
      "currently 1 many boxes\n",
      "After belief, still 1 many boxes. It took 0.0 many seconds.\n",
      "There are 135 centers in the centers.\n",
      "1 of 1 boxes survived the Ensemble-Check! It took 0.98 many seconds.\n"
     ]
    },
    {
     "name": "stderr",
     "output_type": "stream",
     "text": [
      "\n",
      " 91%|█████████ | 1142/1261 [42:22<04:40,  2.36s/it]\u001b[A"
     ]
    },
    {
     "name": "stdout",
     "output_type": "stream",
     "text": [
      "First net took 0.58 many second to check 342 many pictures.\n",
      "currently 1 many boxes\n",
      "After belief, still 1 many boxes. It took 0.0 many seconds.\n",
      "There are 136 centers in the centers.\n",
      "1 of 1 boxes survived the Ensemble-Check! It took 0.99 many seconds.\n"
     ]
    },
    {
     "name": "stderr",
     "output_type": "stream",
     "text": [
      "\n",
      " 91%|█████████ | 1143/1261 [42:24<04:34,  2.33s/it]\u001b[A"
     ]
    },
    {
     "name": "stdout",
     "output_type": "stream",
     "text": [
      "First net took 0.59 many second to check 342 many pictures.\n",
      "currently 1 many boxes\n",
      "After belief, still 1 many boxes. It took 0.0 many seconds.\n",
      "There are 137 centers in the centers.\n",
      "1 of 1 boxes survived the Ensemble-Check! It took 0.98 many seconds.\n"
     ]
    },
    {
     "name": "stderr",
     "output_type": "stream",
     "text": [
      "\n",
      " 91%|█████████ | 1144/1261 [42:27<04:28,  2.30s/it]\u001b[A"
     ]
    },
    {
     "name": "stdout",
     "output_type": "stream",
     "text": [
      "First net took 0.58 many second to check 342 many pictures.\n",
      "currently 1 many boxes\n",
      "After belief, still 1 many boxes. It took 0.0 many seconds.\n",
      "There are 138 centers in the centers.\n",
      "1 of 1 boxes survived the Ensemble-Check! It took 0.98 many seconds.\n"
     ]
    },
    {
     "name": "stderr",
     "output_type": "stream",
     "text": [
      "\n",
      " 91%|█████████ | 1145/1261 [42:29<04:23,  2.27s/it]\u001b[A"
     ]
    },
    {
     "name": "stdout",
     "output_type": "stream",
     "text": [
      "First net took 0.58 many second to check 342 many pictures.\n",
      "currently 1 many boxes\n",
      "After belief, still 1 many boxes. It took 0.0 many seconds.\n",
      "There are 139 centers in the centers.\n",
      "1 of 1 boxes survived the Ensemble-Check! It took 0.99 many seconds.\n"
     ]
    },
    {
     "name": "stderr",
     "output_type": "stream",
     "text": [
      "\n",
      " 91%|█████████ | 1146/1261 [42:31<04:20,  2.26s/it]\u001b[A"
     ]
    },
    {
     "name": "stdout",
     "output_type": "stream",
     "text": [
      "First net took 0.58 many second to check 342 many pictures.\n",
      "currently 1 many boxes\n",
      "After belief, still 1 many boxes. It took 0.0 many seconds.\n",
      "There are 140 centers in the centers.\n",
      "1 of 1 boxes survived the Ensemble-Check! It took 0.98 many seconds.\n"
     ]
    },
    {
     "name": "stderr",
     "output_type": "stream",
     "text": [
      "\n",
      " 91%|█████████ | 1147/1261 [42:33<04:16,  2.25s/it]\u001b[A"
     ]
    },
    {
     "name": "stdout",
     "output_type": "stream",
     "text": [
      "First net took 0.59 many second to check 342 many pictures.\n",
      "currently 1 many boxes\n",
      "After belief, still 1 many boxes. It took 0.0 many seconds.\n",
      "There are 141 centers in the centers.\n",
      "1 of 1 boxes survived the Ensemble-Check! It took 0.98 many seconds.\n"
     ]
    },
    {
     "name": "stderr",
     "output_type": "stream",
     "text": [
      "\n",
      " 91%|█████████ | 1148/1261 [42:36<04:13,  2.25s/it]\u001b[A"
     ]
    },
    {
     "name": "stdout",
     "output_type": "stream",
     "text": [
      "First net took 0.59 many second to check 342 many pictures.\n",
      "currently 1 many boxes\n",
      "After belief, still 1 many boxes. It took 0.0 many seconds.\n",
      "There are 142 centers in the centers.\n",
      "1 of 1 boxes survived the Ensemble-Check! It took 1.01 many seconds.\n"
     ]
    },
    {
     "name": "stderr",
     "output_type": "stream",
     "text": [
      "\n",
      " 91%|█████████ | 1149/1261 [42:38<04:12,  2.25s/it]\u001b[A"
     ]
    },
    {
     "name": "stdout",
     "output_type": "stream",
     "text": [
      "First net took 0.58 many second to check 342 many pictures.\n",
      "currently 1 many boxes\n",
      "After belief, still 1 many boxes. It took 0.0 many seconds.\n",
      "There are 143 centers in the centers.\n",
      "1 of 1 boxes survived the Ensemble-Check! It took 0.99 many seconds.\n"
     ]
    },
    {
     "name": "stderr",
     "output_type": "stream",
     "text": [
      "\n",
      " 91%|█████████ | 1150/1261 [42:40<04:09,  2.25s/it]\u001b[A"
     ]
    },
    {
     "name": "stdout",
     "output_type": "stream",
     "text": [
      "First net took 0.58 many second to check 342 many pictures.\n",
      "currently 1 many boxes\n",
      "After belief, still 1 many boxes. It took 0.0 many seconds.\n",
      "There are 144 centers in the centers.\n",
      "1 of 1 boxes survived the Ensemble-Check! It took 0.99 many seconds.\n"
     ]
    },
    {
     "name": "stderr",
     "output_type": "stream",
     "text": [
      "\n",
      " 91%|█████████▏| 1151/1261 [42:42<04:07,  2.25s/it]\u001b[A"
     ]
    },
    {
     "name": "stdout",
     "output_type": "stream",
     "text": [
      "First net took 0.62 many second to check 342 many pictures.\n",
      "currently 1 many boxes\n",
      "After belief, still 1 many boxes. It took 0.0 many seconds.\n",
      "There are 145 centers in the centers.\n",
      "1 of 1 boxes survived the Ensemble-Check! It took 1.0 many seconds.\n"
     ]
    },
    {
     "name": "stderr",
     "output_type": "stream",
     "text": [
      "\n",
      " 91%|█████████▏| 1152/1261 [42:45<04:05,  2.26s/it]\u001b[A"
     ]
    },
    {
     "name": "stdout",
     "output_type": "stream",
     "text": [
      "First net took 0.59 many second to check 342 many pictures.\n",
      "currently 1 many boxes\n",
      "After belief, still 1 many boxes. It took 0.0 many seconds.\n",
      "There are 146 centers in the centers.\n",
      "1 of 1 boxes survived the Ensemble-Check! It took 1.03 many seconds.\n"
     ]
    },
    {
     "name": "stderr",
     "output_type": "stream",
     "text": [
      "\n",
      " 91%|█████████▏| 1153/1261 [42:47<04:04,  2.27s/it]\u001b[A"
     ]
    },
    {
     "name": "stdout",
     "output_type": "stream",
     "text": [
      "First net took 0.58 many second to check 342 many pictures.\n",
      "currently 1 many boxes\n",
      "After belief, still 1 many boxes. It took 0.0 many seconds.\n",
      "There are 147 centers in the centers.\n",
      "1 of 1 boxes survived the Ensemble-Check! It took 1.05 many seconds.\n"
     ]
    },
    {
     "name": "stderr",
     "output_type": "stream",
     "text": [
      "\n",
      " 92%|█████████▏| 1154/1261 [42:50<04:18,  2.41s/it]\u001b[A"
     ]
    },
    {
     "name": "stdout",
     "output_type": "stream",
     "text": [
      "First net took 0.8 many second to check 342 many pictures.\n",
      "currently 1 many boxes\n",
      "After belief, still 1 many boxes. It took 0.0 many seconds.\n",
      "There are 148 centers in the centers.\n",
      "1 of 1 boxes survived the Ensemble-Check! It took 1.03 many seconds.\n"
     ]
    },
    {
     "name": "stderr",
     "output_type": "stream",
     "text": [
      "\n",
      " 92%|█████████▏| 1155/1261 [42:52<04:18,  2.44s/it]\u001b[A"
     ]
    },
    {
     "name": "stdout",
     "output_type": "stream",
     "text": [
      "First net took 0.59 many second to check 342 many pictures.\n",
      "currently 1 many boxes\n",
      "After belief, still 1 many boxes. It took 0.0 many seconds.\n",
      "There are 149 centers in the centers.\n",
      "1 of 1 boxes survived the Ensemble-Check! It took 0.98 many seconds.\n"
     ]
    },
    {
     "name": "stderr",
     "output_type": "stream",
     "text": [
      "\n",
      " 92%|█████████▏| 1156/1261 [42:54<04:09,  2.38s/it]\u001b[A"
     ]
    },
    {
     "name": "stdout",
     "output_type": "stream",
     "text": [
      "First net took 0.59 many second to check 342 many pictures.\n",
      "currently 1 many boxes\n",
      "After belief, still 1 many boxes. It took 0.0 many seconds.\n",
      "There are 150 centers in the centers.\n",
      "1 of 1 boxes survived the Ensemble-Check! It took 0.99 many seconds.\n"
     ]
    },
    {
     "name": "stderr",
     "output_type": "stream",
     "text": [
      "\n",
      " 92%|█████████▏| 1157/1261 [42:57<04:03,  2.34s/it]\u001b[A"
     ]
    },
    {
     "name": "stdout",
     "output_type": "stream",
     "text": [
      "First net took 0.58 many second to check 342 many pictures.\n",
      "currently 1 many boxes\n",
      "After belief, still 1 many boxes. It took 0.0 many seconds.\n",
      "There are 151 centers in the centers.\n",
      "1 of 1 boxes survived the Ensemble-Check! It took 1.0 many seconds.\n"
     ]
    },
    {
     "name": "stderr",
     "output_type": "stream",
     "text": [
      "\n",
      " 92%|█████████▏| 1158/1261 [42:59<03:58,  2.31s/it]\u001b[A"
     ]
    },
    {
     "name": "stdout",
     "output_type": "stream",
     "text": [
      "First net took 0.58 many second to check 342 many pictures.\n",
      "currently 1 many boxes\n",
      "After belief, still 1 many boxes. It took 0.0 many seconds.\n",
      "There are 152 centers in the centers.\n",
      "1 of 1 boxes survived the Ensemble-Check! It took 0.98 many seconds.\n"
     ]
    },
    {
     "name": "stderr",
     "output_type": "stream",
     "text": [
      "\n",
      " 92%|█████████▏| 1159/1261 [43:01<03:53,  2.28s/it]\u001b[A"
     ]
    },
    {
     "name": "stdout",
     "output_type": "stream",
     "text": [
      "First net took 0.59 many second to check 342 many pictures.\n",
      "currently 1 many boxes\n",
      "After belief, still 1 many boxes. It took 0.0 many seconds.\n",
      "There are 153 centers in the centers.\n",
      "1 of 1 boxes survived the Ensemble-Check! It took 0.98 many seconds.\n"
     ]
    },
    {
     "name": "stderr",
     "output_type": "stream",
     "text": [
      "\n",
      " 92%|█████████▏| 1160/1261 [43:03<03:49,  2.27s/it]\u001b[A"
     ]
    },
    {
     "name": "stdout",
     "output_type": "stream",
     "text": [
      "First net took 0.58 many second to check 342 many pictures.\n",
      "currently 1 many boxes\n",
      "After belief, still 1 many boxes. It took 0.0 many seconds.\n",
      "There are 154 centers in the centers.\n",
      "1 of 1 boxes survived the Ensemble-Check! It took 1.01 many seconds.\n"
     ]
    },
    {
     "name": "stderr",
     "output_type": "stream",
     "text": [
      "\n",
      " 92%|█████████▏| 1161/1261 [43:06<03:46,  2.26s/it]\u001b[A"
     ]
    },
    {
     "name": "stdout",
     "output_type": "stream",
     "text": [
      "First net took 0.61 many second to check 342 many pictures.\n",
      "currently 1 many boxes\n",
      "After belief, still 1 many boxes. It took 0.0 many seconds.\n",
      "There are 155 centers in the centers.\n",
      "1 of 1 boxes survived the Ensemble-Check! It took 0.98 many seconds.\n"
     ]
    },
    {
     "name": "stderr",
     "output_type": "stream",
     "text": [
      "\n",
      " 92%|█████████▏| 1162/1261 [43:08<03:43,  2.26s/it]\u001b[A"
     ]
    },
    {
     "name": "stdout",
     "output_type": "stream",
     "text": [
      "First net took 0.58 many second to check 342 many pictures.\n",
      "currently 1 many boxes\n",
      "After belief, still 1 many boxes. It took 0.0 many seconds.\n",
      "There are 156 centers in the centers.\n",
      "1 of 1 boxes survived the Ensemble-Check! It took 0.99 many seconds.\n"
     ]
    },
    {
     "name": "stderr",
     "output_type": "stream",
     "text": [
      "\n",
      " 92%|█████████▏| 1163/1261 [43:10<03:41,  2.26s/it]\u001b[A"
     ]
    },
    {
     "name": "stdout",
     "output_type": "stream",
     "text": [
      "First net took 0.58 many second to check 342 many pictures.\n",
      "currently 1 many boxes\n",
      "After belief, still 1 many boxes. It took 0.0 many seconds.\n",
      "There are 157 centers in the centers.\n",
      "1 of 1 boxes survived the Ensemble-Check! It took 1.0 many seconds.\n"
     ]
    },
    {
     "name": "stderr",
     "output_type": "stream",
     "text": [
      "\n",
      " 92%|█████████▏| 1164/1261 [43:12<03:38,  2.26s/it]\u001b[A"
     ]
    },
    {
     "name": "stdout",
     "output_type": "stream",
     "text": [
      "First net took 0.58 many second to check 342 many pictures.\n",
      "currently 1 many boxes\n",
      "After belief, still 1 many boxes. It took 0.0 many seconds.\n",
      "There are 158 centers in the centers.\n",
      "1 of 1 boxes survived the Ensemble-Check! It took 0.99 many seconds.\n"
     ]
    },
    {
     "name": "stderr",
     "output_type": "stream",
     "text": [
      "\n",
      " 92%|█████████▏| 1165/1261 [43:15<03:36,  2.25s/it]\u001b[A"
     ]
    },
    {
     "name": "stdout",
     "output_type": "stream",
     "text": [
      "First net took 0.58 many second to check 342 many pictures.\n",
      "currently 1 many boxes\n",
      "After belief, still 1 many boxes. It took 0.0 many seconds.\n",
      "There are 159 centers in the centers.\n",
      "1 of 1 boxes survived the Ensemble-Check! It took 0.99 many seconds.\n"
     ]
    },
    {
     "name": "stderr",
     "output_type": "stream",
     "text": [
      "\n",
      " 92%|█████████▏| 1166/1261 [43:17<03:33,  2.25s/it]\u001b[A"
     ]
    },
    {
     "name": "stdout",
     "output_type": "stream",
     "text": [
      "First net took 0.58 many second to check 342 many pictures.\n",
      "currently 1 many boxes\n",
      "After belief, still 1 many boxes. It took 0.0 many seconds.\n",
      "There are 160 centers in the centers.\n",
      "1 of 1 boxes survived the Ensemble-Check! It took 0.99 many seconds.\n"
     ]
    },
    {
     "name": "stderr",
     "output_type": "stream",
     "text": [
      "\n",
      " 93%|█████████▎| 1167/1261 [43:19<03:30,  2.24s/it]\u001b[A"
     ]
    },
    {
     "name": "stdout",
     "output_type": "stream",
     "text": [
      "First net took 0.59 many second to check 342 many pictures.\n",
      "currently 1 many boxes\n",
      "After belief, still 1 many boxes. It took 0.0 many seconds.\n",
      "There are 161 centers in the centers.\n",
      "1 of 1 boxes survived the Ensemble-Check! It took 0.99 many seconds.\n"
     ]
    },
    {
     "name": "stderr",
     "output_type": "stream",
     "text": [
      "\n",
      " 93%|█████████▎| 1168/1261 [43:21<03:28,  2.24s/it]\u001b[A"
     ]
    },
    {
     "name": "stdout",
     "output_type": "stream",
     "text": [
      "First net took 0.58 many second to check 342 many pictures.\n",
      "currently 1 many boxes\n",
      "After belief, still 1 many boxes. It took 0.0 many seconds.\n",
      "There are 162 centers in the centers.\n",
      "1 of 1 boxes survived the Ensemble-Check! It took 1.0 many seconds.\n"
     ]
    },
    {
     "name": "stderr",
     "output_type": "stream",
     "text": [
      "\n",
      " 93%|█████████▎| 1169/1261 [43:24<03:26,  2.24s/it]\u001b[A"
     ]
    },
    {
     "name": "stdout",
     "output_type": "stream",
     "text": [
      "First net took 0.58 many second to check 342 many pictures.\n",
      "currently 1 many boxes\n",
      "After belief, still 1 many boxes. It took 0.0 many seconds.\n",
      "There are 163 centers in the centers.\n",
      "1 of 1 boxes survived the Ensemble-Check! It took 0.99 many seconds.\n"
     ]
    },
    {
     "name": "stderr",
     "output_type": "stream",
     "text": [
      "\n",
      " 93%|█████████▎| 1170/1261 [43:26<03:24,  2.24s/it]\u001b[A"
     ]
    },
    {
     "name": "stdout",
     "output_type": "stream",
     "text": [
      "First net took 0.58 many second to check 342 many pictures.\n",
      "currently 1 many boxes\n",
      "After belief, still 1 many boxes. It took 0.0 many seconds.\n",
      "There are 164 centers in the centers.\n",
      "1 of 1 boxes survived the Ensemble-Check! It took 1.0 many seconds.\n"
     ]
    },
    {
     "name": "stderr",
     "output_type": "stream",
     "text": [
      "\n",
      " 93%|█████████▎| 1171/1261 [43:28<03:22,  2.25s/it]\u001b[A"
     ]
    },
    {
     "name": "stdout",
     "output_type": "stream",
     "text": [
      "First net took 0.62 many second to check 342 many pictures.\n",
      "currently 1 many boxes\n",
      "After belief, still 1 many boxes. It took 0.0 many seconds.\n",
      "There are 165 centers in the centers.\n",
      "1 of 1 boxes survived the Ensemble-Check! It took 0.99 many seconds.\n"
     ]
    },
    {
     "name": "stderr",
     "output_type": "stream",
     "text": [
      "\n",
      " 93%|█████████▎| 1172/1261 [43:30<03:20,  2.26s/it]\u001b[A"
     ]
    },
    {
     "name": "stdout",
     "output_type": "stream",
     "text": [
      "First net took 0.58 many second to check 342 many pictures.\n",
      "currently 1 many boxes\n",
      "After belief, still 1 many boxes. It took 0.0 many seconds.\n",
      "There are 166 centers in the centers.\n",
      "1 of 1 boxes survived the Ensemble-Check! It took 0.98 many seconds.\n"
     ]
    },
    {
     "name": "stderr",
     "output_type": "stream",
     "text": [
      "\n",
      " 93%|█████████▎| 1173/1261 [43:33<03:18,  2.25s/it]\u001b[A"
     ]
    },
    {
     "name": "stdout",
     "output_type": "stream",
     "text": [
      "First net took 0.58 many second to check 342 many pictures.\n",
      "currently 1 many boxes\n",
      "After belief, still 1 many boxes. It took 0.0 many seconds.\n",
      "There are 167 centers in the centers.\n",
      "1 of 1 boxes survived the Ensemble-Check! It took 1.0 many seconds.\n"
     ]
    },
    {
     "name": "stderr",
     "output_type": "stream",
     "text": [
      "\n",
      " 93%|█████████▎| 1174/1261 [43:35<03:15,  2.25s/it]\u001b[A"
     ]
    },
    {
     "name": "stdout",
     "output_type": "stream",
     "text": [
      "First net took 0.58 many second to check 342 many pictures.\n",
      "currently 1 many boxes\n",
      "After belief, still 1 many boxes. It took 0.0 many seconds.\n",
      "There are 168 centers in the centers.\n",
      "1 of 1 boxes survived the Ensemble-Check! It took 0.98 many seconds.\n"
     ]
    },
    {
     "name": "stderr",
     "output_type": "stream",
     "text": [
      "\n",
      " 93%|█████████▎| 1175/1261 [43:37<03:13,  2.25s/it]\u001b[A"
     ]
    },
    {
     "name": "stdout",
     "output_type": "stream",
     "text": [
      "First net took 0.59 many second to check 342 many pictures.\n",
      "currently 1 many boxes\n",
      "After belief, still 1 many boxes. It took 0.0 many seconds.\n",
      "There are 169 centers in the centers.\n",
      "1 of 1 boxes survived the Ensemble-Check! It took 0.98 many seconds.\n"
     ]
    },
    {
     "name": "stderr",
     "output_type": "stream",
     "text": [
      "\n",
      " 93%|█████████▎| 1176/1261 [43:39<03:10,  2.24s/it]\u001b[A"
     ]
    },
    {
     "name": "stdout",
     "output_type": "stream",
     "text": [
      "First net took 0.58 many second to check 342 many pictures.\n",
      "currently 1 many boxes\n",
      "After belief, still 1 many boxes. It took 0.0 many seconds.\n",
      "There are 170 centers in the centers.\n",
      "1 of 1 boxes survived the Ensemble-Check! It took 0.99 many seconds.\n"
     ]
    },
    {
     "name": "stderr",
     "output_type": "stream",
     "text": [
      "\n",
      " 93%|█████████▎| 1177/1261 [43:42<03:08,  2.24s/it]\u001b[A"
     ]
    },
    {
     "name": "stdout",
     "output_type": "stream",
     "text": [
      "First net took 0.58 many second to check 342 many pictures.\n",
      "currently 1 many boxes\n",
      "After belief, still 1 many boxes. It took 0.0 many seconds.\n",
      "There are 171 centers in the centers.\n",
      "1 of 1 boxes survived the Ensemble-Check! It took 0.98 many seconds.\n"
     ]
    },
    {
     "name": "stderr",
     "output_type": "stream",
     "text": [
      "\n",
      " 93%|█████████▎| 1178/1261 [43:44<03:05,  2.24s/it]\u001b[A"
     ]
    },
    {
     "name": "stdout",
     "output_type": "stream",
     "text": [
      "First net took 0.58 many second to check 342 many pictures.\n",
      "currently 1 many boxes\n",
      "After belief, still 1 many boxes. It took 0.0 many seconds.\n",
      "There are 172 centers in the centers.\n",
      "1 of 1 boxes survived the Ensemble-Check! It took 0.98 many seconds.\n"
     ]
    },
    {
     "name": "stderr",
     "output_type": "stream",
     "text": [
      "\n",
      " 93%|█████████▎| 1179/1261 [43:46<03:03,  2.23s/it]\u001b[A"
     ]
    },
    {
     "name": "stdout",
     "output_type": "stream",
     "text": [
      "First net took 0.62 many second to check 342 many pictures.\n",
      "currently 1 many boxes\n",
      "After belief, still 1 many boxes. It took 0.0 many seconds.\n",
      "There are 173 centers in the centers.\n",
      "1 of 1 boxes survived the Ensemble-Check! It took 0.99 many seconds.\n"
     ]
    },
    {
     "name": "stderr",
     "output_type": "stream",
     "text": [
      "\n",
      " 94%|█████████▎| 1180/1261 [43:48<03:02,  2.25s/it]\u001b[A"
     ]
    },
    {
     "name": "stdout",
     "output_type": "stream",
     "text": [
      "First net took 0.58 many second to check 342 many pictures.\n",
      "currently 2 many boxes\n",
      "After belief, still 1 many boxes. It took 0.0 many seconds.\n",
      "There are 175 centers in the centers.\n",
      "1 of 1 boxes survived the Ensemble-Check! It took 0.97 many seconds.\n"
     ]
    },
    {
     "name": "stderr",
     "output_type": "stream",
     "text": [
      "\n",
      " 94%|█████████▎| 1181/1261 [43:51<02:59,  2.24s/it]\u001b[A"
     ]
    },
    {
     "name": "stdout",
     "output_type": "stream",
     "text": [
      "First net took 0.57 many second to check 342 many pictures.\n",
      "currently 2 many boxes\n",
      "After belief, still 1 many boxes. It took 0.0 many seconds.\n",
      "There are 176 centers in the centers.\n",
      "1 of 1 boxes survived the Ensemble-Check! It took 1.02 many seconds.\n"
     ]
    },
    {
     "name": "stderr",
     "output_type": "stream",
     "text": [
      "\n",
      " 94%|█████████▎| 1182/1261 [43:53<02:57,  2.25s/it]\u001b[A"
     ]
    },
    {
     "name": "stdout",
     "output_type": "stream",
     "text": [
      "First net took 0.58 many second to check 342 many pictures.\n",
      "currently 2 many boxes\n",
      "After belief, still 1 many boxes. It took 0.0 many seconds.\n",
      "There are 177 centers in the centers.\n",
      "1 of 1 boxes survived the Ensemble-Check! It took 1.01 many seconds.\n"
     ]
    },
    {
     "name": "stderr",
     "output_type": "stream",
     "text": [
      "\n",
      " 94%|█████████▍| 1183/1261 [43:55<02:55,  2.25s/it]\u001b[A"
     ]
    },
    {
     "name": "stdout",
     "output_type": "stream",
     "text": [
      "First net took 0.62 many second to check 342 many pictures.\n",
      "currently 2 many boxes\n",
      "After belief, still 1 many boxes. It took 0.0 many seconds.\n",
      "There are 178 centers in the centers.\n",
      "1 of 1 boxes survived the Ensemble-Check! It took 1.0 many seconds.\n"
     ]
    },
    {
     "name": "stderr",
     "output_type": "stream",
     "text": [
      "\n",
      " 94%|█████████▍| 1184/1261 [43:57<02:54,  2.26s/it]\u001b[A"
     ]
    },
    {
     "name": "stdout",
     "output_type": "stream",
     "text": [
      "First net took 0.58 many second to check 342 many pictures.\n",
      "currently 2 many boxes\n",
      "After belief, still 1 many boxes. It took 0.0 many seconds.\n",
      "There are 179 centers in the centers.\n",
      "1 of 1 boxes survived the Ensemble-Check! It took 1.0 many seconds.\n"
     ]
    },
    {
     "name": "stderr",
     "output_type": "stream",
     "text": [
      "\n",
      " 94%|█████████▍| 1185/1261 [44:00<02:51,  2.26s/it]\u001b[A"
     ]
    },
    {
     "name": "stdout",
     "output_type": "stream",
     "text": [
      "First net took 0.58 many second to check 342 many pictures.\n",
      "currently 2 many boxes\n",
      "After belief, still 1 many boxes. It took 0.0 many seconds.\n",
      "There are 180 centers in the centers.\n",
      "1 of 1 boxes survived the Ensemble-Check! It took 1.0 many seconds.\n"
     ]
    },
    {
     "name": "stderr",
     "output_type": "stream",
     "text": [
      "\n",
      " 94%|█████████▍| 1186/1261 [44:02<02:49,  2.26s/it]\u001b[A"
     ]
    },
    {
     "name": "stdout",
     "output_type": "stream",
     "text": [
      "First net took 0.59 many second to check 342 many pictures.\n",
      "currently 1 many boxes\n",
      "After belief, still 1 many boxes. It took 0.0 many seconds.\n",
      "There are 180 centers in the centers.\n",
      "1 of 1 boxes survived the Ensemble-Check! It took 0.98 many seconds.\n"
     ]
    },
    {
     "name": "stderr",
     "output_type": "stream",
     "text": [
      "\n",
      " 94%|█████████▍| 1187/1261 [44:04<02:46,  2.25s/it]\u001b[A"
     ]
    },
    {
     "name": "stdout",
     "output_type": "stream",
     "text": [
      "First net took 0.59 many second to check 342 many pictures.\n",
      "currently 1 many boxes\n",
      "After belief, still 1 many boxes. It took 0.0 many seconds.\n",
      "There are 181 centers in the centers.\n",
      "1 of 1 boxes survived the Ensemble-Check! It took 0.97 many seconds.\n"
     ]
    },
    {
     "name": "stderr",
     "output_type": "stream",
     "text": [
      "\n",
      " 94%|█████████▍| 1188/1261 [44:06<02:43,  2.25s/it]\u001b[A"
     ]
    },
    {
     "name": "stdout",
     "output_type": "stream",
     "text": [
      "First net took 0.58 many second to check 342 many pictures.\n",
      "currently 1 many boxes\n",
      "After belief, still 1 many boxes. It took 0.0 many seconds.\n",
      "There are 182 centers in the centers.\n",
      "1 of 1 boxes survived the Ensemble-Check! It took 0.99 many seconds.\n"
     ]
    },
    {
     "name": "stderr",
     "output_type": "stream",
     "text": [
      "\n",
      " 94%|█████████▍| 1189/1261 [44:09<02:41,  2.24s/it]\u001b[A"
     ]
    },
    {
     "name": "stdout",
     "output_type": "stream",
     "text": [
      "First net took 0.61 many second to check 342 many pictures.\n",
      "currently 1 many boxes\n",
      "After belief, still 1 many boxes. It took 0.0 many seconds.\n",
      "There are 183 centers in the centers.\n",
      "1 of 1 boxes survived the Ensemble-Check! It took 0.98 many seconds.\n"
     ]
    },
    {
     "name": "stderr",
     "output_type": "stream",
     "text": [
      "\n",
      " 94%|█████████▍| 1190/1261 [44:11<02:39,  2.25s/it]\u001b[A"
     ]
    },
    {
     "name": "stdout",
     "output_type": "stream",
     "text": [
      "First net took 0.58 many second to check 342 many pictures.\n",
      "currently 1 many boxes\n",
      "After belief, still 1 many boxes. It took 0.0 many seconds.\n",
      "There are 184 centers in the centers.\n",
      "1 of 1 boxes survived the Ensemble-Check! It took 0.98 many seconds.\n"
     ]
    },
    {
     "name": "stderr",
     "output_type": "stream",
     "text": [
      "\n",
      " 94%|█████████▍| 1191/1261 [44:13<02:37,  2.24s/it]\u001b[A"
     ]
    },
    {
     "name": "stdout",
     "output_type": "stream",
     "text": [
      "First net took 0.58 many second to check 342 many pictures.\n",
      "currently 1 many boxes\n",
      "After belief, still 1 many boxes. It took 0.0 many seconds.\n",
      "There are 185 centers in the centers.\n",
      "1 of 1 boxes survived the Ensemble-Check! It took 0.98 many seconds.\n"
     ]
    },
    {
     "name": "stderr",
     "output_type": "stream",
     "text": [
      "\n",
      " 95%|█████████▍| 1192/1261 [44:15<02:34,  2.24s/it]\u001b[A"
     ]
    },
    {
     "name": "stdout",
     "output_type": "stream",
     "text": [
      "First net took 0.58 many second to check 342 many pictures.\n",
      "currently 1 many boxes\n",
      "After belief, still 1 many boxes. It took 0.0 many seconds.\n",
      "There are 186 centers in the centers.\n",
      "1 of 1 boxes survived the Ensemble-Check! It took 0.98 many seconds.\n"
     ]
    },
    {
     "name": "stderr",
     "output_type": "stream",
     "text": [
      "\n",
      " 95%|█████████▍| 1193/1261 [44:17<02:32,  2.24s/it]\u001b[A"
     ]
    },
    {
     "name": "stdout",
     "output_type": "stream",
     "text": [
      "First net took 0.58 many second to check 342 many pictures.\n",
      "currently 1 many boxes\n",
      "After belief, still 1 many boxes. It took 0.0 many seconds.\n",
      "There are 187 centers in the centers.\n",
      "1 of 1 boxes survived the Ensemble-Check! It took 1.0 many seconds.\n"
     ]
    },
    {
     "name": "stderr",
     "output_type": "stream",
     "text": [
      "\n",
      " 95%|█████████▍| 1194/1261 [44:20<02:29,  2.24s/it]\u001b[A"
     ]
    },
    {
     "name": "stdout",
     "output_type": "stream",
     "text": [
      "First net took 0.58 many second to check 342 many pictures.\n",
      "currently 1 many boxes\n",
      "After belief, still 1 many boxes. It took 0.0 many seconds.\n",
      "There are 188 centers in the centers.\n",
      "1 of 1 boxes survived the Ensemble-Check! It took 1.01 many seconds.\n"
     ]
    },
    {
     "name": "stderr",
     "output_type": "stream",
     "text": [
      "\n",
      " 95%|█████████▍| 1195/1261 [44:22<02:27,  2.24s/it]\u001b[A"
     ]
    },
    {
     "name": "stdout",
     "output_type": "stream",
     "text": [
      "First net took 0.59 many second to check 342 many pictures.\n",
      "currently 1 many boxes\n",
      "After belief, still 1 many boxes. It took 0.0 many seconds.\n",
      "There are 189 centers in the centers.\n",
      "1 of 1 boxes survived the Ensemble-Check! It took 1.01 many seconds.\n"
     ]
    },
    {
     "name": "stderr",
     "output_type": "stream",
     "text": [
      "\n",
      " 95%|█████████▍| 1196/1261 [44:24<02:25,  2.25s/it]\u001b[A"
     ]
    },
    {
     "name": "stdout",
     "output_type": "stream",
     "text": [
      "First net took 0.58 many second to check 342 many pictures.\n",
      "currently 1 many boxes\n",
      "After belief, still 1 many boxes. It took 0.0 many seconds.\n",
      "There are 190 centers in the centers.\n",
      "1 of 1 boxes survived the Ensemble-Check! It took 1.0 many seconds.\n"
     ]
    },
    {
     "name": "stderr",
     "output_type": "stream",
     "text": [
      "\n",
      " 95%|█████████▍| 1197/1261 [44:26<02:23,  2.25s/it]\u001b[A"
     ]
    },
    {
     "name": "stdout",
     "output_type": "stream",
     "text": [
      "First net took 0.58 many second to check 342 many pictures.\n",
      "currently 1 many boxes\n",
      "After belief, still 1 many boxes. It took 0.0 many seconds.\n",
      "There are 191 centers in the centers.\n",
      "1 of 1 boxes survived the Ensemble-Check! It took 1.0 many seconds.\n"
     ]
    },
    {
     "name": "stderr",
     "output_type": "stream",
     "text": [
      "\n",
      " 95%|█████████▌| 1198/1261 [44:29<02:21,  2.25s/it]\u001b[A"
     ]
    },
    {
     "name": "stdout",
     "output_type": "stream",
     "text": [
      "First net took 0.59 many second to check 342 many pictures.\n",
      "currently 1 many boxes\n",
      "After belief, still 1 many boxes. It took 0.0 many seconds.\n",
      "There are 192 centers in the centers.\n",
      "1 of 1 boxes survived the Ensemble-Check! It took 1.01 many seconds.\n"
     ]
    },
    {
     "name": "stderr",
     "output_type": "stream",
     "text": [
      "\n",
      " 95%|█████████▌| 1199/1261 [44:31<02:19,  2.25s/it]\u001b[A"
     ]
    },
    {
     "name": "stdout",
     "output_type": "stream",
     "text": [
      "First net took 0.62 many second to check 342 many pictures.\n",
      "currently 1 many boxes\n",
      "After belief, still 1 many boxes. It took 0.0 many seconds.\n",
      "There are 193 centers in the centers.\n",
      "1 of 1 boxes survived the Ensemble-Check! It took 1.0 many seconds.\n"
     ]
    },
    {
     "name": "stderr",
     "output_type": "stream",
     "text": [
      "\n",
      " 95%|█████████▌| 1200/1261 [44:33<02:18,  2.26s/it]\u001b[A"
     ]
    },
    {
     "name": "stdout",
     "output_type": "stream",
     "text": [
      "First net took 0.58 many second to check 342 many pictures.\n",
      "currently 1 many boxes\n",
      "After belief, still 1 many boxes. It took 0.0 many seconds.\n",
      "There are 194 centers in the centers.\n",
      "1 of 1 boxes survived the Ensemble-Check! It took 0.99 many seconds.\n"
     ]
    },
    {
     "name": "stderr",
     "output_type": "stream",
     "text": [
      "\n",
      " 95%|█████████▌| 1201/1261 [44:36<02:15,  2.26s/it]\u001b[A"
     ]
    },
    {
     "name": "stdout",
     "output_type": "stream",
     "text": [
      "First net took 0.58 many second to check 342 many pictures.\n",
      "currently 1 many boxes\n",
      "After belief, still 1 many boxes. It took 0.0 many seconds.\n",
      "There are 195 centers in the centers.\n",
      "1 of 1 boxes survived the Ensemble-Check! It took 1.02 many seconds.\n"
     ]
    },
    {
     "name": "stderr",
     "output_type": "stream",
     "text": [
      "\n",
      " 95%|█████████▌| 1202/1261 [44:38<02:13,  2.26s/it]\u001b[A"
     ]
    },
    {
     "name": "stdout",
     "output_type": "stream",
     "text": [
      "First net took 0.58 many second to check 342 many pictures.\n",
      "currently 1 many boxes\n",
      "After belief, still 1 many boxes. It took 0.0 many seconds.\n",
      "There are 196 centers in the centers.\n",
      "1 of 1 boxes survived the Ensemble-Check! It took 1.0 many seconds.\n"
     ]
    },
    {
     "name": "stderr",
     "output_type": "stream",
     "text": [
      "\n",
      " 95%|█████████▌| 1203/1261 [44:40<02:11,  2.26s/it]\u001b[A"
     ]
    },
    {
     "name": "stdout",
     "output_type": "stream",
     "text": [
      "First net took 0.59 many second to check 342 many pictures.\n",
      "currently 1 many boxes\n",
      "After belief, still 1 many boxes. It took 0.0 many seconds.\n",
      "There are 197 centers in the centers.\n",
      "1 of 1 boxes survived the Ensemble-Check! It took 1.01 many seconds.\n"
     ]
    },
    {
     "name": "stderr",
     "output_type": "stream",
     "text": [
      "\n",
      " 95%|█████████▌| 1204/1261 [44:42<02:09,  2.27s/it]\u001b[A"
     ]
    },
    {
     "name": "stdout",
     "output_type": "stream",
     "text": [
      "First net took 0.58 many second to check 342 many pictures.\n",
      "currently 1 many boxes\n",
      "After belief, still 1 many boxes. It took 0.0 many seconds.\n",
      "There are 198 centers in the centers.\n",
      "1 of 1 boxes survived the Ensemble-Check! It took 1.03 many seconds.\n"
     ]
    },
    {
     "name": "stderr",
     "output_type": "stream",
     "text": [
      "\n",
      " 96%|█████████▌| 1205/1261 [44:45<02:07,  2.27s/it]\u001b[A"
     ]
    },
    {
     "name": "stdout",
     "output_type": "stream",
     "text": [
      "First net took 0.58 many second to check 342 many pictures.\n",
      "currently 1 many boxes\n",
      "After belief, still 1 many boxes. It took 0.0 many seconds.\n",
      "There are 199 centers in the centers.\n",
      "1 of 1 boxes survived the Ensemble-Check! It took 1.01 many seconds.\n"
     ]
    },
    {
     "name": "stderr",
     "output_type": "stream",
     "text": [
      "\n",
      " 96%|█████████▌| 1206/1261 [44:47<02:06,  2.30s/it]\u001b[A"
     ]
    },
    {
     "name": "stdout",
     "output_type": "stream",
     "text": [
      "First net took 0.58 many second to check 342 many pictures.\n",
      "currently 1 many boxes\n",
      "After belief, still 1 many boxes. It took 0.0 many seconds.\n",
      "There are 200 centers in the centers.\n",
      "1 of 1 boxes survived the Ensemble-Check! It took 1.01 many seconds.\n"
     ]
    },
    {
     "name": "stderr",
     "output_type": "stream",
     "text": [
      "\n",
      " 96%|█████████▌| 1207/1261 [44:49<02:03,  2.29s/it]\u001b[A"
     ]
    },
    {
     "name": "stdout",
     "output_type": "stream",
     "text": [
      "First net took 0.62 many second to check 342 many pictures.\n",
      "currently 2 many boxes\n",
      "After belief, still 1 many boxes. It took 0.0 many seconds.\n",
      "There are 202 centers in the centers.\n",
      "1 of 1 boxes survived the Ensemble-Check! It took 1.01 many seconds.\n"
     ]
    },
    {
     "name": "stderr",
     "output_type": "stream",
     "text": [
      "\n",
      " 96%|█████████▌| 1208/1261 [44:52<02:01,  2.29s/it]\u001b[A"
     ]
    },
    {
     "name": "stdout",
     "output_type": "stream",
     "text": [
      "First net took 0.59 many second to check 342 many pictures.\n",
      "currently 2 many boxes\n",
      "After belief, still 1 many boxes. It took 0.0 many seconds.\n",
      "There are 203 centers in the centers.\n",
      "1 of 1 boxes survived the Ensemble-Check! It took 1.0 many seconds.\n"
     ]
    },
    {
     "name": "stderr",
     "output_type": "stream",
     "text": [
      "\n",
      " 96%|█████████▌| 1209/1261 [44:54<01:58,  2.28s/it]\u001b[A"
     ]
    },
    {
     "name": "stdout",
     "output_type": "stream",
     "text": [
      "First net took 0.58 many second to check 342 many pictures.\n",
      "currently 2 many boxes\n",
      "After belief, still 1 many boxes. It took 0.0 many seconds.\n",
      "There are 204 centers in the centers.\n",
      "1 of 1 boxes survived the Ensemble-Check! It took 1.0 many seconds.\n"
     ]
    },
    {
     "name": "stderr",
     "output_type": "stream",
     "text": [
      "\n",
      " 96%|█████████▌| 1210/1261 [44:56<01:55,  2.27s/it]\u001b[A"
     ]
    },
    {
     "name": "stdout",
     "output_type": "stream",
     "text": [
      "First net took 0.58 many second to check 342 many pictures.\n",
      "currently 2 many boxes\n",
      "After belief, still 1 many boxes. It took 0.0 many seconds.\n",
      "There are 205 centers in the centers.\n",
      "1 of 1 boxes survived the Ensemble-Check! It took 1.01 many seconds.\n"
     ]
    },
    {
     "name": "stderr",
     "output_type": "stream",
     "text": [
      "\n",
      " 96%|█████████▌| 1211/1261 [44:58<01:53,  2.27s/it]\u001b[A"
     ]
    },
    {
     "name": "stdout",
     "output_type": "stream",
     "text": [
      "First net took 0.58 many second to check 342 many pictures.\n",
      "currently 2 many boxes\n",
      "After belief, still 1 many boxes. It took 0.0 many seconds.\n",
      "There are 206 centers in the centers.\n",
      "1 of 1 boxes survived the Ensemble-Check! It took 0.99 many seconds.\n"
     ]
    },
    {
     "name": "stderr",
     "output_type": "stream",
     "text": [
      "\n",
      " 96%|█████████▌| 1212/1261 [45:01<01:50,  2.26s/it]\u001b[A"
     ]
    },
    {
     "name": "stdout",
     "output_type": "stream",
     "text": [
      "First net took 0.58 many second to check 342 many pictures.\n",
      "currently 2 many boxes\n",
      "After belief, still 1 many boxes. It took 0.0 many seconds.\n",
      "There are 207 centers in the centers.\n",
      "1 of 1 boxes survived the Ensemble-Check! It took 0.99 many seconds.\n"
     ]
    },
    {
     "name": "stderr",
     "output_type": "stream",
     "text": [
      "\n",
      " 96%|█████████▌| 1213/1261 [45:03<01:48,  2.25s/it]\u001b[A"
     ]
    },
    {
     "name": "stdout",
     "output_type": "stream",
     "text": [
      "First net took 0.58 many second to check 342 many pictures.\n",
      "currently 2 many boxes\n",
      "After belief, still 1 many boxes. It took 0.0 many seconds.\n",
      "There are 208 centers in the centers.\n",
      "1 of 1 boxes survived the Ensemble-Check! It took 1.01 many seconds.\n"
     ]
    },
    {
     "name": "stderr",
     "output_type": "stream",
     "text": [
      "\n",
      " 96%|█████████▋| 1214/1261 [45:05<01:46,  2.26s/it]\u001b[A"
     ]
    },
    {
     "name": "stdout",
     "output_type": "stream",
     "text": [
      "First net took 0.58 many second to check 342 many pictures.\n",
      "currently 1 many boxes\n",
      "After belief, still 1 many boxes. It took 0.0 many seconds.\n",
      "There are 208 centers in the centers.\n",
      "1 of 1 boxes survived the Ensemble-Check! It took 1.01 many seconds.\n"
     ]
    },
    {
     "name": "stderr",
     "output_type": "stream",
     "text": [
      "\n",
      " 96%|█████████▋| 1215/1261 [45:07<01:43,  2.26s/it]\u001b[A"
     ]
    },
    {
     "name": "stdout",
     "output_type": "stream",
     "text": [
      "First net took 0.59 many second to check 342 many pictures.\n",
      "currently 1 many boxes\n",
      "After belief, still 1 many boxes. It took 0.0 many seconds.\n",
      "There are 209 centers in the centers.\n",
      "1 of 1 boxes survived the Ensemble-Check! It took 1.0 many seconds.\n"
     ]
    },
    {
     "name": "stderr",
     "output_type": "stream",
     "text": [
      "\n",
      " 96%|█████████▋| 1216/1261 [45:10<01:41,  2.25s/it]\u001b[A"
     ]
    },
    {
     "name": "stdout",
     "output_type": "stream",
     "text": [
      "First net took 0.58 many second to check 342 many pictures.\n",
      "currently 1 many boxes\n",
      "After belief, still 1 many boxes. It took 0.0 many seconds.\n",
      "There are 210 centers in the centers.\n",
      "1 of 1 boxes survived the Ensemble-Check! It took 1.01 many seconds.\n"
     ]
    },
    {
     "name": "stderr",
     "output_type": "stream",
     "text": [
      "\n",
      " 97%|█████████▋| 1217/1261 [45:12<01:39,  2.26s/it]\u001b[A"
     ]
    },
    {
     "name": "stdout",
     "output_type": "stream",
     "text": [
      "First net took 0.58 many second to check 342 many pictures.\n",
      "currently 1 many boxes\n",
      "After belief, still 1 many boxes. It took 0.0 many seconds.\n",
      "There are 211 centers in the centers.\n",
      "1 of 1 boxes survived the Ensemble-Check! It took 0.99 many seconds.\n"
     ]
    },
    {
     "name": "stderr",
     "output_type": "stream",
     "text": [
      "\n",
      " 97%|█████████▋| 1218/1261 [45:14<01:36,  2.26s/it]\u001b[A"
     ]
    },
    {
     "name": "stdout",
     "output_type": "stream",
     "text": [
      "First net took 0.58 many second to check 342 many pictures.\n",
      "currently 1 many boxes\n",
      "After belief, still 1 many boxes. It took 0.0 many seconds.\n",
      "There are 212 centers in the centers.\n",
      "1 of 1 boxes survived the Ensemble-Check! It took 0.99 many seconds.\n"
     ]
    },
    {
     "name": "stderr",
     "output_type": "stream",
     "text": [
      "\n",
      " 97%|█████████▋| 1219/1261 [45:16<01:34,  2.25s/it]\u001b[A"
     ]
    },
    {
     "name": "stdout",
     "output_type": "stream",
     "text": [
      "First net took 0.62 many second to check 342 many pictures.\n",
      "currently 1 many boxes\n",
      "After belief, still 1 many boxes. It took 0.0 many seconds.\n",
      "There are 213 centers in the centers.\n",
      "1 of 1 boxes survived the Ensemble-Check! It took 1.0 many seconds.\n"
     ]
    },
    {
     "name": "stderr",
     "output_type": "stream",
     "text": [
      "\n",
      " 97%|█████████▋| 1220/1261 [45:19<01:32,  2.26s/it]\u001b[A"
     ]
    },
    {
     "name": "stdout",
     "output_type": "stream",
     "text": [
      "First net took 0.58 many second to check 342 many pictures.\n",
      "currently 1 many boxes\n",
      "After belief, still 1 many boxes. It took 0.0 many seconds.\n",
      "There are 214 centers in the centers.\n",
      "1 of 1 boxes survived the Ensemble-Check! It took 0.99 many seconds.\n"
     ]
    },
    {
     "name": "stderr",
     "output_type": "stream",
     "text": [
      "\n",
      " 97%|█████████▋| 1221/1261 [45:21<01:30,  2.26s/it]\u001b[A"
     ]
    },
    {
     "name": "stdout",
     "output_type": "stream",
     "text": [
      "First net took 0.58 many second to check 342 many pictures.\n",
      "currently 2 many boxes\n",
      "After belief, still 1 many boxes. It took 0.0 many seconds.\n",
      "There are 216 centers in the centers.\n",
      "1 of 1 boxes survived the Ensemble-Check! It took 1.0 many seconds.\n"
     ]
    },
    {
     "name": "stderr",
     "output_type": "stream",
     "text": [
      "\n",
      " 97%|█████████▋| 1222/1261 [45:23<01:28,  2.26s/it]\u001b[A"
     ]
    },
    {
     "name": "stdout",
     "output_type": "stream",
     "text": [
      "First net took 0.59 many second to check 342 many pictures.\n",
      "currently 2 many boxes\n",
      "After belief, still 1 many boxes. It took 0.0 many seconds.\n",
      "There are 217 centers in the centers.\n",
      "1 of 1 boxes survived the Ensemble-Check! It took 1.01 many seconds.\n"
     ]
    },
    {
     "name": "stderr",
     "output_type": "stream",
     "text": [
      "\n",
      " 97%|█████████▋| 1223/1261 [45:25<01:25,  2.26s/it]\u001b[A"
     ]
    },
    {
     "name": "stdout",
     "output_type": "stream",
     "text": [
      "First net took 0.62 many second to check 342 many pictures.\n",
      "currently 2 many boxes\n",
      "After belief, still 1 many boxes. It took 0.0 many seconds.\n",
      "There are 219 centers in the centers.\n",
      "1 of 1 boxes survived the Ensemble-Check! It took 1.0 many seconds.\n"
     ]
    },
    {
     "name": "stderr",
     "output_type": "stream",
     "text": [
      "\n",
      " 97%|█████████▋| 1224/1261 [45:28<01:23,  2.27s/it]\u001b[A"
     ]
    },
    {
     "name": "stdout",
     "output_type": "stream",
     "text": [
      "First net took 0.59 many second to check 342 many pictures.\n",
      "currently 2 many boxes\n",
      "After belief, still 1 many boxes. It took 0.0 many seconds.\n",
      "There are 221 centers in the centers.\n",
      "1 of 1 boxes survived the Ensemble-Check! It took 0.99 many seconds.\n"
     ]
    },
    {
     "name": "stderr",
     "output_type": "stream",
     "text": [
      "\n",
      " 97%|█████████▋| 1225/1261 [45:30<01:21,  2.26s/it]\u001b[A"
     ]
    },
    {
     "name": "stdout",
     "output_type": "stream",
     "text": [
      "First net took 0.58 many second to check 342 many pictures.\n",
      "currently 2 many boxes\n",
      "After belief, still 1 many boxes. It took 0.0 many seconds.\n",
      "There are 223 centers in the centers.\n",
      "1 of 1 boxes survived the Ensemble-Check! It took 1.0 many seconds.\n"
     ]
    },
    {
     "name": "stderr",
     "output_type": "stream",
     "text": [
      "\n",
      " 97%|█████████▋| 1226/1261 [45:32<01:19,  2.26s/it]\u001b[A"
     ]
    },
    {
     "name": "stdout",
     "output_type": "stream",
     "text": [
      "First net took 0.58 many second to check 342 many pictures.\n",
      "currently 2 many boxes\n",
      "After belief, still 1 many boxes. It took 0.0 many seconds.\n",
      "There are 225 centers in the centers.\n",
      "1 of 1 boxes survived the Ensemble-Check! It took 1.02 many seconds.\n"
     ]
    },
    {
     "name": "stderr",
     "output_type": "stream",
     "text": [
      "\n",
      " 97%|█████████▋| 1227/1261 [45:34<01:16,  2.26s/it]\u001b[A"
     ]
    },
    {
     "name": "stdout",
     "output_type": "stream",
     "text": [
      "First net took 0.59 many second to check 342 many pictures.\n",
      "currently 2 many boxes\n",
      "After belief, still 1 many boxes. It took 0.0 many seconds.\n",
      "There are 226 centers in the centers.\n",
      "1 of 1 boxes survived the Ensemble-Check! It took 1.05 many seconds.\n"
     ]
    },
    {
     "name": "stderr",
     "output_type": "stream",
     "text": [
      "\n",
      " 97%|█████████▋| 1228/1261 [45:37<01:15,  2.28s/it]\u001b[A"
     ]
    },
    {
     "name": "stdout",
     "output_type": "stream",
     "text": [
      "First net took 0.59 many second to check 342 many pictures.\n",
      "currently 1 many boxes\n",
      "After belief, still 1 many boxes. It took 0.0 many seconds.\n",
      "There are 222 centers in the centers.\n",
      "1 of 1 boxes survived the Ensemble-Check! It took 1.02 many seconds.\n"
     ]
    },
    {
     "name": "stderr",
     "output_type": "stream",
     "text": [
      "\n",
      " 97%|█████████▋| 1229/1261 [45:39<01:12,  2.28s/it]\u001b[A"
     ]
    },
    {
     "name": "stdout",
     "output_type": "stream",
     "text": [
      "First net took 0.58 many second to check 342 many pictures.\n",
      "currently 1 many boxes\n",
      "After belief, still 1 many boxes. It took 0.0 many seconds.\n",
      "There are 223 centers in the centers.\n",
      "1 of 1 boxes survived the Ensemble-Check! It took 1.05 many seconds.\n"
     ]
    },
    {
     "name": "stderr",
     "output_type": "stream",
     "text": [
      "\n",
      " 98%|█████████▊| 1230/1261 [45:41<01:10,  2.28s/it]\u001b[A"
     ]
    },
    {
     "name": "stdout",
     "output_type": "stream",
     "text": [
      "First net took 0.58 many second to check 342 many pictures.\n",
      "currently 1 many boxes\n",
      "After belief, still 1 many boxes. It took 0.0 many seconds.\n",
      "There are 224 centers in the centers.\n",
      "1 of 1 boxes survived the Ensemble-Check! It took 1.04 many seconds.\n"
     ]
    },
    {
     "name": "stderr",
     "output_type": "stream",
     "text": [
      "\n",
      " 98%|█████████▊| 1231/1261 [45:44<01:08,  2.28s/it]\u001b[A"
     ]
    },
    {
     "name": "stdout",
     "output_type": "stream",
     "text": [
      "First net took 0.58 many second to check 342 many pictures.\n",
      "currently 1 many boxes\n",
      "After belief, still 1 many boxes. It took 0.0 many seconds.\n",
      "There are 225 centers in the centers.\n",
      "1 of 1 boxes survived the Ensemble-Check! It took 1.04 many seconds.\n"
     ]
    },
    {
     "name": "stderr",
     "output_type": "stream",
     "text": [
      "\n",
      " 98%|█████████▊| 1232/1261 [45:46<01:06,  2.29s/it]\u001b[A"
     ]
    },
    {
     "name": "stdout",
     "output_type": "stream",
     "text": [
      "First net took 0.58 many second to check 342 many pictures.\n",
      "currently 1 many boxes\n",
      "After belief, still 1 many boxes. It took 0.0 many seconds.\n",
      "There are 226 centers in the centers.\n",
      "1 of 1 boxes survived the Ensemble-Check! It took 1.05 many seconds.\n"
     ]
    },
    {
     "name": "stderr",
     "output_type": "stream",
     "text": [
      "\n",
      " 98%|█████████▊| 1233/1261 [45:48<01:04,  2.29s/it]\u001b[A"
     ]
    },
    {
     "name": "stdout",
     "output_type": "stream",
     "text": [
      "First net took 0.61 many second to check 342 many pictures.\n",
      "currently 1 many boxes\n",
      "After belief, still 1 many boxes. It took 0.0 many seconds.\n",
      "There are 227 centers in the centers.\n",
      "1 of 1 boxes survived the Ensemble-Check! It took 1.04 many seconds.\n"
     ]
    },
    {
     "name": "stderr",
     "output_type": "stream",
     "text": [
      "\n",
      " 98%|█████████▊| 1234/1261 [45:51<01:02,  2.30s/it]\u001b[A"
     ]
    },
    {
     "name": "stdout",
     "output_type": "stream",
     "text": [
      "First net took 0.58 many second to check 342 many pictures.\n",
      "currently 2 many boxes\n",
      "After belief, still 1 many boxes. It took 0.0 many seconds.\n",
      "There are 229 centers in the centers.\n",
      "1 of 1 boxes survived the Ensemble-Check! It took 1.06 many seconds.\n"
     ]
    },
    {
     "name": "stderr",
     "output_type": "stream",
     "text": [
      "\n",
      " 98%|█████████▊| 1235/1261 [45:53<00:59,  2.30s/it]\u001b[A"
     ]
    },
    {
     "name": "stdout",
     "output_type": "stream",
     "text": [
      "First net took 0.59 many second to check 342 many pictures.\n",
      "currently 2 many boxes\n",
      "After belief, still 1 many boxes. It took 0.0 many seconds.\n",
      "There are 231 centers in the centers.\n",
      "1 of 1 boxes survived the Ensemble-Check! It took 1.06 many seconds.\n"
     ]
    },
    {
     "name": "stderr",
     "output_type": "stream",
     "text": [
      "\n",
      " 98%|█████████▊| 1236/1261 [45:55<00:57,  2.31s/it]\u001b[A"
     ]
    },
    {
     "name": "stdout",
     "output_type": "stream",
     "text": [
      "First net took 0.62 many second to check 342 many pictures.\n",
      "currently 2 many boxes\n",
      "After belief, still 1 many boxes. It took 0.0 many seconds.\n",
      "There are 233 centers in the centers.\n",
      "1 of 1 boxes survived the Ensemble-Check! It took 1.07 many seconds.\n"
     ]
    },
    {
     "name": "stderr",
     "output_type": "stream",
     "text": [
      "\n",
      " 98%|█████████▊| 1237/1261 [45:58<00:55,  2.32s/it]\u001b[A"
     ]
    },
    {
     "name": "stdout",
     "output_type": "stream",
     "text": [
      "First net took 0.58 many second to check 342 many pictures.\n",
      "currently 2 many boxes\n",
      "After belief, still 1 many boxes. It took 0.0 many seconds.\n",
      "There are 235 centers in the centers.\n",
      "1 of 1 boxes survived the Ensemble-Check! It took 1.07 many seconds.\n"
     ]
    },
    {
     "name": "stderr",
     "output_type": "stream",
     "text": [
      "\n",
      " 98%|█████████▊| 1238/1261 [46:00<00:53,  2.32s/it]\u001b[A"
     ]
    },
    {
     "name": "stdout",
     "output_type": "stream",
     "text": [
      "First net took 0.58 many second to check 342 many pictures.\n",
      "currently 2 many boxes\n",
      "After belief, still 1 many boxes. It took 0.0 many seconds.\n",
      "There are 237 centers in the centers.\n",
      "1 of 1 boxes survived the Ensemble-Check! It took 1.08 many seconds.\n"
     ]
    },
    {
     "name": "stderr",
     "output_type": "stream",
     "text": [
      "\n",
      " 98%|█████████▊| 1239/1261 [46:02<00:51,  2.33s/it]\u001b[A"
     ]
    },
    {
     "name": "stdout",
     "output_type": "stream",
     "text": [
      "First net took 0.58 many second to check 342 many pictures.\n",
      "currently 2 many boxes\n",
      "After belief, still 1 many boxes. It took 0.0 many seconds.\n",
      "There are 239 centers in the centers.\n",
      "1 of 1 boxes survived the Ensemble-Check! It took 1.05 many seconds.\n"
     ]
    },
    {
     "name": "stderr",
     "output_type": "stream",
     "text": [
      "\n",
      " 98%|█████████▊| 1240/1261 [46:04<00:48,  2.32s/it]\u001b[A"
     ]
    },
    {
     "name": "stdout",
     "output_type": "stream",
     "text": [
      "First net took 0.58 many second to check 342 many pictures.\n",
      "currently 2 many boxes\n",
      "After belief, still 1 many boxes. It took 0.0 many seconds.\n",
      "There are 241 centers in the centers.\n",
      "1 of 1 boxes survived the Ensemble-Check! It took 1.05 many seconds.\n"
     ]
    },
    {
     "name": "stderr",
     "output_type": "stream",
     "text": [
      "\n",
      " 98%|█████████▊| 1241/1261 [46:07<00:46,  2.32s/it]\u001b[A"
     ]
    },
    {
     "name": "stdout",
     "output_type": "stream",
     "text": [
      "First net took 0.58 many second to check 342 many pictures.\n",
      "currently 2 many boxes\n",
      "After belief, still 1 many boxes. It took 0.0 many seconds.\n",
      "There are 243 centers in the centers.\n",
      "1 of 1 boxes survived the Ensemble-Check! It took 1.07 many seconds.\n"
     ]
    },
    {
     "name": "stderr",
     "output_type": "stream",
     "text": [
      "\n",
      " 98%|█████████▊| 1242/1261 [46:09<00:44,  2.32s/it]\u001b[A"
     ]
    },
    {
     "name": "stdout",
     "output_type": "stream",
     "text": [
      "First net took 0.61 many second to check 342 many pictures.\n",
      "currently 2 many boxes\n",
      "After belief, still 1 many boxes. It took 0.0 many seconds.\n",
      "There are 245 centers in the centers.\n",
      "1 of 1 boxes survived the Ensemble-Check! It took 1.04 many seconds.\n"
     ]
    },
    {
     "name": "stderr",
     "output_type": "stream",
     "text": [
      "\n",
      " 99%|█████████▊| 1243/1261 [46:11<00:41,  2.32s/it]\u001b[A"
     ]
    },
    {
     "name": "stdout",
     "output_type": "stream",
     "text": [
      "First net took 0.59 many second to check 342 many pictures.\n",
      "currently 2 many boxes\n",
      "After belief, still 1 many boxes. It took 0.0 many seconds.\n",
      "There are 247 centers in the centers.\n",
      "1 of 1 boxes survived the Ensemble-Check! It took 1.04 many seconds.\n"
     ]
    },
    {
     "name": "stderr",
     "output_type": "stream",
     "text": [
      "\n",
      " 99%|█████████▊| 1244/1261 [46:14<00:39,  2.31s/it]\u001b[A"
     ]
    },
    {
     "name": "stdout",
     "output_type": "stream",
     "text": [
      "First net took 0.58 many second to check 342 many pictures.\n",
      "currently 2 many boxes\n",
      "After belief, still 2 many boxes. It took 0.0 many seconds.\n",
      "There are 249 centers in the centers.\n",
      "Deleted Box!\n",
      "1 of 2 boxes survived the Ensemble-Check! It took 2.03 many seconds.\n"
     ]
    },
    {
     "name": "stderr",
     "output_type": "stream",
     "text": [
      "\n",
      " 99%|█████████▊| 1245/1261 [46:17<00:41,  2.60s/it]\u001b[A"
     ]
    },
    {
     "name": "stdout",
     "output_type": "stream",
     "text": [
      "First net took 0.58 many second to check 342 many pictures.\n",
      "currently 2 many boxes\n",
      "After belief, still 2 many boxes. It took 0.0 many seconds.\n",
      "There are 250 centers in the centers.\n",
      "Deleted Box!\n",
      "1 of 2 boxes survived the Ensemble-Check! It took 1.99 many seconds.\n"
     ]
    },
    {
     "name": "stderr",
     "output_type": "stream",
     "text": [
      "\n",
      " 99%|█████████▉| 1246/1261 [46:20<00:41,  2.79s/it]\u001b[A"
     ]
    },
    {
     "name": "stdout",
     "output_type": "stream",
     "text": [
      "First net took 0.6 many second to check 342 many pictures.\n",
      "currently 1 many boxes\n",
      "After belief, still 1 many boxes. It took 0.0 many seconds.\n",
      "There are 240 centers in the centers.\n",
      "1 of 1 boxes survived the Ensemble-Check! It took 1.05 many seconds.\n"
     ]
    },
    {
     "name": "stderr",
     "output_type": "stream",
     "text": [
      "\n",
      " 99%|█████████▉| 1247/1261 [46:23<00:37,  2.65s/it]\u001b[A"
     ]
    },
    {
     "name": "stdout",
     "output_type": "stream",
     "text": [
      "First net took 0.59 many second to check 342 many pictures.\n",
      "currently 1 many boxes\n",
      "After belief, still 1 many boxes. It took 0.0 many seconds.\n",
      "There are 241 centers in the centers.\n",
      "1 of 1 boxes survived the Ensemble-Check! It took 1.03 many seconds.\n"
     ]
    },
    {
     "name": "stderr",
     "output_type": "stream",
     "text": [
      "\n",
      " 99%|█████████▉| 1248/1261 [46:25<00:33,  2.54s/it]\u001b[A"
     ]
    },
    {
     "name": "stdout",
     "output_type": "stream",
     "text": [
      "First net took 0.61 many second to check 342 many pictures.\n",
      "currently 1 many boxes\n",
      "After belief, still 1 many boxes. It took 0.0 many seconds.\n",
      "There are 242 centers in the centers.\n",
      "1 of 1 boxes survived the Ensemble-Check! It took 1.03 many seconds.\n"
     ]
    },
    {
     "name": "stderr",
     "output_type": "stream",
     "text": [
      "\n",
      " 99%|█████████▉| 1249/1261 [46:27<00:29,  2.47s/it]\u001b[A"
     ]
    },
    {
     "name": "stdout",
     "output_type": "stream",
     "text": [
      "First net took 0.58 many second to check 342 many pictures.\n",
      "currently 1 many boxes\n",
      "After belief, still 1 many boxes. It took 0.0 many seconds.\n",
      "There are 243 centers in the centers.\n",
      "1 of 1 boxes survived the Ensemble-Check! It took 1.04 many seconds.\n"
     ]
    },
    {
     "name": "stderr",
     "output_type": "stream",
     "text": [
      "\n",
      " 99%|█████████▉| 1250/1261 [46:29<00:26,  2.42s/it]\u001b[A"
     ]
    },
    {
     "name": "stdout",
     "output_type": "stream",
     "text": [
      "First net took 0.58 many second to check 342 many pictures.\n",
      "currently 1 many boxes\n",
      "After belief, still 1 many boxes. It took 0.0 many seconds.\n",
      "There are 244 centers in the centers.\n",
      "1 of 1 boxes survived the Ensemble-Check! It took 1.04 many seconds.\n"
     ]
    },
    {
     "name": "stderr",
     "output_type": "stream",
     "text": [
      "\n",
      " 99%|█████████▉| 1251/1261 [46:32<00:23,  2.38s/it]\u001b[A"
     ]
    },
    {
     "name": "stdout",
     "output_type": "stream",
     "text": [
      "First net took 0.6 many second to check 342 many pictures.\n",
      "currently 1 many boxes\n",
      "After belief, still 1 many boxes. It took 0.0 many seconds.\n",
      "There are 245 centers in the centers.\n",
      "1 of 1 boxes survived the Ensemble-Check! It took 1.02 many seconds.\n"
     ]
    },
    {
     "name": "stderr",
     "output_type": "stream",
     "text": [
      "\n",
      " 99%|█████████▉| 1252/1261 [46:34<00:21,  2.35s/it]\u001b[A"
     ]
    },
    {
     "name": "stdout",
     "output_type": "stream",
     "text": [
      "First net took 0.58 many second to check 342 many pictures.\n",
      "currently 1 many boxes\n",
      "After belief, still 1 many boxes. It took 0.0 many seconds.\n",
      "There are 246 centers in the centers.\n",
      "1 of 1 boxes survived the Ensemble-Check! It took 1.03 many seconds.\n"
     ]
    },
    {
     "name": "stderr",
     "output_type": "stream",
     "text": [
      "\n",
      " 99%|█████████▉| 1253/1261 [46:36<00:18,  2.33s/it]\u001b[A"
     ]
    },
    {
     "name": "stdout",
     "output_type": "stream",
     "text": [
      "First net took 0.58 many second to check 342 many pictures.\n",
      "currently 1 many boxes\n",
      "After belief, still 1 many boxes. It took 0.0 many seconds.\n",
      "There are 247 centers in the centers.\n",
      "1 of 1 boxes survived the Ensemble-Check! It took 1.02 many seconds.\n"
     ]
    },
    {
     "name": "stderr",
     "output_type": "stream",
     "text": [
      "\n",
      " 99%|█████████▉| 1254/1261 [46:39<00:16,  2.31s/it]\u001b[A"
     ]
    },
    {
     "name": "stdout",
     "output_type": "stream",
     "text": [
      "First net took 0.58 many second to check 342 many pictures.\n",
      "currently 2 many boxes\n",
      "After belief, still 1 many boxes. It took 0.0 many seconds.\n",
      "There are 249 centers in the centers.\n",
      "1 of 1 boxes survived the Ensemble-Check! It took 1.01 many seconds.\n"
     ]
    },
    {
     "name": "stderr",
     "output_type": "stream",
     "text": [
      "\n",
      "100%|█████████▉| 1255/1261 [46:41<00:13,  2.30s/it]\u001b[A"
     ]
    },
    {
     "name": "stdout",
     "output_type": "stream",
     "text": [
      "First net took 0.62 many second to check 342 many pictures.\n",
      "currently 2 many boxes\n",
      "After belief, still 1 many boxes. It took 0.0 many seconds.\n",
      "There are 251 centers in the centers.\n",
      "1 of 1 boxes survived the Ensemble-Check! It took 1.02 many seconds.\n"
     ]
    },
    {
     "name": "stderr",
     "output_type": "stream",
     "text": [
      "\n",
      "100%|█████████▉| 1256/1261 [46:43<00:11,  2.30s/it]\u001b[A"
     ]
    },
    {
     "name": "stdout",
     "output_type": "stream",
     "text": [
      "First net took 0.58 many second to check 342 many pictures.\n",
      "currently 2 many boxes\n",
      "After belief, still 1 many boxes. It took 0.0 many seconds.\n",
      "There are 253 centers in the centers.\n",
      "1 of 1 boxes survived the Ensemble-Check! It took 1.02 many seconds.\n"
     ]
    },
    {
     "name": "stderr",
     "output_type": "stream",
     "text": [
      "\n",
      "100%|█████████▉| 1257/1261 [46:45<00:09,  2.29s/it]\u001b[A"
     ]
    },
    {
     "name": "stdout",
     "output_type": "stream",
     "text": [
      "First net took 0.58 many second to check 342 many pictures.\n",
      "currently 2 many boxes\n",
      "After belief, still 1 many boxes. It took 0.0 many seconds.\n",
      "There are 255 centers in the centers.\n",
      "1 of 1 boxes survived the Ensemble-Check! It took 1.02 many seconds.\n"
     ]
    },
    {
     "name": "stderr",
     "output_type": "stream",
     "text": [
      "\n",
      "100%|█████████▉| 1258/1261 [46:48<00:06,  2.28s/it]\u001b[A"
     ]
    },
    {
     "name": "stdout",
     "output_type": "stream",
     "text": [
      "First net took 0.58 many second to check 342 many pictures.\n",
      "currently 2 many boxes\n",
      "After belief, still 1 many boxes. It took 0.0 many seconds.\n",
      "There are 257 centers in the centers.\n",
      "1 of 1 boxes survived the Ensemble-Check! It took 1.02 many seconds.\n"
     ]
    },
    {
     "name": "stderr",
     "output_type": "stream",
     "text": [
      "\n",
      "100%|█████████▉| 1259/1261 [46:50<00:04,  2.28s/it]\u001b[A"
     ]
    },
    {
     "name": "stdout",
     "output_type": "stream",
     "text": [
      "First net took 0.59 many second to check 342 many pictures.\n",
      "currently 3 many boxes\n",
      "After belief, still 1 many boxes. It took 0.0 many seconds.\n",
      "There are 260 centers in the centers.\n",
      "1 of 1 boxes survived the Ensemble-Check! It took 1.02 many seconds.\n"
     ]
    },
    {
     "name": "stderr",
     "output_type": "stream",
     "text": [
      "\n",
      "100%|█████████▉| 1260/1261 [46:52<00:02,  2.28s/it]\u001b[A\n",
      "\u001b[A"
     ]
    },
    {
     "name": "stdout",
     "output_type": "stream",
     "text": [
      "[MoviePy] Done.\n",
      "[MoviePy] >>>> Video ready: ./Test_AWS_full_3.mp4 \n",
      "\n",
      "CPU times: user 1h 27min 12s, sys: 2min 7s, total: 1h 29min 19s\n",
      "Wall time: 46min 53s\n"
     ]
    }
   ],
   "source": [
    "lab = []\n",
    "iteration = 0\n",
    "heatmaps = []\n",
    "car_centers = []\n",
    "history_boxes = []\n",
    "\n",
    "# variables of project 4\n",
    "iteration_adv = 1\n",
    "left_coef = []\n",
    "right_coef = []\n",
    "history_n_feat = []\n",
    "org_hist = []\n",
    "flag_hist = []\n",
    "\n",
    "output1 = './Test_AWS_full_3.mp4'\n",
    "\n",
    "clip = VideoFileClip(\"project_video.mp4\")#.subclip(15,20)\n",
    "\n",
    "output_frame = clip.fl_image(process_img) #NOTE: this function expects color images!!\n",
    "#white_clip = clip1.fl_image(check_filters)\n",
    "%time output_frame.write_videofile(output1, audio=False)\n",
    "\n",
    "clip.reader.close()\n",
    "clip.audio.reader.close_proc()"
   ]
  },
  {
   "cell_type": "code",
   "execution_count": 105,
   "metadata": {},
   "outputs": [],
   "source": [
    "clip.reader.close()\n",
    "clip.audio.reader.close_proc()"
   ]
  },
  {
   "cell_type": "markdown",
   "metadata": {},
   "source": [
    "# Here comes the Code of Project 4 in one cell:"
   ]
  },
  {
   "cell_type": "code",
   "execution_count": 103,
   "metadata": {
    "collapsed": true
   },
   "outputs": [],
   "source": [
    "import numpy as np\n",
    "import matplotlib.image as mpimg\n",
    "import matplotlib.pyplot as plt\n",
    "import cv2\n",
    "import glob\n",
    "from PIL import Image\n",
    "from PIL import ImageFont\n",
    "from PIL import ImageDraw\n",
    "%matplotlib inline\n",
    "\n",
    "iteration_adv = 1\n",
    "left_coef = []\n",
    "right_coef = []\n",
    "history_n_feat = []\n",
    "org_hist = []\n",
    "flag_hist = []\n",
    "\n",
    "\n",
    "\n",
    "images = glob.glob('./camera_cal/calibration*.jpg')\n",
    "#plt.imshow(img)\n",
    "\n",
    "obj_points = [] # 3D real points\n",
    "img_points = [] # 2D image points\n",
    "\n",
    "# prepare points\n",
    "objp = np.zeros((6*9,3), np.float32)\n",
    "objp[:,:2] = np.mgrid[0:9,0:6].T.reshape(-1,2)\n",
    "\n",
    "i = 0\n",
    "for fname in images:\n",
    "    img = mpimg.imread(fname)\n",
    "    \n",
    "    # convert to grayscale\n",
    "    gray = cv2.cvtColor(img, cv2.COLOR_BGR2GRAY)\n",
    "    #plt.imshow(gray, cmap='gray')\n",
    "\n",
    "    # find chessboard corners\n",
    "    ret, corners = cv2.findChessboardCorners(gray, (9,6), None)\n",
    "\n",
    "    if ret == True:\n",
    "        i += 1\n",
    "        img_points.append(corners)\n",
    "        obj_points.append(objp)\n",
    "\n",
    "        # draw chessboard corners\n",
    "        img = cv2.drawChessboardCorners(img, (9,6), corners, ret)\n",
    "        #plt.figure();\n",
    "        #plt.imshow(img)\n",
    "\n",
    "        \n",
    "# calibrate Camera\n",
    "ret, mtx, dist, rvecs, tvecs = cv2.calibrateCamera(obj_points, img_points, gray.shape[::-1], None, None)\n",
    "\n",
    "\n",
    "def sobel(img, direction='x', thresh_min=0, thresh_max=255, kernel_size=3, input_gray='no'):\n",
    "    if input_gray == 'no':\n",
    "        s_gray = cv2.cvtColor(img, cv2.COLOR_BGR2GRAY)\n",
    "    else:\n",
    "        s_gray = img\n",
    "    sobelx = cv2.Sobel(s_gray, cv2.CV_64F, 1, 0, ksize = kernel_size)\n",
    "    sobely = cv2.Sobel(s_gray, cv2.CV_64F, 0, 1, ksize = kernel_size)\n",
    "    \n",
    "    abs_sobelx = np.absolute(sobelx)\n",
    "    abs_sobely = np.absolute(sobely)\n",
    "    \n",
    "    scaled_sobelx = np.uint8(255*abs_sobelx/np.max(abs_sobelx))\n",
    "    scaled_sobely = np.uint8(255*abs_sobely/np.max(abs_sobely))\n",
    "    \n",
    "    sobel_binary = np.zeros_like(scaled_sobelx)\n",
    "    \n",
    "    if direction == 'x':\n",
    "        sobel_binary[(scaled_sobelx>=thresh_min) & (scaled_sobelx<=thresh_max)] = 1\n",
    "    elif direction == 'y': \n",
    "        sobel_binary[(scaled_sobely>=thresh_min) & (scaled_sobely<=thresh_max)] = 1\n",
    "    else:\n",
    "        print('Infeasible direction! Choose x or y!')\n",
    "        \n",
    "    return sobel_binary\n",
    "\n",
    "\n",
    "\n",
    "def mag_thresh(img, kernel_size=3, mag_thresh=(0,255), input_gray = 'no'):\n",
    "    if input_gray == 'no':\n",
    "        s_gray = cv2.cvtColor(img, cv2.COLOR_BGR2GRAY)\n",
    "    else:\n",
    "        s_gray = img\n",
    "    \n",
    "    sobelx = cv2.Sobel(s_gray, cv2.CV_64F, 1, 0, ksize = kernel_size)\n",
    "    sobely = cv2.Sobel(s_gray, cv2.CV_64F, 0, 1, ksize = kernel_size)\n",
    "    \n",
    "    mag = np.sqrt(sobelx**2 + sobely**2)\n",
    "    \n",
    "    scaled_mag = np.uint8(255*mag/np.max(mag))\n",
    "    \n",
    "    binary_output = np.zeros_like(s_gray)\n",
    "    \n",
    "    binary_output[(scaled_mag >= mag_thresh[0]) & (scaled_mag <= mag_thresh[1])] = 1\n",
    "    \n",
    "    return np.round(binary_output)\n",
    "\n",
    "\n",
    "\n",
    "def dir_threshold(img, sobel_kernel=3, thresh=(0,np.pi/2), input_gray='no'):\n",
    "    if input_gray == 'no':\n",
    "        s_gray = cv2.cvtColor(img, cv2.COLOR_BGR2GRAY)\n",
    "    else:\n",
    "        s_gray = img\n",
    "    \n",
    "    sobelx = cv2.Sobel(s_gray, cv2.CV_64F, 1, 0, ksize = sobel_kernel)\n",
    "    sobely = cv2.Sobel(s_gray, cv2.CV_64F, 0, 1, ksize = sobel_kernel)\n",
    "    \n",
    "    direc = np.arctan2(np.absolute(sobely), np.absolute(sobelx))\n",
    "    \n",
    "    binary_output = np.zeros_like(s_gray)\n",
    "    binary_output[(direc >= thresh[0]) & (direc <= thresh[1])] = 1\n",
    "    \n",
    "    return binary_output\n",
    "\n",
    "\n",
    "img_straight_linesO = mpimg.imread('./straight_lines2.jpg')\n",
    "\n",
    "img_straight_lines = cv2.undistort(img_straight_linesO, mtx, dist, None, mtx)\n",
    "\n",
    "img_size = (img_straight_lines.shape[1], img_straight_lines.shape[0])\n",
    "\n",
    "# long\n",
    "# lower_left = [280, 678]\n",
    "# lower_right = [1040, 678]\n",
    "# upper_right = [685, 447]\n",
    "# upper_left = [601,447]\n",
    "\n",
    "# short\n",
    "# lower_left = [280, 678]\n",
    "# lower_right = [1040, 678]\n",
    "# upper_right = [772,502]\n",
    "# upper_left = [521,502]\n",
    "\n",
    "lower_left = [280, 678]\n",
    "lower_right = [1040, 678]\n",
    "upper_right = [705,460]\n",
    "upper_left = [580,460]\n",
    "\n",
    "src = np.float32([lower_left, lower_right, upper_right, upper_left])\n",
    "dst = np.float32([ [300,719], [900,719], [900,0], [300,0] ])\n",
    "\n",
    "M = cv2.getPerspectiveTransform(src,dst)\n",
    "Minv = cv2.getPerspectiveTransform(dst,src)\n",
    "\n",
    "warped = cv2.warpPerspective(img_straight_lines, M, img_size, flags=cv2.INTER_LINEAR)\n",
    "warpedO = cv2.warpPerspective(img_straight_linesO, M, img_size, flags=cv2.INTER_LINEAR)\n",
    "\n",
    "# plt.figure()\n",
    "# plt.imshow(img_straight_linesO)\n",
    "# plt.figure()\n",
    "# plt.imshow(warpedO)\n",
    "# plt.figure()\n",
    "# plt.imshow(img_straight_lines)\n",
    "# plt.figure()\n",
    "# plt.imshow(warped)\n",
    "\n",
    "backwarp = cv2.warpPerspective(warped, Minv, img_size, flags=cv2.INTER_LINEAR)\n",
    "# plt.figure()\n",
    "# plt.imshow(backwarp)\n",
    "\n",
    "\n",
    "# Now some operators are applied to the warped image. Uncomment figures to see.\n",
    "R = warped[:,:,0]\n",
    "hls = cv2.cvtColor(warped,cv2.COLOR_RGB2HLS)\n",
    "S = hls[:,:,2]\n",
    "\n",
    "combined = np.zeros_like(R)\n",
    "combined[(S >= 180) | (R >= 180)] = 1\n",
    "\n",
    "warped_gray = cv2.cvtColor(warped, cv2.COLOR_RGB2GRAY)\n",
    "grad = sobel(warped_gray, 'x', 7, 255, 3, 'yes') #sobel(img, direction='x', thresh_min=0, thresh_max=255, kernel_size=3):\n",
    "\n",
    "combined2 = np.zeros_like(R)\n",
    "combined2[(S>=180) | (R>=180) | (grad == 1)] = 1\n",
    "\n",
    "dir_binary = dir_threshold(warped_gray, sobel_kernel=3, thresh=(0,np.pi/2), input_gray='yes')\n",
    "mag_binary = mag_thresh(warped_gray, 3, mag_thresh=(10,255), input_gray='yes')\n",
    "\n",
    "combined3 = np.zeros_like(R)\n",
    "combined3[(S>=180) | (R>=180) | (mag_binary == 1)] = 1\n",
    "\n",
    "median = cv2.medianBlur(combined3,9)\n",
    "\n",
    "\n",
    "\n",
    "def histo(img):\n",
    "    histogram = np.sum(img[img.shape[0]//2:,:], axis=0)\n",
    "    #histogram = np.sum(img, axis=0)\n",
    "    plt.figure()\n",
    "    plt.plot(histogram)\n",
    "    \n",
    "def calc_curvature(left_fit, right_fit, y_eval = 719):\n",
    "    left_curverad = ((1 + (2*left_fit[0]*y_eval + left_fit[1])**2)**1.5) / np.absolute(2*left_fit[0])\n",
    "    right_curverad = ((1 + (2*right_fit[0]*y_eval + right_fit[1])**2)**1.5) / np.absolute(2*right_fit[0])\n",
    "    return left_curverad, right_curverad\n",
    "\n",
    "def calc_curvature2(leftx, rightx, y_eval = 719):\n",
    "    ym_per_pix = 30/720 # meters per pixel in y dimension\n",
    "    xm_per_pix = 3.7/700 # meters per pixel in x dimension\n",
    "    # Fit new polynomials to x,y in world space\n",
    "    ploty = np.linspace(0,719,720)\n",
    "    left_fit_cr = np.polyfit(ploty*ym_per_pix, leftx*xm_per_pix, 2)\n",
    "    right_fit_cr = np.polyfit(ploty*ym_per_pix, rightx*xm_per_pix, 2)\n",
    "    # Calculate the new radii of curvature\n",
    "    left_curverad = ((1 + (2*left_fit_cr[0]*y_eval*ym_per_pix + left_fit_cr[1])**2)**1.5) / np.absolute(2*left_fit_cr[0])\n",
    "    right_curverad = ((1 + (2*right_fit_cr[0]*y_eval*ym_per_pix + right_fit_cr[1])**2)**1.5) / np.absolute(2*right_fit_cr[0])\n",
    "    # Now our radius of curvature is in meters\n",
    "    return left_curverad, right_curverad\n",
    "\n",
    "def region_of_interest(img, vertices):\n",
    "    \"\"\"\n",
    "    Applies an image mask.\n",
    "    \n",
    "    Only keeps the region of the image defined by the polygon\n",
    "    formed from `vertices`. The rest of the image is set to black.\n",
    "    \"\"\"\n",
    "    #defining a blank mask to start with\n",
    "    mask = np.zeros_like(img)   \n",
    "    \n",
    "    #defining a 3 channel or 1 channel color to fill the mask with depending on the input image\n",
    "    if len(img.shape) > 2:\n",
    "        channel_count = img.shape[2]  # i.e. 3 or 4 depending on your image\n",
    "        ignore_mask_color = (255,) * channel_count\n",
    "    else:\n",
    "        ignore_mask_color = 255\n",
    "        \n",
    "    #filling pixels inside the polygon defined by \"vertices\" with the fill color    \n",
    "    cv2.fillPoly(mask, vertices, ignore_mask_color)\n",
    "    \n",
    "    #returning the image only where mask pixels are nonzero\n",
    "    masked_image = cv2.bitwise_and(img, mask)\n",
    "    return masked_image\n",
    "\n",
    "\n",
    "# project lines on the original image\n",
    "\n",
    "def project_on_lines(img, undist, pipe, left_fitx, right_fitx, ploty, org, say, safe_lines_x, boxes):\n",
    "\n",
    "    warped = pipe\n",
    "    image = img\n",
    "\n",
    "    # Create an image to draw the lines on\n",
    "    warp_zero = np.zeros_like(warped).astype(np.uint8)\n",
    "    color_warp = np.dstack((warp_zero, warp_zero, warp_zero))\n",
    "\n",
    "    # Recast the x and y points into usable format for cv2.fillPoly()\n",
    "    pts_left = np.array([np.transpose(np.vstack([left_fitx, ploty]))])\n",
    "    pts_right = np.array([np.flipud(np.transpose(np.vstack([right_fitx, ploty])))])\n",
    "    pts = np.hstack((pts_left, pts_right))\n",
    "\n",
    "    # Draw the lane onto the warped blank image\n",
    "    cv2.fillPoly(color_warp, np.int_([pts]), (0,255, 0))\n",
    "    if say == 'yes':\n",
    "        cv2.circle(color_warp, (int(org[0]), 719), 15, (255,0,0), thickness=25)\n",
    "        cv2.circle(color_warp, (int(org[1]), 719), 15, (255,0,0), thickness=25)\n",
    "        #cv2.circle(color_warp, (int(start_center[0]), 719), 10, (255,255,255), thickness=25)\n",
    "        #cv2.circle(color_warp, (int(start_center[1]), 719), 10, (255,255,255), thickness=25)\n",
    "        ploty = np.linspace(0,719,720)\n",
    "        for safe_line in safe_lines_x:\n",
    "            pts = np.dstack((safe_line, ploty))\n",
    "            cv2.polylines(color_warp, pts.astype(int), isClosed=False, color=(255,0,0), thickness=3)\n",
    "\n",
    "        pts = np.dstack((left_fitx, ploty))\n",
    "        cv2.polylines(color_warp, pts.astype(int), isClosed=False, color=(0,0,255), thickness=15)\n",
    "        pts = np.dstack((right_fitx, ploty))\n",
    "        cv2.polylines(color_warp, pts.astype(int), isClosed=False, color=(0,0,255), thickness=15)\n",
    "            \n",
    "#     plt.figure(figsize=(60,20))\n",
    "#     plt.imshow(color_warp)\n",
    "\n",
    "    # Warp the blank back to original image space using inverse perspective matrix (Minv)\n",
    "    newwarp = cv2.warpPerspective(color_warp, Minv, (image.shape[1], image.shape[0])) \n",
    "    # Combine the result with the original image\n",
    "    result = cv2.addWeighted(undist, 1, newwarp, 0.3, 0)\n",
    "    color=(0, 0, 255)\n",
    "    thick=6\n",
    "    for bbox in boxes:\n",
    "        cv2.rectangle(result, bbox[0], bbox[1], color, thick)\n",
    "\n",
    "    #plt.figure(figsize=(60,20))\n",
    "    #plt.imshow(result)\n",
    "    #plt.imshow(result)\n",
    "    return result\n",
    "\n",
    "\n",
    "\n",
    "import numpy as np\n",
    "import matplotlib.pyplot as plt\n",
    "import matplotlib.image as mpimg\n",
    "import glob\n",
    "import cv2\n",
    "\n",
    "# Read in a thresholded image\n",
    "#warped = mpimg.imread('warped_example.jpg')\n",
    "# window settings\n",
    "\n",
    "#window_width = 50 \n",
    "#window_height = 60#120 # Break image into 9 vertical layers since image height is 720\n",
    "#margin = 100 # How much to slide left and right for searching\n",
    "window_width = 50 \n",
    "window_height = 60 # Break image into 9 vertical layers since image height is 720\n",
    "margin = 50\n",
    "org_center = (0,0)\n",
    "\n",
    "warped = mag_thresh(gray, 3, mag_thresh=(40,255), input_gray='yes')\n",
    "\n",
    "\n",
    "def window_mask(width, height, img_ref, center,level):\n",
    "    output = np.zeros_like(img_ref)\n",
    "    output[int(img_ref.shape[0]-(level+1)*height):int(img_ref.shape[0]-level*height),max(0,int(center-width/2)):min(int(center+width/2),img_ref.shape[1])] = 1   \n",
    "    return output\n",
    "\n",
    "def find_window_centroids(warped, window_width, window_height, margin, say='no'):\n",
    "    #global org_center\n",
    "    window_centroids = [] # Store the (left,right) window centroid positions per level\n",
    "    window = np.ones(window_width) # Create our window template that we will use for convolutions\n",
    "    \n",
    "    # First find the two starting positions for the left and right lane by using np.sum to get the vertical image slice\n",
    "    # and then np.convolve the vertical image slice with the window template \n",
    "    \n",
    "    # Sum quarter bottom of image to get slice, could use a different ratio\n",
    "    l_sum = np.sum(warped[int(3*warped.shape[0]/4):,:int(warped.shape[1]/2)], axis=0)\n",
    "    l_center = np.argmax(np.convolve(window,l_sum))-window_width/2\n",
    "    r_sum = np.sum(warped[int(3*warped.shape[0]/4):,int(warped.shape[1]/2):], axis=0)\n",
    "    r_center = np.argmax(np.convolve(window,r_sum))-window_width/2+int(warped.shape[1]/2)\n",
    "    \n",
    "    # Add what we found for the first layer\n",
    "    \n",
    "    if say == 'no':\n",
    "        if org_center[0] == 0:\n",
    "            window_centroids.append((l_center,r_center))\n",
    "        else:\n",
    "            l_center = org_center[0]\n",
    "            r_center = org_center[1]\n",
    "            window_centroids.append((l_center,r_center))\n",
    "    elif say == 'yes':\n",
    "        window_centroids.append((l_center,r_center))\n",
    "    \n",
    "    # Go through each layer looking for max pixel locations\n",
    "    for level in range(1,(int)(warped.shape[0]/window_height)):\n",
    "\t    # convolve the window into the vertical slice of the image\n",
    "        \n",
    "        image_layer = np.sum(warped[int(warped.shape[0]-(level+1)*window_height):int(warped.shape[0]-level*window_height),:], axis=0)\n",
    "        conv_signal = np.convolve(window, image_layer)\n",
    "        \n",
    "\t    # Find the best left centroid by using past left center as a reference\n",
    "\t    # Use window_width/2 as offset because convolution signal reference is at right side of window, not center of window\n",
    "        offset = window_width/2\n",
    "        l_min_index = int(max(l_center+offset-margin,0))\n",
    "        l_max_index = int(min(l_center+offset+margin,warped.shape[1]))\n",
    "        l_center = np.argmax(conv_signal[l_min_index:l_max_index])+l_min_index-offset\n",
    "\t    # Find the best right centroid by using past right center as a reference\n",
    "        r_min_index = int(max(r_center+offset-margin,0))\n",
    "        r_max_index = int(min(r_center+offset+margin,warped.shape[1]))\n",
    "        r_center = np.argmax(conv_signal[r_min_index:r_max_index])+r_min_index-offset\n",
    "\t    # Add what we found for that layer\n",
    "        window_centroids.append((l_center,r_center))\n",
    "        #SIG.append(np.sum(np.sum(warped[l_min_index: l_max_index, r_min_index:r_max_index])))\n",
    "\n",
    "    return window_centroids\n",
    "\n",
    "\n",
    "window_centroids = find_window_centroids(warped, window_width, window_height, margin)\n",
    "\n",
    "# If we found any window centers\n",
    "def plot_window(warped, window_centroids):\n",
    "    if len(window_centroids) > 0:\n",
    "\n",
    "        # Points used to draw all the left and right windows\n",
    "        l_points = np.zeros_like(warped)\n",
    "        r_points = np.zeros_like(warped)\n",
    "\n",
    "        # Go through each level and draw the windows \t\n",
    "        for level in range(0,len(window_centroids)):\n",
    "            # Window_mask is a function to draw window areas\n",
    "            l_mask = window_mask(window_width,window_height,warped,window_centroids[level][0],level)\n",
    "            r_mask = window_mask(window_width,window_height,warped,window_centroids[level][1],level)\n",
    "            # Add graphic points from window mask here to total pixels found \n",
    "            l_points[(l_points == 255) | ((l_mask == 1) ) ] = 255\n",
    "            r_points[(r_points == 255) | ((r_mask == 1) ) ] = 255\n",
    "\n",
    "        # Draw the results\n",
    "        template = np.array(r_points+l_points,np.uint8) # add both left and right window pixels together\n",
    "        zero_channel = np.zeros_like(template) # create a zero color channel\n",
    "        template = np.array(cv2.merge((zero_channel,template,zero_channel)),np.uint8) # make window pixels green\n",
    "        warpage = np.array(cv2.merge((warped,warped,warped)),np.uint8) # making the original road pixels 3 color channels\n",
    "        output = cv2.addWeighted(warpage, 1, template, 0.5, 0.0) # overlay the orignal road image with window results\n",
    "\n",
    "    # If no window centers found, just display orginal road image\n",
    "    else:\n",
    "        output = np.array(cv2.merge((warped,warped,warped)),np.uint8)\n",
    "\n",
    "    # Display the final results\n",
    "#     plt.imshow(output)\n",
    "#     plt.title('window fitting results')\n",
    "#     plt.show()\n",
    "    return output\n",
    "\n",
    "\n",
    "\n",
    "def plot_trusted(warped, window_centroids):\n",
    "    if len(window_centroids) > 0:\n",
    "\n",
    "        # Points used to draw all the left and right windows\n",
    "        l_points = np.zeros_like(warped)\n",
    "        #r_points = np.zeros_like(warped)\n",
    "\n",
    "        # Go through each level and draw the windows \t\n",
    "        for ite in range(0,len(window_centroids)):\n",
    "            # Window_mask is a function to draw window areas\n",
    "            level = window_centroids[ite][0]\n",
    "            l_mask = window_mask(window_width,window_height,warped,window_centroids[ite][1],level)\n",
    "            #r_mask = window_mask(window_width,window_height,warped,window_centroids[level][1],level)\n",
    "            # Add graphic points from window mask here to total pixels found \n",
    "            l_points[(l_points == 255) | ((l_mask == 1) ) ] = 255\n",
    "            #r_points[(r_points == 255) | ((r_mask == 1) ) ] = 255\n",
    "\n",
    "        # Draw the results\n",
    "        template = np.array(l_points,np.uint8) # add both left and right window pixels together\n",
    "        zero_channel = np.zeros_like(template) # create a zero color channel\n",
    "        template = np.array(cv2.merge((zero_channel,template,zero_channel)),np.uint8) # make window pixels green\n",
    "        warpage = np.array(cv2.merge((warped,warped,warped)),np.uint8) # making the original road pixels 3 color channels\n",
    "        output = cv2.addWeighted(warpage, 1, template, 0.5, 0.0) # overlay the orignal road image with window results\n",
    "\n",
    "    # If no window centers found, just display orginal road image\n",
    "    else:\n",
    "        output = np.array(cv2.merge((warped,warped,warped)),np.uint8)\n",
    "\n",
    "    # Display the final results\n",
    "#     plt.imshow(output)\n",
    "#     plt.title('window fitting results')\n",
    "#     plt.show()\n",
    "    return output   \n",
    "\n",
    "\n",
    "# Sliding windows\n",
    "\n",
    "def sliding_windows(binary_warped):\n",
    "    # Assuming you have created a warped binary image called \"binary_warped\"\n",
    "    # Take a histogram of the bottom half of the image\n",
    "    histogram = np.sum(binary_warped[binary_warped.shape[0]//2:,:], axis=0)\n",
    "    # Create an output image to draw on and  visualize the result\n",
    "    out_img = np.dstack((binary_warped, binary_warped, binary_warped))*255\n",
    "    # Find the peak of the left and right halves of the histogram\n",
    "    # These will be the starting point for the left and right lines\n",
    "    midpoint = np.int(histogram.shape[0]//2)\n",
    "    leftx_base = np.argmax(histogram[:midpoint])\n",
    "    rightx_base = np.argmax(histogram[midpoint:]) + midpoint\n",
    "\n",
    "    # Choose the number of sliding windows\n",
    "    nwindows = 9\n",
    "    # Set height of windows\n",
    "    window_height = np.int(binary_warped.shape[0]/nwindows)\n",
    "    # Identify the x and y positions of all nonzero pixels in the image\n",
    "    nonzero = binary_warped.nonzero()\n",
    "    nonzeroy = np.array(nonzero[0])\n",
    "    nonzerox = np.array(nonzero[1])\n",
    "    # Current positions to be updated for each window\n",
    "    leftx_current = leftx_base\n",
    "    rightx_current = rightx_base\n",
    "    # Set the width of the windows +/- margin\n",
    "    margin = 100\n",
    "    # Set minimum number of pixels found to recenter window\n",
    "    minpix = 50\n",
    "    # Create empty lists to receive left and right lane pixel indices\n",
    "    left_lane_inds = []\n",
    "    right_lane_inds = []\n",
    "    \n",
    "    # Step through the windows one by one\n",
    "    for window in range(nwindows):\n",
    "        # Identify window boundaries in x and y (and right and left)\n",
    "        win_y_low = binary_warped.shape[0] - (window+1)*window_height\n",
    "        win_y_high = binary_warped.shape[0] - window*window_height\n",
    "        win_xleft_low = leftx_current - margin\n",
    "        win_xleft_high = leftx_current + margin\n",
    "        win_xright_low = rightx_current - margin\n",
    "        win_xright_high = rightx_current + margin\n",
    "        # Draw the windows on the visualization image\n",
    "        cv2.rectangle(out_img,(win_xleft_low,win_y_low),(win_xleft_high,win_y_high),\n",
    "        (0,255,0), 2) \n",
    "        cv2.rectangle(out_img,(win_xright_low,win_y_low),(win_xright_high,win_y_high),\n",
    "        (0,255,0), 2) \n",
    "        # Identify the nonzero pixels in x and y within the window\n",
    "        good_left_inds = ((nonzeroy >= win_y_low) & (nonzeroy < win_y_high) & \n",
    "        (nonzerox >= win_xleft_low) &  (nonzerox < win_xleft_high)).nonzero()[0]\n",
    "        good_right_inds = ((nonzeroy >= win_y_low) & (nonzeroy < win_y_high) & \n",
    "        (nonzerox >= win_xright_low) &  (nonzerox < win_xright_high)).nonzero()[0]\n",
    "        # Append these indices to the lists\n",
    "        left_lane_inds.append(good_left_inds)\n",
    "        right_lane_inds.append(good_right_inds)\n",
    "        # If you found > minpix pixels, recenter next window on their mean position\n",
    "        if len(good_left_inds) > minpix:\n",
    "            leftx_current = np.int(np.mean(nonzerox[good_left_inds]))\n",
    "        if len(good_right_inds) > minpix:        \n",
    "            rightx_current = np.int(np.mean(nonzerox[good_right_inds]))\n",
    "\n",
    "    # Concatenate the arrays of indices\n",
    "    left_lane_inds = np.concatenate(left_lane_inds)\n",
    "    right_lane_inds = np.concatenate(right_lane_inds)\n",
    "\n",
    "    # Extract left and right line pixel positions\n",
    "    leftx = nonzerox[left_lane_inds]\n",
    "    lefty = nonzeroy[left_lane_inds] \n",
    "    rightx = nonzerox[right_lane_inds]\n",
    "    righty = nonzeroy[right_lane_inds] \n",
    "    \n",
    "#     pts_x = []\n",
    "#     pts_y = []\n",
    "#     for i in range(720):\n",
    "#         pts_x.append(rightx[i])\n",
    "#         pts_y.append(righty[i])\n",
    "#         pts_x.append(leftx[i])\n",
    "#         pts_y.append(lefty[i])\n",
    "#     A = np.zeros_like(out_img)\n",
    "#     plt.figure()\n",
    "#     plt.imshow(A)\n",
    "#     plt.plot(pts_x,pts_y, 'x')\n",
    "\n",
    "    \n",
    "    # Fit a second order polynomial to each\n",
    "#     weights1 = np.zeros_like(lefty)\n",
    "#     weights2 = np.zeros_like(righty)\n",
    "#     S1 = weights1.size\n",
    "#     S2 = weights2.size\n",
    "   # weights1[0] = 20\n",
    "    #weights2[0] = 20\n",
    "#     leftmin = np.min(lefty)\n",
    "#     rightmin = np.min(righty)\n",
    "#     for i in range(0,S1):\n",
    "#         #weights1[i] = 2 - 1/(S1-1)  \n",
    "#         weights1[i] = lefty[i]-leftmin\n",
    "#     for i in range(0,S2):\n",
    "#         #weights2[i] = 2 - 1/(S2-1)\n",
    "#         weights2[i] = righty[i] - rightmin\n",
    "    \n",
    "#    left_fit = np.polyfit(lefty, leftx, 2, w=weights1)\n",
    "#    right_fit = np.polyfit(righty, rightx, 2, w=weights2)\n",
    "    \n",
    "    left_fit = np.polyfit(lefty,leftx,2)\n",
    "    right_fit = np.polyfit(righty,rightx,2)\n",
    "    \n",
    "    return left_fit, right_fit, out_img, nonzerox, nonzeroy, left_lane_inds, right_lane_inds\n",
    "\n",
    "\n",
    "def pipeline_adv(img):\n",
    "    global safe_lines_x\n",
    "    global history_n_feat, flag_hist\n",
    " \n",
    "    img = cv2.undistort(img, mtx, dist, None, mtx)\n",
    "    undistorted_img = img\n",
    "\n",
    "    X = cv2.warpPerspective(img, M, img_size, flags=cv2.INTER_LINEAR)\n",
    "    gray = cv2.cvtColor(X, cv2.COLOR_RGB2GRAY)\n",
    "\n",
    "    if iteration_adv > 1:\n",
    "        s1 = safe_lines_x[0] #left_l\n",
    "        s2 = safe_lines_x[1] #left_r\n",
    "        s3 = safe_lines_x[2] #right_l\n",
    "        s4 = safe_lines_x[3] #right_r\n",
    "\n",
    "        s_l = []\n",
    "        for i in range(720):\n",
    "            s_l.append([int(s1[719-i]), 719-i])\n",
    "            #plt.plot(int(s1[719-i]), 719-i, 'r.')\n",
    "        for i in range(720):\n",
    "            s_l.append([int(s2[i]), i])\n",
    "            #plt.plot(int(s2[i]), i, 'b.')\n",
    "        s_r = []\n",
    "        for i in range(720):\n",
    "            s_r.append([int(s3[719-i]), 719-i])\n",
    "            #plt.plot(int(s3[719-i]), 719-i, 'g.')\n",
    "        for i in range(720):\n",
    "            s_r.append([int(s4[i]), i])\n",
    "            #plt.plot(int(s4[i]), i, 'y.')\n",
    "\n",
    "    hls = cv2.cvtColor(X, cv2.COLOR_RGB2HLS)    \n",
    "    \n",
    "#     plt.figure()\n",
    "#     plt.imshow(X)\n",
    "#     plt.figure()\n",
    "#     plt.imshow(hls)\n",
    "    S = hls[:,:,2]\n",
    "    R = X[:,:,0]\n",
    "    \n",
    "    F = np.zeros_like(R)\n",
    "\n",
    "    mag = mag_thresh(X, 3, mag_thresh=(10,255), input_gray='no')\n",
    "    sobel_x = sobel(X, 'x', 12, 255, 3, 'no')\n",
    "    \n",
    "    \n",
    "    F[(S>=180) | (R>=170) | (gray>=165) | (mag==1) | (sobel_x==1)] = 1\n",
    "    F = cv2.medianBlur(F, 15)\n",
    "#     fig, subfig = plt.subplots(1,3,figsize=(40,30))\n",
    "#     subfig[0].imshow(X)\n",
    "#     subfig[1].imshow(F, 'gray')\n",
    "#     G = np.zeros_like(R)\n",
    "#     G[(S>=180)  | (sobel_x==1)] = 1\n",
    "#     G = cv2.medianBlur(G, 15)\n",
    "#     subfig[2].imshow(G, 'gray')\n",
    "    \n",
    "#     plt.figure()\n",
    "#     plt.imshow(gray, 'gray')\n",
    "    \n",
    "    if iteration_adv > 1:\n",
    "        F1 = region_of_interest(F, np.array([s_l]))\n",
    "        F2 = region_of_interest(F, np.array([s_r]))\n",
    "        F = np.maximum(F1,F2)     \n",
    "    \n",
    "    if np.sum(F) < 1.5*10**4:\n",
    "        flag = 'VeryBad'\n",
    "        history_n_feat.append(np.sum(F))\n",
    "        flag_hist.append(flag)\n",
    "        return F, flag, undistorted_img        \n",
    "    \n",
    "    if np.sum(F) < 6*10**4:\n",
    "        flag = 'Good'\n",
    "#         print(flag)\n",
    "#         plt.figure()\n",
    "#         plt.imshow(F)\n",
    "        history_n_feat.append(np.sum(F))\n",
    "        flag_hist.append(flag)\n",
    "        return F, flag, undistorted_img\n",
    "    else:\n",
    "        flag = 'Bad' \n",
    "#         print(flag)\n",
    "#         plt.figure()\n",
    "#         plt.imshow(F)\n",
    "        F = np.zeros_like(R)                \n",
    "        F[(S>=180)  | (sobel_x==1)] = 1\n",
    "        F = cv2.medianBlur(F, 15)\n",
    "        if iteration_adv > 1:\n",
    "            F1 = region_of_interest(F, np.array([s_l]))\n",
    "            F2 = region_of_interest(F, np.array([s_r]))\n",
    "            F = np.maximum(F1,F2) \n",
    "        history_n_feat.append(np.sum(F))\n",
    "        if np.sum(F) > 6*10**4 or np.sum(F) < 1.5*10**4:\n",
    "            flag = 'VeryBad'\n",
    "            flag_hist.append(flag)\n",
    "            #print(flag)\n",
    "        else:\n",
    "            flag_hist.append(flag)\n",
    "        return F, flag, undistorted_img\n",
    "    \n",
    "def process_img_adv(img, boxes):\n",
    "    global org_center\n",
    "    global left_fit, right_fit\n",
    "    global left_coef, right_coef\n",
    "    global iteration_adv\n",
    "    global safe_lines_x\n",
    "    global org_hist\n",
    "    global left_fitx, right_fitx\n",
    "    \n",
    "    if iteration_adv == 1:\n",
    "        \n",
    "        F, flag, undist = pipeline_adv(img)\n",
    "        left_fit, right_fit, out_img, nonzerox, nonzeroy, left_lane_inds, right_lane_inds = sliding_windows(F)\n",
    "        \n",
    "        ploty = np.linspace(0, F.shape[0]-1, F.shape[0] )\n",
    "        left_fitx  = left_fit[0] *ploty**2 + left_fit[1] *ploty + left_fit[2]\n",
    "        right_fitx = right_fit[0]*ploty**2 + right_fit[1]*ploty + right_fit[2]\n",
    "                              \n",
    "        # left and right safe zone\n",
    "        sz = 80     \n",
    "        safe_left_lx = left_fitx - sz\n",
    "        safe_left_rx = left_fitx + sz \n",
    "        safe_right_lx = right_fitx - sz\n",
    "        safe_right_rx = right_fitx + sz\n",
    "        safe_lines_x = [safe_left_lx,safe_left_rx,safe_right_lx,safe_right_rx]\n",
    "                \n",
    "        left_coef.append(left_fit)\n",
    "        right_coef.append(right_fit)\n",
    "        \n",
    "        \n",
    "        if len(left_coef) > 13:\n",
    "            left_coef.pop(0)\n",
    "        if len(right_coef) > 13:\n",
    "            right_coef.pop(0)\n",
    "                    \n",
    "        left_fit = np.mean(left_coef, axis=0)\n",
    "        right_fit = np.mean(right_coef, axis=0)\n",
    "        \n",
    "        org_center = (left_fit[0] *719**2 + left_fit[1] *719 + left_fit[2], right_fit[0]*719**2 + right_fit[1]*719 + right_fit[2])\n",
    "        start_center = org_center\n",
    "        result = project_on_lines(img, undist, F, left_fitx, right_fitx, ploty, org_center,'yes', safe_lines_x, boxes)\n",
    "        org_hist = [org_center]\n",
    "        \n",
    "        iteration_adv += 1\n",
    "       \n",
    "        \n",
    "        # Calculate center\n",
    "        center = right_fitx[719] - left_fitx[719]\n",
    "        offset = center - 1280/2\n",
    "        offset *= 3.7/700\n",
    "\n",
    "        # Draw text on result\n",
    "        left_curve, right_curve = calc_curvature2(left_fitx, right_fitx)\n",
    "        left_curve = int(left_curve)\n",
    "        right_curve = int(right_curve)\n",
    "\n",
    "        if left_curve > 9999:\n",
    "            left_curve = 9999\n",
    "        if right_curve > 9999:\n",
    "            right_curve = 9999\n",
    "\n",
    "        img_to_write = Image.fromarray(result)\n",
    "        draw = ImageDraw.Draw(img_to_write)\n",
    "        fnt = ImageFont.truetype('SourceCodePro-Bold.otf', 15)\n",
    "        draw.text((50, 50), \"Radius of Curvature:\",(255,255,255), font=fnt)\n",
    "\n",
    "        draw.text((50, 75), \"Left:\",(255,255,255), font=fnt)\n",
    "        draw.text((120, 75), \"{:.0f} m\".format(left_curve),(255,255,255), font=fnt)\n",
    "\n",
    "        draw.text((50, 100), \"Right:\",(255,255,255), font=fnt)\n",
    "        draw.text((120, 100), \"{:.0f} m\".format(right_curve),(255,255,255), font=fnt)\n",
    "\n",
    "        draw.text((50, 150),\"Offset from center:\",(255,255,255), font=fnt)\n",
    "        draw.text((50, 175),\"{:.3f} m\".format(offset),(255,255,255), font=fnt)\n",
    "\n",
    "        result = np.array(list(img_to_write.getdata()))\n",
    "        result = result.reshape((720, 1280,3))\n",
    "        \n",
    "        return result\n",
    "    else:\n",
    "        \n",
    "        F, flag, undist = pipeline_adv(img)\n",
    "        \n",
    "        if flag == 'VeryBad':\n",
    "            left_fit = np.mean(left_coef, axis=0)\n",
    "            right_fit = np.mean(right_coef, axis=0)            \n",
    "        else:\n",
    "            s1 = safe_lines_x[0] #left_l\n",
    "            s2 = safe_lines_x[1] #left_r\n",
    "            s3 = safe_lines_x[2] #right_l\n",
    "            s4 = safe_lines_x[3] #right_r\n",
    "            s = []\n",
    "            for i in range(720):\n",
    "                s.append([int(s1[719-i]), 719-i])\n",
    "                #plt.plot(int(s1[719-i]), 719-i, 'r.')\n",
    "            for i in range(720):\n",
    "                s.append([int(s2[i]), i])\n",
    "                #plt.plot(int(s2[i]), i, 'b.')\n",
    "            F_left = region_of_interest(F, np.array([s]))\n",
    "\n",
    "            s = []\n",
    "            for i in range(720):\n",
    "                s.append([int(s3[719-i]), 719-i])\n",
    "                #plt.plot(int(s3[719-i]), 719-i, 'g.')\n",
    "            for i in range(720):\n",
    "                s.append([int(s4[i]), i])\n",
    "                #plt.plot(int(s4[i]), i, 'y.')\n",
    "            F_right = region_of_interest(F, np.array([s]))\n",
    "\n",
    "\n",
    "            F_left_pts  = np.where(F_left  == 1)\n",
    "            F_right_pts = np.where(F_right == 1)\n",
    "\n",
    "    #         print(len(F_left_pts))\n",
    "    #         print(F_left_pts[0])\n",
    "\n",
    "            left_pts_y = F_left_pts[0]\n",
    "            left_pts_x = F_left_pts[1]\n",
    "            right_pts_y = F_right_pts[0]\n",
    "            right_pts_x = F_right_pts[1]\n",
    "\n",
    " \n",
    "\n",
    "            left_fit = np.polyfit(left_pts_y, left_pts_x, 2)#, w = weights_left)\n",
    "            right_fit = np.polyfit(right_pts_y, right_pts_x, 2)#, w = weights_right)\n",
    "\n",
    "\n",
    "\n",
    "            left_coef.append(left_fit)\n",
    "            right_coef.append(right_fit)\n",
    "            if len(left_coef) > 15:\n",
    "                left_coef.pop(0)\n",
    "            if len(right_coef) > 15:\n",
    "                right_coef.pop(0)    \n",
    "\n",
    "            left_fit = np.mean(left_coef, axis=0)\n",
    "            right_fit = np.mean(right_coef, axis=0)\n",
    "\n",
    "        \n",
    "        ploty = np.linspace(0, F.shape[0]-1, F.shape[0] )\n",
    "        left_fitx  = left_fit[0] *ploty**2 + left_fit[1] *ploty + left_fit[2]\n",
    "        right_fitx = right_fit[0]*ploty**2 + right_fit[1]*ploty + right_fit[2]\n",
    "                              \n",
    "        # left and right safe zone\n",
    "        sz = 80 # parameter for safe zone size    \n",
    "        safe_left_lx = left_fitx - sz\n",
    "        safe_left_rx = left_fitx + sz \n",
    "        safe_right_lx = right_fitx - sz\n",
    "        safe_right_rx = right_fitx + sz\n",
    "        safe_lines_x = [safe_left_lx,safe_left_rx,safe_right_lx,safe_right_rx]\n",
    "        \n",
    "        \n",
    "        org_center = (left_fit[0] *719**2 + left_fit[1] *719 + left_fit[2], right_fit[0]*719**2 + right_fit[1]*719 + right_fit[2])\n",
    "\n",
    "        result = project_on_lines(img, undist, F, left_fitx, right_fitx, ploty, org_center,'yes', safe_lines_x, boxes)\n",
    "        org_hist.append(org_center)\n",
    "        \n",
    "        iteration_adv += 1\n",
    "        \n",
    "        \n",
    "        # Calculate center\n",
    "        center = right_fitx[719] - left_fitx[719]\n",
    "        offset = center - 1280/2\n",
    "        offset *= 3.7/700\n",
    "\n",
    "        # Draw text on result\n",
    "        left_curve, right_curve = calc_curvature2(left_fitx, right_fitx)\n",
    "        left_curve = int(left_curve)\n",
    "        right_curve = int(right_curve)\n",
    "\n",
    "        if left_curve > 9999:\n",
    "            left_curve = 9999\n",
    "        if right_curve > 9999:\n",
    "            right_curve = 9999\n",
    "\n",
    "        img_to_write = Image.fromarray(result)\n",
    "        draw = ImageDraw.Draw(img_to_write)\n",
    "        fnt = ImageFont.truetype('SourceCodePro-Bold.otf', 15)\n",
    "        draw.text((50, 50), \"Radius of Curvature:\",(255,255,255), font=fnt)\n",
    "\n",
    "        draw.text((50, 75), \"Left:\",(255,255,255), font=fnt)\n",
    "        draw.text((120, 75), \"{:.0f} m\".format(left_curve),(255,255,255), font=fnt)\n",
    "\n",
    "        draw.text((50, 100), \"Right:\",(255,255,255), font=fnt)\n",
    "        draw.text((120, 100), \"{:.0f} m\".format(right_curve),(255,255,255), font=fnt)\n",
    "\n",
    "        draw.text((50, 150),\"Offset from center:\",(255,255,255), font=fnt)\n",
    "        draw.text((50, 175),\"{:.3f} m\".format(offset),(255,255,255), font=fnt)\n",
    "        \n",
    "        draw.text((50, 225),\"Quality of feature map:\",(255,255,255), font=fnt)\n",
    "        draw.text((50, 250),flag,(255,255,255), font=fnt)\n",
    "\n",
    "        result = np.array(list(img_to_write.getdata()))\n",
    "        result = result.reshape((720, 1280,3))\n",
    "        \n",
    "        #result = np.dstack((F, F, F)) * 255\n",
    "        \n",
    "        return result\n",
    "    \n",
    "    "
   ]
  }
 ],
 "metadata": {
  "kernelspec": {
   "display_name": "Python 3",
   "language": "python",
   "name": "python3"
  },
  "language_info": {
   "codemirror_mode": {
    "name": "ipython",
    "version": 3
   },
   "file_extension": ".py",
   "mimetype": "text/x-python",
   "name": "python",
   "nbconvert_exporter": "python",
   "pygments_lexer": "ipython3",
   "version": "3.5.2"
  },
  "widgets": {
   "state": {},
   "version": "1.1.2"
  }
 },
 "nbformat": 4,
 "nbformat_minor": 2
}
